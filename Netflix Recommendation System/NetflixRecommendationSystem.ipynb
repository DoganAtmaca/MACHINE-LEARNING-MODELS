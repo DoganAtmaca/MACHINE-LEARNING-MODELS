{
 "cells": [
  {
   "cell_type": "markdown",
   "id": "74a6ad7b-581f-4435-b019-c156c29418ee",
   "metadata": {},
   "source": [
    "BU PROJEDE NETFLIX'İN İLGİ ALANLARINA GÖRE DİZİ VE FİLM ÖNERİLERİ SUNMA İŞİNİ NASIL YAPTIĞINI BASİT ŞEKLİYLE YAPMAYA ÇALIŞACAĞIZ."
   ]
  },
  {
   "cell_type": "code",
   "execution_count": 40,
   "id": "81f5e53a-aa8c-4f5d-9958-89e4db95e09b",
   "metadata": {},
   "outputs": [],
   "source": [
    "import pandas as pd\n",
    "from sklearn.feature_extraction.text import TfidfVectorizer\n",
    "from sklearn.metrics.pairwise import cosine_similarity"
   ]
  },
  {
   "cell_type": "code",
   "execution_count": 22,
   "id": "28f67fa4-5e8b-4913-952e-5c356580d2e3",
   "metadata": {},
   "outputs": [],
   "source": [
    "data=pd.read_csv('netflixData.csv')"
   ]
  },
  {
   "cell_type": "code",
   "execution_count": 23,
   "id": "ce77e150-a799-44fc-870e-a16fd93c37cd",
   "metadata": {},
   "outputs": [
    {
     "data": {
      "text/html": [
       "<div>\n",
       "<style scoped>\n",
       "    .dataframe tbody tr th:only-of-type {\n",
       "        vertical-align: middle;\n",
       "    }\n",
       "\n",
       "    .dataframe tbody tr th {\n",
       "        vertical-align: top;\n",
       "    }\n",
       "\n",
       "    .dataframe thead th {\n",
       "        text-align: right;\n",
       "    }\n",
       "</style>\n",
       "<table border=\"1\" class=\"dataframe\">\n",
       "  <thead>\n",
       "    <tr style=\"text-align: right;\">\n",
       "      <th></th>\n",
       "      <th>Show Id</th>\n",
       "      <th>Title</th>\n",
       "      <th>Description</th>\n",
       "      <th>Director</th>\n",
       "      <th>Genres</th>\n",
       "      <th>Cast</th>\n",
       "      <th>Production Country</th>\n",
       "      <th>Release Date</th>\n",
       "      <th>Rating</th>\n",
       "      <th>Duration</th>\n",
       "      <th>Imdb Score</th>\n",
       "      <th>Content Type</th>\n",
       "      <th>Date Added</th>\n",
       "    </tr>\n",
       "  </thead>\n",
       "  <tbody>\n",
       "    <tr>\n",
       "      <th>0</th>\n",
       "      <td>cc1b6ed9-cf9e-4057-8303-34577fb54477</td>\n",
       "      <td>(Un)Well</td>\n",
       "      <td>This docuseries takes a deep dive into the luc...</td>\n",
       "      <td>NaN</td>\n",
       "      <td>Reality TV</td>\n",
       "      <td>NaN</td>\n",
       "      <td>United States</td>\n",
       "      <td>2020.0</td>\n",
       "      <td>TV-MA</td>\n",
       "      <td>1 Season</td>\n",
       "      <td>6.6/10</td>\n",
       "      <td>TV Show</td>\n",
       "      <td>NaN</td>\n",
       "    </tr>\n",
       "    <tr>\n",
       "      <th>1</th>\n",
       "      <td>e2ef4e91-fb25-42ab-b485-be8e3b23dedb</td>\n",
       "      <td>#Alive</td>\n",
       "      <td>As a grisly virus rampages a city, a lone man ...</td>\n",
       "      <td>Cho Il</td>\n",
       "      <td>Horror Movies, International Movies, Thrillers</td>\n",
       "      <td>Yoo Ah-in, Park Shin-hye</td>\n",
       "      <td>South Korea</td>\n",
       "      <td>2020.0</td>\n",
       "      <td>TV-MA</td>\n",
       "      <td>99 min</td>\n",
       "      <td>6.2/10</td>\n",
       "      <td>Movie</td>\n",
       "      <td>September 8, 2020</td>\n",
       "    </tr>\n",
       "    <tr>\n",
       "      <th>2</th>\n",
       "      <td>b01b73b7-81f6-47a7-86d8-acb63080d525</td>\n",
       "      <td>#AnneFrank - Parallel Stories</td>\n",
       "      <td>Through her diary, Anne Frank's story is retol...</td>\n",
       "      <td>Sabina Fedeli, Anna Migotto</td>\n",
       "      <td>Documentaries, International Movies</td>\n",
       "      <td>Helen Mirren, Gengher Gatti</td>\n",
       "      <td>Italy</td>\n",
       "      <td>2019.0</td>\n",
       "      <td>TV-14</td>\n",
       "      <td>95 min</td>\n",
       "      <td>6.4/10</td>\n",
       "      <td>Movie</td>\n",
       "      <td>July 1, 2020</td>\n",
       "    </tr>\n",
       "    <tr>\n",
       "      <th>3</th>\n",
       "      <td>b6611af0-f53c-4a08-9ffa-9716dc57eb9c</td>\n",
       "      <td>#blackAF</td>\n",
       "      <td>Kenya Barris and his family navigate relations...</td>\n",
       "      <td>NaN</td>\n",
       "      <td>TV Comedies</td>\n",
       "      <td>Kenya Barris, Rashida Jones, Iman Benson, Genn...</td>\n",
       "      <td>United States</td>\n",
       "      <td>2020.0</td>\n",
       "      <td>TV-MA</td>\n",
       "      <td>1 Season</td>\n",
       "      <td>6.6/10</td>\n",
       "      <td>TV Show</td>\n",
       "      <td>NaN</td>\n",
       "    </tr>\n",
       "    <tr>\n",
       "      <th>4</th>\n",
       "      <td>7f2d4170-bab8-4d75-adc2-197f7124c070</td>\n",
       "      <td>#cats_the_mewvie</td>\n",
       "      <td>This pawesome documentary explores how our fel...</td>\n",
       "      <td>Michael Margolis</td>\n",
       "      <td>Documentaries, International Movies</td>\n",
       "      <td>NaN</td>\n",
       "      <td>Canada</td>\n",
       "      <td>2020.0</td>\n",
       "      <td>TV-14</td>\n",
       "      <td>90 min</td>\n",
       "      <td>5.1/10</td>\n",
       "      <td>Movie</td>\n",
       "      <td>February 5, 2020</td>\n",
       "    </tr>\n",
       "  </tbody>\n",
       "</table>\n",
       "</div>"
      ],
      "text/plain": [
       "                                Show Id                          Title  \\\n",
       "0  cc1b6ed9-cf9e-4057-8303-34577fb54477                       (Un)Well   \n",
       "1  e2ef4e91-fb25-42ab-b485-be8e3b23dedb                         #Alive   \n",
       "2  b01b73b7-81f6-47a7-86d8-acb63080d525  #AnneFrank - Parallel Stories   \n",
       "3  b6611af0-f53c-4a08-9ffa-9716dc57eb9c                       #blackAF   \n",
       "4  7f2d4170-bab8-4d75-adc2-197f7124c070               #cats_the_mewvie   \n",
       "\n",
       "                                         Description  \\\n",
       "0  This docuseries takes a deep dive into the luc...   \n",
       "1  As a grisly virus rampages a city, a lone man ...   \n",
       "2  Through her diary, Anne Frank's story is retol...   \n",
       "3  Kenya Barris and his family navigate relations...   \n",
       "4  This pawesome documentary explores how our fel...   \n",
       "\n",
       "                      Director  \\\n",
       "0                          NaN   \n",
       "1                       Cho Il   \n",
       "2  Sabina Fedeli, Anna Migotto   \n",
       "3                          NaN   \n",
       "4             Michael Margolis   \n",
       "\n",
       "                                           Genres  \\\n",
       "0                                      Reality TV   \n",
       "1  Horror Movies, International Movies, Thrillers   \n",
       "2             Documentaries, International Movies   \n",
       "3                                     TV Comedies   \n",
       "4             Documentaries, International Movies   \n",
       "\n",
       "                                                Cast Production Country  \\\n",
       "0                                                NaN      United States   \n",
       "1                           Yoo Ah-in, Park Shin-hye        South Korea   \n",
       "2                        Helen Mirren, Gengher Gatti              Italy   \n",
       "3  Kenya Barris, Rashida Jones, Iman Benson, Genn...      United States   \n",
       "4                                                NaN             Canada   \n",
       "\n",
       "   Release Date Rating  Duration Imdb Score Content Type         Date Added  \n",
       "0        2020.0  TV-MA  1 Season     6.6/10      TV Show                NaN  \n",
       "1        2020.0  TV-MA    99 min     6.2/10        Movie  September 8, 2020  \n",
       "2        2019.0  TV-14    95 min     6.4/10        Movie       July 1, 2020  \n",
       "3        2020.0  TV-MA  1 Season     6.6/10      TV Show                NaN  \n",
       "4        2020.0  TV-14    90 min     5.1/10        Movie   February 5, 2020  "
      ]
     },
     "execution_count": 23,
     "metadata": {},
     "output_type": "execute_result"
    }
   ],
   "source": [
    "data.head()"
   ]
  },
  {
   "cell_type": "code",
   "execution_count": 24,
   "id": "d42eafa7-b3a9-4286-b8f8-9256f3074ea4",
   "metadata": {},
   "outputs": [
    {
     "data": {
      "text/plain": [
       "Show Id                  0\n",
       "Title                    0\n",
       "Description              0\n",
       "Director              2064\n",
       "Genres                   0\n",
       "Cast                   530\n",
       "Production Country     559\n",
       "Release Date             3\n",
       "Rating                   4\n",
       "Duration                 3\n",
       "Imdb Score             608\n",
       "Content Type             0\n",
       "Date Added            1335\n",
       "dtype: int64"
      ]
     },
     "execution_count": 24,
     "metadata": {},
     "output_type": "execute_result"
    }
   ],
   "source": [
    "#BOŞ OLAN SÜTUNLARI KONTROL EDİYORUZ.\n",
    "data.isnull().sum()"
   ]
  },
  {
   "cell_type": "code",
   "execution_count": 25,
   "id": "0f75da1f-3875-47fd-87f4-f124f34cf99e",
   "metadata": {},
   "outputs": [],
   "source": [
    "#BOŞ OLDUĞUNU GÖRDÜĞÜMÜZ SÜTUNLARI DATADAN ÇIKARIP SADECE DOLU OLANLARI ALIYORUZ.\n",
    "data = data[[\"Title\", \"Description\", \"Content Type\", \"Genres\"]]"
   ]
  },
  {
   "cell_type": "code",
   "execution_count": 26,
   "id": "a98d7a0a-e666-46b4-8aad-33775ae5627c",
   "metadata": {},
   "outputs": [
    {
     "data": {
      "text/html": [
       "<div>\n",
       "<style scoped>\n",
       "    .dataframe tbody tr th:only-of-type {\n",
       "        vertical-align: middle;\n",
       "    }\n",
       "\n",
       "    .dataframe tbody tr th {\n",
       "        vertical-align: top;\n",
       "    }\n",
       "\n",
       "    .dataframe thead th {\n",
       "        text-align: right;\n",
       "    }\n",
       "</style>\n",
       "<table border=\"1\" class=\"dataframe\">\n",
       "  <thead>\n",
       "    <tr style=\"text-align: right;\">\n",
       "      <th></th>\n",
       "      <th>Title</th>\n",
       "      <th>Description</th>\n",
       "      <th>Content Type</th>\n",
       "      <th>Genres</th>\n",
       "    </tr>\n",
       "  </thead>\n",
       "  <tbody>\n",
       "    <tr>\n",
       "      <th>0</th>\n",
       "      <td>(Un)Well</td>\n",
       "      <td>This docuseries takes a deep dive into the luc...</td>\n",
       "      <td>TV Show</td>\n",
       "      <td>Reality TV</td>\n",
       "    </tr>\n",
       "    <tr>\n",
       "      <th>1</th>\n",
       "      <td>#Alive</td>\n",
       "      <td>As a grisly virus rampages a city, a lone man ...</td>\n",
       "      <td>Movie</td>\n",
       "      <td>Horror Movies, International Movies, Thrillers</td>\n",
       "    </tr>\n",
       "    <tr>\n",
       "      <th>2</th>\n",
       "      <td>#AnneFrank - Parallel Stories</td>\n",
       "      <td>Through her diary, Anne Frank's story is retol...</td>\n",
       "      <td>Movie</td>\n",
       "      <td>Documentaries, International Movies</td>\n",
       "    </tr>\n",
       "    <tr>\n",
       "      <th>3</th>\n",
       "      <td>#blackAF</td>\n",
       "      <td>Kenya Barris and his family navigate relations...</td>\n",
       "      <td>TV Show</td>\n",
       "      <td>TV Comedies</td>\n",
       "    </tr>\n",
       "    <tr>\n",
       "      <th>4</th>\n",
       "      <td>#cats_the_mewvie</td>\n",
       "      <td>This pawesome documentary explores how our fel...</td>\n",
       "      <td>Movie</td>\n",
       "      <td>Documentaries, International Movies</td>\n",
       "    </tr>\n",
       "  </tbody>\n",
       "</table>\n",
       "</div>"
      ],
      "text/plain": [
       "                           Title  \\\n",
       "0                       (Un)Well   \n",
       "1                         #Alive   \n",
       "2  #AnneFrank - Parallel Stories   \n",
       "3                       #blackAF   \n",
       "4               #cats_the_mewvie   \n",
       "\n",
       "                                         Description Content Type  \\\n",
       "0  This docuseries takes a deep dive into the luc...      TV Show   \n",
       "1  As a grisly virus rampages a city, a lone man ...        Movie   \n",
       "2  Through her diary, Anne Frank's story is retol...        Movie   \n",
       "3  Kenya Barris and his family navigate relations...      TV Show   \n",
       "4  This pawesome documentary explores how our fel...        Movie   \n",
       "\n",
       "                                           Genres  \n",
       "0                                      Reality TV  \n",
       "1  Horror Movies, International Movies, Thrillers  \n",
       "2             Documentaries, International Movies  \n",
       "3                                     TV Comedies  \n",
       "4             Documentaries, International Movies  "
      ]
     },
     "execution_count": 26,
     "metadata": {},
     "output_type": "execute_result"
    }
   ],
   "source": [
    "data.head()"
   ]
  },
  {
   "cell_type": "code",
   "execution_count": 27,
   "id": "8f593f9c-1f84-4818-9a92-d3249e38aff0",
   "metadata": {},
   "outputs": [],
   "source": [
    "import nltk\n",
    "import re\n",
    "import string"
   ]
  },
  {
   "cell_type": "code",
   "execution_count": 28,
   "id": "728500e1-767f-40de-b214-7927ec8aa1d8",
   "metadata": {},
   "outputs": [
    {
     "name": "stderr",
     "output_type": "stream",
     "text": [
      "[nltk_data] Downloading package stopwords to\n",
      "[nltk_data]     C:\\Users\\PC\\AppData\\Roaming\\nltk_data...\n",
      "[nltk_data]   Package stopwords is already up-to-date!\n"
     ]
    },
    {
     "data": {
      "text/plain": [
       "True"
      ]
     },
     "execution_count": 28,
     "metadata": {},
     "output_type": "execute_result"
    }
   ],
   "source": [
    "nltk.download('stopwords')"
   ]
  },
  {
   "cell_type": "code",
   "execution_count": 29,
   "id": "ff2b7a97-5aad-4c83-bded-c8cd8eb9d8f8",
   "metadata": {},
   "outputs": [],
   "source": [
    "from nltk.corpus import stopwords"
   ]
  },
  {
   "cell_type": "code",
   "execution_count": 30,
   "id": "0f446a84-5b2f-4446-a0d4-86fe1e3859c2",
   "metadata": {},
   "outputs": [],
   "source": [
    "stemmer = nltk.SnowballStemmer('english')\n",
    "stopword = set(stopwords.words('english'))"
   ]
  },
  {
   "cell_type": "code",
   "execution_count": 32,
   "id": "f6aaa777-a81e-4df6-8f61-982db24bf90c",
   "metadata": {},
   "outputs": [],
   "source": [
    "def clean_text(text):\n",
    "    text = str(text).lower() # harfleri küçültüyor.\n",
    "    text = re.sub('/[.*?/]','',text) # mesela \"[örnek]\" ifadesini köşeli parantezlerde dahil olmak üzere tamamen siliyor. \n",
    "    text = re.sub('https?://\\S+|www\\.\\S+','',text) # 'http veya https veya www ile başlayan tüm internet adreslerini siliyor.'\n",
    "    text = re.sub('<.*?>+','',text) # html ifadeleri siliyor '<örnek>'\n",
    "    text = re.sub('[%s]' % re.escape(string.punctuation), '', text) #tüm noktalama işaretlerini siliyor. % ifadesi sağdaki noktalama işaretlerini soldaki köşeli parantezin içine almaya yarıyor.\n",
    "    text = re.sub('\\n', '', text) #'/n' ifadesi varsa siliyor kelime içerisinde.\n",
    "    text = re.sub('\\w*\\d\\w*', '', text) #içerisinde rakam olan kelimeleri yakalayıp siliyor.\n",
    "    text = [word for word in text.split(' ') if word not in stopword] # text'i parçalıyor ve stop words varsa siliyor.\n",
    "    text=\" \".join(text) #stopwords silindikten sonra tekrar texti birleştiriyor.\n",
    "    text = [stemmer.stem(word) for word in text.split(' ')] #text'i tekrar ayırıyıyor ve köklerini bularak liste yapıyor.\n",
    "    text=\" \".join(text) #kökler bulunduktan sonra listeyi tekrar string hale getirip birleştiriyor.\n",
    "    return text # texti döndürüyor."
   ]
  },
  {
   "cell_type": "code",
   "execution_count": 33,
   "id": "89eea8b1-6641-4edb-aa87-521392add7d8",
   "metadata": {},
   "outputs": [],
   "source": [
    "data['Title'] = data['Title'].apply(clean_text)"
   ]
  },
  {
   "cell_type": "code",
   "execution_count": 35,
   "id": "57f1c319-5692-4ba0-bd08-72b926063787",
   "metadata": {},
   "outputs": [
    {
     "data": {
      "text/plain": [
       "4784                  discoveri\n",
       "2643                     lavend\n",
       "3622               paquita sala\n",
       "1536                evil genius\n",
       "721     bling empir  afterparti\n",
       "2944                       mank\n",
       "2651        leagu legend origin\n",
       "5126                 politician\n",
       "Name: Title, dtype: object"
      ]
     },
     "execution_count": 35,
     "metadata": {},
     "output_type": "execute_result"
    }
   ],
   "source": [
    "data['Title'].sample(8)"
   ]
  },
  {
   "cell_type": "code",
   "execution_count": 49,
   "id": "9a2380e9-4e2d-473b-a063-081b3823ac7f",
   "metadata": {},
   "outputs": [],
   "source": [
    "tür_list = data['Genres'].tolist() # GENRES SÜTUNUNU LİSTEYE ÇEVİRDİK."
   ]
  },
  {
   "cell_type": "code",
   "execution_count": 50,
   "id": "81f868ee-955b-4cbe-8e8a-1d2617d27470",
   "metadata": {},
   "outputs": [
    {
     "name": "stdout",
     "output_type": "stream",
     "text": [
      "['Reality TV', 'Horror Movies, International Movies, Thrillers', 'Documentaries, International Movies', 'TV Comedies', 'Documentaries, International Movies']\n"
     ]
    }
   ],
   "source": [
    "print(tür_list[:5]) # listenin ilk 5 elemanını yazdırdık."
   ]
  },
  {
   "cell_type": "code",
   "execution_count": 51,
   "id": "6d916584-af00-4cfc-9262-87ce40dcf1c4",
   "metadata": {},
   "outputs": [],
   "source": [
    "vect = TfidfVectorizer(stop_words='english')"
   ]
  },
  {
   "cell_type": "code",
   "execution_count": 52,
   "id": "f25af0b8-a3bd-4106-9765-dd233f0dace2",
   "metadata": {},
   "outputs": [],
   "source": [
    "tür_list_vect = vect.fit_transform(tür_list)"
   ]
  },
  {
   "cell_type": "code",
   "execution_count": 54,
   "id": "d11b1b19-1bdb-4e71-8a59-d734d4b5fe88",
   "metadata": {},
   "outputs": [
    {
     "name": "stdout",
     "output_type": "stream",
     "text": [
      "['action' 'adventure' 'anime' 'british' 'children' 'classic' 'comedies'\n",
      " 'comedy' 'crime' 'cult' 'documentaries' 'docuseries' 'dramas' 'faith'\n",
      " 'family' 'fantasy' 'features' 'fi' 'horror' 'independent' 'international'\n",
      " 'kids' 'korean' 'language' 'lgbtq' 'movies' 'music' 'musicals'\n",
      " 'mysteries' 'nature' 'reality' 'romantic' 'sci' 'science' 'series'\n",
      " 'shows' 'spanish' 'spirituality' 'sports' 'stand' 'talk' 'teen'\n",
      " 'thrillers' 'tv']\n"
     ]
    }
   ],
   "source": [
    "print(vect.get_feature_names_out()) # Burada yukarıda dönüştürdüğümüz sparse matrisinin sütunlarını yani tüm veride geçen benzersiz kelimeler listesini görüyoruz."
   ]
  },
  {
   "cell_type": "code",
   "execution_count": 56,
   "id": "20ea77b2-b296-4082-8c58-bddf0ef5c837",
   "metadata": {},
   "outputs": [
    {
     "name": "stdout",
     "output_type": "stream",
     "text": [
      "[[0.         0.         0.         0.         0.         0.\n",
      "  0.         0.         0.         0.         0.         0.\n",
      "  0.         0.         0.         0.         0.         0.\n",
      "  0.         0.         0.         0.         0.         0.\n",
      "  0.         0.         0.         0.         0.         0.\n",
      "  0.9064114  0.         0.         0.         0.         0.\n",
      "  0.         0.         0.         0.         0.         0.\n",
      "  0.         0.42239599]]\n"
     ]
    }
   ],
   "source": [
    "print(tür_list_vect[0].toarray()) # dönüşüm yapmadan önce listemizin ilk ögesi 'Reality TV' idi. Bunu aşağıdaki şekilde bir matrise dönüştürmüş olduk.\n",
    "                                  # Bunu tüm liste öğeleri için yaptık"
   ]
  },
  {
   "cell_type": "code",
   "execution_count": 58,
   "id": "af270751-9fac-419f-9b15-34cb50cd67d2",
   "metadata": {},
   "outputs": [],
   "source": [
    "#Aşağıda yazan kod ile her dökümanın bir sonrki ile benzerliklerini ölçtük ve bir döküman * döküman matrisi elde ettik.\n",
    "#MESELA AŞAĞIDA ÖRNEK BİR TABLO VAR.\n",
    "#Doc4 ile Doc1 in benzerlik oranı 0.3 \n",
    "\"\"\"|          | Doc1 | Doc2 | Doc3 | Doc4 | Doc5 |\n",
    "   | -------- | ---- | ---- | ---- | ---- | ---- |\n",
    "   | **Doc1** | 1.0  | 0.1  | 0.0  | 0.3  | 0.0  |\n",
    "   | **Doc2** | 0.1  | 1.0  | 0.8  | 0.0  | 0.8  |\n",
    "   | **Doc3** | 0.0  | 0.8  | 1.0  | 0.0  | 1.0  |\n",
    "   | **Doc4** | 0.3  | 0.0  | 0.0  | 1.0  | 0.0  |\n",
    "   | **Doc5** | 0.0  | 0.8  | 1.0  | 0.0  | 1.0  |\"\"\"\n",
    "\n",
    "similarity = cosine_similarity(tür_list_vect)"
   ]
  },
  {
   "cell_type": "code",
   "execution_count": 59,
   "id": "27d789d3-7fed-40e6-94ed-558263846a81",
   "metadata": {},
   "outputs": [],
   "source": [
    "#burada data içerisinde ki başlıklar ile indexlerin yeri değişiyor yani indexler başilıkların olduğu sütuna başlıklar index yerine geçiyor.\n",
    "indices = pd.Series(data.index, index=data['Title']).drop_duplicates()"
   ]
  },
  {
   "cell_type": "code",
   "execution_count": 71,
   "id": "e5759f7f-3d28-488b-bdbc-db931475878c",
   "metadata": {},
   "outputs": [
    {
     "data": {
      "text/plain": [
       "Title\n",
       "unwel                        0\n",
       "aliv                         1\n",
       "annefrank  parallel stori    2\n",
       "blackaf                      3\n",
       "catsthemewvi                 4\n",
       "dtype: int64"
      ]
     },
     "execution_count": 71,
     "metadata": {},
     "output_type": "execute_result"
    }
   ],
   "source": [
    "indices[:5] # ilk 5 satır aşağıdaki şekilde"
   ]
  },
  {
   "cell_type": "code",
   "execution_count": 78,
   "id": "fcad7546-e934-410d-a0f6-e92fd9472d03",
   "metadata": {},
   "outputs": [
    {
     "name": "stdout",
     "output_type": "stream",
     "text": [
      "1                      aliv\n",
      "178                  aaviri\n",
      "360            andhaghaaram\n",
      "361             andhakaaram\n",
      "398                  apostl\n",
      "1759     game hindi version\n",
      "1760     game tamil version\n",
      "1761    game telugu version\n",
      "1801              ghost lab\n",
      "1804            ghost stori\n",
      "Name: Title, dtype: object\n"
     ]
    }
   ],
   "source": [
    "#AŞAĞIDAKİ FONKSİYON İLE YAZILAN FİLME BENZER 10 FİLMİ SIRALIYORUZ.\n",
    "def netFlix_recommendation(title, similarity = similarity):\n",
    "    index = indices[title]\n",
    "    similarity_scores = list(enumerate(similarity[index]))\n",
    "    similarity_scores = sorted(similarity_scores, key=lambda x: x[1], reverse=True)\n",
    "    similarity_scores = similarity_scores[0:10]\n",
    "    movieindices = [i[0] for i in similarity_scores]\n",
    "    return data['Title'].iloc[movieindices]\n",
    "\n",
    "print(netFlix_recommendation(\"aliv\"))"
   ]
  },
  {
   "cell_type": "code",
   "execution_count": null,
   "id": "a8f7fb6d-4ead-4447-90f4-063fc6d4d9cf",
   "metadata": {},
   "outputs": [],
   "source": []
  }
 ],
 "metadata": {
  "kernelspec": {
   "display_name": "Python 3 (ipykernel)",
   "language": "python",
   "name": "python3"
  },
  "language_info": {
   "codemirror_mode": {
    "name": "ipython",
    "version": 3
   },
   "file_extension": ".py",
   "mimetype": "text/x-python",
   "name": "python",
   "nbconvert_exporter": "python",
   "pygments_lexer": "ipython3",
   "version": "3.10.18"
  }
 },
 "nbformat": 4,
 "nbformat_minor": 5
}
