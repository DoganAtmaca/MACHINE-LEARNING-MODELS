{
 "cells": [
  {
   "cell_type": "markdown",
   "id": "234a33cf-b9cd-4010-a460-193d9038bb58",
   "metadata": {},
   "source": [
    "BU PROJEDE MNIST DATASET KULLANARAK BİR SINIFLANDIRMA MODELİ EĞİTECEĞİZ. "
   ]
  },
  {
   "cell_type": "code",
   "execution_count": 29,
   "id": "ab8eb993-f0f9-4242-a1aa-eb8121a2a380",
   "metadata": {},
   "outputs": [],
   "source": [
    "import cv2\n",
    "import numpy as np\n",
    "import os\n",
    "import matplotlib.pyplot as plt\n",
    "from keras.datasets import fashion_mnist\n",
    "from tensorflow.keras.layers import Dense, Flatten, Conv2D, MaxPooling2D\n",
    "from tensorflow.keras.models import Sequential"
   ]
  },
  {
   "cell_type": "code",
   "execution_count": 30,
   "id": "ec50295a-c756-410d-be37-f3d20ee781af",
   "metadata": {},
   "outputs": [],
   "source": [
    "#DATAYI YÜKLÜYORUZ.\n",
    "(train_images, train_labels), (test_images, test_labels) = fashion_mnist.load_data()"
   ]
  },
  {
   "cell_type": "code",
   "execution_count": 32,
   "id": "b3efbfd4-ef84-4dc5-96d0-645a45c47a3c",
   "metadata": {},
   "outputs": [],
   "source": [
    "#DATAYI RESHAPE İLE MODELE UYGUN HALE GETİRİYORUZ.\n",
    "train_images = train_images.reshape(-1, 28, 28, 1)\n",
    "test_images = test_images.reshape(-1, 28, 28, 1)"
   ]
  },
  {
   "cell_type": "code",
   "execution_count": 33,
   "id": "6ed2b4a5-51d1-4ddd-bfe6-7ee0f6293bf1",
   "metadata": {},
   "outputs": [],
   "source": [
    "class_names = ['T-shirt/top', 'Trouser', 'Pullover', 'Dress', 'Coat',\n",
    "               'Sandal', 'Shirt', 'Sneaker', 'Bag', 'Ankle boot']"
   ]
  },
  {
   "cell_type": "code",
   "execution_count": 34,
   "id": "abb5e358-f0a0-44c8-8058-3353a48c3a4c",
   "metadata": {},
   "outputs": [
    {
     "data": {
      "image/png": "[encoded data removed]",
      "text/plain": [
       "<Figure size 200x200 with 1 Axes>"
      ]
     },
     "metadata": {},
     "output_type": "display_data"
    }
   ],
   "source": [
    "#DATA İÇERİSİNDEN ÖRNEK BİR RESİM ÇİZDİRİP LABEL'INI YAZDIRIYORUZ.\n",
    "plt.figure(figsize=(2,2))\n",
    "plt.imshow(train_images[4])\n",
    "plt.xlabel(class_names[train_labels[4]])\n",
    "plt.show()"
   ]
  },
  {
   "cell_type": "code",
   "execution_count": 38,
   "id": "bc08c7af-5ab7-4259-816f-cb5a3afc8fcb",
   "metadata": {},
   "outputs": [],
   "source": [
    "#MODELİ OLUŞTURUYORUZ.\n",
    "model = Sequential()\n",
    "model.add(Conv2D(32,(3,3), activation = 'relu', input_shape=(28,28,1)))\n",
    "model.add(MaxPooling2D(pool_size=(2,2)))\n",
    "model.add(Conv2D(32,(2,2), activation = 'relu', input_shape=(28,28,1)))\n",
    "model.add(Flatten())\n",
    "model.add(Dense(128, activation ='relu'))\n",
    "model.add(Dense(10, activation='softmax'))"
   ]
  },
  {
   "cell_type": "code",
   "execution_count": 39,
   "id": "9d546462-0aea-47d2-b4c6-5336594663d0",
   "metadata": {},
   "outputs": [],
   "source": [
    "model.compile(optimizer='adam', loss='sparse_categorical_crossentropy',metrics=['accuracy'])"
   ]
  },
  {
   "cell_type": "code",
   "execution_count": 40,
   "id": "7f8d07f0-9d3a-42ca-9e9b-7fb24e433440",
   "metadata": {},
   "outputs": [
    {
     "name": "stdout",
     "output_type": "stream",
     "text": [
      "Epoch 1/10\n",
      "1875/1875 [==============================] - 18s 9ms/step - loss: 0.6893 - accuracy: 0.8447\n",
      "Epoch 2/10\n",
      "1875/1875 [==============================] - 18s 9ms/step - loss: 0.2939 - accuracy: 0.8924\n",
      "Epoch 3/10\n",
      "1875/1875 [==============================] - 18s 9ms/step - loss: 0.2473 - accuracy: 0.9078\n",
      "Epoch 4/10\n",
      "1875/1875 [==============================] - 18s 9ms/step - loss: 0.2144 - accuracy: 0.9198\n",
      "Epoch 5/10\n",
      "1875/1875 [==============================] - 17s 9ms/step - loss: 0.1885 - accuracy: 0.9298\n",
      "Epoch 6/10\n",
      "1875/1875 [==============================] - 18s 9ms/step - loss: 0.1674 - accuracy: 0.9376\n",
      "Epoch 7/10\n",
      "1875/1875 [==============================] - 18s 9ms/step - loss: 0.1462 - accuracy: 0.9463\n",
      "Epoch 8/10\n",
      "1875/1875 [==============================] - 18s 9ms/step - loss: 0.1252 - accuracy: 0.9536\n",
      "Epoch 9/10\n",
      "1875/1875 [==============================] - 18s 9ms/step - loss: 0.1171 - accuracy: 0.9572\n",
      "Epoch 10/10\n",
      "1875/1875 [==============================] - 18s 9ms/step - loss: 0.1034 - accuracy: 0.9625\n"
     ]
    },
    {
     "data": {
      "text/plain": [
       "<keras.callbacks.History at 0x2627e865510>"
      ]
     },
     "execution_count": 40,
     "metadata": {},
     "output_type": "execute_result"
    }
   ],
   "source": [
    "model.fit(train_images, train_labels, epochs=10)"
   ]
  },
  {
   "cell_type": "code",
   "execution_count": 41,
   "id": "6116c124-08af-4a5b-a519-39b987c978b2",
   "metadata": {},
   "outputs": [
    {
     "name": "stdout",
     "output_type": "stream",
     "text": [
      "313/313 - 1s - loss: 0.5404 - accuracy: 0.8970 - 1s/epoch - 4ms/step\n",
      "\n",
      "Test accuracy: 0.8970000147819519\n"
     ]
    }
   ],
   "source": [
    "test_loss, test_acc = model.evaluate(test_images,  test_labels, verbose=2)\n",
    "print('\\nTest accuracy:', test_acc)"
   ]
  },
  {
   "cell_type": "markdown",
   "id": "da4d5825-413b-464e-95c1-69d64b511960",
   "metadata": {},
   "source": [
    "PROJEDE YAKLAŞIK %90 LIK BİR BAŞARI ELDE ETTİK. "
   ]
  },
  {
   "cell_type": "code",
   "execution_count": null,
   "id": "9abc52fd-ddc1-425d-8965-83b4b6c11e73",
   "metadata": {},
   "outputs": [],
   "source": []
  },
  {
   "cell_type": "code",
   "execution_count": null,
   "id": "7d348296-6820-4fec-b6d9-0a9c3a6650e5",
   "metadata": {},
   "outputs": [],
   "source": []
  },
  {
   "cell_type": "code",
   "execution_count": null,
   "id": "68078a01-9d3d-4467-ad5f-4b77a9e4ba4e",
   "metadata": {},
   "outputs": [],
   "source": []
  },
  {
   "cell_type": "code",
   "execution_count": null,
   "id": "a759d792-82a9-4dc2-9bd7-60edcaf87fcd",
   "metadata": {},
   "outputs": [],
   "source": []
  },
  {
   "cell_type": "code",
   "execution_count": null,
   "id": "6bfca0e3-d60b-472f-a80c-f0ce307e0d4c",
   "metadata": {},
   "outputs": [],
   "source": []
  },
  {
   "cell_type": "code",
   "execution_count": null,
   "id": "9066b05d-88ca-4378-8575-51d20035fbfd",
   "metadata": {},
   "outputs": [],
   "source": []
  }
 ],
 "metadata": {
  "kernelspec": {
   "display_name": "Python 3 (ipykernel)",
   "language": "python",
   "name": "python3"
  },
  "language_info": {
   "codemirror_mode": {
    "name": "ipython",
    "version": 3
   },
   "file_extension": ".py",
   "mimetype": "text/x-python",
   "name": "python",
   "nbconvert_exporter": "python",
   "pygments_lexer": "ipython3",
   "version": "3.10.18"
  }
 },
 "nbformat": 4,
 "nbformat_minor": 5
}
