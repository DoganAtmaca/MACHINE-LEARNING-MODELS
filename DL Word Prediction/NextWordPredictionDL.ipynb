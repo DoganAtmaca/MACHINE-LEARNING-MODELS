{
 "cells": [
  {
   "cell_type": "markdown",
   "id": "389388a1-c8d8-48b9-8ec0-c906dd15c809",
   "metadata": {},
   "source": [
    "BU PROJEDE ÖNCEKİ 5 KELİMEYİ KULLANARAK ARDINDAN GELECEK OLAN 6. KELİMEYİ TAHMİN EDEN BİR KELİME TAHMİN MODELİ GELİŞTİRECEĞİZ."
   ]
  },
  {
   "cell_type": "code",
   "execution_count": 1,
   "id": "575ee020-2634-413e-bdd3-d68ca74ceb08",
   "metadata": {},
   "outputs": [],
   "source": [
    "import pandas as pd\n",
    "import numpy as np\n",
    "from nltk.tokenize import RegexpTokenizer\n",
    "from tensorflow.keras.models import Sequential\n",
    "from tensorflow.keras.layers import Dense, LSTM, Embedding"
   ]
  },
  {
   "cell_type": "code",
   "execution_count": 2,
   "id": "c5eed7ab-8982-401c-ac00-0ddb2726a32c",
   "metadata": {},
   "outputs": [],
   "source": [
    "#ELİMİZDEKİ TXT DOSYASINI OKUYORUZ.\n",
    "with open('1661-0.txt','r',encoding='utf-8') as f:\n",
    "    text = f.read().lower()"
   ]
  },
  {
   "cell_type": "code",
   "execution_count": 3,
   "id": "300075d6-f44d-44ae-90c6-e553a88ecd3d",
   "metadata": {},
   "outputs": [
    {
     "data": {
      "text/plain": [
       "581888"
      ]
     },
     "execution_count": 3,
     "metadata": {},
     "output_type": "execute_result"
    }
   ],
   "source": [
    "#TEXT 581.888 KARAKTERDEN OLUŞUYOR.\n",
    "len(text)"
   ]
  },
  {
   "cell_type": "code",
   "execution_count": 4,
   "id": "68f8ad18-5708-4b75-a3b9-4b962afc0e7c",
   "metadata": {},
   "outputs": [],
   "source": [
    "#BURADA TEXT İ KELİME KELİME TOKENİZE EDİYORUZ. İÇERİSİNDE BULUNAN ÜNLEM NOKTALAMA VB İFADELERİ KALDIRIYORUZ. r'w+' BUNA YARIYOR.\n",
    "tokenizer = RegexpTokenizer(r'\\w+')\n",
    "words = tokenizer.tokenize(text)"
   ]
  },
  {
   "cell_type": "code",
   "execution_count": 5,
   "id": "4ac13436-cbe8-48a5-9e2f-e30d62bc450f",
   "metadata": {},
   "outputs": [
    {
     "data": {
      "text/plain": [
       "'project'"
      ]
     },
     "execution_count": 5,
     "metadata": {},
     "output_type": "execute_result"
    }
   ],
   "source": [
    "#ilk elemanı yazdıralım.\n",
    "words[0]"
   ]
  },
  {
   "cell_type": "code",
   "execution_count": 7,
   "id": "bf63b46c-c0b0-4536-90fa-9b4d0295dd2c",
   "metadata": {},
   "outputs": [],
   "source": [
    "#BURADA WORDS İÇERİSİNDE BENZERSİZ KELİMELERİ BULARAK BİR DEĞİŞKENE ATIYORUZ. DAHA SONRASINDA BU FARKLI KELİMELERE SAYILAR VERİYORUZ.\n",
    "# ÖRNEĞİN \" 'cat':0, 'dog': 1, 'snake':2 \" GİBİ. \n",
    "unique_word = np.unique(words)\n",
    "unique_word_index = dict((c,i) for i, c in enumerate(unique_word))"
   ]
  },
  {
   "cell_type": "code",
   "execution_count": 8,
   "id": "afdc5ba2-bc61-44ef-a225-5d25d3ceaa88",
   "metadata": {},
   "outputs": [
    {
     "data": {
      "text/plain": [
       "5598"
      ]
     },
     "execution_count": 8,
     "metadata": {},
     "output_type": "execute_result"
    }
   ],
   "source": [
    "#PROJECT KELİMESİ BİZİM İÇİN 5598 SAYISI İLE TEMSİL EDİLİYOR.\n",
    "unique_word_index['project']"
   ]
  },
  {
   "cell_type": "code",
   "execution_count": 9,
   "id": "515dab38-bd56-4321-91d3-196ba79d1fef",
   "metadata": {},
   "outputs": [],
   "source": [
    "#AŞAĞIDAKİ KOD İLK 5 KELİMEYİ ÖNCEKİ KELİMELER LİSTESİNE KAYDEDİYOR SONRAKİ 6. KELİMEYİ SONRAKİ KELİME LİSTESİNE KAYDEDİYOR.\n",
    "#BÖYLECE 5 KELİME GÖRÜP SONRAKİ KELİMEYİ TAHMİN ETMESİ İÇİN VERİYİ HAZIRLIYORUZ.\n",
    "#BU ŞEKİLDE TEXT TE BULUNAN TÜM KELİMELERİ AYARLIYORUZ.\n",
    "#AŞAĞIDA DAHA ANLAŞILIR ŞEKİLDE ÖRNEKLENDİRİLDİ.\n",
    "word_length = 5\n",
    "önceki_kelimeler = []\n",
    "sonraki_kelime = []\n",
    "for i in range(len(words) - word_length):\n",
    "    önceki_kelimeler.append(words[i:i+word_length])\n",
    "    sonraki_kelime.append(words[i+word_length])"
   ]
  },
  {
   "cell_type": "code",
   "execution_count": 10,
   "id": "2439d3a2-3116-440c-ab97-58e29f111113",
   "metadata": {},
   "outputs": [
    {
     "data": {
      "text/plain": [
       "['project', 'gutenberg', 's', 'the', 'adventures']"
      ]
     },
     "execution_count": 10,
     "metadata": {},
     "output_type": "execute_result"
    }
   ],
   "source": [
    "#BURADA LİSTENİN İLK ELEMANI OKUDUĞUMUZ TEXT DOSYASININ İLK 5 KELİMESİ\n",
    "önceki_kelimeler[0]"
   ]
  },
  {
   "cell_type": "code",
   "execution_count": 11,
   "id": "805eb4be-ed58-4b68-9927-b21a786ea1eb",
   "metadata": {},
   "outputs": [
    {
     "data": {
      "text/plain": [
       "'of'"
      ]
     },
     "execution_count": 11,
     "metadata": {},
     "output_type": "execute_result"
    }
   ],
   "source": [
    "#BURADAKİ LİSTENİN İLK ELEMANI YUKARIDAKİ 5 KELİMEDEN SONRA GELEN 6. KELİME\n",
    "sonraki_kelime[0]"
   ]
  },
  {
   "cell_type": "code",
   "execution_count": 12,
   "id": "bc08dadf-2224-43a5-bea7-0272200b3191",
   "metadata": {},
   "outputs": [
    {
     "data": {
      "text/plain": [
       "['gutenberg', 's', 'the', 'adventures', 'of']"
      ]
     },
     "execution_count": 12,
     "metadata": {},
     "output_type": "execute_result"
    }
   ],
   "source": [
    "önceki_kelimeler[1]"
   ]
  },
  {
   "cell_type": "code",
   "execution_count": 13,
   "id": "57f1feb8-5fda-49c6-b45f-77b10191fb13",
   "metadata": {},
   "outputs": [
    {
     "data": {
      "text/plain": [
       "'sherlock'"
      ]
     },
     "execution_count": 13,
     "metadata": {},
     "output_type": "execute_result"
    }
   ],
   "source": [
    "sonraki_kelime[1]"
   ]
  },
  {
   "cell_type": "code",
   "execution_count": 14,
   "id": "c24383fb-6000-44ba-b74f-1608953395ad",
   "metadata": {},
   "outputs": [],
   "source": [
    "#SIFIRLARDAN NUMPY ARRAYLAR OLUŞTURDUK. BUNLARIN İÇERİSİNE KELİMELERE GÖRE 1 YAZACAĞIZ.\n",
    "\n",
    "x = np.zeros((len(önceki_kelimeler),word_length,len(unique_word)) ,dtype=bool)\n",
    "y = np.zeros((len(sonraki_kelime),len(unique_word)),dtype=bool)"
   ]
  },
  {
   "cell_type": "code",
   "execution_count": 15,
   "id": "5f3b85f7-8f2c-4cd6-a0ef-3a8d3d25b1b0",
   "metadata": {},
   "outputs": [
    {
     "data": {
      "text/plain": [
       "(109221, 5, 8201)"
      ]
     },
     "execution_count": 15,
     "metadata": {},
     "output_type": "execute_result"
    }
   ],
   "source": [
    "x.shape"
   ]
  },
  {
   "cell_type": "code",
   "execution_count": 16,
   "id": "01ebe780-5ae9-4f3c-9112-84e34ab2a4bc",
   "metadata": {},
   "outputs": [
    {
     "data": {
      "text/plain": [
       "(109221, 8201)"
      ]
     },
     "execution_count": 16,
     "metadata": {},
     "output_type": "execute_result"
    }
   ],
   "source": [
    "y.shape"
   ]
  },
  {
   "cell_type": "code",
   "execution_count": 17,
   "id": "5ee9d1ad-4e60-4a2f-ad7d-c6fba4d48670",
   "metadata": {},
   "outputs": [],
   "source": [
    "\"\"\"\n",
    "YUKARIDA OLUŞTURDUĞUMUZ NUMPY ARRAYLARI DOLDURUYORUZ. ÖRNEK OLARAK;\n",
    "İLK ÖNCE ÖNCEKİ_KELİMELER LİSTESİNİ FOR DÖNGÜSÜ İLE GEZİYORUZ. BU LİSTENİN İLK ELEMANI YUKARIDA YAZILDIĞI GİBİ \n",
    "['project', 'gutenberg', 's', 'the', 'adventures'] ŞEKLİNDEYDİ. AYRICA BUNA BİR DE NUMARA VERİYORUZ ENUMERATE FONKSİYONU İLE. YANİ İLK FOR DÖNGÜSÜNÜN\n",
    "SONUCUNDA ŞÖYLE BİR ÇIKTI OLUYOR;\n",
    "  '0, ['project', 'gutenberg', 's', 'the', 'adventures']'\n",
    "BURADA İ HATRFİ 0'ı each_words ise  ['project', 'gutenberg', 's', 'the', 'adventures'] LİSTESİNİ TEMSİL EDİYOR.\n",
    "İKİNCİ FOR DÖNGÜSÜNDE İSE ['project', 'gutenberg', 's', 'the', 'adventures'] LİSTESİNİ TEMSİL EDEN 'each_words' U FOR İLE GEZİYORUZ.\n",
    "BUNUN SONUCUNDA DA YİNE ENUMERATE İLE HER BİR ELEMANA SAYI VERİYORUZ. YANİ ÇIKTIMI ŞÖYLE OLACAK;\n",
    "0,'project'\n",
    "1,'gutenberg'\n",
    ".\n",
    ".\n",
    ".\n",
    "ŞEKLİNDE. BURADAKİ SAYILAR j HARFİ İLE KELİMELER İSE each_word İLE TEMSİZ EDİLİYOR.\n",
    "DAHA SONRASINDA \"X[i, j, unique_word_index[each_word]] = 1\" SATIRINDA YUKARIDA TANIMLAMIŞ OLDUĞUMUZ unique_word_index SÖZLÜĞÜNDEN each_word İLE \n",
    "TEMSİL ETTİĞİMİZ KELİMENİN İNDEXİNE BAKIYORUZ. BUNUN İÇİN YUKARIDA PROJECT KELİMESİNİN TUTULDUĞU SAYIYI YAZDIRMIŞTIK.\n",
    "YANİ SONUÇ OLARAK İLK FOR DÖNGÜSÜNDE İ =0 , j = 0, VE unique_word_index['project'] = 5598 OLDUĞUNA GÖRE BURADA YAPILMAYA ÇALIŞILAN ŞU;\n",
    "NUMPY ARRAYİNDE (0,0,5598) OLAN DEĞERİN YERİNE 1 YAZ. BÖYLELİKLE ARTIK PROJECT KELİMESİ BİZİM İÇİN NUMPY ARRAYİNDE (0,0,5598) DE 1 İLE TEMSİL EDİLİYOR.\n",
    "BASİT BİR ÖRNEĞİ ŞU ŞEKİLDE YAZABİLİRİZ;\n",
    "0 0 0 1 0 MESELA BU SATIR PROJECT KELİMESİNİ İFADE EDİYOR\n",
    "0 1 0 0 0 BU SATIR SNAKE KELİMESİNİ İFADE EDİYOR\n",
    "0 0 0 0 1 BU SATIR OFF KELİMESİNİ İFADE EDİYOR ŞEKLİNDE DÜŞÜNÜLEBİLİR.\n",
    "\n",
    "BÖYLECE TÜM WORDS İÇERİSİNDE Kİ KELİMELERİ DOLANARAK YUKARIDAKİ NUMPY ARRAYİNİ DOLDURUYORUZ.\n",
    "\n",
    "\"\"\"\n",
    "for i, each_words in enumerate(önceki_kelimeler):\n",
    "    for j, each_word in enumerate(each_words):\n",
    "        x[i, j, unique_word_index[each_word]] = 1\n",
    "    y[i, unique_word_index[sonraki_kelime[i]]] = 1"
   ]
  },
  {
   "cell_type": "code",
   "execution_count": 36,
   "id": "c7a5cbf0-6788-4e8b-af09-4413733272ee",
   "metadata": {},
   "outputs": [],
   "source": [
    "#MODELİMİZİ OLUŞTURUYORUZ.\n",
    "model = Sequential()\n",
    "model.add(LSTM(64, input_shape=(5,8201)))\n",
    "model.add(Dense(8201,activation='softmax'))"
   ]
  },
  {
   "cell_type": "code",
   "execution_count": 37,
   "id": "ac3d3ae4-da0f-4877-baee-cacf4fd16f71",
   "metadata": {},
   "outputs": [],
   "source": [
    "#OPTİMİZER OLARAK RMSPROP KULLANIYORUZ. VE LEARNING RATE OLARAK 0.01 AYARLIYORUZ.\n",
    "from keras.optimizers import RMSprop\n",
    "optimizer = RMSprop(lr=0.01)"
   ]
  },
  {
   "cell_type": "code",
   "execution_count": 38,
   "id": "5d5937f0-2b71-4eee-9080-e54410af7c3d",
   "metadata": {},
   "outputs": [],
   "source": [
    "model.compile(loss='categorical_crossentropy', optimizer=optimizer, metrics=['accuracy'])"
   ]
  },
  {
   "cell_type": "code",
   "execution_count": 39,
   "id": "aade9afc-4e74-4872-94bc-a03471f42774",
   "metadata": {},
   "outputs": [
    {
     "name": "stdout",
     "output_type": "stream",
     "text": [
      "Epoch 1/2\n",
      "598/598 [==============================] - 34s 56ms/step - loss: 6.1468 - accuracy: 0.0943 - val_loss: 6.0692 - val_accuracy: 0.1147\n",
      "Epoch 2/2\n",
      "598/598 [==============================] - 32s 53ms/step - loss: 5.7056 - accuracy: 0.1363 - val_loss: 6.2849 - val_accuracy: 0.1253\n"
     ]
    }
   ],
   "source": [
    "history = model.fit(x, y, validation_split=0.3, batch_size=128, epochs=2, shuffle=True).history"
   ]
  },
  {
   "cell_type": "code",
   "execution_count": 41,
   "id": "327ca79e-d7b8-42b1-8b64-48b5a97694da",
   "metadata": {},
   "outputs": [
    {
     "data": {
      "text/plain": [
       "<matplotlib.legend.Legend at 0x1ad5ce5f280>"
      ]
     },
     "execution_count": 41,
     "metadata": {},
     "output_type": "execute_result"
    },
    {
     "data": {
      "image/png": "[encoded data removed]",
      "text/plain": [
       "<Figure size 640x480 with 1 Axes>"
      ]
     },
     "metadata": {},
     "output_type": "display_data"
    }
   ],
   "source": [
    "#MODELİMİZİN BAŞARISINI GRAFİK İLE GÖZLEMLİYORUZ.\n",
    "import matplotlib.pyplot as plt\n",
    "plt.plot(history['accuracy'])\n",
    "plt.plot(history['val_accuracy'])\n",
    "plt.title('model accuracy')\n",
    "plt.ylabel('accuracy')\n",
    "plt.xlabel('epoch')\n",
    "plt.legend(['train', 'test'], loc='upper left')"
   ]
  },
  {
   "cell_type": "markdown",
   "id": "fb23b4fd-e374-4a54-8902-8ff22c2a16bd",
   "metadata": {},
   "source": [
    "BU PROJEDE ÖNCEKİ KELİMELERE GÖRE SONRAKİ KELİMEYİ TAHMİN ETMEYE ÇALIŞTIK. 2 EPOCHS İLE EĞİTTİĞİMİZ MODELİN GRAFİĞİNDE ACCURACY SKORUNUN ARTTIĞINI GÖZLEMLEYEBİLİYORUZ. DAHA FAZLA EPOCHS VE DAHA FAZLA VERİ İLE DAHA BAŞARILI SONUÇLAR ELDE EDİLEBİLİR."
   ]
  },
  {
   "cell_type": "code",
   "execution_count": null,
   "id": "5c4bede5-7330-48da-8416-63b261654fc9",
   "metadata": {},
   "outputs": [],
   "source": []
  }
 ],
 "metadata": {
  "kernelspec": {
   "display_name": "Python 3 (ipykernel)",
   "language": "python",
   "name": "python3"
  },
  "language_info": {
   "codemirror_mode": {
    "name": "ipython",
    "version": 3
   },
   "file_extension": ".py",
   "mimetype": "text/x-python",
   "name": "python",
   "nbconvert_exporter": "python",
   "pygments_lexer": "ipython3",
   "version": "3.10.18"
  }
 },
 "nbformat": 4,
 "nbformat_minor": 5
}
