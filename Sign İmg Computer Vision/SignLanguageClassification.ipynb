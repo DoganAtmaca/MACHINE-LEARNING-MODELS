{
 "cells": [
  {
   "cell_type": "markdown",
   "id": "87cfe220-901d-43b3-a695-e0af99accfc3",
   "metadata": {},
   "source": [
    "BU PROJEDE DATA İÇERİSİNDE BULUNAN PİKSEL VERİLERİNE VE LABEL VERİSİNE GÖRE BİR MODEL EĞİTECEĞİZ. PİKSELLER 784 TANE YANİ 28*28 LİK BİR RESMİ TEMSİL EDİYORLAR. LABEL LAR İSE BU RESİMLERİN ETİKETİ DURUMUNDA. AŞAĞIDA BU PİKSELLER KULLANIALRAK BİR RESİM ÇİZDİRİLMİŞ VE ÖRNEK OLARAK VERİLMİŞTİR. VERİ İÇERİSİNDEKİ PİKSELLER İŞARET DİLİ GÖRSELLERİNİ OLUŞTURUYOR."
   ]
  },
  {
   "cell_type": "code",
   "execution_count": 43,
   "id": "888ad0ce-4eff-47ce-aa97-325b33dc96b7",
   "metadata": {},
   "outputs": [],
   "source": [
    "import numpy as np # linear algebra\n",
    "import pandas as pd # data processing\n",
    "import numpy as np\n",
    "import tensorflow as tf\n",
    "from tensorflow.keras.models import Sequential\n",
    "from tensorflow.keras.layers import Conv2D, Flatten, MaxPooling2D, Dense\n",
    "from tensorflow.keras.preprocessing.image import ImageDataGenerator\n",
    "from os import getcwd\n",
    "data_train=pd.read_csv('sign_mnist_train.csv')\n",
    "data_test=pd.read_csv('sign_mnist_test.csv')"
   ]
  },
  {
   "cell_type": "code",
   "execution_count": 44,
   "id": "2c57124c-585d-4550-abb5-cc6153c238b0",
   "metadata": {},
   "outputs": [
    {
     "name": "stdout",
     "output_type": "stream",
     "text": [
      "<class 'pandas.core.frame.DataFrame'>\n",
      "RangeIndex: 27455 entries, 0 to 27454\n",
      "Columns: 785 entries, label to pixel784\n",
      "dtypes: int64(785)\n",
      "memory usage: 164.4 MB\n"
     ]
    }
   ],
   "source": [
    "data_train.info()"
   ]
  },
  {
   "cell_type": "code",
   "execution_count": 45,
   "id": "8a3c688e-f1fb-4403-a6b3-8346cd2e3fbf",
   "metadata": {},
   "outputs": [
    {
     "data": {
      "text/html": [
       "<div>\n",
       "<style scoped>\n",
       "    .dataframe tbody tr th:only-of-type {\n",
       "        vertical-align: middle;\n",
       "    }\n",
       "\n",
       "    .dataframe tbody tr th {\n",
       "        vertical-align: top;\n",
       "    }\n",
       "\n",
       "    .dataframe thead th {\n",
       "        text-align: right;\n",
       "    }\n",
       "</style>\n",
       "<table border=\"1\" class=\"dataframe\">\n",
       "  <thead>\n",
       "    <tr style=\"text-align: right;\">\n",
       "      <th></th>\n",
       "      <th>label</th>\n",
       "      <th>pixel1</th>\n",
       "      <th>pixel2</th>\n",
       "      <th>pixel3</th>\n",
       "      <th>pixel4</th>\n",
       "      <th>pixel5</th>\n",
       "      <th>pixel6</th>\n",
       "      <th>pixel7</th>\n",
       "      <th>pixel8</th>\n",
       "      <th>pixel9</th>\n",
       "      <th>...</th>\n",
       "      <th>pixel775</th>\n",
       "      <th>pixel776</th>\n",
       "      <th>pixel777</th>\n",
       "      <th>pixel778</th>\n",
       "      <th>pixel779</th>\n",
       "      <th>pixel780</th>\n",
       "      <th>pixel781</th>\n",
       "      <th>pixel782</th>\n",
       "      <th>pixel783</th>\n",
       "      <th>pixel784</th>\n",
       "    </tr>\n",
       "  </thead>\n",
       "  <tbody>\n",
       "    <tr>\n",
       "      <th>0</th>\n",
       "      <td>3</td>\n",
       "      <td>107</td>\n",
       "      <td>118</td>\n",
       "      <td>127</td>\n",
       "      <td>134</td>\n",
       "      <td>139</td>\n",
       "      <td>143</td>\n",
       "      <td>146</td>\n",
       "      <td>150</td>\n",
       "      <td>153</td>\n",
       "      <td>...</td>\n",
       "      <td>207</td>\n",
       "      <td>207</td>\n",
       "      <td>207</td>\n",
       "      <td>207</td>\n",
       "      <td>206</td>\n",
       "      <td>206</td>\n",
       "      <td>206</td>\n",
       "      <td>204</td>\n",
       "      <td>203</td>\n",
       "      <td>202</td>\n",
       "    </tr>\n",
       "    <tr>\n",
       "      <th>1</th>\n",
       "      <td>6</td>\n",
       "      <td>155</td>\n",
       "      <td>157</td>\n",
       "      <td>156</td>\n",
       "      <td>156</td>\n",
       "      <td>156</td>\n",
       "      <td>157</td>\n",
       "      <td>156</td>\n",
       "      <td>158</td>\n",
       "      <td>158</td>\n",
       "      <td>...</td>\n",
       "      <td>69</td>\n",
       "      <td>149</td>\n",
       "      <td>128</td>\n",
       "      <td>87</td>\n",
       "      <td>94</td>\n",
       "      <td>163</td>\n",
       "      <td>175</td>\n",
       "      <td>103</td>\n",
       "      <td>135</td>\n",
       "      <td>149</td>\n",
       "    </tr>\n",
       "    <tr>\n",
       "      <th>2</th>\n",
       "      <td>2</td>\n",
       "      <td>187</td>\n",
       "      <td>188</td>\n",
       "      <td>188</td>\n",
       "      <td>187</td>\n",
       "      <td>187</td>\n",
       "      <td>186</td>\n",
       "      <td>187</td>\n",
       "      <td>188</td>\n",
       "      <td>187</td>\n",
       "      <td>...</td>\n",
       "      <td>202</td>\n",
       "      <td>201</td>\n",
       "      <td>200</td>\n",
       "      <td>199</td>\n",
       "      <td>198</td>\n",
       "      <td>199</td>\n",
       "      <td>198</td>\n",
       "      <td>195</td>\n",
       "      <td>194</td>\n",
       "      <td>195</td>\n",
       "    </tr>\n",
       "    <tr>\n",
       "      <th>3</th>\n",
       "      <td>2</td>\n",
       "      <td>211</td>\n",
       "      <td>211</td>\n",
       "      <td>212</td>\n",
       "      <td>212</td>\n",
       "      <td>211</td>\n",
       "      <td>210</td>\n",
       "      <td>211</td>\n",
       "      <td>210</td>\n",
       "      <td>210</td>\n",
       "      <td>...</td>\n",
       "      <td>235</td>\n",
       "      <td>234</td>\n",
       "      <td>233</td>\n",
       "      <td>231</td>\n",
       "      <td>230</td>\n",
       "      <td>226</td>\n",
       "      <td>225</td>\n",
       "      <td>222</td>\n",
       "      <td>229</td>\n",
       "      <td>163</td>\n",
       "    </tr>\n",
       "    <tr>\n",
       "      <th>4</th>\n",
       "      <td>13</td>\n",
       "      <td>164</td>\n",
       "      <td>167</td>\n",
       "      <td>170</td>\n",
       "      <td>172</td>\n",
       "      <td>176</td>\n",
       "      <td>179</td>\n",
       "      <td>180</td>\n",
       "      <td>184</td>\n",
       "      <td>185</td>\n",
       "      <td>...</td>\n",
       "      <td>92</td>\n",
       "      <td>105</td>\n",
       "      <td>105</td>\n",
       "      <td>108</td>\n",
       "      <td>133</td>\n",
       "      <td>163</td>\n",
       "      <td>157</td>\n",
       "      <td>163</td>\n",
       "      <td>164</td>\n",
       "      <td>179</td>\n",
       "    </tr>\n",
       "  </tbody>\n",
       "</table>\n",
       "<p>5 rows × 785 columns</p>\n",
       "</div>"
      ],
      "text/plain": [
       "   label  pixel1  pixel2  pixel3  pixel4  pixel5  pixel6  pixel7  pixel8  \\\n",
       "0      3     107     118     127     134     139     143     146     150   \n",
       "1      6     155     157     156     156     156     157     156     158   \n",
       "2      2     187     188     188     187     187     186     187     188   \n",
       "3      2     211     211     212     212     211     210     211     210   \n",
       "4     13     164     167     170     172     176     179     180     184   \n",
       "\n",
       "   pixel9  ...  pixel775  pixel776  pixel777  pixel778  pixel779  pixel780  \\\n",
       "0     153  ...       207       207       207       207       206       206   \n",
       "1     158  ...        69       149       128        87        94       163   \n",
       "2     187  ...       202       201       200       199       198       199   \n",
       "3     210  ...       235       234       233       231       230       226   \n",
       "4     185  ...        92       105       105       108       133       163   \n",
       "\n",
       "   pixel781  pixel782  pixel783  pixel784  \n",
       "0       206       204       203       202  \n",
       "1       175       103       135       149  \n",
       "2       198       195       194       195  \n",
       "3       225       222       229       163  \n",
       "4       157       163       164       179  \n",
       "\n",
       "[5 rows x 785 columns]"
      ]
     },
     "execution_count": 45,
     "metadata": {},
     "output_type": "execute_result"
    }
   ],
   "source": [
    "#ELİMİZDEKİ DATA 28*28 LİK BİR RESMİN HER BİR PİKSELİNİ TUTUYOR. 0-255 ARASI DEĞERLER ALIYOR. 0 SİYAH 255 BEYAZ. ARASINDAKİKER GRİNİN TONLARI.\n",
    "data_train.head()"
   ]
  },
  {
   "cell_type": "code",
   "execution_count": 48,
   "id": "75415b85-337b-4126-a05e-c4e93fd1dea0",
   "metadata": {},
   "outputs": [
    {
     "data": {
      "image/png": "[encoded data removed]",
      "text/plain": [
       "<Figure size 640x480 with 1 Axes>"
      ]
     },
     "metadata": {},
     "output_type": "display_data"
    }
   ],
   "source": [
    "#ÖRNEK OLARAK BU DATAYI GÖRSELLEŞTİRELİM\n",
    "import matplotlib.pyplot as plt\n",
    "import numpy as np\n",
    "\n",
    "# Örnek: ilk resmi göster\n",
    "img = data_train.iloc[0, 1:].values  # label hariç pikseller, yani 0. satırdaki 1. sütun hariç tüm sütunlar.\n",
    "img = img.reshape(28,28)       # 28x28 matris\n",
    "plt.imshow(img, cmap='gray')\n",
    "plt.title(f\"Label: {data_train.iloc[0,0]}\")\n",
    "plt.show()"
   ]
  },
  {
   "cell_type": "code",
   "execution_count": 49,
   "id": "fec7823d-ff1d-41ed-9596-99cf4e0fd101",
   "metadata": {},
   "outputs": [],
   "source": [
    "#SÜTUNLARDAKİ VERİLERİ ARRAY İÇERİSİNE ALIYORUZ.\n",
    "training_images = data_train.iloc[:,1:].values\n",
    "training_labels = data_train.iloc[:,0].values\n",
    "\n",
    "testing_images = data_test.iloc[:,1:].values\n",
    "testing_labels = data_test.iloc[:,0].values"
   ]
  },
  {
   "cell_type": "markdown",
   "id": "9daa35d1-5a0e-4e71-ba6e-7ef48a8ef706",
   "metadata": {},
   "source": [
    "ÖRNEK OLARAK training_images' e bakalım"
   ]
  },
  {
   "cell_type": "code",
   "execution_count": 50,
   "id": "ef95ec5c-f7e6-4dd0-90d9-3e8d9d7b2f62",
   "metadata": {},
   "outputs": [
    {
     "data": {
      "text/plain": [
       "array([[107, 118, 127, ..., 204, 203, 202],\n",
       "       [155, 157, 156, ..., 103, 135, 149],\n",
       "       [187, 188, 188, ..., 195, 194, 195],\n",
       "       ...,\n",
       "       [174, 174, 174, ..., 202, 200, 200],\n",
       "       [177, 181, 184, ...,  64,  87,  93],\n",
       "       [179, 180, 180, ..., 205, 209, 215]], dtype=int64)"
      ]
     },
     "execution_count": 50,
     "metadata": {},
     "output_type": "execute_result"
    }
   ],
   "source": [
    "training_images"
   ]
  },
  {
   "cell_type": "code",
   "execution_count": 51,
   "id": "601e91d8-6edb-4f07-917d-86dda4bc8719",
   "metadata": {},
   "outputs": [
    {
     "data": {
      "text/plain": [
       "(27455, 784)"
      ]
     },
     "execution_count": 51,
     "metadata": {},
     "output_type": "execute_result"
    }
   ],
   "source": [
    "training_images.shape"
   ]
  },
  {
   "cell_type": "code",
   "execution_count": 52,
   "id": "f9f44233-fbda-45b8-b34d-7879ea243e85",
   "metadata": {},
   "outputs": [],
   "source": [
    "#BURADA MODELİN ANLAYABİLECEĞİ ŞEKİLDE RESHAPE İŞLEMİ YAPIYORUZ.\n",
    "training_images = training_images.reshape(-1,28,28,1)\n",
    "testing_images = testing_images.reshape(-1,28,28,1)"
   ]
  },
  {
   "cell_type": "code",
   "execution_count": 53,
   "id": "d016a493-ffb9-466f-808f-cda08b16765b",
   "metadata": {},
   "outputs": [
    {
     "data": {
      "text/plain": [
       "(27455, 28, 28, 1)"
      ]
     },
     "execution_count": 53,
     "metadata": {},
     "output_type": "execute_result"
    }
   ],
   "source": [
    "#VERİMİZDE 27455 TANE 28*28 BOYUTUNDA TEK KANAL(GRİ) RESİMLER VAR.\n",
    "training_images.shape"
   ]
  },
  {
   "cell_type": "code",
   "execution_count": 54,
   "id": "0cdbc738-f907-492b-979a-a214c8fa0e52",
   "metadata": {},
   "outputs": [],
   "source": [
    "#BURADA ELİMZİDE BULUNAN RESİMLERİ FARKLI ÖZELLİKLERLE YENİDEN MODELİN GÖRMESİ İÇİN DÜZENLİYORUZ.\n",
    "train_datagen = ImageDataGenerator(\n",
    "    rescale=1. / 255,\n",
    "    rotation_range=40, #RESMİ 40 DERECE ÇEVİRİR\n",
    "    width_shift_range=0.2, #RESMİ YATAYDA %20 KAYDIRIR\n",
    "    height_shift_range=0.2, #RESMİ DİKEYDE %20 KAYDIRIR\n",
    "    shear_range=0.2, \n",
    "    zoom_range=0.2,\n",
    "    horizontal_flip=True,\n",
    "    fill_mode='nearest'\n",
    ")\n",
    "validation_datagen = ImageDataGenerator(rescale=1 / 255)"
   ]
  },
  {
   "cell_type": "code",
   "execution_count": 57,
   "id": "1e125167-27ce-4ecc-a8ac-659057e232a6",
   "metadata": {},
   "outputs": [],
   "source": [
    "#ŞİMDİ MODELİ HAZIRLIYORUZ.\n",
    "model = Sequential()\n",
    "model.add(Conv2D(32, (3,3), activation='relu', input_shape=(28, 28, 1))) #RESİMDEN 32 FARKLI ÖZELLİK ÇIKARIYOR.\n",
    "model.add(MaxPooling2D(2,2)) #RESMİ YARI YARIYA KÜÇÜLTÜYOR.\n",
    "model.add(Conv2D(32, (3,3), activation='relu')) #TEKRAR RESİMDEN 32 FARKLI ÖZELLİK ÇIKARIYOR.\n",
    "model.add(MaxPooling2D(2,2))# TEKRAR RESMİ YARI YARIYA KÜÇÜLTÜYOR.\n",
    "model.add(Flatten()) #RESMİ DENSE KATMANINA GİRECEK HALE (TEK BOYUTLU VEKTÖRE) GETİRİYOR\n",
    "model.add(Dense(512, activation='relu'))\n",
    "model.add(Dense(25, activation='softmax'))\n",
    "\n",
    "model.compile(\n",
    "    optimizer='adam',\n",
    "    loss='sparse_categorical_crossentropy',\n",
    "    metrics=['accuracy']\n",
    ")"
   ]
  },
  {
   "cell_type": "code",
   "execution_count": 58,
   "id": "1f3aaf79-a85a-4567-970b-d162407c4ea1",
   "metadata": {},
   "outputs": [
    {
     "name": "stdout",
     "output_type": "stream",
     "text": [
      "Epoch 1/10\n"
     ]
    },
    {
     "name": "stderr",
     "output_type": "stream",
     "text": [
      "C:\\Users\\PC\\AppData\\Local\\Temp\\ipykernel_12860\\2686348147.py:1: UserWarning: `Model.fit_generator` is deprecated and will be removed in a future version. Please use `Model.fit`, which supports generators.\n",
      "  history = model.fit_generator(train_datagen.flow(training_images, training_labels, batch_size=32),\n"
     ]
    },
    {
     "name": "stdout",
     "output_type": "stream",
     "text": [
      "857/857 [==============================] - 12s 14ms/step - loss: 2.6079 - accuracy: 0.2002 - val_loss: 1.7530 - val_accuracy: 0.3963\n",
      "Epoch 2/10\n",
      "857/857 [==============================] - 12s 14ms/step - loss: 1.8465 - accuracy: 0.4098 - val_loss: 1.2158 - val_accuracy: 0.5738\n",
      "Epoch 3/10\n",
      "857/857 [==============================] - 12s 14ms/step - loss: 1.4285 - accuracy: 0.5349 - val_loss: 0.8376 - val_accuracy: 0.6870\n",
      "Epoch 4/10\n",
      "857/857 [==============================] - 12s 14ms/step - loss: 1.1795 - accuracy: 0.6089 - val_loss: 0.7231 - val_accuracy: 0.7461\n",
      "Epoch 5/10\n",
      "857/857 [==============================] - 12s 14ms/step - loss: 1.0166 - accuracy: 0.6645 - val_loss: 0.5008 - val_accuracy: 0.8282\n",
      "Epoch 6/10\n",
      "857/857 [==============================] - 12s 14ms/step - loss: 0.8646 - accuracy: 0.7116 - val_loss: 0.5347 - val_accuracy: 0.7987\n",
      "Epoch 7/10\n",
      "857/857 [==============================] - 12s 14ms/step - loss: 0.7849 - accuracy: 0.7369 - val_loss: 0.3966 - val_accuracy: 0.8515\n",
      "Epoch 8/10\n",
      "857/857 [==============================] - 12s 14ms/step - loss: 0.7119 - accuracy: 0.7596 - val_loss: 0.4770 - val_accuracy: 0.8136\n",
      "Epoch 9/10\n",
      "857/857 [==============================] - 12s 14ms/step - loss: 0.6439 - accuracy: 0.7838 - val_loss: 0.3229 - val_accuracy: 0.8759\n",
      "Epoch 10/10\n",
      "857/857 [==============================] - 12s 13ms/step - loss: 0.5944 - accuracy: 0.8017 - val_loss: 0.2709 - val_accuracy: 0.9052\n"
     ]
    }
   ],
   "source": [
    "history = model.fit_generator(train_datagen.flow(training_images, training_labels, batch_size=32),\n",
    "                              steps_per_epoch=len(training_images) / 32,\n",
    "                              epochs=10,\n",
    "                              validation_data=validation_datagen.flow(testing_images, testing_labels, batch_size=32),\n",
    "                              validation_steps=len(testing_images) / 32)"
   ]
  },
  {
   "cell_type": "code",
   "execution_count": 59,
   "id": "75913a29-4195-446e-b7eb-6d33713506d6",
   "metadata": {},
   "outputs": [
    {
     "data": {
      "text/plain": [
       "[216.4359588623047, 0.6270217299461365]"
      ]
     },
     "execution_count": 59,
     "metadata": {},
     "output_type": "execute_result"
    }
   ],
   "source": [
    "model.evaluate(testing_images, testing_labels, verbose=0)"
   ]
  },
  {
   "cell_type": "markdown",
   "id": "c4b8e588-7853-4c24-ad88-9b9037e67247",
   "metadata": {},
   "source": [
    "EPOCHS SAYISI NEDENİYLE BAŞARI ORANIMIZ ŞİMDİLİK %63 ORANINDA."
   ]
  },
  {
   "cell_type": "code",
   "execution_count": null,
   "id": "912d97c8-e6f3-4c24-9efd-75fb5d9e02b6",
   "metadata": {},
   "outputs": [],
   "source": []
  }
 ],
 "metadata": {
  "kernelspec": {
   "display_name": "Python 3 (ipykernel)",
   "language": "python",
   "name": "python3"
  },
  "language_info": {
   "codemirror_mode": {
    "name": "ipython",
    "version": 3
   },
   "file_extension": ".py",
   "mimetype": "text/x-python",
   "name": "python",
   "nbconvert_exporter": "python",
   "pygments_lexer": "ipython3",
   "version": "3.10.18"
  }
 },
 "nbformat": 4,
 "nbformat_minor": 5
}
