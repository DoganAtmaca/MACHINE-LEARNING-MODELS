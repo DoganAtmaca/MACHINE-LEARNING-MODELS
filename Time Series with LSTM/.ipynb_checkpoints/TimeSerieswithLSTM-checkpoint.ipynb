{
 "cells": [
  {
   "cell_type": "markdown",
   "id": "e4819b39-9592-4f94-9803-391344a3d4ef",
   "metadata": {},
   "source": [
    "BU PROJEDE AYLARA GÖRE YOLCU SAYISI YAZAN BİR DATAFRAME VAR ELİMİZDE. BUNUNLA AYLARA GÖRE YOLCU SAYISINI ÖĞRENİP BİR SONRAKİ AYI TAHMİN EDEN BİR LSTM TIMESERIES MODELİ YAPACAĞIZ."
   ]
  },
  {
   "cell_type": "code",
   "execution_count": 99,
   "id": "9d7a09e6-e470-46b2-b6ed-1a53affc8ccd",
   "metadata": {},
   "outputs": [],
   "source": [
    "#KÜTÜPHANELERİ İMPORT EDİYORUZ.\n",
    "import pandas as pd\n",
    "import matplotlib.pyplot as plt\n",
    "from sklearn.preprocessing import MinMaxScaler\n",
    "from keras.models import Sequential\n",
    "from keras.layers import Dense, LSTM\n",
    "from sklearn.metrics import mean_squared_error\n",
    "import math\n",
    "import numpy as np"
   ]
  },
  {
   "cell_type": "code",
   "execution_count": 84,
   "id": "719493b3-9bbb-4d2e-9530-3144b8b058bc",
   "metadata": {},
   "outputs": [],
   "source": [
    "#BİZE LAZIM OLAN 2.SÜTUNU YANİ YOLCU SAYISINI ALIYORUZ.\n",
    "dataframe = pd.read_csv('airline-passengers.csv', usecols=[1], engine='python')"
   ]
  },
  {
   "cell_type": "code",
   "execution_count": 85,
   "id": "210af794-92f3-499a-a840-69f4a3aff66e",
   "metadata": {},
   "outputs": [
    {
     "data": {
      "text/html": [
       "<div>\n",
       "<style scoped>\n",
       "    .dataframe tbody tr th:only-of-type {\n",
       "        vertical-align: middle;\n",
       "    }\n",
       "\n",
       "    .dataframe tbody tr th {\n",
       "        vertical-align: top;\n",
       "    }\n",
       "\n",
       "    .dataframe thead th {\n",
       "        text-align: right;\n",
       "    }\n",
       "</style>\n",
       "<table border=\"1\" class=\"dataframe\">\n",
       "  <thead>\n",
       "    <tr style=\"text-align: right;\">\n",
       "      <th></th>\n",
       "      <th>Passengers</th>\n",
       "    </tr>\n",
       "  </thead>\n",
       "  <tbody>\n",
       "    <tr>\n",
       "      <th>0</th>\n",
       "      <td>112</td>\n",
       "    </tr>\n",
       "    <tr>\n",
       "      <th>1</th>\n",
       "      <td>118</td>\n",
       "    </tr>\n",
       "    <tr>\n",
       "      <th>2</th>\n",
       "      <td>132</td>\n",
       "    </tr>\n",
       "    <tr>\n",
       "      <th>3</th>\n",
       "      <td>129</td>\n",
       "    </tr>\n",
       "    <tr>\n",
       "      <th>4</th>\n",
       "      <td>121</td>\n",
       "    </tr>\n",
       "  </tbody>\n",
       "</table>\n",
       "</div>"
      ],
      "text/plain": [
       "   Passengers\n",
       "0         112\n",
       "1         118\n",
       "2         132\n",
       "3         129\n",
       "4         121"
      ]
     },
     "execution_count": 85,
     "metadata": {},
     "output_type": "execute_result"
    }
   ],
   "source": [
    "dataframe.head()"
   ]
  },
  {
   "cell_type": "code",
   "execution_count": 86,
   "id": "661b3556-3a02-4cd7-8cc5-a60f8d70de54",
   "metadata": {},
   "outputs": [],
   "source": [
    "dataset= dataframe.values"
   ]
  },
  {
   "cell_type": "code",
   "execution_count": 87,
   "id": "fc613c2e-0d63-49bd-855e-fe6af55d1c55",
   "metadata": {},
   "outputs": [],
   "source": [
    "dataset = dataset.astype('float32')"
   ]
  },
  {
   "cell_type": "code",
   "execution_count": 88,
   "id": "5a8943bf-f402-4501-bb21-b461537f7af9",
   "metadata": {},
   "outputs": [],
   "source": [
    "scale = MinMaxScaler(feature_range=(0,1))"
   ]
  },
  {
   "cell_type": "code",
   "execution_count": 89,
   "id": "16064073-4e5d-45d7-a971-d85c029caee3",
   "metadata": {},
   "outputs": [],
   "source": [
    "dataset = scale.fit_transform(dataset)"
   ]
  },
  {
   "cell_type": "code",
   "execution_count": 90,
   "id": "5f50ce16-cc2c-4cdf-88b5-db623bcc0244",
   "metadata": {},
   "outputs": [
    {
     "data": {
      "text/plain": [
       "144"
      ]
     },
     "execution_count": 90,
     "metadata": {},
     "output_type": "execute_result"
    }
   ],
   "source": [
    "len(dataset)"
   ]
  },
  {
   "cell_type": "code",
   "execution_count": 91,
   "id": "efcad7de-6858-4485-bd2a-a06a53e1c58a",
   "metadata": {},
   "outputs": [
    {
     "name": "stdout",
     "output_type": "stream",
     "text": [
      "96 48\n"
     ]
    }
   ],
   "source": [
    "#VERİYİ TEST VE TRAİN OLARAK BÖLÜYORUZ.\n",
    "train_size = int(len(dataset) * 0.67)\n",
    "test_size = len(dataset) - train_size\n",
    "train, test = dataset[0:train_size,:], dataset[train_size:len(dataset),:]\n",
    "print(len(train), len(test))"
   ]
  },
  {
   "cell_type": "code",
   "execution_count": 92,
   "id": "dc6caa95-11bb-4763-88c6-b859fc583c89",
   "metadata": {},
   "outputs": [],
   "source": [
    "#LOOK_BACK DEDİĞİMİZ DEĞER İLE VERİYİ BİR GÜN ÖNCEKİ VERİYE BAKARAK EĞİTİYORUZ. YANİ BİR GÜN ÖNCEKİ VERİ 100 İSE BU data_x E \n",
    "# SONRAKİ GÜNÜN VERİSİ İSE data_y ye EKLENİYOR. BÖYLECE BİZİM MODELİMİZ BİR GÜN ÖNCEKİ VERİYE BAKARAK SONRAKİ GÜNÜ TAHMİN EDİYOR.\n",
    "def new_dataset(dataset, look_back=1):\n",
    "    data_x, data_y = [],[]\n",
    "    for i in range(len(dataset)-look_back-1):\n",
    "        a = dataset[i:(i+look_back),0]\n",
    "        data_x.append(a)\n",
    "        data_y.append(dataset[i+look_back,0])\n",
    "    return np.array(data_x), np.array(data_y)"
   ]
  },
  {
   "cell_type": "code",
   "execution_count": 93,
   "id": "f08a9a74-f01e-490c-9302-d1c238c239cd",
   "metadata": {},
   "outputs": [],
   "source": [
    "look_back = 1\n",
    "x_train, y_train = new_dataset(train,look_back)\n",
    "x_test, y_test = new_dataset(test,look_back)"
   ]
  },
  {
   "cell_type": "code",
   "execution_count": 94,
   "id": "b76af3a0-07a8-4a1f-af39-805125392e6a",
   "metadata": {},
   "outputs": [
    {
     "data": {
      "text/plain": [
       "(94, 1)"
      ]
     },
     "execution_count": 94,
     "metadata": {},
     "output_type": "execute_result"
    }
   ],
   "source": [
    "x_train.shape # burada 94 tane örnek ve her örnekte 1 tane özellik olduğunu görüyoruz. bunu lstm için 3 boyutlu hale getirmeliyiz."
   ]
  },
  {
   "cell_type": "code",
   "execution_count": 95,
   "id": "665ab2c6-e5de-4f53-80da-a3c60a17b45d",
   "metadata": {},
   "outputs": [],
   "source": [
    "#hem eğitim hem de test verisi için bunları yapıyoruz.\n",
    "x_train = np.reshape(x_train, (x_train.shape[0],1,x_train.shape[1]))\n",
    "x_test = np.reshape(x_test, (x_test.shape[0],1,x_test.shape[1]))"
   ]
  },
  {
   "cell_type": "code",
   "execution_count": 96,
   "id": "82e85920-7ef5-4a46-b58a-452bc615dc50",
   "metadata": {},
   "outputs": [
    {
     "data": {
      "text/plain": [
       "(94, 1, 1)"
      ]
     },
     "execution_count": 96,
     "metadata": {},
     "output_type": "execute_result"
    }
   ],
   "source": [
    "x_train.shape # şimdi 3 boyutlu oldu."
   ]
  },
  {
   "cell_type": "code",
   "execution_count": 97,
   "id": "4d53f671-7c9c-47b1-98ca-1343f581c9fb",
   "metadata": {},
   "outputs": [],
   "source": [
    "#şimdi lstm modeli oluşturuyoruz.\n",
    "model = Sequential()\n",
    "model.add(LSTM(4, input_shape=(1,look_back)))\n",
    "model.add(Dense(1))\n",
    "model.compile(loss='mean_squared_error', optimizer='adam')"
   ]
  },
  {
   "cell_type": "code",
   "execution_count": 98,
   "id": "88a3afca-c083-44c8-8a21-16129cf28fb3",
   "metadata": {},
   "outputs": [
    {
     "name": "stdout",
     "output_type": "stream",
     "text": [
      "Epoch 1/100\n",
      "94/94 - 1s - loss: 0.0460 - 703ms/epoch - 7ms/step\n",
      "Epoch 2/100\n",
      "94/94 - 0s - loss: 0.0228 - 48ms/epoch - 511us/step\n",
      "Epoch 3/100\n",
      "94/94 - 0s - loss: 0.0172 - 49ms/epoch - 523us/step\n",
      "Epoch 4/100\n",
      "94/94 - 0s - loss: 0.0158 - 53ms/epoch - 564us/step\n",
      "Epoch 5/100\n",
      "94/94 - 0s - loss: 0.0149 - 52ms/epoch - 554us/step\n",
      "Epoch 6/100\n",
      "94/94 - 0s - loss: 0.0138 - 50ms/epoch - 532us/step\n",
      "Epoch 7/100\n",
      "94/94 - 0s - loss: 0.0129 - 53ms/epoch - 565us/step\n",
      "Epoch 8/100\n",
      "94/94 - 0s - loss: 0.0120 - 52ms/epoch - 553us/step\n",
      "Epoch 9/100\n",
      "94/94 - 0s - loss: 0.0110 - 52ms/epoch - 554us/step\n",
      "Epoch 10/100\n",
      "94/94 - 0s - loss: 0.0101 - 51ms/epoch - 543us/step\n",
      "Epoch 11/100\n",
      "94/94 - 0s - loss: 0.0090 - 50ms/epoch - 535us/step\n",
      "Epoch 12/100\n",
      "94/94 - 0s - loss: 0.0082 - 50ms/epoch - 532us/step\n",
      "Epoch 13/100\n",
      "94/94 - 0s - loss: 0.0074 - 50ms/epoch - 535us/step\n",
      "Epoch 14/100\n",
      "94/94 - 0s - loss: 0.0065 - 49ms/epoch - 521us/step\n",
      "Epoch 15/100\n",
      "94/94 - 0s - loss: 0.0057 - 51ms/epoch - 537us/step\n",
      "Epoch 16/100\n",
      "94/94 - 0s - loss: 0.0050 - 50ms/epoch - 532us/step\n",
      "Epoch 17/100\n",
      "94/94 - 0s - loss: 0.0045 - 50ms/epoch - 532us/step\n",
      "Epoch 18/100\n",
      "94/94 - 0s - loss: 0.0039 - 51ms/epoch - 543us/step\n",
      "Epoch 19/100\n",
      "94/94 - 0s - loss: 0.0035 - 50ms/epoch - 533us/step\n",
      "Epoch 20/100\n",
      "94/94 - 0s - loss: 0.0031 - 49ms/epoch - 521us/step\n",
      "Epoch 21/100\n",
      "94/94 - 0s - loss: 0.0028 - 50ms/epoch - 532us/step\n",
      "Epoch 22/100\n",
      "94/94 - 0s - loss: 0.0026 - 51ms/epoch - 543us/step\n",
      "Epoch 23/100\n",
      "94/94 - 0s - loss: 0.0025 - 51ms/epoch - 546us/step\n",
      "Epoch 24/100\n",
      "94/94 - 0s - loss: 0.0023 - 50ms/epoch - 532us/step\n",
      "Epoch 25/100\n",
      "94/94 - 0s - loss: 0.0022 - 51ms/epoch - 537us/step\n",
      "Epoch 26/100\n",
      "94/94 - 0s - loss: 0.0021 - 52ms/epoch - 553us/step\n",
      "Epoch 27/100\n",
      "94/94 - 0s - loss: 0.0021 - 50ms/epoch - 533us/step\n",
      "Epoch 28/100\n",
      "94/94 - 0s - loss: 0.0020 - 51ms/epoch - 543us/step\n",
      "Epoch 29/100\n",
      "94/94 - 0s - loss: 0.0021 - 51ms/epoch - 537us/step\n",
      "Epoch 30/100\n",
      "94/94 - 0s - loss: 0.0020 - 51ms/epoch - 543us/step\n",
      "Epoch 31/100\n",
      "94/94 - 0s - loss: 0.0021 - 55ms/epoch - 580us/step\n",
      "Epoch 32/100\n",
      "94/94 - 0s - loss: 0.0020 - 47ms/epoch - 503us/step\n",
      "Epoch 33/100\n",
      "94/94 - 0s - loss: 0.0020 - 48ms/epoch - 511us/step\n",
      "Epoch 34/100\n",
      "94/94 - 0s - loss: 0.0020 - 50ms/epoch - 532us/step\n",
      "Epoch 35/100\n",
      "94/94 - 0s - loss: 0.0020 - 50ms/epoch - 532us/step\n",
      "Epoch 36/100\n",
      "94/94 - 0s - loss: 0.0020 - 49ms/epoch - 522us/step\n",
      "Epoch 37/100\n",
      "94/94 - 0s - loss: 0.0020 - 49ms/epoch - 521us/step\n",
      "Epoch 38/100\n",
      "94/94 - 0s - loss: 0.0021 - 50ms/epoch - 532us/step\n",
      "Epoch 39/100\n",
      "94/94 - 0s - loss: 0.0020 - 49ms/epoch - 521us/step\n",
      "Epoch 40/100\n",
      "94/94 - 0s - loss: 0.0020 - 50ms/epoch - 532us/step\n",
      "Epoch 41/100\n",
      "94/94 - 0s - loss: 0.0020 - 50ms/epoch - 532us/step\n",
      "Epoch 42/100\n",
      "94/94 - 0s - loss: 0.0020 - 52ms/epoch - 555us/step\n",
      "Epoch 43/100\n",
      "94/94 - 0s - loss: 0.0020 - 51ms/epoch - 543us/step\n",
      "Epoch 44/100\n",
      "94/94 - 0s - loss: 0.0020 - 50ms/epoch - 532us/step\n",
      "Epoch 45/100\n",
      "94/94 - 0s - loss: 0.0020 - 49ms/epoch - 521us/step\n",
      "Epoch 46/100\n",
      "94/94 - 0s - loss: 0.0020 - 50ms/epoch - 534us/step\n",
      "Epoch 47/100\n",
      "94/94 - 0s - loss: 0.0020 - 50ms/epoch - 532us/step\n",
      "Epoch 48/100\n",
      "94/94 - 0s - loss: 0.0021 - 49ms/epoch - 522us/step\n",
      "Epoch 49/100\n",
      "94/94 - 0s - loss: 0.0020 - 49ms/epoch - 521us/step\n",
      "Epoch 50/100\n",
      "94/94 - 0s - loss: 0.0020 - 51ms/epoch - 545us/step\n",
      "Epoch 51/100\n",
      "94/94 - 0s - loss: 0.0020 - 51ms/epoch - 543us/step\n",
      "Epoch 52/100\n",
      "94/94 - 0s - loss: 0.0020 - 50ms/epoch - 533us/step\n",
      "Epoch 53/100\n",
      "94/94 - 0s - loss: 0.0020 - 49ms/epoch - 521us/step\n",
      "Epoch 54/100\n",
      "94/94 - 0s - loss: 0.0020 - 51ms/epoch - 544us/step\n",
      "Epoch 55/100\n",
      "94/94 - 0s - loss: 0.0020 - 51ms/epoch - 543us/step\n",
      "Epoch 56/100\n",
      "94/94 - 0s - loss: 0.0020 - 51ms/epoch - 545us/step\n",
      "Epoch 57/100\n",
      "94/94 - 0s - loss: 0.0021 - 50ms/epoch - 532us/step\n",
      "Epoch 58/100\n",
      "94/94 - 0s - loss: 0.0021 - 50ms/epoch - 534us/step\n",
      "Epoch 59/100\n",
      "94/94 - 0s - loss: 0.0020 - 51ms/epoch - 543us/step\n",
      "Epoch 60/100\n",
      "94/94 - 0s - loss: 0.0020 - 51ms/epoch - 543us/step\n",
      "Epoch 61/100\n",
      "94/94 - 0s - loss: 0.0020 - 50ms/epoch - 532us/step\n",
      "Epoch 62/100\n",
      "94/94 - 0s - loss: 0.0020 - 51ms/epoch - 537us/step\n",
      "Epoch 63/100\n",
      "94/94 - 0s - loss: 0.0020 - 51ms/epoch - 543us/step\n",
      "Epoch 64/100\n",
      "94/94 - 0s - loss: 0.0020 - 49ms/epoch - 516us/step\n",
      "Epoch 65/100\n",
      "94/94 - 0s - loss: 0.0020 - 51ms/epoch - 543us/step\n",
      "Epoch 66/100\n",
      "94/94 - 0s - loss: 0.0020 - 50ms/epoch - 533us/step\n",
      "Epoch 67/100\n",
      "94/94 - 0s - loss: 0.0020 - 50ms/epoch - 532us/step\n",
      "Epoch 68/100\n",
      "94/94 - 0s - loss: 0.0020 - 50ms/epoch - 534us/step\n",
      "Epoch 69/100\n",
      "94/94 - 0s - loss: 0.0021 - 49ms/epoch - 521us/step\n",
      "Epoch 70/100\n",
      "94/94 - 0s - loss: 0.0021 - 52ms/epoch - 555us/step\n",
      "Epoch 71/100\n",
      "94/94 - 0s - loss: 0.0020 - 50ms/epoch - 532us/step\n",
      "Epoch 72/100\n",
      "94/94 - 0s - loss: 0.0020 - 50ms/epoch - 532us/step\n",
      "Epoch 73/100\n",
      "94/94 - 0s - loss: 0.0020 - 52ms/epoch - 553us/step\n",
      "Epoch 74/100\n",
      "94/94 - 0s - loss: 0.0020 - 51ms/epoch - 544us/step\n",
      "Epoch 75/100\n",
      "94/94 - 0s - loss: 0.0020 - 50ms/epoch - 532us/step\n",
      "Epoch 76/100\n",
      "94/94 - 0s - loss: 0.0020 - 52ms/epoch - 554us/step\n",
      "Epoch 77/100\n",
      "94/94 - 0s - loss: 0.0020 - 52ms/epoch - 553us/step\n",
      "Epoch 78/100\n",
      "94/94 - 0s - loss: 0.0021 - 51ms/epoch - 537us/step\n",
      "Epoch 79/100\n",
      "94/94 - 0s - loss: 0.0021 - 50ms/epoch - 532us/step\n",
      "Epoch 80/100\n",
      "94/94 - 0s - loss: 0.0020 - 50ms/epoch - 527us/step\n",
      "Epoch 81/100\n",
      "94/94 - 0s - loss: 0.0020 - 50ms/epoch - 532us/step\n",
      "Epoch 82/100\n",
      "94/94 - 0s - loss: 0.0020 - 49ms/epoch - 525us/step\n",
      "Epoch 83/100\n",
      "94/94 - 0s - loss: 0.0020 - 50ms/epoch - 532us/step\n",
      "Epoch 84/100\n",
      "94/94 - 0s - loss: 0.0021 - 50ms/epoch - 536us/step\n",
      "Epoch 85/100\n",
      "94/94 - 0s - loss: 0.0020 - 51ms/epoch - 537us/step\n",
      "Epoch 86/100\n",
      "94/94 - 0s - loss: 0.0020 - 50ms/epoch - 532us/step\n",
      "Epoch 87/100\n",
      "94/94 - 0s - loss: 0.0020 - 51ms/epoch - 544us/step\n",
      "Epoch 88/100\n",
      "94/94 - 0s - loss: 0.0020 - 50ms/epoch - 532us/step\n",
      "Epoch 89/100\n",
      "94/94 - 0s - loss: 0.0020 - 49ms/epoch - 522us/step\n",
      "Epoch 90/100\n",
      "94/94 - 0s - loss: 0.0020 - 50ms/epoch - 532us/step\n",
      "Epoch 91/100\n",
      "94/94 - 0s - loss: 0.0020 - 51ms/epoch - 537us/step\n",
      "Epoch 92/100\n",
      "94/94 - 0s - loss: 0.0020 - 51ms/epoch - 543us/step\n",
      "Epoch 93/100\n",
      "94/94 - 0s - loss: 0.0020 - 52ms/epoch - 548us/step\n",
      "Epoch 94/100\n",
      "94/94 - 0s - loss: 0.0020 - 52ms/epoch - 553us/step\n",
      "Epoch 95/100\n",
      "94/94 - 0s - loss: 0.0020 - 48ms/epoch - 511us/step\n",
      "Epoch 96/100\n",
      "94/94 - 0s - loss: 0.0020 - 49ms/epoch - 521us/step\n",
      "Epoch 97/100\n",
      "94/94 - 0s - loss: 0.0020 - 50ms/epoch - 532us/step\n",
      "Epoch 98/100\n",
      "94/94 - 0s - loss: 0.0020 - 51ms/epoch - 543us/step\n",
      "Epoch 99/100\n",
      "94/94 - 0s - loss: 0.0020 - 49ms/epoch - 525us/step\n",
      "Epoch 100/100\n",
      "94/94 - 0s - loss: 0.0020 - 50ms/epoch - 532us/step\n"
     ]
    },
    {
     "data": {
      "text/plain": [
       "<keras.callbacks.History at 0x1c970dd7880>"
      ]
     },
     "execution_count": 98,
     "metadata": {},
     "output_type": "execute_result"
    }
   ],
   "source": [
    "model.fit(x_train, y_train, epochs=100, batch_size=1, verbose=2)"
   ]
  },
  {
   "cell_type": "code",
   "execution_count": 106,
   "id": "ca808cd7-2a2d-432f-b29f-d851b44d9200",
   "metadata": {},
   "outputs": [
    {
     "data": {
      "text/plain": [
       "(1, 46)"
      ]
     },
     "execution_count": 106,
     "metadata": {},
     "output_type": "execute_result"
    }
   ],
   "source": [
    "y_test.shape"
   ]
  },
  {
   "cell_type": "code",
   "execution_count": 108,
   "id": "6868b437-1976-40c5-ad3f-1a9a620391c7",
   "metadata": {},
   "outputs": [
    {
     "name": "stdout",
     "output_type": "stream",
     "text": [
      "3/3 [==============================] - 0s 1000us/step\n",
      "2/2 [==============================] - 0s 2ms/step\n"
     ]
    }
   ],
   "source": [
    "trainPredict = model.predict(x_train)\n",
    "testPredict = model.predict(x_test)\n",
    "# BURADA DAHA ÖNCE SCALE ETTİĞİMİZ VERİ GERİ DÖNÜŞTÜRÜYORUZ.\n",
    "trainPredict = scale.inverse_transform(trainPredict)\n",
    "trainY = scale.inverse_transform(y_train)\n",
    "testPredict = scale.inverse_transform(testPredict)\n",
    "testY = scale.inverse_transform(y_test)\n",
    "# root mean squared error HESAPLANIYOR\n",
    "trainScore = math.sqrt(mean_squared_error(trainY[0], trainPredict[:,0]))\n",
    "testScore = math.sqrt(mean_squared_error(testY[0], testPredict[:,0]))\n"
   ]
  },
  {
   "cell_type": "code",
   "execution_count": 119,
   "id": "c7ae6382-79a6-4265-81fd-4bef00a8018b",
   "metadata": {},
   "outputs": [
    {
     "data": {
      "text/plain": [
       "116558.27170290456"
      ]
     },
     "execution_count": 119,
     "metadata": {},
     "output_type": "execute_result"
    }
   ],
   "source": [
    "trainScore"
   ]
  },
  {
   "cell_type": "code",
   "execution_count": 117,
   "id": "36d9462b-59f9-411f-8b01-aaa323a1ef0d",
   "metadata": {},
   "outputs": [
    {
     "data": {
      "image/png": "[encoded data removed]",
      "text/plain": [
       "<Figure size 640x480 with 1 Axes>"
      ]
     },
     "metadata": {},
     "output_type": "display_data"
    }
   ],
   "source": [
    "# TRAİNPREDICTS\n",
    "trainPredictPlot = np.empty_like(dataset)\n",
    "trainPredictPlot[:, :] = np.nan\n",
    "trainPredictPlot[look_back:len(trainPredict)+look_back, :] = trainPredict\n",
    "# TESTPREDICTS\n",
    "testPredictPlot = np.empty_like(dataset)\n",
    "testPredictPlot[:, :] = np.nan\n",
    "testPredictPlot[len(trainPredict)+(look_back*2)+1:len(dataset)-1, :] = testPredict\n",
    "# DATANIN KENDİSİ\n",
    "plt.plot(scale.inverse_transform(dataset))\n",
    "plt.plot(trainPredictPlot)\n",
    "plt.plot(testPredictPlot)\n",
    "plt.show()"
   ]
  },
  {
   "cell_type": "markdown",
   "id": "e11028cd-bc0e-42d0-bb7c-90ca761fb8fe",
   "metadata": {},
   "source": [
    "AŞAĞIDA SON GÜNÜN VERİSİNİ KULLANARAK BİR SONRAKİ GÜNÜN VERSİNİ TAHMİN EDİYORUZ."
   ]
  },
  {
   "cell_type": "code",
   "execution_count": 123,
   "id": "cd3825e1-aa8d-4d4a-b9d5-aeb8b13b4566",
   "metadata": {},
   "outputs": [
    {
     "name": "stdout",
     "output_type": "stream",
     "text": [
      "1/1 [==============================] - 0s 19ms/step\n",
      "[[416.17834]]\n"
     ]
    }
   ],
   "source": [
    "# Son look_back gün verisini al\n",
    "last_window = dataset[-look_back:]  # 2D array\n",
    "last_window = last_window.reshape((1, 1, look_back))  # LSTM 3D input\n",
    "\n",
    "# Tahmin\n",
    "pred =(last_win model.predictdow)\n",
    "pred_original = scale.inverse_transform(pred)  # sayıyı gerçek ölçüye çevir\n",
    "print(pred_original)\n"
   ]
  },
  {
   "cell_type": "markdown",
   "id": "e1713b49-5bf7-45bd-95d5-bd05fe3b47d0",
   "metadata": {},
   "source": [
    "Bu projede, bir önceki veri setini kullanarak bir sonraki veriyi tahmin eden bir model geliştirdik. Örneğin, elimizde aylara göre yolcu sayıları varsa, Ekim ayını tahmin etmek için modelimize Eylül ayının verilerini input olarak verebiliriz. Model, geçmiş veriye bakarak bir sonraki ayın yolcu sayısını tahmin eder."
   ]
  },
  {
   "cell_type": "code",
   "execution_count": null,
   "id": "35d5cd63-8045-49dc-beb3-7b482a54c25b",
   "metadata": {},
   "outputs": [],
   "source": []
  }
 ],
 "metadata": {
  "kernelspec": {
   "display_name": "Python 3 (ipykernel)",
   "language": "python",
   "name": "python3"
  },
  "language_info": {
   "codemirror_mode": {
    "name": "ipython",
    "version": 3
   },
   "file_extension": ".py",
   "mimetype": "text/x-python",
   "name": "python",
   "nbconvert_exporter": "python",
   "pygments_lexer": "ipython3",
   "version": "3.10.18"
  }
 },
 "nbformat": 4,
 "nbformat_minor": 5
}
