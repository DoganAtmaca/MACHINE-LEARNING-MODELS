{
 "cells": [
  {
   "cell_type": "markdown",
   "id": "ef26ab66-d7fe-40b1-9775-d182968343a9",
   "metadata": {},
   "source": [
    "BU PROJEDE ELİMİZDE BULUNAN TWİTTER VERİLERİ İLE BİR SINIFLANDIRMA MODELİ GELİŞTİRECEĞİZ. AMACIMIZ YORUMLARI \"Hate Speech\", \"Offensive Language\" VE  \"No Hate and Offensive\" OLACAK ŞEKİLDE SINIFLANDIRMAK VE MODELİ BU YÖNDE EĞİTMEK."
   ]
  },
  {
   "cell_type": "code",
   "execution_count": 23,
   "id": "b1fd5dc2-db1d-414f-bc9e-ee3ec2dfb6ae",
   "metadata": {},
   "outputs": [],
   "source": [
    "import pandas as pd\n",
    "import re\n",
    "import numpy as np\n",
    "import nltk\n",
    "from sklearn.feature_extraction.text import CountVectorizer\n",
    "from sklearn.model_selection import train_test_split\n",
    "from sklearn.tree import DecisionTreeClassifier\n",
    "from sklearn.metrics import accuracy_score"
   ]
  },
  {
   "cell_type": "code",
   "execution_count": 2,
   "id": "a3a15bb9-33ad-4256-bc0e-9b5239e0dcf6",
   "metadata": {},
   "outputs": [],
   "source": [
    "data = pd.read_csv('twitter.csv')"
   ]
  },
  {
   "cell_type": "code",
   "execution_count": 3,
   "id": "89d844d4-cba4-445a-a791-02d30aafff3f",
   "metadata": {},
   "outputs": [
    {
     "data": {
      "text/html": [
       "<div>\n",
       "<style scoped>\n",
       "    .dataframe tbody tr th:only-of-type {\n",
       "        vertical-align: middle;\n",
       "    }\n",
       "\n",
       "    .dataframe tbody tr th {\n",
       "        vertical-align: top;\n",
       "    }\n",
       "\n",
       "    .dataframe thead th {\n",
       "        text-align: right;\n",
       "    }\n",
       "</style>\n",
       "<table border=\"1\" class=\"dataframe\">\n",
       "  <thead>\n",
       "    <tr style=\"text-align: right;\">\n",
       "      <th></th>\n",
       "      <th>Unnamed: 0</th>\n",
       "      <th>count</th>\n",
       "      <th>hate_speech</th>\n",
       "      <th>offensive_language</th>\n",
       "      <th>neither</th>\n",
       "      <th>class</th>\n",
       "      <th>tweet</th>\n",
       "    </tr>\n",
       "  </thead>\n",
       "  <tbody>\n",
       "    <tr>\n",
       "      <th>0</th>\n",
       "      <td>0</td>\n",
       "      <td>3</td>\n",
       "      <td>0</td>\n",
       "      <td>0</td>\n",
       "      <td>3</td>\n",
       "      <td>2</td>\n",
       "      <td>!!! RT @mayasolovely: As a woman you shouldn't...</td>\n",
       "    </tr>\n",
       "    <tr>\n",
       "      <th>1</th>\n",
       "      <td>1</td>\n",
       "      <td>3</td>\n",
       "      <td>0</td>\n",
       "      <td>3</td>\n",
       "      <td>0</td>\n",
       "      <td>1</td>\n",
       "      <td>!!!!! RT @mleew17: boy dats cold...tyga dwn ba...</td>\n",
       "    </tr>\n",
       "    <tr>\n",
       "      <th>2</th>\n",
       "      <td>2</td>\n",
       "      <td>3</td>\n",
       "      <td>0</td>\n",
       "      <td>3</td>\n",
       "      <td>0</td>\n",
       "      <td>1</td>\n",
       "      <td>!!!!!!! RT @UrKindOfBrand Dawg!!!! RT @80sbaby...</td>\n",
       "    </tr>\n",
       "    <tr>\n",
       "      <th>3</th>\n",
       "      <td>3</td>\n",
       "      <td>3</td>\n",
       "      <td>0</td>\n",
       "      <td>2</td>\n",
       "      <td>1</td>\n",
       "      <td>1</td>\n",
       "      <td>!!!!!!!!! RT @C_G_Anderson: @viva_based she lo...</td>\n",
       "    </tr>\n",
       "    <tr>\n",
       "      <th>4</th>\n",
       "      <td>4</td>\n",
       "      <td>6</td>\n",
       "      <td>0</td>\n",
       "      <td>6</td>\n",
       "      <td>0</td>\n",
       "      <td>1</td>\n",
       "      <td>!!!!!!!!!!!!! RT @ShenikaRoberts: The shit you...</td>\n",
       "    </tr>\n",
       "  </tbody>\n",
       "</table>\n",
       "</div>"
      ],
      "text/plain": [
       "   Unnamed: 0  count  hate_speech  offensive_language  neither  class  \\\n",
       "0           0      3            0                   0        3      2   \n",
       "1           1      3            0                   3        0      1   \n",
       "2           2      3            0                   3        0      1   \n",
       "3           3      3            0                   2        1      1   \n",
       "4           4      6            0                   6        0      1   \n",
       "\n",
       "                                               tweet  \n",
       "0  !!! RT @mayasolovely: As a woman you shouldn't...  \n",
       "1  !!!!! RT @mleew17: boy dats cold...tyga dwn ba...  \n",
       "2  !!!!!!! RT @UrKindOfBrand Dawg!!!! RT @80sbaby...  \n",
       "3  !!!!!!!!! RT @C_G_Anderson: @viva_based she lo...  \n",
       "4  !!!!!!!!!!!!! RT @ShenikaRoberts: The shit you...  "
      ]
     },
     "execution_count": 3,
     "metadata": {},
     "output_type": "execute_result"
    }
   ],
   "source": [
    "data.head()"
   ]
  },
  {
   "cell_type": "code",
   "execution_count": 8,
   "id": "1e7371b3-6ff1-46b5-a058-08a10d3e343a",
   "metadata": {},
   "outputs": [],
   "source": [
    "#CLASS SÜTUNUNA GÖRE VERİYE YENİ BİR LABELS SÜTUNU EKLEYELER AŞAĞIDAKİ ŞEKİLDE DOLDURUYORUZ.\n",
    "data[\"labels\"] = data[\"class\"].map({0: \"Hate Speech\", \n",
    "                                    1: \"Offensive Language\", \n",
    "                                    2: \"No Hate and Offensive\"})"
   ]
  },
  {
   "cell_type": "code",
   "execution_count": 5,
   "id": "2c088966-28a6-4d02-9279-385454a73b7a",
   "metadata": {},
   "outputs": [
    {
     "data": {
      "text/html": [
       "<div>\n",
       "<style scoped>\n",
       "    .dataframe tbody tr th:only-of-type {\n",
       "        vertical-align: middle;\n",
       "    }\n",
       "\n",
       "    .dataframe tbody tr th {\n",
       "        vertical-align: top;\n",
       "    }\n",
       "\n",
       "    .dataframe thead th {\n",
       "        text-align: right;\n",
       "    }\n",
       "</style>\n",
       "<table border=\"1\" class=\"dataframe\">\n",
       "  <thead>\n",
       "    <tr style=\"text-align: right;\">\n",
       "      <th></th>\n",
       "      <th>Unnamed: 0</th>\n",
       "      <th>count</th>\n",
       "      <th>hate_speech</th>\n",
       "      <th>offensive_language</th>\n",
       "      <th>neither</th>\n",
       "      <th>class</th>\n",
       "      <th>tweet</th>\n",
       "      <th>labels</th>\n",
       "    </tr>\n",
       "  </thead>\n",
       "  <tbody>\n",
       "    <tr>\n",
       "      <th>0</th>\n",
       "      <td>0</td>\n",
       "      <td>3</td>\n",
       "      <td>0</td>\n",
       "      <td>0</td>\n",
       "      <td>3</td>\n",
       "      <td>2</td>\n",
       "      <td>!!! RT @mayasolovely: As a woman you shouldn't...</td>\n",
       "      <td>No Hate and Offensive</td>\n",
       "    </tr>\n",
       "    <tr>\n",
       "      <th>1</th>\n",
       "      <td>1</td>\n",
       "      <td>3</td>\n",
       "      <td>0</td>\n",
       "      <td>3</td>\n",
       "      <td>0</td>\n",
       "      <td>1</td>\n",
       "      <td>!!!!! RT @mleew17: boy dats cold...tyga dwn ba...</td>\n",
       "      <td>Offensive Language</td>\n",
       "    </tr>\n",
       "    <tr>\n",
       "      <th>2</th>\n",
       "      <td>2</td>\n",
       "      <td>3</td>\n",
       "      <td>0</td>\n",
       "      <td>3</td>\n",
       "      <td>0</td>\n",
       "      <td>1</td>\n",
       "      <td>!!!!!!! RT @UrKindOfBrand Dawg!!!! RT @80sbaby...</td>\n",
       "      <td>Offensive Language</td>\n",
       "    </tr>\n",
       "    <tr>\n",
       "      <th>3</th>\n",
       "      <td>3</td>\n",
       "      <td>3</td>\n",
       "      <td>0</td>\n",
       "      <td>2</td>\n",
       "      <td>1</td>\n",
       "      <td>1</td>\n",
       "      <td>!!!!!!!!! RT @C_G_Anderson: @viva_based she lo...</td>\n",
       "      <td>Offensive Language</td>\n",
       "    </tr>\n",
       "    <tr>\n",
       "      <th>4</th>\n",
       "      <td>4</td>\n",
       "      <td>6</td>\n",
       "      <td>0</td>\n",
       "      <td>6</td>\n",
       "      <td>0</td>\n",
       "      <td>1</td>\n",
       "      <td>!!!!!!!!!!!!! RT @ShenikaRoberts: The shit you...</td>\n",
       "      <td>Offensive Language</td>\n",
       "    </tr>\n",
       "  </tbody>\n",
       "</table>\n",
       "</div>"
      ],
      "text/plain": [
       "   Unnamed: 0  count  hate_speech  offensive_language  neither  class  \\\n",
       "0           0      3            0                   0        3      2   \n",
       "1           1      3            0                   3        0      1   \n",
       "2           2      3            0                   3        0      1   \n",
       "3           3      3            0                   2        1      1   \n",
       "4           4      6            0                   6        0      1   \n",
       "\n",
       "                                               tweet                 labels  \n",
       "0  !!! RT @mayasolovely: As a woman you shouldn't...  No Hate and Offensive  \n",
       "1  !!!!! RT @mleew17: boy dats cold...tyga dwn ba...     Offensive Language  \n",
       "2  !!!!!!! RT @UrKindOfBrand Dawg!!!! RT @80sbaby...     Offensive Language  \n",
       "3  !!!!!!!!! RT @C_G_Anderson: @viva_based she lo...     Offensive Language  \n",
       "4  !!!!!!!!!!!!! RT @ShenikaRoberts: The shit you...     Offensive Language  "
      ]
     },
     "execution_count": 5,
     "metadata": {},
     "output_type": "execute_result"
    }
   ],
   "source": [
    "data.head()"
   ]
  },
  {
   "cell_type": "code",
   "execution_count": 6,
   "id": "250db9ea-9478-41b4-9712-28377276cae4",
   "metadata": {},
   "outputs": [],
   "source": [
    "#İŞİMİZE YARAYACAK OLAN İKİ SÜTUNU ALIYORUZ.\n",
    "data2 = data[['tweet','labels']]"
   ]
  },
  {
   "cell_type": "code",
   "execution_count": 7,
   "id": "a2dd481d-be4c-489f-be86-20d875aadaa7",
   "metadata": {},
   "outputs": [
    {
     "data": {
      "text/html": [
       "<div>\n",
       "<style scoped>\n",
       "    .dataframe tbody tr th:only-of-type {\n",
       "        vertical-align: middle;\n",
       "    }\n",
       "\n",
       "    .dataframe tbody tr th {\n",
       "        vertical-align: top;\n",
       "    }\n",
       "\n",
       "    .dataframe thead th {\n",
       "        text-align: right;\n",
       "    }\n",
       "</style>\n",
       "<table border=\"1\" class=\"dataframe\">\n",
       "  <thead>\n",
       "    <tr style=\"text-align: right;\">\n",
       "      <th></th>\n",
       "      <th>tweet</th>\n",
       "      <th>labels</th>\n",
       "    </tr>\n",
       "  </thead>\n",
       "  <tbody>\n",
       "    <tr>\n",
       "      <th>0</th>\n",
       "      <td>!!! RT @mayasolovely: As a woman you shouldn't...</td>\n",
       "      <td>No Hate and Offensive</td>\n",
       "    </tr>\n",
       "    <tr>\n",
       "      <th>1</th>\n",
       "      <td>!!!!! RT @mleew17: boy dats cold...tyga dwn ba...</td>\n",
       "      <td>Offensive Language</td>\n",
       "    </tr>\n",
       "    <tr>\n",
       "      <th>2</th>\n",
       "      <td>!!!!!!! RT @UrKindOfBrand Dawg!!!! RT @80sbaby...</td>\n",
       "      <td>Offensive Language</td>\n",
       "    </tr>\n",
       "    <tr>\n",
       "      <th>3</th>\n",
       "      <td>!!!!!!!!! RT @C_G_Anderson: @viva_based she lo...</td>\n",
       "      <td>Offensive Language</td>\n",
       "    </tr>\n",
       "    <tr>\n",
       "      <th>4</th>\n",
       "      <td>!!!!!!!!!!!!! RT @ShenikaRoberts: The shit you...</td>\n",
       "      <td>Offensive Language</td>\n",
       "    </tr>\n",
       "  </tbody>\n",
       "</table>\n",
       "</div>"
      ],
      "text/plain": [
       "                                               tweet                 labels\n",
       "0  !!! RT @mayasolovely: As a woman you shouldn't...  No Hate and Offensive\n",
       "1  !!!!! RT @mleew17: boy dats cold...tyga dwn ba...     Offensive Language\n",
       "2  !!!!!!! RT @UrKindOfBrand Dawg!!!! RT @80sbaby...     Offensive Language\n",
       "3  !!!!!!!!! RT @C_G_Anderson: @viva_based she lo...     Offensive Language\n",
       "4  !!!!!!!!!!!!! RT @ShenikaRoberts: The shit you...     Offensive Language"
      ]
     },
     "execution_count": 7,
     "metadata": {},
     "output_type": "execute_result"
    }
   ],
   "source": [
    "data2.head()"
   ]
  },
  {
   "cell_type": "code",
   "execution_count": 13,
   "id": "c7a457d6-5d78-40d8-9366-233618121e62",
   "metadata": {},
   "outputs": [],
   "source": [
    "#KÖK BULMA VE STOPWORDS TEMİZLEME İÇİN AŞAĞIDAKİ KODLARI KULLANIYORUZ.\n",
    "stemmer = nltk.SnowballStemmer(\"english\")\n",
    "from nltk.corpus import stopwords\n",
    "import string\n",
    "stopword=set(stopwords.words('english'))"
   ]
  },
  {
   "cell_type": "code",
   "execution_count": 14,
   "id": "b347a051-d045-4fa1-b553-5bcf60bcad25",
   "metadata": {},
   "outputs": [],
   "source": [
    "#REWIEV SÜTUNUNDA BULUNAN TEXTLER TEMİZLENİYOR.\n",
    "def clean_text(text):\n",
    "    text = str(text).lower() # harfleri küçültüyor.\n",
    "    text = re.sub('/[.*?/]','',text) # mesela \"[örnek]\" ifadesini köşeli parantezlerde dahil olmak üzere tamamen siliyor. \n",
    "    text = re.sub('https?://\\S+|www\\.\\S+','',text) # 'http veya https veya www ile başlayan tüm internet adreslerini siliyor.'\n",
    "    text = re.sub('<.*?>+','',text) # html ifadeleri siliyor '<örnek>'\n",
    "    text = re.sub('[%s]' % re.escape(string.punctuation), '', text) #tüm noktalama işaretlerini siliyor. % ifadesi sağdaki noktalama işaretlerini soldaki köşeli parantezin içine almaya yarıyor.\n",
    "    text = re.sub('\\n', '', text) #'/n' ifadesi varsa siliyor kelime içerisinde.\n",
    "    text = re.sub('\\w*\\d\\w*', '', text) #içerisinde rakam olan kelimeleri yakalayıp siliyor.\n",
    "    text = [word for word in text.split(' ') if word not in stopword] # text'i parçalıyor ve stop words varsa siliyor.\n",
    "    text=\" \".join(text) #stopwords silindikten sonra tekrar texti birleştiriyor.\n",
    "    text = [stemmer.stem(word) for word in text.split(' ')] #text'i tekrar ayırıyıyor ve köklerini bularak liste yapıyor.\n",
    "    text=\" \".join(text) #kökler bulunduktan sonra listeyi tekrar string hale getirip birleştiriyor.\n",
    "    return text # texti döndürüyor.\n",
    "\n",
    "data[\"tweet\"] = data[\"tweet\"].apply(clean_text)"
   ]
  },
  {
   "cell_type": "code",
   "execution_count": 17,
   "id": "b6b761de-1a1c-4a4a-ab00-3cb603497bde",
   "metadata": {},
   "outputs": [],
   "source": [
    "#ELİMİZDEKİ SÜTUNLARI NUMPY ARRAY A DÖNÜŞTÜRÜYORUZ.\n",
    "x = np.array(data2['tweet'])\n",
    "y = np.array(data2['labels'])"
   ]
  },
  {
   "cell_type": "code",
   "execution_count": 19,
   "id": "6a2d5159-d04e-40d5-acab-8fe3c7ed7836",
   "metadata": {},
   "outputs": [],
   "source": [
    "#TWEET SÜTUNUNDA BULUNAN TEXTLERİ VEKTÖRE DÖNÜŞTÜYORUZ.\n",
    "vect = CountVectorizer()\n",
    "x_vect = vect.fit_transform(x)\n",
    "x_train, x_test, y_train, y_test = train_test_split(x_vect, y,test_size=0.20,random_state=25)"
   ]
  },
  {
   "cell_type": "code",
   "execution_count": 21,
   "id": "ccedc68b-af0a-4369-9ace-a0fa05771bc3",
   "metadata": {},
   "outputs": [],
   "source": [
    "#MODELİMİZİ EĞİTİYORUZ.\n",
    "DT = DecisionTreeClassifier()\n",
    "model = DT.fit(x_train,y_train)"
   ]
  },
  {
   "cell_type": "code",
   "execution_count": 22,
   "id": "80083a12-96e3-4562-a634-2d37c26467cb",
   "metadata": {},
   "outputs": [],
   "source": [
    "tahmin = DT.predict(x_test)"
   ]
  },
  {
   "cell_type": "code",
   "execution_count": 24,
   "id": "3d093d86-31f2-4ffa-85d1-2804c35bfa1e",
   "metadata": {},
   "outputs": [
    {
     "data": {
      "text/plain": [
       "0.8955013112769821"
      ]
     },
     "execution_count": 24,
     "metadata": {},
     "output_type": "execute_result"
    }
   ],
   "source": [
    "#BAŞARI ORANIMIZI ÖLÇÜYORUZ.\n",
    "accuracy_score(y_test,tahmin)"
   ]
  },
  {
   "cell_type": "code",
   "execution_count": 27,
   "id": "8136413d-120d-4a16-bc9a-f6a7d7fac776",
   "metadata": {},
   "outputs": [
    {
     "name": "stdin",
     "output_type": "stream",
     "text": [
      "Text:  bad man\n"
     ]
    },
    {
     "data": {
      "text/plain": [
       "array(['No Hate and Offensive'], dtype=object)"
      ]
     },
     "execution_count": 27,
     "metadata": {},
     "output_type": "execute_result"
    }
   ],
   "source": [
    "#KULLANICIDAN ALDIĞIMIZ TEXT İLE MODELİMİZİ DENİYORUZ.\n",
    "input_text = input('Text: ')\n",
    "text_vect = vect.transform([input_text]).toarray()\n",
    "model.predict(text_vect)\n"
   ]
  },
  {
   "cell_type": "markdown",
   "id": "ed431e3c-9c5f-4997-af2e-b4ab00e79879",
   "metadata": {},
   "source": [
    "BU PROJEDE YAKLAŞIK %90 LIK BİR BAŞARI ELDE ETTİK. ELİMİZDEKİ TWİTTER VERİLERİNİ OFANSİF, KÖTÜ VE KÖTÜ OLMAYAN OFANSİF ŞEKLİNDE SINIFLANDIRDIK."
   ]
  },
  {
   "cell_type": "code",
   "execution_count": null,
   "id": "71dbad96-19b8-4b2e-b136-ad885aad3b8e",
   "metadata": {},
   "outputs": [],
   "source": []
  }
 ],
 "metadata": {
  "kernelspec": {
   "display_name": "Python 3 (ipykernel)",
   "language": "python",
   "name": "python3"
  },
  "language_info": {
   "codemirror_mode": {
    "name": "ipython",
    "version": 3
   },
   "file_extension": ".py",
   "mimetype": "text/x-python",
   "name": "python",
   "nbconvert_exporter": "python",
   "pygments_lexer": "ipython3",
   "version": "3.10.18"
  }
 },
 "nbformat": 4,
 "nbformat_minor": 5
}
