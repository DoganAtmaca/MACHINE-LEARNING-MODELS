{
 "cells": [
  {
   "cell_type": "markdown",
   "id": "ac324ea0-9b87-4373-899d-00356afd4eff",
   "metadata": {},
   "source": [
    "BU PROJEDE APPLE HİSSE SENEDİ DATASINDA BULUNAN TARİH VE KAPANIŞ VERİLERİYLE BİR TIMESERIES MODELİ OLUŞTURACAĞIZ. BUNUN İÇİN AUTOTS KÜTÜPHANESİNİ KULLANACAĞIZ."
   ]
  },
  {
   "cell_type": "code",
   "execution_count": 1,
   "id": "1dbfb381-b10d-4689-89ec-3e053bb45070",
   "metadata": {},
   "outputs": [],
   "source": [
    "import pandas as pd\n",
    "import matplotlib.pyplot as plt"
   ]
  },
  {
   "cell_type": "code",
   "execution_count": 2,
   "id": "65573b84-dbbe-4d0c-8296-58078ca46f03",
   "metadata": {},
   "outputs": [],
   "source": [
    "data = pd.read_csv('apple_1year2.csv')"
   ]
  },
  {
   "cell_type": "code",
   "execution_count": 3,
   "id": "48a259cb-4848-4423-a07e-3668c4693a15",
   "metadata": {},
   "outputs": [
    {
     "data": {
      "text/html": [
       "<div>\n",
       "<style scoped>\n",
       "    .dataframe tbody tr th:only-of-type {\n",
       "        vertical-align: middle;\n",
       "    }\n",
       "\n",
       "    .dataframe tbody tr th {\n",
       "        vertical-align: top;\n",
       "    }\n",
       "\n",
       "    .dataframe thead th {\n",
       "        text-align: right;\n",
       "    }\n",
       "</style>\n",
       "<table border=\"1\" class=\"dataframe\">\n",
       "  <thead>\n",
       "    <tr style=\"text-align: right;\">\n",
       "      <th></th>\n",
       "      <th>Price</th>\n",
       "      <th>Date</th>\n",
       "      <th>Open</th>\n",
       "      <th>High</th>\n",
       "      <th>Low</th>\n",
       "      <th>Close</th>\n",
       "      <th>Volume</th>\n",
       "    </tr>\n",
       "  </thead>\n",
       "  <tbody>\n",
       "    <tr>\n",
       "      <th>0</th>\n",
       "      <td>Ticker</td>\n",
       "      <td>NaN</td>\n",
       "      <td>AAPL</td>\n",
       "      <td>AAPL</td>\n",
       "      <td>AAPL</td>\n",
       "      <td>AAPL</td>\n",
       "      <td>AAPL</td>\n",
       "    </tr>\n",
       "    <tr>\n",
       "      <th>1</th>\n",
       "      <td>0</td>\n",
       "      <td>2024-09-23</td>\n",
       "      <td>226.2868480598011</td>\n",
       "      <td>228.38707413181643</td>\n",
       "      <td>224.7639369712135</td>\n",
       "      <td>225.42088317871094</td>\n",
       "      <td>54146000</td>\n",
       "    </tr>\n",
       "    <tr>\n",
       "      <th>2</th>\n",
       "      <td>1</td>\n",
       "      <td>2024-09-24</td>\n",
       "      <td>227.59079599939528</td>\n",
       "      <td>228.2875654709032</td>\n",
       "      <td>224.68432442569429</td>\n",
       "      <td>226.3167266845703</td>\n",
       "      <td>43556100</td>\n",
       "    </tr>\n",
       "    <tr>\n",
       "      <th>3</th>\n",
       "      <td>2</td>\n",
       "      <td>2024-09-25</td>\n",
       "      <td>223.88800321688734</td>\n",
       "      <td>226.23707111110926</td>\n",
       "      <td>222.9822303399746</td>\n",
       "      <td>225.3213348388672</td>\n",
       "      <td>42308700</td>\n",
       "    </tr>\n",
       "    <tr>\n",
       "      <th>4</th>\n",
       "      <td>3</td>\n",
       "      <td>2024-09-26</td>\n",
       "      <td>226.24703661091274</td>\n",
       "      <td>227.44147457763864</td>\n",
       "      <td>224.36579263659118</td>\n",
       "      <td>226.4660186767578</td>\n",
       "      <td>36636700</td>\n",
       "    </tr>\n",
       "  </tbody>\n",
       "</table>\n",
       "</div>"
      ],
      "text/plain": [
       "    Price        Date                Open                High  \\\n",
       "0  Ticker         NaN                AAPL                AAPL   \n",
       "1       0  2024-09-23   226.2868480598011  228.38707413181643   \n",
       "2       1  2024-09-24  227.59079599939528   228.2875654709032   \n",
       "3       2  2024-09-25  223.88800321688734  226.23707111110926   \n",
       "4       3  2024-09-26  226.24703661091274  227.44147457763864   \n",
       "\n",
       "                  Low               Close    Volume  \n",
       "0                AAPL                AAPL      AAPL  \n",
       "1   224.7639369712135  225.42088317871094  54146000  \n",
       "2  224.68432442569429   226.3167266845703  43556100  \n",
       "3   222.9822303399746   225.3213348388672  42308700  \n",
       "4  224.36579263659118   226.4660186767578  36636700  "
      ]
     },
     "execution_count": 3,
     "metadata": {},
     "output_type": "execute_result"
    }
   ],
   "source": [
    "data.head()"
   ]
  },
  {
   "cell_type": "code",
   "execution_count": 4,
   "id": "2487d9b4-db1c-468b-8f0e-e2782fdfec28",
   "metadata": {},
   "outputs": [],
   "source": [
    "data = data[['Date','Close']]"
   ]
  },
  {
   "cell_type": "code",
   "execution_count": 5,
   "id": "2436bddb-3727-4052-89ee-448b4900b1a8",
   "metadata": {},
   "outputs": [],
   "source": [
    "data = data.iloc[1:]\n",
    "data = data.reset_index(drop=True)"
   ]
  },
  {
   "cell_type": "code",
   "execution_count": 6,
   "id": "f4bb5176-eec9-4c62-b3a6-8737609bdcc8",
   "metadata": {},
   "outputs": [
    {
     "data": {
      "text/html": [
       "<div>\n",
       "<style scoped>\n",
       "    .dataframe tbody tr th:only-of-type {\n",
       "        vertical-align: middle;\n",
       "    }\n",
       "\n",
       "    .dataframe tbody tr th {\n",
       "        vertical-align: top;\n",
       "    }\n",
       "\n",
       "    .dataframe thead th {\n",
       "        text-align: right;\n",
       "    }\n",
       "</style>\n",
       "<table border=\"1\" class=\"dataframe\">\n",
       "  <thead>\n",
       "    <tr style=\"text-align: right;\">\n",
       "      <th></th>\n",
       "      <th>Date</th>\n",
       "      <th>Close</th>\n",
       "    </tr>\n",
       "  </thead>\n",
       "  <tbody>\n",
       "    <tr>\n",
       "      <th>0</th>\n",
       "      <td>2024-09-23</td>\n",
       "      <td>225.42088317871094</td>\n",
       "    </tr>\n",
       "    <tr>\n",
       "      <th>1</th>\n",
       "      <td>2024-09-24</td>\n",
       "      <td>226.3167266845703</td>\n",
       "    </tr>\n",
       "    <tr>\n",
       "      <th>2</th>\n",
       "      <td>2024-09-25</td>\n",
       "      <td>225.3213348388672</td>\n",
       "    </tr>\n",
       "    <tr>\n",
       "      <th>3</th>\n",
       "      <td>2024-09-26</td>\n",
       "      <td>226.4660186767578</td>\n",
       "    </tr>\n",
       "    <tr>\n",
       "      <th>4</th>\n",
       "      <td>2024-09-27</td>\n",
       "      <td>226.73475646972656</td>\n",
       "    </tr>\n",
       "  </tbody>\n",
       "</table>\n",
       "</div>"
      ],
      "text/plain": [
       "         Date               Close\n",
       "0  2024-09-23  225.42088317871094\n",
       "1  2024-09-24   226.3167266845703\n",
       "2  2024-09-25   225.3213348388672\n",
       "3  2024-09-26   226.4660186767578\n",
       "4  2024-09-27  226.73475646972656"
      ]
     },
     "execution_count": 6,
     "metadata": {},
     "output_type": "execute_result"
    }
   ],
   "source": [
    "data.head()"
   ]
  },
  {
   "cell_type": "code",
   "execution_count": 7,
   "id": "c85ac004-af64-4c7a-b3f2-96264796e293",
   "metadata": {},
   "outputs": [
    {
     "name": "stdout",
     "output_type": "stream",
     "text": [
      "<class 'pandas.core.frame.DataFrame'>\n",
      "RangeIndex: 249 entries, 0 to 248\n",
      "Data columns (total 2 columns):\n",
      " #   Column  Non-Null Count  Dtype \n",
      "---  ------  --------------  ----- \n",
      " 0   Date    249 non-null    object\n",
      " 1   Close   249 non-null    object\n",
      "dtypes: object(2)\n",
      "memory usage: 4.0+ KB\n"
     ]
    }
   ],
   "source": [
    "data.info()"
   ]
  },
  {
   "cell_type": "code",
   "execution_count": 8,
   "id": "72b15d63-ab92-4784-aba1-f00b6b7655c4",
   "metadata": {},
   "outputs": [],
   "source": [
    "#OBJECT OLAN SÜTUNLARI DATE VE FLOATA ÇEVİRİYORUZ.\n",
    "data['Date'] = pd.to_datetime(data.Date)\n",
    "data['Close'] = data['Close'].astype('float32')"
   ]
  },
  {
   "cell_type": "code",
   "execution_count": 9,
   "id": "fd805935-00b6-42e3-a1f7-758749bf68fb",
   "metadata": {},
   "outputs": [
    {
     "name": "stderr",
     "output_type": "stream",
     "text": [
      "No artists with labels found to put in legend.  Note that artists whose label start with an underscore are ignored when legend() is called with no argument.\n"
     ]
    },
    {
     "data": {
      "image/png": "[encoded data removed]",
      "text/plain": [
       "<Figure size 1500x700 with 1 Axes>"
      ]
     },
     "metadata": {},
     "output_type": "display_data"
    }
   ],
   "source": [
    "#VERİNİN DAĞILIMINI GÖSTEREN GRAFİĞİ ÇİZİYORUZ.\n",
    "plt.figure(figsize=(15,7))\n",
    "plt.plot(data['Date'],data['Close'])\n",
    "plt.title('APPLE STOCK PRİCE')\n",
    "plt.legend()\n",
    "plt.grid()"
   ]
  },
  {
   "cell_type": "code",
   "execution_count": 11,
   "id": "2a3c41cd-f200-4cc1-b70c-66c23d3a14c7",
   "metadata": {},
   "outputs": [
    {
     "name": "stdout",
     "output_type": "stream",
     "text": [
      "Using 8 cpus for n_jobs.\n",
      "Data frequency is: B, used frequency is: B\n",
      "Old data dropped by `drop_data_older_than_periods`.\n",
      "Model Number: 1 with model AverageValueNaive in generation 0 of 25\n",
      "Model Number: 2 with model AverageValueNaive in generation 0 of 25\n",
      "Model Number: 3 with model AverageValueNaive in generation 0 of 25\n",
      "Model Number: 4 with model DatepartRegression in generation 0 of 25\n",
      "Model Number: 5 with model DatepartRegression in generation 0 of 25\n",
      "Model Number: 6 with model DatepartRegression in generation 0 of 25\n"
     ]
    },
    {
     "name": "stderr",
     "output_type": "stream",
     "text": [
      "C:\\ProgramData\\anaconda3\\envs\\nlp-env\\lib\\site-packages\\sklearn\\svm\\_base.py:1244: ConvergenceWarning: Liblinear failed to converge, increase the number of iterations.\n",
      "  warnings.warn(\n",
      "C:\\ProgramData\\anaconda3\\envs\\nlp-env\\lib\\site-packages\\sklearn\\neural_network\\_multilayer_perceptron.py:541: ConvergenceWarning: lbfgs failed to converge (status=1):\n",
      "STOP: TOTAL NO. of ITERATIONS REACHED LIMIT.\n",
      "\n",
      "Increase the number of iterations (max_iter) or scale the data as shown in:\n",
      "    https://scikit-learn.org/stable/modules/preprocessing.html\n",
      "  self.n_iter_ = _check_optimize_result(\"lbfgs\", opt_res, self.max_iter)\n"
     ]
    },
    {
     "name": "stdout",
     "output_type": "stream",
     "text": [
      "Model Number: 7 with model DatepartRegression in generation 0 of 25\n",
      "Epoch 1/50\n",
      "6/6 [==============================] - 2s 3ms/step - loss: 0.3900\n",
      "Epoch 2/50\n",
      "6/6 [==============================] - 0s 3ms/step - loss: 0.3838\n",
      "Epoch 3/50\n",
      "6/6 [==============================] - 0s 3ms/step - loss: 0.3782\n",
      "Epoch 4/50\n",
      "6/6 [==============================] - 0s 3ms/step - loss: 0.3768\n",
      "Epoch 5/50\n",
      "6/6 [==============================] - 0s 3ms/step - loss: 0.3733\n",
      "Epoch 6/50\n",
      "6/6 [==============================] - 0s 3ms/step - loss: 0.3628\n",
      "Epoch 7/50\n",
      "6/6 [==============================] - 0s 4ms/step - loss: 0.3575\n",
      "Epoch 8/50\n",
      "6/6 [==============================] - 0s 3ms/step - loss: 0.3518\n",
      "Epoch 9/50\n",
      "6/6 [==============================] - 0s 3ms/step - loss: 0.3411\n",
      "Epoch 10/50\n",
      "6/6 [==============================] - 0s 3ms/step - loss: 0.3381\n",
      "Epoch 11/50\n",
      "6/6 [==============================] - 0s 3ms/step - loss: 0.3224\n",
      "Epoch 12/50\n",
      "6/6 [==============================] - 0s 3ms/step - loss: 0.3039\n",
      "Epoch 13/50\n",
      "6/6 [==============================] - 0s 3ms/step - loss: 0.3015\n",
      "Epoch 14/50\n",
      "6/6 [==============================] - 0s 3ms/step - loss: 0.2754\n",
      "Epoch 15/50\n",
      "6/6 [==============================] - 0s 3ms/step - loss: 0.2676\n",
      "Epoch 16/50\n",
      "6/6 [==============================] - 0s 4ms/step - loss: 0.2347\n",
      "Epoch 17/50\n",
      "6/6 [==============================] - 0s 3ms/step - loss: 0.2127\n",
      "Epoch 18/50\n",
      "6/6 [==============================] - 0s 3ms/step - loss: 0.1938\n",
      "Epoch 19/50\n",
      "6/6 [==============================] - 0s 3ms/step - loss: 0.1825\n",
      "Epoch 20/50\n",
      "6/6 [==============================] - 0s 4ms/step - loss: 0.1771\n",
      "Epoch 21/50\n",
      "6/6 [==============================] - 0s 3ms/step - loss: 0.1766\n",
      "Epoch 22/50\n",
      "6/6 [==============================] - 0s 3ms/step - loss: 0.1696\n",
      "Epoch 23/50\n",
      "6/6 [==============================] - 0s 3ms/step - loss: 0.1661\n",
      "Epoch 24/50\n",
      "6/6 [==============================] - 0s 3ms/step - loss: 0.1606\n",
      "Epoch 25/50\n",
      "6/6 [==============================] - 0s 3ms/step - loss: 0.1526\n",
      "Epoch 26/50\n",
      "6/6 [==============================] - 0s 2ms/step - loss: 0.1559\n",
      "Epoch 27/50\n",
      "6/6 [==============================] - 0s 3ms/step - loss: 0.1689\n",
      "Epoch 28/50\n",
      "6/6 [==============================] - 0s 2ms/step - loss: 0.1563\n",
      "Epoch 29/50\n",
      "6/6 [==============================] - 0s 3ms/step - loss: 0.1546\n",
      "Epoch 30/50\n",
      "6/6 [==============================] - 0s 2ms/step - loss: 0.1453\n",
      "Epoch 31/50\n",
      "6/6 [==============================] - 0s 2ms/step - loss: 0.1613\n",
      "Epoch 32/50\n",
      "6/6 [==============================] - 0s 2ms/step - loss: 0.1469\n",
      "Epoch 33/50\n",
      "6/6 [==============================] - 0s 2ms/step - loss: 0.1487\n",
      "Epoch 34/50\n",
      "6/6 [==============================] - 0s 2ms/step - loss: 0.1432\n",
      "Epoch 35/50\n",
      "6/6 [==============================] - 0s 3ms/step - loss: 0.1559\n",
      "Epoch 36/50\n",
      "6/6 [==============================] - 0s 3ms/step - loss: 0.1471\n",
      "Epoch 37/50\n",
      "6/6 [==============================] - 0s 2ms/step - loss: 0.1533\n",
      "Epoch 38/50\n",
      "6/6 [==============================] - 0s 3ms/step - loss: 0.1408\n",
      "Epoch 39/50\n",
      "6/6 [==============================] - 0s 3ms/step - loss: 0.1508\n",
      "Epoch 40/50\n",
      "6/6 [==============================] - 0s 3ms/step - loss: 0.1451\n",
      "Epoch 41/50\n",
      "6/6 [==============================] - 0s 2ms/step - loss: 0.1445\n",
      "Epoch 42/50\n",
      "6/6 [==============================] - 0s 2ms/step - loss: 0.1340\n",
      "Epoch 43/50\n",
      "6/6 [==============================] - 0s 2ms/step - loss: 0.1370\n",
      "Epoch 44/50\n",
      "6/6 [==============================] - 0s 2ms/step - loss: 0.1455\n",
      "Epoch 45/50\n",
      "6/6 [==============================] - 0s 2ms/step - loss: 0.1512\n",
      "Epoch 46/50\n",
      "6/6 [==============================] - 0s 3ms/step - loss: 0.1396\n",
      "Epoch 47/50\n",
      "6/6 [==============================] - 0s 3ms/step - loss: 0.1449\n",
      "Epoch 48/50\n",
      "6/6 [==============================] - 0s 2ms/step - loss: 0.1364\n",
      "Epoch 49/50\n",
      "6/6 [==============================] - 0s 2ms/step - loss: 0.1373\n",
      "Epoch 50/50\n",
      "6/6 [==============================] - 0s 2ms/step - loss: 0.1448\n",
      "1/1 [==============================] - 0s 372ms/step\n",
      "Model Number: 8 with model ETS in generation 0 of 25\n",
      "Model Number: 9 with model ETS in generation 0 of 25\n",
      "Model Number: 10 with model GLM in generation 0 of 25\n",
      "Model Number: 11 with model GLM in generation 0 of 25\n",
      "Model Number: 12 with model GLS in generation 0 of 25\n",
      "Model Number: 13 with model GLS in generation 0 of 25\n",
      "Model Number: 14 with model LastValueNaive in generation 0 of 25\n",
      "Model Number: 15 with model LastValueNaive in generation 0 of 25\n",
      "Model Number: 16 with model LastValueNaive in generation 0 of 25\n",
      "Model Number: 17 with model LastValueNaive in generation 0 of 25\n",
      "Model Number: 18 with model SeasonalNaive in generation 0 of 25\n",
      "Model Number: 19 with model SeasonalNaive in generation 0 of 25\n",
      "Model Number: 20 with model SeasonalNaive in generation 0 of 25\n",
      "Model Number: 21 with model VAR in generation 0 of 25\n",
      "Template Eval Error: ValueError('Only gave one variable to VAR') in model 21 in generation 0: VAR\n",
      "Model Number: 22 with model VAR in generation 0 of 25\n",
      "Template Eval Error: ValueError('Only gave one variable to VAR') in model 22 in generation 0: VAR\n",
      "Model Number: 23 with model WindowRegression in generation 0 of 25\n",
      "Model Number: 24 with model ConstantNaive in generation 0 of 25\n",
      "Model Number: 25 with model FBProphet in generation 0 of 25\n",
      "Template Eval Error: ModuleNotFoundError(\"No module named 'fbprophet'\") in model 25 in generation 0: FBProphet\n",
      "Model Number: 26 with model DatepartRegression in generation 0 of 25\n",
      "Template Eval Error: ValueError(\"regression_type='User' but no future_regressor passed\") in model 26 in generation 0: DatepartRegression\n",
      "Model Number: 27 with model SeasonalNaive in generation 0 of 25\n",
      "Model Number: 28 with model DatepartRegression in generation 0 of 25\n",
      "Model Number: 29 with model ETS in generation 0 of 25\n"
     ]
    },
    {
     "name": "stderr",
     "output_type": "stream",
     "text": [
      "C:\\ProgramData\\anaconda3\\envs\\nlp-env\\lib\\site-packages\\sklearn\\neural_network\\_multilayer_perceptron.py:541: ConvergenceWarning: lbfgs failed to converge (status=1):\n",
      "STOP: TOTAL NO. of ITERATIONS REACHED LIMIT.\n",
      "\n",
      "Increase the number of iterations (max_iter) or scale the data as shown in:\n",
      "    https://scikit-learn.org/stable/modules/preprocessing.html\n",
      "  self.n_iter_ = _check_optimize_result(\"lbfgs\", opt_res, self.max_iter)\n"
     ]
    },
    {
     "name": "stdout",
     "output_type": "stream",
     "text": [
      "Model Number: 30 with model ARDL in generation 0 of 25\n",
      "Model Number: 31 with model UnivariateMotif in generation 0 of 25\n",
      "Model Number: 32 with model UnivariateMotif in generation 0 of 25\n",
      "Model Number: 33 with model SectionalMotif in generation 0 of 25\n",
      "Model Number: 34 with model SectionalMotif in generation 0 of 25\n",
      "Model Number: 35 with model FBProphet in generation 0 of 25\n",
      "Template Eval Error: ModuleNotFoundError(\"No module named 'fbprophet'\") in model 35 in generation 0: FBProphet\n",
      "Model Number: 36 with model SeasonalNaive in generation 0 of 25\n",
      "Model Number: 37 with model DatepartRegression in generation 0 of 25\n",
      "Model Number: 38 with model ARCH in generation 0 of 25\n",
      "Template Eval Error: ImportError('`arch` package must be installed from pip') in model 38 in generation 0: ARCH\n",
      "Model Number: 39 with model Cassandra in generation 0 of 25\n",
      "Model Number: 40 with model SeasonalityMotif in generation 0 of 25\n",
      "Model Number: 41 with model Cassandra in generation 0 of 25\n",
      "Model Number: 42 with model Cassandra in generation 0 of 25\n"
     ]
    },
    {
     "name": "stderr",
     "output_type": "stream",
     "text": [
      "C:\\ProgramData\\anaconda3\\envs\\nlp-env\\lib\\site-packages\\numpy\\lib\\function_base.py:2853: RuntimeWarning: invalid value encountered in divide\n",
      "  c /= stddev[:, None]\n",
      "C:\\ProgramData\\anaconda3\\envs\\nlp-env\\lib\\site-packages\\numpy\\lib\\function_base.py:2854: RuntimeWarning: invalid value encountered in divide\n",
      "  c /= stddev[None, :]\n",
      "C:\\ProgramData\\anaconda3\\envs\\nlp-env\\lib\\site-packages\\numpy\\lib\\function_base.py:2853: RuntimeWarning: invalid value encountered in divide\n",
      "  c /= stddev[:, None]\n",
      "C:\\ProgramData\\anaconda3\\envs\\nlp-env\\lib\\site-packages\\numpy\\lib\\function_base.py:2854: RuntimeWarning: invalid value encountered in divide\n",
      "  c /= stddev[None, :]\n"
     ]
    },
    {
     "name": "stdout",
     "output_type": "stream",
     "text": [
      "Model Number: 43 with model Cassandra in generation 0 of 25\n",
      "Model Number: 44 with model SectionalMotif in generation 0 of 25\n",
      "Model Number: 45 with model FBProphet in generation 0 of 25\n",
      "Template Eval Error: ModuleNotFoundError(\"No module named 'fbprophet'\") in model 45 in generation 0: FBProphet\n",
      "Model Number: 46 with model ARDL in generation 0 of 25\n"
     ]
    },
    {
     "name": "stderr",
     "output_type": "stream",
     "text": [
      "C:\\ProgramData\\anaconda3\\envs\\nlp-env\\lib\\site-packages\\numpy\\lib\\function_base.py:2853: RuntimeWarning: invalid value encountered in divide\n",
      "  c /= stddev[:, None]\n",
      "C:\\ProgramData\\anaconda3\\envs\\nlp-env\\lib\\site-packages\\numpy\\lib\\function_base.py:2854: RuntimeWarning: invalid value encountered in divide\n",
      "  c /= stddev[None, :]\n"
     ]
    },
    {
     "name": "stdout",
     "output_type": "stream",
     "text": [
      "Model Number: 47 with model FFT in generation 0 of 25\n",
      "Model Number: 48 with model BasicLinearModel in generation 0 of 25\n",
      "Template Eval Error: ValueError('matmul: Input operand 1 has a mismatch in its core dimension 0, with gufunc signature (n?,k),(k,m?)->(n?,m?) (size 190 is different from 1092)') in model 48 in generation 0: BasicLinearModel\n",
      "Model Number: 49 with model BasicLinearModel in generation 0 of 25\n",
      "Model Number: 50 with model SeasonalityMotif in generation 0 of 25\n",
      "Model Number: 51 with model BasicLinearModel in generation 0 of 25\n",
      "Model Number: 52 with model FBProphet in generation 0 of 25\n",
      "Template Eval Error: ModuleNotFoundError(\"No module named 'fbprophet'\") in model 52 in generation 0: FBProphet\n",
      "Model Number: 53 with model ETS in generation 0 of 25\n",
      "Model Number: 54 with model FBProphet in generation 0 of 25\n",
      "Template Eval Error: ModuleNotFoundError(\"No module named 'fbprophet'\") in model 54 in generation 0: FBProphet\n",
      "Model Number: 55 with model GLM in generation 0 of 25\n",
      "Template Eval Error: ValueError('NaN, inf or invalid value detected in weights, estimation infeasible.') in model 55 in generation 0: GLM\n",
      "Model Number: 56 with model UnivariateMotif in generation 0 of 25\n"
     ]
    },
    {
     "name": "stderr",
     "output_type": "stream",
     "text": [
      "C:\\ProgramData\\anaconda3\\envs\\nlp-env\\lib\\site-packages\\statsmodels\\genmod\\families\\links.py:527: RuntimeWarning: overflow encountered in exp\n",
      "  return np.exp(z)\n",
      "C:\\ProgramData\\anaconda3\\envs\\nlp-env\\lib\\site-packages\\statsmodels\\genmod\\families\\family.py:143: RuntimeWarning: invalid value encountered in multiply\n",
      "  return 1. / (self.link.deriv(mu)**2 * self.variance(mu))\n",
      "C:\\ProgramData\\anaconda3\\envs\\nlp-env\\lib\\site-packages\\statsmodels\\genmod\\generalized_linear_model.py:1328: RuntimeWarning: invalid value encountered in multiply\n",
      "  wlsendog = (lin_pred + self.family.link.deriv(mu) * (self.endog-mu)\n"
     ]
    },
    {
     "name": "stdout",
     "output_type": "stream",
     "text": [
      "Model Number: 57 with model ARDL in generation 0 of 25\n",
      "Model Number: 58 with model ARCH in generation 0 of 25\n",
      "Template Eval Error: ImportError('`arch` package must be installed from pip') in model 58 in generation 0: ARCH\n",
      "Model Number: 59 with model ConstantNaive in generation 0 of 25\n",
      "Model Number: 60 with model LastValueNaive in generation 0 of 25\n",
      "Model Number: 61 with model AverageValueNaive in generation 0 of 25\n",
      "Model Number: 62 with model GLS in generation 0 of 25\n",
      "Model Number: 63 with model SeasonalNaive in generation 0 of 25\n",
      "Model Number: 64 with model VAR in generation 0 of 25\n",
      "Template Eval Error: ValueError('Only gave one variable to VAR') in model 64 in generation 0: VAR\n",
      "Model Number: 65 with model WindowRegression in generation 0 of 25\n",
      "Model Number: 66 with model DatepartRegression in generation 0 of 25\n",
      "Template Eval Error: IndexError('tuple index out of range') in model 66 in generation 0: DatepartRegression\n",
      "Model Number: 67 with model SectionalMotif in generation 0 of 25\n",
      "Model Number: 68 with model RRVAR in generation 0 of 25\n",
      "Model Number: 69 with model MetricMotif in generation 0 of 25\n",
      "Model Number: 70 with model Cassandra in generation 0 of 25\n",
      "Template Eval Error: ValueError('Shape of passed values is (180, 4), indices imply (180, 2)') in model 70 in generation 0: Cassandra\n",
      "Model Number: 71 with model SeasonalityMotif in generation 0 of 25\n",
      "Model Number: 72 with model FFT in generation 0 of 25\n",
      "Model Number: 73 with model BasicLinearModel in generation 0 of 25\n",
      "Model Number: 74 with model MetricMotif in generation 0 of 25\n"
     ]
    },
    {
     "name": "stderr",
     "output_type": "stream",
     "text": [
      "C:\\ProgramData\\anaconda3\\envs\\nlp-env\\lib\\site-packages\\sklearn\\base.py:432: UserWarning: X has feature names, but StandardScaler was fitted without feature names\n",
      "  warnings.warn(\n"
     ]
    },
    {
     "name": "stdout",
     "output_type": "stream",
     "text": [
      "Model Number: 75 with model GLS in generation 0 of 25\n",
      "Model Number: 76 with model SeasonalityMotif in generation 0 of 25\n",
      "Model Number: 77 with model ETS in generation 0 of 25\n",
      "Model Number: 78 with model ConstantNaive in generation 0 of 25\n",
      "Model Number: 79 with model SectionalMotif in generation 0 of 25\n",
      "Model Number: 80 with model SectionalMotif in generation 0 of 25\n",
      "Model Number: 81 with model DatepartRegression in generation 0 of 25\n",
      "Template Eval Error: ValueError('Input X contains NaN.\\nElasticNet does not accept missing values encoded as NaN natively. For supervised learning, you might want to consider sklearn.ensemble.HistGradientBoostingClassifier and Regressor which accept missing values encoded as NaNs natively. Alternatively, it is possible to preprocess the data, for instance by using an imputer transformer in a pipeline or drop samples with missing values. See https://scikit-learn.org/stable/modules/impute.html You can find a list of all estimators that handle NaN values at the following page: https://scikit-learn.org/stable/modules/impute.html#estimators-that-handle-nan-values') in model 81 in generation 0: DatepartRegression\n",
      "Model Number: 82 with model SeasonalityMotif in generation 0 of 25\n",
      "Model Number: 83 with model FBProphet in generation 0 of 25\n",
      "Template Eval Error: ModuleNotFoundError(\"No module named 'fbprophet'\") in model 83 in generation 0: FBProphet\n",
      "Model Number: 84 with model DatepartRegression in generation 0 of 25\n",
      "interpolating\n",
      "Template Eval Error: ValueError('Model DatepartRegression returned NaN for one or more series. fail_on_forecast_nan=True') in model 84 in generation 0: DatepartRegression\n",
      "Model Number: 85 with model SeasonalityMotif in generation 0 of 25\n",
      "Model Number: 86 with model ARDL in generation 0 of 25\n",
      "Model Number: 87 with model FBProphet in generation 0 of 25\n",
      "Template Eval Error: ModuleNotFoundError(\"No module named 'fbprophet'\") in model 87 in generation 0: FBProphet\n",
      "Model Number: 88 with model ConstantNaive in generation 0 of 25\n",
      "Model Number: 89 with model WindowRegression in generation 0 of 25\n",
      "Model Number: 90 with model ETS in generation 0 of 25\n",
      "Model Number: 91 with model UnivariateMotif in generation 0 of 25\n",
      "Model Number: 92 with model SeasonalityMotif in generation 0 of 25\n",
      "Model Number: 93 with model DatepartRegression in generation 0 of 25\n",
      "Model Number: 94 with model FFT in generation 0 of 25\n"
     ]
    },
    {
     "name": "stderr",
     "output_type": "stream",
     "text": [
      "C:\\ProgramData\\anaconda3\\envs\\nlp-env\\lib\\site-packages\\sklearn\\neighbors\\_regression.py:494: UserWarning: One or more samples have no neighbors within specified radius; predicting NaN.\n",
      "  warnings.warn(empty_warning_msg)\n",
      "C:\\ProgramData\\anaconda3\\envs\\nlp-env\\lib\\site-packages\\sklearn\\base.py:432: UserWarning: X has feature names, but StandardScaler was fitted without feature names\n",
      "  warnings.warn(\n",
      "C:\\ProgramData\\anaconda3\\envs\\nlp-env\\lib\\site-packages\\sklearn\\base.py:432: UserWarning: X has feature names, but StandardScaler was fitted without feature names\n",
      "  warnings.warn(\n",
      "C:\\ProgramData\\anaconda3\\envs\\nlp-env\\lib\\site-packages\\sklearn\\base.py:432: UserWarning: X has feature names, but StandardScaler was fitted without feature names\n",
      "  warnings.warn(\n",
      "C:\\ProgramData\\anaconda3\\envs\\nlp-env\\lib\\site-packages\\sklearn\\base.py:432: UserWarning: X has feature names, but StandardScaler was fitted without feature names\n",
      "  warnings.warn(\n",
      "C:\\ProgramData\\anaconda3\\envs\\nlp-env\\lib\\site-packages\\sklearn\\base.py:432: UserWarning: X has feature names, but StandardScaler was fitted without feature names\n",
      "  warnings.warn(\n",
      "C:\\ProgramData\\anaconda3\\envs\\nlp-env\\lib\\site-packages\\sklearn\\base.py:432: UserWarning: X has feature names, but StandardScaler was fitted without feature names\n",
      "  warnings.warn(\n",
      "C:\\ProgramData\\anaconda3\\envs\\nlp-env\\lib\\site-packages\\sklearn\\base.py:432: UserWarning: X has feature names, but StandardScaler was fitted without feature names\n",
      "  warnings.warn(\n",
      "C:\\ProgramData\\anaconda3\\envs\\nlp-env\\lib\\site-packages\\sklearn\\base.py:432: UserWarning: X has feature names, but StandardScaler was fitted without feature names\n",
      "  warnings.warn(\n",
      "C:\\ProgramData\\anaconda3\\envs\\nlp-env\\lib\\site-packages\\sklearn\\base.py:432: UserWarning: X has feature names, but StandardScaler was fitted without feature names\n",
      "  warnings.warn(\n",
      "C:\\ProgramData\\anaconda3\\envs\\nlp-env\\lib\\site-packages\\sklearn\\base.py:432: UserWarning: X has feature names, but StandardScaler was fitted without feature names\n",
      "  warnings.warn(\n"
     ]
    },
    {
     "name": "stdout",
     "output_type": "stream",
     "text": [
      "Model Number: 95 with model UnivariateMotif in generation 0 of 25\n",
      "Model Number: 96 with model FBProphet in generation 0 of 25\n",
      "Template Eval Error: ModuleNotFoundError(\"No module named 'fbprophet'\") in model 96 in generation 0: FBProphet\n",
      "Model Number: 97 with model ARCH in generation 0 of 25\n",
      "Template Eval Error: ImportError('`arch` package must be installed from pip') in model 97 in generation 0: ARCH\n",
      "Model Number: 98 with model DatepartRegression in generation 0 of 25\n",
      "Model Number: 99 with model BasicLinearModel in generation 0 of 25\n",
      "Model Number: 100 with model FFT in generation 0 of 25\n",
      "Model Number: 101 with model LastValueNaive in generation 0 of 25\n",
      "Model Number: 102 with model LastValueNaive in generation 0 of 25\n",
      "Model Number: 103 with model Cassandra in generation 0 of 25\n",
      "Template Eval Error: ValueError('The given frequency argument is incompatible with the given index.') in model 103 in generation 0: Cassandra\n",
      "Model Number: 104 with model FBProphet in generation 0 of 25\n",
      "Template Eval Error: ValueError(\"regression_type='User' but no future_regressor passed\") in model 104 in generation 0: FBProphet\n",
      "Model Number: 105 with model ETS in generation 0 of 25\n",
      "Model Number: 106 with model VAR in generation 0 of 25\n",
      "Template Eval Error: ValueError('Only gave one variable to VAR') in model 106 in generation 0: VAR\n",
      "Model Number: 107 with model ARCH in generation 0 of 25\n",
      "Template Eval Error: ImportError('`arch` package must be installed from pip') in model 107 in generation 0: ARCH\n",
      "Model Number: 108 with model SeasonalityMotif in generation 0 of 25\n",
      "Model Number: 109 with model ETS in generation 0 of 25\n",
      "Model Number: 110 with model ConstantNaive in generation 0 of 25\n",
      "Model Number: 111 with model SeasonalNaive in generation 0 of 25\n",
      "Model Number: 112 with model SectionalMotif in generation 0 of 25\n",
      "Model Number: 113 with model LastValueNaive in generation 0 of 25\n",
      "Model Number: 114 with model GLM in generation 0 of 25\n",
      "Template Eval Error: ValueError('regression_type=user and no future_regressor passed') in model 114 in generation 0: GLM\n",
      "Model Number: 115 with model MetricMotif in generation 0 of 25\n",
      "Model Number: 116 with model GLM in generation 0 of 25\n",
      "2025-09-06 00:00:00\n",
      "2025-09-06 00:00:00\n",
      "2025-09-06 00:00:00\n"
     ]
    },
    {
     "name": "stderr",
     "output_type": "stream",
     "text": [
      "C:\\ProgramData\\anaconda3\\envs\\nlp-env\\lib\\site-packages\\numpy\\lib\\function_base.py:2853: RuntimeWarning: invalid value encountered in divide\n",
      "  c /= stddev[:, None]\n",
      "C:\\ProgramData\\anaconda3\\envs\\nlp-env\\lib\\site-packages\\numpy\\lib\\function_base.py:2854: RuntimeWarning: invalid value encountered in divide\n",
      "  c /= stddev[None, :]\n"
     ]
    },
    {
     "name": "stdout",
     "output_type": "stream",
     "text": [
      "Model Number: 117 with model FFT in generation 0 of 25\n",
      "Model Number: 118 with model ConstantNaive in generation 0 of 25\n",
      "Model Number: 119 with model SeasonalityMotif in generation 0 of 25\n",
      "Model Number: 120 with model GLM in generation 0 of 25\n",
      "Template Eval Error: ValueError('Model GLM returned NaN for one or more series. fail_on_forecast_nan=True') in model 120 in generation 0: GLM\n",
      "Model Number: 121 with model AverageValueNaive in generation 0 of 25\n",
      "Model Number: 122 with model UnivariateMotif in generation 0 of 25\n",
      "Model Number: 123 with model FFT in generation 0 of 25\n",
      "Model Number: 124 with model ConstantNaive in generation 0 of 25\n",
      "Model Number: 125 with model GLS in generation 0 of 25\n",
      "Model Number: 126 with model VAR in generation 0 of 25\n",
      "Template Eval Error: ValueError('Only gave one variable to VAR') in model 126 in generation 0: VAR\n",
      "Model Number: 127 with model GLS in generation 0 of 25\n"
     ]
    },
    {
     "name": "stderr",
     "output_type": "stream",
     "text": [
      "C:\\ProgramData\\anaconda3\\envs\\nlp-env\\lib\\site-packages\\statsmodels\\genmod\\families\\links.py:527: RuntimeWarning: overflow encountered in exp\n",
      "  return np.exp(z)\n"
     ]
    },
    {
     "name": "stdout",
     "output_type": "stream",
     "text": [
      "Model Number: 128 with model ETS in generation 0 of 25\n",
      "Model Number: 129 with model GLS in generation 0 of 25\n",
      "Model Number: 130 with model ARCH in generation 0 of 25\n",
      "Template Eval Error: ImportError('`arch` package must be installed from pip') in model 130 in generation 0: ARCH\n",
      "Model Number: 131 with model VAR in generation 0 of 25\n",
      "Template Eval Error: ValueError('Only gave one variable to VAR') in model 131 in generation 0: VAR\n",
      "Model Number: 132 with model SectionalMotif in generation 0 of 25\n",
      "Model Number: 133 with model UnivariateMotif in generation 0 of 25\n",
      "Model Number: 134 with model VAR in generation 0 of 25\n",
      "Template Eval Error: ValueError('Only gave one variable to VAR') in model 134 in generation 0: VAR\n",
      "Model Number: 135 with model DatepartRegression in generation 0 of 25\n",
      "Template Eval Error: ValueError(\"regression_type='User' but no future_regressor passed\") in model 135 in generation 0: DatepartRegression\n",
      "Model Number: 136 with model UnivariateMotif in generation 0 of 25\n",
      "Template Eval Error: Exception('Transformer PCA failed on fit from params ffill {\\'0\\': {\\'decimals\\': 0, \\'on_transform\\': False, \\'on_inverse\\': True}, \\'1\\': {\\'rows\\': 1, \\'lag\\': 1, \\'method\\': \\'additive\\', \\'strength\\': 1.0, \\'first_value_only\\': False, \\'threshold\\': 1, \\'threshold_method\\': \\'mean\\'}, \\'2\\': {\\'whiten\\': False, \\'n_components\\': 10}, \\'3\\': {\\'lag_1\\': 7, \\'method\\': 20}} with error ValueError(\"n_components=10 must be between 0 and min(n_samples, n_features)=1 with svd_solver=\\'full\\'\")') in model 136 in generation 0: UnivariateMotif\n",
      "Model Number: 137 with model ARCH in generation 0 of 25\n",
      "Template Eval Error: ImportError('`arch` package must be installed from pip') in model 137 in generation 0: ARCH\n",
      "Model Number: 138 with model ARCH in generation 0 of 25\n",
      "Template Eval Error: ImportError('`arch` package must be installed from pip') in model 138 in generation 0: ARCH\n",
      "Model Number: 139 with model Cassandra in generation 0 of 25\n",
      "Template Eval Error: Exception(\"Transformer Detrend failed on fit from params linear {'0': {'rows': 1, 'lag': 1, 'method': 'multiplicative', 'strength': 1.0, 'first_value_only': False, 'threshold': 1, 'threshold_method': 'mean'}, '1': {'model': 'Linear', 'phi': 1, 'window': 10, 'transform_dict': {'fillna': None, 'transformations': {'0': 'AnomalyRemoval'}, 'transformation_params': {'0': {'method': 'zscore', 'transform_dict': {'transformations': {'0': 'DatepartRegression'}, 'transformation_params': {'0': {'datepart_method': 'simple_3', 'regression_model': {'model': 'ElasticNet', 'model_params': {}}}}}, 'method_params': {'distribution': 'uniform', 'alpha': 0.05}}}}}} with error ValueError('Input y contains NaN.')\") in model 139 in generation 0: Cassandra\n",
      "Model Number: 140 with model ETS in generation 0 of 25\n",
      "Model Number: 141 with model SeasonalityMotif in generation 0 of 25\n",
      "Model Number: 142 with model SeasonalNaive in generation 0 of 25\n",
      "Model Number: 143 with model ARDL in generation 0 of 25\n",
      "Model Number: 144 with model AverageValueNaive in generation 0 of 25\n",
      "Model Number: 145 with model ARDL in generation 0 of 25\n",
      "Template Eval Error: ValueError(\"regression_type='User' but future_regressor not supplied\") in model 145 in generation 0: ARDL\n",
      "Model Number: 146 with model SeasonalityMotif in generation 0 of 25\n",
      "Model Number: 147 with model MetricMotif in generation 0 of 25\n",
      "Model Number: 148 with model SeasonalityMotif in generation 0 of 25\n",
      "Model Number: 149 with model FBProphet in generation 0 of 25\n",
      "Template Eval Error: ModuleNotFoundError(\"No module named 'fbprophet'\") in model 149 in generation 0: FBProphet\n",
      "Model Number: 150 with model SectionalMotif in generation 0 of 25\n",
      "Model Number: 151 with model SeasonalNaive in generation 0 of 25\n",
      "Template Eval Error: Exception(\"Transformer FIRFilter failed on fit from params mean {'0': {'method': 'IQR', 'method_params': {'iqr_threshold': 2.0, 'iqr_quantiles': [0.25, 0.75]}, 'fillna': 'rolling_mean_24', 'transform_dict': None, 'isolated_only': False, 'on_inverse': False}, '1': {'numtaps': 7, 'cutoff_hz': 50, 'window': 'hamming', 'sampling_frequency': 72, 'on_transform': True, 'on_inverse': False, 'bounds_only': False}, '2': {'fixed': True, 'window': 3, 'macro_micro': False, 'center': False}, '3': {'method': 'minmax', 'method_params': {'alpha': 0.05}, 'transform_dict': None, 'reverse_alignment': False, 'isolated_only': False, 'fillna': 'time'}, '4': {'rows': 1, 'lag': 1, 'method': 'additive', 'strength': 1.0, 'first_value_only': False, 'threshold': 3, 'threshold_method': 'max'}} with error ValueError('Invalid cutoff frequency: frequencies must be greater than 0 and less than fs/2.')\") in model 151 in generation 0: SeasonalNaive\n",
      "Model Number: 152 with model ETS in generation 0 of 25\n",
      "Model Number: 153 with model SeasonalityMotif in generation 0 of 25\n",
      "Model Number: 154 with model SectionalMotif in generation 0 of 25\n",
      "Template Eval Error: ValueError('kth(=100) out of bounds (86)') in model 154 in generation 0: SectionalMotif\n",
      "Model Number: 155 with model FBProphet in generation 0 of 25\n",
      "Template Eval Error: ModuleNotFoundError(\"No module named 'fbprophet'\") in model 155 in generation 0: FBProphet\n",
      "Model Number: 156 with model LastValueNaive in generation 0 of 25\n",
      "Model Number: 157 with model GLS in generation 0 of 25\n",
      "New Generation: 1 of 25\n",
      "Model Number: 158 with model MetricMotif in generation 1 of 25\n",
      "Model Number: 159 with model ARDL in generation 1 of 25\n",
      "Model Number: 160 with model SectionalMotif in generation 1 of 25\n",
      "Model Number: 161 with model ARDL in generation 1 of 25\n",
      "Model Number: 162 with model SeasonalNaive in generation 1 of 25\n",
      "Model Number: 163 with model SeasonalityMotif in generation 1 of 25\n",
      "Model Number: 164 with model BasicLinearModel in generation 1 of 25\n",
      "Model Number: 165 with model ETS in generation 1 of 25\n",
      "Model Number: 166 with model ConstantNaive in generation 1 of 25\n",
      "Model Number: 167 with model LastValueNaive in generation 1 of 25\n",
      "Model Number: 168 with model AverageValueNaive in generation 1 of 25\n",
      "Model Number: 169 with model FFT in generation 1 of 25\n",
      "Model Number: 170 with model BasicLinearModel in generation 1 of 25\n",
      "Model Number: 171 with model LastValueNaive in generation 1 of 25\n",
      "Model Number: 172 with model FFT in generation 1 of 25\n",
      "Model Number: 173 with model LastValueNaive in generation 1 of 25\n",
      "Model Number: 174 with model DatepartRegression in generation 1 of 25\n",
      "Template Eval Error: ValueError(\"regression_type='User' but no future_regressor passed\") in model 174 in generation 1: DatepartRegression\n",
      "Model Number: 175 with model UnivariateMotif in generation 1 of 25\n",
      "Model Number: 176 with model GLM in generation 1 of 25\n",
      "2025-09-06 00:00:00\n",
      "2025-09-06 00:00:00\n",
      "2025-09-06 00:00:00\n",
      "Model Number: 177 with model Cassandra in generation 1 of 25\n",
      "Model Number: 178 with model SeasonalityMotif in generation 1 of 25\n",
      "Model Number: 179 with model FFT in generation 1 of 25\n",
      "Model Number: 180 with model ConstantNaive in generation 1 of 25\n",
      "Model Number: 181 with model WindowRegression in generation 1 of 25\n",
      "Model Number: 182 with model LastValueNaive in generation 1 of 25\n",
      "Model Number: 183 with model FFT in generation 1 of 25\n"
     ]
    },
    {
     "name": "stderr",
     "output_type": "stream",
     "text": [
      "C:\\ProgramData\\anaconda3\\envs\\nlp-env\\lib\\site-packages\\numpy\\lib\\function_base.py:2853: RuntimeWarning: invalid value encountered in divide\n",
      "  c /= stddev[:, None]\n",
      "C:\\ProgramData\\anaconda3\\envs\\nlp-env\\lib\\site-packages\\numpy\\lib\\function_base.py:2854: RuntimeWarning: invalid value encountered in divide\n",
      "  c /= stddev[None, :]\n",
      "C:\\ProgramData\\anaconda3\\envs\\nlp-env\\lib\\site-packages\\sklearn\\base.py:432: UserWarning: X has feature names, but StandardScaler was fitted without feature names\n",
      "  warnings.warn(\n",
      "C:\\ProgramData\\anaconda3\\envs\\nlp-env\\lib\\site-packages\\sklearn\\base.py:432: UserWarning: X has feature names, but StandardScaler was fitted without feature names\n",
      "  warnings.warn(\n",
      "C:\\ProgramData\\anaconda3\\envs\\nlp-env\\lib\\site-packages\\sklearn\\base.py:432: UserWarning: X has feature names, but StandardScaler was fitted without feature names\n",
      "  warnings.warn(\n",
      "C:\\ProgramData\\anaconda3\\envs\\nlp-env\\lib\\site-packages\\sklearn\\base.py:432: UserWarning: X has feature names, but StandardScaler was fitted without feature names\n",
      "  warnings.warn(\n",
      "C:\\ProgramData\\anaconda3\\envs\\nlp-env\\lib\\site-packages\\sklearn\\base.py:432: UserWarning: X has feature names, but StandardScaler was fitted without feature names\n",
      "  warnings.warn(\n",
      "C:\\ProgramData\\anaconda3\\envs\\nlp-env\\lib\\site-packages\\sklearn\\base.py:432: UserWarning: X has feature names, but StandardScaler was fitted without feature names\n",
      "  warnings.warn(\n",
      "C:\\ProgramData\\anaconda3\\envs\\nlp-env\\lib\\site-packages\\sklearn\\base.py:432: UserWarning: X has feature names, but StandardScaler was fitted without feature names\n",
      "  warnings.warn(\n",
      "C:\\ProgramData\\anaconda3\\envs\\nlp-env\\lib\\site-packages\\sklearn\\base.py:432: UserWarning: X has feature names, but StandardScaler was fitted without feature names\n",
      "  warnings.warn(\n",
      "C:\\ProgramData\\anaconda3\\envs\\nlp-env\\lib\\site-packages\\sklearn\\base.py:432: UserWarning: X has feature names, but StandardScaler was fitted without feature names\n",
      "  warnings.warn(\n",
      "C:\\ProgramData\\anaconda3\\envs\\nlp-env\\lib\\site-packages\\sklearn\\base.py:432: UserWarning: X has feature names, but StandardScaler was fitted without feature names\n",
      "  warnings.warn(\n"
     ]
    },
    {
     "name": "stdout",
     "output_type": "stream",
     "text": [
      "Model Number: 184 with model FFT in generation 1 of 25\n",
      "Model Number: 185 with model WindowRegression in generation 1 of 25\n",
      "Model Number: 186 with model MetricMotif in generation 1 of 25\n",
      "Model Number: 187 with model ConstantNaive in generation 1 of 25\n",
      "Model Number: 188 with model AverageValueNaive in generation 1 of 25\n",
      "Model Number: 189 with model UnivariateMotif in generation 1 of 25\n",
      "Model Number: 190 with model MetricMotif in generation 1 of 25\n",
      "Model Number: 191 with model GLS in generation 1 of 25\n",
      "Model Number: 192 with model LastValueNaive in generation 1 of 25\n",
      "Model Number: 193 with model AverageValueNaive in generation 1 of 25\n",
      "Model Number: 194 with model SeasonalNaive in generation 1 of 25\n",
      "Model Number: 195 with model Cassandra in generation 1 of 25\n",
      "Model Number: 196 with model AverageValueNaive in generation 1 of 25\n",
      "Model Number: 197 with model SeasonalityMotif in generation 1 of 25\n",
      "Model Number: 198 with model LastValueNaive in generation 1 of 25\n",
      "Model Number: 199 with model LastValueNaive in generation 1 of 25\n",
      "Model Number: 200 with model AverageValueNaive in generation 1 of 25\n",
      "Model Number: 201 with model UnivariateMotif in generation 1 of 25\n",
      "Model Number: 202 with model LastValueNaive in generation 1 of 25\n",
      "Model Number: 203 with model ARDL in generation 1 of 25\n"
     ]
    },
    {
     "name": "stderr",
     "output_type": "stream",
     "text": [
      "C:\\ProgramData\\anaconda3\\envs\\nlp-env\\lib\\site-packages\\numpy\\lib\\function_base.py:2853: RuntimeWarning: invalid value encountered in divide\n",
      "  c /= stddev[:, None]\n",
      "C:\\ProgramData\\anaconda3\\envs\\nlp-env\\lib\\site-packages\\numpy\\lib\\function_base.py:2854: RuntimeWarning: invalid value encountered in divide\n",
      "  c /= stddev[None, :]\n"
     ]
    },
    {
     "name": "stdout",
     "output_type": "stream",
     "text": [
      "Model Number: 204 with model ETS in generation 1 of 25\n",
      "Model Number: 205 with model SectionalMotif in generation 1 of 25\n",
      "Model Number: 206 with model Cassandra in generation 1 of 25\n",
      "Model Number: 207 with model ETS in generation 1 of 25\n",
      "Model Number: 208 with model ConstantNaive in generation 1 of 25\n",
      "Model Number: 209 with model WindowRegression in generation 1 of 25\n",
      "Model Number: 210 with model ETS in generation 1 of 25\n",
      "Model Number: 211 with model GLM in generation 1 of 25\n"
     ]
    },
    {
     "name": "stderr",
     "output_type": "stream",
     "text": [
      "C:\\ProgramData\\anaconda3\\envs\\nlp-env\\lib\\site-packages\\numpy\\lib\\function_base.py:2853: RuntimeWarning: invalid value encountered in divide\n",
      "  c /= stddev[:, None]\n",
      "C:\\ProgramData\\anaconda3\\envs\\nlp-env\\lib\\site-packages\\numpy\\lib\\function_base.py:2854: RuntimeWarning: invalid value encountered in divide\n",
      "  c /= stddev[None, :]\n",
      "C:\\ProgramData\\anaconda3\\envs\\nlp-env\\lib\\site-packages\\sklearn\\base.py:432: UserWarning: X has feature names, but StandardScaler was fitted without feature names\n",
      "  warnings.warn(\n"
     ]
    },
    {
     "name": "stdout",
     "output_type": "stream",
     "text": [
      "Model Number: 212 with model BasicLinearModel in generation 1 of 25\n",
      "Model Number: 213 with model SectionalMotif in generation 1 of 25\n",
      "Model Number: 214 with model GLS in generation 1 of 25\n",
      "Model Number: 215 with model GLS in generation 1 of 25\n",
      "Model Number: 216 with model GLM in generation 1 of 25\n",
      "Model Number: 217 with model AverageValueNaive in generation 1 of 25\n",
      "Model Number: 218 with model UnivariateMotif in generation 1 of 25\n",
      "Model Number: 219 with model GLM in generation 1 of 25\n",
      "Model Number: 220 with model FFT in generation 1 of 25\n",
      "Model Number: 221 with model ARDL in generation 1 of 25\n",
      "Model Number: 222 with model SectionalMotif in generation 1 of 25\n",
      "Model Number: 223 with model Cassandra in generation 1 of 25\n"
     ]
    },
    {
     "name": "stderr",
     "output_type": "stream",
     "text": [
      "C:\\ProgramData\\anaconda3\\envs\\nlp-env\\lib\\site-packages\\numpy\\lib\\function_base.py:2853: RuntimeWarning: invalid value encountered in divide\n",
      "  c /= stddev[:, None]\n",
      "C:\\ProgramData\\anaconda3\\envs\\nlp-env\\lib\\site-packages\\numpy\\lib\\function_base.py:2854: RuntimeWarning: invalid value encountered in divide\n",
      "  c /= stddev[None, :]\n"
     ]
    },
    {
     "name": "stdout",
     "output_type": "stream",
     "text": [
      "Model Number: 224 with model SeasonalNaive in generation 1 of 25\n",
      "Model Number: 225 with model DatepartRegression in generation 1 of 25\n",
      "Model Number: 226 with model SeasonalityMotif in generation 1 of 25\n",
      "Model Number: 227 with model SeasonalNaive in generation 1 of 25\n",
      "Model Number: 228 with model SectionalMotif in generation 1 of 25\n",
      "Model Number: 229 with model SeasonalNaive in generation 1 of 25\n",
      "Model Number: 230 with model AverageValueNaive in generation 1 of 25\n",
      "Model Number: 231 with model UnivariateMotif in generation 1 of 25\n",
      "Model Number: 232 with model SeasonalNaive in generation 1 of 25\n"
     ]
    },
    {
     "name": "stderr",
     "output_type": "stream",
     "text": [
      "C:\\ProgramData\\anaconda3\\envs\\nlp-env\\lib\\site-packages\\sklearn\\neural_network\\_multilayer_perceptron.py:541: ConvergenceWarning: lbfgs failed to converge (status=1):\n",
      "STOP: TOTAL NO. of ITERATIONS REACHED LIMIT.\n",
      "\n",
      "Increase the number of iterations (max_iter) or scale the data as shown in:\n",
      "    https://scikit-learn.org/stable/modules/preprocessing.html\n",
      "  self.n_iter_ = _check_optimize_result(\"lbfgs\", opt_res, self.max_iter)\n"
     ]
    },
    {
     "name": "stdout",
     "output_type": "stream",
     "text": [
      "Model Number: 233 with model BasicLinearModel in generation 1 of 25\n",
      "Model Number: 234 with model SeasonalityMotif in generation 1 of 25\n",
      "Model Number: 235 with model Cassandra in generation 1 of 25\n",
      "Model Number: 236 with model SeasonalNaive in generation 1 of 25\n",
      "Model Number: 237 with model LastValueNaive in generation 1 of 25\n",
      "Template Eval Error: Exception('Transformer PCA failed on fit from params zero {\\'0\\': {\\'model_name\\': \\'dynamic linear\\', \\'state_transition\\': [[1, 1, 0, 0], [0, 1, 0, 0], [0, 0, 1.4, 1], [0, 0, 0.9, 0]], \\'process_noise\\': [[0.0, 0, 0, 0], [0, 1.4, 0, 0], [0, 0, 0.2, 0], [0, 0, 0, 0]], \\'observation_model\\': [[1, 0, 1, 0]], \\'observation_noise\\': 0.25, \\'em_iter\\': 10, \\'on_transform\\': True, \\'on_inverse\\': False}, \\'1\\': {}, \\'2\\': {\\'whiten\\': False, \\'n_components\\': 10}} with error ValueError(\"n_components=10 must be between 0 and min(n_samples, n_features)=1 with svd_solver=\\'full\\'\")') in model 237 in generation 1: LastValueNaive\n",
      "Model Number: 238 with model FFT in generation 1 of 25\n",
      "Model Number: 239 with model GLS in generation 1 of 25\n",
      "Model Number: 240 with model SeasonalNaive in generation 1 of 25\n",
      "Model Number: 241 with model SectionalMotif in generation 1 of 25\n",
      "Template Eval Error: ValueError(\"regression_type=='User' but no future_regressor supplied\") in model 241 in generation 1: SectionalMotif\n",
      "Model Number: 242 with model SectionalMotif in generation 1 of 25\n",
      "Template Eval Error: Exception(\"Transformer Cointegration failed on fit from params rolling_mean {'0': {'part': 'trend', 'lamb': 6.25}, '1': {}, '2': {'det_order': 1, 'k_ar_diff': 2}, '3': {'model': 'GLS', 'phi': 1, 'window': None, 'transform_dict': None}} with error ValueError('Coint only works on multivarate series')\") in model 242 in generation 1: SectionalMotif\n",
      "Model Number: 243 with model LastValueNaive in generation 1 of 25\n",
      "Model Number: 244 with model AverageValueNaive in generation 1 of 25\n",
      "Model Number: 245 with model LastValueNaive in generation 1 of 25\n",
      "Model Number: 246 with model Cassandra in generation 1 of 25\n",
      "Model Number: 247 with model SeasonalityMotif in generation 1 of 25\n",
      "Model Number: 248 with model ETS in generation 1 of 25\n",
      "Model Number: 249 with model SectionalMotif in generation 1 of 25\n",
      "Model Number: 250 with model SeasonalityMotif in generation 1 of 25\n",
      "Model Number: 251 with model AverageValueNaive in generation 1 of 25\n",
      "Model Number: 252 with model ETS in generation 1 of 25\n",
      "Model Number: 253 with model SeasonalityMotif in generation 1 of 25\n",
      "Model Number: 254 with model SeasonalNaive in generation 1 of 25\n",
      "Model Number: 255 with model ETS in generation 1 of 25\n"
     ]
    },
    {
     "name": "stderr",
     "output_type": "stream",
     "text": [
      "C:\\ProgramData\\anaconda3\\envs\\nlp-env\\lib\\site-packages\\numpy\\lib\\function_base.py:2853: RuntimeWarning: invalid value encountered in divide\n",
      "  c /= stddev[:, None]\n",
      "C:\\ProgramData\\anaconda3\\envs\\nlp-env\\lib\\site-packages\\numpy\\lib\\function_base.py:2854: RuntimeWarning: invalid value encountered in divide\n",
      "  c /= stddev[None, :]\n"
     ]
    },
    {
     "name": "stdout",
     "output_type": "stream",
     "text": [
      "Model Number: 256 with model SeasonalityMotif in generation 1 of 25\n",
      "Model Number: 257 with model ARDL in generation 1 of 25\n",
      "Template Eval Error: ValueError(\"regression_type='User' but future_regressor not supplied\") in model 257 in generation 1: ARDL\n",
      "Model Number: 258 with model DatepartRegression in generation 1 of 25\n",
      "Model Number: 259 with model MetricMotif in generation 1 of 25\n",
      "Model Number: 260 with model ARDL in generation 1 of 25\n",
      "Template Eval Error: ValueError(\"regression_type='User' but future_regressor not supplied\") in model 260 in generation 1: ARDL\n",
      "Model Number: 261 with model LastValueNaive in generation 1 of 25\n",
      "Model Number: 262 with model ETS in generation 1 of 25\n",
      "New Generation: 2 of 25\n",
      "Model Number: 263 with model SeasonalityMotif in generation 2 of 25\n",
      "Model Number: 264 with model BasicLinearModel in generation 2 of 25\n",
      "Model Number: 265 with model GLM in generation 2 of 25\n",
      "Model Number: 266 with model LastValueNaive in generation 2 of 25\n",
      "Model Number: 267 with model Cassandra in generation 2 of 25\n",
      "Model Number: 268 with model LastValueNaive in generation 2 of 25\n",
      "Model Number: 269 with model UnivariateMotif in generation 2 of 25\n",
      "Model Number: 270 with model ARDL in generation 2 of 25\n",
      "Model Number: 271 with model FFT in generation 2 of 25\n"
     ]
    },
    {
     "name": "stderr",
     "output_type": "stream",
     "text": [
      "C:\\ProgramData\\anaconda3\\envs\\nlp-env\\lib\\site-packages\\numpy\\lib\\function_base.py:2853: RuntimeWarning: invalid value encountered in divide\n",
      "  c /= stddev[:, None]\n",
      "C:\\ProgramData\\anaconda3\\envs\\nlp-env\\lib\\site-packages\\numpy\\lib\\function_base.py:2854: RuntimeWarning: invalid value encountered in divide\n",
      "  c /= stddev[None, :]\n"
     ]
    },
    {
     "name": "stdout",
     "output_type": "stream",
     "text": [
      "Model Number: 272 with model DatepartRegression in generation 2 of 25\n",
      "Model Number: 273 with model ETS in generation 2 of 25\n",
      "Model Number: 274 with model SeasonalNaive in generation 2 of 25\n",
      "Model Number: 275 with model FFT in generation 2 of 25\n",
      "Model Number: 276 with model ETS in generation 2 of 25\n",
      "Model Number: 277 with model LastValueNaive in generation 2 of 25\n",
      "Model Number: 278 with model ETS in generation 2 of 25\n",
      "Model Number: 279 with model AverageValueNaive in generation 2 of 25\n"
     ]
    },
    {
     "name": "stderr",
     "output_type": "stream",
     "text": [
      "C:\\ProgramData\\anaconda3\\envs\\nlp-env\\lib\\site-packages\\sklearn\\neural_network\\_multilayer_perceptron.py:541: ConvergenceWarning: lbfgs failed to converge (status=1):\n",
      "STOP: TOTAL NO. of ITERATIONS REACHED LIMIT.\n",
      "\n",
      "Increase the number of iterations (max_iter) or scale the data as shown in:\n",
      "    https://scikit-learn.org/stable/modules/preprocessing.html\n",
      "  self.n_iter_ = _check_optimize_result(\"lbfgs\", opt_res, self.max_iter)\n",
      "C:\\ProgramData\\anaconda3\\envs\\nlp-env\\lib\\site-packages\\sklearn\\neighbors\\_classification.py:215: DataConversionWarning: A column-vector y was passed when a 1d array was expected. Please change the shape of y to (n_samples,), for example using ravel().\n",
      "  return self._fit(X, y)\n"
     ]
    },
    {
     "name": "stdout",
     "output_type": "stream",
     "text": [
      "Model Number: 280 with model LastValueNaive in generation 2 of 25\n",
      "Model Number: 281 with model SeasonalityMotif in generation 2 of 25\n",
      "Model Number: 282 with model GLS in generation 2 of 25\n",
      "Model Number: 283 with model AverageValueNaive in generation 2 of 25\n",
      "Model Number: 284 with model Cassandra in generation 2 of 25\n",
      "Template Eval Error: ValueError('negative dimensions are not allowed') in model 284 in generation 2: Cassandra\n",
      "Model Number: 285 with model ConstantNaive in generation 2 of 25\n",
      "Model Number: 286 with model FFT in generation 2 of 25\n",
      "Model Number: 287 with model ConstantNaive in generation 2 of 25\n",
      "Model Number: 288 with model SeasonalNaive in generation 2 of 25\n",
      "Model Number: 289 with model SectionalMotif in generation 2 of 25\n",
      "Model Number: 290 with model ETS in generation 2 of 25\n",
      "Template Eval Error: Exception(\"Transformer Cointegration failed on fit from params linear {'0': {'det_order': 1, 'k_ar_diff': 1}, '1': {}, '2': {'span': 28}} with error ValueError('Coint only works on multivarate series')\") in model 290 in generation 2: ETS\n",
      "Model Number: 291 with model SectionalMotif in generation 2 of 25\n",
      "Model Number: 292 with model Cassandra in generation 2 of 25\n"
     ]
    },
    {
     "name": "stderr",
     "output_type": "stream",
     "text": [
      "C:\\ProgramData\\anaconda3\\envs\\nlp-env\\lib\\site-packages\\numpy\\lib\\function_base.py:2853: RuntimeWarning: invalid value encountered in divide\n",
      "  c /= stddev[:, None]\n",
      "C:\\ProgramData\\anaconda3\\envs\\nlp-env\\lib\\site-packages\\numpy\\lib\\function_base.py:2854: RuntimeWarning: invalid value encountered in divide\n",
      "  c /= stddev[None, :]\n"
     ]
    },
    {
     "name": "stdout",
     "output_type": "stream",
     "text": [
      "Model Number: 293 with model LastValueNaive in generation 2 of 25\n",
      "Model Number: 294 with model LastValueNaive in generation 2 of 25\n",
      "Model Number: 295 with model ETS in generation 2 of 25\n",
      "Model Number: 296 with model UnivariateMotif in generation 2 of 25\n",
      "Model Number: 297 with model SectionalMotif in generation 2 of 25\n",
      "Model Number: 298 with model Cassandra in generation 2 of 25\n",
      "Model Number: 299 with model LastValueNaive in generation 2 of 25\n",
      "Model Number: 300 with model MetricMotif in generation 2 of 25\n",
      "Template Eval Error: Exception('Transformer PCA failed on fit from params quadratic {\\'0\\': {\\'method\\': \\'clip\\', \\'std_threshold\\': 4, \\'fillna\\': None}, \\'1\\': {\\'whiten\\': True, \\'n_components\\': 100}, \\'2\\': {\\'rows\\': 1, \\'lag\\': 7, \\'method\\': \\'additive\\', \\'strength\\': 0.2, \\'first_value_only\\': False, \\'threshold\\': 3, \\'threshold_method\\': \\'max\\'}, \\'3\\': {\\'rows\\': 1, \\'lag\\': 1, \\'method\\': \\'multiplicative\\', \\'strength\\': 1.0, \\'first_value_only\\': False, \\'threshold\\': 10, \\'threshold_method\\': \\'max\\'}} with error ValueError(\"n_components=100 must be between 0 and min(n_samples, n_features)=1 with svd_solver=\\'full\\'\")') in model 300 in generation 2: MetricMotif\n",
      "Model Number: 301 with model SeasonalityMotif in generation 2 of 25\n",
      "Model Number: 302 with model WindowRegression in generation 2 of 25\n",
      "Template Eval Error: ModuleNotFoundError(\"No module named 'lightgbm'\") in model 302 in generation 2: WindowRegression\n",
      "Model Number: 303 with model Cassandra in generation 2 of 25\n"
     ]
    },
    {
     "name": "stderr",
     "output_type": "stream",
     "text": [
      "C:\\ProgramData\\anaconda3\\envs\\nlp-env\\lib\\site-packages\\sklearn\\neighbors\\_classification.py:215: DataConversionWarning: A column-vector y was passed when a 1d array was expected. Please change the shape of y to (n_samples,), for example using ravel().\n",
      "  return self._fit(X, y)\n"
     ]
    },
    {
     "name": "stdout",
     "output_type": "stream",
     "text": [
      "Model Number: 304 with model SeasonalityMotif in generation 2 of 25\n",
      "Model Number: 305 with model ARDL in generation 2 of 25\n",
      "Template Eval Error: Exception(\"Transformer ReplaceConstant failed on fit from params fake_date {'0': {'constant': 0, 'reintroduction_model': {'model': 'xgboost', 'model_params': {'booster': 'gblinear', 'max_depth': 6, 'eta': 0.03, 'min_child_weight': 1, 'subsample': 1, 'colsample_bylevel': 1, 'reg_alpha': 0, 'reg_lambda': 1, 'grow_policy': 'lossguide'}, 'datepart_method': 'simple_poly'}, 'fillna': 'mean'}, '1': {'window_size': 90, 'alpha': 2.5, 'grouping_forward_limit': 5, 'max_level_shifts': 5, 'alignment': 'rolling_diff_3nn'}, '2': {'rows': 1, 'lag': 1, 'method': 'additive', 'strength': 1.0, 'first_value_only': True, 'threshold': 10, 'threshold_method': 'max'}} with error ValueError('Invalid classes inferred from unique values of `y`.  Expected: [0], got [1]')\") in model 305 in generation 2: ARDL\n",
      "Model Number: 306 with model SectionalMotif in generation 2 of 25\n",
      "Model Number: 307 with model SectionalMotif in generation 2 of 25\n",
      "Model Number: 308 with model GLS in generation 2 of 25\n",
      "Model Number: 309 with model WindowRegression in generation 2 of 25\n",
      "Model Number: 310 with model SeasonalityMotif in generation 2 of 25\n",
      "Model Number: 311 with model BasicLinearModel in generation 2 of 25\n"
     ]
    },
    {
     "name": "stderr",
     "output_type": "stream",
     "text": [
      "C:\\ProgramData\\anaconda3\\envs\\nlp-env\\lib\\site-packages\\sklearn\\neural_network\\_multilayer_perceptron.py:541: ConvergenceWarning: lbfgs failed to converge (status=1):\n",
      "STOP: TOTAL NO. of ITERATIONS REACHED LIMIT.\n",
      "\n",
      "Increase the number of iterations (max_iter) or scale the data as shown in:\n",
      "    https://scikit-learn.org/stable/modules/preprocessing.html\n",
      "  self.n_iter_ = _check_optimize_result(\"lbfgs\", opt_res, self.max_iter)\n"
     ]
    },
    {
     "name": "stdout",
     "output_type": "stream",
     "text": [
      "Model Number: 312 with model LastValueNaive in generation 2 of 25\n",
      "Model Number: 313 with model AverageValueNaive in generation 2 of 25\n",
      "Model Number: 314 with model SeasonalityMotif in generation 2 of 25\n",
      "Model Number: 315 with model BasicLinearModel in generation 2 of 25\n",
      "Model Number: 316 with model MetricMotif in generation 2 of 25\n",
      "Model Number: 317 with model SeasonalNaive in generation 2 of 25\n",
      "Model Number: 318 with model BasicLinearModel in generation 2 of 25\n",
      "Model Number: 319 with model ConstantNaive in generation 2 of 25\n",
      "Model Number: 320 with model MetricMotif in generation 2 of 25\n",
      "Model Number: 321 with model SeasonalNaive in generation 2 of 25\n",
      "Model Number: 322 with model SeasonalityMotif in generation 2 of 25\n",
      "Model Number: 323 with model MetricMotif in generation 2 of 25\n",
      "Model Number: 324 with model MetricMotif in generation 2 of 25\n",
      "Model Number: 325 with model AverageValueNaive in generation 2 of 25\n",
      "Model Number: 326 with model DatepartRegression in generation 2 of 25\n",
      "Template Eval Error: ValueError(\"regression_type='User' but no future_regressor passed\") in model 326 in generation 2: DatepartRegression\n",
      "Model Number: 327 with model LastValueNaive in generation 2 of 25\n",
      "Model Number: 328 with model MetricMotif in generation 2 of 25\n",
      "Model Number: 329 with model SeasonalityMotif in generation 2 of 25\n",
      "Model Number: 330 with model UnivariateMotif in generation 2 of 25\n",
      "Model Number: 331 with model SeasonalityMotif in generation 2 of 25\n",
      "Model Number: 332 with model AverageValueNaive in generation 2 of 25\n",
      "Model Number: 333 with model ETS in generation 2 of 25\n",
      "Model Number: 334 with model SectionalMotif in generation 2 of 25\n",
      "2025-09-06 00:00:00\n",
      "2025-09-06 00:00:00\n",
      "2025-09-06 00:00:00\n",
      "Model Number: 335 with model AverageValueNaive in generation 2 of 25\n",
      "Model Number: 336 with model FFT in generation 2 of 25\n",
      "Model Number: 337 with model UnivariateMotif in generation 2 of 25\n",
      "Model Number: 338 with model GLM in generation 2 of 25\n",
      "Model Number: 339 with model Cassandra in generation 2 of 25\n",
      "Model Number: 340 with model MetricMotif in generation 2 of 25\n",
      "Model Number: 341 with model SeasonalityMotif in generation 2 of 25\n",
      "Model Number: 342 with model AverageValueNaive in generation 2 of 25\n",
      "Model Number: 343 with model UnivariateMotif in generation 2 of 25\n",
      "Model Number: 344 with model BasicLinearModel in generation 2 of 25\n"
     ]
    },
    {
     "name": "stderr",
     "output_type": "stream",
     "text": [
      "C:\\ProgramData\\anaconda3\\envs\\nlp-env\\lib\\site-packages\\statsmodels\\genmod\\generalized_linear_model.py:1342: PerfectSeparationWarning: Perfect separation or prediction detected, parameter may not be identified\n",
      "  warnings.warn(msg, category=PerfectSeparationWarning)\n",
      "C:\\ProgramData\\anaconda3\\envs\\nlp-env\\lib\\site-packages\\numpy\\lib\\function_base.py:2853: RuntimeWarning: invalid value encountered in divide\n",
      "  c /= stddev[:, None]\n",
      "C:\\ProgramData\\anaconda3\\envs\\nlp-env\\lib\\site-packages\\numpy\\lib\\function_base.py:2854: RuntimeWarning: invalid value encountered in divide\n",
      "  c /= stddev[None, :]\n"
     ]
    },
    {
     "name": "stdout",
     "output_type": "stream",
     "text": [
      "Model Number: 345 with model ARDL in generation 2 of 25\n",
      "Model Number: 346 with model DatepartRegression in generation 2 of 25\n",
      "Template Eval Error: ValueError('Input X contains NaN.\\nElasticNet does not accept missing values encoded as NaN natively. For supervised learning, you might want to consider sklearn.ensemble.HistGradientBoostingClassifier and Regressor which accept missing values encoded as NaNs natively. Alternatively, it is possible to preprocess the data, for instance by using an imputer transformer in a pipeline or drop samples with missing values. See https://scikit-learn.org/stable/modules/impute.html You can find a list of all estimators that handle NaN values at the following page: https://scikit-learn.org/stable/modules/impute.html#estimators-that-handle-nan-values') in model 346 in generation 2: DatepartRegression\n",
      "Model Number: 347 with model SeasonalNaive in generation 2 of 25\n",
      "Model Number: 348 with model LastValueNaive in generation 2 of 25\n",
      "Model Number: 349 with model SeasonalityMotif in generation 2 of 25\n",
      "Model Number: 350 with model LastValueNaive in generation 2 of 25\n",
      "Model Number: 351 with model FFT in generation 2 of 25\n",
      "Model Number: 352 with model SectionalMotif in generation 2 of 25\n",
      "Template Eval Error: Exception(\"Transformer Detrend failed on fit from params ffill {'0': {'n_harmonics': 20, 'detrend': 'quadratic'}, '1': {'model': 'Tweedie', 'phi': 0.999, 'window': 30, 'transform_dict': {'fillna': None, 'transformations': {'0': 'EWMAFilter'}, 'transformation_params': {'0': {'span': 2}}}}, '2': {'method': 'zscore', 'method_params': {'distribution': 'uniform', 'alpha': 0.05}, 'fillna': None, 'transform_dict': {'fillna': 'pchip', 'transformations': {'0': 'AlignLastValue'}, 'transformation_params': {'0': {'rows': 1, 'lag': 1, 'method': 'additive', 'strength': 1.0, 'first_value_only': False, 'threshold': None, 'threshold_method': 'mean'}}}, 'isolated_only': False, 'on_inverse': False}, '3': {'rows': 1, 'lag': 1, 'method': 'additive', 'strength': 1.0, 'first_value_only': True, 'threshold': 10, 'threshold_method': 'mean'}, '4': {'decimals': 0, 'on_transform': True, 'on_inverse': True}} with error ValueError('Found input variables with inconsistent numbers of samples: [30, 190]')\") in model 352 in generation 2: SectionalMotif\n",
      "Model Number: 353 with model GLM in generation 2 of 25\n",
      "Model Number: 354 with model ARDL in generation 2 of 25\n"
     ]
    },
    {
     "name": "stderr",
     "output_type": "stream",
     "text": [
      "C:\\ProgramData\\anaconda3\\envs\\nlp-env\\lib\\site-packages\\sklearn\\neighbors\\_classification.py:215: DataConversionWarning: A column-vector y was passed when a 1d array was expected. Please change the shape of y to (n_samples,), for example using ravel().\n",
      "  return self._fit(X, y)\n"
     ]
    },
    {
     "name": "stdout",
     "output_type": "stream",
     "text": [
      "Model Number: 355 with model DatepartRegression in generation 2 of 25\n",
      "Epoch 1/50\n",
      "6/6 [==============================] - 2s 3ms/step - loss: 2.4945\n",
      "Epoch 2/50\n",
      "6/6 [==============================] - 0s 2ms/step - loss: 2.4950\n",
      "Epoch 3/50\n",
      "6/6 [==============================] - 0s 3ms/step - loss: 2.4966\n",
      "Epoch 4/50\n",
      "6/6 [==============================] - 0s 3ms/step - loss: 2.4930\n",
      "Epoch 5/50\n",
      "6/6 [==============================] - 0s 3ms/step - loss: 2.4957\n",
      "Epoch 6/50\n",
      "6/6 [==============================] - 0s 3ms/step - loss: 2.4908\n",
      "Epoch 7/50\n",
      "6/6 [==============================] - 0s 3ms/step - loss: 2.4921\n",
      "Epoch 8/50\n",
      "6/6 [==============================] - 0s 3ms/step - loss: 2.4895\n",
      "Epoch 9/50\n",
      "6/6 [==============================] - 0s 3ms/step - loss: 2.4974\n",
      "Epoch 10/50\n",
      "6/6 [==============================] - 0s 3ms/step - loss: 2.4866\n",
      "Epoch 11/50\n",
      "6/6 [==============================] - 0s 3ms/step - loss: 2.4914\n",
      "Epoch 12/50\n",
      "6/6 [==============================] - 0s 3ms/step - loss: 2.4862\n",
      "Epoch 13/50\n",
      "6/6 [==============================] - 0s 4ms/step - loss: 2.4917\n",
      "Epoch 14/50\n",
      "6/6 [==============================] - 0s 3ms/step - loss: 2.4914\n",
      "Epoch 15/50\n",
      "6/6 [==============================] - 0s 3ms/step - loss: 2.4821\n",
      "Epoch 16/50\n",
      "6/6 [==============================] - 0s 3ms/step - loss: 2.4831\n",
      "Epoch 17/50\n",
      "6/6 [==============================] - 0s 3ms/step - loss: 2.4867\n",
      "Epoch 18/50\n",
      "6/6 [==============================] - 0s 3ms/step - loss: 2.4875\n",
      "Epoch 19/50\n",
      "6/6 [==============================] - 0s 3ms/step - loss: 2.4801\n",
      "Epoch 20/50\n",
      "6/6 [==============================] - 0s 3ms/step - loss: 2.4818\n",
      "Epoch 21/50\n",
      "6/6 [==============================] - 0s 3ms/step - loss: 2.4787\n",
      "Epoch 22/50\n",
      "6/6 [==============================] - 0s 3ms/step - loss: 2.4824\n",
      "Epoch 23/50\n",
      "6/6 [==============================] - 0s 2ms/step - loss: 2.4865\n",
      "Epoch 24/50\n",
      "6/6 [==============================] - 0s 2ms/step - loss: 2.4834\n",
      "Epoch 25/50\n",
      "6/6 [==============================] - 0s 3ms/step - loss: 2.4661\n",
      "Epoch 26/50\n",
      "6/6 [==============================] - 0s 3ms/step - loss: 2.4654\n",
      "Epoch 27/50\n",
      "6/6 [==============================] - 0s 2ms/step - loss: 2.4776\n",
      "Epoch 28/50\n",
      "6/6 [==============================] - 0s 2ms/step - loss: 2.4781\n",
      "Epoch 29/50\n",
      "6/6 [==============================] - 0s 2ms/step - loss: 2.4754\n",
      "Epoch 30/50\n",
      "6/6 [==============================] - 0s 2ms/step - loss: 2.4773\n",
      "Epoch 31/50\n",
      "6/6 [==============================] - 0s 2ms/step - loss: 2.4633\n",
      "Epoch 32/50\n",
      "6/6 [==============================] - 0s 2ms/step - loss: 2.4663\n",
      "Epoch 33/50\n",
      "6/6 [==============================] - 0s 2ms/step - loss: 2.4683\n",
      "Epoch 34/50\n",
      "6/6 [==============================] - 0s 2ms/step - loss: 2.4661\n",
      "Epoch 35/50\n",
      "6/6 [==============================] - 0s 2ms/step - loss: 2.4632\n",
      "Epoch 36/50\n",
      "6/6 [==============================] - 0s 2ms/step - loss: 2.4661\n",
      "Epoch 37/50\n",
      "6/6 [==============================] - 0s 2ms/step - loss: 2.4609\n",
      "Epoch 38/50\n",
      "6/6 [==============================] - 0s 2ms/step - loss: 2.4605\n",
      "Epoch 39/50\n",
      "6/6 [==============================] - 0s 2ms/step - loss: 2.4590\n",
      "Epoch 40/50\n",
      "6/6 [==============================] - 0s 2ms/step - loss: 2.4652\n",
      "Epoch 41/50\n",
      "6/6 [==============================] - 0s 2ms/step - loss: 2.4619\n",
      "Epoch 42/50\n",
      "6/6 [==============================] - 0s 2ms/step - loss: 2.4515\n",
      "Epoch 43/50\n",
      "6/6 [==============================] - 0s 2ms/step - loss: 2.4564\n",
      "Epoch 44/50\n",
      "6/6 [==============================] - 0s 2ms/step - loss: 2.4494\n",
      "Epoch 45/50\n",
      "6/6 [==============================] - 0s 2ms/step - loss: 2.4385\n",
      "Epoch 46/50\n",
      "6/6 [==============================] - 0s 2ms/step - loss: 2.4376\n",
      "Epoch 47/50\n",
      "6/6 [==============================] - 0s 2ms/step - loss: 2.4393\n",
      "Epoch 48/50\n",
      "6/6 [==============================] - 0s 2ms/step - loss: 2.4404\n",
      "Epoch 49/50\n",
      "6/6 [==============================] - 0s 2ms/step - loss: 2.4351\n",
      "Epoch 50/50\n",
      "6/6 [==============================] - 0s 2ms/step - loss: 2.4543\n",
      "1/1 [==============================] - 0s 371ms/step\n",
      "Model Number: 356 with model SectionalMotif in generation 2 of 25\n",
      "Model Number: 357 with model GLS in generation 2 of 25\n",
      "Model Number: 358 with model ARDL in generation 2 of 25\n",
      "Model Number: 359 with model ARDL in generation 2 of 25\n",
      "Model Number: 360 with model LastValueNaive in generation 2 of 25\n",
      "Model Number: 361 with model WindowRegression in generation 2 of 25\n",
      "Model Number: 362 with model DatepartRegression in generation 2 of 25\n",
      "Model Number: 363 with model SectionalMotif in generation 2 of 25\n",
      "Model Number: 364 with model ConstantNaive in generation 2 of 25\n",
      "Model Number: 365 with model Cassandra in generation 2 of 25\n"
     ]
    },
    {
     "name": "stderr",
     "output_type": "stream",
     "text": [
      "C:\\ProgramData\\anaconda3\\envs\\nlp-env\\lib\\site-packages\\sklearn\\linear_model\\_ridge.py:216: LinAlgWarning: Ill-conditioned matrix (rcond=5.0416e-25): result may not be accurate.\n",
      "  return linalg.solve(A, Xy, assume_a=\"pos\", overwrite_a=True).T\n"
     ]
    },
    {
     "name": "stdout",
     "output_type": "stream",
     "text": [
      "Model Number: 366 with model Cassandra in generation 2 of 25\n"
     ]
    },
    {
     "name": "stderr",
     "output_type": "stream",
     "text": [
      "C:\\ProgramData\\anaconda3\\envs\\nlp-env\\lib\\site-packages\\numpy\\lib\\function_base.py:2853: RuntimeWarning: invalid value encountered in divide\n",
      "  c /= stddev[:, None]\n",
      "C:\\ProgramData\\anaconda3\\envs\\nlp-env\\lib\\site-packages\\numpy\\lib\\function_base.py:2854: RuntimeWarning: invalid value encountered in divide\n",
      "  c /= stddev[None, :]\n"
     ]
    },
    {
     "name": "stdout",
     "output_type": "stream",
     "text": [
      "Model Number: 367 with model ETS in generation 2 of 25\n",
      "New Generation: 3 of 25\n",
      "Model Number: 368 with model LastValueNaive in generation 3 of 25\n",
      "Model Number: 369 with model SeasonalityMotif in generation 3 of 25\n",
      "Model Number: 370 with model FFT in generation 3 of 25\n",
      "Model Number: 371 with model SeasonalityMotif in generation 3 of 25\n",
      "Model Number: 372 with model SeasonalNaive in generation 3 of 25\n",
      "Model Number: 373 with model MetricMotif in generation 3 of 25\n",
      "Template Eval Error: Exception('Transformer FIRFilter failed on fit from params time {\\'0\\': {\\'rows\\': 1, \\'lag\\': 1, \\'method\\': \\'additive\\', \\'strength\\': 1.0, \\'first_value_only\\': False, \\'threshold\\': None, \\'threshold_method\\': \\'mean\\'}, \\'1\\': {}, \\'2\\': {\\'n_harmonics\\': 10, \\'detrend\\': \\'linear\\'}, \\'3\\': {\\'numtaps\\': 128, \\'cutoff_hz\\': 0.1, \\'window\\': [\\'gaussian\\', 1.0], \\'sampling_frequency\\': 28, \\'on_transform\\': True, \\'on_inverse\\': False, \\'bounds_only\\': False}, \\'4\\': {\\'rows\\': 7, \\'lag\\': 7, \\'method\\': \\'additive\\', \\'strength\\': 1.0, \\'first_value_only\\': False, \\'threshold\\': 1, \\'threshold_method\\': \\'max\\'}} with error ValueError(\"<class \\'list\\'> as window type is not supported.\")') in model 373 in generation 3: MetricMotif\n",
      "Model Number: 374 with model DatepartRegression in generation 3 of 25\n",
      "Model Number: 375 with model Cassandra in generation 3 of 25\n",
      "Model Number: 376 with model ARDL in generation 3 of 25\n",
      "Template Eval Error: Exception(\"Transformer Cointegration failed on fit from params ffill {'0': {'part': 'trend', 'lamb': 6.25}, '1': {}, '2': {'model_name': 'local linear stochastic seasonal dummy', 'state_transition': [[1, 0, 0, 0], [0, -1, -1, -1], [0, 1, 0, 0], [0, 0, 1, 0]], 'process_noise': [[1, 0, 0, 0], [0, 1, 0, 0], [0, 0, 0, 0], [0, 0, 0, 0]], 'observation_model': [[1, 1, 0, 0]], 'observation_noise': 0.25, 'em_iter': 10, 'on_transform': True, 'on_inverse': False}, '3': {'rows': 4}, '4': {'det_order': 1, 'k_ar_diff': 1}} with error ValueError('Coint only works on multivarate series')\") in model 376 in generation 3: ARDL\n",
      "Model Number: 377 with model AverageValueNaive in generation 3 of 25\n",
      "Model Number: 378 with model Cassandra in generation 3 of 25\n",
      "Template Eval Error: ValueError('The covariance matrix of the support data is equal to 0, try to increase support_fraction') in model 378 in generation 3: Cassandra\n",
      "Model Number: 379 with model LastValueNaive in generation 3 of 25\n",
      "Model Number: 380 with model AverageValueNaive in generation 3 of 25\n",
      "Model Number: 381 with model UnivariateMotif in generation 3 of 25\n",
      "Model Number: 382 with model AverageValueNaive in generation 3 of 25\n",
      "2025-09-06 00:00:00\n",
      "2025-09-06 00:00:00\n",
      "2025-09-06 00:00:00\n",
      "Model Number: 383 with model SeasonalNaive in generation 3 of 25\n",
      "Model Number: 384 with model UnivariateMotif in generation 3 of 25\n",
      "Model Number: 385 with model SeasonalNaive in generation 3 of 25\n",
      "Template Eval Error: Exception(\"Transformer QuantileTransformer failed on inverse from params linear {'0': {'output_distribution': 'uniform', 'n_quantiles': 63}, '1': {}, '2': {'low': 12, 'high': 28, 'K': 3, 'lanczos_factor': False, 'return_diff': False, 'on_transform': False, 'on_inverse': True}, '3': {'output_distribution': 'uniform', 'n_quantiles': 100}} with ValueError('Shape of passed values is (4, 1), indices imply (10, 1)')\") in model 385 in generation 3: SeasonalNaive\n",
      "Model Number: 386 with model AverageValueNaive in generation 3 of 25\n",
      "Model Number: 387 with model SectionalMotif in generation 3 of 25\n",
      "Model Number: 388 with model LastValueNaive in generation 3 of 25\n",
      "Model Number: 389 with model AverageValueNaive in generation 3 of 25\n"
     ]
    },
    {
     "name": "stderr",
     "output_type": "stream",
     "text": [
      "C:\\ProgramData\\anaconda3\\envs\\nlp-env\\lib\\site-packages\\numpy\\lib\\function_base.py:2853: RuntimeWarning: invalid value encountered in divide\n",
      "  c /= stddev[:, None]\n",
      "C:\\ProgramData\\anaconda3\\envs\\nlp-env\\lib\\site-packages\\numpy\\lib\\function_base.py:2854: RuntimeWarning: invalid value encountered in divide\n",
      "  c /= stddev[None, :]\n"
     ]
    },
    {
     "name": "stdout",
     "output_type": "stream",
     "text": [
      "Model Number: 390 with model ConstantNaive in generation 3 of 25\n",
      "Model Number: 391 with model LastValueNaive in generation 3 of 25\n",
      "Model Number: 392 with model LastValueNaive in generation 3 of 25\n",
      "Model Number: 393 with model Cassandra in generation 3 of 25\n"
     ]
    },
    {
     "name": "stderr",
     "output_type": "stream",
     "text": [
      "C:\\ProgramData\\anaconda3\\envs\\nlp-env\\lib\\site-packages\\sklearn\\base.py:432: UserWarning: X has feature names, but StandardScaler was fitted without feature names\n",
      "  warnings.warn(\n"
     ]
    },
    {
     "name": "stdout",
     "output_type": "stream",
     "text": [
      "Model Number: 394 with model AverageValueNaive in generation 3 of 25\n",
      "Model Number: 395 with model SeasonalityMotif in generation 3 of 25\n",
      "Model Number: 396 with model Cassandra in generation 3 of 25\n",
      "Cassandra transformed data is all 0.0! Adding noise...\n"
     ]
    },
    {
     "name": "stderr",
     "output_type": "stream",
     "text": [
      "C:\\ProgramData\\anaconda3\\envs\\nlp-env\\lib\\site-packages\\numpy\\lib\\function_base.py:2853: RuntimeWarning: invalid value encountered in divide\n",
      "  c /= stddev[:, None]\n",
      "C:\\ProgramData\\anaconda3\\envs\\nlp-env\\lib\\site-packages\\numpy\\lib\\function_base.py:2854: RuntimeWarning: invalid value encountered in divide\n",
      "  c /= stddev[None, :]\n"
     ]
    },
    {
     "name": "stdout",
     "output_type": "stream",
     "text": [
      "Model Number: 397 with model MetricMotif in generation 3 of 25\n",
      "Model Number: 398 with model ARDL in generation 3 of 25\n",
      "Template Eval Error: ValueError(\"ARDL series Close failed with error ValueError('The number of regressors (277) including deterministics, lags of the endog, lags of the exogenous, and fixed regressors is larger than the sample available for estimation (179).') exog train              dp0  dp1        dp2  dp3  dp4  dp5  dp6  dp7  dp8  dp9  ...  \\\\\\nDate                                                                 ...   \\n2024-12-30  30.0  0.0  2460674.5  0.0  0.0  0.0  0.0  0.0  0.0  0.0  ...   \\n2024-12-31  31.0  0.0  2460675.5  0.0  0.0  0.0  0.0  0.0  0.0  0.0  ...   \\n2025-01-01   1.0  0.0  2460676.5  1.0  0.0  0.0  0.0  0.0  0.0  0.0  ...   \\n2025-01-02   2.0  0.0  2460677.5  1.0  0.0  0.0  0.0  0.0  0.0  0.0  ...   \\n2025-01-03   3.0  0.0  2460678.5  1.0  0.0  0.0  0.0  0.0  0.0  0.0  ...   \\n...          ...  ...        ...  ...  ...  ...  ...  ...  ...  ...  ...   \\n2025-09-01   1.0  0.0  2460919.5  0.0  0.0  0.0  0.0  0.0  0.0  0.0  ...   \\n2025-09-02   2.0  0.0  2460920.5  0.0  0.0  0.0  0.0  0.0  0.0  0.0  ...   \\n2025-09-03   3.0  0.0  2460921.5  0.0  0.0  0.0  0.0  0.0  0.0  0.0  ...   \\n2025-09-04   4.0  0.0  2460922.5  0.0  0.0  0.0  0.0  0.0  0.0  0.0  ...   \\n2025-09-05   5.0  0.0  2460923.5  0.0  0.0  0.0  0.0  0.0  0.0  0.0  ...   \\n\\n            dp265  dp266  dp267  dp268  dp269  dp270  dp271  dp272  dp273  \\\\\\nDate                                                                        \\n2024-12-30    0.0    0.0    0.0    0.0    0.0    0.0    0.0    0.0    0.0   \\n2024-12-31    0.0    0.0    0.0    0.0    0.0    0.0    0.0    0.0    0.0   \\n2025-01-01    0.0    0.0    0.0    0.0    0.0    0.0    0.0    0.0    0.0   \\n2025-01-02    1.0    0.0    0.0    0.0    0.0    0.0    0.0    0.0    0.0   \\n2025-01-03    0.0    0.0    0.0    0.0    1.0    0.0    0.0    0.0    0.0   \\n...           ...    ...    ...    ...    ...    ...    ...    ...    ...   \\n2025-09-01    0.0    0.0    0.0    0.0    0.0    0.0    0.0    0.0    0.0   \\n2025-09-02    0.0    0.0    0.0    0.0    0.0    0.0    0.0    0.0    0.0   \\n2025-09-03    0.0    0.0    0.0    0.0    0.0    0.0    0.0    0.0    0.0   \\n2025-09-04    1.0    0.0    0.0    0.0    0.0    0.0    0.0    0.0    0.0   \\n2025-09-05    0.0    0.0    0.0    0.0    1.0    0.0    0.0    0.0    0.0   \\n\\n            dp274  \\nDate               \\n2024-12-30    0.0  \\n2024-12-31    0.0  \\n2025-01-01    0.0  \\n2025-01-02    0.0  \\n2025-01-03    0.0  \\n...           ...  \\n2025-09-01    0.0  \\n2025-09-02    0.0  \\n2025-09-03    0.0  \\n2025-09-04    0.0  \\n2025-09-05    0.0  \\n\\n[180 rows x 275 columns] and predict              dp0  dp1        dp2  dp3  dp4  dp5  dp6  dp7  dp8  dp9  ...  \\\\\\n2025-09-08   8.0  0.0  2460926.5  0.0  0.0  0.0  0.0  0.0  0.0  0.0  ...   \\n2025-09-09   9.0  0.0  2460927.5  0.0  0.0  0.0  0.0  0.0  0.0  0.0  ...   \\n2025-09-10  10.0  0.0  2460928.5  0.0  0.0  0.0  0.0  0.0  0.0  0.0  ...   \\n2025-09-11  11.0  0.0  2460929.5  0.0  0.0  0.0  0.0  0.0  0.0  0.0  ...   \\n2025-09-12  12.0  0.0  2460930.5  0.0  0.0  0.0  0.0  0.0  0.0  0.0  ...   \\n2025-09-15  15.0  0.0  2460933.5  0.0  0.0  0.0  0.0  0.0  0.0  0.0  ...   \\n2025-09-16  16.0  0.0  2460934.5  0.0  0.0  0.0  0.0  0.0  0.0  0.0  ...   \\n2025-09-17  17.0  0.0  2460935.5  0.0  0.0  0.0  0.0  0.0  0.0  0.0  ...   \\n2025-09-18  18.0  0.0  2460936.5  0.0  0.0  0.0  0.0  0.0  0.0  0.0  ...   \\n2025-09-19  19.0  0.0  2460937.5  0.0  0.0  0.0  0.0  0.0  0.0  0.0  ...   \\n\\n            dp265  dp266  dp267  dp268  dp269  dp270  dp271  dp272  dp273  \\\\\\n2025-09-08    0.0    0.0    0.0    0.0    0.0    0.0    0.0    0.0    0.0   \\n2025-09-09    0.0    0.0    0.0    0.0    0.0    0.0    0.0    0.0    0.0   \\n2025-09-10    0.0    0.0    0.0    0.0    0.0    0.0    0.0    0.0    0.0   \\n2025-09-11    1.0    0.0    0.0    0.0    0.0    0.0    0.0    0.0    0.0   \\n2025-09-12    0.0    0.0    0.0    0.0    1.0    0.0    0.0    0.0    0.0   \\n2025-09-15    0.0    0.0    0.0    0.0    0.0    0.0    0.0    0.0    0.0   \\n2025-09-16    0.0    0.0    0.0    0.0    0.0    0.0    0.0    0.0    0.0   \\n2025-09-17    0.0    0.0    0.0    0.0    0.0    0.0    0.0    0.0    0.0   \\n2025-09-18    1.0    0.0    0.0    0.0    0.0    0.0    0.0    0.0    0.0   \\n2025-09-19    0.0    0.0    0.0    0.0    1.0    0.0    0.0    0.0    0.0   \\n\\n            dp274  \\n2025-09-08    0.0  \\n2025-09-09    0.0  \\n2025-09-10    0.0  \\n2025-09-11    0.0  \\n2025-09-12    0.0  \\n2025-09-15    0.0  \\n2025-09-16    0.0  \\n2025-09-17    0.0  \\n2025-09-18    0.0  \\n2025-09-19    0.0  \\n\\n[10 rows x 275 columns]\") in model 398 in generation 3: ARDL\n",
      "Model Number: 399 with model ETS in generation 3 of 25\n",
      "Model Number: 400 with model SectionalMotif in generation 3 of 25\n",
      "Template Eval Error: ValueError(\"regression_type=='User' but no future_regressor supplied\") in model 400 in generation 3: SectionalMotif\n",
      "Model Number: 401 with model UnivariateMotif in generation 3 of 25\n",
      "Model Number: 402 with model FFT in generation 3 of 25\n",
      "Model Number: 403 with model BasicLinearModel in generation 3 of 25\n"
     ]
    },
    {
     "name": "stderr",
     "output_type": "stream",
     "text": [
      "C:\\ProgramData\\anaconda3\\envs\\nlp-env\\lib\\site-packages\\autots\\tools\\impute.py:60: RuntimeWarning: Mean of empty slice\n",
      "  arr = np.nan_to_num(arr) + np.isnan(arr) * np.nan_to_num(np.nanmean(arr, axis=0))\n",
      "C:\\ProgramData\\anaconda3\\envs\\nlp-env\\lib\\site-packages\\sklearn\\linear_model\\_ridge.py:216: LinAlgWarning: Ill-conditioned matrix (rcond=1.48927e-24): result may not be accurate.\n",
      "  return linalg.solve(A, Xy, assume_a=\"pos\", overwrite_a=True).T\n"
     ]
    },
    {
     "name": "stdout",
     "output_type": "stream",
     "text": [
      "Model Number: 404 with model AverageValueNaive in generation 3 of 25\n",
      "Model Number: 405 with model LastValueNaive in generation 3 of 25\n",
      "Model Number: 406 with model SeasonalNaive in generation 3 of 25\n",
      "Model Number: 407 with model GLS in generation 3 of 25\n",
      "Template Eval Error: Exception(\"Transformer BTCD failed on fit from params pchip {'0': {'fixed': True, 'window': 3}, '1': {'regression_model': {'model': 'LinearRegression', 'model_params': {}}, 'max_lags': 1}, '2': {'model': 'Linear'}, '3': {'method': 0.3}, '4': {'method': 'clip', 'std_threshold': 3, 'fillna': None}, '5': {'rows': 24, 'lag': 2, 'method': 'additive', 'strength': 1.0, 'first_value_only': False, 'threshold': 3, 'threshold_method': 'mean'}} with error ValueError('BTCD only works on multivarate series')\") in model 407 in generation 3: GLS\n",
      "Model Number: 408 with model SeasonalNaive in generation 3 of 25\n",
      "Model Number: 409 with model ARDL in generation 3 of 25\n",
      "Template Eval Error: ValueError(\"regression_type='User' but future_regressor not supplied\") in model 409 in generation 3: ARDL\n",
      "Model Number: 410 with model SeasonalityMotif in generation 3 of 25\n",
      "Model Number: 411 with model DatepartRegression in generation 3 of 25\n"
     ]
    },
    {
     "name": "stderr",
     "output_type": "stream",
     "text": [
      "C:\\ProgramData\\anaconda3\\envs\\nlp-env\\lib\\site-packages\\sklearn\\neighbors\\_classification.py:215: DataConversionWarning: A column-vector y was passed when a 1d array was expected. Please change the shape of y to (n_samples,), for example using ravel().\n",
      "  return self._fit(X, y)\n"
     ]
    },
    {
     "name": "stdout",
     "output_type": "stream",
     "text": [
      "Model Number: 412 with model UnivariateMotif in generation 3 of 25\n",
      "Model Number: 413 with model LastValueNaive in generation 3 of 25\n",
      "Template Eval Error: Exception(\"Transformer Detrend failed on fit from params ffill {'0': {'lag_1': 7, 'method': 'LastValue'}, '1': {'center': 'mean'}, '2': {'model': 'Poisson', 'phi': 1, 'window': 90, 'transform_dict': None}, '3': {'output_distribution': 'uniform', 'n_quantiles': 1000}} with error ValueError('Found input variables with inconsistent numbers of samples: [90, 190]')\") in model 413 in generation 3: LastValueNaive\n",
      "Model Number: 414 with model ConstantNaive in generation 3 of 25\n",
      "Model Number: 415 with model GLM in generation 3 of 25\n",
      "Model Number: 416 with model GLM in generation 3 of 25\n",
      "2025-09-06 00:00:00\n",
      "2025-09-06 00:00:00\n",
      "2025-09-06 00:00:00\n",
      "Model Number: 417 with model SeasonalityMotif in generation 3 of 25\n",
      "Model Number: 418 with model SectionalMotif in generation 3 of 25\n"
     ]
    },
    {
     "name": "stderr",
     "output_type": "stream",
     "text": [
      "C:\\ProgramData\\anaconda3\\envs\\nlp-env\\lib\\site-packages\\sklearn\\neural_network\\_multilayer_perceptron.py:541: ConvergenceWarning: lbfgs failed to converge (status=1):\n",
      "STOP: TOTAL NO. of ITERATIONS REACHED LIMIT.\n",
      "\n",
      "Increase the number of iterations (max_iter) or scale the data as shown in:\n",
      "    https://scikit-learn.org/stable/modules/preprocessing.html\n",
      "  self.n_iter_ = _check_optimize_result(\"lbfgs\", opt_res, self.max_iter)\n"
     ]
    },
    {
     "name": "stdout",
     "output_type": "stream",
     "text": [
      "Model Number: 419 with model Cassandra in generation 3 of 25\n",
      "Model Number: 420 with model ETS in generation 3 of 25\n",
      "Model Number: 421 with model DatepartRegression in generation 3 of 25\n",
      "Model Number: 422 with model MetricMotif in generation 3 of 25\n",
      "Model Number: 423 with model SectionalMotif in generation 3 of 25\n",
      "Template Eval Error: Exception(\"Transformer BTCD failed on fit from params rolling_mean_24 {'0': {'regression_model': {'model': 'FastRidge', 'model_params': {}}, 'max_lags': 2}, '1': {'regression_model': {'model': 'FastRidge', 'model_params': {}}, 'max_lags': 1}} with error ValueError('BTCD only works on multivarate series')\") in model 423 in generation 3: SectionalMotif\n",
      "Model Number: 424 with model FFT in generation 3 of 25\n",
      "Model Number: 425 with model ARDL in generation 3 of 25\n",
      "Template Eval Error: ValueError(\"regression_type='User' but future_regressor not supplied\") in model 425 in generation 3: ARDL\n",
      "Model Number: 426 with model AverageValueNaive in generation 3 of 25\n",
      "Model Number: 427 with model SeasonalityMotif in generation 3 of 25\n",
      "Model Number: 428 with model SeasonalNaive in generation 3 of 25\n",
      "Model Number: 429 with model AverageValueNaive in generation 3 of 25\n",
      "Model Number: 430 with model SectionalMotif in generation 3 of 25\n",
      "Model Number: 431 with model AverageValueNaive in generation 3 of 25\n",
      "Model Number: 432 with model WindowRegression in generation 3 of 25\n",
      "Template Eval Error: Exception(\"Transformer BTCD failed on fit from params ffill {'0': {}, '1': {'regression_model': {'model': 'FastRidge', 'model_params': {}}, 'max_lags': 2}, '2': {'output_distribution': 'uniform', 'n_quantiles': 1000}, '3': {'sigma': 2, 'rolling_window': 90, 'run_order': 'trend_first', 'regression_params': {'regression_model': {'model': 'ElasticNet', 'model_params': {'l1_ratio': 0.1, 'fit_intercept': True, 'selection': 'cyclic', 'max_iter': 1000}}, 'datepart_method': 'simple_binarized', 'polynomial_degree': None, 'transform_dict': {'fillna': None, 'transformations': {'0': 'EWMAFilter'}, 'transformation_params': {'0': {'span': 2}}}, 'holiday_countries_used': False, 'lags': None, 'forward_lags': None}, 'holiday_params': None, 'trend_method': 'local_linear'}, '4': {'rows': 1}} with error ValueError('BTCD only works on multivarate series')\") in model 432 in generation 3: WindowRegression\n",
      "Model Number: 433 with model Cassandra in generation 3 of 25\n",
      "Model Number: 434 with model BasicLinearModel in generation 3 of 25\n",
      "Model Number: 435 with model GLS in generation 3 of 25\n",
      "Model Number: 436 with model SectionalMotif in generation 3 of 25\n",
      "Model Number: 437 with model ARDL in generation 3 of 25\n",
      "Template Eval Error: ValueError(\"regression_type='User' but future_regressor not supplied\") in model 437 in generation 3: ARDL\n",
      "Model Number: 438 with model SeasonalityMotif in generation 3 of 25\n",
      "Model Number: 439 with model SectionalMotif in generation 3 of 25\n",
      "Model Number: 440 with model SectionalMotif in generation 3 of 25\n",
      "Model Number: 441 with model ARDL in generation 3 of 25\n"
     ]
    },
    {
     "name": "stderr",
     "output_type": "stream",
     "text": [
      "C:\\ProgramData\\anaconda3\\envs\\nlp-env\\lib\\site-packages\\numpy\\lib\\function_base.py:2853: RuntimeWarning: invalid value encountered in divide\n",
      "  c /= stddev[:, None]\n",
      "C:\\ProgramData\\anaconda3\\envs\\nlp-env\\lib\\site-packages\\numpy\\lib\\function_base.py:2854: RuntimeWarning: invalid value encountered in divide\n",
      "  c /= stddev[None, :]\n"
     ]
    },
    {
     "name": "stdout",
     "output_type": "stream",
     "text": [
      "Model Number: 442 with model SectionalMotif in generation 3 of 25\n",
      "Template Eval Error: ValueError(\"regression_type=='User' but no future_regressor supplied\") in model 442 in generation 3: SectionalMotif\n",
      "Model Number: 443 with model BasicLinearModel in generation 3 of 25\n",
      "Model Number: 444 with model FFT in generation 3 of 25\n",
      "Model Number: 445 with model SeasonalNaive in generation 3 of 25\n",
      "Model Number: 446 with model BasicLinearModel in generation 3 of 25\n",
      "Model Number: 447 with model DatepartRegression in generation 3 of 25\n",
      "Template Eval Error: Exception(\"Transformer BTCD failed on fit from params ffill {'0': {'method': 'clip', 'std_threshold': 3, 'fillna': None}, '1': {'output_distribution': 'uniform', 'n_quantiles': 63}, '2': {'regression_model': {'model': 'FastRidge', 'model_params': {}}, 'max_lags': 1}} with error ValueError('BTCD only works on multivarate series')\") in model 447 in generation 3: DatepartRegression\n",
      "Model Number: 448 with model ETS in generation 3 of 25\n",
      "Model Number: 449 with model SeasonalityMotif in generation 3 of 25\n",
      "Model Number: 450 with model GLM in generation 3 of 25\n",
      "Model Number: 451 with model SeasonalityMotif in generation 3 of 25\n",
      "Model Number: 452 with model SeasonalityMotif in generation 3 of 25\n",
      "Model Number: 453 with model LastValueNaive in generation 3 of 25\n",
      "Template Eval Error: Exception(\"Transformer Detrend failed on fit from params ffill {'0': {'low': 6, 'high': 32, 'K': 1, 'lanczos_factor': False, 'return_diff': False, 'on_transform': True, 'on_inverse': False}, '1': {}, '2': {'model': 'Poisson', 'phi': 1, 'window': 90, 'transform_dict': None}} with error ValueError('Found input variables with inconsistent numbers of samples: [90, 188]')\") in model 453 in generation 3: LastValueNaive\n",
      "Model Number: 454 with model AverageValueNaive in generation 3 of 25\n",
      "Model Number: 455 with model UnivariateMotif in generation 3 of 25\n",
      "Model Number: 456 with model DatepartRegression in generation 3 of 25\n"
     ]
    },
    {
     "name": "stderr",
     "output_type": "stream",
     "text": [
      "C:\\ProgramData\\anaconda3\\envs\\nlp-env\\lib\\site-packages\\statsmodels\\genmod\\generalized_linear_model.py:1342: PerfectSeparationWarning: Perfect separation or prediction detected, parameter may not be identified\n",
      "  warnings.warn(msg, category=PerfectSeparationWarning)\n"
     ]
    },
    {
     "name": "stdout",
     "output_type": "stream",
     "text": [
      "Model Number: 457 with model SectionalMotif in generation 3 of 25\n",
      "Model Number: 458 with model AverageValueNaive in generation 3 of 25\n",
      "Model Number: 459 with model ARDL in generation 3 of 25\n",
      "Model Number: 460 with model UnivariateMotif in generation 3 of 25\n",
      "Model Number: 461 with model MetricMotif in generation 3 of 25\n",
      "Template Eval Error: Exception(\"Transformer FIRFilter failed on fit from params rolling_mean {'0': {}, '1': {'lag': 1, 'fill': 'bfill'}, '2': {'numtaps': 64, 'cutoff_hz': 100, 'window': 'hann', 'sampling_frequency': 7, 'on_transform': True, 'on_inverse': False, 'bounds_only': False}} with error ValueError('Invalid cutoff frequency: frequencies must be greater than 0 and less than fs/2.')\") in model 461 in generation 3: MetricMotif\n",
      "Model Number: 462 with model LastValueNaive in generation 3 of 25\n",
      "Model Number: 463 with model SeasonalityMotif in generation 3 of 25\n",
      "Model Number: 464 with model UnivariateMotif in generation 3 of 25\n",
      "Model Number: 465 with model ETS in generation 3 of 25\n",
      "Model Number: 466 with model ETS in generation 3 of 25\n",
      "Model Number: 467 with model UnivariateMotif in generation 3 of 25\n",
      "Model Number: 468 with model LastValueNaive in generation 3 of 25\n",
      "Model Number: 469 with model BasicLinearModel in generation 3 of 25\n",
      "Model Number: 470 with model SectionalMotif in generation 3 of 25\n",
      "Template Eval Error: Exception(\"Transformer BTCD failed on fit from params ffill {'0': {'regression_model': {'model': 'FastRidge', 'model_params': {}}, 'max_lags': 2}, '1': {'regression_model': {'model': 'FastRidge', 'model_params': {}}, 'max_lags': 1}, '2': {'n_harmonics': 20, 'detrend': None}} with error ValueError('BTCD only works on multivarate series')\") in model 470 in generation 3: SectionalMotif\n",
      "Model Number: 471 with model ETS in generation 3 of 25\n",
      "Model Number: 472 with model Cassandra in generation 3 of 25\n"
     ]
    },
    {
     "name": "stderr",
     "output_type": "stream",
     "text": [
      "C:\\ProgramData\\anaconda3\\envs\\nlp-env\\lib\\site-packages\\numpy\\lib\\function_base.py:2853: RuntimeWarning: invalid value encountered in divide\n",
      "  c /= stddev[:, None]\n",
      "C:\\ProgramData\\anaconda3\\envs\\nlp-env\\lib\\site-packages\\numpy\\lib\\function_base.py:2854: RuntimeWarning: invalid value encountered in divide\n",
      "  c /= stddev[None, :]\n"
     ]
    },
    {
     "name": "stdout",
     "output_type": "stream",
     "text": [
      "New Generation: 4 of 25\n",
      "Model Number: 473 with model ARDL in generation 4 of 25\n",
      "Model Number: 474 with model ETS in generation 4 of 25\n",
      "Model Number: 475 with model LastValueNaive in generation 4 of 25\n",
      "Template Eval Error: Exception(\"Transformer HPFilter failed on fit from params None {'0': {'part': 'trend', 'lamb': 6.25}, '1': {}} with error ValueError('hpfilter does not handle null values.')\") in model 475 in generation 4: LastValueNaive\n",
      "Model Number: 476 with model BasicLinearModel in generation 4 of 25\n",
      "Model Number: 477 with model SeasonalityMotif in generation 4 of 25\n",
      "Model Number: 478 with model MetricMotif in generation 4 of 25\n",
      "Model Number: 479 with model MetricMotif in generation 4 of 25\n",
      "Model Number: 480 with model ARDL in generation 4 of 25\n",
      "Model Number: 481 with model DatepartRegression in generation 4 of 25\n",
      "Template Eval Error: ValueError(\"regression_type='User' but no future_regressor passed\") in model 481 in generation 4: DatepartRegression\n",
      "Model Number: 482 with model SeasonalNaive in generation 4 of 25\n",
      "Model Number: 483 with model AverageValueNaive in generation 4 of 25\n",
      "Model Number: 484 with model GLM in generation 4 of 25\n",
      "Model Number: 485 with model UnivariateMotif in generation 4 of 25\n",
      "Model Number: 486 with model ARDL in generation 4 of 25\n"
     ]
    },
    {
     "name": "stderr",
     "output_type": "stream",
     "text": [
      "C:\\ProgramData\\anaconda3\\envs\\nlp-env\\lib\\site-packages\\statsmodels\\genmod\\families\\links.py:198: RuntimeWarning: overflow encountered in exp\n",
      "  t = np.exp(-z)\n"
     ]
    },
    {
     "name": "stdout",
     "output_type": "stream",
     "text": [
      "Model Number: 487 with model BasicLinearModel in generation 4 of 25\n",
      "Model Number: 488 with model LastValueNaive in generation 4 of 25\n",
      "Model Number: 489 with model SeasonalNaive in generation 4 of 25\n",
      "Model Number: 490 with model BasicLinearModel in generation 4 of 25\n",
      "Model Number: 491 with model SeasonalityMotif in generation 4 of 25\n",
      "Model Number: 492 with model AverageValueNaive in generation 4 of 25\n",
      "Model Number: 493 with model WindowRegression in generation 4 of 25\n",
      "Template Eval Error: ModuleNotFoundError(\"No module named 'lightgbm'\") in model 493 in generation 4: WindowRegression\n",
      "Model Number: 494 with model GLM in generation 4 of 25\n",
      "Model Number: 495 with model FFT in generation 4 of 25\n",
      "Model Number: 496 with model SeasonalityMotif in generation 4 of 25\n",
      "Model Number: 497 with model ARDL in generation 4 of 25\n",
      "Model Number: 498 with model UnivariateMotif in generation 4 of 25\n",
      "Model Number: 499 with model BasicLinearModel in generation 4 of 25\n",
      "Model Number: 500 with model AverageValueNaive in generation 4 of 25\n",
      "Model Number: 501 with model SectionalMotif in generation 4 of 25\n",
      "Model Number: 502 with model MetricMotif in generation 4 of 25\n",
      "Model Number: 503 with model SeasonalNaive in generation 4 of 25\n",
      "Model Number: 504 with model Cassandra in generation 4 of 25\n",
      "Template Eval Error: ValueError('kth(=100) out of bounds (66)') in model 504 in generation 4: Cassandra\n",
      "Model Number: 505 with model SectionalMotif in generation 4 of 25\n",
      "Model Number: 506 with model Cassandra in generation 4 of 25\n",
      "Template Eval Error: ValueError('Only gave one variable to VAR') in model 506 in generation 4: Cassandra\n",
      "Model Number: 507 with model ARDL in generation 4 of 25\n",
      "Model Number: 508 with model AverageValueNaive in generation 4 of 25\n",
      "Model Number: 509 with model BasicLinearModel in generation 4 of 25\n",
      "Model Number: 510 with model AverageValueNaive in generation 4 of 25\n",
      "Template Eval Error: ValueError('operands could not be broadcast together with shapes (26,1) (10,1) ') in model 510 in generation 4: AverageValueNaive\n",
      "Model Number: 511 with model SeasonalNaive in generation 4 of 25\n",
      "Model Number: 512 with model FFT in generation 4 of 25\n",
      "Model Number: 513 with model GLS in generation 4 of 25\n",
      "Model Number: 514 with model SectionalMotif in generation 4 of 25\n",
      "Model Number: 515 with model SectionalMotif in generation 4 of 25\n",
      "Model Number: 516 with model SeasonalityMotif in generation 4 of 25\n"
     ]
    },
    {
     "name": "stderr",
     "output_type": "stream",
     "text": [
      "C:\\ProgramData\\anaconda3\\envs\\nlp-env\\lib\\site-packages\\numpy\\lib\\function_base.py:2853: RuntimeWarning: invalid value encountered in divide\n",
      "  c /= stddev[:, None]\n",
      "C:\\ProgramData\\anaconda3\\envs\\nlp-env\\lib\\site-packages\\numpy\\lib\\function_base.py:2854: RuntimeWarning: invalid value encountered in divide\n",
      "  c /= stddev[None, :]\n"
     ]
    },
    {
     "name": "stdout",
     "output_type": "stream",
     "text": [
      "Model Number: 517 with model SeasonalityMotif in generation 4 of 25\n",
      "Model Number: 518 with model GLM in generation 4 of 25\n",
      "Model Number: 519 with model UnivariateMotif in generation 4 of 25\n",
      "Model Number: 520 with model MetricMotif in generation 4 of 25\n",
      "Model Number: 521 with model AverageValueNaive in generation 4 of 25\n",
      "Model Number: 522 with model SeasonalNaive in generation 4 of 25\n",
      "Model Number: 523 with model GLS in generation 4 of 25\n"
     ]
    },
    {
     "name": "stderr",
     "output_type": "stream",
     "text": [
      "C:\\ProgramData\\anaconda3\\envs\\nlp-env\\lib\\site-packages\\statsmodels\\genmod\\families\\links.py:198: RuntimeWarning: overflow encountered in exp\n",
      "  t = np.exp(-z)\n"
     ]
    },
    {
     "name": "stdout",
     "output_type": "stream",
     "text": [
      "Model Number: 524 with model SectionalMotif in generation 4 of 25\n",
      "Model Number: 525 with model SeasonalityMotif in generation 4 of 25\n",
      "Model Number: 526 with model SeasonalNaive in generation 4 of 25\n",
      "Model Number: 527 with model Cassandra in generation 4 of 25\n",
      "Template Eval Error: LinAlgError('Singular matrix') in model 527 in generation 4: Cassandra\n",
      "Model Number: 528 with model BasicLinearModel in generation 4 of 25\n",
      "Model Number: 529 with model AverageValueNaive in generation 4 of 25\n",
      "Model Number: 530 with model DatepartRegression in generation 4 of 25\n"
     ]
    },
    {
     "name": "stderr",
     "output_type": "stream",
     "text": [
      "C:\\ProgramData\\anaconda3\\envs\\nlp-env\\lib\\site-packages\\numpy\\lib\\function_base.py:2853: RuntimeWarning: invalid value encountered in divide\n",
      "  c /= stddev[:, None]\n",
      "C:\\ProgramData\\anaconda3\\envs\\nlp-env\\lib\\site-packages\\numpy\\lib\\function_base.py:2854: RuntimeWarning: invalid value encountered in divide\n",
      "  c /= stddev[None, :]\n"
     ]
    },
    {
     "name": "stdout",
     "output_type": "stream",
     "text": [
      "Model Number: 531 with model SeasonalityMotif in generation 4 of 25\n",
      "Model Number: 532 with model MetricMotif in generation 4 of 25\n",
      "Model Number: 533 with model RRVAR in generation 4 of 25\n",
      "Model Number: 534 with model UnivariateMotif in generation 4 of 25\n",
      "Model Number: 535 with model UnivariateMotif in generation 4 of 25\n",
      "Model Number: 536 with model MetricMotif in generation 4 of 25\n"
     ]
    },
    {
     "name": "stderr",
     "output_type": "stream",
     "text": [
      "C:\\ProgramData\\anaconda3\\envs\\nlp-env\\lib\\site-packages\\sklearn\\neural_network\\_multilayer_perceptron.py:541: ConvergenceWarning: lbfgs failed to converge (status=1):\n",
      "STOP: TOTAL NO. of ITERATIONS REACHED LIMIT.\n",
      "\n",
      "Increase the number of iterations (max_iter) or scale the data as shown in:\n",
      "    https://scikit-learn.org/stable/modules/preprocessing.html\n",
      "  self.n_iter_ = _check_optimize_result(\"lbfgs\", opt_res, self.max_iter)\n",
      "C:\\ProgramData\\anaconda3\\envs\\nlp-env\\lib\\site-packages\\sklearn\\neighbors\\_classification.py:215: DataConversionWarning: A column-vector y was passed when a 1d array was expected. Please change the shape of y to (n_samples,), for example using ravel().\n",
      "  return self._fit(X, y)\n"
     ]
    },
    {
     "name": "stdout",
     "output_type": "stream",
     "text": [
      "Model Number: 537 with model ConstantNaive in generation 4 of 25\n",
      "Model Number: 538 with model Cassandra in generation 4 of 25\n",
      "Model Number: 539 with model AverageValueNaive in generation 4 of 25\n",
      "Model Number: 540 with model GLM in generation 4 of 25\n",
      "Model Number: 541 with model UnivariateMotif in generation 4 of 25\n",
      "Model Number: 542 with model ARDL in generation 4 of 25\n",
      "Template Eval Error: Exception(\"Transformer BTCD failed on fit from params akima {'0': {'model': 'Linear', 'phi': 1, 'window': 10, 'transform_dict': None}, '1': {'span': 28}, '2': {'regression_model': {'model': 'LinearRegression', 'model_params': {}}, 'max_lags': 1}, '3': {'part': 'trend', 'lamb': 1600}, '4': {'method': 'mad', 'method_params': {'distribution': 'norm', 'alpha': 0.05}, 'fillna': 'linear', 'transform_dict': {'fillna': None, 'transformations': {'0': 'ClipOutliers'}, 'transformation_params': {'0': {'method': 'clip', 'std_threshold': 6}}}, 'isolated_only': True, 'on_inverse': True}, '5': {'theta_values': [0, 1, 2]}} with error ValueError('BTCD only works on multivarate series')\") in model 542 in generation 4: ARDL\n",
      "Model Number: 543 with model ARDL in generation 4 of 25\n",
      "Template Eval Error: ValueError(\"regression_type='User' but future_regressor not supplied\") in model 543 in generation 4: ARDL\n",
      "Model Number: 544 with model LastValueNaive in generation 4 of 25\n",
      "Model Number: 545 with model UnivariateMotif in generation 4 of 25\n",
      "Model Number: 546 with model SeasonalityMotif in generation 4 of 25\n",
      "Model Number: 547 with model ETS in generation 4 of 25\n",
      "Model Number: 548 with model GLS in generation 4 of 25\n",
      "Template Eval Error: Exception(\"Transformer BTCD failed on fit from params pchip {'0': {'regression_model': {'model': 'FastRidge', 'model_params': {}}, 'max_lags': 1}, '1': {}, '2': {'rows': 7, 'lag': 2, 'method': 'additive', 'strength': 0.5, 'first_value_only': False, 'threshold': 10, 'threshold_method': 'max'}, '3': {'model': 'Linear', 'changepoint_spacing': 28, 'changepoint_distance_end': 60, 'datepart_method': None}} with error ValueError('BTCD only works on multivarate series')\") in model 548 in generation 4: GLS\n",
      "Model Number: 549 with model WindowRegression in generation 4 of 25\n",
      "Model Number: 550 with model GLS in generation 4 of 25\n",
      "Model Number: 551 with model MetricMotif in generation 4 of 25\n",
      "Model Number: 552 with model SectionalMotif in generation 4 of 25\n",
      "Model Number: 553 with model LastValueNaive in generation 4 of 25\n",
      "Model Number: 554 with model FFT in generation 4 of 25\n",
      "Template Eval Error: Exception(\"Transformer DatepartRegression failed on fit from params fake_date {'0': {'regression_model': {'model': 'ElasticNetwork', 'model_params': {'size': 32, 'l1': 0.0001, 'l2': 0.01, 'epochs': 20, 'batch_size': 8, 'optimizer': 'adam', 'loss': 'mape'}}, 'datepart_method': ['simple_binarized'], 'polynomial_degree': None, 'transform_dict': None, 'holiday_countries_used': True, 'lags': None, 'forward_lags': None}} with error IndexError('tuple index out of range')\") in model 554 in generation 4: FFT\n",
      "Model Number: 555 with model MetricMotif in generation 4 of 25\n",
      "Model Number: 556 with model FFT in generation 4 of 25\n",
      "Model Number: 557 with model SectionalMotif in generation 4 of 25\n",
      "Model Number: 558 with model UnivariateMotif in generation 4 of 25\n"
     ]
    },
    {
     "name": "stderr",
     "output_type": "stream",
     "text": [
      "C:\\ProgramData\\anaconda3\\envs\\nlp-env\\lib\\site-packages\\sklearn\\linear_model\\_ridge.py:216: LinAlgWarning: Ill-conditioned matrix (rcond=1.57062e-08): result may not be accurate.\n",
      "  return linalg.solve(A, Xy, assume_a=\"pos\", overwrite_a=True).T\n",
      "C:\\ProgramData\\anaconda3\\envs\\nlp-env\\lib\\site-packages\\sklearn\\base.py:432: UserWarning: X has feature names, but StandardScaler was fitted without feature names\n",
      "  warnings.warn(\n",
      "C:\\ProgramData\\anaconda3\\envs\\nlp-env\\lib\\site-packages\\sklearn\\base.py:432: UserWarning: X has feature names, but StandardScaler was fitted without feature names\n",
      "  warnings.warn(\n",
      "C:\\ProgramData\\anaconda3\\envs\\nlp-env\\lib\\site-packages\\sklearn\\base.py:432: UserWarning: X has feature names, but StandardScaler was fitted without feature names\n",
      "  warnings.warn(\n",
      "C:\\ProgramData\\anaconda3\\envs\\nlp-env\\lib\\site-packages\\sklearn\\base.py:432: UserWarning: X has feature names, but StandardScaler was fitted without feature names\n",
      "  warnings.warn(\n",
      "C:\\ProgramData\\anaconda3\\envs\\nlp-env\\lib\\site-packages\\sklearn\\base.py:432: UserWarning: X has feature names, but StandardScaler was fitted without feature names\n",
      "  warnings.warn(\n",
      "C:\\ProgramData\\anaconda3\\envs\\nlp-env\\lib\\site-packages\\sklearn\\base.py:432: UserWarning: X has feature names, but StandardScaler was fitted without feature names\n",
      "  warnings.warn(\n",
      "C:\\ProgramData\\anaconda3\\envs\\nlp-env\\lib\\site-packages\\sklearn\\base.py:432: UserWarning: X has feature names, but StandardScaler was fitted without feature names\n",
      "  warnings.warn(\n",
      "C:\\ProgramData\\anaconda3\\envs\\nlp-env\\lib\\site-packages\\sklearn\\base.py:432: UserWarning: X has feature names, but StandardScaler was fitted without feature names\n",
      "  warnings.warn(\n",
      "C:\\ProgramData\\anaconda3\\envs\\nlp-env\\lib\\site-packages\\sklearn\\base.py:432: UserWarning: X has feature names, but StandardScaler was fitted without feature names\n",
      "  warnings.warn(\n",
      "C:\\ProgramData\\anaconda3\\envs\\nlp-env\\lib\\site-packages\\sklearn\\base.py:432: UserWarning: X has feature names, but StandardScaler was fitted without feature names\n",
      "  warnings.warn(\n"
     ]
    },
    {
     "name": "stdout",
     "output_type": "stream",
     "text": [
      "Model Number: 559 with model SeasonalityMotif in generation 4 of 25\n",
      "Model Number: 560 with model LastValueNaive in generation 4 of 25\n",
      "Model Number: 561 with model GLS in generation 4 of 25\n",
      "Template Eval Error: Exception(\"Transformer Cointegration failed on fit from params fake_date {'0': {'det_order': 1, 'k_ar_diff': 0}, '1': {}, '2': {}, '3': {'regression_model': {'model': 'ExtraTrees', 'model_params': {'n_estimators': 100, 'min_samples_leaf': 1, 'min_samples_split': 2, 'max_depth': 30, 'criterion': 'friedman_mse', 'max_features': 1}}, 'datepart_method': 'expanded', 'polynomial_degree': None, 'transform_dict': {'fillna': None, 'transformations': {'0': 'EWMAFilter'}, 'transformation_params': {'0': {'span': 2}}}, 'holiday_countries_used': True, 'lags': None, 'forward_lags': None}} with error ValueError('Coint only works on multivarate series')\") in model 561 in generation 4: GLS\n",
      "Model Number: 562 with model BasicLinearModel in generation 4 of 25\n",
      "Model Number: 563 with model ETS in generation 4 of 25\n",
      "Model Number: 564 with model FFT in generation 4 of 25\n",
      "Model Number: 565 with model LastValueNaive in generation 4 of 25\n",
      "Model Number: 566 with model FFT in generation 4 of 25\n",
      "Template Eval Error: Exception(\"Transformer DatepartRegression failed on fit from params nearest {'0': {'regression_model': {'model': 'ElasticNetwork', 'model_params': {'size': 32, 'l1': 0.0001, 'l2': 0.01, 'epochs': 20, 'batch_size': 8, 'optimizer': 'adam', 'loss': 'mape'}}, 'datepart_method': ['simple_binarized'], 'polynomial_degree': None, 'transform_dict': None, 'holiday_countries_used': True, 'lags': None, 'forward_lags': None}} with error IndexError('tuple index out of range')\") in model 566 in generation 4: FFT\n",
      "Model Number: 567 with model SeasonalityMotif in generation 4 of 25\n",
      "Model Number: 568 with model ARDL in generation 4 of 25\n",
      "Template Eval Error: ValueError(\"regression_type='User' but future_regressor not supplied\") in model 568 in generation 4: ARDL\n",
      "Model Number: 569 with model BasicLinearModel in generation 4 of 25\n",
      "Model Number: 570 with model Cassandra in generation 4 of 25\n"
     ]
    },
    {
     "name": "stderr",
     "output_type": "stream",
     "text": [
      "C:\\ProgramData\\anaconda3\\envs\\nlp-env\\lib\\site-packages\\numpy\\lib\\function_base.py:2853: RuntimeWarning: invalid value encountered in divide\n",
      "  c /= stddev[:, None]\n",
      "C:\\ProgramData\\anaconda3\\envs\\nlp-env\\lib\\site-packages\\numpy\\lib\\function_base.py:2854: RuntimeWarning: invalid value encountered in divide\n",
      "  c /= stddev[None, :]\n"
     ]
    },
    {
     "name": "stdout",
     "output_type": "stream",
     "text": [
      "Model Number: 571 with model AverageValueNaive in generation 4 of 25\n",
      "Template Eval Error: ValueError('operands could not be broadcast together with shapes (26,1) (10,1) ') in model 571 in generation 4: AverageValueNaive\n",
      "Model Number: 572 with model LastValueNaive in generation 4 of 25\n",
      "Model Number: 573 with model MetricMotif in generation 4 of 25\n",
      "Model Number: 574 with model ETS in generation 4 of 25\n",
      "Model Number: 575 with model SeasonalNaive in generation 4 of 25\n",
      "Model Number: 576 with model UnivariateMotif in generation 4 of 25\n",
      "Model Number: 577 with model SectionalMotif in generation 4 of 25\n",
      "New Generation: 5 of 25\n"
     ]
    },
    {
     "name": "stderr",
     "output_type": "stream",
     "text": [
      "C:\\ProgramData\\anaconda3\\envs\\nlp-env\\lib\\site-packages\\sklearn\\neighbors\\_classification.py:215: DataConversionWarning: A column-vector y was passed when a 1d array was expected. Please change the shape of y to (n_samples,), for example using ravel().\n",
      "  return self._fit(X, y)\n"
     ]
    },
    {
     "name": "stdout",
     "output_type": "stream",
     "text": [
      "Model Number: 578 with model UnivariateMotif in generation 5 of 25\n",
      "Model Number: 579 with model LastValueNaive in generation 5 of 25\n",
      "Model Number: 580 with model UnivariateMotif in generation 5 of 25\n",
      "Model Number: 581 with model Cassandra in generation 5 of 25\n",
      "Template Eval Error: ValueError('Length mismatch: Expected axis has 380 elements, new values have 190 elements') in model 581 in generation 5: Cassandra\n",
      "Model Number: 582 with model FFT in generation 5 of 25\n",
      "Model Number: 583 with model Cassandra in generation 5 of 25\n",
      "Model Number: 584 with model SectionalMotif in generation 5 of 25\n",
      "Model Number: 585 with model SectionalMotif in generation 5 of 25\n",
      "Model Number: 586 with model SectionalMotif in generation 5 of 25\n",
      "Model Number: 587 with model ETS in generation 5 of 25\n",
      "Model Number: 588 with model Cassandra in generation 5 of 25\n",
      "Model Number: 589 with model SectionalMotif in generation 5 of 25\n",
      "Model Number: 590 with model BasicLinearModel in generation 5 of 25\n",
      "Model Number: 591 with model ConstantNaive in generation 5 of 25\n",
      "Model Number: 592 with model SeasonalityMotif in generation 5 of 25\n",
      "Model Number: 593 with model ARDL in generation 5 of 25\n",
      "Model Number: 594 with model LastValueNaive in generation 5 of 25\n",
      "Model Number: 595 with model SeasonalNaive in generation 5 of 25\n",
      "Model Number: 596 with model ConstantNaive in generation 5 of 25\n",
      "Model Number: 597 with model ETS in generation 5 of 25\n",
      "Model Number: 598 with model SeasonalNaive in generation 5 of 25\n",
      "Model Number: 599 with model SectionalMotif in generation 5 of 25\n",
      "Model Number: 600 with model ARDL in generation 5 of 25\n",
      "Model Number: 601 with model AverageValueNaive in generation 5 of 25\n",
      "Model Number: 602 with model GLS in generation 5 of 25\n",
      "Model Number: 603 with model UnivariateMotif in generation 5 of 25\n",
      "Model Number: 604 with model MetricMotif in generation 5 of 25\n",
      "Model Number: 605 with model UnivariateMotif in generation 5 of 25\n",
      "Model Number: 606 with model BasicLinearModel in generation 5 of 25\n",
      "Model Number: 607 with model ARDL in generation 5 of 25\n",
      "Model Number: 608 with model BasicLinearModel in generation 5 of 25\n",
      "Model Number: 609 with model SeasonalityMotif in generation 5 of 25\n",
      "Model Number: 610 with model LastValueNaive in generation 5 of 25\n",
      "Template Eval Error: Exception(\"Transformer BTCD failed on fit from params ffill {'0': {'sigma': 2, 'rolling_window': 90, 'run_order': 'season_first', 'regression_params': {'regression_model': {'model': 'ElasticNet', 'model_params': {'l1_ratio': 0.5, 'fit_intercept': True, 'selection': 'random', 'max_iter': 1000}}, 'datepart_method': ['dayofweek', [365.25, 14]], 'polynomial_degree': None, 'transform_dict': None, 'holiday_countries_used': False, 'lags': None, 'forward_lags': None}, 'holiday_params': {'threshold': 0.9, 'splash_threshold': None, 'use_dayofmonth_holidays': True, 'use_wkdom_holidays': True, 'use_wkdeom_holidays': False, 'use_lunar_holidays': False, 'use_lunar_weekday': False, 'use_islamic_holidays': False, 'use_hebrew_holidays': False, 'use_hindu_holidays': False, 'anomaly_detector_params': {'method': 'IQR', 'method_params': {'iqr_threshold': 4.9, 'iqr_quantiles': [0.4, 0.6]}, 'fillna': 'rolling_mean_24', 'transform_dict': {'fillna': 'mean', 'transformations': {'0': 'ChangepointDetrend'}, 'transformation_params': {'0': {'model': 'Linear', 'changepoint_spacing': None, 'changepoint_distance_end': 520, 'datepart_method': ['common_fourier']}}}, 'isolated_only': False, 'on_inverse': False}, 'remove_excess_anomalies': True, 'impact': 'datepart_regression', 'regression_params': {'regression_model': {'model': 'ElasticNet', 'model_params': {'l1_ratio': 0.5, 'fit_intercept': True, 'selection': 'random', 'max_iter': 1000}}, 'datepart_method': ['dayofweek', [365.25, 14]], 'polynomial_degree': None, 'transform_dict': None, 'holiday_countries_used': False, 'lags': None, 'forward_lags': None}}, 'trend_method': 'local_linear'}, '1': {'regression_model': {'model': 'LinearRegression', 'model_params': {}}, 'max_lags': 1}, '2': {'rolling_window': 0.05, 'n_tails': 0.05, 'n_future': 0.2, 'method': 'mean', 'macro_micro': True}} with error ValueError('BTCD only works on multivarate series')\") in model 610 in generation 5: LastValueNaive\n",
      "Model Number: 611 with model ETS in generation 5 of 25\n",
      "Model Number: 612 with model UnivariateMotif in generation 5 of 25\n",
      "Model Number: 613 with model SectionalMotif in generation 5 of 25\n",
      "Model Number: 614 with model UnivariateMotif in generation 5 of 25\n",
      "Model Number: 615 with model GLM in generation 5 of 25\n",
      "Model Number: 616 with model BasicLinearModel in generation 5 of 25\n",
      "Model Number: 617 with model ARDL in generation 5 of 25\n",
      "Model Number: 618 with model MetricMotif in generation 5 of 25\n",
      "Model Number: 619 with model GLS in generation 5 of 25\n",
      "Model Number: 620 with model SeasonalityMotif in generation 5 of 25\n",
      "Model Number: 621 with model MetricMotif in generation 5 of 25\n"
     ]
    },
    {
     "name": "stderr",
     "output_type": "stream",
     "text": [
      "C:\\ProgramData\\anaconda3\\envs\\nlp-env\\lib\\site-packages\\sklearn\\svm\\_base.py:1244: ConvergenceWarning: Liblinear failed to converge, increase the number of iterations.\n",
      "  warnings.warn(\n"
     ]
    },
    {
     "name": "stdout",
     "output_type": "stream",
     "text": [
      "Model Number: 622 with model Cassandra in generation 5 of 25\n",
      "Model Number: 623 with model UnivariateMotif in generation 5 of 25\n",
      "Model Number: 624 with model GLS in generation 5 of 25\n",
      "Model Number: 625 with model WindowRegression in generation 5 of 25\n",
      "Template Eval Error: XGBoostError('[20:26:28] D:\\\\bld\\\\xgboost-split_1755048450370\\\\work\\\\include\\\\xgboost/objective.h:105: multioutput is not supported by the current objective function') in model 625 in generation 5: WindowRegression\n",
      "Model Number: 626 with model AverageValueNaive in generation 5 of 25\n",
      "Model Number: 627 with model Cassandra in generation 5 of 25\n"
     ]
    },
    {
     "name": "stderr",
     "output_type": "stream",
     "text": [
      "C:\\ProgramData\\anaconda3\\envs\\nlp-env\\lib\\site-packages\\sklearn\\neighbors\\_classification.py:215: DataConversionWarning: A column-vector y was passed when a 1d array was expected. Please change the shape of y to (n_samples,), for example using ravel().\n",
      "  return self._fit(X, y)\n",
      "C:\\ProgramData\\anaconda3\\envs\\nlp-env\\lib\\site-packages\\numpy\\lib\\function_base.py:2853: RuntimeWarning: invalid value encountered in divide\n",
      "  c /= stddev[:, None]\n",
      "C:\\ProgramData\\anaconda3\\envs\\nlp-env\\lib\\site-packages\\numpy\\lib\\function_base.py:2854: RuntimeWarning: invalid value encountered in divide\n",
      "  c /= stddev[None, :]\n"
     ]
    },
    {
     "name": "stdout",
     "output_type": "stream",
     "text": [
      "Model Number: 628 with model ARDL in generation 5 of 25\n",
      "Template Eval Error: ValueError(\"ARDL series Close failed with error ValueError('integer orders must be at least 1 when causal is True.') exog train             seasonalitycommonfourier_0  seasonalitycommonfourier_1  \\\\\\nDate                                                                 \\n2024-12-16                    0.963520                    0.856742   \\n2024-12-17                    0.967981                    0.873976   \\n2024-12-18                    0.972156                    0.890175   \\n2024-12-19                    0.976043                    0.905321   \\n2024-12-20                    0.979641                    0.919395   \\n...                                ...                         ...   \\n2025-09-01                   -0.503720                   -0.492533   \\n2025-09-02                   -0.488785                   -0.522178   \\n2025-09-03                   -0.473706                   -0.551205   \\n2025-09-04                   -0.458487                   -0.579579   \\n2025-09-05                   -0.443132                   -0.607268   \\n\\n            seasonalitycommonfourier_2  seasonalitycommonfourier_3  \\\\\\nDate                                                                 \\n2024-12-16                    0.687457                    0.468015   \\n2024-12-17                    0.724004                    0.527668   \\n2024-12-18                    0.758623                    0.584824   \\n2024-12-19                    0.791221                    0.639212   \\n2024-12-20                    0.821713                    0.690574   \\n...                                ...                         ...   \\n2025-09-01                    0.999917                   -0.514823   \\n2025-09-02                    0.999251                   -0.454661   \\n2025-09-03                    0.995925                   -0.392347   \\n2025-09-04                    0.989946                   -0.328176   \\n2025-09-05                    0.981332                   -0.262452   \\n\\n            seasonalitycommonfourier_4  seasonalitycommonfourier_5  \\\\\\nDate                                                                 \\n2024-12-16                    0.214427                   -0.054805   \\n2024-12-17                    0.297543                    0.048363   \\n2024-12-18                    0.378458                    0.151016   \\n2024-12-19                    0.456575                    0.252062   \\n2024-12-20                    0.531317                    0.350426   \\n...                                ...                         ...   \\n2025-09-01                   -0.481264                    0.999667   \\n2025-09-02                   -0.554788                    0.997005   \\n2025-09-03                   -0.624210                    0.983732   \\n2025-09-04                   -0.689017                    0.959987   \\n2025-09-05                   -0.748730                    0.926025   \\n\\n            seasonalitycommonfourier_6  seasonalitycommonfourier_7  \\\\\\nDate                                                                 \\n2024-12-16                   -0.320039                   -0.561923   \\n2024-12-17                   -0.203914                   -0.443132   \\n2024-12-18                   -0.084835                   -0.315962   \\n2024-12-19                    0.035473                   -0.182817   \\n2024-12-20                    0.155266                   -0.046215   \\n...                                ...                         ...   \\n2025-09-01                   -0.525841                   -0.469915   \\n2025-09-02                   -0.419855                   -0.586567   \\n2025-09-03                   -0.307790                   -0.692128   \\n2025-09-04                   -0.191266                   -0.784601   \\n2025-09-05                   -0.071973                   -0.862238   \\n\\n            seasonalitycommonfourier_8  seasonalitycommonfourier_9  ...  \\\\\\nDate                                                                ...   \\n2024-12-16                   -0.762810                   -0.908042  ...   \\n2024-12-17                   -0.653974                   -0.822937  ...   \\n2024-12-18                   -0.529494                   -0.713539  ...   \\n2024-12-19                   -0.392347                   -0.583078  ...   \\n2024-12-20                   -0.245815                   -0.435405  ...   \\n...                                ...                         ...  ...   \\n2025-09-01                    0.999251                   -0.536771  ...   \\n2025-09-02                    0.993266                   -0.384421  ...   \\n2025-09-03                    0.963520                   -0.220724  ...   \\n2025-09-04                    0.910725                   -0.050511  ...   \\n2025-09-05                    0.836144                    0.121193  ...   \\n\\n            seasonalitycommonfourier_27  seasonalitycommonfourier_28  \\\\\\nDate                                                                   \\n2024-12-16                    -0.190643                    -0.619378   \\n2024-12-17                     0.873976                     0.724004   \\n2024-12-18                    -0.198083                    -0.683495   \\n2024-12-19                    -0.815666                     0.493318   \\n2024-12-20                     0.573233                    -0.182848   \\n...                                 ...                          ...   \\n2025-09-01                     0.109599                    -0.900894   \\n2025-09-02                    -0.522178                     0.999251   \\n2025-09-03                     0.122655                    -0.897297   \\n2025-09-04                     0.522183                     0.617221   \\n2025-09-05                    -0.378625                    -0.218367   \\n\\n            seasonalitycommonfourier_29  seasonalitycommonfourier_30  \\\\\\nDate                                                                   \\n2024-12-16                    -0.421667                    -0.047715   \\n2024-12-17                     0.527668                     0.297543   \\n2024-12-18                    -0.526908                    -0.084215   \\n2024-12-19                     0.398542                    -0.411360   \\n2024-12-20                    -0.153667                     0.331270   \\n...                                 ...                          ...   \\n2025-09-01                     0.463840                     0.107091   \\n2025-09-02                    -0.454661                    -0.554788   \\n2025-09-03                     0.353492                     0.138900   \\n2025-09-04                    -0.204614                     0.620783   \\n2025-09-05                     0.058401                    -0.466826   \\n\\n            seasonalitycommonfourier_31  seasonalitycommonfourier_32  \\\\\\nDate                                                                   \\n2024-12-16                     0.209246                     0.502814   \\n2024-12-17                     0.000000                     0.000000   \\n2024-12-18                    -0.183210                    -0.444195   \\n2024-12-19                    -0.212122                     0.184283   \\n2024-12-20                    -0.087104                     0.307522   \\n...                                 ...                          ...   \\n2025-09-01                     0.675398                    -0.848474   \\n2025-09-02                    -0.000000                     0.000000   \\n2025-09-03                    -0.688546                     0.813451   \\n2025-09-04                    -0.866419                    -0.353579   \\n2025-09-05                    -0.388958                    -0.621163   \\n\\n            seasonalitycommonfourier_33  seasonalitycommonfourier_34  \\\\\\nDate                                                                   \\n2024-12-16                     0.315097                    -0.383432   \\n2024-12-17                     0.000000                     0.000000   \\n2024-12-18                    -0.282688                     0.351949   \\n2024-12-19                     0.478113                    -0.601253   \\n2024-12-20                    -0.555612                     0.705128   \\n...                                 ...                          ...   \\n2025-09-01                     0.005598                    -0.371967   \\n2025-09-02                     0.000000                    -0.000000   \\n2025-09-03                     0.039132                     0.399094   \\n2025-09-04                    -0.110585                    -0.738531   \\n2025-09-05                     0.187500                     0.940752   \\n\\n            seasonalitycommonfourier_35  epoch  \\nDate                                            \\n2024-12-16                    -0.952251  14262  \\n2024-12-17                    -0.000000  14262  \\n2024-12-18                     0.902411  14262  \\n2024-12-19                    -0.386020  14262  \\n2024-12-20                    -0.662347  14262  \\n...                                 ...    ...  \\n2025-09-01                     0.854598  14263  \\n2025-09-02                     0.000000  14263  \\n2025-09-03                    -0.761669  14263  \\n2025-09-04                     0.314455  14263  \\n2025-09-05                     0.518257  14263  \\n\\n[190 rows x 37 columns] and predict             seasonalitycommonfourier_0  seasonalitycommonfourier_1  \\\\\\n2025-09-08                   -0.396299                   -0.685894   \\n2025-09-09                   -0.380447                   -0.710520   \\n2025-09-10                   -0.364483                   -0.734304   \\n2025-09-11                   -0.348411                   -0.757220   \\n2025-09-12                   -0.332235                   -0.779239   \\n2025-09-15                   -0.283139                   -0.839665   \\n2025-09-16                   -0.266599                   -0.857849   \\n2025-09-17                   -0.249981                   -0.875019   \\n2025-09-18                   -0.233289                   -0.891153   \\n2025-09-19                   -0.216527                   -0.906232   \\n\\n            seasonalitycommonfourier_2  seasonalitycommonfourier_3  \\\\\\n2025-09-08                    0.939938                   -0.059099   \\n2025-09-09                    0.921078                    0.009676   \\n2025-09-10                    0.899766                    0.078406   \\n2025-09-11                    0.876058                    0.146764   \\n2025-09-12                    0.850017                    0.214427   \\n2025-09-15                    0.758623                    0.410073   \\n2025-09-16                    0.724004                    0.471812   \\n2025-09-17                    0.687457                    0.531317   \\n2025-09-18                    0.649080                    0.588307   \\n2025-09-19                    0.608975                    0.642513   \\n\\n            seasonalitycommonfourier_4  seasonalitycommonfourier_5  \\\\\\n2025-09-08                   -0.893096                    0.766965   \\n2025-09-09                   -0.928441                    0.696769   \\n2025-09-10                   -0.956921                    0.619157   \\n2025-09-11                   -0.978326                    0.534955   \\n2025-09-12                   -0.992498                    0.445059   \\n2025-09-15                   -0.990838                    0.151016   \\n2025-09-16                   -0.975573                    0.048363   \\n2025-09-17                   -0.953095                   -0.054805   \\n2025-09-18                   -0.923571                   -0.157390   \\n2025-09-19                   -0.887218                   -0.258300   \\n\\n            seasonalitycommonfourier_6  seasonalitycommonfourier_7  \\\\\\n2025-09-08                    0.285201                   -0.993015   \\n2025-09-09                    0.398272                   -0.999813   \\n2025-09-10                    0.505576                   -0.987705   \\n2025-09-11                    0.605558                   -0.956921   \\n2025-09-12                    0.696769                   -0.908042   \\n2025-09-15                    0.905321                   -0.663680   \\n2025-09-16                    0.949786                   -0.554788   \\n2025-09-17                    0.980496                   -0.435405   \\n2025-09-18                    0.997005                   -0.307790   \\n2025-09-19                    0.999075                   -0.174354   \\n\\n            seasonalitycommonfourier_8  seasonalitycommonfourier_9  ...  \\\\\\n2025-09-08                    0.501861                    0.595240  ...   \\n2025-09-09                    0.362480                    0.724004  ...   \\n2025-09-10                    0.214427                    0.831395  ...   \\n2025-09-11                    0.061245                    0.914244  ...   \\n2025-09-12                   -0.093402                    0.970105  ...   \\n2025-09-15                   -0.529494                    0.963520  ...   \\n2025-09-16                   -0.653974                    0.903486  ...   \\n2025-09-17                   -0.762810                    0.816781  ...   \\n2025-09-18                   -0.853398                    0.705965  ...   \\n2025-09-19                   -0.923571                    0.574310  ...   \\n\\n            seasonalitycommonfourier_27  seasonalitycommonfourier_28  \\\\\\n2025-09-08                     0.152626                    -0.846854   \\n2025-09-09                    -0.710520                     0.921078   \\n2025-09-10                     0.163398                    -0.810661   \\n2025-09-11                     0.682231                     0.546213   \\n2025-09-12                    -0.485848                    -0.189147   \\n2025-09-15                     0.186843                    -0.683495   \\n2025-09-16                    -0.857849                     0.724004   \\n2025-09-17                     0.194710                    -0.619378   \\n2025-09-18                     0.802901                     0.404695   \\n2025-09-19                    -0.565026                    -0.135510   \\n\\n            seasonalitycommonfourier_29  seasonalitycommonfourier_30  \\\\\\n2025-09-08                     0.053246                     0.198733   \\n2025-09-09                     0.009676                    -0.928441   \\n2025-09-10                    -0.070641                     0.212935   \\n2025-09-11                     0.091506                     0.881441   \\n2025-09-12                    -0.047715                    -0.618812   \\n2025-09-15                    -0.369463                     0.220482   \\n2025-09-16                     0.471812                    -0.975573   \\n2025-09-17                    -0.478700                     0.212084   \\n2025-09-18                     0.366803                     0.832108   \\n2025-09-19                    -0.142973                    -0.553171   \\n\\n            seasonalitycommonfourier_31  seasonalitycommonfourier_32  \\\\\\n2025-09-08                     0.717816                    -0.709456   \\n2025-09-09                    -0.000000                     0.000000   \\n2025-09-10                    -0.728049                     0.661801   \\n2025-09-11                    -0.913841                    -0.283396   \\n2025-09-12                    -0.409238                    -0.489995   \\n2025-09-15                     0.749838                    -0.529488   \\n2025-09-16                    -0.000000                     0.000000   \\n2025-09-17                    -0.757009                     0.471951   \\n2025-09-18                    -0.948027                    -0.196854   \\n2025-09-19                    -0.423591                    -0.330543   \\n\\n            seasonalitycommonfourier_33  seasonalitycommonfourier_34  \\\\\\n2025-09-08                    -0.148105                    -0.433125   \\n2025-09-09                    -0.000000                    -0.000000   \\n2025-09-10                     0.189335                     0.432548   \\n2025-09-11                    -0.377004                    -0.773365   \\n2025-09-12                     0.513548                     0.952251   \\n2025-09-15                    -0.282688                    -0.395725   \\n2025-09-16                    -0.000000                    -0.000000   \\n2025-09-17                     0.315097                     0.367575   \\n2025-09-18                    -0.594755                    -0.632218   \\n2025-09-19                     0.773303                     0.747063   \\n\\n            seasonalitycommonfourier_35  epoch  \\n2025-09-08                     0.438587  14263  \\n2025-09-09                    -0.000000  14263  \\n2025-09-10                    -0.283069  14263  \\n2025-09-11                     0.089844  14263  \\n2025-09-12                     0.095587  14263  \\n2025-09-15                    -0.131669  14263  \\n2025-09-16                    -0.000000  14263  \\n2025-09-17                     0.295082  14263  \\n2025-09-18                    -0.166363  14263  \\n2025-09-19                    -0.360699  14263  \\n\\n[10 rows x 37 columns]\") in model 628 in generation 5: ARDL\n",
      "Model Number: 629 with model AverageValueNaive in generation 5 of 25\n",
      "Model Number: 630 with model Cassandra in generation 5 of 25\n",
      "Model Number: 631 with model DatepartRegression in generation 5 of 25\n"
     ]
    },
    {
     "name": "stderr",
     "output_type": "stream",
     "text": [
      "C:\\ProgramData\\anaconda3\\envs\\nlp-env\\lib\\site-packages\\numpy\\lib\\function_base.py:2853: RuntimeWarning: invalid value encountered in divide\n",
      "  c /= stddev[:, None]\n",
      "C:\\ProgramData\\anaconda3\\envs\\nlp-env\\lib\\site-packages\\numpy\\lib\\function_base.py:2854: RuntimeWarning: invalid value encountered in divide\n",
      "  c /= stddev[None, :]\n"
     ]
    },
    {
     "name": "stdout",
     "output_type": "stream",
     "text": [
      "Model Number: 632 with model Cassandra in generation 5 of 25\n",
      "Model Number: 633 with model FFT in generation 5 of 25\n",
      "Model Number: 634 with model MetricMotif in generation 5 of 25\n",
      "Model Number: 635 with model UnivariateMotif in generation 5 of 25\n",
      "Model Number: 636 with model FFT in generation 5 of 25\n",
      "Model Number: 637 with model MetricMotif in generation 5 of 25\n",
      "Model Number: 638 with model LastValueNaive in generation 5 of 25\n",
      "Model Number: 639 with model SectionalMotif in generation 5 of 25\n",
      "Model Number: 640 with model FFT in generation 5 of 25\n",
      "Model Number: 641 with model ETS in generation 5 of 25\n"
     ]
    },
    {
     "name": "stderr",
     "output_type": "stream",
     "text": [
      "C:\\ProgramData\\anaconda3\\envs\\nlp-env\\lib\\site-packages\\numpy\\lib\\function_base.py:2853: RuntimeWarning: invalid value encountered in divide\n",
      "  c /= stddev[:, None]\n",
      "C:\\ProgramData\\anaconda3\\envs\\nlp-env\\lib\\site-packages\\numpy\\lib\\function_base.py:2854: RuntimeWarning: invalid value encountered in divide\n",
      "  c /= stddev[None, :]\n"
     ]
    },
    {
     "name": "stdout",
     "output_type": "stream",
     "text": [
      "Model Number: 642 with model SectionalMotif in generation 5 of 25\n",
      "Model Number: 643 with model AverageValueNaive in generation 5 of 25\n",
      "Model Number: 644 with model LastValueNaive in generation 5 of 25\n",
      "Model Number: 645 with model ConstantNaive in generation 5 of 25\n",
      "Model Number: 646 with model SectionalMotif in generation 5 of 25\n",
      "Model Number: 647 with model UnivariateMotif in generation 5 of 25\n",
      "Model Number: 648 with model ARDL in generation 5 of 25\n",
      "Model Number: 649 with model GLM in generation 5 of 25\n",
      "Template Eval Error: Exception(\"Transformer Cointegration failed on fit from params linear {'0': {'center': 'mean'}, '1': {'regression_model': {'model': 'ExtraTrees', 'model_params': {'n_estimators': 100, 'min_samples_leaf': 1, 'min_samples_split': 2, 'max_depth': None, 'criterion': 'squared_error', 'max_features': 1}}, 'datepart_method': 'simple_2', 'polynomial_degree': None, 'transform_dict': None, 'holiday_countries_used': False, 'lags': None, 'forward_lags': None}, '2': {'output_distribution': 'uniform', 'n_quantiles': 63}, '3': {'det_order': 0, 'k_ar_diff': 1}} with error ValueError('Coint only works on multivarate series')\") in model 649 in generation 5: GLM\n",
      "Model Number: 650 with model UnivariateMotif in generation 5 of 25\n",
      "Model Number: 651 with model GLS in generation 5 of 25\n",
      "Model Number: 652 with model ARDL in generation 5 of 25\n",
      "Model Number: 653 with model SeasonalityMotif in generation 5 of 25\n",
      "Model Number: 654 with model SeasonalityMotif in generation 5 of 25\n",
      "Template Eval Error: ValueError('Model SeasonalityMotif returned NaN for one or more series. fail_on_forecast_nan=True') in model 654 in generation 5: SeasonalityMotif\n",
      "Model Number: 655 with model ARDL in generation 5 of 25\n",
      "Model Number: 656 with model GLS in generation 5 of 25\n",
      "Model Number: 657 with model MetricMotif in generation 5 of 25\n",
      "Model Number: 658 with model SeasonalityMotif in generation 5 of 25\n",
      "Template Eval Error: ValueError('Model SeasonalityMotif returned NaN for one or more series. fail_on_forecast_nan=True') in model 658 in generation 5: SeasonalityMotif\n",
      "Model Number: 659 with model AverageValueNaive in generation 5 of 25\n",
      "Model Number: 660 with model Cassandra in generation 5 of 25\n"
     ]
    },
    {
     "name": "stderr",
     "output_type": "stream",
     "text": [
      "C:\\ProgramData\\anaconda3\\envs\\nlp-env\\lib\\site-packages\\numpy\\core\\fromnumeric.py:3432: RuntimeWarning: Mean of empty slice.\n",
      "  return _methods._mean(a, axis=axis, dtype=dtype,\n",
      "C:\\ProgramData\\anaconda3\\envs\\nlp-env\\lib\\site-packages\\numpy\\core\\_methods.py:182: RuntimeWarning: invalid value encountered in divide\n",
      "  ret = um.true_divide(\n",
      "C:\\ProgramData\\anaconda3\\envs\\nlp-env\\lib\\site-packages\\numpy\\core\\fromnumeric.py:3432: RuntimeWarning: Mean of empty slice.\n",
      "  return _methods._mean(a, axis=axis, dtype=dtype,\n",
      "C:\\ProgramData\\anaconda3\\envs\\nlp-env\\lib\\site-packages\\numpy\\core\\_methods.py:182: RuntimeWarning: invalid value encountered in divide\n",
      "  ret = um.true_divide(\n",
      "C:\\ProgramData\\anaconda3\\envs\\nlp-env\\lib\\site-packages\\numpy\\lib\\function_base.py:2853: RuntimeWarning: invalid value encountered in divide\n",
      "  c /= stddev[:, None]\n",
      "C:\\ProgramData\\anaconda3\\envs\\nlp-env\\lib\\site-packages\\numpy\\lib\\function_base.py:2854: RuntimeWarning: invalid value encountered in divide\n",
      "  c /= stddev[None, :]\n"
     ]
    },
    {
     "name": "stdout",
     "output_type": "stream",
     "text": [
      "Model Number: 661 with model UnivariateMotif in generation 5 of 25\n",
      "New Generation: 6 of 25\n",
      "Model Number: 662 with model BasicLinearModel in generation 6 of 25\n",
      "Model Number: 663 with model AverageValueNaive in generation 6 of 25\n",
      "Model Number: 664 with model MetricMotif in generation 6 of 25\n",
      "Model Number: 665 with model ARDL in generation 6 of 25\n",
      "Model Number: 666 with model AverageValueNaive in generation 6 of 25\n",
      "Model Number: 667 with model Cassandra in generation 6 of 25\n",
      "Template Eval Error: IndexError('positional indexers are out-of-bounds') in model 667 in generation 6: Cassandra\n",
      "Model Number: 668 with model LastValueNaive in generation 6 of 25\n",
      "Model Number: 669 with model Cassandra in generation 6 of 25\n"
     ]
    },
    {
     "name": "stderr",
     "output_type": "stream",
     "text": [
      "C:\\ProgramData\\anaconda3\\envs\\nlp-env\\lib\\site-packages\\sklearn\\linear_model\\_ridge.py:216: LinAlgWarning: Ill-conditioned matrix (rcond=5.0416e-25): result may not be accurate.\n",
      "  return linalg.solve(A, Xy, assume_a=\"pos\", overwrite_a=True).T\n",
      "C:\\ProgramData\\anaconda3\\envs\\nlp-env\\lib\\site-packages\\sklearn\\linear_model\\_ridge.py:216: LinAlgWarning: Ill-conditioned matrix (rcond=5.0416e-25): result may not be accurate.\n",
      "  return linalg.solve(A, Xy, assume_a=\"pos\", overwrite_a=True).T\n"
     ]
    },
    {
     "name": "stdout",
     "output_type": "stream",
     "text": [
      "Template Eval Error: IndexError('positional indexers are out-of-bounds') in model 669 in generation 6: Cassandra\n",
      "Model Number: 670 with model SeasonalityMotif in generation 6 of 25\n",
      "Model Number: 671 with model SectionalMotif in generation 6 of 25\n",
      "Model Number: 672 with model AverageValueNaive in generation 6 of 25\n",
      "Model Number: 673 with model Cassandra in generation 6 of 25\n",
      "Model Number: 674 with model SectionalMotif in generation 6 of 25\n",
      "Model Number: 675 with model BasicLinearModel in generation 6 of 25\n",
      "Template Eval Error: ValueError(\"regression_type=='User' but no future_regressor supplied\") in model 675 in generation 6: BasicLinearModel\n",
      "Model Number: 676 with model Cassandra in generation 6 of 25\n"
     ]
    },
    {
     "name": "stderr",
     "output_type": "stream",
     "text": [
      "C:\\ProgramData\\anaconda3\\envs\\nlp-env\\lib\\site-packages\\numpy\\lib\\function_base.py:2853: RuntimeWarning: invalid value encountered in divide\n",
      "  c /= stddev[:, None]\n",
      "C:\\ProgramData\\anaconda3\\envs\\nlp-env\\lib\\site-packages\\numpy\\lib\\function_base.py:2854: RuntimeWarning: invalid value encountered in divide\n",
      "  c /= stddev[None, :]\n"
     ]
    },
    {
     "name": "stdout",
     "output_type": "stream",
     "text": [
      "Model Number: 677 with model UnivariateMotif in generation 6 of 25\n",
      "Model Number: 678 with model Cassandra in generation 6 of 25\n",
      "Model Number: 679 with model MetricMotif in generation 6 of 25\n",
      "Model Number: 680 with model SectionalMotif in generation 6 of 25\n",
      "Model Number: 681 with model AverageValueNaive in generation 6 of 25\n",
      "Model Number: 682 with model SeasonalityMotif in generation 6 of 25\n",
      "Model Number: 683 with model ARDL in generation 6 of 25\n",
      "Template Eval Error: ValueError(\"regression_type='User' but future_regressor not supplied\") in model 683 in generation 6: ARDL\n",
      "Model Number: 684 with model GLS in generation 6 of 25\n"
     ]
    },
    {
     "name": "stderr",
     "output_type": "stream",
     "text": [
      "C:\\ProgramData\\anaconda3\\envs\\nlp-env\\lib\\site-packages\\numpy\\lib\\function_base.py:2853: RuntimeWarning: invalid value encountered in divide\n",
      "  c /= stddev[:, None]\n",
      "C:\\ProgramData\\anaconda3\\envs\\nlp-env\\lib\\site-packages\\numpy\\lib\\function_base.py:2854: RuntimeWarning: invalid value encountered in divide\n",
      "  c /= stddev[None, :]\n"
     ]
    },
    {
     "name": "stdout",
     "output_type": "stream",
     "text": [
      "Model Number: 685 with model BasicLinearModel in generation 6 of 25\n",
      "Model Number: 686 with model SeasonalityMotif in generation 6 of 25\n",
      "Model Number: 687 with model UnivariateMotif in generation 6 of 25\n",
      "Model Number: 688 with model Cassandra in generation 6 of 25\n"
     ]
    },
    {
     "name": "stderr",
     "output_type": "stream",
     "text": [
      "C:\\ProgramData\\anaconda3\\envs\\nlp-env\\lib\\site-packages\\sklearn\\neighbors\\_classification.py:215: DataConversionWarning: A column-vector y was passed when a 1d array was expected. Please change the shape of y to (n_samples,), for example using ravel().\n",
      "  return self._fit(X, y)\n",
      "C:\\ProgramData\\anaconda3\\envs\\nlp-env\\lib\\site-packages\\numpy\\lib\\function_base.py:2853: RuntimeWarning: invalid value encountered in divide\n",
      "  c /= stddev[:, None]\n",
      "C:\\ProgramData\\anaconda3\\envs\\nlp-env\\lib\\site-packages\\numpy\\lib\\function_base.py:2854: RuntimeWarning: invalid value encountered in divide\n",
      "  c /= stddev[None, :]\n"
     ]
    },
    {
     "name": "stdout",
     "output_type": "stream",
     "text": [
      "Model Number: 689 with model ETS in generation 6 of 25\n",
      "Model Number: 690 with model MetricMotif in generation 6 of 25\n",
      "Model Number: 691 with model AverageValueNaive in generation 6 of 25\n",
      "Model Number: 692 with model BasicLinearModel in generation 6 of 25\n",
      "Model Number: 693 with model BasicLinearModel in generation 6 of 25\n",
      "Model Number: 694 with model ARDL in generation 6 of 25\n",
      "Template Eval Error: ValueError(\"regression_type='User' but future_regressor not supplied\") in model 694 in generation 6: ARDL\n",
      "Model Number: 695 with model ARDL in generation 6 of 25\n",
      "Model Number: 696 with model UnivariateMotif in generation 6 of 25\n",
      "Model Number: 697 with model UnivariateMotif in generation 6 of 25\n",
      "Model Number: 698 with model SeasonalNaive in generation 6 of 25\n",
      "Model Number: 699 with model AverageValueNaive in generation 6 of 25\n",
      "2025-09-06 00:00:00\n",
      "2025-09-06 00:00:00\n",
      "2025-09-06 00:00:00\n",
      "Model Number: 700 with model Cassandra in generation 6 of 25\n",
      "Model Number: 701 with model ARDL in generation 6 of 25\n",
      "Template Eval Error: Exception('Transformer PCA failed on fit from params ffill {\\'0\\': {\\'whiten\\': False, \\'n_components\\': 4}, \\'1\\': {}, \\'2\\': {\\'rows\\': 7, \\'lag\\': 1, \\'method\\': \\'additive\\', \\'strength\\': 1.0, \\'first_value_only\\': False, \\'threshold\\': 1, \\'threshold_method\\': \\'max\\'}} with error ValueError(\"n_components=4 must be between 0 and min(n_samples, n_features)=1 with svd_solver=\\'full\\'\")') in model 701 in generation 6: ARDL\n",
      "Model Number: 702 with model MetricMotif in generation 6 of 25\n",
      "Model Number: 703 with model Cassandra in generation 6 of 25\n",
      "Template Eval Error: ValueError('negative dimensions are not allowed') in model 703 in generation 6: Cassandra\n",
      "Model Number: 704 with model SectionalMotif in generation 6 of 25\n",
      "Model Number: 705 with model SeasonalityMotif in generation 6 of 25\n",
      "Model Number: 706 with model SeasonalityMotif in generation 6 of 25\n",
      "Model Number: 707 with model LastValueNaive in generation 6 of 25\n",
      "Model Number: 708 with model WindowRegression in generation 6 of 25\n"
     ]
    },
    {
     "name": "stderr",
     "output_type": "stream",
     "text": [
      "C:\\ProgramData\\anaconda3\\envs\\nlp-env\\lib\\site-packages\\numpy\\lib\\function_base.py:2853: RuntimeWarning: invalid value encountered in divide\n",
      "  c /= stddev[:, None]\n",
      "C:\\ProgramData\\anaconda3\\envs\\nlp-env\\lib\\site-packages\\numpy\\lib\\function_base.py:2854: RuntimeWarning: invalid value encountered in divide\n",
      "  c /= stddev[None, :]\n",
      "C:\\ProgramData\\anaconda3\\envs\\nlp-env\\lib\\site-packages\\numpy\\lib\\function_base.py:2853: RuntimeWarning: invalid value encountered in divide\n",
      "  c /= stddev[:, None]\n",
      "C:\\ProgramData\\anaconda3\\envs\\nlp-env\\lib\\site-packages\\numpy\\lib\\function_base.py:2854: RuntimeWarning: invalid value encountered in divide\n",
      "  c /= stddev[None, :]\n",
      "C:\\ProgramData\\anaconda3\\envs\\nlp-env\\lib\\site-packages\\sklearn\\base.py:432: UserWarning: X has feature names, but StandardScaler was fitted without feature names\n",
      "  warnings.warn(\n",
      "C:\\ProgramData\\anaconda3\\envs\\nlp-env\\lib\\site-packages\\sklearn\\base.py:432: UserWarning: X has feature names, but StandardScaler was fitted without feature names\n",
      "  warnings.warn(\n",
      "C:\\ProgramData\\anaconda3\\envs\\nlp-env\\lib\\site-packages\\sklearn\\base.py:432: UserWarning: X has feature names, but StandardScaler was fitted without feature names\n",
      "  warnings.warn(\n",
      "C:\\ProgramData\\anaconda3\\envs\\nlp-env\\lib\\site-packages\\sklearn\\base.py:432: UserWarning: X has feature names, but StandardScaler was fitted without feature names\n",
      "  warnings.warn(\n",
      "C:\\ProgramData\\anaconda3\\envs\\nlp-env\\lib\\site-packages\\sklearn\\base.py:432: UserWarning: X has feature names, but StandardScaler was fitted without feature names\n",
      "  warnings.warn(\n",
      "C:\\ProgramData\\anaconda3\\envs\\nlp-env\\lib\\site-packages\\sklearn\\base.py:432: UserWarning: X has feature names, but StandardScaler was fitted without feature names\n",
      "  warnings.warn(\n",
      "C:\\ProgramData\\anaconda3\\envs\\nlp-env\\lib\\site-packages\\sklearn\\base.py:432: UserWarning: X has feature names, but StandardScaler was fitted without feature names\n",
      "  warnings.warn(\n",
      "C:\\ProgramData\\anaconda3\\envs\\nlp-env\\lib\\site-packages\\sklearn\\base.py:432: UserWarning: X has feature names, but StandardScaler was fitted without feature names\n",
      "  warnings.warn(\n",
      "C:\\ProgramData\\anaconda3\\envs\\nlp-env\\lib\\site-packages\\sklearn\\base.py:432: UserWarning: X has feature names, but StandardScaler was fitted without feature names\n",
      "  warnings.warn(\n",
      "C:\\ProgramData\\anaconda3\\envs\\nlp-env\\lib\\site-packages\\sklearn\\base.py:432: UserWarning: X has feature names, but StandardScaler was fitted without feature names\n",
      "  warnings.warn(\n"
     ]
    },
    {
     "name": "stdout",
     "output_type": "stream",
     "text": [
      "Model Number: 709 with model DatepartRegression in generation 6 of 25\n",
      "Template Eval Error: ValueError(\"regression_type='User' but no future_regressor passed\") in model 709 in generation 6: DatepartRegression\n",
      "Model Number: 710 with model BasicLinearModel in generation 6 of 25\n",
      "Model Number: 711 with model LastValueNaive in generation 6 of 25\n",
      "Model Number: 712 with model WindowRegression in generation 6 of 25\n",
      "Model Number: 713 with model FFT in generation 6 of 25\n",
      "Model Number: 714 with model BasicLinearModel in generation 6 of 25\n"
     ]
    },
    {
     "name": "stderr",
     "output_type": "stream",
     "text": [
      "C:\\ProgramData\\anaconda3\\envs\\nlp-env\\lib\\site-packages\\sklearn\\base.py:432: UserWarning: X has feature names, but StandardScaler was fitted without feature names\n",
      "  warnings.warn(\n",
      "C:\\ProgramData\\anaconda3\\envs\\nlp-env\\lib\\site-packages\\sklearn\\base.py:432: UserWarning: X has feature names, but StandardScaler was fitted without feature names\n",
      "  warnings.warn(\n",
      "C:\\ProgramData\\anaconda3\\envs\\nlp-env\\lib\\site-packages\\sklearn\\base.py:432: UserWarning: X has feature names, but StandardScaler was fitted without feature names\n",
      "  warnings.warn(\n",
      "C:\\ProgramData\\anaconda3\\envs\\nlp-env\\lib\\site-packages\\sklearn\\base.py:432: UserWarning: X has feature names, but StandardScaler was fitted without feature names\n",
      "  warnings.warn(\n",
      "C:\\ProgramData\\anaconda3\\envs\\nlp-env\\lib\\site-packages\\sklearn\\base.py:432: UserWarning: X has feature names, but StandardScaler was fitted without feature names\n",
      "  warnings.warn(\n",
      "C:\\ProgramData\\anaconda3\\envs\\nlp-env\\lib\\site-packages\\sklearn\\base.py:432: UserWarning: X has feature names, but StandardScaler was fitted without feature names\n",
      "  warnings.warn(\n",
      "C:\\ProgramData\\anaconda3\\envs\\nlp-env\\lib\\site-packages\\sklearn\\base.py:432: UserWarning: X has feature names, but StandardScaler was fitted without feature names\n",
      "  warnings.warn(\n",
      "C:\\ProgramData\\anaconda3\\envs\\nlp-env\\lib\\site-packages\\sklearn\\base.py:432: UserWarning: X has feature names, but StandardScaler was fitted without feature names\n",
      "  warnings.warn(\n",
      "C:\\ProgramData\\anaconda3\\envs\\nlp-env\\lib\\site-packages\\sklearn\\base.py:432: UserWarning: X has feature names, but StandardScaler was fitted without feature names\n",
      "  warnings.warn(\n",
      "C:\\ProgramData\\anaconda3\\envs\\nlp-env\\lib\\site-packages\\sklearn\\base.py:432: UserWarning: X has feature names, but StandardScaler was fitted without feature names\n",
      "  warnings.warn(\n"
     ]
    },
    {
     "name": "stdout",
     "output_type": "stream",
     "text": [
      "Model Number: 715 with model SectionalMotif in generation 6 of 25\n",
      "Model Number: 716 with model SectionalMotif in generation 6 of 25\n",
      "Model Number: 717 with model GLS in generation 6 of 25\n",
      "Template Eval Error: Exception(\"Transformer ReplaceConstant failed on fit from params rolling_mean {'0': {'method': 'rolling_zscore', 'method_params': {'distribution': 'norm', 'alpha': 0.05, 'rolling_periods': 28, 'center': True}, 'fillna': 'rolling_mean_24', 'transform_dict': None, 'isolated_only': False, 'on_inverse': False}, '1': {'span': 364}, '2': {'span': 46}, '3': {'method': 'EE', 'method_params': {'contamination': 0.1, 'assume_centered': False, 'support_fraction': None}, 'fillna': 'linear', 'transform_dict': {'transformations': {'0': 'DatepartRegression'}, 'transformation_params': {'0': {'datepart_method': 'simple_3', 'regression_model': {'model': 'ElasticNet', 'model_params': {}}}}}, 'isolated_only': False, 'on_inverse': False}, '4': {'constant': 0, 'reintroduction_model': {'model': 'xgboost', 'model_params': {'booster': 'gbtree', 'max_depth': 3, 'eta': 0.03, 'min_child_weight': 0.5, 'subsample': 1, 'colsample_bylevel': 0.9, 'reg_alpha': 0, 'reg_lambda': 1, 'grow_policy': 'lossguide', 'quantile_alpha': 0.5, 'tree_method': 'hist'}, 'datepart_method': 'simple_2'}, 'fillna': 'mean'}} with error ValueError('Invalid classes inferred from unique values of `y`.  Expected: [0], got [1]')\") in model 717 in generation 6: GLS\n",
      "Model Number: 718 with model SectionalMotif in generation 6 of 25\n",
      "Template Eval Error: Exception(\"Transformer BTCD failed on fit from params rolling_mean {'0': {'rows': 1, 'lag': 1, 'method': 'additive', 'strength': 1.0, 'first_value_only': False, 'threshold': 10, 'threshold_method': 'max'}, '1': {}, '2': {'lag_1': 7, 'method': 5}, '3': {'rows': 1, 'lag': 1, 'method': 'multiplicative', 'strength': 1.0, 'first_value_only': False, 'threshold': None, 'threshold_method': 'max'}, '4': {'regression_model': {'model': 'FastRidge', 'model_params': {}}, 'max_lags': 2}} with error ValueError('BTCD only works on multivarate series')\") in model 718 in generation 6: SectionalMotif\n",
      "Model Number: 719 with model SeasonalNaive in generation 6 of 25\n",
      "Model Number: 720 with model FFT in generation 6 of 25\n",
      "Model Number: 721 with model GLS in generation 6 of 25\n",
      "Template Eval Error: Exception(\"Transformer ReplaceConstant failed on fit from params quadratic {'0': {'method': 'rolling_zscore', 'method_params': {'distribution': 'norm', 'alpha': 0.05, 'rolling_periods': 28, 'center': True}, 'fillna': 'rolling_mean_24', 'transform_dict': None, 'isolated_only': False, 'on_inverse': False}, '1': {'lag_1': 24, 'method': 'LastValue'}, '2': {'constant': 0, 'reintroduction_model': None, 'fillna': 'pchip'}, '3': {'span': 46}, '4': {'method': 'EE', 'method_params': {'contamination': 0.1, 'assume_centered': False, 'support_fraction': None}, 'fillna': 'linear', 'transform_dict': {'transformations': {'0': 'DatepartRegression'}, 'transformation_params': {'0': {'datepart_method': 'simple_3', 'regression_model': {'model': 'ElasticNet', 'model_params': {}}}}}, 'isolated_only': False, 'on_inverse': False}, '5': {'constant': 0, 'reintroduction_model': {'model': 'xgboost', 'model_params': {'booster': 'gbtree', 'max_depth': 3, 'eta': 0.03, 'min_child_weight': 0.5, 'subsample': 1, 'colsample_bylevel': 0.9, 'reg_alpha': 0, 'reg_lambda': 1, 'grow_policy': 'lossguide', 'quantile_alpha': 0.5, 'tree_method': 'hist'}, 'datepart_method': 'simple_2'}, 'fillna': 'mean'}} with error ValueError('Invalid classes inferred from unique values of `y`.  Expected: [0], got [1]')\") in model 721 in generation 6: GLS\n",
      "Model Number: 722 with model ETS in generation 6 of 25\n",
      "Model Number: 723 with model DatepartRegression in generation 6 of 25\n",
      "Model Number: 724 with model SeasonalNaive in generation 6 of 25\n",
      "Model Number: 725 with model AverageValueNaive in generation 6 of 25\n",
      "Model Number: 726 with model GLM in generation 6 of 25\n",
      "Model Number: 727 with model ETS in generation 6 of 25\n",
      "Model Number: 728 with model UnivariateMotif in generation 6 of 25\n",
      "Model Number: 729 with model ConstantNaive in generation 6 of 25\n",
      "Model Number: 730 with model Cassandra in generation 6 of 25\n",
      "Model Number: 731 with model MetricMotif in generation 6 of 25\n",
      "Model Number: 732 with model FFT in generation 6 of 25\n"
     ]
    },
    {
     "name": "stderr",
     "output_type": "stream",
     "text": [
      "C:\\ProgramData\\anaconda3\\envs\\nlp-env\\lib\\site-packages\\statsmodels\\genmod\\generalized_linear_model.py:308: DomainWarning: The InversePower link function does not respect the domain of the Gamma family.\n",
      "  warnings.warn((f\"The {type(family.link).__name__} link function \"\n"
     ]
    },
    {
     "name": "stdout",
     "output_type": "stream",
     "text": [
      "Model Number: 733 with model GLM in generation 6 of 25\n",
      "Model Number: 734 with model SeasonalNaive in generation 6 of 25\n",
      "Model Number: 735 with model SectionalMotif in generation 6 of 25\n",
      "Model Number: 736 with model AverageValueNaive in generation 6 of 25\n",
      "Model Number: 737 with model RRVAR in generation 6 of 25\n",
      "Template Eval Error: Exception('Transformer FIRFilter failed on inverse from params ffill {\\'0\\': {\\'method\\': \\'clip\\', \\'std_threshold\\': 4, \\'fillna\\': None}, \\'1\\': {}, \\'2\\': {}, \\'3\\': {\\'numtaps\\': 64, \\'cutoff_hz\\': 0.5, \\'window\\': [\\'chebwin\\', 100], \\'sampling_frequency\\': 24, \\'on_transform\\': False, \\'on_inverse\\': True, \\'bounds_only\\': False}} with ValueError(\"<class \\'list\\'> as window type is not supported.\")') in model 737 in generation 6: RRVAR\n",
      "Model Number: 738 with model UnivariateMotif in generation 6 of 25\n",
      "Model Number: 739 with model ETS in generation 6 of 25\n"
     ]
    },
    {
     "name": "stderr",
     "output_type": "stream",
     "text": [
      "C:\\ProgramData\\anaconda3\\envs\\nlp-env\\lib\\site-packages\\statsmodels\\genmod\\families\\family.py:1367: ValueWarning: Negative binomial dispersion parameter alpha not set. Using default value alpha=1.0.\n",
      "  warnings.warn(\"Negative binomial dispersion parameter alpha not \"\n"
     ]
    },
    {
     "name": "stdout",
     "output_type": "stream",
     "text": [
      "Model Number: 740 with model UnivariateMotif in generation 6 of 25\n",
      "Model Number: 741 with model UnivariateMotif in generation 6 of 25\n",
      "Model Number: 742 with model BasicLinearModel in generation 6 of 25\n",
      "Model Number: 743 with model MetricMotif in generation 6 of 25\n",
      "Model Number: 744 with model DatepartRegression in generation 6 of 25\n"
     ]
    },
    {
     "name": "stderr",
     "output_type": "stream",
     "text": [
      "C:\\ProgramData\\anaconda3\\envs\\nlp-env\\lib\\site-packages\\sklearn\\neighbors\\_classification.py:215: DataConversionWarning: A column-vector y was passed when a 1d array was expected. Please change the shape of y to (n_samples,), for example using ravel().\n",
      "  return self._fit(X, y)\n"
     ]
    },
    {
     "name": "stdout",
     "output_type": "stream",
     "text": [
      "Model Number: 745 with model LastValueNaive in generation 6 of 25\n",
      "New Generation: 7 of 25\n",
      "Model Number: 746 with model Cassandra in generation 7 of 25\n",
      "Template Eval Error: Exception(\"Transformer Detrend failed on fit from params nearest {'0': {'model': 'Tweedie', 'phi': 1, 'window': 30, 'transform_dict': None}, '1': {'window_size': 7, 'alpha': 2.0, 'grouping_forward_limit': 2, 'max_level_shifts': 5, 'alignment': 'average'}, '2': {}, '3': {'regression_model': {'model': 'ElasticNet', 'model_params': {}}, 'datepart_method': 'recurring', 'polynomial_degree': None, 'transform_dict': {'fillna': None, 'transformations': {'0': 'ScipyFilter'}, 'transformation_params': {'0': {'method': 'savgol_filter', 'method_args': {'window_length': 31, 'polyorder': 3, 'deriv': 0, 'mode': 'interp'}}}}, 'holiday_countries_used': False}} with error ValueError('Found input variables with inconsistent numbers of samples: [30, 190]')\") in model 746 in generation 7: Cassandra\n",
      "Model Number: 747 with model FFT in generation 7 of 25\n",
      "Template Eval Error: Exception(\"Transformer FIRFilter failed on fit from params akima {'0': {}, '1': {'method': 0.5}, '2': {'numtaps': 512, 'cutoff_hz': 50, 'window': ['exponential', None, 0.25], 'sampling_frequency': 85, 'on_transform': True, 'on_inverse': False, 'bounds_only': False}, '3': {'numtaps': 128, 'cutoff_hz': 100, 'window': 'boxcar', 'sampling_frequency': 24, 'on_transform': True, 'on_inverse': False, 'bounds_only': False}, '4': {'rows': 1, 'lag': 1, 'method': 'additive', 'strength': 0.5, 'first_value_only': False, 'threshold': 1, 'threshold_method': 'mean'}} with error ValueError('Invalid cutoff frequency: frequencies must be greater than 0 and less than fs/2.')\") in model 747 in generation 7: FFT\n",
      "Model Number: 748 with model SeasonalityMotif in generation 7 of 25\n",
      "Model Number: 749 with model MetricMotif in generation 7 of 25\n",
      "Model Number: 750 with model ARDL in generation 7 of 25\n",
      "Model Number: 751 with model MetricMotif in generation 7 of 25\n",
      "Model Number: 752 with model GLM in generation 7 of 25\n",
      "Template Eval Error: Exception(\"Transformer Cointegration failed on fit from params linear {'0': {'part': 'trend', 'lamb': 6.25}, '1': {'det_order': 1, 'k_ar_diff': 0}, '2': {'method': 'clip', 'std_threshold': 3.5, 'fillna': None}} with error ValueError('Coint only works on multivarate series')\") in model 752 in generation 7: GLM\n",
      "Model Number: 753 with model AverageValueNaive in generation 7 of 25\n",
      "Model Number: 754 with model ARDL in generation 7 of 25\n",
      "Template Eval Error: Exception(\"Transformer Cointegration failed on fit from params ffill {'0': {'det_order': 1, 'k_ar_diff': 0}, '1': {}, '2': {'model_name': 'local linear stochastic seasonal dummy', 'state_transition': [[1, 0, 0, 0], [0, -1, -1, -1], [0, 1, 0, 0], [0, 0, 1, 0]], 'process_noise': [[1, 0, 0, 0], [0, 1, 0, 0], [0, 0, 0, 0], [0, 0, 0, 0]], 'observation_model': [[1, 1, 0, 0]], 'observation_noise': 0.25, 'em_iter': 10, 'on_transform': True, 'on_inverse': False}} with error ValueError('Coint only works on multivarate series')\") in model 754 in generation 7: ARDL\n",
      "Model Number: 755 with model MetricMotif in generation 7 of 25\n",
      "Model Number: 756 with model UnivariateMotif in generation 7 of 25\n",
      "Model Number: 757 with model UnivariateMotif in generation 7 of 25\n",
      "Model Number: 758 with model FFT in generation 7 of 25\n",
      "Model Number: 759 with model UnivariateMotif in generation 7 of 25\n",
      "Model Number: 760 with model DatepartRegression in generation 7 of 25\n",
      "interpolating\n",
      "Template Eval Error: ValueError('Model DatepartRegression returned NaN for one or more series. fail_on_forecast_nan=True') in model 760 in generation 7: DatepartRegression\n",
      "Model Number: 761 with model SeasonalityMotif in generation 7 of 25\n",
      "Model Number: 762 with model FFT in generation 7 of 25\n",
      "Model Number: 763 with model BasicLinearModel in generation 7 of 25\n",
      "Model Number: 764 with model GLS in generation 7 of 25\n",
      "Model Number: 765 with model SeasonalityMotif in generation 7 of 25\n",
      "Model Number: 766 with model ARDL in generation 7 of 25\n",
      "Model Number: 767 with model AverageValueNaive in generation 7 of 25\n",
      "Model Number: 768 with model SeasonalNaive in generation 7 of 25\n",
      "Model Number: 769 with model AverageValueNaive in generation 7 of 25\n"
     ]
    },
    {
     "name": "stderr",
     "output_type": "stream",
     "text": [
      "C:\\ProgramData\\anaconda3\\envs\\nlp-env\\lib\\site-packages\\sklearn\\neighbors\\_regression.py:494: UserWarning: One or more samples have no neighbors within specified radius; predicting NaN.\n",
      "  warnings.warn(empty_warning_msg)\n"
     ]
    },
    {
     "name": "stdout",
     "output_type": "stream",
     "text": [
      "Model Number: 770 with model Cassandra in generation 7 of 25\n",
      "Model Number: 771 with model ETS in generation 7 of 25\n",
      "Model Number: 772 with model SeasonalityMotif in generation 7 of 25\n",
      "Model Number: 773 with model SeasonalityMotif in generation 7 of 25\n",
      "Model Number: 774 with model SectionalMotif in generation 7 of 25\n",
      "Model Number: 775 with model FFT in generation 7 of 25\n",
      "Model Number: 776 with model SectionalMotif in generation 7 of 25\n",
      "Model Number: 777 with model SectionalMotif in generation 7 of 25\n",
      "Model Number: 778 with model LastValueNaive in generation 7 of 25\n",
      "Model Number: 779 with model Cassandra in generation 7 of 25\n",
      "Template Eval Error: Exception(\"Transformer Detrend failed on fit from params ffill {'0': {'model': 'Tweedie', 'phi': 1, 'window': 30, 'transform_dict': None}, '1': {'part': 'trend', 'lamb': 6.25}, '2': {'regression_model': {'model': 'ElasticNet', 'model_params': {}}, 'datepart_method': 'recurring', 'polynomial_degree': None, 'transform_dict': {'fillna': None, 'transformations': {'0': 'ScipyFilter'}, 'transformation_params': {'0': {'method': 'savgol_filter', 'method_args': {'window_length': 31, 'polyorder': 3, 'deriv': 0, 'mode': 'interp'}}}}, 'holiday_countries_used': False}} with error ValueError('Found input variables with inconsistent numbers of samples: [30, 190]')\") in model 779 in generation 7: Cassandra\n",
      "Model Number: 780 with model SeasonalityMotif in generation 7 of 25\n",
      "Model Number: 781 with model ETS in generation 7 of 25\n",
      "Model Number: 782 with model ARDL in generation 7 of 25\n",
      "Model Number: 783 with model SeasonalityMotif in generation 7 of 25\n",
      "Model Number: 784 with model BasicLinearModel in generation 7 of 25\n",
      "Model Number: 785 with model ARDL in generation 7 of 25\n",
      "Model Number: 786 with model Cassandra in generation 7 of 25\n",
      "Model Number: 787 with model MetricMotif in generation 7 of 25\n",
      "Model Number: 788 with model ARDL in generation 7 of 25\n",
      "Model Number: 789 with model SectionalMotif in generation 7 of 25\n",
      "Model Number: 790 with model BasicLinearModel in generation 7 of 25\n",
      "Model Number: 791 with model UnivariateMotif in generation 7 of 25\n",
      "Model Number: 792 with model AverageValueNaive in generation 7 of 25\n",
      "Model Number: 793 with model Cassandra in generation 7 of 25\n",
      "Template Eval Error: ValueError(\"regression_type='User' but future_regressor not supplied\") in model 793 in generation 7: Cassandra\n",
      "Model Number: 794 with model LastValueNaive in generation 7 of 25\n",
      "Model Number: 795 with model UnivariateMotif in generation 7 of 25\n",
      "Model Number: 796 with model SeasonalNaive in generation 7 of 25\n",
      "Model Number: 797 with model AverageValueNaive in generation 7 of 25\n",
      "Model Number: 798 with model ARDL in generation 7 of 25\n",
      "Model Number: 799 with model BasicLinearModel in generation 7 of 25\n"
     ]
    },
    {
     "name": "stderr",
     "output_type": "stream",
     "text": [
      "C:\\ProgramData\\anaconda3\\envs\\nlp-env\\lib\\site-packages\\numpy\\lib\\function_base.py:2853: RuntimeWarning: invalid value encountered in divide\n",
      "  c /= stddev[:, None]\n",
      "C:\\ProgramData\\anaconda3\\envs\\nlp-env\\lib\\site-packages\\numpy\\lib\\function_base.py:2854: RuntimeWarning: invalid value encountered in divide\n",
      "  c /= stddev[None, :]\n"
     ]
    },
    {
     "name": "stdout",
     "output_type": "stream",
     "text": [
      "Model Number: 800 with model SeasonalityMotif in generation 7 of 25\n",
      "Model Number: 801 with model UnivariateMotif in generation 7 of 25\n",
      "Model Number: 802 with model Cassandra in generation 7 of 25\n",
      "Template Eval Error: Exception('Transformer FIRFilter failed on fit from params mean {\\'0\\': {\\'discretization\\': \\'center\\', \\'n_bins\\': 5}, \\'1\\': {\\'numtaps\\': 64, \\'cutoff_hz\\': 0.1, \\'window\\': [\\'exponential\\', None, 1.0], \\'sampling_frequency\\': 7, \\'on_transform\\': True, \\'on_inverse\\': False, \\'bounds_only\\': False}} with error ValueError(\"<class \\'list\\'> as window type is not supported.\")') in model 802 in generation 7: Cassandra\n",
      "Model Number: 803 with model SeasonalNaive in generation 7 of 25\n",
      "Model Number: 804 with model SectionalMotif in generation 7 of 25\n",
      "2025-09-06 00:00:00\n",
      "2025-09-06 00:00:00\n",
      "2025-09-06 00:00:00\n",
      "Model Number: 805 with model DatepartRegression in generation 7 of 25\n",
      "Model Number: 806 with model LastValueNaive in generation 7 of 25\n",
      "Model Number: 807 with model GLS in generation 7 of 25\n",
      "Model Number: 808 with model BasicLinearModel in generation 7 of 25\n",
      "Model Number: 809 with model BasicLinearModel in generation 7 of 25\n",
      "Model Number: 810 with model MetricMotif in generation 7 of 25\n",
      "Model Number: 811 with model Cassandra in generation 7 of 25\n",
      "Model Number: 812 with model MetricMotif in generation 7 of 25\n",
      "Model Number: 813 with model LastValueNaive in generation 7 of 25\n",
      "Model Number: 814 with model AverageValueNaive in generation 7 of 25\n",
      "Model Number: 815 with model UnivariateMotif in generation 7 of 25\n",
      "Model Number: 816 with model UnivariateMotif in generation 7 of 25\n",
      "Model Number: 817 with model AverageValueNaive in generation 7 of 25\n",
      "Model Number: 818 with model BasicLinearModel in generation 7 of 25\n",
      "Model Number: 819 with model GLM in generation 7 of 25\n",
      "Template Eval Error: Exception(\"Transformer ReplaceConstant failed on fit from params linear {'0': {'part': 'trend', 'lamb': 6.25}, '1': {'model': 'Linear', 'phi': 0.998, 'window': None, 'transform_dict': {'fillna': None, 'transformations': {'0': 'ClipOutliers'}, 'transformation_params': {'0': {'method': 'clip', 'std_threshold': 4}}}}, '2': {'part': 'trend', 'lamb': 1600}, '3': {'constant': 0, 'reintroduction_model': {'model': 'xgboost', 'model_params': {'booster': 'gbtree', 'max_depth': 6, 'eta': 0.05, 'min_child_weight': 1, 'subsample': 0.5, 'colsample_bylevel': 0.5, 'reg_alpha': 0, 'reg_lambda': 1, 'n_estimators': 1000}, 'datepart_method': 'recurring'}, 'fillna': None}, '4': {'regression_model': {'model': 'FastRidge', 'model_params': {}}, 'max_lags': 2}} with error ValueError('Invalid classes inferred from unique values of `y`.  Expected: [0], got [1]')\") in model 819 in generation 7: GLM\n",
      "Model Number: 820 with model AverageValueNaive in generation 7 of 25\n",
      "Model Number: 821 with model FFT in generation 7 of 25\n",
      "Model Number: 822 with model SeasonalityMotif in generation 7 of 25\n",
      "Model Number: 823 with model ConstantNaive in generation 7 of 25\n",
      "Model Number: 824 with model SectionalMotif in generation 7 of 25\n",
      "Model Number: 825 with model FFT in generation 7 of 25\n",
      "Model Number: 826 with model ARDL in generation 7 of 25\n",
      "Model Number: 827 with model SeasonalNaive in generation 7 of 25\n",
      "Template Eval Error: Exception(\"Transformer Cointegration failed on fit from params pchip {'0': {}, '1': {}, '2': {'det_order': 0, 'k_ar_diff': 1}} with error ValueError('Coint only works on multivarate series')\") in model 827 in generation 7: SeasonalNaive\n",
      "Model Number: 828 with model FFT in generation 7 of 25\n",
      "Model Number: 829 with model LastValueNaive in generation 7 of 25\n",
      "New Generation: 8 of 25\n"
     ]
    },
    {
     "name": "stderr",
     "output_type": "stream",
     "text": [
      "C:\\ProgramData\\anaconda3\\envs\\nlp-env\\lib\\site-packages\\sklearn\\linear_model\\_ridge.py:216: LinAlgWarning: Ill-conditioned matrix (rcond=5.0416e-25): result may not be accurate.\n",
      "  return linalg.solve(A, Xy, assume_a=\"pos\", overwrite_a=True).T\n"
     ]
    },
    {
     "name": "stdout",
     "output_type": "stream",
     "text": [
      "Model Number: 830 with model GLS in generation 8 of 25\n",
      "Model Number: 831 with model ARDL in generation 8 of 25\n",
      "Model Number: 832 with model SectionalMotif in generation 8 of 25\n",
      "Model Number: 833 with model FFT in generation 8 of 25\n",
      "Model Number: 834 with model MetricMotif in generation 8 of 25\n",
      "Model Number: 835 with model AverageValueNaive in generation 8 of 25\n",
      "Model Number: 836 with model ARDL in generation 8 of 25\n",
      "Model Number: 837 with model Cassandra in generation 8 of 25\n",
      "Model Number: 838 with model SeasonalNaive in generation 8 of 25\n",
      "Model Number: 839 with model Cassandra in generation 8 of 25\n"
     ]
    },
    {
     "name": "stderr",
     "output_type": "stream",
     "text": [
      "C:\\ProgramData\\anaconda3\\envs\\nlp-env\\lib\\site-packages\\numpy\\lib\\function_base.py:2853: RuntimeWarning: invalid value encountered in divide\n",
      "  c /= stddev[:, None]\n",
      "C:\\ProgramData\\anaconda3\\envs\\nlp-env\\lib\\site-packages\\numpy\\lib\\function_base.py:2854: RuntimeWarning: invalid value encountered in divide\n",
      "  c /= stddev[None, :]\n",
      "C:\\ProgramData\\anaconda3\\envs\\nlp-env\\lib\\site-packages\\numpy\\lib\\function_base.py:2853: RuntimeWarning: invalid value encountered in divide\n",
      "  c /= stddev[:, None]\n",
      "C:\\ProgramData\\anaconda3\\envs\\nlp-env\\lib\\site-packages\\numpy\\lib\\function_base.py:2854: RuntimeWarning: invalid value encountered in divide\n",
      "  c /= stddev[None, :]\n"
     ]
    },
    {
     "name": "stdout",
     "output_type": "stream",
     "text": [
      "Model Number: 840 with model ETS in generation 8 of 25\n",
      "Model Number: 841 with model MetricMotif in generation 8 of 25\n",
      "Model Number: 842 with model ETS in generation 8 of 25\n",
      "Model Number: 843 with model SectionalMotif in generation 8 of 25\n",
      "Model Number: 844 with model Cassandra in generation 8 of 25\n"
     ]
    },
    {
     "name": "stderr",
     "output_type": "stream",
     "text": [
      "C:\\ProgramData\\anaconda3\\envs\\nlp-env\\lib\\site-packages\\numpy\\lib\\function_base.py:2853: RuntimeWarning: invalid value encountered in divide\n",
      "  c /= stddev[:, None]\n",
      "C:\\ProgramData\\anaconda3\\envs\\nlp-env\\lib\\site-packages\\numpy\\lib\\function_base.py:2854: RuntimeWarning: invalid value encountered in divide\n",
      "  c /= stddev[None, :]\n"
     ]
    },
    {
     "name": "stdout",
     "output_type": "stream",
     "text": [
      "Model Number: 845 with model SectionalMotif in generation 8 of 25\n",
      "Model Number: 846 with model AverageValueNaive in generation 8 of 25\n",
      "Model Number: 847 with model DatepartRegression in generation 8 of 25\n",
      "Model Number: 848 with model MetricMotif in generation 8 of 25\n",
      "Model Number: 849 with model ARDL in generation 8 of 25\n",
      "Model Number: 850 with model UnivariateMotif in generation 8 of 25\n",
      "Model Number: 851 with model MetricMotif in generation 8 of 25\n",
      "Model Number: 852 with model BasicLinearModel in generation 8 of 25\n",
      "Model Number: 853 with model SectionalMotif in generation 8 of 25\n",
      "Model Number: 854 with model SectionalMotif in generation 8 of 25\n",
      "Model Number: 855 with model ARDL in generation 8 of 25\n",
      "Model Number: 856 with model ConstantNaive in generation 8 of 25\n",
      "Model Number: 857 with model SeasonalNaive in generation 8 of 25\n",
      "Template Eval Error: Exception(\"Transformer BTCD failed on fit from params time {'0': {'constant': 0, 'reintroduction_model': None, 'fillna': 'mean'}, '1': {'regression_model': {'model': 'LinearRegression', 'model_params': {}}, 'max_lags': 2}} with error ValueError('BTCD only works on multivarate series')\") in model 857 in generation 8: SeasonalNaive\n",
      "Model Number: 858 with model ARDL in generation 8 of 25\n",
      "Template Eval Error: ValueError(\"regression_type='User' but future_regressor not supplied\") in model 858 in generation 8: ARDL\n",
      "Model Number: 859 with model ARDL in generation 8 of 25\n",
      "Model Number: 860 with model MetricMotif in generation 8 of 25\n",
      "Model Number: 861 with model AverageValueNaive in generation 8 of 25\n",
      "Model Number: 862 with model FFT in generation 8 of 25\n",
      "Model Number: 863 with model GLM in generation 8 of 25\n",
      "Template Eval Error: ValueError('regression_type=user and no future_regressor passed') in model 863 in generation 8: GLM\n",
      "Model Number: 864 with model WindowRegression in generation 8 of 25\n",
      "Template Eval Error: ModuleNotFoundError(\"No module named 'lightgbm'\") in model 864 in generation 8: WindowRegression\n",
      "Model Number: 865 with model MetricMotif in generation 8 of 25\n",
      "Model Number: 866 with model BasicLinearModel in generation 8 of 25\n",
      "Model Number: 867 with model UnivariateMotif in generation 8 of 25\n",
      "Model Number: 868 with model SeasonalityMotif in generation 8 of 25\n",
      "Model Number: 869 with model UnivariateMotif in generation 8 of 25\n",
      "Model Number: 870 with model DatepartRegression in generation 8 of 25\n",
      "Model Number: 871 with model LastValueNaive in generation 8 of 25\n",
      "Model Number: 872 with model DatepartRegression in generation 8 of 25\n",
      "Template Eval Error: ValueError(\"regression_type='User' but no future_regressor passed\") in model 872 in generation 8: DatepartRegression\n",
      "Model Number: 873 with model SeasonalityMotif in generation 8 of 25\n",
      "Model Number: 874 with model SectionalMotif in generation 8 of 25\n",
      "Model Number: 875 with model SeasonalityMotif in generation 8 of 25\n",
      "Model Number: 876 with model FFT in generation 8 of 25\n",
      "Model Number: 877 with model UnivariateMotif in generation 8 of 25\n",
      "Model Number: 878 with model SeasonalityMotif in generation 8 of 25\n",
      "Model Number: 879 with model GLM in generation 8 of 25\n",
      "Template Eval Error: Exception(\"Transformer Detrend failed on fit from params linear {'0': {'center': 'mean'}, '1': {'output_distribution': 'uniform', 'n_quantiles': 63}, '2': {}, '3': {'model': 'Linear', 'phi': 1, 'window': None, 'transform_dict': {'fillna': None, 'transformations': {'0': 'AnomalyRemoval'}, 'transformation_params': {'0': {'method': 'zscore', 'transform_dict': {'transformations': {'0': 'DatepartRegression'}, 'transformation_params': {'0': {'datepart_method': 'simple_3', 'regression_model': {'model': 'ElasticNet', 'model_params': {}}}}}, 'method_params': {'distribution': 'uniform', 'alpha': 0.05}}}}}} with error ValueError('Input y contains NaN.')\") in model 879 in generation 8: GLM\n",
      "Model Number: 880 with model AverageValueNaive in generation 8 of 25\n",
      "Model Number: 881 with model SeasonalityMotif in generation 8 of 25\n",
      "Model Number: 882 with model ARDL in generation 8 of 25\n",
      "Template Eval Error: ValueError(\"regression_type='User' but future_regressor not supplied\") in model 882 in generation 8: ARDL\n",
      "Model Number: 883 with model SectionalMotif in generation 8 of 25\n",
      "Model Number: 884 with model Cassandra in generation 8 of 25\n",
      "Model Number: 885 with model AverageValueNaive in generation 8 of 25\n",
      "Template Eval Error: Exception('Transformer FIRFilter failed on fit from params rolling_mean {\\'0\\': {\\'part\\': \\'trend\\', \\'lamb\\': 6.25}, \\'1\\': {\\'numtaps\\': 4, \\'cutoff_hz\\': 0.1, \\'window\\': [\\'exponential\\', None, 1.0], \\'sampling_frequency\\': 7, \\'on_transform\\': True, \\'on_inverse\\': False, \\'bounds_only\\': False}, \\'2\\': {}, \\'3\\': {\\'regression_model\\': {\\'model\\': \\'ElasticNet\\', \\'model_params\\': {}}, \\'datepart_method\\': \\'recurring\\', \\'polynomial_degree\\': None, \\'transform_dict\\': {\\'fillna\\': None, \\'transformations\\': {\\'0\\': \\'ScipyFilter\\'}, \\'transformation_params\\': {\\'0\\': {\\'method\\': \\'savgol_filter\\', \\'method_args\\': {\\'window_length\\': 31, \\'polyorder\\': 3, \\'deriv\\': 0, \\'mode\\': \\'interp\\'}}}}, \\'holiday_countries_used\\': False}, \\'4\\': {\\'n_harmonics\\': 10, \\'detrend\\': \\'quadratic\\'}} with error ValueError(\"<class \\'list\\'> as window type is not supported.\")') in model 885 in generation 8: AverageValueNaive\n",
      "Model Number: 886 with model Cassandra in generation 8 of 25\n",
      "Model Number: 887 with model UnivariateMotif in generation 8 of 25\n",
      "Model Number: 888 with model FFT in generation 8 of 25\n",
      "Model Number: 889 with model GLS in generation 8 of 25\n",
      "Model Number: 890 with model SectionalMotif in generation 8 of 25\n",
      "Model Number: 891 with model FFT in generation 8 of 25\n",
      "Model Number: 892 with model Cassandra in generation 8 of 25\n",
      "Template Eval Error: Exception(\"Transformer ReplaceConstant failed on fit from params ffill {'0': {'method': 'rolling_zscore', 'method_params': {'distribution': 'norm', 'alpha': 0.05, 'rolling_periods': 28, 'center': False}, 'fillna': 'ffill', 'transform_dict': {'fillna': 'mean', 'transformations': {'0': 'DifferencedTransformer'}, 'transformation_params': {'0': {'lag': 7, 'fill': 'zero'}}}, 'isolated_only': True, 'on_inverse': False}, '1': {'rows': 7}, '2': {'constant': 0, 'reintroduction_model': {'model': 'xgboost', 'model_params': {'booster': 'gbtree', 'max_depth': 6, 'eta': 1.0, 'min_child_weight': 2, 'subsample': 1, 'colsample_bylevel': 1, 'reg_alpha': 0, 'reg_lambda': 1, 'n_estimators': 100}, 'datepart_method': 'simple_binarized'}, 'fillna': 'mean'}, '3': {'regression_model': {'model': 'ElasticNet', 'model_params': {}}, 'datepart_method': 'recurring', 'polynomial_degree': None, 'transform_dict': {'fillna': None, 'transformations': {'0': 'ScipyFilter'}, 'transformation_params': {'0': {'method': 'savgol_filter', 'method_args': {'window_length': 31, 'polyorder': 3, 'deriv': 0, 'mode': 'interp'}}}}, 'holiday_countries_used': False}, '4': {'n_harmonics': 10, 'detrend': 'quadratic'}} with error ValueError('Invalid classes inferred from unique values of `y`.  Expected: [0], got [1]')\") in model 892 in generation 8: Cassandra\n",
      "Model Number: 893 with model UnivariateMotif in generation 8 of 25\n",
      "Model Number: 894 with model SectionalMotif in generation 8 of 25\n",
      "Model Number: 895 with model SeasonalityMotif in generation 8 of 25\n",
      "Model Number: 896 with model FFT in generation 8 of 25\n"
     ]
    },
    {
     "name": "stderr",
     "output_type": "stream",
     "text": [
      "C:\\ProgramData\\anaconda3\\envs\\nlp-env\\lib\\site-packages\\sklearn\\linear_model\\_ridge.py:216: LinAlgWarning: Ill-conditioned matrix (rcond=5.0416e-25): result may not be accurate.\n",
      "  return linalg.solve(A, Xy, assume_a=\"pos\", overwrite_a=True).T\n"
     ]
    },
    {
     "name": "stdout",
     "output_type": "stream",
     "text": [
      "Model Number: 897 with model BasicLinearModel in generation 8 of 25\n",
      "Model Number: 898 with model ARDL in generation 8 of 25\n",
      "Template Eval Error: Exception(\"Transformer BTCD failed on fit from params fake_date {'0': {}, '1': {'fixed': True, 'window': 12, 'macro_micro': False, 'center': True}, '2': {'regression_model': {'model': 'LinearRegression', 'model_params': {}}, 'max_lags': 2}, '3': {'rows': 1, 'lag': 1, 'method': 'additive', 'strength': 1.0, 'first_value_only': False, 'threshold': None, 'threshold_method': 'max'}} with error ValueError('BTCD only works on multivarate series')\") in model 898 in generation 8: ARDL\n",
      "Model Number: 899 with model LastValueNaive in generation 8 of 25\n",
      "Model Number: 900 with model Cassandra in generation 8 of 25\n",
      "Model Number: 901 with model LastValueNaive in generation 8 of 25\n",
      "Model Number: 902 with model FFT in generation 8 of 25\n",
      "Model Number: 903 with model AverageValueNaive in generation 8 of 25\n",
      "Model Number: 904 with model SeasonalityMotif in generation 8 of 25\n",
      "Model Number: 905 with model LastValueNaive in generation 8 of 25\n",
      "Model Number: 906 with model ARDL in generation 8 of 25\n"
     ]
    },
    {
     "name": "stderr",
     "output_type": "stream",
     "text": [
      "C:\\ProgramData\\anaconda3\\envs\\nlp-env\\lib\\site-packages\\numpy\\lib\\function_base.py:2853: RuntimeWarning: invalid value encountered in divide\n",
      "  c /= stddev[:, None]\n",
      "C:\\ProgramData\\anaconda3\\envs\\nlp-env\\lib\\site-packages\\numpy\\lib\\function_base.py:2854: RuntimeWarning: invalid value encountered in divide\n",
      "  c /= stddev[None, :]\n"
     ]
    },
    {
     "name": "stdout",
     "output_type": "stream",
     "text": [
      "Model Number: 907 with model SeasonalityMotif in generation 8 of 25\n",
      "Template Eval Error: Exception(\"Transformer BTCD failed on fit from params linear {'0': {}, '1': {'regression_model': {'model': 'LinearRegression', 'model_params': {}}, 'max_lags': 1}} with error ValueError('BTCD only works on multivarate series')\") in model 907 in generation 8: SeasonalityMotif\n",
      "Model Number: 908 with model ARDL in generation 8 of 25\n",
      "Model Number: 909 with model SeasonalityMotif in generation 8 of 25\n",
      "Model Number: 910 with model UnivariateMotif in generation 8 of 25\n",
      "Model Number: 911 with model DatepartRegression in generation 8 of 25\n",
      "Model Number: 912 with model WindowRegression in generation 8 of 25\n",
      "Model Number: 913 with model GLM in generation 8 of 25\n"
     ]
    },
    {
     "name": "stderr",
     "output_type": "stream",
     "text": [
      "C:\\ProgramData\\anaconda3\\envs\\nlp-env\\lib\\site-packages\\sklearn\\neural_network\\_multilayer_perceptron.py:541: ConvergenceWarning: lbfgs failed to converge (status=1):\n",
      "STOP: TOTAL NO. of ITERATIONS REACHED LIMIT.\n",
      "\n",
      "Increase the number of iterations (max_iter) or scale the data as shown in:\n",
      "    https://scikit-learn.org/stable/modules/preprocessing.html\n",
      "  self.n_iter_ = _check_optimize_result(\"lbfgs\", opt_res, self.max_iter)\n"
     ]
    },
    {
     "name": "stdout",
     "output_type": "stream",
     "text": [
      "New Generation: 9 of 25\n",
      "Model Number: 914 with model BasicLinearModel in generation 9 of 25\n",
      "Model Number: 915 with model ARDL in generation 9 of 25\n",
      "Template Eval Error: ValueError(\"regression_type='User' but future_regressor not supplied\") in model 915 in generation 9: ARDL\n",
      "Model Number: 916 with model ARDL in generation 9 of 25\n",
      "Model Number: 917 with model ARDL in generation 9 of 25\n",
      "Model Number: 918 with model GLM in generation 9 of 25\n",
      "Model Number: 919 with model SectionalMotif in generation 9 of 25\n",
      "Model Number: 920 with model SeasonalityMotif in generation 9 of 25\n",
      "Model Number: 921 with model SeasonalityMotif in generation 9 of 25\n",
      "Model Number: 922 with model LastValueNaive in generation 9 of 25\n",
      "Model Number: 923 with model LastValueNaive in generation 9 of 25\n",
      "Model Number: 924 with model RRVAR in generation 9 of 25\n",
      "Model Number: 925 with model FFT in generation 9 of 25\n"
     ]
    },
    {
     "name": "stderr",
     "output_type": "stream",
     "text": [
      "C:\\ProgramData\\anaconda3\\envs\\nlp-env\\lib\\site-packages\\sklearn\\linear_model\\_coordinate_descent.py:631: ConvergenceWarning: Objective did not converge. You might want to increase the number of iterations, check the scale of the features or consider increasing regularisation. Duality gap: 7.323e+03, tolerance: 3.115e+00\n",
      "  model = cd_fast.enet_coordinate_descent(\n"
     ]
    },
    {
     "name": "stdout",
     "output_type": "stream",
     "text": [
      "Model Number: 926 with model Cassandra in generation 9 of 25\n",
      "Template Eval Error: AttributeError(\"'NoneType' object has no attribute 'scores'\") in model 926 in generation 9: Cassandra\n",
      "Model Number: 927 with model Cassandra in generation 9 of 25\n",
      "Template Eval Error: ValueError('more than 1 year of data is required for holiday detection.') in model 927 in generation 9: Cassandra\n",
      "Model Number: 928 with model GLS in generation 9 of 25\n",
      "Model Number: 929 with model Cassandra in generation 9 of 25\n",
      "Model Number: 930 with model AverageValueNaive in generation 9 of 25\n",
      "Model Number: 931 with model UnivariateMotif in generation 9 of 25\n",
      "Model Number: 932 with model SeasonalityMotif in generation 9 of 25\n",
      "Model Number: 933 with model MetricMotif in generation 9 of 25\n",
      "Model Number: 934 with model SeasonalNaive in generation 9 of 25\n"
     ]
    },
    {
     "name": "stderr",
     "output_type": "stream",
     "text": [
      "C:\\ProgramData\\anaconda3\\envs\\nlp-env\\lib\\site-packages\\numpy\\lib\\function_base.py:2853: RuntimeWarning: invalid value encountered in divide\n",
      "  c /= stddev[:, None]\n",
      "C:\\ProgramData\\anaconda3\\envs\\nlp-env\\lib\\site-packages\\numpy\\lib\\function_base.py:2854: RuntimeWarning: invalid value encountered in divide\n",
      "  c /= stddev[None, :]\n"
     ]
    },
    {
     "name": "stdout",
     "output_type": "stream",
     "text": [
      "Model Number: 935 with model MetricMotif in generation 9 of 25\n",
      "Model Number: 936 with model UnivariateMotif in generation 9 of 25\n",
      "Model Number: 937 with model DatepartRegression in generation 9 of 25\n",
      "Model Number: 938 with model SeasonalityMotif in generation 9 of 25\n",
      "Model Number: 939 with model UnivariateMotif in generation 9 of 25\n",
      "Model Number: 940 with model GLS in generation 9 of 25\n",
      "Model Number: 941 with model ETS in generation 9 of 25\n",
      "Model Number: 942 with model Cassandra in generation 9 of 25\n",
      "Model Number: 943 with model SeasonalNaive in generation 9 of 25\n",
      "Model Number: 944 with model LastValueNaive in generation 9 of 25\n",
      "Model Number: 945 with model SeasonalityMotif in generation 9 of 25\n",
      "Model Number: 946 with model MetricMotif in generation 9 of 25\n",
      "Model Number: 947 with model SeasonalityMotif in generation 9 of 25\n",
      "Model Number: 948 with model FFT in generation 9 of 25\n",
      "Model Number: 949 with model MetricMotif in generation 9 of 25\n"
     ]
    },
    {
     "name": "stderr",
     "output_type": "stream",
     "text": [
      "C:\\ProgramData\\anaconda3\\envs\\nlp-env\\lib\\site-packages\\sklearn\\linear_model\\_linear_loss.py:289: RuntimeWarning: invalid value encountered in matmul\n",
      "  grad[:n_features] = X.T @ grad_pointwise + l2_reg_strength * weights\n",
      "C:\\ProgramData\\anaconda3\\envs\\nlp-env\\lib\\site-packages\\sklearn\\linear_model\\_coordinate_descent.py:631: ConvergenceWarning: Objective did not converge. You might want to increase the number of iterations, check the scale of the features or consider increasing regularisation. Duality gap: 2.612e+03, tolerance: 1.466e+00\n",
      "  model = cd_fast.enet_coordinate_descent(\n"
     ]
    },
    {
     "name": "stdout",
     "output_type": "stream",
     "text": [
      "Model Number: 950 with model BasicLinearModel in generation 9 of 25\n",
      "Model Number: 951 with model UnivariateMotif in generation 9 of 25\n",
      "Model Number: 952 with model AverageValueNaive in generation 9 of 25\n",
      "Model Number: 953 with model UnivariateMotif in generation 9 of 25\n",
      "Model Number: 954 with model LastValueNaive in generation 9 of 25\n",
      "Model Number: 955 with model UnivariateMotif in generation 9 of 25\n",
      "Model Number: 956 with model ConstantNaive in generation 9 of 25\n",
      "Template Eval Error: Exception(\"Transformer Cointegration failed on fit from params ffill {'0': {'rows': 1}, '1': {'output_distribution': 'uniform', 'n_quantiles': 63}, '2': {'lag_1': 7, 'method': 'LastValue'}, '3': {'det_order': 1, 'k_ar_diff': 0}} with error ValueError('Coint only works on multivarate series')\") in model 956 in generation 9: ConstantNaive\n",
      "Model Number: 957 with model SectionalMotif in generation 9 of 25\n",
      "Template Eval Error: Exception(\"Transformer BTCD failed on fit from params mean {'0': {'regression_model': {'model': 'FastRidge', 'model_params': {}}, 'max_lags': 1}, '1': {}, '2': {'fillna': 'linear', 'center': 'median'}} with error ValueError('BTCD only works on multivarate series')\") in model 957 in generation 9: SectionalMotif\n",
      "Model Number: 958 with model SectionalMotif in generation 9 of 25\n",
      "Model Number: 959 with model Cassandra in generation 9 of 25\n",
      "Model Number: 960 with model LastValueNaive in generation 9 of 25\n",
      "Model Number: 961 with model GLS in generation 9 of 25\n",
      "Model Number: 962 with model AverageValueNaive in generation 9 of 25\n",
      "Model Number: 963 with model Cassandra in generation 9 of 25\n",
      "Model Number: 964 with model ARDL in generation 9 of 25\n",
      "Template Eval Error: ValueError(\"regression_type='User' but future_regressor not supplied\") in model 964 in generation 9: ARDL\n",
      "Model Number: 965 with model MetricMotif in generation 9 of 25\n",
      "Model Number: 966 with model LastValueNaive in generation 9 of 25\n",
      "Model Number: 967 with model SectionalMotif in generation 9 of 25\n",
      "Model Number: 968 with model Cassandra in generation 9 of 25\n",
      "Template Eval Error: Exception(\"Transformer HolidayTransformer failed on fit from params ffill {'0': {'threshold': 0.8, 'splash_threshold': None, 'use_dayofmonth_holidays': True, 'use_wkdom_holidays': True, 'use_wkdeom_holidays': True, 'use_lunar_holidays': False, 'use_lunar_weekday': False, 'use_islamic_holidays': False, 'use_hebrew_holidays': False, 'use_hindu_holidays': False, 'anomaly_detector_params': {'method': 'mad', 'method_params': {'distribution': 'norm', 'alpha': 0.05}, 'fillna': 'rolling_mean_24', 'transform_dict': {'transformations': {'0': 'DatepartRegression'}, 'transformation_params': {'0': {'datepart_method': 'simple_3', 'regression_model': {'model': 'DecisionTree', 'model_params': {'max_depth': None, 'min_samples_split': 0.1}}}}}, 'isolated_only': False, 'on_inverse': False}, 'remove_excess_anomalies': True, 'impact': 'regression', 'regression_params': {}}, '1': {}, '2': {'window_size': 30, 'alpha': 2.5, 'grouping_forward_limit': 2, 'max_level_shifts': 5, 'alignment': 'last_value'}} with error ValueError('more than 1 year of data is required for holiday detection.')\") in model 968 in generation 9: Cassandra\n",
      "Model Number: 969 with model UnivariateMotif in generation 9 of 25\n",
      "Model Number: 970 with model DatepartRegression in generation 9 of 25\n",
      "Model Number: 971 with model DatepartRegression in generation 9 of 25\n"
     ]
    },
    {
     "name": "stderr",
     "output_type": "stream",
     "text": [
      "C:\\ProgramData\\anaconda3\\envs\\nlp-env\\lib\\site-packages\\numpy\\lib\\function_base.py:2853: RuntimeWarning: invalid value encountered in divide\n",
      "  c /= stddev[:, None]\n",
      "C:\\ProgramData\\anaconda3\\envs\\nlp-env\\lib\\site-packages\\numpy\\lib\\function_base.py:2854: RuntimeWarning: invalid value encountered in divide\n",
      "  c /= stddev[None, :]\n"
     ]
    },
    {
     "name": "stdout",
     "output_type": "stream",
     "text": [
      "Model Number: 972 with model FFT in generation 9 of 25\n",
      "Model Number: 973 with model ARDL in generation 9 of 25\n",
      "Model Number: 974 with model BasicLinearModel in generation 9 of 25\n",
      "Model Number: 975 with model ConstantNaive in generation 9 of 25\n",
      "Model Number: 976 with model SectionalMotif in generation 9 of 25\n",
      "Model Number: 977 with model ETS in generation 9 of 25\n"
     ]
    },
    {
     "name": "stderr",
     "output_type": "stream",
     "text": [
      "C:\\ProgramData\\anaconda3\\envs\\nlp-env\\lib\\site-packages\\autots\\models\\basics.py:3647: RuntimeWarning: invalid value encountered in sqrt\n",
      "  self.sigma = np.sqrt(sse / (n - p))\n"
     ]
    },
    {
     "name": "stdout",
     "output_type": "stream",
     "text": [
      "Model Number: 978 with model BasicLinearModel in generation 9 of 25\n",
      "Model Number: 979 with model DatepartRegression in generation 9 of 25\n",
      "Model Number: 980 with model ETS in generation 9 of 25\n",
      "Model Number: 981 with model BasicLinearModel in generation 9 of 25\n",
      "Model Number: 982 with model ARDL in generation 9 of 25\n",
      "Model Number: 983 with model LastValueNaive in generation 9 of 25\n",
      "Model Number: 984 with model AverageValueNaive in generation 9 of 25\n",
      "Model Number: 985 with model LastValueNaive in generation 9 of 25\n",
      "Model Number: 986 with model LastValueNaive in generation 9 of 25\n",
      "Model Number: 987 with model FFT in generation 9 of 25\n",
      "Model Number: 988 with model FFT in generation 9 of 25\n",
      "Template Eval Error: Exception('Transformer CenterSplit failed on fit from params ffill {\\'0\\': {\\'decimals\\': 0, \\'on_transform\\': True, \\'on_inverse\\': True}, \\'1\\': {\\'rows\\': 7, \\'lag\\': 1, \\'method\\': \\'additive\\', \\'strength\\': 0.7, \\'first_value_only\\': False, \\'threshold\\': 10, \\'threshold_method\\': \\'max\\'}, \\'2\\': {\\'rolling_window\\': 0.1, \\'n_tails\\': 90, \\'n_future\\': 0.1, \\'method\\': \\'mean\\', \\'macro_micro\\': True}, \\'3\\': {\\'fillna\\': \\'one\\', \\'center\\': \\'zero\\'}, \\'4\\': {\\'rows\\': 1}} with error ValueError(\"columns overlap but no suffix specified: Index([\\'Close_lltmicro\\'], dtype=\\'object\\')\")') in model 988 in generation 9: FFT\n",
      "Model Number: 989 with model BasicLinearModel in generation 9 of 25\n",
      "Template Eval Error: Exception(\"Transformer Cointegration failed on fit from params ffill_mean_biased {'0': {'rows': 24, 'lag': 1, 'method': 'additive', 'strength': 1.0, 'first_value_only': True, 'threshold': 10, 'threshold_method': 'max'}, '1': {'rows': 4, 'lag': 1, 'method': 'additive', 'strength': 1.0, 'first_value_only': False, 'threshold': 1, 'threshold_method': 'max'}, '2': {'output_distribution': 'uniform', 'n_quantiles': 47}, '3': {'method': 'butter', 'method_args': {'N': 2, 'btype': 'lowpass', 'analog': False, 'output': 'sos', 'Wn': 0.0027472527472527475}}, '4': {'det_order': -1, 'k_ar_diff': 1}, '5': {}} with error ValueError('Coint only works on multivarate series')\") in model 989 in generation 9: BasicLinearModel\n",
      "Model Number: 990 with model SectionalMotif in generation 9 of 25\n",
      "Model Number: 991 with model AverageValueNaive in generation 9 of 25\n",
      "Model Number: 992 with model Cassandra in generation 9 of 25\n",
      "Model Number: 993 with model DatepartRegression in generation 9 of 25\n",
      "Template Eval Error: ValueError('Input X contains NaN.\\nRadiusNeighborsRegressor does not accept missing values encoded as NaN natively. For supervised learning, you might want to consider sklearn.ensemble.HistGradientBoostingClassifier and Regressor which accept missing values encoded as NaNs natively. Alternatively, it is possible to preprocess the data, for instance by using an imputer transformer in a pipeline or drop samples with missing values. See https://scikit-learn.org/stable/modules/impute.html You can find a list of all estimators that handle NaN values at the following page: https://scikit-learn.org/stable/modules/impute.html#estimators-that-handle-nan-values') in model 993 in generation 9: DatepartRegression\n",
      "Model Number: 994 with model BasicLinearModel in generation 9 of 25\n",
      "Model Number: 995 with model AverageValueNaive in generation 9 of 25\n",
      "Model Number: 996 with model SectionalMotif in generation 9 of 25\n",
      "Model Number: 997 with model ConstantNaive in generation 9 of 25\n",
      "New Generation: 10 of 25\n",
      "Model Number: 998 with model Cassandra in generation 10 of 25\n",
      "Template Eval Error: ValueError('more than 1 year of data is required for holiday detection.') in model 998 in generation 10: Cassandra\n",
      "Model Number: 999 with model ARDL in generation 10 of 25\n",
      "Template Eval Error: ValueError(\"ARDL series Close failed with error IndexError('tuple index out of range') exog train None and predict None\") in model 999 in generation 10: ARDL\n",
      "Model Number: 1000 with model MetricMotif in generation 10 of 25\n",
      "Model Number: 1001 with model SeasonalityMotif in generation 10 of 25\n",
      "Model Number: 1002 with model Cassandra in generation 10 of 25\n"
     ]
    },
    {
     "name": "stderr",
     "output_type": "stream",
     "text": [
      "C:\\ProgramData\\anaconda3\\envs\\nlp-env\\lib\\site-packages\\numpy\\lib\\function_base.py:2853: RuntimeWarning: invalid value encountered in divide\n",
      "  c /= stddev[:, None]\n",
      "C:\\ProgramData\\anaconda3\\envs\\nlp-env\\lib\\site-packages\\numpy\\lib\\function_base.py:2854: RuntimeWarning: invalid value encountered in divide\n",
      "  c /= stddev[None, :]\n"
     ]
    },
    {
     "name": "stdout",
     "output_type": "stream",
     "text": [
      "Model Number: 1003 with model FFT in generation 10 of 25\n",
      "Model Number: 1004 with model FFT in generation 10 of 25\n",
      "Model Number: 1005 with model LastValueNaive in generation 10 of 25\n",
      "Model Number: 1006 with model AverageValueNaive in generation 10 of 25\n",
      "Model Number: 1007 with model MetricMotif in generation 10 of 25\n",
      "Model Number: 1008 with model Cassandra in generation 10 of 25\n",
      "Model Number: 1009 with model UnivariateMotif in generation 10 of 25\n",
      "Model Number: 1010 with model Cassandra in generation 10 of 25\n",
      "Model Number: 1011 with model LastValueNaive in generation 10 of 25\n",
      "Model Number: 1012 with model LastValueNaive in generation 10 of 25\n",
      "Model Number: 1013 with model LastValueNaive in generation 10 of 25\n",
      "Model Number: 1014 with model MetricMotif in generation 10 of 25\n",
      "Template Eval Error: Exception(\"Transformer DatepartRegression failed on fit from params ffill {'0': {'method': '3forecastlength'}, '1': {'rows': 1, 'lag': 1, 'method': 'multiplicative', 'strength': 0.5, 'first_value_only': False, 'threshold': 10, 'threshold_method': 'mean'}, '2': {'regression_model': {'model': 'ElasticNetwork', 'model_params': {'size': 2560, 'l1': 0.0, 'l2': 0.0, 'epochs': 10, 'batch_size': 8, 'optimizer': 'rmsprop', 'loss': 'poisson'}}, 'datepart_method': 'simple', 'polynomial_degree': None, 'transform_dict': None, 'holiday_countries_used': True, 'lags': None, 'forward_lags': None}, '3': {'part': 'trend', 'lamb': 1600}} with error IndexError('tuple index out of range')\") in model 1014 in generation 10: MetricMotif\n",
      "Model Number: 1015 with model SeasonalityMotif in generation 10 of 25\n",
      "Template Eval Error: Exception(\"Transformer ReplaceConstant failed on fit from params linear {'0': {'part': 'trend', 'lamb': 6.25}, '1': {'rows': 4, 'lag': 1, 'method': 'additive', 'strength': 0.7, 'first_value_only': False, 'threshold': 1, 'threshold_method': 'mean'}, '2': {}, '3': {'constant': 0, 'reintroduction_model': {'model': 'xgboost', 'model_params': {'booster': 'gbtree', 'max_depth': 3, 'eta': 1.0, 'min_child_weight': 10, 'subsample': 1, 'colsample_bylevel': 1, 'reg_alpha': 0.001, 'reg_lambda': 1, 'multi_strategy': 'multi_output_tree', 'tree_method': 'hist'}, 'datepart_method': ['weekdaymonthofyear', 'quarter', 'dayofweek']}, 'fillna': 'mean'}, '4': {'constraint_method': 'historic_diff', 'constraint_direction': 'lower', 'constraint_regularization': 0.2, 'constraint_value': 1.0, 'bounds_only': False, 'fillna': None}, '5': {'part': 'trend', 'lamb': 6.25}} with error ValueError('Invalid classes inferred from unique values of `y`.  Expected: [0], got [1]')\") in model 1015 in generation 10: SeasonalityMotif\n",
      "Model Number: 1016 with model LastValueNaive in generation 10 of 25\n",
      "Model Number: 1017 with model DatepartRegression in generation 10 of 25\n",
      "Model Number: 1018 with model FFT in generation 10 of 25\n",
      "Model Number: 1019 with model ARDL in generation 10 of 25\n",
      "Model Number: 1020 with model SectionalMotif in generation 10 of 25\n",
      "Model Number: 1021 with model MetricMotif in generation 10 of 25\n",
      "Template Eval Error: Exception(\"Transformer Detrend failed on fit from params time {'0': {'model': 'Poisson', 'phi': 1, 'window': 90, 'transform_dict': {'fillna': None, 'transformations': {'0': 'ScipyFilter'}, 'transformation_params': {'0': {'method': 'savgol_filter', 'method_args': {'window_length': 31, 'polyorder': 3, 'deriv': 0, 'mode': 'interp'}}}}}, '1': {}, '2': {'lag_1': 29, 'method': 'Mean'}, '3': {}, '4': {'whiten': False, 'n_components': None}} with error ValueError('Found input variables with inconsistent numbers of samples: [90, 190]')\") in model 1021 in generation 10: MetricMotif\n",
      "Model Number: 1022 with model BasicLinearModel in generation 10 of 25\n",
      "Model Number: 1023 with model GLS in generation 10 of 25\n",
      "Model Number: 1024 with model LastValueNaive in generation 10 of 25\n",
      "Model Number: 1025 with model AverageValueNaive in generation 10 of 25\n",
      "Model Number: 1026 with model DatepartRegression in generation 10 of 25\n",
      "Model Number: 1027 with model FFT in generation 10 of 25\n",
      "Model Number: 1028 with model MetricMotif in generation 10 of 25\n",
      "Model Number: 1029 with model UnivariateMotif in generation 10 of 25\n",
      "Template Eval Error: ValueError('Model UnivariateMotif returned improper forecast_length. Returned: 8 and requested: 10') in model 1029 in generation 10: UnivariateMotif\n",
      "Model Number: 1030 with model SectionalMotif in generation 10 of 25\n",
      "Model Number: 1031 with model AverageValueNaive in generation 10 of 25\n",
      "Model Number: 1032 with model ARDL in generation 10 of 25\n",
      "Model Number: 1033 with model SectionalMotif in generation 10 of 25\n"
     ]
    },
    {
     "name": "stderr",
     "output_type": "stream",
     "text": [
      "C:\\ProgramData\\anaconda3\\envs\\nlp-env\\lib\\site-packages\\sklearn\\linear_model\\_ridge.py:216: LinAlgWarning: Ill-conditioned matrix (rcond=5.0416e-25): result may not be accurate.\n",
      "  return linalg.solve(A, Xy, assume_a=\"pos\", overwrite_a=True).T\n"
     ]
    },
    {
     "name": "stdout",
     "output_type": "stream",
     "text": [
      "Model Number: 1034 with model MetricMotif in generation 10 of 25\n",
      "Template Eval Error: IndexError('index 153 is out of bounds for axis 0 with size 100') in model 1034 in generation 10: MetricMotif\n",
      "Model Number: 1035 with model SeasonalityMotif in generation 10 of 25\n",
      "Model Number: 1036 with model GLM in generation 10 of 25\n",
      "Model Number: 1037 with model SeasonalityMotif in generation 10 of 25\n",
      "Model Number: 1038 with model BasicLinearModel in generation 10 of 25\n",
      "Model Number: 1039 with model LastValueNaive in generation 10 of 25\n",
      "Model Number: 1040 with model LastValueNaive in generation 10 of 25\n",
      "Model Number: 1041 with model ARDL in generation 10 of 25\n",
      "Model Number: 1042 with model UnivariateMotif in generation 10 of 25\n",
      "Model Number: 1043 with model LastValueNaive in generation 10 of 25\n",
      "Model Number: 1044 with model ARDL in generation 10 of 25\n",
      "Model Number: 1045 with model AverageValueNaive in generation 10 of 25\n",
      "Model Number: 1046 with model UnivariateMotif in generation 10 of 25\n",
      "Template Eval Error: Exception(\"Transformer BTCD failed on fit from params linear {'0': {'regression_model': {'model': 'FastRidge', 'model_params': {}}, 'max_lags': 1}, '1': {}, '2': {'span': 7}, '3': {'rows': 1, 'lag': 7, 'method': 'additive', 'strength': 1.0, 'first_value_only': False, 'threshold': None, 'threshold_method': 'mean'}, '4': {'n_harmonics': 10, 'detrend': 'quadratic'}} with error ValueError('BTCD only works on multivarate series')\") in model 1046 in generation 10: UnivariateMotif\n",
      "Model Number: 1047 with model UnivariateMotif in generation 10 of 25\n",
      "Model Number: 1048 with model SeasonalityMotif in generation 10 of 25\n",
      "Model Number: 1049 with model SectionalMotif in generation 10 of 25\n",
      "Template Eval Error: Exception('Transformer FIRFilter failed on fit from params rolling_mean_24 {\\'0\\': {\\'lag_1\\': 28, \\'method\\': \\'LastValue\\'}, \\'1\\': {\\'numtaps\\': 1024, \\'cutoff_hz\\': 0.01, \\'window\\': [\\'exponential\\', None, 1.0], \\'sampling_frequency\\': 24, \\'on_transform\\': True, \\'on_inverse\\': False, \\'bounds_only\\': False}} with error ValueError(\"<class \\'list\\'> as window type is not supported.\")') in model 1049 in generation 10: SectionalMotif\n",
      "Model Number: 1050 with model GLM in generation 10 of 25\n",
      "Model Number: 1051 with model AverageValueNaive in generation 10 of 25\n",
      "Model Number: 1052 with model UnivariateMotif in generation 10 of 25\n",
      "Model Number: 1053 with model MetricMotif in generation 10 of 25\n",
      "Model Number: 1054 with model SectionalMotif in generation 10 of 25\n",
      "Model Number: 1055 with model SeasonalityMotif in generation 10 of 25\n",
      "Model Number: 1056 with model MetricMotif in generation 10 of 25\n",
      "Model Number: 1057 with model DatepartRegression in generation 10 of 25\n",
      "Epoch 1/10\n",
      "24/24 [==============================] - 0s 533us/step - loss: 1802716544.0000\n",
      "Epoch 2/10\n",
      "24/24 [==============================] - 0s 435us/step - loss: 88030408.0000\n",
      "Epoch 3/10\n",
      "24/24 [==============================] - 0s 478us/step - loss: 5822775.0000\n",
      "Epoch 4/10\n",
      "24/24 [==============================] - 0s 435us/step - loss: 389200.3438\n",
      "Epoch 5/10\n",
      "24/24 [==============================] - 0s 435us/step - loss: 26095.0156\n",
      "Epoch 6/10\n",
      "24/24 [==============================] - 0s 435us/step - loss: 1834.7112\n",
      "Epoch 7/10\n",
      "24/24 [==============================] - 0s 391us/step - loss: 190.2492\n",
      "Epoch 8/10\n",
      "24/24 [==============================] - 0s 391us/step - loss: 83.0017\n",
      "Epoch 9/10\n",
      "24/24 [==============================] - 0s 391us/step - loss: 75.6255\n",
      "Epoch 10/10\n",
      "24/24 [==============================] - 0s 400us/step - loss: 74.4649\n",
      "1/1 [==============================] - 0s 21ms/step\n",
      "Model Number: 1058 with model UnivariateMotif in generation 10 of 25\n",
      "Model Number: 1059 with model BasicLinearModel in generation 10 of 25\n",
      "Model Number: 1060 with model SeasonalityMotif in generation 10 of 25\n",
      "New Generation: 11 of 25\n",
      "Model Number: 1061 with model MetricMotif in generation 11 of 25\n",
      "Model Number: 1062 with model GLM in generation 11 of 25\n",
      "Template Eval Error: Exception(\"Transformer BTCD failed on fit from params linear {'0': {'part': 'trend', 'lamb': 6.25}, '1': {'regression_model': {'model': 'LinearRegression', 'model_params': {}}, 'max_lags': 1}, '2': {'span': 7}, '3': {'rows': 1, 'lag': 1, 'method': 'additive', 'strength': 1.0, 'first_value_only': False, 'threshold': 10, 'threshold_method': 'max'}, '4': {'n_harmonics': 10, 'detrend': 'quadratic'}} with error ValueError('BTCD only works on multivarate series')\") in model 1062 in generation 11: GLM\n",
      "Model Number: 1063 with model Cassandra in generation 11 of 25\n",
      "Model Number: 1064 with model MetricMotif in generation 11 of 25\n",
      "Model Number: 1065 with model SeasonalityMotif in generation 11 of 25\n",
      "Model Number: 1066 with model SeasonalityMotif in generation 11 of 25\n",
      "Model Number: 1067 with model AverageValueNaive in generation 11 of 25\n",
      "Template Eval Error: Exception(\"Transformer SeasonalDifference failed on fit from params pchip {'0': {'rows': 1, 'lag': 1, 'method': 'additive', 'strength': 1.0, 'first_value_only': False, 'threshold': 1, 'threshold_method': 'max'}, '1': {'fixed': True, 'window': 364, 'macro_micro': False, 'center': True}, '2': {'lag_1': 364, 'method': 20}} with error ValueError('cannot reshape array of size 190 into shape (0,364,newaxis)')\") in model 1067 in generation 11: AverageValueNaive\n",
      "Model Number: 1068 with model UnivariateMotif in generation 11 of 25\n",
      "Template Eval Error: Exception(\"Transformer Cointegration failed on fit from params zero {'0': {'part': 'trend', 'lamb': 6.25}, '1': {'det_order': -1, 'k_ar_diff': 0}} with error ValueError('Coint only works on multivarate series')\") in model 1068 in generation 11: UnivariateMotif\n",
      "Model Number: 1069 with model GLS in generation 11 of 25\n",
      "Model Number: 1070 with model SeasonalityMotif in generation 11 of 25\n",
      "Model Number: 1071 with model BasicLinearModel in generation 11 of 25\n",
      "Template Eval Error: Exception(\"Transformer BTCD failed on fit from params ffill {'0': {'regression_model': {'model': 'FastRidge', 'model_params': {}}, 'max_lags': 2}, '1': {}, '2': {'window_size': 7, 'alpha': 2.0, 'grouping_forward_limit': 5, 'max_level_shifts': 30, 'alignment': 'rolling_diff_3nn'}, '3': {'rows': 7}} with error ValueError('BTCD only works on multivarate series')\") in model 1071 in generation 11: BasicLinearModel\n",
      "Model Number: 1072 with model FFT in generation 11 of 25\n"
     ]
    },
    {
     "name": "stderr",
     "output_type": "stream",
     "text": [
      "C:\\ProgramData\\anaconda3\\envs\\nlp-env\\lib\\site-packages\\numpy\\lib\\function_base.py:2853: RuntimeWarning: invalid value encountered in divide\n",
      "  c /= stddev[:, None]\n",
      "C:\\ProgramData\\anaconda3\\envs\\nlp-env\\lib\\site-packages\\numpy\\lib\\function_base.py:2854: RuntimeWarning: invalid value encountered in divide\n",
      "  c /= stddev[None, :]\n",
      "C:\\ProgramData\\anaconda3\\envs\\nlp-env\\lib\\site-packages\\sklearn\\linear_model\\_coordinate_descent.py:631: ConvergenceWarning: Objective did not converge. You might want to increase the number of iterations, check the scale of the features or consider increasing regularisation. Duality gap: 7.351e+02, tolerance: 1.329e+00\n",
      "  model = cd_fast.enet_coordinate_descent(\n"
     ]
    },
    {
     "name": "stdout",
     "output_type": "stream",
     "text": [
      "Model Number: 1073 with model Cassandra in generation 11 of 25\n",
      "Model Number: 1074 with model LastValueNaive in generation 11 of 25\n",
      "Model Number: 1075 with model SeasonalityMotif in generation 11 of 25\n",
      "Model Number: 1076 with model BasicLinearModel in generation 11 of 25\n"
     ]
    },
    {
     "name": "stderr",
     "output_type": "stream",
     "text": [
      "C:\\ProgramData\\anaconda3\\envs\\nlp-env\\lib\\site-packages\\numpy\\lib\\function_base.py:2853: RuntimeWarning: invalid value encountered in divide\n",
      "  c /= stddev[:, None]\n",
      "C:\\ProgramData\\anaconda3\\envs\\nlp-env\\lib\\site-packages\\numpy\\lib\\function_base.py:2854: RuntimeWarning: invalid value encountered in divide\n",
      "  c /= stddev[None, :]\n"
     ]
    },
    {
     "name": "stdout",
     "output_type": "stream",
     "text": [
      "Model Number: 1077 with model MetricMotif in generation 11 of 25\n",
      "Template Eval Error: ValueError('kth(=4) out of bounds (1)') in model 1077 in generation 11: MetricMotif\n",
      "Model Number: 1078 with model ARDL in generation 11 of 25\n",
      "Model Number: 1079 with model DatepartRegression in generation 11 of 25\n",
      "Model Number: 1080 with model MetricMotif in generation 11 of 25\n",
      "Template Eval Error: Exception(\"Transformer FIRFilter failed on fit from params rolling_mean_24 {'0': {'numtaps': 7, 'cutoff_hz': 5, 'window': 'hamming', 'sampling_frequency': 2, 'on_transform': True, 'on_inverse': False, 'bounds_only': False}, '1': {}, '2': {}, '3': {'lag_1': 37, 'method': 20}} with error ValueError('Invalid cutoff frequency: frequencies must be greater than 0 and less than fs/2.')\") in model 1080 in generation 11: MetricMotif\n",
      "Model Number: 1081 with model AverageValueNaive in generation 11 of 25\n",
      "Model Number: 1082 with model SectionalMotif in generation 11 of 25\n",
      "Model Number: 1083 with model ARDL in generation 11 of 25\n",
      "Model Number: 1084 with model Cassandra in generation 11 of 25\n",
      "Model Number: 1085 with model UnivariateMotif in generation 11 of 25\n",
      "Model Number: 1086 with model LastValueNaive in generation 11 of 25\n",
      "Model Number: 1087 with model Cassandra in generation 11 of 25\n",
      "Model Number: 1088 with model FFT in generation 11 of 25\n",
      "Model Number: 1089 with model LastValueNaive in generation 11 of 25\n",
      "Model Number: 1090 with model SeasonalityMotif in generation 11 of 25\n"
     ]
    },
    {
     "name": "stderr",
     "output_type": "stream",
     "text": [
      "C:\\ProgramData\\anaconda3\\envs\\nlp-env\\lib\\site-packages\\numpy\\lib\\function_base.py:2853: RuntimeWarning: invalid value encountered in divide\n",
      "  c /= stddev[:, None]\n",
      "C:\\ProgramData\\anaconda3\\envs\\nlp-env\\lib\\site-packages\\numpy\\lib\\function_base.py:2854: RuntimeWarning: invalid value encountered in divide\n",
      "  c /= stddev[None, :]\n",
      "C:\\ProgramData\\anaconda3\\envs\\nlp-env\\lib\\site-packages\\numpy\\lib\\function_base.py:2853: RuntimeWarning: invalid value encountered in divide\n",
      "  c /= stddev[:, None]\n",
      "C:\\ProgramData\\anaconda3\\envs\\nlp-env\\lib\\site-packages\\numpy\\lib\\function_base.py:2854: RuntimeWarning: invalid value encountered in divide\n",
      "  c /= stddev[None, :]\n"
     ]
    },
    {
     "name": "stdout",
     "output_type": "stream",
     "text": [
      "Model Number: 1091 with model MetricMotif in generation 11 of 25\n",
      "Template Eval Error: IndexError('index 159 is out of bounds for axis 0 with size 95') in model 1091 in generation 11: MetricMotif\n",
      "Model Number: 1092 with model UnivariateMotif in generation 11 of 25\n",
      "Model Number: 1093 with model UnivariateMotif in generation 11 of 25\n",
      "Model Number: 1094 with model BasicLinearModel in generation 11 of 25\n"
     ]
    },
    {
     "name": "stderr",
     "output_type": "stream",
     "text": [
      "C:\\ProgramData\\anaconda3\\envs\\nlp-env\\lib\\site-packages\\sklearn\\linear_model\\_coordinate_descent.py:631: ConvergenceWarning: Objective did not converge. You might want to increase the number of iterations, check the scale of the features or consider increasing regularisation. Duality gap: 8.929e+02, tolerance: 1.476e+00\n",
      "  model = cd_fast.enet_coordinate_descent(\n"
     ]
    },
    {
     "name": "stdout",
     "output_type": "stream",
     "text": [
      "Model Number: 1095 with model BasicLinearModel in generation 11 of 25\n",
      "Model Number: 1096 with model LastValueNaive in generation 11 of 25\n",
      "Model Number: 1097 with model FFT in generation 11 of 25\n",
      "Model Number: 1098 with model GLM in generation 11 of 25\n",
      "Model Number: 1099 with model ARDL in generation 11 of 25\n"
     ]
    },
    {
     "name": "stderr",
     "output_type": "stream",
     "text": [
      "C:\\ProgramData\\anaconda3\\envs\\nlp-env\\lib\\site-packages\\statsmodels\\genmod\\families\\family.py:1650: RuntimeWarning: invalid value encountered in log\n",
      "  endog * np.log(endog / mu) + (mu - endog))\n"
     ]
    },
    {
     "name": "stdout",
     "output_type": "stream",
     "text": [
      "Model Number: 1100 with model MetricMotif in generation 11 of 25\n",
      "Model Number: 1101 with model AverageValueNaive in generation 11 of 25\n",
      "Model Number: 1102 with model UnivariateMotif in generation 11 of 25\n",
      "Model Number: 1103 with model LastValueNaive in generation 11 of 25\n",
      "Model Number: 1104 with model ARDL in generation 11 of 25\n",
      "Model Number: 1105 with model SeasonalityMotif in generation 11 of 25\n",
      "Model Number: 1106 with model LastValueNaive in generation 11 of 25\n",
      "Model Number: 1107 with model SeasonalNaive in generation 11 of 25\n",
      "Model Number: 1108 with model LastValueNaive in generation 11 of 25\n",
      "Model Number: 1109 with model GLM in generation 11 of 25\n",
      "Model Number: 1110 with model AverageValueNaive in generation 11 of 25\n",
      "Model Number: 1111 with model Cassandra in generation 11 of 25\n"
     ]
    },
    {
     "name": "stderr",
     "output_type": "stream",
     "text": [
      "C:\\ProgramData\\anaconda3\\envs\\nlp-env\\lib\\site-packages\\statsmodels\\genmod\\families\\links.py:198: RuntimeWarning: overflow encountered in exp\n",
      "  t = np.exp(-z)\n",
      "C:\\ProgramData\\anaconda3\\envs\\nlp-env\\lib\\site-packages\\numpy\\lib\\function_base.py:2853: RuntimeWarning: invalid value encountered in divide\n",
      "  c /= stddev[:, None]\n",
      "C:\\ProgramData\\anaconda3\\envs\\nlp-env\\lib\\site-packages\\numpy\\lib\\function_base.py:2854: RuntimeWarning: invalid value encountered in divide\n",
      "  c /= stddev[None, :]\n"
     ]
    },
    {
     "name": "stdout",
     "output_type": "stream",
     "text": [
      "Model Number: 1112 with model FFT in generation 11 of 25\n",
      "Model Number: 1113 with model SeasonalityMotif in generation 11 of 25\n",
      "Template Eval Error: ValueError('Model SeasonalityMotif returned NaN for one or more series. fail_on_forecast_nan=True') in model 1113 in generation 11: SeasonalityMotif\n",
      "Model Number: 1114 with model SectionalMotif in generation 11 of 25\n",
      "Model Number: 1115 with model UnivariateMotif in generation 11 of 25\n",
      "Model Number: 1116 with model UnivariateMotif in generation 11 of 25\n",
      "Model Number: 1117 with model UnivariateMotif in generation 11 of 25\n",
      "Model Number: 1118 with model MetricMotif in generation 11 of 25\n",
      "Model Number: 1119 with model SeasonalityMotif in generation 11 of 25\n",
      "Model Number: 1120 with model Cassandra in generation 11 of 25\n"
     ]
    },
    {
     "name": "stderr",
     "output_type": "stream",
     "text": [
      "C:\\ProgramData\\anaconda3\\envs\\nlp-env\\lib\\site-packages\\sklearn\\linear_model\\_coordinate_descent.py:631: ConvergenceWarning: Objective did not converge. You might want to increase the number of iterations, check the scale of the features or consider increasing regularisation. Duality gap: 9.276e+03, tolerance: 5.879e+00\n",
      "  model = cd_fast.enet_coordinate_descent(\n",
      "C:\\ProgramData\\anaconda3\\envs\\nlp-env\\lib\\site-packages\\numpy\\core\\fromnumeric.py:3432: RuntimeWarning: Mean of empty slice.\n",
      "  return _methods._mean(a, axis=axis, dtype=dtype,\n",
      "C:\\ProgramData\\anaconda3\\envs\\nlp-env\\lib\\site-packages\\numpy\\core\\_methods.py:182: RuntimeWarning: invalid value encountered in divide\n",
      "  ret = um.true_divide(\n",
      "C:\\ProgramData\\anaconda3\\envs\\nlp-env\\lib\\site-packages\\sklearn\\linear_model\\_coordinate_descent.py:2418: ConvergenceWarning: Objective did not converge. You might want to increase the number of iterations. Duality gap: 8680.256221388696, tolerance: 5.076135016613357\n",
      "  ) = cd_fast.enet_coordinate_descent_multi_task(\n"
     ]
    },
    {
     "name": "stdout",
     "output_type": "stream",
     "text": [
      "Model Number: 1121 with model BasicLinearModel in generation 11 of 25\n"
     ]
    },
    {
     "name": "stderr",
     "output_type": "stream",
     "text": [
      "C:\\ProgramData\\anaconda3\\envs\\nlp-env\\lib\\site-packages\\autots\\tools\\thresholding.py:199: RuntimeWarning: divide by zero encountered in double_scalars\n",
      "  mean_perc_decrease = (\n",
      "C:\\ProgramData\\anaconda3\\envs\\nlp-env\\lib\\site-packages\\numpy\\lib\\function_base.py:2853: RuntimeWarning: invalid value encountered in divide\n",
      "  c /= stddev[:, None]\n",
      "C:\\ProgramData\\anaconda3\\envs\\nlp-env\\lib\\site-packages\\numpy\\lib\\function_base.py:2854: RuntimeWarning: invalid value encountered in divide\n",
      "  c /= stddev[None, :]\n",
      "C:\\ProgramData\\anaconda3\\envs\\nlp-env\\lib\\site-packages\\sklearn\\linear_model\\_coordinate_descent.py:631: ConvergenceWarning: Objective did not converge. You might want to increase the number of iterations, check the scale of the features or consider increasing regularisation. Duality gap: 3.420e+02, tolerance: 4.653e+00\n",
      "  model = cd_fast.enet_coordinate_descent(\n"
     ]
    },
    {
     "name": "stdout",
     "output_type": "stream",
     "text": [
      "Model Number: 1122 with model AverageValueNaive in generation 11 of 25\n",
      "Model Number: 1123 with model SeasonalityMotif in generation 11 of 25\n",
      "New Generation: 12 of 25\n",
      "Model Number: 1124 with model MetricMotif in generation 12 of 25\n",
      "Template Eval Error: IndexError('index 184 is out of bounds for axis 0 with size 100') in model 1124 in generation 12: MetricMotif\n",
      "Model Number: 1125 with model Cassandra in generation 12 of 25\n",
      "Template Eval Error: Exception(\"Transformer Detrend failed on fit from params rolling_mean_24 {'0': {'model': 'Linear', 'phi': 1, 'window': None, 'transform_dict': {'fillna': None, 'transformations': {'0': 'AnomalyRemoval'}, 'transformation_params': {'0': {'method': 'zscore', 'transform_dict': {'transformations': {'0': 'DatepartRegression'}, 'transformation_params': {'0': {'datepart_method': 'simple_3', 'regression_model': {'model': 'ElasticNet', 'model_params': {}}}}}, 'method_params': {'distribution': 'uniform', 'alpha': 0.05}}}}}, '1': {'mode': 'upscale', 'factor': 3, 'down_method': 'mean', 'fill_method': 'pchip'}, '2': {'method': 'remove', 'std_threshold': 4.5, 'fillna': 'rolling_mean_24'}, '3': {'model': 'ElasticNet', 'changepoint_spacing': 120, 'changepoint_distance_end': 180, 'datepart_method': 'common_fourier'}} with error ValueError('Input y contains NaN.')\") in model 1125 in generation 12: Cassandra\n",
      "Model Number: 1126 with model UnivariateMotif in generation 12 of 25\n",
      "Model Number: 1127 with model SectionalMotif in generation 12 of 25\n",
      "Model Number: 1128 with model Cassandra in generation 12 of 25\n",
      "Template Eval Error: Exception(\"Transformer BTCD failed on fit from params fake_date {'0': {'rows': 1, 'lag': 84, 'method': 'additive', 'strength': 1.0, 'first_value_only': False, 'threshold': 1, 'threshold_method': 'max'}, '1': {}, '2': {}, '3': {'model': 'ElasticNet', 'changepoint_spacing': 120, 'changepoint_distance_end': 180, 'datepart_method': 'common_fourier'}, '4': {'regression_model': {'model': 'FastRidge', 'model_params': {}}, 'max_lags': 1}} with error ValueError('BTCD only works on multivarate series')\") in model 1128 in generation 12: Cassandra\n",
      "Model Number: 1129 with model LastValueNaive in generation 12 of 25\n",
      "Model Number: 1130 with model BasicLinearModel in generation 12 of 25\n",
      "Template Eval Error: ValueError(\"regression_type=='User' but no future_regressor supplied\") in model 1130 in generation 12: BasicLinearModel\n",
      "Model Number: 1131 with model LastValueNaive in generation 12 of 25\n"
     ]
    },
    {
     "name": "stderr",
     "output_type": "stream",
     "text": [
      "C:\\ProgramData\\anaconda3\\envs\\nlp-env\\lib\\site-packages\\sklearn\\linear_model\\_coordinate_descent.py:631: ConvergenceWarning: Objective did not converge. You might want to increase the number of iterations, check the scale of the features or consider increasing regularisation. Duality gap: 7.034e+03, tolerance: 3.726e+00\n",
      "  model = cd_fast.enet_coordinate_descent(\n"
     ]
    },
    {
     "name": "stdout",
     "output_type": "stream",
     "text": [
      "Model Number: 1132 with model SeasonalityMotif in generation 12 of 25\n",
      "Model Number: 1133 with model MetricMotif in generation 12 of 25\n",
      "Template Eval Error: IndexError('index 176 is out of bounds for axis 0 with size 100') in model 1133 in generation 12: MetricMotif\n",
      "Model Number: 1134 with model UnivariateMotif in generation 12 of 25\n",
      "Model Number: 1135 with model SectionalMotif in generation 12 of 25\n",
      "Model Number: 1136 with model BasicLinearModel in generation 12 of 25\n",
      "Model Number: 1137 with model ARDL in generation 12 of 25\n",
      "Model Number: 1138 with model SeasonalityMotif in generation 12 of 25\n",
      "Model Number: 1139 with model BasicLinearModel in generation 12 of 25\n"
     ]
    },
    {
     "name": "stderr",
     "output_type": "stream",
     "text": [
      "C:\\ProgramData\\anaconda3\\envs\\nlp-env\\lib\\site-packages\\autots\\tools\\percentile.py:47: RuntimeWarning: All-NaN slice encountered\n",
      "  max_val = np.nanmax(arr)\n",
      "C:\\ProgramData\\anaconda3\\envs\\nlp-env\\lib\\site-packages\\sklearn\\neighbors\\_classification.py:215: DataConversionWarning: A column-vector y was passed when a 1d array was expected. Please change the shape of y to (n_samples,), for example using ravel().\n",
      "  return self._fit(X, y)\n",
      "C:\\ProgramData\\anaconda3\\envs\\nlp-env\\lib\\site-packages\\sklearn\\linear_model\\_coordinate_descent.py:631: ConvergenceWarning: Objective did not converge. You might want to increase the number of iterations, check the scale of the features or consider increasing regularisation. Duality gap: 1.167e+04, tolerance: 6.901e+00\n",
      "  model = cd_fast.enet_coordinate_descent(\n"
     ]
    },
    {
     "name": "stdout",
     "output_type": "stream",
     "text": [
      "Model Number: 1140 with model AverageValueNaive in generation 12 of 25\n",
      "Model Number: 1141 with model MetricMotif in generation 12 of 25\n",
      "Model Number: 1142 with model GLM in generation 12 of 25\n",
      "Model Number: 1143 with model DatepartRegression in generation 12 of 25\n",
      "Model Number: 1144 with model Cassandra in generation 12 of 25\n",
      "Model Number: 1145 with model Cassandra in generation 12 of 25\n",
      "Model Number: 1146 with model LastValueNaive in generation 12 of 25\n",
      "Model Number: 1147 with model MetricMotif in generation 12 of 25\n",
      "Model Number: 1148 with model LastValueNaive in generation 12 of 25\n",
      "Model Number: 1149 with model SeasonalNaive in generation 12 of 25\n",
      "Model Number: 1150 with model MetricMotif in generation 12 of 25\n",
      "Model Number: 1151 with model LastValueNaive in generation 12 of 25\n",
      "Model Number: 1152 with model BasicLinearModel in generation 12 of 25\n"
     ]
    },
    {
     "name": "stderr",
     "output_type": "stream",
     "text": [
      "C:\\ProgramData\\anaconda3\\envs\\nlp-env\\lib\\site-packages\\sklearn\\linear_model\\_coordinate_descent.py:631: ConvergenceWarning: Objective did not converge. You might want to increase the number of iterations, check the scale of the features or consider increasing regularisation. Duality gap: 7.188e+01, tolerance: 1.306e+00\n",
      "  model = cd_fast.enet_coordinate_descent(\n",
      "C:\\ProgramData\\anaconda3\\envs\\nlp-env\\lib\\site-packages\\sklearn\\neighbors\\_classification.py:215: DataConversionWarning: A column-vector y was passed when a 1d array was expected. Please change the shape of y to (n_samples,), for example using ravel().\n",
      "  return self._fit(X, y)\n",
      "C:\\ProgramData\\anaconda3\\envs\\nlp-env\\lib\\site-packages\\sklearn\\linear_model\\_coordinate_descent.py:631: ConvergenceWarning: Objective did not converge. You might want to increase the number of iterations, check the scale of the features or consider increasing regularisation. Duality gap: 2.977e+03, tolerance: 1.533e+00\n",
      "  model = cd_fast.enet_coordinate_descent(\n"
     ]
    },
    {
     "name": "stdout",
     "output_type": "stream",
     "text": [
      "Model Number: 1153 with model Cassandra in generation 12 of 25\n",
      "Template Eval Error: ValueError('Model Cassandra returned NaN for one or more series. fail_on_forecast_nan=True') in model 1153 in generation 12: Cassandra\n",
      "Model Number: 1154 with model ARDL in generation 12 of 25\n",
      "Model Number: 1155 with model UnivariateMotif in generation 12 of 25\n",
      "Model Number: 1156 with model ARDL in generation 12 of 25\n",
      "Model Number: 1157 with model SeasonalityMotif in generation 12 of 25\n",
      "Model Number: 1158 with model FFT in generation 12 of 25\n",
      "Template Eval Error: Exception(\"Transformer Cointegration failed on fit from params zero {'0': {'det_order': 1, 'k_ar_diff': 2}, '1': {'rows': 2}, '2': {}, '3': {'model': 'ElasticNet', 'changepoint_spacing': 120, 'changepoint_distance_end': 180, 'datepart_method': 'common_fourier'}, '4': {'rows': 7, 'lag': 1, 'method': 'additive', 'strength': 1.0, 'first_value_only': False, 'threshold': 1, 'threshold_method': 'max'}, '5': {}} with error ValueError('Coint only works on multivarate series')\") in model 1158 in generation 12: FFT\n",
      "Model Number: 1159 with model BasicLinearModel in generation 12 of 25\n",
      "Model Number: 1160 with model UnivariateMotif in generation 12 of 25\n",
      "Model Number: 1161 with model GLM in generation 12 of 25\n",
      "Model Number: 1162 with model UnivariateMotif in generation 12 of 25\n",
      "Model Number: 1163 with model BasicLinearModel in generation 12 of 25\n",
      "Model Number: 1164 with model DatepartRegression in generation 12 of 25\n"
     ]
    },
    {
     "name": "stderr",
     "output_type": "stream",
     "text": [
      "C:\\ProgramData\\anaconda3\\envs\\nlp-env\\lib\\site-packages\\sklearn\\linear_model\\_coordinate_descent.py:631: ConvergenceWarning: Objective did not converge. You might want to increase the number of iterations, check the scale of the features or consider increasing regularisation. Duality gap: 1.189e+04, tolerance: 6.806e+00\n",
      "  model = cd_fast.enet_coordinate_descent(\n",
      "C:\\ProgramData\\anaconda3\\envs\\nlp-env\\lib\\site-packages\\sklearn\\neighbors\\_classification.py:215: DataConversionWarning: A column-vector y was passed when a 1d array was expected. Please change the shape of y to (n_samples,), for example using ravel().\n",
      "  return self._fit(X, y)\n"
     ]
    },
    {
     "name": "stdout",
     "output_type": "stream",
     "text": [
      "Model Number: 1165 with model LastValueNaive in generation 12 of 25\n",
      "Template Eval Error: Exception(\"Transformer BTCD failed on fit from params rolling_mean_24 {'0': {'lag_1': 28, 'method': 20}, '1': {'regression_model': {'model': 'LinearRegression', 'model_params': {}}, 'max_lags': 1}, '2': {}, '3': {'numtaps': 4, 'cutoff_hz': 50, 'window': ['exponential', None, 3.0], 'sampling_frequency': 2, 'on_transform': False, 'on_inverse': True, 'bounds_only': False}} with error ValueError('BTCD only works on multivarate series')\") in model 1165 in generation 12: LastValueNaive\n",
      "Model Number: 1166 with model MetricMotif in generation 12 of 25\n",
      "Template Eval Error: Exception('Transformer Detrend failed on fit') in model 1166 in generation 12: MetricMotif\n",
      "Model Number: 1167 with model GLM in generation 12 of 25\n",
      "Model Number: 1168 with model SeasonalityMotif in generation 12 of 25\n",
      "Model Number: 1169 with model AverageValueNaive in generation 12 of 25\n",
      "Template Eval Error: Exception(\"Transformer BTCD failed on fit from params rolling_mean {'0': {}, '1': {'rolling_window': 30, 'n_tails': 0.1, 'n_future': 0.05, 'method': 'mean', 'macro_micro': False}, '2': {'regression_model': {'model': 'FastRidge', 'model_params': {}}, 'max_lags': 2}} with error ValueError('BTCD only works on multivarate series')\") in model 1169 in generation 12: AverageValueNaive\n",
      "Model Number: 1170 with model SeasonalityMotif in generation 12 of 25\n",
      "Model Number: 1171 with model GLM in generation 12 of 25\n",
      "Model Number: 1172 with model SectionalMotif in generation 12 of 25\n",
      "Model Number: 1173 with model Cassandra in generation 12 of 25\n"
     ]
    },
    {
     "name": "stderr",
     "output_type": "stream",
     "text": [
      "C:\\ProgramData\\anaconda3\\envs\\nlp-env\\lib\\site-packages\\statsmodels\\genmod\\families\\family.py:1650: RuntimeWarning: invalid value encountered in log\n",
      "  endog * np.log(endog / mu) + (mu - endog))\n",
      "C:\\ProgramData\\anaconda3\\envs\\nlp-env\\lib\\site-packages\\sklearn\\neighbors\\_classification.py:215: DataConversionWarning: A column-vector y was passed when a 1d array was expected. Please change the shape of y to (n_samples,), for example using ravel().\n",
      "  return self._fit(X, y)\n"
     ]
    },
    {
     "name": "stdout",
     "output_type": "stream",
     "text": [
      "Model Number: 1174 with model BasicLinearModel in generation 12 of 25\n",
      "Model Number: 1175 with model LastValueNaive in generation 12 of 25\n",
      "Model Number: 1176 with model DatepartRegression in generation 12 of 25\n",
      "interpolating\n",
      "Template Eval Error: ValueError('Model DatepartRegression returned NaN for one or more series. fail_on_forecast_nan=True') in model 1176 in generation 12: DatepartRegression\n",
      "Model Number: 1177 with model UnivariateMotif in generation 12 of 25\n",
      "Model Number: 1178 with model SectionalMotif in generation 12 of 25\n",
      "Model Number: 1179 with model DatepartRegression in generation 12 of 25\n",
      "Model Number: 1180 with model UnivariateMotif in generation 12 of 25\n",
      "Model Number: 1181 with model SectionalMotif in generation 12 of 25\n",
      "Model Number: 1182 with model FFT in generation 12 of 25\n"
     ]
    },
    {
     "name": "stderr",
     "output_type": "stream",
     "text": [
      "C:\\ProgramData\\anaconda3\\envs\\nlp-env\\lib\\site-packages\\sklearn\\neighbors\\_regression.py:494: UserWarning: One or more samples have no neighbors within specified radius; predicting NaN.\n",
      "  warnings.warn(empty_warning_msg)\n",
      "C:\\ProgramData\\anaconda3\\envs\\nlp-env\\lib\\site-packages\\sklearn\\linear_model\\_coordinate_descent.py:2418: ConvergenceWarning: Objective did not converge. You might want to increase the number of iterations. Duality gap: 278.67706298828125, tolerance: 0.48207738995552063\n",
      "  ) = cd_fast.enet_coordinate_descent_multi_task(\n",
      "C:\\ProgramData\\anaconda3\\envs\\nlp-env\\lib\\site-packages\\sklearn\\linear_model\\_coordinate_descent.py:631: ConvergenceWarning: Objective did not converge. You might want to increase the number of iterations, check the scale of the features or consider increasing regularisation. Duality gap: 7.188e+01, tolerance: 1.306e+00\n",
      "  model = cd_fast.enet_coordinate_descent(\n",
      "C:\\ProgramData\\anaconda3\\envs\\nlp-env\\lib\\site-packages\\sklearn\\linear_model\\_coordinate_descent.py:631: ConvergenceWarning: Objective did not converge. You might want to increase the number of iterations, check the scale of the features or consider increasing regularisation. Duality gap: 7.188e+01, tolerance: 1.306e+00\n",
      "  model = cd_fast.enet_coordinate_descent(\n"
     ]
    },
    {
     "name": "stdout",
     "output_type": "stream",
     "text": [
      "Model Number: 1183 with model SectionalMotif in generation 12 of 25\n",
      "Model Number: 1184 with model GLM in generation 12 of 25\n",
      "Template Eval Error: ValueError('The first guess on the deviance function returned a nan.  This could be a boundary  problem and should be reported.') in model 1184 in generation 12: GLM\n",
      "Model Number: 1185 with model Cassandra in generation 12 of 25\n",
      "Template Eval Error: Exception(\"Transformer BTCD failed on fit from params rolling_mean_24 {'0': {'rows': 1, 'lag': 84, 'method': 'additive', 'strength': 1.0, 'first_value_only': False, 'threshold': 1, 'threshold_method': 'max'}, '1': {}, '2': {}, '3': {}, '4': {'regression_model': {'model': 'FastRidge', 'model_params': {}}, 'max_lags': 1}} with error ValueError('BTCD only works on multivarate series')\") in model 1185 in generation 12: Cassandra\n",
      "Model Number: 1186 with model BasicLinearModel in generation 12 of 25\n",
      "New Generation: 13 of 25\n",
      "Model Number: 1187 with model GLM in generation 13 of 25\n"
     ]
    },
    {
     "name": "stderr",
     "output_type": "stream",
     "text": [
      "C:\\ProgramData\\anaconda3\\envs\\nlp-env\\lib\\site-packages\\statsmodels\\genmod\\families\\family.py:188: RuntimeWarning: invalid value encountered in divide\n",
      "  return np.sum(resid_dev * freq_weights * var_weights / scale)\n",
      "C:\\ProgramData\\anaconda3\\envs\\nlp-env\\lib\\site-packages\\sklearn\\linear_model\\_coordinate_descent.py:631: ConvergenceWarning: Objective did not converge. You might want to increase the number of iterations, check the scale of the features or consider increasing regularisation. Duality gap: 5.997e+02, tolerance: 1.338e+00\n",
      "  model = cd_fast.enet_coordinate_descent(\n"
     ]
    },
    {
     "name": "stdout",
     "output_type": "stream",
     "text": [
      "Template Eval Error: Exception(\"Transformer Cointegration failed on fit from params linear {'0': {'det_order': -1, 'k_ar_diff': 2}, '1': {'rows': 1, 'lag': 1, 'method': 'multiplicative', 'strength': 0.7, 'first_value_only': False, 'threshold': 3, 'threshold_method': 'mean'}, '2': {'span': 7}, '3': {'rows': 1, 'lag': 7, 'method': 'additive', 'strength': 1.0, 'first_value_only': False, 'threshold': None, 'threshold_method': 'mean'}, '4': {'n_harmonics': 10, 'detrend': 'quadratic'}} with error ValueError('Coint only works on multivarate series')\") in model 1187 in generation 13: GLM\n",
      "Model Number: 1188 with model Cassandra in generation 13 of 25\n",
      "Template Eval Error: ValueError('more than 1 year of data is required for holiday detection.') in model 1188 in generation 13: Cassandra\n",
      "Model Number: 1189 with model FFT in generation 13 of 25\n",
      "Model Number: 1190 with model BasicLinearModel in generation 13 of 25\n",
      "Model Number: 1191 with model UnivariateMotif in generation 13 of 25\n",
      "Model Number: 1192 with model GLM in generation 13 of 25\n",
      "Model Number: 1193 with model DatepartRegression in generation 13 of 25\n",
      "Model Number: 1194 with model ARDL in generation 13 of 25\n",
      "Model Number: 1195 with model ARDL in generation 13 of 25\n",
      "Model Number: 1196 with model MetricMotif in generation 13 of 25\n",
      "Template Eval Error: IndexError('index 178 is out of bounds for axis 0 with size 100') in model 1196 in generation 13: MetricMotif\n",
      "Model Number: 1197 with model LastValueNaive in generation 13 of 25\n",
      "Model Number: 1198 with model GLM in generation 13 of 25\n",
      "Model Number: 1199 with model Cassandra in generation 13 of 25\n",
      "Model Number: 1200 with model BasicLinearModel in generation 13 of 25\n"
     ]
    },
    {
     "name": "stderr",
     "output_type": "stream",
     "text": [
      "C:\\ProgramData\\anaconda3\\envs\\nlp-env\\lib\\site-packages\\statsmodels\\genmod\\families\\family.py:1650: RuntimeWarning: invalid value encountered in log\n",
      "  endog * np.log(endog / mu) + (mu - endog))\n",
      "C:\\ProgramData\\anaconda3\\envs\\nlp-env\\lib\\site-packages\\autots\\tools\\thresholding.py:204: RuntimeWarning: overflow encountered in double_scalars\n",
      "  (1 + mean_perc_decrease) ** self.mean_weight\n"
     ]
    },
    {
     "name": "stdout",
     "output_type": "stream",
     "text": [
      "Model Number: 1201 with model AverageValueNaive in generation 13 of 25\n",
      "Model Number: 1202 with model BasicLinearModel in generation 13 of 25\n",
      "Model Number: 1203 with model DatepartRegression in generation 13 of 25\n"
     ]
    },
    {
     "name": "stderr",
     "output_type": "stream",
     "text": [
      "C:\\ProgramData\\anaconda3\\envs\\nlp-env\\lib\\site-packages\\sklearn\\linear_model\\_coordinate_descent.py:631: ConvergenceWarning: Objective did not converge. You might want to increase the number of iterations, check the scale of the features or consider increasing regularisation. Duality gap: 7.188e+01, tolerance: 1.306e+00\n",
      "  model = cd_fast.enet_coordinate_descent(\n"
     ]
    },
    {
     "name": "stdout",
     "output_type": "stream",
     "text": [
      "Model Number: 1204 with model LastValueNaive in generation 13 of 25\n",
      "Model Number: 1205 with model MetricMotif in generation 13 of 25\n",
      "Template Eval Error: IndexError('index 178 is out of bounds for axis 0 with size 100') in model 1205 in generation 13: MetricMotif\n",
      "Model Number: 1206 with model Cassandra in generation 13 of 25\n",
      "Model Number: 1207 with model GLM in generation 13 of 25\n",
      "Model Number: 1208 with model UnivariateMotif in generation 13 of 25\n"
     ]
    },
    {
     "name": "stderr",
     "output_type": "stream",
     "text": [
      "C:\\ProgramData\\anaconda3\\envs\\nlp-env\\lib\\site-packages\\sklearn\\linear_model\\_coordinate_descent.py:631: ConvergenceWarning: Objective did not converge. You might want to increase the number of iterations, check the scale of the features or consider increasing regularisation. Duality gap: 9.276e+03, tolerance: 5.879e+00\n",
      "  model = cd_fast.enet_coordinate_descent(\n",
      "C:\\ProgramData\\anaconda3\\envs\\nlp-env\\lib\\site-packages\\numpy\\lib\\function_base.py:2853: RuntimeWarning: invalid value encountered in divide\n",
      "  c /= stddev[:, None]\n",
      "C:\\ProgramData\\anaconda3\\envs\\nlp-env\\lib\\site-packages\\numpy\\lib\\function_base.py:2854: RuntimeWarning: invalid value encountered in divide\n",
      "  c /= stddev[None, :]\n",
      "C:\\ProgramData\\anaconda3\\envs\\nlp-env\\lib\\site-packages\\statsmodels\\genmod\\families\\links.py:198: RuntimeWarning: overflow encountered in exp\n",
      "  t = np.exp(-z)\n"
     ]
    },
    {
     "name": "stdout",
     "output_type": "stream",
     "text": [
      "Model Number: 1209 with model MetricMotif in generation 13 of 25\n",
      "Model Number: 1210 with model UnivariateMotif in generation 13 of 25\n",
      "Template Eval Error: ValueError('operands could not be broadcast together with shapes (54,1) (10,1) ') in model 1210 in generation 13: UnivariateMotif\n",
      "Model Number: 1211 with model DatepartRegression in generation 13 of 25\n",
      "Template Eval Error: ValueError(\"regression_type='User' but no future_regressor passed\") in model 1211 in generation 13: DatepartRegression\n",
      "Model Number: 1212 with model GLM in generation 13 of 25\n",
      "Model Number: 1213 with model LastValueNaive in generation 13 of 25\n",
      "Model Number: 1214 with model SectionalMotif in generation 13 of 25\n",
      "Model Number: 1215 with model LastValueNaive in generation 13 of 25\n",
      "Model Number: 1216 with model UnivariateMotif in generation 13 of 25\n",
      "Model Number: 1217 with model GLM in generation 13 of 25\n",
      "Model Number: 1218 with model BasicLinearModel in generation 13 of 25\n",
      "Model Number: 1219 with model SeasonalityMotif in generation 13 of 25\n",
      "Model Number: 1220 with model DatepartRegression in generation 13 of 25\n",
      "Template Eval Error: IndexError('tuple index out of range') in model 1220 in generation 13: DatepartRegression\n",
      "Model Number: 1221 with model SeasonalityMotif in generation 13 of 25\n",
      "Model Number: 1222 with model UnivariateMotif in generation 13 of 25\n",
      "Model Number: 1223 with model SeasonalityMotif in generation 13 of 25\n",
      "Model Number: 1224 with model Cassandra in generation 13 of 25\n",
      "Model Number: 1225 with model BasicLinearModel in generation 13 of 25\n"
     ]
    },
    {
     "name": "stderr",
     "output_type": "stream",
     "text": [
      "C:\\ProgramData\\anaconda3\\envs\\nlp-env\\lib\\site-packages\\statsmodels\\genmod\\families\\family.py:1367: ValueWarning: Negative binomial dispersion parameter alpha not set. Using default value alpha=1.0.\n",
      "  warnings.warn(\"Negative binomial dispersion parameter alpha not \"\n",
      "C:\\ProgramData\\anaconda3\\envs\\nlp-env\\lib\\site-packages\\numpy\\lib\\function_base.py:2853: RuntimeWarning: invalid value encountered in divide\n",
      "  c /= stddev[:, None]\n",
      "C:\\ProgramData\\anaconda3\\envs\\nlp-env\\lib\\site-packages\\numpy\\lib\\function_base.py:2854: RuntimeWarning: invalid value encountered in divide\n",
      "  c /= stddev[None, :]\n"
     ]
    },
    {
     "name": "stdout",
     "output_type": "stream",
     "text": [
      "Model Number: 1226 with model GLS in generation 13 of 25\n",
      "Model Number: 1227 with model Cassandra in generation 13 of 25\n",
      "Template Eval Error: ValueError('more than 1 year of data is required for holiday detection.') in model 1227 in generation 13: Cassandra\n",
      "Model Number: 1228 with model GLM in generation 13 of 25\n",
      "Model Number: 1229 with model MetricMotif in generation 13 of 25\n",
      "Model Number: 1230 with model FFT in generation 13 of 25\n",
      "Template Eval Error: Exception(\"Transformer BTCD failed on fit from params ffill {'0': {'lag_1': 28, 'method': 20}, '1': {'regression_model': {'model': 'LinearRegression', 'model_params': {}}, 'max_lags': 2}, '2': {}, '3': {'method': 0.9}, '4': {'n_harmonics': 10, 'detrend': 'quadratic'}, '5': {}} with error ValueError('BTCD only works on multivarate series')\") in model 1230 in generation 13: FFT\n",
      "Model Number: 1231 with model Cassandra in generation 13 of 25\n",
      "Template Eval Error: ValueError('negative dimensions are not allowed') in model 1231 in generation 13: Cassandra\n",
      "Model Number: 1232 with model AverageValueNaive in generation 13 of 25\n"
     ]
    },
    {
     "name": "stderr",
     "output_type": "stream",
     "text": [
      "C:\\ProgramData\\anaconda3\\envs\\nlp-env\\lib\\site-packages\\sklearn\\linear_model\\_coordinate_descent.py:631: ConvergenceWarning: Objective did not converge. You might want to increase the number of iterations, check the scale of the features or consider increasing regularisation. Duality gap: 6.940e+02, tolerance: 1.142e+00\n",
      "  model = cd_fast.enet_coordinate_descent(\n",
      "C:\\ProgramData\\anaconda3\\envs\\nlp-env\\lib\\site-packages\\statsmodels\\genmod\\families\\links.py:198: RuntimeWarning: overflow encountered in exp\n",
      "  t = np.exp(-z)\n"
     ]
    },
    {
     "name": "stdout",
     "output_type": "stream",
     "text": [
      "Model Number: 1233 with model LastValueNaive in generation 13 of 25\n",
      "Model Number: 1234 with model LastValueNaive in generation 13 of 25\n",
      "Model Number: 1235 with model BasicLinearModel in generation 13 of 25\n",
      "Model Number: 1236 with model MetricMotif in generation 13 of 25\n",
      "Template Eval Error: IndexError('index 148 is out of bounds for axis 0 with size 100') in model 1236 in generation 13: MetricMotif\n",
      "Model Number: 1237 with model Cassandra in generation 13 of 25\n",
      "Model Number: 1238 with model Cassandra in generation 13 of 25\n",
      "Model Number: 1239 with model FFT in generation 13 of 25\n",
      "Model Number: 1240 with model UnivariateMotif in generation 13 of 25\n",
      "Model Number: 1241 with model Cassandra in generation 13 of 25\n",
      "Model Number: 1242 with model ARDL in generation 13 of 25\n"
     ]
    },
    {
     "name": "stderr",
     "output_type": "stream",
     "text": [
      "C:\\ProgramData\\anaconda3\\envs\\nlp-env\\lib\\site-packages\\sklearn\\linear_model\\_ridge.py:216: LinAlgWarning: Ill-conditioned matrix (rcond=5.0416e-25): result may not be accurate.\n",
      "  return linalg.solve(A, Xy, assume_a=\"pos\", overwrite_a=True).T\n",
      "C:\\ProgramData\\anaconda3\\envs\\nlp-env\\lib\\site-packages\\numpy\\lib\\function_base.py:2853: RuntimeWarning: invalid value encountered in divide\n",
      "  c /= stddev[:, None]\n",
      "C:\\ProgramData\\anaconda3\\envs\\nlp-env\\lib\\site-packages\\numpy\\lib\\function_base.py:2854: RuntimeWarning: invalid value encountered in divide\n",
      "  c /= stddev[None, :]\n"
     ]
    },
    {
     "name": "stdout",
     "output_type": "stream",
     "text": [
      "Model Number: 1243 with model MetricMotif in generation 13 of 25\n",
      "Template Eval Error: Exception(\"Transformer AnomalyRemoval failed on fit from params linear {'0': {'method': '3forecastlength'}, '1': {'method': 'savgol_filter', 'method_args': {'window_length': 31, 'polyorder': 4, 'deriv': 0, 'mode': 'mirror'}}, '2': {'fixed': True, 'window': 180, 'macro_micro': True, 'center': True}, '3': {'method': 'EE', 'method_params': {'contamination': 0.1, 'assume_centered': False, 'support_fraction': None}, 'fillna': 'ffill', 'transform_dict': None, 'isolated_only': False, 'on_inverse': False}, '4': {'output_distribution': 'uniform', 'n_quantiles': 100}} with error ValueError('The covariance matrix of the support data is equal to 0, try to increase support_fraction')\") in model 1243 in generation 13: MetricMotif\n",
      "Model Number: 1244 with model SeasonalityMotif in generation 13 of 25\n",
      "Model Number: 1245 with model AverageValueNaive in generation 13 of 25\n",
      "Model Number: 1246 with model GLM in generation 13 of 25\n",
      "Model Number: 1247 with model UnivariateMotif in generation 13 of 25\n",
      "Model Number: 1248 with model ARDL in generation 13 of 25\n",
      "Model Number: 1249 with model FFT in generation 13 of 25\n",
      "New Generation: 14 of 25\n",
      "Model Number: 1250 with model AverageValueNaive in generation 14 of 25\n",
      "Model Number: 1251 with model Cassandra in generation 14 of 25\n",
      "Template Eval Error: ModuleNotFoundError(\"No module named 'lightgbm'\") in model 1251 in generation 14: Cassandra\n",
      "Model Number: 1252 with model Cassandra in generation 14 of 25\n",
      "Model Number: 1253 with model SectionalMotif in generation 14 of 25\n",
      "Template Eval Error: Exception('Transformer FIRFilter failed on fit from params akima {\\'0\\': {}, \\'1\\': {\\'numtaps\\': 128, \\'cutoff_hz\\': 0.01, \\'window\\': [\\'exponential\\', None, 0.25], \\'sampling_frequency\\': 7, \\'on_transform\\': True, \\'on_inverse\\': False, \\'bounds_only\\': False}, \\'2\\': {\\'lag_1\\': 28, \\'method\\': \\'LastValue\\'}, \\'3\\': {\\'rows\\': 1, \\'lag\\': 1, \\'method\\': \\'additive\\', \\'strength\\': 1.0, \\'first_value_only\\': False, \\'threshold\\': 10, \\'threshold_method\\': \\'max\\'}} with error ValueError(\"<class \\'list\\'> as window type is not supported.\")') in model 1253 in generation 14: SectionalMotif\n",
      "Model Number: 1254 with model Cassandra in generation 14 of 25\n",
      "Model Number: 1255 with model FFT in generation 14 of 25\n",
      "Template Eval Error: Exception(\"Transformer Cointegration failed on fit from params rolling_mean_24 {'0': {'det_order': 1, 'k_ar_diff': 0}, '1': {'det_order': -1, 'k_ar_diff': 0}, '2': {}, '3': {'model': 'ElasticNet', 'changepoint_spacing': 120, 'changepoint_distance_end': 180, 'datepart_method': 'common_fourier'}, '4': {'threshold': 0.9, 'splash_threshold': None, 'use_dayofmonth_holidays': True, 'use_wkdom_holidays': True, 'use_wkdeom_holidays': False, 'use_lunar_holidays': False, 'use_lunar_weekday': False, 'use_islamic_holidays': False, 'use_hebrew_holidays': False, 'use_hindu_holidays': True, 'anomaly_detector_params': {'method': 'rolling_zscore', 'method_params': {'distribution': 'chi2', 'alpha': 0.05, 'rolling_periods': 28, 'center': True}, 'fillna': 'linear', 'transform_dict': {'transformations': {'0': 'DatepartRegression'}, 'transformation_params': {'0': {'datepart_method': 'simple_3', 'regression_model': {'model': 'DecisionTree', 'model_params': {'max_depth': None, 'min_samples_split': 0.1}}}}}, 'isolated_only': True, 'on_inverse': False}, 'remove_excess_anomalies': True, 'impact': 'anomaly_score', 'regression_params': {}}} with error ValueError('Coint only works on multivarate series')\") in model 1255 in generation 14: FFT\n",
      "Model Number: 1256 with model SeasonalityMotif in generation 14 of 25\n",
      "Model Number: 1257 with model LastValueNaive in generation 14 of 25\n",
      "Model Number: 1258 with model LastValueNaive in generation 14 of 25\n",
      "Model Number: 1259 with model UnivariateMotif in generation 14 of 25\n",
      "Model Number: 1260 with model LastValueNaive in generation 14 of 25\n",
      "Model Number: 1261 with model SeasonalityMotif in generation 14 of 25\n"
     ]
    },
    {
     "name": "stderr",
     "output_type": "stream",
     "text": [
      "C:\\ProgramData\\anaconda3\\envs\\nlp-env\\lib\\site-packages\\numpy\\lib\\function_base.py:2853: RuntimeWarning: invalid value encountered in divide\n",
      "  c /= stddev[:, None]\n",
      "C:\\ProgramData\\anaconda3\\envs\\nlp-env\\lib\\site-packages\\numpy\\lib\\function_base.py:2854: RuntimeWarning: invalid value encountered in divide\n",
      "  c /= stddev[None, :]\n"
     ]
    },
    {
     "name": "stdout",
     "output_type": "stream",
     "text": [
      "Model Number: 1262 with model UnivariateMotif in generation 14 of 25\n",
      "Model Number: 1263 with model LastValueNaive in generation 14 of 25\n",
      "Model Number: 1264 with model BasicLinearModel in generation 14 of 25\n",
      "Model Number: 1265 with model MetricMotif in generation 14 of 25\n",
      "Template Eval Error: IndexError('index 177 is out of bounds for axis 0 with size 100') in model 1265 in generation 14: MetricMotif\n",
      "Model Number: 1266 with model FFT in generation 14 of 25\n",
      "Model Number: 1267 with model SectionalMotif in generation 14 of 25\n",
      "Model Number: 1268 with model ARDL in generation 14 of 25\n",
      "Template Eval Error: ValueError(\"regression_type='User' but future_regressor not supplied\") in model 1268 in generation 14: ARDL\n",
      "Model Number: 1269 with model AverageValueNaive in generation 14 of 25\n"
     ]
    },
    {
     "name": "stderr",
     "output_type": "stream",
     "text": [
      "C:\\ProgramData\\anaconda3\\envs\\nlp-env\\lib\\site-packages\\sklearn\\linear_model\\_coordinate_descent.py:631: ConvergenceWarning: Objective did not converge. You might want to increase the number of iterations, check the scale of the features or consider increasing regularisation. Duality gap: 6.582e+03, tolerance: 5.488e+00\n",
      "  model = cd_fast.enet_coordinate_descent(\n",
      "C:\\ProgramData\\anaconda3\\envs\\nlp-env\\lib\\site-packages\\sklearn\\linear_model\\_coordinate_descent.py:631: ConvergenceWarning: Objective did not converge. You might want to increase the number of iterations, check the scale of the features or consider increasing regularisation. Duality gap: 1.337e+02, tolerance: 1.411e+00\n",
      "  model = cd_fast.enet_coordinate_descent(\n"
     ]
    },
    {
     "name": "stdout",
     "output_type": "stream",
     "text": [
      "Model Number: 1270 with model ARDL in generation 14 of 25\n",
      "Model Number: 1271 with model UnivariateMotif in generation 14 of 25\n",
      "Model Number: 1272 with model SectionalMotif in generation 14 of 25\n",
      "Model Number: 1273 with model BasicLinearModel in generation 14 of 25\n",
      "Model Number: 1274 with model GLM in generation 14 of 25\n",
      "Model Number: 1275 with model SeasonalityMotif in generation 14 of 25\n",
      "Model Number: 1276 with model MetricMotif in generation 14 of 25\n",
      "Template Eval Error: IndexError('index 172 is out of bounds for axis 0 with size 100') in model 1276 in generation 14: MetricMotif\n",
      "Model Number: 1277 with model UnivariateMotif in generation 14 of 25\n",
      "Model Number: 1278 with model BasicLinearModel in generation 14 of 25\n"
     ]
    },
    {
     "name": "stderr",
     "output_type": "stream",
     "text": [
      "C:\\ProgramData\\anaconda3\\envs\\nlp-env\\lib\\site-packages\\sklearn\\linear_model\\_coordinate_descent.py:631: ConvergenceWarning: Objective did not converge. You might want to increase the number of iterations, check the scale of the features or consider increasing regularisation. Duality gap: 1.292e+02, tolerance: 1.013e+00\n",
      "  model = cd_fast.enet_coordinate_descent(\n",
      "C:\\ProgramData\\anaconda3\\envs\\nlp-env\\lib\\site-packages\\statsmodels\\genmod\\families\\family.py:1650: RuntimeWarning: invalid value encountered in log\n",
      "  endog * np.log(endog / mu) + (mu - endog))\n"
     ]
    },
    {
     "name": "stdout",
     "output_type": "stream",
     "text": [
      "Model Number: 1279 with model BasicLinearModel in generation 14 of 25\n",
      "Model Number: 1280 with model Cassandra in generation 14 of 25\n",
      "Template Eval Error: Exception(\"Transformer BTCD failed on fit from params ffill {'0': {'regression_model': {'model': 'FastRidge', 'model_params': {}}, 'max_lags': 2}, '1': {}, '2': {'lag': 1, 'fill': 'bfill'}, '3': {}, '4': {'low': 6, 'high': 32, 'K': 25, 'lanczos_factor': False, 'return_diff': True, 'on_transform': True, 'on_inverse': False}} with error ValueError('BTCD only works on multivarate series')\") in model 1280 in generation 14: Cassandra\n",
      "Model Number: 1281 with model FFT in generation 14 of 25\n",
      "Model Number: 1282 with model LastValueNaive in generation 14 of 25\n",
      "Model Number: 1283 with model DatepartRegression in generation 14 of 25\n",
      "Template Eval Error: ValueError(\"regression_type='User' but no future_regressor passed\") in model 1283 in generation 14: DatepartRegression\n",
      "Model Number: 1284 with model GLM in generation 14 of 25\n",
      "Model Number: 1285 with model BasicLinearModel in generation 14 of 25\n"
     ]
    },
    {
     "name": "stderr",
     "output_type": "stream",
     "text": [
      "C:\\ProgramData\\anaconda3\\envs\\nlp-env\\lib\\site-packages\\statsmodels\\genmod\\generalized_linear_model.py:308: DomainWarning: The InversePower link function does not respect the domain of the Gamma family.\n",
      "  warnings.warn((f\"The {type(family.link).__name__} link function \"\n"
     ]
    },
    {
     "name": "stdout",
     "output_type": "stream",
     "text": [
      "Model Number: 1286 with model BasicLinearModel in generation 14 of 25\n",
      "Model Number: 1287 with model MetricMotif in generation 14 of 25\n",
      "Template Eval Error: IndexError('index 138 is out of bounds for axis 0 with size 100') in model 1287 in generation 14: MetricMotif\n",
      "Model Number: 1288 with model ARDL in generation 14 of 25\n",
      "Model Number: 1289 with model UnivariateMotif in generation 14 of 25\n"
     ]
    },
    {
     "name": "stderr",
     "output_type": "stream",
     "text": [
      "C:\\ProgramData\\anaconda3\\envs\\nlp-env\\lib\\site-packages\\sklearn\\neighbors\\_classification.py:215: DataConversionWarning: A column-vector y was passed when a 1d array was expected. Please change the shape of y to (n_samples,), for example using ravel().\n",
      "  return self._fit(X, y)\n",
      "C:\\ProgramData\\anaconda3\\envs\\nlp-env\\lib\\site-packages\\sklearn\\linear_model\\_coordinate_descent.py:631: ConvergenceWarning: Objective did not converge. You might want to increase the number of iterations, check the scale of the features or consider increasing regularisation. Duality gap: 2.759e+03, tolerance: 4.451e+00\n",
      "  model = cd_fast.enet_coordinate_descent(\n",
      "C:\\ProgramData\\anaconda3\\envs\\nlp-env\\lib\\site-packages\\sklearn\\neighbors\\_classification.py:215: DataConversionWarning: A column-vector y was passed when a 1d array was expected. Please change the shape of y to (n_samples,), for example using ravel().\n",
      "  return self._fit(X, y)\n"
     ]
    },
    {
     "name": "stdout",
     "output_type": "stream",
     "text": [
      "Model Number: 1290 with model UnivariateMotif in generation 14 of 25\n",
      "Model Number: 1291 with model ARDL in generation 14 of 25\n",
      "Model Number: 1292 with model SectionalMotif in generation 14 of 25\n",
      "Model Number: 1293 with model SectionalMotif in generation 14 of 25\n",
      "Model Number: 1294 with model ARDL in generation 14 of 25\n",
      "Model Number: 1295 with model SeasonalityMotif in generation 14 of 25\n",
      "Model Number: 1296 with model UnivariateMotif in generation 14 of 25\n",
      "Model Number: 1297 with model UnivariateMotif in generation 14 of 25\n"
     ]
    },
    {
     "name": "stderr",
     "output_type": "stream",
     "text": [
      "C:\\ProgramData\\anaconda3\\envs\\nlp-env\\lib\\site-packages\\sklearn\\linear_model\\_glm\\glm.py:284: ConvergenceWarning: lbfgs failed to converge (status=1):\n",
      "STOP: TOTAL NO. of ITERATIONS REACHED LIMIT.\n",
      "\n",
      "Increase the number of iterations (max_iter) or scale the data as shown in:\n",
      "    https://scikit-learn.org/stable/modules/preprocessing.html\n",
      "  self.n_iter_ = _check_optimize_result(\"lbfgs\", opt_res)\n"
     ]
    },
    {
     "name": "stdout",
     "output_type": "stream",
     "text": [
      "Model Number: 1298 with model GLM in generation 14 of 25\n",
      "Model Number: 1299 with model MetricMotif in generation 14 of 25\n",
      "Model Number: 1300 with model MetricMotif in generation 14 of 25\n",
      "Model Number: 1301 with model Cassandra in generation 14 of 25\n",
      "Model Number: 1302 with model BasicLinearModel in generation 14 of 25\n",
      "Model Number: 1303 with model MetricMotif in generation 14 of 25\n",
      "Template Eval Error: IndexError('index 175 is out of bounds for axis 0 with size 95') in model 1303 in generation 14: MetricMotif\n",
      "Model Number: 1304 with model MetricMotif in generation 14 of 25\n",
      "Model Number: 1305 with model SeasonalityMotif in generation 14 of 25\n",
      "Model Number: 1306 with model Cassandra in generation 14 of 25\n"
     ]
    },
    {
     "name": "stderr",
     "output_type": "stream",
     "text": [
      "C:\\ProgramData\\anaconda3\\envs\\nlp-env\\lib\\site-packages\\sklearn\\linear_model\\_coordinate_descent.py:631: ConvergenceWarning: Objective did not converge. You might want to increase the number of iterations, check the scale of the features or consider increasing regularisation. Duality gap: 1.647e+05, tolerance: 4.282e+01\n",
      "  model = cd_fast.enet_coordinate_descent(\n"
     ]
    },
    {
     "name": "stdout",
     "output_type": "stream",
     "text": [
      "Model Number: 1307 with model MetricMotif in generation 14 of 25\n",
      "Model Number: 1308 with model SeasonalityMotif in generation 14 of 25\n",
      "Model Number: 1309 with model FFT in generation 14 of 25\n",
      "Model Number: 1310 with model LastValueNaive in generation 14 of 25\n",
      "Model Number: 1311 with model GLM in generation 14 of 25\n",
      "Template Eval Error: ValueError('NaN, inf or invalid value detected in weights, estimation infeasible.') in model 1311 in generation 14: GLM\n",
      "Model Number: 1312 with model MetricMotif in generation 14 of 25\n",
      "New Generation: 15 of 25\n"
     ]
    },
    {
     "name": "stderr",
     "output_type": "stream",
     "text": [
      "C:\\ProgramData\\anaconda3\\envs\\nlp-env\\lib\\site-packages\\statsmodels\\genmod\\families\\links.py:527: RuntimeWarning: overflow encountered in exp\n",
      "  return np.exp(z)\n",
      "C:\\ProgramData\\anaconda3\\envs\\nlp-env\\lib\\site-packages\\statsmodels\\genmod\\families\\family.py:143: RuntimeWarning: invalid value encountered in multiply\n",
      "  return 1. / (self.link.deriv(mu)**2 * self.variance(mu))\n",
      "C:\\ProgramData\\anaconda3\\envs\\nlp-env\\lib\\site-packages\\statsmodels\\genmod\\generalized_linear_model.py:1328: RuntimeWarning: invalid value encountered in multiply\n",
      "  wlsendog = (lin_pred + self.family.link.deriv(mu) * (self.endog-mu)\n"
     ]
    },
    {
     "name": "stdout",
     "output_type": "stream",
     "text": [
      "Model Number: 1313 with model Cassandra in generation 15 of 25\n",
      "Model Number: 1314 with model UnivariateMotif in generation 15 of 25\n",
      "Model Number: 1315 with model MetricMotif in generation 15 of 25\n",
      "Template Eval Error: IndexError('index 101 is out of bounds for axis 0 with size 95') in model 1315 in generation 15: MetricMotif\n",
      "Model Number: 1316 with model MetricMotif in generation 15 of 25\n",
      "Model Number: 1317 with model LastValueNaive in generation 15 of 25\n",
      "Template Eval Error: Exception(\"Transformer SeasonalDifference failed on fit from params ffill_mean_biased {'0': {'lag_1': 364, 'method': 5}, '1': {'rows': 1, 'lag': 7, 'method': 'multiplicative', 'strength': 0.5, 'first_value_only': False, 'threshold': 1, 'threshold_method': 'mean'}, '2': {'span': 7}} with error ValueError('cannot reshape array of size 190 into shape (0,364,newaxis)')\") in model 1317 in generation 15: LastValueNaive\n",
      "Model Number: 1318 with model LastValueNaive in generation 15 of 25\n",
      "Model Number: 1319 with model BasicLinearModel in generation 15 of 25\n"
     ]
    },
    {
     "name": "stderr",
     "output_type": "stream",
     "text": [
      "C:\\ProgramData\\anaconda3\\envs\\nlp-env\\lib\\site-packages\\numpy\\lib\\function_base.py:2853: RuntimeWarning: invalid value encountered in divide\n",
      "  c /= stddev[:, None]\n",
      "C:\\ProgramData\\anaconda3\\envs\\nlp-env\\lib\\site-packages\\numpy\\lib\\function_base.py:2854: RuntimeWarning: invalid value encountered in divide\n",
      "  c /= stddev[None, :]\n",
      "C:\\ProgramData\\anaconda3\\envs\\nlp-env\\lib\\site-packages\\sklearn\\linear_model\\_coordinate_descent.py:631: ConvergenceWarning: Objective did not converge. You might want to increase the number of iterations, check the scale of the features or consider increasing regularisation. Duality gap: 7.623e+01, tolerance: 4.271e-01\n",
      "  model = cd_fast.enet_coordinate_descent(\n",
      "C:\\ProgramData\\anaconda3\\envs\\nlp-env\\lib\\site-packages\\sklearn\\linear_model\\_coordinate_descent.py:631: ConvergenceWarning: Objective did not converge. You might want to increase the number of iterations, check the scale of the features or consider increasing regularisation. Duality gap: 7.188e+01, tolerance: 1.306e+00\n",
      "  model = cd_fast.enet_coordinate_descent(\n"
     ]
    },
    {
     "name": "stdout",
     "output_type": "stream",
     "text": [
      "Model Number: 1320 with model MetricMotif in generation 15 of 25\n",
      "Model Number: 1321 with model AverageValueNaive in generation 15 of 25\n",
      "Model Number: 1322 with model UnivariateMotif in generation 15 of 25\n",
      "Model Number: 1323 with model GLM in generation 15 of 25\n",
      "Template Eval Error: ValueError('The first guess on the deviance function returned a nan.  This could be a boundary  problem and should be reported.') in model 1323 in generation 15: GLM\n",
      "Model Number: 1324 with model SeasonalityMotif in generation 15 of 25\n"
     ]
    },
    {
     "name": "stderr",
     "output_type": "stream",
     "text": [
      "C:\\ProgramData\\anaconda3\\envs\\nlp-env\\lib\\site-packages\\statsmodels\\genmod\\families\\family.py:1367: ValueWarning: Negative binomial dispersion parameter alpha not set. Using default value alpha=1.0.\n",
      "  warnings.warn(\"Negative binomial dispersion parameter alpha not \"\n",
      "C:\\ProgramData\\anaconda3\\envs\\nlp-env\\lib\\site-packages\\statsmodels\\genmod\\families\\family.py:1406: RuntimeWarning: invalid value encountered in log\n",
      "  resid_dev -= endog_alpha * np.log(endog_alpha / mu_alpha)\n"
     ]
    },
    {
     "name": "stdout",
     "output_type": "stream",
     "text": [
      "Model Number: 1325 with model MetricMotif in generation 15 of 25\n",
      "Template Eval Error: Exception(\"Transformer ReplaceConstant failed on fit from params rolling_mean {'0': {'constant': 0, 'reintroduction_model': {'model': 'xgboost', 'model_params': {'base_score': 0.5, 'booster': 'gbtree', 'colsample_bylevel': 0.692, 'learning_rate': 0.022, 'max_bin': 256, 'max_depth': 14, 'max_leaves': 0, 'min_child_weight': 0.024, 'n_estimators': 162}, 'datepart_method': 'simple_poly'}, 'fillna': 'linear'}, '1': {'model_name': 'local_linear_trend_ets_aan', 'state_transition': [[1, 1], [0, 1]], 'process_noise': [[0.7, 0.0], [0.0, 0.6]], 'observation_model': [[1, 0]], 'observation_noise': 0.25, 'em_iter': 10, 'on_transform': True, 'on_inverse': False}, '2': {'fixed': True, 'window': 180, 'macro_micro': True, 'center': True}} with error ValueError('Invalid classes inferred from unique values of `y`.  Expected: [0], got [1]')\") in model 1325 in generation 15: MetricMotif\n",
      "Model Number: 1326 with model Cassandra in generation 15 of 25\n",
      "Model Number: 1327 with model SeasonalityMotif in generation 15 of 25\n",
      "Model Number: 1328 with model SeasonalityMotif in generation 15 of 25\n",
      "Model Number: 1329 with model AverageValueNaive in generation 15 of 25\n",
      "Model Number: 1330 with model UnivariateMotif in generation 15 of 25\n"
     ]
    },
    {
     "name": "stderr",
     "output_type": "stream",
     "text": [
      "C:\\ProgramData\\anaconda3\\envs\\nlp-env\\lib\\site-packages\\sklearn\\neural_network\\_multilayer_perceptron.py:541: ConvergenceWarning: lbfgs failed to converge (status=1):\n",
      "STOP: TOTAL NO. of ITERATIONS REACHED LIMIT.\n",
      "\n",
      "Increase the number of iterations (max_iter) or scale the data as shown in:\n",
      "    https://scikit-learn.org/stable/modules/preprocessing.html\n",
      "  self.n_iter_ = _check_optimize_result(\"lbfgs\", opt_res, self.max_iter)\n"
     ]
    },
    {
     "name": "stdout",
     "output_type": "stream",
     "text": [
      "Model Number: 1331 with model DatepartRegression in generation 15 of 25\n",
      "Model Number: 1332 with model SeasonalityMotif in generation 15 of 25\n",
      "Model Number: 1333 with model FFT in generation 15 of 25\n",
      "Template Eval Error: Exception(\"Transformer BTCD failed on fit from params ffill {'0': {}, '1': {'rows': 4, 'lag': 1, 'method': 'additive', 'strength': 0.7, 'first_value_only': False, 'threshold': 1, 'threshold_method': 'mean'}, '2': {'span': 7}, '3': {'regression_model': {'model': 'FastRidge', 'model_params': {}}, 'max_lags': 2}} with error ValueError('BTCD only works on multivarate series')\") in model 1333 in generation 15: FFT\n",
      "Model Number: 1334 with model SeasonalityMotif in generation 15 of 25\n",
      "Model Number: 1335 with model GLM in generation 15 of 25\n",
      "Model Number: 1336 with model SeasonalityMotif in generation 15 of 25\n",
      "Model Number: 1337 with model ARDL in generation 15 of 25\n",
      "Model Number: 1338 with model UnivariateMotif in generation 15 of 25\n",
      "Model Number: 1339 with model LastValueNaive in generation 15 of 25\n"
     ]
    },
    {
     "name": "stderr",
     "output_type": "stream",
     "text": [
      "C:\\ProgramData\\anaconda3\\envs\\nlp-env\\lib\\site-packages\\sklearn\\linear_model\\_coordinate_descent.py:631: ConvergenceWarning: Objective did not converge. You might want to increase the number of iterations, check the scale of the features or consider increasing regularisation. Duality gap: 7.584e+01, tolerance: 4.473e-01\n",
      "  model = cd_fast.enet_coordinate_descent(\n",
      "C:\\ProgramData\\anaconda3\\envs\\nlp-env\\lib\\site-packages\\sklearn\\linear_model\\_coordinate_descent.py:631: ConvergenceWarning: Objective did not converge. You might want to increase the number of iterations, check the scale of the features or consider increasing regularisation. Duality gap: 6.542e+03, tolerance: 5.479e+00\n",
      "  model = cd_fast.enet_coordinate_descent(\n"
     ]
    },
    {
     "name": "stdout",
     "output_type": "stream",
     "text": [
      "Model Number: 1340 with model Cassandra in generation 15 of 25\n",
      "Model Number: 1341 with model ARDL in generation 15 of 25\n",
      "Model Number: 1342 with model BasicLinearModel in generation 15 of 25\n",
      "Model Number: 1343 with model MetricMotif in generation 15 of 25\n"
     ]
    },
    {
     "name": "stderr",
     "output_type": "stream",
     "text": [
      "C:\\ProgramData\\anaconda3\\envs\\nlp-env\\lib\\site-packages\\sklearn\\linear_model\\_coordinate_descent.py:631: ConvergenceWarning: Objective did not converge. You might want to increase the number of iterations, check the scale of the features or consider increasing regularisation. Duality gap: 7.188e+01, tolerance: 1.306e+00\n",
      "  model = cd_fast.enet_coordinate_descent(\n"
     ]
    },
    {
     "name": "stdout",
     "output_type": "stream",
     "text": [
      "Model Number: 1344 with model GLM in generation 15 of 25\n",
      "Model Number: 1345 with model UnivariateMotif in generation 15 of 25\n",
      "Model Number: 1346 with model UnivariateMotif in generation 15 of 25\n",
      "Model Number: 1347 with model SeasonalityMotif in generation 15 of 25\n",
      "Model Number: 1348 with model LastValueNaive in generation 15 of 25\n",
      "Template Eval Error: Exception(\"Transformer BTCD failed on fit from params rolling_mean_24 {'0': {'lag_1': 28, 'method': 20}, '1': {'regression_model': {'model': 'LinearRegression', 'model_params': {}}, 'max_lags': 1}, '2': {}} with error ValueError('BTCD only works on multivarate series')\") in model 1348 in generation 15: LastValueNaive\n",
      "Model Number: 1349 with model LastValueNaive in generation 15 of 25\n",
      "Model Number: 1350 with model Cassandra in generation 15 of 25\n",
      "Model Number: 1351 with model SectionalMotif in generation 15 of 25\n",
      "Model Number: 1352 with model MetricMotif in generation 15 of 25\n",
      "Model Number: 1353 with model Cassandra in generation 15 of 25\n",
      "Model Number: 1354 with model ARDL in generation 15 of 25\n",
      "Model Number: 1355 with model BasicLinearModel in generation 15 of 25\n",
      "Model Number: 1356 with model GLM in generation 15 of 25\n",
      "Model Number: 1357 with model BasicLinearModel in generation 15 of 25\n",
      "Template Eval Error: ValueError('maximum supported dimension for an ndarray is 32, found 190') in model 1357 in generation 15: BasicLinearModel\n",
      "Model Number: 1358 with model LastValueNaive in generation 15 of 25\n",
      "Model Number: 1359 with model SeasonalityMotif in generation 15 of 25\n",
      "Model Number: 1360 with model SeasonalityMotif in generation 15 of 25\n",
      "Model Number: 1361 with model DatepartRegression in generation 15 of 25\n",
      "Model Number: 1362 with model DatepartRegression in generation 15 of 25\n",
      "Model Number: 1363 with model DatepartRegression in generation 15 of 25\n",
      "Model Number: 1364 with model SectionalMotif in generation 15 of 25\n",
      "Model Number: 1365 with model MetricMotif in generation 15 of 25\n",
      "Model Number: 1366 with model Cassandra in generation 15 of 25\n",
      "Model Number: 1367 with model UnivariateMotif in generation 15 of 25\n",
      "Model Number: 1368 with model ARDL in generation 15 of 25\n",
      "Model Number: 1369 with model AverageValueNaive in generation 15 of 25\n",
      "Model Number: 1370 with model ARDL in generation 15 of 25\n",
      "Template Eval Error: ValueError(\"regression_type='User' but future_regressor not supplied\") in model 1370 in generation 15: ARDL\n",
      "Model Number: 1371 with model Cassandra in generation 15 of 25\n",
      "Model Number: 1372 with model MetricMotif in generation 15 of 25\n",
      "Model Number: 1373 with model MetricMotif in generation 15 of 25\n",
      "Template Eval Error: IndexError('index 17 is out of bounds for axis 0 with size 15') in model 1373 in generation 15: MetricMotif\n",
      "Model Number: 1374 with model SeasonalityMotif in generation 15 of 25\n"
     ]
    },
    {
     "name": "stderr",
     "output_type": "stream",
     "text": [
      "C:\\ProgramData\\anaconda3\\envs\\nlp-env\\lib\\site-packages\\numpy\\lib\\function_base.py:2853: RuntimeWarning: invalid value encountered in divide\n",
      "  c /= stddev[:, None]\n",
      "C:\\ProgramData\\anaconda3\\envs\\nlp-env\\lib\\site-packages\\numpy\\lib\\function_base.py:2854: RuntimeWarning: invalid value encountered in divide\n",
      "  c /= stddev[None, :]\n",
      "C:\\ProgramData\\anaconda3\\envs\\nlp-env\\lib\\site-packages\\numpy\\lib\\function_base.py:2853: RuntimeWarning: invalid value encountered in divide\n",
      "  c /= stddev[:, None]\n",
      "C:\\ProgramData\\anaconda3\\envs\\nlp-env\\lib\\site-packages\\numpy\\lib\\function_base.py:2854: RuntimeWarning: invalid value encountered in divide\n",
      "  c /= stddev[None, :]\n"
     ]
    },
    {
     "name": "stdout",
     "output_type": "stream",
     "text": [
      "Model Number: 1375 with model SeasonalityMotif in generation 15 of 25\n",
      "New Generation: 16 of 25\n",
      "Model Number: 1376 with model UnivariateMotif in generation 16 of 25\n",
      "Model Number: 1377 with model UnivariateMotif in generation 16 of 25\n",
      "Model Number: 1378 with model SeasonalityMotif in generation 16 of 25\n",
      "Model Number: 1379 with model Cassandra in generation 16 of 25\n",
      "Model Number: 1380 with model AverageValueNaive in generation 16 of 25\n",
      "Model Number: 1381 with model SeasonalityMotif in generation 16 of 25\n",
      "Model Number: 1382 with model MetricMotif in generation 16 of 25\n",
      "Template Eval Error: IndexError('index 149 is out of bounds for axis 0 with size 100') in model 1382 in generation 16: MetricMotif\n",
      "Model Number: 1383 with model SeasonalityMotif in generation 16 of 25\n",
      "Model Number: 1384 with model Cassandra in generation 16 of 25\n",
      "Model Number: 1385 with model SeasonalityMotif in generation 16 of 25\n",
      "Model Number: 1386 with model ARDL in generation 16 of 25\n",
      "Model Number: 1387 with model BasicLinearModel in generation 16 of 25\n",
      "Model Number: 1388 with model DatepartRegression in generation 16 of 25\n",
      "Model Number: 1389 with model GLM in generation 16 of 25\n",
      "Model Number: 1390 with model MetricMotif in generation 16 of 25\n",
      "Template Eval Error: IndexError('index 180 is out of bounds for axis 0 with size 95') in model 1390 in generation 16: MetricMotif\n",
      "Model Number: 1391 with model ARDL in generation 16 of 25\n",
      "Model Number: 1392 with model MetricMotif in generation 16 of 25\n",
      "Model Number: 1393 with model ARDL in generation 16 of 25\n",
      "Template Eval Error: ValueError(\"ARDL series Close failed with error IndexError('tuple index out of range') exog train None and predict None\") in model 1393 in generation 16: ARDL\n",
      "Model Number: 1394 with model BasicLinearModel in generation 16 of 25\n",
      "Model Number: 1395 with model SectionalMotif in generation 16 of 25\n",
      "Model Number: 1396 with model MetricMotif in generation 16 of 25\n",
      "Model Number: 1397 with model SeasonalityMotif in generation 16 of 25\n",
      "Model Number: 1398 with model FFT in generation 16 of 25\n",
      "Model Number: 1399 with model SectionalMotif in generation 16 of 25\n",
      "Model Number: 1400 with model LastValueNaive in generation 16 of 25\n",
      "Model Number: 1401 with model UnivariateMotif in generation 16 of 25\n",
      "Model Number: 1402 with model FFT in generation 16 of 25\n",
      "Model Number: 1403 with model AverageValueNaive in generation 16 of 25\n",
      "Model Number: 1404 with model ARDL in generation 16 of 25\n",
      "Model Number: 1405 with model DatepartRegression in generation 16 of 25\n",
      "Model Number: 1406 with model ARDL in generation 16 of 25\n",
      "Model Number: 1407 with model LastValueNaive in generation 16 of 25\n",
      "Model Number: 1408 with model SeasonalityMotif in generation 16 of 25\n",
      "Model Number: 1409 with model LastValueNaive in generation 16 of 25\n",
      "Model Number: 1410 with model GLM in generation 16 of 25\n",
      "Model Number: 1411 with model BasicLinearModel in generation 16 of 25\n",
      "Model Number: 1412 with model LastValueNaive in generation 16 of 25\n",
      "Model Number: 1413 with model Cassandra in generation 16 of 25\n",
      "Model Number: 1414 with model UnivariateMotif in generation 16 of 25\n",
      "Template Eval Error: Exception('Transformer DatepartRegression failed on fit from params quadratic {\\'0\\': {\\'lag_1\\': 28, \\'method\\': 20}, \\'1\\': {}, \\'2\\': {\\'method\\': \\'clip\\', \\'std_threshold\\': 5, \\'fillna\\': None}, \\'3\\': {\\'regression_model\\': {\\'model\\': \\'MLP\\', \\'model_params\\': {\\'hidden_layer_sizes\\': [25, 15, 25], \\'max_iter\\': 500, \\'activation\\': \\'tanh\\', \\'solver\\': \\'lbfgs\\', \\'early_stopping\\': False, \\'learning_rate_init\\': 0.001, \\'alpha\\': None}}, \\'datepart_method\\': \\'expanded_binarized\\', \\'polynomial_degree\\': None, \\'transform_dict\\': {\\'fillna\\': None, \\'transformations\\': {\\'0\\': \\'ClipOutliers\\'}, \\'transformation_params\\': {\\'0\\': {\\'method\\': \\'clip\\', \\'std_threshold\\': 4}}}, \\'holiday_countries_used\\': False, \\'lags\\': None, \\'forward_lags\\': None}} with error InvalidParameterError(\"The \\'alpha\\' parameter of MLPRegressor must be a float in the range [0, inf). Got None instead.\")') in model 1414 in generation 16: UnivariateMotif\n",
      "Model Number: 1415 with model DatepartRegression in generation 16 of 25\n",
      "Template Eval Error: ValueError(\"regression_type='User' but no future_regressor passed\") in model 1415 in generation 16: DatepartRegression\n",
      "Model Number: 1416 with model BasicLinearModel in generation 16 of 25\n"
     ]
    },
    {
     "name": "stderr",
     "output_type": "stream",
     "text": [
      "C:\\ProgramData\\anaconda3\\envs\\nlp-env\\lib\\site-packages\\sklearn\\neighbors\\_classification.py:215: DataConversionWarning: A column-vector y was passed when a 1d array was expected. Please change the shape of y to (n_samples,), for example using ravel().\n",
      "  return self._fit(X, y)\n",
      "C:\\ProgramData\\anaconda3\\envs\\nlp-env\\lib\\site-packages\\numpy\\lib\\function_base.py:2853: RuntimeWarning: invalid value encountered in divide\n",
      "  c /= stddev[:, None]\n",
      "C:\\ProgramData\\anaconda3\\envs\\nlp-env\\lib\\site-packages\\numpy\\lib\\function_base.py:2854: RuntimeWarning: invalid value encountered in divide\n",
      "  c /= stddev[None, :]\n"
     ]
    },
    {
     "name": "stdout",
     "output_type": "stream",
     "text": [
      "Model Number: 1417 with model Cassandra in generation 16 of 25\n",
      "Model Number: 1418 with model UnivariateMotif in generation 16 of 25\n",
      "Model Number: 1419 with model DatepartRegression in generation 16 of 25\n"
     ]
    },
    {
     "name": "stderr",
     "output_type": "stream",
     "text": [
      "C:\\ProgramData\\anaconda3\\envs\\nlp-env\\lib\\site-packages\\numpy\\lib\\function_base.py:2853: RuntimeWarning: invalid value encountered in divide\n",
      "  c /= stddev[:, None]\n",
      "C:\\ProgramData\\anaconda3\\envs\\nlp-env\\lib\\site-packages\\numpy\\lib\\function_base.py:2854: RuntimeWarning: invalid value encountered in divide\n",
      "  c /= stddev[None, :]\n"
     ]
    },
    {
     "name": "stdout",
     "output_type": "stream",
     "text": [
      "Model Number: 1420 with model BasicLinearModel in generation 16 of 25\n",
      "Model Number: 1421 with model MetricMotif in generation 16 of 25\n",
      "Template Eval Error: IndexError('index 111 is out of bounds for axis 0 with size 81') in model 1421 in generation 16: MetricMotif\n",
      "Model Number: 1422 with model Cassandra in generation 16 of 25\n",
      "Model Number: 1423 with model DatepartRegression in generation 16 of 25\n",
      "Template Eval Error: ValueError('Input X contains NaN.\\nElasticNet does not accept missing values encoded as NaN natively. For supervised learning, you might want to consider sklearn.ensemble.HistGradientBoostingClassifier and Regressor which accept missing values encoded as NaNs natively. Alternatively, it is possible to preprocess the data, for instance by using an imputer transformer in a pipeline or drop samples with missing values. See https://scikit-learn.org/stable/modules/impute.html You can find a list of all estimators that handle NaN values at the following page: https://scikit-learn.org/stable/modules/impute.html#estimators-that-handle-nan-values') in model 1423 in generation 16: DatepartRegression\n",
      "Model Number: 1424 with model BasicLinearModel in generation 16 of 25\n",
      "Template Eval Error: Exception('Transformer FIRFilter failed on fit from params ffill {\\'0\\': {\\'model\\': \\'GLS\\', \\'phi\\': 1, \\'window\\': None, \\'transform_dict\\': {\\'fillna\\': \\'akima\\', \\'transformations\\': {\\'0\\': \\'IntermittentOccurrence\\'}, \\'transformation_params\\': {\\'0\\': {\\'center\\': \\'mean\\'}}}}, \\'1\\': {\\'center\\': \\'midhinge\\'}, \\'2\\': {\\'model\\': \\'Linear\\', \\'phi\\': 0.999, \\'window\\': None, \\'transform_dict\\': None}, \\'3\\': {\\'numtaps\\': 128, \\'cutoff_hz\\': 0.1, \\'window\\': [\\'exponential\\', None, 3.0], \\'sampling_frequency\\': 12, \\'on_transform\\': True, \\'on_inverse\\': False, \\'bounds_only\\': False}} with error ValueError(\"<class \\'list\\'> as window type is not supported.\")') in model 1424 in generation 16: BasicLinearModel\n",
      "Model Number: 1425 with model MetricMotif in generation 16 of 25\n",
      "Model Number: 1426 with model DatepartRegression in generation 16 of 25\n",
      "Model Number: 1427 with model Cassandra in generation 16 of 25\n",
      "Model Number: 1428 with model LastValueNaive in generation 16 of 25\n",
      "Model Number: 1429 with model LastValueNaive in generation 16 of 25\n",
      "Model Number: 1430 with model ARDL in generation 16 of 25\n",
      "Template Eval Error: ValueError(\"regression_type='User' but future_regressor not supplied\") in model 1430 in generation 16: ARDL\n",
      "Model Number: 1431 with model FFT in generation 16 of 25\n"
     ]
    },
    {
     "name": "stderr",
     "output_type": "stream",
     "text": [
      "C:\\ProgramData\\anaconda3\\envs\\nlp-env\\lib\\site-packages\\sklearn\\neighbors\\_classification.py:215: DataConversionWarning: A column-vector y was passed when a 1d array was expected. Please change the shape of y to (n_samples,), for example using ravel().\n",
      "  return self._fit(X, y)\n",
      "C:\\ProgramData\\anaconda3\\envs\\nlp-env\\lib\\site-packages\\sklearn\\linear_model\\_coordinate_descent.py:631: ConvergenceWarning: Objective did not converge. You might want to increase the number of iterations, check the scale of the features or consider increasing regularisation. Duality gap: 6.891e+02, tolerance: 7.800e-01\n",
      "  model = cd_fast.enet_coordinate_descent(\n"
     ]
    },
    {
     "name": "stdout",
     "output_type": "stream",
     "text": [
      "Model Number: 1432 with model BasicLinearModel in generation 16 of 25\n",
      "Model Number: 1433 with model MetricMotif in generation 16 of 25\n",
      "Model Number: 1434 with model FFT in generation 16 of 25\n",
      "Model Number: 1435 with model DatepartRegression in generation 16 of 25\n",
      "Template Eval Error: ValueError(\"regression_type='User' but no future_regressor passed\") in model 1435 in generation 16: DatepartRegression\n",
      "Model Number: 1436 with model UnivariateMotif in generation 16 of 25\n",
      "Model Number: 1437 with model AverageValueNaive in generation 16 of 25\n",
      "Model Number: 1438 with model SeasonalityMotif in generation 16 of 25\n",
      "New Generation: 17 of 25\n",
      "Model Number: 1439 with model ARDL in generation 17 of 25\n",
      "Template Eval Error: ValueError(\"regression_type='User' but future_regressor not supplied\") in model 1439 in generation 17: ARDL\n",
      "Model Number: 1440 with model LastValueNaive in generation 17 of 25\n",
      "Model Number: 1441 with model DatepartRegression in generation 17 of 25\n",
      "Template Eval Error: Exception(\"Transformer AnomalyRemoval failed on fit from params ffill {'0': {}, '1': {'rows': 4, 'lag': 1, 'method': 'additive', 'strength': 0.7, 'first_value_only': False, 'threshold': 1, 'threshold_method': 'mean'}, '2': {'span': 7}, '3': {'fillna': 'one', 'center': 'zero'}, '4': {'n_harmonics': 10, 'detrend': 'quadratic'}, '5': {'method': 'EE', 'method_params': {'contamination': 0.1, 'assume_centered': False, 'support_fraction': None}, 'fillna': None, 'transform_dict': {'transformations': {'0': 'DatepartRegression'}, 'transformation_params': {'0': {'datepart_method': 'simple_3', 'regression_model': {'model': 'ElasticNet', 'model_params': {}}}}}, 'isolated_only': False, 'on_inverse': False}} with error ValueError('The covariance matrix of the support data is equal to 0, try to increase support_fraction')\") in model 1441 in generation 17: DatepartRegression\n",
      "Model Number: 1442 with model DatepartRegression in generation 17 of 25\n",
      "Model Number: 1443 with model DatepartRegression in generation 17 of 25\n",
      "Template Eval Error: Exception(\"Transformer Cointegration failed on fit from params ffill {'0': {'lag_1': 28, 'method': 20}, '1': {'decimals': 1, 'on_transform': False, 'on_inverse': True}, '2': {'det_order': -1, 'k_ar_diff': 0}, '3': {'window_size': 30, 'alpha': 3.5, 'grouping_forward_limit': 6, 'max_level_shifts': 30, 'alignment': 'average'}} with error ValueError('Coint only works on multivarate series')\") in model 1443 in generation 17: DatepartRegression\n",
      "Model Number: 1444 with model SeasonalityMotif in generation 17 of 25\n",
      "Model Number: 1445 with model BasicLinearModel in generation 17 of 25\n"
     ]
    },
    {
     "name": "stderr",
     "output_type": "stream",
     "text": [
      "C:\\ProgramData\\anaconda3\\envs\\nlp-env\\lib\\site-packages\\sklearn\\covariance\\_robust_covariance.py:745: UserWarning: The covariance matrix associated to your dataset is not full rank\n",
      "  warnings.warn(\n"
     ]
    },
    {
     "name": "stdout",
     "output_type": "stream",
     "text": [
      "Model Number: 1446 with model LastValueNaive in generation 17 of 25\n",
      "Model Number: 1447 with model BasicLinearModel in generation 17 of 25\n",
      "Model Number: 1448 with model UnivariateMotif in generation 17 of 25\n",
      "Model Number: 1449 with model Cassandra in generation 17 of 25\n",
      "Template Eval Error: ValueError(\"Some value(s) of y are out of the valid range of the loss 'HalfPoissonLoss'.\") in model 1449 in generation 17: Cassandra\n",
      "Model Number: 1450 with model GLM in generation 17 of 25\n",
      "Model Number: 1451 with model Cassandra in generation 17 of 25\n",
      "Template Eval Error: IndexError('positional indexers are out-of-bounds') in model 1451 in generation 17: Cassandra\n",
      "Model Number: 1452 with model GLM in generation 17 of 25\n",
      "Model Number: 1453 with model MetricMotif in generation 17 of 25\n",
      "Template Eval Error: IndexError('index 144 is out of bounds for axis 0 with size 100') in model 1453 in generation 17: MetricMotif\n",
      "Model Number: 1454 with model ARDL in generation 17 of 25\n"
     ]
    },
    {
     "name": "stderr",
     "output_type": "stream",
     "text": [
      "C:\\ProgramData\\anaconda3\\envs\\nlp-env\\lib\\site-packages\\numpy\\lib\\function_base.py:2853: RuntimeWarning: invalid value encountered in divide\n",
      "  c /= stddev[:, None]\n",
      "C:\\ProgramData\\anaconda3\\envs\\nlp-env\\lib\\site-packages\\numpy\\lib\\function_base.py:2854: RuntimeWarning: invalid value encountered in divide\n",
      "  c /= stddev[None, :]\n",
      "C:\\ProgramData\\anaconda3\\envs\\nlp-env\\lib\\site-packages\\statsmodels\\genmod\\families\\family.py:1367: ValueWarning: Negative binomial dispersion parameter alpha not set. Using default value alpha=1.0.\n",
      "  warnings.warn(\"Negative binomial dispersion parameter alpha not \"\n"
     ]
    },
    {
     "name": "stdout",
     "output_type": "stream",
     "text": [
      "Model Number: 1455 with model MetricMotif in generation 17 of 25\n",
      "Template Eval Error: IndexError('index 137 is out of bounds for axis 0 with size 100') in model 1455 in generation 17: MetricMotif\n",
      "Model Number: 1456 with model DatepartRegression in generation 17 of 25\n",
      "Model Number: 1457 with model FFT in generation 17 of 25\n",
      "Model Number: 1458 with model MetricMotif in generation 17 of 25\n",
      "Template Eval Error: IndexError('index 127 is out of bounds for axis 0 with size 100') in model 1458 in generation 17: MetricMotif\n",
      "Model Number: 1459 with model SeasonalityMotif in generation 17 of 25\n",
      "Model Number: 1460 with model SectionalMotif in generation 17 of 25\n",
      "Model Number: 1461 with model LastValueNaive in generation 17 of 25\n",
      "Model Number: 1462 with model FFT in generation 17 of 25\n",
      "Model Number: 1463 with model SectionalMotif in generation 17 of 25\n",
      "Model Number: 1464 with model LastValueNaive in generation 17 of 25\n",
      "Template Eval Error: Exception(\"Transformer ReplaceConstant failed on fit from params akima {'0': {'constant': 0, 'reintroduction_model': {'model': 'xgboost', 'model_params': {'booster': 'gbtree', 'max_depth': 6, 'eta': 0.01, 'min_child_weight': 1, 'subsample': 1, 'colsample_bylevel': 0.7, 'reg_alpha': 0.05, 'reg_lambda': 1, 'n_estimators': 7, 'grow_policy': 'lossguide'}, 'datepart_method': ['simple_2']}, 'fillna': 'linear'}, '1': {}, '2': {}} with error ValueError('Invalid classes inferred from unique values of `y`.  Expected: [0], got [1]')\") in model 1464 in generation 17: LastValueNaive\n",
      "Model Number: 1465 with model LastValueNaive in generation 17 of 25\n",
      "Model Number: 1466 with model DatepartRegression in generation 17 of 25\n",
      "Model Number: 1467 with model LastValueNaive in generation 17 of 25\n",
      "Model Number: 1468 with model MetricMotif in generation 17 of 25\n",
      "Template Eval Error: IndexError('index 144 is out of bounds for axis 0 with size 95') in model 1468 in generation 17: MetricMotif\n",
      "Model Number: 1469 with model SeasonalityMotif in generation 17 of 25\n"
     ]
    },
    {
     "name": "stderr",
     "output_type": "stream",
     "text": [
      "C:\\ProgramData\\anaconda3\\envs\\nlp-env\\lib\\site-packages\\sklearn\\linear_model\\_coordinate_descent.py:631: ConvergenceWarning: Objective did not converge. You might want to increase the number of iterations, check the scale of the features or consider increasing regularisation. Duality gap: 1.503e+02, tolerance: 1.316e+00\n",
      "  model = cd_fast.enet_coordinate_descent(\n"
     ]
    },
    {
     "name": "stdout",
     "output_type": "stream",
     "text": [
      "Model Number: 1470 with model UnivariateMotif in generation 17 of 25\n",
      "Model Number: 1471 with model GLM in generation 17 of 25\n",
      "Model Number: 1472 with model UnivariateMotif in generation 17 of 25\n",
      "Model Number: 1473 with model FFT in generation 17 of 25\n",
      "Model Number: 1474 with model LastValueNaive in generation 17 of 25\n",
      "Model Number: 1475 with model SectionalMotif in generation 17 of 25\n",
      "Template Eval Error: Exception(\"Transformer ReplaceConstant failed on fit from params cubic {'0': {'method': 'butter', 'method_args': {'N': 4, 'btype': 'highpass', 'analog': False, 'output': 'sos', 'Wn': 0.03571428571428571}}, '1': {'window': 364}, '2': {'constant': 0, 'reintroduction_model': {'model': 'xgboost', 'model_params': {'booster': 'gbtree', 'max_depth': 6, 'eta': 0.05, 'min_child_weight': 1, 'subsample': 1, 'colsample_bylevel': 0.5, 'reg_alpha': 0, 'reg_lambda': 1, 'n_estimators': 100, 'grow_policy': 'lossguide'}, 'datepart_method': 'simple'}, 'fillna': 'linear'}, '3': {'model_name': 'randomly generated_original', 'state_transition': [[1, -1, 0, 0], [0, 0, 0, 0], [0, 0, 1, 0], [0, 0, 0, 0]], 'process_noise': [[0.002, 0.0, 0.0, 0.0], [0.0, 0.0, 0.0, 0.0], [0.0, 0.0, 0.0, 0.0], [0.0, 0.0, 0.0, 0.0]], 'observation_model': [[1, 1, 0, 0]], 'observation_noise': 1.0, 'em_iter': 10, 'on_transform': True, 'on_inverse': False}, '4': {'part': 'trend', 'lamb': 1600}} with error ValueError('Invalid classes inferred from unique values of `y`.  Expected: [0], got [1]')\") in model 1475 in generation 17: SectionalMotif\n",
      "Model Number: 1476 with model ARDL in generation 17 of 25\n",
      "Model Number: 1477 with model Cassandra in generation 17 of 25\n"
     ]
    },
    {
     "name": "stderr",
     "output_type": "stream",
     "text": [
      "C:\\ProgramData\\anaconda3\\envs\\nlp-env\\lib\\site-packages\\sklearn\\neighbors\\_classification.py:215: DataConversionWarning: A column-vector y was passed when a 1d array was expected. Please change the shape of y to (n_samples,), for example using ravel().\n",
      "  return self._fit(X, y)\n",
      "C:\\ProgramData\\anaconda3\\envs\\nlp-env\\lib\\site-packages\\numpy\\lib\\function_base.py:2853: RuntimeWarning: invalid value encountered in divide\n",
      "  c /= stddev[:, None]\n",
      "C:\\ProgramData\\anaconda3\\envs\\nlp-env\\lib\\site-packages\\numpy\\lib\\function_base.py:2854: RuntimeWarning: invalid value encountered in divide\n",
      "  c /= stddev[None, :]\n"
     ]
    },
    {
     "name": "stdout",
     "output_type": "stream",
     "text": [
      "Model Number: 1478 with model FFT in generation 17 of 25\n",
      "Model Number: 1479 with model MetricMotif in generation 17 of 25\n",
      "Template Eval Error: IndexError('index 159 is out of bounds for axis 0 with size 95') in model 1479 in generation 17: MetricMotif\n",
      "Model Number: 1480 with model BasicLinearModel in generation 17 of 25\n"
     ]
    },
    {
     "name": "stderr",
     "output_type": "stream",
     "text": [
      "C:\\ProgramData\\anaconda3\\envs\\nlp-env\\lib\\site-packages\\sklearn\\linear_model\\_coordinate_descent.py:631: ConvergenceWarning: Objective did not converge. You might want to increase the number of iterations, check the scale of the features or consider increasing regularisation. Duality gap: 7.188e+01, tolerance: 1.306e+00\n",
      "  model = cd_fast.enet_coordinate_descent(\n"
     ]
    },
    {
     "name": "stdout",
     "output_type": "stream",
     "text": [
      "Model Number: 1481 with model AverageValueNaive in generation 17 of 25\n",
      "Model Number: 1482 with model Cassandra in generation 17 of 25\n",
      "Model Number: 1483 with model GLM in generation 17 of 25\n",
      "Model Number: 1484 with model UnivariateMotif in generation 17 of 25\n",
      "Model Number: 1485 with model FFT in generation 17 of 25\n",
      "Model Number: 1486 with model SectionalMotif in generation 17 of 25\n",
      "Model Number: 1487 with model LastValueNaive in generation 17 of 25\n",
      "Model Number: 1488 with model DatepartRegression in generation 17 of 25\n",
      "Epoch 1/10\n",
      "12/12 [==============================] - 0s 1ms/step - loss: 2.4850\n",
      "Epoch 2/10\n",
      "12/12 [==============================] - 0s 1ms/step - loss: 1.9378\n",
      "Epoch 3/10\n",
      "12/12 [==============================] - 0s 1000us/step - loss: 1.6738\n",
      "Epoch 4/10\n",
      "12/12 [==============================] - 0s 1ms/step - loss: 1.5066\n",
      "Epoch 5/10\n",
      "12/12 [==============================] - 0s 1ms/step - loss: 1.4073\n",
      "Epoch 6/10\n",
      "12/12 [==============================] - 0s 1ms/step - loss: 1.3379\n",
      "Epoch 7/10\n",
      "12/12 [==============================] - 0s 1ms/step - loss: 1.2628\n",
      "Epoch 8/10\n",
      "12/12 [==============================] - 0s 1ms/step - loss: 1.2245\n",
      "Epoch 9/10\n",
      "12/12 [==============================] - 0s 1ms/step - loss: 1.1889\n",
      "Epoch 10/10\n",
      "12/12 [==============================] - 0s 1ms/step - loss: 1.1515\n",
      "1/1 [==============================] - 0s 28ms/step\n",
      "Model Number: 1489 with model DatepartRegression in generation 17 of 25\n",
      "Template Eval Error: Exception(\"Transformer SeasonalDifference failed on fit from params ffill {'0': {'part': 'trend', 'lamb': 6.25}, '1': {'model': 'Tweedie', 'phi': 0.999, 'window': None, 'transform_dict': None}, '2': {'span': 7}, '3': {'lag_1': 364, 'method': 2}, '4': {'n_harmonics': 10, 'detrend': 'quadratic'}} with error ValueError('cannot reshape array of size 190 into shape (0,364,newaxis)')\") in model 1489 in generation 17: DatepartRegression\n",
      "Model Number: 1490 with model ARDL in generation 17 of 25\n",
      "Template Eval Error: ValueError(\"regression_type='User' but future_regressor not supplied\") in model 1490 in generation 17: ARDL\n",
      "Model Number: 1491 with model SectionalMotif in generation 17 of 25\n",
      "Model Number: 1492 with model AverageValueNaive in generation 17 of 25\n",
      "Model Number: 1493 with model FFT in generation 17 of 25\n",
      "Model Number: 1494 with model SeasonalityMotif in generation 17 of 25\n",
      "Model Number: 1495 with model SectionalMotif in generation 17 of 25\n",
      "Model Number: 1496 with model BasicLinearModel in generation 17 of 25\n",
      "Template Eval Error: ValueError(\"regression_type=='User' but no future_regressor supplied\") in model 1496 in generation 17: BasicLinearModel\n",
      "Model Number: 1497 with model AverageValueNaive in generation 17 of 25\n",
      "Model Number: 1498 with model BasicLinearModel in generation 17 of 25\n",
      "Model Number: 1499 with model SectionalMotif in generation 17 of 25\n",
      "Model Number: 1500 with model LastValueNaive in generation 17 of 25\n",
      "Model Number: 1501 with model ARDL in generation 17 of 25\n",
      "New Generation: 18 of 25\n",
      "Model Number: 1502 with model SeasonalityMotif in generation 18 of 25\n",
      "Model Number: 1503 with model MetricMotif in generation 18 of 25\n",
      "Template Eval Error: ValueError(\"MetricMotif with {'0': 'PositiveShift', '1': 'AlignLastValue', '2': 'RollingMeanTransformer', '3': 'PositiveShift', '4': 'BKBandpassFilter', '5': 'KalmanSmoothing'} failed to return correct number of series. Returned 2 and requested: 1\") in model 1503 in generation 18: MetricMotif\n",
      "Model Number: 1504 with model Cassandra in generation 18 of 25\n",
      "Model Number: 1505 with model SeasonalityMotif in generation 18 of 25\n",
      "Model Number: 1506 with model SeasonalityMotif in generation 18 of 25\n",
      "Template Eval Error: ValueError('Model SeasonalityMotif returned NaN for one or more series. fail_on_forecast_nan=True') in model 1506 in generation 18: SeasonalityMotif\n",
      "Model Number: 1507 with model BasicLinearModel in generation 18 of 25\n",
      "Model Number: 1508 with model GLM in generation 18 of 25\n",
      "Model Number: 1509 with model UnivariateMotif in generation 18 of 25\n",
      "Model Number: 1510 with model ARDL in generation 18 of 25\n",
      "Model Number: 1511 with model LastValueNaive in generation 18 of 25\n",
      "Model Number: 1512 with model ARDL in generation 18 of 25\n",
      "Model Number: 1513 with model SeasonalityMotif in generation 18 of 25\n"
     ]
    },
    {
     "name": "stderr",
     "output_type": "stream",
     "text": [
      "C:\\ProgramData\\anaconda3\\envs\\nlp-env\\lib\\site-packages\\numpy\\core\\fromnumeric.py:3432: RuntimeWarning: Mean of empty slice.\n",
      "  return _methods._mean(a, axis=axis, dtype=dtype,\n",
      "C:\\ProgramData\\anaconda3\\envs\\nlp-env\\lib\\site-packages\\numpy\\core\\_methods.py:182: RuntimeWarning: invalid value encountered in divide\n",
      "  ret = um.true_divide(\n",
      "C:\\ProgramData\\anaconda3\\envs\\nlp-env\\lib\\site-packages\\sklearn\\linear_model\\_coordinate_descent.py:631: ConvergenceWarning: Objective did not converge. You might want to increase the number of iterations, check the scale of the features or consider increasing regularisation. Duality gap: 1.292e+02, tolerance: 1.013e+00\n",
      "  model = cd_fast.enet_coordinate_descent(\n"
     ]
    },
    {
     "name": "stdout",
     "output_type": "stream",
     "text": [
      "Model Number: 1514 with model GLM in generation 18 of 25\n",
      "Model Number: 1515 with model LastValueNaive in generation 18 of 25\n",
      "Model Number: 1516 with model GLM in generation 18 of 25\n",
      "Model Number: 1517 with model SeasonalityMotif in generation 18 of 25\n",
      "Model Number: 1518 with model Cassandra in generation 18 of 25\n",
      "Model Number: 1519 with model FFT in generation 18 of 25\n",
      "Model Number: 1520 with model SectionalMotif in generation 18 of 25\n"
     ]
    },
    {
     "name": "stderr",
     "output_type": "stream",
     "text": [
      "C:\\ProgramData\\anaconda3\\envs\\nlp-env\\lib\\site-packages\\statsmodels\\genmod\\families\\family.py:1650: RuntimeWarning: invalid value encountered in log\n",
      "  endog * np.log(endog / mu) + (mu - endog))\n"
     ]
    },
    {
     "name": "stdout",
     "output_type": "stream",
     "text": [
      "Model Number: 1521 with model SeasonalityMotif in generation 18 of 25\n",
      "Model Number: 1522 with model LastValueNaive in generation 18 of 25\n",
      "Model Number: 1523 with model BasicLinearModel in generation 18 of 25\n",
      "Model Number: 1524 with model LastValueNaive in generation 18 of 25\n",
      "Model Number: 1525 with model DatepartRegression in generation 18 of 25\n",
      "Model Number: 1526 with model FFT in generation 18 of 25\n",
      "Model Number: 1527 with model GLS in generation 18 of 25\n",
      "Template Eval Error: Exception(\"Transformer ReplaceConstant failed on fit from params rolling_mean {'0': {'threshold': 1.0, 'splash_threshold': None, 'use_dayofmonth_holidays': False, 'use_wkdom_holidays': True, 'use_wkdeom_holidays': False, 'use_lunar_holidays': False, 'use_lunar_weekday': False, 'use_islamic_holidays': False, 'use_hebrew_holidays': True, 'use_hindu_holidays': False, 'anomaly_detector_params': {'method': 'IQR', 'method_params': {'iqr_threshold': 1.5, 'iqr_quantiles': [0.25, 0.75]}, 'fillna': 'ffill', 'transform_dict': {'fillna': 'ffill', 'transformations': {'0': 'Discretize'}, 'transformation_params': {'0': {'discretization': 'upper', 'n_bins': 5}}}, 'isolated_only': False, 'on_inverse': False}, 'remove_excess_anomalies': True, 'impact': 'anomaly_score', 'regression_params': {}}, '1': {}, '2': {'rows': 1, 'lag': 1, 'method': 'additive', 'strength': 1.0, 'first_value_only': False, 'threshold': 10, 'threshold_method': 'max'}, '3': {'constraint_method': 'dampening', 'constraint_direction': 'upper', 'constraint_regularization': 1.0, 'constraint_value': 0.995, 'bounds_only': False, 'fillna': None}, '4': {'constant': 0, 'reintroduction_model': {'model': 'xgboost', 'model_params': {'booster': 'gbtree', 'max_depth': 6, 'eta': 0.03, 'min_child_weight': 1, 'subsample': 1, 'colsample_bylevel': 1, 'reg_alpha': 0, 'reg_lambda': 1}, 'datepart_method': 'simple_2'}, 'fillna': 'akima'}} with error ValueError('Invalid classes inferred from unique values of `y`.  Expected: [0], got [1]')\") in model 1527 in generation 18: GLS\n",
      "Model Number: 1528 with model MetricMotif in generation 18 of 25\n",
      "Model Number: 1529 with model LastValueNaive in generation 18 of 25\n",
      "Model Number: 1530 with model Cassandra in generation 18 of 25\n",
      "Model Number: 1531 with model DatepartRegression in generation 18 of 25\n",
      "Model Number: 1532 with model BasicLinearModel in generation 18 of 25\n",
      "Model Number: 1533 with model SeasonalityMotif in generation 18 of 25\n",
      "Template Eval Error: Exception(\"Transformer ReplaceConstant failed on fit from params rolling_mean {'0': {'rows': 4, 'lag': 1, 'method': 'additive', 'strength': 1.0, 'first_value_only': False, 'threshold': None, 'threshold_method': 'max'}, '1': {'constant': 0, 'reintroduction_model': {'model': 'SGD', 'model_params': {}, 'datepart_method': 'common_fourier'}, 'fillna': None}, '2': {'rows': 7, 'lag': 1, 'method': 'multiplicative', 'strength': 1.0, 'first_value_only': True, 'threshold': 1, 'threshold_method': 'max'}} with error ValueError('The number of classes has to be greater than one; got 1 class')\") in model 1533 in generation 18: SeasonalityMotif\n",
      "Model Number: 1534 with model DatepartRegression in generation 18 of 25\n",
      "Model Number: 1535 with model LastValueNaive in generation 18 of 25\n",
      "Model Number: 1536 with model DatepartRegression in generation 18 of 25\n",
      "Model Number: 1537 with model GLM in generation 18 of 25\n",
      "Template Eval Error: ValueError('The first guess on the deviance function returned a nan.  This could be a boundary  problem and should be reported.') in model 1537 in generation 18: GLM\n",
      "Model Number: 1538 with model LastValueNaive in generation 18 of 25\n",
      "Model Number: 1539 with model BasicLinearModel in generation 18 of 25\n"
     ]
    },
    {
     "name": "stderr",
     "output_type": "stream",
     "text": [
      "C:\\ProgramData\\anaconda3\\envs\\nlp-env\\lib\\site-packages\\sklearn\\utils\\validation.py:1143: DataConversionWarning: A column-vector y was passed when a 1d array was expected. Please change the shape of y to (n_samples, ), for example using ravel().\n",
      "  y = column_or_1d(y, warn=True)\n",
      "C:\\ProgramData\\anaconda3\\envs\\nlp-env\\lib\\site-packages\\sklearn\\linear_model\\_coordinate_descent.py:631: ConvergenceWarning: Objective did not converge. You might want to increase the number of iterations, check the scale of the features or consider increasing regularisation. Duality gap: 4.303e+01, tolerance: 1.286e+00\n",
      "  model = cd_fast.enet_coordinate_descent(\n",
      "C:\\ProgramData\\anaconda3\\envs\\nlp-env\\lib\\site-packages\\statsmodels\\genmod\\families\\family.py:1650: RuntimeWarning: invalid value encountered in log\n",
      "  endog * np.log(endog / mu) + (mu - endog))\n",
      "C:\\ProgramData\\anaconda3\\envs\\nlp-env\\lib\\site-packages\\sklearn\\linear_model\\_coordinate_descent.py:631: ConvergenceWarning: Objective did not converge. You might want to increase the number of iterations, check the scale of the features or consider increasing regularisation. Duality gap: 2.119e+02, tolerance: 4.704e+00\n",
      "  model = cd_fast.enet_coordinate_descent(\n"
     ]
    },
    {
     "name": "stdout",
     "output_type": "stream",
     "text": [
      "Model Number: 1540 with model Cassandra in generation 18 of 25\n",
      "Model Number: 1541 with model SectionalMotif in generation 18 of 25\n",
      "Model Number: 1542 with model SeasonalityMotif in generation 18 of 25\n",
      "Model Number: 1543 with model BasicLinearModel in generation 18 of 25\n",
      "Template Eval Error: ValueError(\"regression_type=='User' but no future_regressor supplied\") in model 1543 in generation 18: BasicLinearModel\n",
      "Model Number: 1544 with model SeasonalityMotif in generation 18 of 25\n",
      "Model Number: 1545 with model AverageValueNaive in generation 18 of 25\n",
      "Model Number: 1546 with model DatepartRegression in generation 18 of 25\n",
      "Template Eval Error: ValueError(\"regression_type='User' but no future_regressor passed\") in model 1546 in generation 18: DatepartRegression\n",
      "Model Number: 1547 with model MetricMotif in generation 18 of 25\n",
      "Model Number: 1548 with model UnivariateMotif in generation 18 of 25\n",
      "Model Number: 1549 with model Cassandra in generation 18 of 25\n",
      "Model Number: 1550 with model DatepartRegression in generation 18 of 25\n",
      "Model Number: 1551 with model ARDL in generation 18 of 25\n",
      "Template Eval Error: ValueError(\"regression_type='User' but future_regressor not supplied\") in model 1551 in generation 18: ARDL\n",
      "Model Number: 1552 with model GLM in generation 18 of 25\n",
      "Model Number: 1553 with model GLM in generation 18 of 25\n",
      "Model Number: 1554 with model LastValueNaive in generation 18 of 25\n",
      "Model Number: 1555 with model UnivariateMotif in generation 18 of 25\n",
      "Model Number: 1556 with model BasicLinearModel in generation 18 of 25\n",
      "Model Number: 1557 with model Cassandra in generation 18 of 25\n",
      "Model Number: 1558 with model DatepartRegression in generation 18 of 25\n"
     ]
    },
    {
     "name": "stderr",
     "output_type": "stream",
     "text": [
      "C:\\ProgramData\\anaconda3\\envs\\nlp-env\\lib\\site-packages\\statsmodels\\genmod\\generalized_linear_model.py:1342: PerfectSeparationWarning: Perfect separation or prediction detected, parameter may not be identified\n",
      "  warnings.warn(msg, category=PerfectSeparationWarning)\n",
      "C:\\ProgramData\\anaconda3\\envs\\nlp-env\\lib\\site-packages\\statsmodels\\genmod\\generalized_linear_model.py:1342: PerfectSeparationWarning: Perfect separation or prediction detected, parameter may not be identified\n",
      "  warnings.warn(msg, category=PerfectSeparationWarning)\n",
      "C:\\ProgramData\\anaconda3\\envs\\nlp-env\\lib\\site-packages\\statsmodels\\genmod\\generalized_linear_model.py:1342: PerfectSeparationWarning: Perfect separation or prediction detected, parameter may not be identified\n",
      "  warnings.warn(msg, category=PerfectSeparationWarning)\n",
      "C:\\ProgramData\\anaconda3\\envs\\nlp-env\\lib\\site-packages\\statsmodels\\genmod\\generalized_linear_model.py:1342: PerfectSeparationWarning: Perfect separation or prediction detected, parameter may not be identified\n",
      "  warnings.warn(msg, category=PerfectSeparationWarning)\n",
      "C:\\ProgramData\\anaconda3\\envs\\nlp-env\\lib\\site-packages\\statsmodels\\genmod\\generalized_linear_model.py:1342: PerfectSeparationWarning: Perfect separation or prediction detected, parameter may not be identified\n",
      "  warnings.warn(msg, category=PerfectSeparationWarning)\n",
      "C:\\ProgramData\\anaconda3\\envs\\nlp-env\\lib\\site-packages\\statsmodels\\genmod\\generalized_linear_model.py:1342: PerfectSeparationWarning: Perfect separation or prediction detected, parameter may not be identified\n",
      "  warnings.warn(msg, category=PerfectSeparationWarning)\n",
      "C:\\ProgramData\\anaconda3\\envs\\nlp-env\\lib\\site-packages\\statsmodels\\genmod\\generalized_linear_model.py:1342: PerfectSeparationWarning: Perfect separation or prediction detected, parameter may not be identified\n",
      "  warnings.warn(msg, category=PerfectSeparationWarning)\n",
      "C:\\ProgramData\\anaconda3\\envs\\nlp-env\\lib\\site-packages\\statsmodels\\genmod\\generalized_linear_model.py:1342: PerfectSeparationWarning: Perfect separation or prediction detected, parameter may not be identified\n",
      "  warnings.warn(msg, category=PerfectSeparationWarning)\n",
      "C:\\ProgramData\\anaconda3\\envs\\nlp-env\\lib\\site-packages\\statsmodels\\genmod\\families\\links.py:198: RuntimeWarning: overflow encountered in exp\n",
      "  t = np.exp(-z)\n",
      "C:\\ProgramData\\anaconda3\\envs\\nlp-env\\lib\\site-packages\\numpy\\lib\\function_base.py:2853: RuntimeWarning: invalid value encountered in divide\n",
      "  c /= stddev[:, None]\n",
      "C:\\ProgramData\\anaconda3\\envs\\nlp-env\\lib\\site-packages\\numpy\\lib\\function_base.py:2854: RuntimeWarning: invalid value encountered in divide\n",
      "  c /= stddev[None, :]\n"
     ]
    },
    {
     "name": "stdout",
     "output_type": "stream",
     "text": [
      "Model Number: 1559 with model UnivariateMotif in generation 18 of 25\n",
      "Model Number: 1560 with model ARDL in generation 18 of 25\n",
      "Model Number: 1561 with model MetricMotif in generation 18 of 25\n",
      "Template Eval Error: IndexError('index 121 is out of bounds for axis 0 with size 100') in model 1561 in generation 18: MetricMotif\n",
      "Model Number: 1562 with model GLM in generation 18 of 25\n",
      "Model Number: 1563 with model GLM in generation 18 of 25\n",
      "Model Number: 1564 with model LastValueNaive in generation 18 of 25\n",
      "New Generation: 19 of 25\n",
      "Model Number: 1565 with model SeasonalityMotif in generation 19 of 25\n",
      "Model Number: 1566 with model SeasonalityMotif in generation 19 of 25\n",
      "Model Number: 1567 with model SeasonalNaive in generation 19 of 25\n",
      "Model Number: 1568 with model SectionalMotif in generation 19 of 25\n",
      "Model Number: 1569 with model LastValueNaive in generation 19 of 25\n",
      "Model Number: 1570 with model LastValueNaive in generation 19 of 25\n",
      "Model Number: 1571 with model DatepartRegression in generation 19 of 25\n",
      "Template Eval Error: Exception(\"Transformer RobustScaler failed on inverse from params linear {'0': {'part': 'trend', 'lamb': 6.25}, '1': {'output_distribution': 'uniform', 'n_quantiles': 63}, '2': {'span': 7}, '3': {}, '4': {'mode': 'upscale', 'factor': 1, 'down_method': 'decimate', 'fill_method': 'cubic'}} with ValueError('Shape of passed values is (26, 1), indices imply (20, 1)')\") in model 1571 in generation 19: DatepartRegression\n",
      "Model Number: 1572 with model ARDL in generation 19 of 25\n",
      "Model Number: 1573 with model AverageValueNaive in generation 19 of 25\n",
      "Model Number: 1574 with model GLM in generation 19 of 25\n",
      "Template Eval Error: Exception(\"Transformer DatepartRegression failed on fit from params ffill_mean_biased {'0': {'algorithm': 'parallel', 'fun': 'logcosh', 'max_iter': 250, 'whiten': 'arbitrary-variance'}, '1': {'regression_model': {'model': 'ElasticNet', 'model_params': {'l1_ratio': 0.5, 'fit_intercept': True, 'selection': 'cyclic', 'max_iter': 1000}}, 'datepart_method': 'simple_binarized', 'polynomial_degree': None, 'transform_dict': None, 'holiday_countries_used': False, 'lags': None, 'forward_lags': 4}, '2': {'rows': 7, 'lag': 1, 'method': 'additive', 'strength': 0.9, 'first_value_only': False, 'threshold': None, 'threshold_method': 'max'}, '3': {'rows': 1, 'lag': 1, 'method': 'additive', 'strength': 0.5, 'first_value_only': False, 'threshold': 1, 'threshold_method': 'mean'}, '4': {'rows': 2, 'lag': 1, 'method': 'additive', 'strength': 1.0, 'first_value_only': False, 'threshold': 1, 'threshold_method': 'mean'}} with error ValueError('Found input variables with inconsistent numbers of samples: [1092, 190]')\") in model 1574 in generation 19: GLM\n",
      "Model Number: 1575 with model GLM in generation 19 of 25\n",
      "Model Number: 1576 with model MetricMotif in generation 19 of 25\n",
      "Model Number: 1577 with model BasicLinearModel in generation 19 of 25\n",
      "Template Eval Error: ValueError(\"regression_type=='User' but no future_regressor supplied\") in model 1577 in generation 19: BasicLinearModel\n",
      "Model Number: 1578 with model UnivariateMotif in generation 19 of 25\n",
      "Model Number: 1579 with model FFT in generation 19 of 25\n",
      "Model Number: 1580 with model ARDL in generation 19 of 25\n",
      "Model Number: 1581 with model GLM in generation 19 of 25\n",
      "Model Number: 1582 with model GLM in generation 19 of 25\n",
      "Model Number: 1583 with model SeasonalityMotif in generation 19 of 25\n",
      "Model Number: 1584 with model LastValueNaive in generation 19 of 25\n",
      "Model Number: 1585 with model SectionalMotif in generation 19 of 25\n",
      "Model Number: 1586 with model UnivariateMotif in generation 19 of 25\n",
      "Model Number: 1587 with model LastValueNaive in generation 19 of 25\n",
      "Model Number: 1588 with model BasicLinearModel in generation 19 of 25\n",
      "Model Number: 1589 with model AverageValueNaive in generation 19 of 25\n",
      "Model Number: 1590 with model AverageValueNaive in generation 19 of 25\n",
      "Model Number: 1591 with model FFT in generation 19 of 25\n",
      "Template Eval Error: Exception(\"Transformer RegressionFilter failed on fit from params rolling_mean {'0': {'lag_1': 28, 'method': 20}, '1': {'output_distribution': 'uniform', 'n_quantiles': 63}, '2': {'rows': 1, 'lag': 1, 'method': 'additive', 'strength': 1.0, 'first_value_only': False, 'threshold': 3, 'threshold_method': 'mean'}, '3': {'sigma': 1, 'rolling_window': 90, 'run_order': 'trend_first', 'regression_params': {'regression_model': {'model': 'ElasticNet', 'model_params': {'l1_ratio': 0.9, 'fit_intercept': False, 'selection': 'cyclic', 'max_iter': 2000}}, 'datepart_method': 'simple_binarized', 'polynomial_degree': None, 'transform_dict': {'fillna': 'rolling_mean_24', 'transformations': {'0': 'LevelShiftTransformer'}, 'transformation_params': {'0': {'window_size': 90, 'alpha': 3.0, 'grouping_forward_limit': 6, 'max_level_shifts': 40, 'alignment': 'average'}}}, 'holiday_countries_used': False, 'lags': 1, 'forward_lags': None}, 'holiday_params': {'threshold': 0.9, 'splash_threshold': None, 'use_dayofmonth_holidays': True, 'use_wkdom_holidays': True, 'use_wkdeom_holidays': False, 'use_lunar_holidays': False, 'use_lunar_weekday': False, 'use_islamic_holidays': True, 'use_hebrew_holidays': True, 'use_hindu_holidays': False, 'anomaly_detector_params': {'method': 'zscore', 'method_params': {'distribution': 'gamma', 'alpha': 0.05}, 'fillna': 'ffill', 'transform_dict': None, 'isolated_only': False, 'on_inverse': True}, 'remove_excess_anomalies': True, 'impact': 'datepart_regression', 'regression_params': {'regression_model': {'model': 'ElasticNet', 'model_params': {'l1_ratio': 0.9, 'fit_intercept': False, 'selection': 'cyclic', 'max_iter': 2000}}, 'datepart_method': 'simple_binarized', 'polynomial_degree': None, 'transform_dict': {'fillna': 'rolling_mean_24', 'transformations': {'0': 'LevelShiftTransformer'}, 'transformation_params': {'0': {'window_size': 90, 'alpha': 3.0, 'grouping_forward_limit': 6, 'max_level_shifts': 40, 'alignment': 'average'}}}, 'holiday_countries_used': False, 'lags': 1, 'forward_lags': None}}, 'trend_method': 'local_linear'}, '4': {}} with error ValueError('Found input variables with inconsistent numbers of samples: [1092, 190]')\") in model 1591 in generation 19: FFT\n",
      "Model Number: 1592 with model SeasonalityMotif in generation 19 of 25\n",
      "Model Number: 1593 with model ARDL in generation 19 of 25\n",
      "Model Number: 1594 with model GLM in generation 19 of 25\n",
      "Model Number: 1595 with model BasicLinearModel in generation 19 of 25\n"
     ]
    },
    {
     "name": "stderr",
     "output_type": "stream",
     "text": [
      "C:\\ProgramData\\anaconda3\\envs\\nlp-env\\lib\\site-packages\\sklearn\\linear_model\\_coordinate_descent.py:631: ConvergenceWarning: Objective did not converge. You might want to increase the number of iterations, check the scale of the features or consider increasing regularisation. Duality gap: 9.276e+03, tolerance: 5.879e+00\n",
      "  model = cd_fast.enet_coordinate_descent(\n",
      "C:\\ProgramData\\anaconda3\\envs\\nlp-env\\lib\\site-packages\\statsmodels\\genmod\\families\\links.py:198: RuntimeWarning: overflow encountered in exp\n",
      "  t = np.exp(-z)\n"
     ]
    },
    {
     "name": "stdout",
     "output_type": "stream",
     "text": [
      "Model Number: 1596 with model LastValueNaive in generation 19 of 25\n",
      "Model Number: 1597 with model BasicLinearModel in generation 19 of 25\n",
      "Model Number: 1598 with model GLM in generation 19 of 25\n",
      "Model Number: 1599 with model DatepartRegression in generation 19 of 25\n",
      "Model Number: 1600 with model BasicLinearModel in generation 19 of 25\n",
      "Model Number: 1601 with model LastValueNaive in generation 19 of 25\n",
      "Model Number: 1602 with model Cassandra in generation 19 of 25\n",
      "Model Number: 1603 with model SeasonalityMotif in generation 19 of 25\n",
      "Model Number: 1604 with model Cassandra in generation 19 of 25\n",
      "Model Number: 1605 with model DatepartRegression in generation 19 of 25\n",
      "Model Number: 1606 with model ARDL in generation 19 of 25\n",
      "Template Eval Error: ValueError(\"regression_type='User' but future_regressor not supplied\") in model 1606 in generation 19: ARDL\n",
      "Model Number: 1607 with model DatepartRegression in generation 19 of 25\n",
      "Template Eval Error: ValueError('operands could not be broadcast together with shapes (26,1) (10,1) ') in model 1607 in generation 19: DatepartRegression\n",
      "Model Number: 1608 with model GLM in generation 19 of 25\n",
      "Template Eval Error: Exception(\"Transformer Cointegration failed on fit from params ffill {'0': {'lag_1': 28, 'method': 20}, '1': {}, '2': {'det_order': 0, 'k_ar_diff': 0}, '3': {'rows': 7, 'lag': 1, 'method': 'additive', 'strength': 0.5, 'first_value_only': False, 'threshold': 3, 'threshold_method': 'mean'}} with error ValueError('Coint only works on multivarate series')\") in model 1608 in generation 19: GLM\n",
      "Model Number: 1609 with model SectionalMotif in generation 19 of 25\n",
      "Model Number: 1610 with model SeasonalityMotif in generation 19 of 25\n",
      "Model Number: 1611 with model Cassandra in generation 19 of 25\n",
      "Model Number: 1612 with model Cassandra in generation 19 of 25\n"
     ]
    },
    {
     "name": "stderr",
     "output_type": "stream",
     "text": [
      "C:\\ProgramData\\anaconda3\\envs\\nlp-env\\lib\\site-packages\\sklearn\\linear_model\\_coordinate_descent.py:631: ConvergenceWarning: Objective did not converge. You might want to increase the number of iterations, check the scale of the features or consider increasing regularisation. Duality gap: 7.258e+02, tolerance: 1.348e+00\n",
      "  model = cd_fast.enet_coordinate_descent(\n",
      "C:\\ProgramData\\anaconda3\\envs\\nlp-env\\lib\\site-packages\\numpy\\lib\\function_base.py:2853: RuntimeWarning: invalid value encountered in divide\n",
      "  c /= stddev[:, None]\n",
      "C:\\ProgramData\\anaconda3\\envs\\nlp-env\\lib\\site-packages\\numpy\\lib\\function_base.py:2854: RuntimeWarning: invalid value encountered in divide\n",
      "  c /= stddev[None, :]\n",
      "C:\\ProgramData\\anaconda3\\envs\\nlp-env\\lib\\site-packages\\sklearn\\linear_model\\_coordinate_descent.py:631: ConvergenceWarning: Objective did not converge. You might want to increase the number of iterations, check the scale of the features or consider increasing regularisation. Duality gap: 9.143e+03, tolerance: 5.676e+00\n",
      "  model = cd_fast.enet_coordinate_descent(\n"
     ]
    },
    {
     "name": "stdout",
     "output_type": "stream",
     "text": [
      "Model Number: 1613 with model GLM in generation 19 of 25\n",
      "Model Number: 1614 with model Cassandra in generation 19 of 25\n",
      "Model Number: 1615 with model SectionalMotif in generation 19 of 25\n",
      "Model Number: 1616 with model MetricMotif in generation 19 of 25\n",
      "Template Eval Error: IndexError('index 178 is out of bounds for axis 0 with size 100') in model 1616 in generation 19: MetricMotif\n",
      "Model Number: 1617 with model ARDL in generation 19 of 25\n",
      "Model Number: 1618 with model DatepartRegression in generation 19 of 25\n",
      "interpolating\n",
      "Template Eval Error: ValueError('Model DatepartRegression returned NaN for one or more series. fail_on_forecast_nan=True') in model 1618 in generation 19: DatepartRegression\n",
      "Model Number: 1619 with model BasicLinearModel in generation 19 of 25\n",
      "Model Number: 1620 with model LastValueNaive in generation 19 of 25\n",
      "Model Number: 1621 with model UnivariateMotif in generation 19 of 25\n",
      "Model Number: 1622 with model FFT in generation 19 of 25\n"
     ]
    },
    {
     "name": "stderr",
     "output_type": "stream",
     "text": [
      "C:\\ProgramData\\anaconda3\\envs\\nlp-env\\lib\\site-packages\\sklearn\\neighbors\\_regression.py:494: UserWarning: One or more samples have no neighbors within specified radius; predicting NaN.\n",
      "  warnings.warn(empty_warning_msg)\n"
     ]
    },
    {
     "name": "stdout",
     "output_type": "stream",
     "text": [
      "Model Number: 1623 with model ARDL in generation 19 of 25\n",
      "Model Number: 1624 with model DatepartRegression in generation 19 of 25\n",
      "Template Eval Error: ValueError(\"regression_type='User' but no future_regressor passed\") in model 1624 in generation 19: DatepartRegression\n",
      "Model Number: 1625 with model AverageValueNaive in generation 19 of 25\n",
      "Model Number: 1626 with model SeasonalityMotif in generation 19 of 25\n",
      "Model Number: 1627 with model Cassandra in generation 19 of 25\n",
      "New Generation: 20 of 25\n",
      "Model Number: 1628 with model UnivariateMotif in generation 20 of 25\n"
     ]
    },
    {
     "name": "stderr",
     "output_type": "stream",
     "text": [
      "C:\\ProgramData\\anaconda3\\envs\\nlp-env\\lib\\site-packages\\numpy\\lib\\function_base.py:2853: RuntimeWarning: invalid value encountered in divide\n",
      "  c /= stddev[:, None]\n",
      "C:\\ProgramData\\anaconda3\\envs\\nlp-env\\lib\\site-packages\\numpy\\lib\\function_base.py:2854: RuntimeWarning: invalid value encountered in divide\n",
      "  c /= stddev[None, :]\n"
     ]
    },
    {
     "name": "stdout",
     "output_type": "stream",
     "text": [
      "Model Number: 1629 with model SeasonalityMotif in generation 20 of 25\n",
      "Model Number: 1630 with model Cassandra in generation 20 of 25\n",
      "Model Number: 1631 with model UnivariateMotif in generation 20 of 25\n",
      "Model Number: 1632 with model BasicLinearModel in generation 20 of 25\n"
     ]
    },
    {
     "name": "stderr",
     "output_type": "stream",
     "text": [
      "C:\\ProgramData\\anaconda3\\envs\\nlp-env\\lib\\site-packages\\numpy\\lib\\function_base.py:2853: RuntimeWarning: invalid value encountered in divide\n",
      "  c /= stddev[:, None]\n",
      "C:\\ProgramData\\anaconda3\\envs\\nlp-env\\lib\\site-packages\\numpy\\lib\\function_base.py:2854: RuntimeWarning: invalid value encountered in divide\n",
      "  c /= stddev[None, :]\n"
     ]
    },
    {
     "name": "stdout",
     "output_type": "stream",
     "text": [
      "Model Number: 1633 with model MetricMotif in generation 20 of 25\n",
      "Template Eval Error: IndexError('index 122 is out of bounds for axis 0 with size 100') in model 1633 in generation 20: MetricMotif\n",
      "Model Number: 1634 with model Cassandra in generation 20 of 25\n",
      "Model Number: 1635 with model BasicLinearModel in generation 20 of 25\n",
      "Model Number: 1636 with model ARDL in generation 20 of 25\n"
     ]
    },
    {
     "name": "stderr",
     "output_type": "stream",
     "text": [
      "C:\\ProgramData\\anaconda3\\envs\\nlp-env\\lib\\site-packages\\numpy\\lib\\function_base.py:2853: RuntimeWarning: invalid value encountered in divide\n",
      "  c /= stddev[:, None]\n",
      "C:\\ProgramData\\anaconda3\\envs\\nlp-env\\lib\\site-packages\\numpy\\lib\\function_base.py:2854: RuntimeWarning: invalid value encountered in divide\n",
      "  c /= stddev[None, :]\n",
      "C:\\ProgramData\\anaconda3\\envs\\nlp-env\\lib\\site-packages\\sklearn\\linear_model\\_coordinate_descent.py:631: ConvergenceWarning: Objective did not converge. You might want to increase the number of iterations, check the scale of the features or consider increasing regularisation. Duality gap: 9.929e+03, tolerance: 6.073e+00\n",
      "  model = cd_fast.enet_coordinate_descent(\n"
     ]
    },
    {
     "name": "stdout",
     "output_type": "stream",
     "text": [
      "Model Number: 1637 with model GLM in generation 20 of 25\n",
      "Model Number: 1638 with model Cassandra in generation 20 of 25\n",
      "Model Number: 1639 with model AverageValueNaive in generation 20 of 25\n",
      "Model Number: 1640 with model GLM in generation 20 of 25\n",
      "Model Number: 1641 with model BasicLinearModel in generation 20 of 25\n"
     ]
    },
    {
     "name": "stderr",
     "output_type": "stream",
     "text": [
      "C:\\ProgramData\\anaconda3\\envs\\nlp-env\\lib\\site-packages\\numpy\\lib\\function_base.py:2853: RuntimeWarning: invalid value encountered in divide\n",
      "  c /= stddev[:, None]\n",
      "C:\\ProgramData\\anaconda3\\envs\\nlp-env\\lib\\site-packages\\numpy\\lib\\function_base.py:2854: RuntimeWarning: invalid value encountered in divide\n",
      "  c /= stddev[None, :]\n",
      "C:\\ProgramData\\anaconda3\\envs\\nlp-env\\lib\\site-packages\\statsmodels\\genmod\\families\\links.py:198: RuntimeWarning: overflow encountered in exp\n",
      "  t = np.exp(-z)\n"
     ]
    },
    {
     "name": "stdout",
     "output_type": "stream",
     "text": [
      "Model Number: 1642 with model LastValueNaive in generation 20 of 25\n",
      "Model Number: 1643 with model LastValueNaive in generation 20 of 25\n",
      "Model Number: 1644 with model MetricMotif in generation 20 of 25\n",
      "Model Number: 1645 with model GLM in generation 20 of 25\n",
      "Template Eval Error: Exception(\"Transformer BTCD failed on fit from params ffill_mean_biased {'0': {'part': 'trend', 'lamb': 6.25}, '1': {'regression_model': {'model': 'LinearRegression', 'model_params': {}}, 'max_lags': 1}, '2': {'span': 7}} with error ValueError('BTCD only works on multivarate series')\") in model 1645 in generation 20: GLM\n",
      "Model Number: 1646 with model Cassandra in generation 20 of 25\n",
      "Template Eval Error: IndexError('index 152 is out of bounds for axis 0 with size 1') in model 1646 in generation 20: Cassandra\n",
      "Model Number: 1647 with model BasicLinearModel in generation 20 of 25\n",
      "Template Eval Error: ValueError('maximum supported dimension for an ndarray is 32, found 190') in model 1647 in generation 20: BasicLinearModel\n",
      "Model Number: 1648 with model LastValueNaive in generation 20 of 25\n",
      "Template Eval Error: Exception('Transformer CenterSplit failed on fit from params akima {\\'0\\': {\\'fillna\\': \\'mean\\', \\'center\\': \\'median\\'}, \\'1\\': {}, \\'2\\': {\\'fillna\\': \\'one\\', \\'center\\': \\'zero\\'}} with error ValueError(\"columns overlap but no suffix specified: Index([\\'Close_lltmicro\\'], dtype=\\'object\\')\")') in model 1648 in generation 20: LastValueNaive\n",
      "Model Number: 1649 with model SeasonalityMotif in generation 20 of 25\n",
      "Model Number: 1650 with model BasicLinearModel in generation 20 of 25\n"
     ]
    },
    {
     "name": "stderr",
     "output_type": "stream",
     "text": [
      "C:\\ProgramData\\anaconda3\\envs\\nlp-env\\lib\\site-packages\\numpy\\lib\\function_base.py:2853: RuntimeWarning: invalid value encountered in divide\n",
      "  c /= stddev[:, None]\n",
      "C:\\ProgramData\\anaconda3\\envs\\nlp-env\\lib\\site-packages\\numpy\\lib\\function_base.py:2854: RuntimeWarning: invalid value encountered in divide\n",
      "  c /= stddev[None, :]\n"
     ]
    },
    {
     "name": "stdout",
     "output_type": "stream",
     "text": [
      "Model Number: 1651 with model FFT in generation 20 of 25\n",
      "Model Number: 1652 with model SeasonalityMotif in generation 20 of 25\n",
      "Model Number: 1653 with model SeasonalityMotif in generation 20 of 25\n",
      "Model Number: 1654 with model SeasonalityMotif in generation 20 of 25\n",
      "Model Number: 1655 with model ARDL in generation 20 of 25\n"
     ]
    },
    {
     "name": "stderr",
     "output_type": "stream",
     "text": [
      "C:\\ProgramData\\anaconda3\\envs\\nlp-env\\lib\\site-packages\\sklearn\\neighbors\\_classification.py:215: DataConversionWarning: A column-vector y was passed when a 1d array was expected. Please change the shape of y to (n_samples,), for example using ravel().\n",
      "  return self._fit(X, y)\n"
     ]
    },
    {
     "name": "stdout",
     "output_type": "stream",
     "text": [
      "Model Number: 1656 with model BasicLinearModel in generation 20 of 25\n",
      "Model Number: 1657 with model MetricMotif in generation 20 of 25\n",
      "Model Number: 1658 with model GLM in generation 20 of 25\n",
      "Template Eval Error: ValueError('NaN, inf or invalid value detected in weights, estimation infeasible.') in model 1658 in generation 20: GLM\n",
      "Model Number: 1659 with model SeasonalityMotif in generation 20 of 25\n",
      "Model Number: 1660 with model DatepartRegression in generation 20 of 25\n",
      "Template Eval Error: IndexError('tuple index out of range') in model 1660 in generation 20: DatepartRegression\n",
      "Model Number: 1661 with model ARDL in generation 20 of 25\n",
      "Model Number: 1662 with model UnivariateMotif in generation 20 of 25\n",
      "Model Number: 1663 with model GLM in generation 20 of 25\n",
      "Model Number: 1664 with model Cassandra in generation 20 of 25\n",
      "Model Number: 1665 with model BasicLinearModel in generation 20 of 25\n"
     ]
    },
    {
     "name": "stderr",
     "output_type": "stream",
     "text": [
      "C:\\ProgramData\\anaconda3\\envs\\nlp-env\\lib\\site-packages\\statsmodels\\genmod\\families\\family.py:445: RuntimeWarning: divide by zero encountered in divide\n",
      "  endog_mu = self._clean(endog / mu)\n",
      "C:\\ProgramData\\anaconda3\\envs\\nlp-env\\lib\\site-packages\\statsmodels\\genmod\\families\\family.py:143: RuntimeWarning: divide by zero encountered in divide\n",
      "  return 1. / (self.link.deriv(mu)**2 * self.variance(mu))\n",
      "C:\\ProgramData\\anaconda3\\envs\\nlp-env\\lib\\site-packages\\numpy\\lib\\function_base.py:2853: RuntimeWarning: invalid value encountered in divide\n",
      "  c /= stddev[:, None]\n",
      "C:\\ProgramData\\anaconda3\\envs\\nlp-env\\lib\\site-packages\\numpy\\lib\\function_base.py:2854: RuntimeWarning: invalid value encountered in divide\n",
      "  c /= stddev[None, :]\n"
     ]
    },
    {
     "name": "stdout",
     "output_type": "stream",
     "text": [
      "Model Number: 1666 with model DatepartRegression in generation 20 of 25\n",
      "Model Number: 1667 with model LastValueNaive in generation 20 of 25\n",
      "Template Eval Error: Exception(\"Transformer ChangepointDetrend failed on inverse from params rolling_mean_24 {'0': {'mode': 'downscale', 'factor': 6, 'down_method': 'decimate', 'fill_method': 'cubic'}, '1': {'rows': 1, 'lag': 1, 'method': 'additive', 'strength': 0.7, 'first_value_only': False, 'threshold': 10, 'threshold_method': 'max'}, '2': {}, '3': {'model': 'ElasticNet', 'changepoint_spacing': 120, 'changepoint_distance_end': 180, 'datepart_method': 'common_fourier'}} with ValueError('The feature names should match those that were passed during fit.\\\\nFeature names unseen at fit time:\\\\n- seasonalitycommonfourier_28\\\\n- seasonalitycommonfourier_29\\\\n- seasonalitycommonfourier_30\\\\n- seasonalitycommonfourier_31\\\\n- seasonalitycommonfourier_32\\\\n- ...\\\\n')\") in model 1667 in generation 20: LastValueNaive\n",
      "Model Number: 1668 with model ARDL in generation 20 of 25\n",
      "Template Eval Error: ValueError(\"regression_type='User' but future_regressor not supplied\") in model 1668 in generation 20: ARDL\n",
      "Model Number: 1669 with model ARDL in generation 20 of 25\n",
      "Template Eval Error: ValueError(\"ARDL series Close failed with error ValueError('The number of regressors (69) including deterministics, lags of the endog, lags of the exogenous, and fixed regressors is larger than the sample available for estimation (55).') exog train             weekend  quarter      epoch  month_1  month_2  month_3  month_4  \\\\\\nDate                                                                          \\n2025-06-19        0        2  2460845.5      0.0      0.0      0.0      0.0   \\n2025-06-20        0        2  2460846.5      0.0      0.0      0.0      0.0   \\n2025-06-23        0        2  2460849.5      0.0      0.0      0.0      0.0   \\n2025-06-24        0        2  2460850.5      0.0      0.0      0.0      0.0   \\n2025-06-25        0        2  2460851.5      0.0      0.0      0.0      0.0   \\n2025-06-26        0        2  2460852.5      0.0      0.0      0.0      0.0   \\n2025-06-27        0        2  2460853.5      0.0      0.0      0.0      0.0   \\n2025-06-30        0        2  2460856.5      0.0      0.0      0.0      0.0   \\n2025-07-01        0        3  2460857.5      0.0      0.0      0.0      0.0   \\n2025-07-02        0        3  2460858.5      0.0      0.0      0.0      0.0   \\n2025-07-03        0        3  2460859.5      0.0      0.0      0.0      0.0   \\n2025-07-04        0        3  2460860.5      0.0      0.0      0.0      0.0   \\n2025-07-07        0        3  2460863.5      0.0      0.0      0.0      0.0   \\n2025-07-08        0        3  2460864.5      0.0      0.0      0.0      0.0   \\n2025-07-09        0        3  2460865.5      0.0      0.0      0.0      0.0   \\n2025-07-10        0        3  2460866.5      0.0      0.0      0.0      0.0   \\n2025-07-11        0        3  2460867.5      0.0      0.0      0.0      0.0   \\n2025-07-14        0        3  2460870.5      0.0      0.0      0.0      0.0   \\n2025-07-15        0        3  2460871.5      0.0      0.0      0.0      0.0   \\n2025-07-16        0        3  2460872.5      0.0      0.0      0.0      0.0   \\n2025-07-17        0        3  2460873.5      0.0      0.0      0.0      0.0   \\n2025-07-18        0        3  2460874.5      0.0      0.0      0.0      0.0   \\n2025-07-21        0        3  2460877.5      0.0      0.0      0.0      0.0   \\n2025-07-22        0        3  2460878.5      0.0      0.0      0.0      0.0   \\n2025-07-23        0        3  2460879.5      0.0      0.0      0.0      0.0   \\n2025-07-24        0        3  2460880.5      0.0      0.0      0.0      0.0   \\n2025-07-25        0        3  2460881.5      0.0      0.0      0.0      0.0   \\n2025-07-28        0        3  2460884.5      0.0      0.0      0.0      0.0   \\n2025-07-29        0        3  2460885.5      0.0      0.0      0.0      0.0   \\n2025-07-30        0        3  2460886.5      0.0      0.0      0.0      0.0   \\n2025-07-31        0        3  2460887.5      0.0      0.0      0.0      0.0   \\n2025-08-01        0        3  2460888.5      0.0      0.0      0.0      0.0   \\n2025-08-04        0        3  2460891.5      0.0      0.0      0.0      0.0   \\n2025-08-05        0        3  2460892.5      0.0      0.0      0.0      0.0   \\n2025-08-06        0        3  2460893.5      0.0      0.0      0.0      0.0   \\n2025-08-07        0        3  2460894.5      0.0      0.0      0.0      0.0   \\n2025-08-08        0        3  2460895.5      0.0      0.0      0.0      0.0   \\n2025-08-11        0        3  2460898.5      0.0      0.0      0.0      0.0   \\n2025-08-12        0        3  2460899.5      0.0      0.0      0.0      0.0   \\n2025-08-13        0        3  2460900.5      0.0      0.0      0.0      0.0   \\n2025-08-14        0        3  2460901.5      0.0      0.0      0.0      0.0   \\n2025-08-15        0        3  2460902.5      0.0      0.0      0.0      0.0   \\n2025-08-18        0        3  2460905.5      0.0      0.0      0.0      0.0   \\n2025-08-19        0        3  2460906.5      0.0      0.0      0.0      0.0   \\n2025-08-20        0        3  2460907.5      0.0      0.0      0.0      0.0   \\n2025-08-21        0        3  2460908.5      0.0      0.0      0.0      0.0   \\n2025-08-22        0        3  2460909.5      0.0      0.0      0.0      0.0   \\n2025-08-25        0        3  2460912.5      0.0      0.0      0.0      0.0   \\n2025-08-26        0        3  2460913.5      0.0      0.0      0.0      0.0   \\n2025-08-27        0        3  2460914.5      0.0      0.0      0.0      0.0   \\n2025-08-28        0        3  2460915.5      0.0      0.0      0.0      0.0   \\n2025-08-29        0        3  2460916.5      0.0      0.0      0.0      0.0   \\n2025-09-01        0        3  2460919.5      0.0      0.0      0.0      0.0   \\n2025-09-02        0        3  2460920.5      0.0      0.0      0.0      0.0   \\n2025-09-03        0        3  2460921.5      0.0      0.0      0.0      0.0   \\n2025-09-04        0        3  2460922.5      0.0      0.0      0.0      0.0   \\n2025-09-05        0        3  2460923.5      0.0      0.0      0.0      0.0   \\n\\n            month_5  month_6  month_7  ...  month_10  month_11  month_12  \\\\\\nDate                                   ...                                 \\n2025-06-19      0.0      1.0      0.0  ...       0.0       0.0       0.0   \\n2025-06-20      0.0      1.0      0.0  ...       0.0       0.0       0.0   \\n2025-06-23      0.0      1.0      0.0  ...       0.0       0.0       0.0   \\n2025-06-24      0.0      1.0      0.0  ...       0.0       0.0       0.0   \\n2025-06-25      0.0      1.0      0.0  ...       0.0       0.0       0.0   \\n2025-06-26      0.0      1.0      0.0  ...       0.0       0.0       0.0   \\n2025-06-27      0.0      1.0      0.0  ...       0.0       0.0       0.0   \\n2025-06-30      0.0      1.0      0.0  ...       0.0       0.0       0.0   \\n2025-07-01      0.0      0.0      1.0  ...       0.0       0.0       0.0   \\n2025-07-02      0.0      0.0      1.0  ...       0.0       0.0       0.0   \\n2025-07-03      0.0      0.0      1.0  ...       0.0       0.0       0.0   \\n2025-07-04      0.0      0.0      1.0  ...       0.0       0.0       0.0   \\n2025-07-07      0.0      0.0      1.0  ...       0.0       0.0       0.0   \\n2025-07-08      0.0      0.0      1.0  ...       0.0       0.0       0.0   \\n2025-07-09      0.0      0.0      1.0  ...       0.0       0.0       0.0   \\n2025-07-10      0.0      0.0      1.0  ...       0.0       0.0       0.0   \\n2025-07-11      0.0      0.0      1.0  ...       0.0       0.0       0.0   \\n2025-07-14      0.0      0.0      1.0  ...       0.0       0.0       0.0   \\n2025-07-15      0.0      0.0      1.0  ...       0.0       0.0       0.0   \\n2025-07-16      0.0      0.0      1.0  ...       0.0       0.0       0.0   \\n2025-07-17      0.0      0.0      1.0  ...       0.0       0.0       0.0   \\n2025-07-18      0.0      0.0      1.0  ...       0.0       0.0       0.0   \\n2025-07-21      0.0      0.0      1.0  ...       0.0       0.0       0.0   \\n2025-07-22      0.0      0.0      1.0  ...       0.0       0.0       0.0   \\n2025-07-23      0.0      0.0      1.0  ...       0.0       0.0       0.0   \\n2025-07-24      0.0      0.0      1.0  ...       0.0       0.0       0.0   \\n2025-07-25      0.0      0.0      1.0  ...       0.0       0.0       0.0   \\n2025-07-28      0.0      0.0      1.0  ...       0.0       0.0       0.0   \\n2025-07-29      0.0      0.0      1.0  ...       0.0       0.0       0.0   \\n2025-07-30      0.0      0.0      1.0  ...       0.0       0.0       0.0   \\n2025-07-31      0.0      0.0      1.0  ...       0.0       0.0       0.0   \\n2025-08-01      0.0      0.0      0.0  ...       0.0       0.0       0.0   \\n2025-08-04      0.0      0.0      0.0  ...       0.0       0.0       0.0   \\n2025-08-05      0.0      0.0      0.0  ...       0.0       0.0       0.0   \\n2025-08-06      0.0      0.0      0.0  ...       0.0       0.0       0.0   \\n2025-08-07      0.0      0.0      0.0  ...       0.0       0.0       0.0   \\n2025-08-08      0.0      0.0      0.0  ...       0.0       0.0       0.0   \\n2025-08-11      0.0      0.0      0.0  ...       0.0       0.0       0.0   \\n2025-08-12      0.0      0.0      0.0  ...       0.0       0.0       0.0   \\n2025-08-13      0.0      0.0      0.0  ...       0.0       0.0       0.0   \\n2025-08-14      0.0      0.0      0.0  ...       0.0       0.0       0.0   \\n2025-08-15      0.0      0.0      0.0  ...       0.0       0.0       0.0   \\n2025-08-18      0.0      0.0      0.0  ...       0.0       0.0       0.0   \\n2025-08-19      0.0      0.0      0.0  ...       0.0       0.0       0.0   \\n2025-08-20      0.0      0.0      0.0  ...       0.0       0.0       0.0   \\n2025-08-21      0.0      0.0      0.0  ...       0.0       0.0       0.0   \\n2025-08-22      0.0      0.0      0.0  ...       0.0       0.0       0.0   \\n2025-08-25      0.0      0.0      0.0  ...       0.0       0.0       0.0   \\n2025-08-26      0.0      0.0      0.0  ...       0.0       0.0       0.0   \\n2025-08-27      0.0      0.0      0.0  ...       0.0       0.0       0.0   \\n2025-08-28      0.0      0.0      0.0  ...       0.0       0.0       0.0   \\n2025-08-29      0.0      0.0      0.0  ...       0.0       0.0       0.0   \\n2025-09-01      0.0      0.0      0.0  ...       0.0       0.0       0.0   \\n2025-09-02      0.0      0.0      0.0  ...       0.0       0.0       0.0   \\n2025-09-03      0.0      0.0      0.0  ...       0.0       0.0       0.0   \\n2025-09-04      0.0      0.0      0.0  ...       0.0       0.0       0.0   \\n2025-09-05      0.0      0.0      0.0  ...       0.0       0.0       0.0   \\n\\n            weekday_0  weekday_1  weekday_2  weekday_3  weekday_4  weekday_5  \\\\\\nDate                                                                           \\n2025-06-19        0.0        0.0        0.0        1.0        0.0        0.0   \\n2025-06-20        0.0        0.0        0.0        0.0        1.0        0.0   \\n2025-06-23        1.0        0.0        0.0        0.0        0.0        0.0   \\n2025-06-24        0.0        1.0        0.0        0.0        0.0        0.0   \\n2025-06-25        0.0        0.0        1.0        0.0        0.0        0.0   \\n2025-06-26        0.0        0.0        0.0        1.0        0.0        0.0   \\n2025-06-27        0.0        0.0        0.0        0.0        1.0        0.0   \\n2025-06-30        1.0        0.0        0.0        0.0        0.0        0.0   \\n2025-07-01        0.0        1.0        0.0        0.0        0.0        0.0   \\n2025-07-02        0.0        0.0        1.0        0.0        0.0        0.0   \\n2025-07-03        0.0        0.0        0.0        1.0        0.0        0.0   \\n2025-07-04        0.0        0.0        0.0        0.0        1.0        0.0   \\n2025-07-07        1.0        0.0        0.0        0.0        0.0        0.0   \\n2025-07-08        0.0        1.0        0.0        0.0        0.0        0.0   \\n2025-07-09        0.0        0.0        1.0        0.0        0.0        0.0   \\n2025-07-10        0.0        0.0        0.0        1.0        0.0        0.0   \\n2025-07-11        0.0        0.0        0.0        0.0        1.0        0.0   \\n2025-07-14        1.0        0.0        0.0        0.0        0.0        0.0   \\n2025-07-15        0.0        1.0        0.0        0.0        0.0        0.0   \\n2025-07-16        0.0        0.0        1.0        0.0        0.0        0.0   \\n2025-07-17        0.0        0.0        0.0        1.0        0.0        0.0   \\n2025-07-18        0.0        0.0        0.0        0.0        1.0        0.0   \\n2025-07-21        1.0        0.0        0.0        0.0        0.0        0.0   \\n2025-07-22        0.0        1.0        0.0        0.0        0.0        0.0   \\n2025-07-23        0.0        0.0        1.0        0.0        0.0        0.0   \\n2025-07-24        0.0        0.0        0.0        1.0        0.0        0.0   \\n2025-07-25        0.0        0.0        0.0        0.0        1.0        0.0   \\n2025-07-28        1.0        0.0        0.0        0.0        0.0        0.0   \\n2025-07-29        0.0        1.0        0.0        0.0        0.0        0.0   \\n2025-07-30        0.0        0.0        1.0        0.0        0.0        0.0   \\n2025-07-31        0.0        0.0        0.0        1.0        0.0        0.0   \\n2025-08-01        0.0        0.0        0.0        0.0        1.0        0.0   \\n2025-08-04        1.0        0.0        0.0        0.0        0.0        0.0   \\n2025-08-05        0.0        1.0        0.0        0.0        0.0        0.0   \\n2025-08-06        0.0        0.0        1.0        0.0        0.0        0.0   \\n2025-08-07        0.0        0.0        0.0        1.0        0.0        0.0   \\n2025-08-08        0.0        0.0        0.0        0.0        1.0        0.0   \\n2025-08-11        1.0        0.0        0.0        0.0        0.0        0.0   \\n2025-08-12        0.0        1.0        0.0        0.0        0.0        0.0   \\n2025-08-13        0.0        0.0        1.0        0.0        0.0        0.0   \\n2025-08-14        0.0        0.0        0.0        1.0        0.0        0.0   \\n2025-08-15        0.0        0.0        0.0        0.0        1.0        0.0   \\n2025-08-18        1.0        0.0        0.0        0.0        0.0        0.0   \\n2025-08-19        0.0        1.0        0.0        0.0        0.0        0.0   \\n2025-08-20        0.0        0.0        1.0        0.0        0.0        0.0   \\n2025-08-21        0.0        0.0        0.0        1.0        0.0        0.0   \\n2025-08-22        0.0        0.0        0.0        0.0        1.0        0.0   \\n2025-08-25        1.0        0.0        0.0        0.0        0.0        0.0   \\n2025-08-26        0.0        1.0        0.0        0.0        0.0        0.0   \\n2025-08-27        0.0        0.0        1.0        0.0        0.0        0.0   \\n2025-08-28        0.0        0.0        0.0        1.0        0.0        0.0   \\n2025-08-29        0.0        0.0        0.0        0.0        1.0        0.0   \\n2025-09-01        1.0        0.0        0.0        0.0        0.0        0.0   \\n2025-09-02        0.0        1.0        0.0        0.0        0.0        0.0   \\n2025-09-03        0.0        0.0        1.0        0.0        0.0        0.0   \\n2025-09-04        0.0        0.0        0.0        1.0        0.0        0.0   \\n2025-09-05        0.0        0.0        0.0        0.0        1.0        0.0   \\n\\n            weekday_6  \\nDate                   \\n2025-06-19        0.0  \\n2025-06-20        0.0  \\n2025-06-23        0.0  \\n2025-06-24        0.0  \\n2025-06-25        0.0  \\n2025-06-26        0.0  \\n2025-06-27        0.0  \\n2025-06-30        0.0  \\n2025-07-01        0.0  \\n2025-07-02        0.0  \\n2025-07-03        0.0  \\n2025-07-04        0.0  \\n2025-07-07        0.0  \\n2025-07-08        0.0  \\n2025-07-09        0.0  \\n2025-07-10        0.0  \\n2025-07-11        0.0  \\n2025-07-14        0.0  \\n2025-07-15        0.0  \\n2025-07-16        0.0  \\n2025-07-17        0.0  \\n2025-07-18        0.0  \\n2025-07-21        0.0  \\n2025-07-22        0.0  \\n2025-07-23        0.0  \\n2025-07-24        0.0  \\n2025-07-25        0.0  \\n2025-07-28        0.0  \\n2025-07-29        0.0  \\n2025-07-30        0.0  \\n2025-07-31        0.0  \\n2025-08-01        0.0  \\n2025-08-04        0.0  \\n2025-08-05        0.0  \\n2025-08-06        0.0  \\n2025-08-07        0.0  \\n2025-08-08        0.0  \\n2025-08-11        0.0  \\n2025-08-12        0.0  \\n2025-08-13        0.0  \\n2025-08-14        0.0  \\n2025-08-15        0.0  \\n2025-08-18        0.0  \\n2025-08-19        0.0  \\n2025-08-20        0.0  \\n2025-08-21        0.0  \\n2025-08-22        0.0  \\n2025-08-25        0.0  \\n2025-08-26        0.0  \\n2025-08-27        0.0  \\n2025-08-28        0.0  \\n2025-08-29        0.0  \\n2025-09-01        0.0  \\n2025-09-02        0.0  \\n2025-09-03        0.0  \\n2025-09-04        0.0  \\n2025-09-05        0.0  \\n\\n[57 rows x 22 columns] and predict             weekend  quarter      epoch  month_1  month_2  month_3  month_4  \\\\\\n2025-09-08        0        3  2460926.5      0.0      0.0      0.0      0.0   \\n2025-09-09        0        3  2460927.5      0.0      0.0      0.0      0.0   \\n2025-09-10        0        3  2460928.5      0.0      0.0      0.0      0.0   \\n2025-09-11        0        3  2460929.5      0.0      0.0      0.0      0.0   \\n2025-09-12        0        3  2460930.5      0.0      0.0      0.0      0.0   \\n2025-09-15        0        3  2460933.5      0.0      0.0      0.0      0.0   \\n2025-09-16        0        3  2460934.5      0.0      0.0      0.0      0.0   \\n2025-09-17        0        3  2460935.5      0.0      0.0      0.0      0.0   \\n2025-09-18        0        3  2460936.5      0.0      0.0      0.0      0.0   \\n2025-09-19        0        3  2460937.5      0.0      0.0      0.0      0.0   \\n\\n            month_5  month_6  month_7  ...  month_10  month_11  month_12  \\\\\\n2025-09-08      0.0      0.0      0.0  ...       0.0       0.0       0.0   \\n2025-09-09      0.0      0.0      0.0  ...       0.0       0.0       0.0   \\n2025-09-10      0.0      0.0      0.0  ...       0.0       0.0       0.0   \\n2025-09-11      0.0      0.0      0.0  ...       0.0       0.0       0.0   \\n2025-09-12      0.0      0.0      0.0  ...       0.0       0.0       0.0   \\n2025-09-15      0.0      0.0      0.0  ...       0.0       0.0       0.0   \\n2025-09-16      0.0      0.0      0.0  ...       0.0       0.0       0.0   \\n2025-09-17      0.0      0.0      0.0  ...       0.0       0.0       0.0   \\n2025-09-18      0.0      0.0      0.0  ...       0.0       0.0       0.0   \\n2025-09-19      0.0      0.0      0.0  ...       0.0       0.0       0.0   \\n\\n            weekday_0  weekday_1  weekday_2  weekday_3  weekday_4  weekday_5  \\\\\\n2025-09-08        1.0        0.0        0.0        0.0        0.0        0.0   \\n2025-09-09        0.0        1.0        0.0        0.0        0.0        0.0   \\n2025-09-10        0.0        0.0        1.0        0.0        0.0        0.0   \\n2025-09-11        0.0        0.0        0.0        1.0        0.0        0.0   \\n2025-09-12        0.0        0.0        0.0        0.0        1.0        0.0   \\n2025-09-15        1.0        0.0        0.0        0.0        0.0        0.0   \\n2025-09-16        0.0        1.0        0.0        0.0        0.0        0.0   \\n2025-09-17        0.0        0.0        1.0        0.0        0.0        0.0   \\n2025-09-18        0.0        0.0        0.0        1.0        0.0        0.0   \\n2025-09-19        0.0        0.0        0.0        0.0        1.0        0.0   \\n\\n            weekday_6  \\n2025-09-08        0.0  \\n2025-09-09        0.0  \\n2025-09-10        0.0  \\n2025-09-11        0.0  \\n2025-09-12        0.0  \\n2025-09-15        0.0  \\n2025-09-16        0.0  \\n2025-09-17        0.0  \\n2025-09-18        0.0  \\n2025-09-19        0.0  \\n\\n[10 rows x 22 columns]\") in model 1669 in generation 20: ARDL\n",
      "New Generation: 21 of 25\n",
      "Model Number: 1670 with model BasicLinearModel in generation 21 of 25\n",
      "Model Number: 1671 with model SeasonalityMotif in generation 21 of 25\n"
     ]
    },
    {
     "name": "stderr",
     "output_type": "stream",
     "text": [
      "C:\\ProgramData\\anaconda3\\envs\\nlp-env\\lib\\site-packages\\sklearn\\neighbors\\_classification.py:215: DataConversionWarning: A column-vector y was passed when a 1d array was expected. Please change the shape of y to (n_samples,), for example using ravel().\n",
      "  return self._fit(X, y)\n"
     ]
    },
    {
     "name": "stdout",
     "output_type": "stream",
     "text": [
      "Model Number: 1672 with model ARDL in generation 21 of 25\n",
      "Model Number: 1673 with model GLM in generation 21 of 25\n",
      "Model Number: 1674 with model DatepartRegression in generation 21 of 25\n"
     ]
    },
    {
     "name": "stderr",
     "output_type": "stream",
     "text": [
      "C:\\ProgramData\\anaconda3\\envs\\nlp-env\\lib\\site-packages\\sklearn\\neighbors\\_classification.py:215: DataConversionWarning: A column-vector y was passed when a 1d array was expected. Please change the shape of y to (n_samples,), for example using ravel().\n",
      "  return self._fit(X, y)\n"
     ]
    },
    {
     "name": "stdout",
     "output_type": "stream",
     "text": [
      "Model Number: 1675 with model SeasonalityMotif in generation 21 of 25\n",
      "Model Number: 1676 with model ARDL in generation 21 of 25\n"
     ]
    },
    {
     "name": "stderr",
     "output_type": "stream",
     "text": [
      "C:\\ProgramData\\anaconda3\\envs\\nlp-env\\lib\\site-packages\\sklearn\\neural_network\\_multilayer_perceptron.py:541: ConvergenceWarning: lbfgs failed to converge (status=1):\n",
      "STOP: TOTAL NO. of ITERATIONS REACHED LIMIT.\n",
      "\n",
      "Increase the number of iterations (max_iter) or scale the data as shown in:\n",
      "    https://scikit-learn.org/stable/modules/preprocessing.html\n",
      "  self.n_iter_ = _check_optimize_result(\"lbfgs\", opt_res, self.max_iter)\n",
      "C:\\ProgramData\\anaconda3\\envs\\nlp-env\\lib\\site-packages\\sklearn\\linear_model\\_coordinate_descent.py:631: ConvergenceWarning: Objective did not converge. You might want to increase the number of iterations, check the scale of the features or consider increasing regularisation. Duality gap: 9.397e+03, tolerance: 5.839e+00\n",
      "  model = cd_fast.enet_coordinate_descent(\n"
     ]
    },
    {
     "name": "stdout",
     "output_type": "stream",
     "text": [
      "Model Number: 1677 with model BasicLinearModel in generation 21 of 25\n",
      "Model Number: 1678 with model AverageValueNaive in generation 21 of 25\n",
      "Model Number: 1679 with model GLM in generation 21 of 25\n",
      "Model Number: 1680 with model SeasonalityMotif in generation 21 of 25\n",
      "Model Number: 1681 with model SeasonalityMotif in generation 21 of 25\n",
      "Model Number: 1682 with model UnivariateMotif in generation 21 of 25\n"
     ]
    },
    {
     "name": "stderr",
     "output_type": "stream",
     "text": [
      "C:\\ProgramData\\anaconda3\\envs\\nlp-env\\lib\\site-packages\\sklearn\\neighbors\\_classification.py:215: DataConversionWarning: A column-vector y was passed when a 1d array was expected. Please change the shape of y to (n_samples,), for example using ravel().\n",
      "  return self._fit(X, y)\n",
      "C:\\ProgramData\\anaconda3\\envs\\nlp-env\\lib\\site-packages\\statsmodels\\genmod\\families\\family.py:1367: ValueWarning: Negative binomial dispersion parameter alpha not set. Using default value alpha=1.0.\n",
      "  warnings.warn(\"Negative binomial dispersion parameter alpha not \"\n"
     ]
    },
    {
     "name": "stdout",
     "output_type": "stream",
     "text": [
      "Template Eval Error: ValueError('operands could not be broadcast together with shapes (26,1) (10,1) ') in model 1682 in generation 21: UnivariateMotif\n",
      "Model Number: 1683 with model BasicLinearModel in generation 21 of 25\n",
      "Model Number: 1684 with model LastValueNaive in generation 21 of 25\n",
      "Model Number: 1685 with model ARDL in generation 21 of 25\n",
      "Model Number: 1686 with model LastValueNaive in generation 21 of 25\n",
      "Model Number: 1687 with model SeasonalityMotif in generation 21 of 25\n",
      "Model Number: 1688 with model Cassandra in generation 21 of 25\n",
      "Template Eval Error: ValueError(\"regression_type='User' but future_regressor not supplied\") in model 1688 in generation 21: Cassandra\n",
      "Model Number: 1689 with model SeasonalityMotif in generation 21 of 25\n",
      "Model Number: 1690 with model MetricMotif in generation 21 of 25\n",
      "Model Number: 1691 with model SeasonalityMotif in generation 21 of 25\n",
      "Model Number: 1692 with model UnivariateMotif in generation 21 of 25\n",
      "Model Number: 1693 with model GLM in generation 21 of 25\n",
      "Model Number: 1694 with model SeasonalityMotif in generation 21 of 25\n",
      "Model Number: 1695 with model FFT in generation 21 of 25\n",
      "Model Number: 1696 with model SeasonalityMotif in generation 21 of 25\n"
     ]
    },
    {
     "name": "stderr",
     "output_type": "stream",
     "text": [
      "C:\\ProgramData\\anaconda3\\envs\\nlp-env\\lib\\site-packages\\numpy\\lib\\function_base.py:2853: RuntimeWarning: invalid value encountered in divide\n",
      "  c /= stddev[:, None]\n",
      "C:\\ProgramData\\anaconda3\\envs\\nlp-env\\lib\\site-packages\\numpy\\lib\\function_base.py:2854: RuntimeWarning: invalid value encountered in divide\n",
      "  c /= stddev[None, :]\n",
      "C:\\ProgramData\\anaconda3\\envs\\nlp-env\\lib\\site-packages\\sklearn\\linear_model\\_coordinate_descent.py:631: ConvergenceWarning: Objective did not converge. You might want to increase the number of iterations, check the scale of the features or consider increasing regularisation. Duality gap: 5.997e+02, tolerance: 1.338e+00\n",
      "  model = cd_fast.enet_coordinate_descent(\n"
     ]
    },
    {
     "name": "stdout",
     "output_type": "stream",
     "text": [
      "Model Number: 1697 with model LastValueNaive in generation 21 of 25\n",
      "Model Number: 1698 with model ARDL in generation 21 of 25\n",
      "Model Number: 1699 with model BasicLinearModel in generation 21 of 25\n",
      "Template Eval Error: Exception('Transformer DatepartRegression failed on fit from params rolling_mean {\\'0\\': {\\'regression_model\\': {\\'model\\': \\'MLP\\', \\'model_params\\': {\\'hidden_layer_sizes\\': [25, 15, 25], \\'max_iter\\': 250, \\'activation\\': \\'relu\\', \\'solver\\': \\'adam\\', \\'early_stopping\\': False, \\'learning_rate_init\\': 0.001, \\'alpha\\': None}}, \\'datepart_method\\': \\'simple\\', \\'polynomial_degree\\': 2, \\'transform_dict\\': {\\'fillna\\': \\'cubic\\', \\'transformations\\': {\\'0\\': \\'DifferencedTransformer\\', \\'1\\': \\'LevelShiftTransformer\\'}, \\'transformation_params\\': {\\'0\\': {\\'lag\\': 1, \\'fill\\': \\'zero\\'}, \\'1\\': {\\'window_size\\': 90, \\'alpha\\': 2.0, \\'grouping_forward_limit\\': 5, \\'max_level_shifts\\': 30, \\'alignment\\': \\'average\\'}}}, \\'holiday_countries_used\\': False, \\'lags\\': 4, \\'forward_lags\\': None}, \\'1\\': {}, \\'2\\': {\\'rows\\': 1, \\'lag\\': 1, \\'method\\': \\'additive\\', \\'strength\\': 1.0, \\'first_value_only\\': False, \\'threshold\\': 1, \\'threshold_method\\': \\'max\\'}, \\'3\\': {\\'model_name\\': \\'spline\\', \\'state_transition\\': [[2, -1], [1, 0]], \\'process_noise\\': [[1, 0], [0, 0]], \\'observation_model\\': [[1, 0]], \\'observation_noise\\': 0.1, \\'em_iter\\': 10, \\'on_transform\\': True, \\'on_inverse\\': False}, \\'4\\': {}} with error InvalidParameterError(\"The \\'alpha\\' parameter of MLPRegressor must be a float in the range [0, inf). Got None instead.\")') in model 1699 in generation 21: BasicLinearModel\n",
      "Model Number: 1700 with model BasicLinearModel in generation 21 of 25\n"
     ]
    },
    {
     "name": "stderr",
     "output_type": "stream",
     "text": [
      "C:\\ProgramData\\anaconda3\\envs\\nlp-env\\lib\\site-packages\\sklearn\\linear_model\\_coordinate_descent.py:631: ConvergenceWarning: Objective did not converge. You might want to increase the number of iterations, check the scale of the features or consider increasing regularisation. Duality gap: 0.000e+00, tolerance: 0.000e+00\n",
      "  model = cd_fast.enet_coordinate_descent(\n"
     ]
    },
    {
     "name": "stdout",
     "output_type": "stream",
     "text": [
      "Model Number: 1701 with model LastValueNaive in generation 21 of 25\n",
      "Model Number: 1702 with model Cassandra in generation 21 of 25\n",
      "Template Eval Error: IndexError('tuple index out of range') in model 1702 in generation 21: Cassandra\n",
      "Model Number: 1703 with model GLM in generation 21 of 25\n",
      "Model Number: 1704 with model GLM in generation 21 of 25\n",
      "Model Number: 1705 with model GLM in generation 21 of 25\n",
      "Template Eval Error: ValueError('NaN, inf or invalid value detected in weights, estimation infeasible.') in model 1705 in generation 21: GLM\n",
      "Model Number: 1706 with model GLM in generation 21 of 25\n",
      "Template Eval Error: Exception(\"Transformer MinMaxScaler failed on inverse from params ffill {'0': {}, '1': {'rows': None, 'displacement_rows': 1, 'quantile': 1.0, 'decay_span': None}, '2': {'fillna': 'linear', 'center': 'median'}, '3': {'mode': 'upscale', 'factor': 3, 'down_method': 'mean', 'fill_method': 'cubic'}} with ValueError('Shape of passed values is (54, 1), indices imply (40, 1)')\") in model 1706 in generation 21: GLM\n",
      "Model Number: 1707 with model BasicLinearModel in generation 21 of 25\n",
      "Model Number: 1708 with model SeasonalityMotif in generation 21 of 25\n",
      "Model Number: 1709 with model FFT in generation 21 of 25\n"
     ]
    },
    {
     "name": "stderr",
     "output_type": "stream",
     "text": [
      "C:\\ProgramData\\anaconda3\\envs\\nlp-env\\lib\\site-packages\\statsmodels\\genmod\\families\\family.py:1650: RuntimeWarning: invalid value encountered in log\n",
      "  endog * np.log(endog / mu) + (mu - endog))\n",
      "C:\\ProgramData\\anaconda3\\envs\\nlp-env\\lib\\site-packages\\statsmodels\\genmod\\families\\family.py:1650: RuntimeWarning: divide by zero encountered in divide\n",
      "  endog * np.log(endog / mu) + (mu - endog))\n",
      "C:\\ProgramData\\anaconda3\\envs\\nlp-env\\lib\\site-packages\\statsmodels\\genmod\\generalized_linear_model.py:898: RuntimeWarning: divide by zero encountered in divide\n",
      "  return np.sum(resid / self.family.variance(mu)) / self.df_resid\n",
      "C:\\ProgramData\\anaconda3\\envs\\nlp-env\\lib\\site-packages\\statsmodels\\genmod\\families\\family.py:143: RuntimeWarning: divide by zero encountered in divide\n",
      "  return 1. / (self.link.deriv(mu)**2 * self.variance(mu))\n",
      "C:\\ProgramData\\anaconda3\\envs\\nlp-env\\lib\\site-packages\\statsmodels\\genmod\\families\\links.py:198: RuntimeWarning: overflow encountered in exp\n",
      "  t = np.exp(-z)\n",
      "C:\\ProgramData\\anaconda3\\envs\\nlp-env\\lib\\site-packages\\statsmodels\\genmod\\generalized_linear_model.py:1342: PerfectSeparationWarning: Perfect separation or prediction detected, parameter may not be identified\n",
      "  warnings.warn(msg, category=PerfectSeparationWarning)\n",
      "C:\\ProgramData\\anaconda3\\envs\\nlp-env\\lib\\site-packages\\statsmodels\\genmod\\generalized_linear_model.py:1342: PerfectSeparationWarning: Perfect separation or prediction detected, parameter may not be identified\n",
      "  warnings.warn(msg, category=PerfectSeparationWarning)\n",
      "C:\\ProgramData\\anaconda3\\envs\\nlp-env\\lib\\site-packages\\statsmodels\\genmod\\generalized_linear_model.py:1342: PerfectSeparationWarning: Perfect separation or prediction detected, parameter may not be identified\n",
      "  warnings.warn(msg, category=PerfectSeparationWarning)\n",
      "C:\\ProgramData\\anaconda3\\envs\\nlp-env\\lib\\site-packages\\statsmodels\\genmod\\generalized_linear_model.py:1342: PerfectSeparationWarning: Perfect separation or prediction detected, parameter may not be identified\n",
      "  warnings.warn(msg, category=PerfectSeparationWarning)\n",
      "C:\\ProgramData\\anaconda3\\envs\\nlp-env\\lib\\site-packages\\statsmodels\\genmod\\generalized_linear_model.py:1342: PerfectSeparationWarning: Perfect separation or prediction detected, parameter may not be identified\n",
      "  warnings.warn(msg, category=PerfectSeparationWarning)\n"
     ]
    },
    {
     "name": "stdout",
     "output_type": "stream",
     "text": [
      "Template Eval Error: Exception(\"Transformer Cointegration failed on fit from params zero {'0': {'method': 'clip', 'std_threshold': 3, 'fillna': None}, '1': {'model_name': 'randomly generated_original', 'state_transition': [[1]], 'process_noise': [[0.001]], 'observation_model': [[2]], 'observation_noise': 1.0, 'em_iter': 30, 'on_transform': True, 'on_inverse': False}, '2': {'det_order': -1, 'k_ar_diff': 1}} with error ValueError('Coint only works on multivarate series')\") in model 1709 in generation 21: FFT\n",
      "Model Number: 1710 with model MetricMotif in generation 21 of 25\n",
      "Model Number: 1711 with model Cassandra in generation 21 of 25\n",
      "New Generation: 22 of 25\n",
      "Model Number: 1712 with model BasicLinearModel in generation 22 of 25\n",
      "Template Eval Error: Exception(\"Transformer BTCD failed on fit from params rolling_mean {'0': {}, '1': {'rows': 4, 'lag': 1, 'method': 'additive', 'strength': 0.7, 'first_value_only': False, 'threshold': 1, 'threshold_method': 'mean'}, '2': {}, '3': {'n_harmonics': 10, 'detrend': 'quadratic'}, '4': {'regression_model': {'model': 'FastRidge', 'model_params': {}}, 'max_lags': 2}} with error ValueError('BTCD only works on multivarate series')\") in model 1712 in generation 22: BasicLinearModel\n",
      "Model Number: 1713 with model LastValueNaive in generation 22 of 25\n",
      "Model Number: 1714 with model BasicLinearModel in generation 22 of 25\n"
     ]
    },
    {
     "name": "stderr",
     "output_type": "stream",
     "text": [
      "C:\\ProgramData\\anaconda3\\envs\\nlp-env\\lib\\site-packages\\numpy\\lib\\function_base.py:2853: RuntimeWarning: invalid value encountered in divide\n",
      "  c /= stddev[:, None]\n",
      "C:\\ProgramData\\anaconda3\\envs\\nlp-env\\lib\\site-packages\\numpy\\lib\\function_base.py:2854: RuntimeWarning: invalid value encountered in divide\n",
      "  c /= stddev[None, :]\n"
     ]
    },
    {
     "name": "stdout",
     "output_type": "stream",
     "text": [
      "Model Number: 1715 with model GLM in generation 22 of 25\n",
      "Template Eval Error: ValueError('NaN, inf or invalid value detected in weights, estimation infeasible.') in model 1715 in generation 22: GLM\n",
      "Model Number: 1716 with model SeasonalityMotif in generation 22 of 25\n"
     ]
    },
    {
     "name": "stderr",
     "output_type": "stream",
     "text": [
      "C:\\ProgramData\\anaconda3\\envs\\nlp-env\\lib\\site-packages\\statsmodels\\genmod\\families\\links.py:527: RuntimeWarning: overflow encountered in exp\n",
      "  return np.exp(z)\n",
      "C:\\ProgramData\\anaconda3\\envs\\nlp-env\\lib\\site-packages\\statsmodels\\genmod\\families\\family.py:1650: RuntimeWarning: divide by zero encountered in log\n",
      "  endog * np.log(endog / mu) + (mu - endog))\n",
      "C:\\ProgramData\\anaconda3\\envs\\nlp-env\\lib\\site-packages\\statsmodels\\genmod\\generalized_linear_model.py:898: RuntimeWarning: invalid value encountered in divide\n",
      "  return np.sum(resid / self.family.variance(mu)) / self.df_resid\n",
      "C:\\ProgramData\\anaconda3\\envs\\nlp-env\\lib\\site-packages\\statsmodels\\genmod\\families\\family.py:143: RuntimeWarning: invalid value encountered in multiply\n",
      "  return 1. / (self.link.deriv(mu)**2 * self.variance(mu))\n",
      "C:\\ProgramData\\anaconda3\\envs\\nlp-env\\lib\\site-packages\\statsmodels\\genmod\\generalized_linear_model.py:1328: RuntimeWarning: invalid value encountered in multiply\n",
      "  wlsendog = (lin_pred + self.family.link.deriv(mu) * (self.endog-mu)\n"
     ]
    },
    {
     "name": "stdout",
     "output_type": "stream",
     "text": [
      "Model Number: 1717 with model UnivariateMotif in generation 22 of 25\n",
      "Model Number: 1718 with model SeasonalityMotif in generation 22 of 25\n",
      "Model Number: 1719 with model Cassandra in generation 22 of 25\n",
      "Model Number: 1720 with model BasicLinearModel in generation 22 of 25\n",
      "Model Number: 1721 with model SeasonalityMotif in generation 22 of 25\n",
      "Template Eval Error: ValueError('window shape cannot be larger than input array shape') in model 1721 in generation 22: SeasonalityMotif\n",
      "Model Number: 1722 with model GLM in generation 22 of 25\n",
      "Model Number: 1723 with model BasicLinearModel in generation 22 of 25\n",
      "Template Eval Error: ValueError(\"regression_type=='User' but no future_regressor supplied\") in model 1723 in generation 22: BasicLinearModel\n",
      "Model Number: 1724 with model SeasonalityMotif in generation 22 of 25\n",
      "Model Number: 1725 with model SeasonalityMotif in generation 22 of 25\n",
      "Model Number: 1726 with model SeasonalityMotif in generation 22 of 25\n",
      "Model Number: 1727 with model ARDL in generation 22 of 25\n",
      "Model Number: 1728 with model SeasonalityMotif in generation 22 of 25\n"
     ]
    },
    {
     "name": "stderr",
     "output_type": "stream",
     "text": [
      "C:\\ProgramData\\anaconda3\\envs\\nlp-env\\lib\\site-packages\\statsmodels\\genmod\\families\\links.py:198: RuntimeWarning: overflow encountered in exp\n",
      "  t = np.exp(-z)\n",
      "C:\\ProgramData\\anaconda3\\envs\\nlp-env\\lib\\site-packages\\sklearn\\linear_model\\_coordinate_descent.py:631: ConvergenceWarning: Objective did not converge. You might want to increase the number of iterations, check the scale of the features or consider increasing regularisation. Duality gap: 1.461e+05, tolerance: 3.761e+01\n",
      "  model = cd_fast.enet_coordinate_descent(\n"
     ]
    },
    {
     "name": "stdout",
     "output_type": "stream",
     "text": [
      "Model Number: 1729 with model SeasonalityMotif in generation 22 of 25\n",
      "Model Number: 1730 with model BasicLinearModel in generation 22 of 25\n",
      "Model Number: 1731 with model BasicLinearModel in generation 22 of 25\n",
      "Model Number: 1732 with model GLM in generation 22 of 25\n",
      "Model Number: 1733 with model BasicLinearModel in generation 22 of 25\n"
     ]
    },
    {
     "name": "stderr",
     "output_type": "stream",
     "text": [
      "C:\\ProgramData\\anaconda3\\envs\\nlp-env\\lib\\site-packages\\statsmodels\\genmod\\families\\links.py:198: RuntimeWarning: overflow encountered in exp\n",
      "  t = np.exp(-z)\n"
     ]
    },
    {
     "name": "stdout",
     "output_type": "stream",
     "text": [
      "Model Number: 1734 with model ARDL in generation 22 of 25\n",
      "Model Number: 1735 with model AverageValueNaive in generation 22 of 25\n",
      "Template Eval Error: Exception(\"Transformer Cointegration failed on fit from params rolling_mean {'0': {'method': 'remove', 'std_threshold': 4, 'fillna': 'mean'}, '1': {'det_order': -1, 'k_ar_diff': 0}} with error ValueError('Coint only works on multivarate series')\") in model 1735 in generation 22: AverageValueNaive\n",
      "Model Number: 1736 with model LastValueNaive in generation 22 of 25\n",
      "Model Number: 1737 with model BasicLinearModel in generation 22 of 25\n",
      "Model Number: 1738 with model MetricMotif in generation 22 of 25\n",
      "Template Eval Error: Exception(\"Transformer HolidayTransformer failed on fit from params rolling_mean {'0': {'method': '3forecastlength'}, '1': {'rows': 1, 'lag': 1, 'method': 'multiplicative', 'strength': 0.5, 'first_value_only': False, 'threshold': 10, 'threshold_method': 'mean'}, '2': {'fixed': True, 'window': 180, 'macro_micro': True, 'center': True}, '3': {'threshold': 0.8, 'splash_threshold': None, 'use_dayofmonth_holidays': True, 'use_wkdom_holidays': True, 'use_wkdeom_holidays': False, 'use_lunar_holidays': False, 'use_lunar_weekday': False, 'use_islamic_holidays': False, 'use_hebrew_holidays': False, 'use_hindu_holidays': False, 'anomaly_detector_params': {'method': 'nonparametric', 'method_params': {'p': 0.1, 'z_init': 1.5, 'z_limit': 12, 'z_step': 0.25, 'inverse': False, 'max_contamination': 0.25, 'mean_weight': 100, 'sd_weight': 25, 'anomaly_count_weight': 1.0}, 'fillna': 'fake_date', 'transform_dict': None, 'isolated_only': False, 'on_inverse': False}, 'remove_excess_anomalies': True, 'impact': 'median_value', 'regression_params': {}}, '4': {'rows': 7, 'lag': 1, 'method': 'additive', 'strength': 1.0, 'first_value_only': False, 'threshold': 10, 'threshold_method': 'max'}} with error ValueError('more than 1 year of data is required for holiday detection.')\") in model 1738 in generation 22: MetricMotif\n",
      "Model Number: 1739 with model SeasonalityMotif in generation 22 of 25\n",
      "Template Eval Error: ValueError('window shape cannot be larger than input array shape') in model 1739 in generation 22: SeasonalityMotif\n",
      "Model Number: 1740 with model LastValueNaive in generation 22 of 25\n",
      "Model Number: 1741 with model LastValueNaive in generation 22 of 25\n"
     ]
    },
    {
     "name": "stderr",
     "output_type": "stream",
     "text": [
      "C:\\ProgramData\\anaconda3\\envs\\nlp-env\\lib\\site-packages\\sklearn\\decomposition\\_fastica.py:583: UserWarning: Ignoring n_components with whiten=False.\n",
      "  warnings.warn(\"Ignoring n_components with whiten=False.\")\n"
     ]
    },
    {
     "name": "stdout",
     "output_type": "stream",
     "text": [
      "Model Number: 1742 with model GLM in generation 22 of 25\n",
      "Model Number: 1743 with model BasicLinearModel in generation 22 of 25\n",
      "Model Number: 1744 with model LastValueNaive in generation 22 of 25\n",
      "Model Number: 1745 with model DatepartRegression in generation 22 of 25\n",
      "Model Number: 1746 with model AverageValueNaive in generation 22 of 25\n",
      "Model Number: 1747 with model Cassandra in generation 22 of 25\n"
     ]
    },
    {
     "name": "stderr",
     "output_type": "stream",
     "text": [
      "C:\\ProgramData\\anaconda3\\envs\\nlp-env\\lib\\site-packages\\statsmodels\\genmod\\families\\links.py:198: RuntimeWarning: overflow encountered in exp\n",
      "  t = np.exp(-z)\n"
     ]
    },
    {
     "name": "stdout",
     "output_type": "stream",
     "text": [
      "Model Number: 1748 with model SeasonalityMotif in generation 22 of 25\n",
      "Model Number: 1749 with model GLM in generation 22 of 25\n",
      "Model Number: 1750 with model MetricMotif in generation 22 of 25\n",
      "Model Number: 1751 with model Cassandra in generation 22 of 25\n",
      "Model Number: 1752 with model Cassandra in generation 22 of 25\n"
     ]
    },
    {
     "name": "stderr",
     "output_type": "stream",
     "text": [
      "C:\\ProgramData\\anaconda3\\envs\\nlp-env\\lib\\site-packages\\statsmodels\\genmod\\families\\links.py:198: RuntimeWarning: overflow encountered in exp\n",
      "  t = np.exp(-z)\n",
      "C:\\ProgramData\\anaconda3\\envs\\nlp-env\\lib\\site-packages\\numpy\\lib\\function_base.py:2853: RuntimeWarning: invalid value encountered in divide\n",
      "  c /= stddev[:, None]\n",
      "C:\\ProgramData\\anaconda3\\envs\\nlp-env\\lib\\site-packages\\numpy\\lib\\function_base.py:2854: RuntimeWarning: invalid value encountered in divide\n",
      "  c /= stddev[None, :]\n",
      "C:\\ProgramData\\anaconda3\\envs\\nlp-env\\lib\\site-packages\\numpy\\lib\\function_base.py:2853: RuntimeWarning: invalid value encountered in divide\n",
      "  c /= stddev[:, None]\n",
      "C:\\ProgramData\\anaconda3\\envs\\nlp-env\\lib\\site-packages\\numpy\\lib\\function_base.py:2854: RuntimeWarning: invalid value encountered in divide\n",
      "  c /= stddev[None, :]\n"
     ]
    },
    {
     "name": "stdout",
     "output_type": "stream",
     "text": [
      "Model Number: 1753 with model MetricMotif in generation 22 of 25\n",
      "New Generation: 23 of 25\n",
      "Model Number: 1754 with model SeasonalityMotif in generation 23 of 25\n",
      "Model Number: 1755 with model SeasonalityMotif in generation 23 of 25\n",
      "Model Number: 1756 with model DatepartRegression in generation 23 of 25\n",
      "Template Eval Error: ValueError(\"regression_type='User' but no future_regressor passed\") in model 1756 in generation 23: DatepartRegression\n",
      "Model Number: 1757 with model DatepartRegression in generation 23 of 25\n",
      "Template Eval Error: ValueError('Input X contains NaN.\\nMLPRegressor does not accept missing values encoded as NaN natively. For supervised learning, you might want to consider sklearn.ensemble.HistGradientBoostingClassifier and Regressor which accept missing values encoded as NaNs natively. Alternatively, it is possible to preprocess the data, for instance by using an imputer transformer in a pipeline or drop samples with missing values. See https://scikit-learn.org/stable/modules/impute.html You can find a list of all estimators that handle NaN values at the following page: https://scikit-learn.org/stable/modules/impute.html#estimators-that-handle-nan-values') in model 1757 in generation 23: DatepartRegression\n",
      "Model Number: 1758 with model LastValueNaive in generation 23 of 25\n",
      "Model Number: 1759 with model LastValueNaive in generation 23 of 25\n",
      "Model Number: 1760 with model GLM in generation 23 of 25\n",
      "Model Number: 1761 with model GLM in generation 23 of 25\n",
      "Model Number: 1762 with model SeasonalityMotif in generation 23 of 25\n",
      "Model Number: 1763 with model DatepartRegression in generation 23 of 25\n",
      "Template Eval Error: ValueError(\"regression_type='User' but no future_regressor passed\") in model 1763 in generation 23: DatepartRegression\n",
      "Model Number: 1764 with model AverageValueNaive in generation 23 of 25\n",
      "Model Number: 1765 with model Cassandra in generation 23 of 25\n",
      "Model Number: 1766 with model GLM in generation 23 of 25\n",
      "Model Number: 1767 with model GLM in generation 23 of 25\n",
      "Template Eval Error: Exception(\"Transformer ReplaceConstant failed on fit from params rolling_mean_24 {'0': {'part': 'trend', 'lamb': 6.25}, '1': {'rows': 4, 'lag': 1, 'method': 'additive', 'strength': 0.7, 'first_value_only': False, 'threshold': 1, 'threshold_method': 'mean'}, '2': {'span': 7}, '3': {'constant': 0, 'reintroduction_model': {'model': 'SGD', 'model_params': {}, 'datepart_method': 'expanded'}, 'fillna': 'mean'}, '4': {'n_harmonics': 10, 'detrend': 'quadratic'}} with error ValueError('The number of classes has to be greater than one; got 1 class')\") in model 1767 in generation 23: GLM\n",
      "Model Number: 1768 with model ARDL in generation 23 of 25\n",
      "Model Number: 1769 with model ARDL in generation 23 of 25\n",
      "Template Eval Error: ValueError(\"regression_type='User' but future_regressor not supplied\") in model 1769 in generation 23: ARDL\n",
      "Model Number: 1770 with model LastValueNaive in generation 23 of 25\n",
      "Model Number: 1771 with model UnivariateMotif in generation 23 of 25\n",
      "Model Number: 1772 with model Cassandra in generation 23 of 25\n",
      "Model Number: 1773 with model GLM in generation 23 of 25\n"
     ]
    },
    {
     "name": "stderr",
     "output_type": "stream",
     "text": [
      "C:\\ProgramData\\anaconda3\\envs\\nlp-env\\lib\\site-packages\\sklearn\\utils\\validation.py:1143: DataConversionWarning: A column-vector y was passed when a 1d array was expected. Please change the shape of y to (n_samples, ), for example using ravel().\n",
      "  y = column_or_1d(y, warn=True)\n",
      "C:\\ProgramData\\anaconda3\\envs\\nlp-env\\lib\\site-packages\\numpy\\lib\\function_base.py:2853: RuntimeWarning: invalid value encountered in divide\n",
      "  c /= stddev[:, None]\n",
      "C:\\ProgramData\\anaconda3\\envs\\nlp-env\\lib\\site-packages\\numpy\\lib\\function_base.py:2854: RuntimeWarning: invalid value encountered in divide\n",
      "  c /= stddev[None, :]\n"
     ]
    },
    {
     "name": "stdout",
     "output_type": "stream",
     "text": [
      "Model Number: 1774 with model ARDL in generation 23 of 25\n",
      "Template Eval Error: ValueError(\"regression_type='User' but future_regressor not supplied\") in model 1774 in generation 23: ARDL\n",
      "Model Number: 1775 with model MetricMotif in generation 23 of 25\n",
      "Template Eval Error: ValueError('window shape cannot be larger than input array shape') in model 1775 in generation 23: MetricMotif\n",
      "Model Number: 1776 with model Cassandra in generation 23 of 25\n"
     ]
    },
    {
     "name": "stderr",
     "output_type": "stream",
     "text": [
      "C:\\ProgramData\\anaconda3\\envs\\nlp-env\\lib\\site-packages\\statsmodels\\genmod\\families\\links.py:198: RuntimeWarning: overflow encountered in exp\n",
      "  t = np.exp(-z)\n",
      "C:\\ProgramData\\anaconda3\\envs\\nlp-env\\lib\\site-packages\\sklearn\\neighbors\\_classification.py:215: DataConversionWarning: A column-vector y was passed when a 1d array was expected. Please change the shape of y to (n_samples,), for example using ravel().\n",
      "  return self._fit(X, y)\n",
      "C:\\ProgramData\\anaconda3\\envs\\nlp-env\\lib\\site-packages\\numpy\\core\\fromnumeric.py:3432: RuntimeWarning: Mean of empty slice.\n",
      "  return _methods._mean(a, axis=axis, dtype=dtype,\n",
      "C:\\ProgramData\\anaconda3\\envs\\nlp-env\\lib\\site-packages\\numpy\\core\\_methods.py:190: RuntimeWarning: invalid value encountered in double_scalars\n",
      "  ret = ret.dtype.type(ret / rcount)\n",
      "C:\\ProgramData\\anaconda3\\envs\\nlp-env\\lib\\site-packages\\numpy\\core\\_methods.py:265: RuntimeWarning: Degrees of freedom <= 0 for slice\n",
      "  ret = _var(a, axis=axis, dtype=dtype, out=out, ddof=ddof,\n",
      "C:\\ProgramData\\anaconda3\\envs\\nlp-env\\lib\\site-packages\\numpy\\core\\_methods.py:223: RuntimeWarning: invalid value encountered in divide\n",
      "  arrmean = um.true_divide(arrmean, div, out=arrmean, casting='unsafe',\n",
      "C:\\ProgramData\\anaconda3\\envs\\nlp-env\\lib\\site-packages\\numpy\\core\\_methods.py:257: RuntimeWarning: invalid value encountered in double_scalars\n",
      "  ret = ret.dtype.type(ret / rcount)\n",
      "C:\\ProgramData\\anaconda3\\envs\\nlp-env\\lib\\site-packages\\autots\\tools\\thresholding.py:359: RuntimeWarning: invalid value encountered in divide\n",
      "  return abs(self.e_s - self.epsilon) / (self.mean_e_s + self.sd_e_s)\n",
      "C:\\ProgramData\\anaconda3\\envs\\nlp-env\\lib\\site-packages\\numpy\\lib\\function_base.py:2853: RuntimeWarning: invalid value encountered in divide\n",
      "  c /= stddev[:, None]\n",
      "C:\\ProgramData\\anaconda3\\envs\\nlp-env\\lib\\site-packages\\numpy\\lib\\function_base.py:2854: RuntimeWarning: invalid value encountered in divide\n",
      "  c /= stddev[None, :]\n"
     ]
    },
    {
     "name": "stdout",
     "output_type": "stream",
     "text": [
      "Model Number: 1777 with model FFT in generation 23 of 25\n",
      "Template Eval Error: Exception(\"Transformer FIRFilter failed on fit from params ffill {'0': {'lag_1': 28, 'method': 20}, '1': {'span': 28}, '2': {'constant': 0, 'reintroduction_model': {'model': 'KNN', 'model_params': {'n_neighbors': 10, 'weights': 'uniform', 'p': 2, 'leaf_size': 30}, 'datepart_method': 'common_fourier'}, 'fillna': 'linear'}, '3': {'numtaps': 256, 'cutoff_hz': 100, 'window': 'hann', 'sampling_frequency': 12, 'on_transform': True, 'on_inverse': False, 'bounds_only': False}, '4': {'constant': 0, 'reintroduction_model': {'model': 'KNN', 'model_params': {'n_neighbors': 3, 'weights': 'uniform', 'p': 2, 'leaf_size': 30}, 'datepart_method': 'simple'}, 'fillna': 'pchip'}, '5': {'discretization': 'sklearn-quantile', 'n_bins': 5}} with error ValueError('Invalid cutoff frequency: frequencies must be greater than 0 and less than fs/2.')\") in model 1777 in generation 23: FFT\n",
      "Model Number: 1778 with model Cassandra in generation 23 of 25\n",
      "Model Number: 1779 with model SeasonalityMotif in generation 23 of 25\n",
      "Model Number: 1780 with model FFT in generation 23 of 25\n",
      "Model Number: 1781 with model LastValueNaive in generation 23 of 25\n",
      "Model Number: 1782 with model GLM in generation 23 of 25\n",
      "Template Eval Error: Exception(\"Transformer Cointegration failed on fit from params linear {'0': {'lag_1': 60, 'method': 2}, '1': {'rows': 1, 'displacement_rows': 1, 'quantile': 0.7, 'decay_span': None}, '2': {'det_order': 1, 'k_ar_diff': 2}, '3': {'rows': 1, 'lag': 7, 'method': 'additive', 'strength': 1.0, 'first_value_only': False, 'threshold': None, 'threshold_method': 'mean'}, '4': {'n_harmonics': 10, 'detrend': 'quadratic'}} with error ValueError('Coint only works on multivarate series')\") in model 1782 in generation 23: GLM\n",
      "Model Number: 1783 with model SeasonalityMotif in generation 23 of 25\n",
      "Model Number: 1784 with model Cassandra in generation 23 of 25\n",
      "Model Number: 1785 with model LastValueNaive in generation 23 of 25\n",
      "Model Number: 1786 with model ARDL in generation 23 of 25\n",
      "Model Number: 1787 with model ARDL in generation 23 of 25\n",
      "Model Number: 1788 with model Cassandra in generation 23 of 25\n"
     ]
    },
    {
     "name": "stderr",
     "output_type": "stream",
     "text": [
      "C:\\ProgramData\\anaconda3\\envs\\nlp-env\\lib\\site-packages\\numpy\\lib\\function_base.py:2853: RuntimeWarning: invalid value encountered in divide\n",
      "  c /= stddev[:, None]\n",
      "C:\\ProgramData\\anaconda3\\envs\\nlp-env\\lib\\site-packages\\numpy\\lib\\function_base.py:2854: RuntimeWarning: invalid value encountered in divide\n",
      "  c /= stddev[None, :]\n",
      "C:\\ProgramData\\anaconda3\\envs\\nlp-env\\lib\\site-packages\\numpy\\lib\\function_base.py:2853: RuntimeWarning: invalid value encountered in divide\n",
      "  c /= stddev[:, None]\n",
      "C:\\ProgramData\\anaconda3\\envs\\nlp-env\\lib\\site-packages\\numpy\\lib\\function_base.py:2854: RuntimeWarning: invalid value encountered in divide\n",
      "  c /= stddev[None, :]\n"
     ]
    },
    {
     "name": "stdout",
     "output_type": "stream",
     "text": [
      "Model Number: 1789 with model LastValueNaive in generation 23 of 25\n",
      "Model Number: 1790 with model MetricMotif in generation 23 of 25\n",
      "Model Number: 1791 with model LastValueNaive in generation 23 of 25\n",
      "Template Eval Error: ValueError('operands could not be broadcast together with shapes (26,1) (10,1) ') in model 1791 in generation 23: LastValueNaive\n",
      "Model Number: 1792 with model SeasonalityMotif in generation 23 of 25\n",
      "Model Number: 1793 with model Cassandra in generation 23 of 25\n",
      "Template Eval Error: Exception(\"Transformer BTCD failed on fit from params quadratic {'0': {'lag_1': 28, 'method': 20}, '1': {'regression_model': {'model': 'LinearRegression', 'model_params': {}}, 'max_lags': 2}, '2': {}, '3': {'output_distribution': 'uniform', 'n_quantiles': 1000}} with error ValueError('BTCD only works on multivarate series')\") in model 1793 in generation 23: Cassandra\n",
      "Model Number: 1794 with model UnivariateMotif in generation 23 of 25\n",
      "Model Number: 1795 with model BasicLinearModel in generation 23 of 25\n",
      "New Generation: 24 of 25\n",
      "Model Number: 1796 with model Cassandra in generation 24 of 25\n"
     ]
    },
    {
     "name": "stderr",
     "output_type": "stream",
     "text": [
      "C:\\ProgramData\\anaconda3\\envs\\nlp-env\\lib\\site-packages\\sklearn\\linear_model\\_ridge.py:216: LinAlgWarning: Ill-conditioned matrix (rcond=5.0416e-25): result may not be accurate.\n",
      "  return linalg.solve(A, Xy, assume_a=\"pos\", overwrite_a=True).T\n"
     ]
    },
    {
     "name": "stdout",
     "output_type": "stream",
     "text": [
      "Model Number: 1797 with model GLM in generation 24 of 25\n",
      "Model Number: 1798 with model BasicLinearModel in generation 24 of 25\n",
      "Model Number: 1799 with model Cassandra in generation 24 of 25\n",
      "Model Number: 1800 with model Cassandra in generation 24 of 25\n"
     ]
    },
    {
     "name": "stderr",
     "output_type": "stream",
     "text": [
      "C:\\ProgramData\\anaconda3\\envs\\nlp-env\\lib\\site-packages\\autots\\tools\\thresholding.py:199: RuntimeWarning: divide by zero encountered in double_scalars\n",
      "  mean_perc_decrease = (\n",
      "C:\\ProgramData\\anaconda3\\envs\\nlp-env\\lib\\site-packages\\numpy\\lib\\function_base.py:2853: RuntimeWarning: invalid value encountered in divide\n",
      "  c /= stddev[:, None]\n",
      "C:\\ProgramData\\anaconda3\\envs\\nlp-env\\lib\\site-packages\\numpy\\lib\\function_base.py:2854: RuntimeWarning: invalid value encountered in divide\n",
      "  c /= stddev[None, :]\n",
      "C:\\ProgramData\\anaconda3\\envs\\nlp-env\\lib\\site-packages\\sklearn\\linear_model\\_ridge.py:216: LinAlgWarning: Ill-conditioned matrix (rcond=5.0416e-25): result may not be accurate.\n",
      "  return linalg.solve(A, Xy, assume_a=\"pos\", overwrite_a=True).T\n",
      "C:\\ProgramData\\anaconda3\\envs\\nlp-env\\lib\\site-packages\\numpy\\lib\\function_base.py:2853: RuntimeWarning: invalid value encountered in divide\n",
      "  c /= stddev[:, None]\n",
      "C:\\ProgramData\\anaconda3\\envs\\nlp-env\\lib\\site-packages\\numpy\\lib\\function_base.py:2854: RuntimeWarning: invalid value encountered in divide\n",
      "  c /= stddev[None, :]\n"
     ]
    },
    {
     "name": "stdout",
     "output_type": "stream",
     "text": [
      "Model Number: 1801 with model LastValueNaive in generation 24 of 25\n",
      "Model Number: 1802 with model ARDL in generation 24 of 25\n",
      "Model Number: 1803 with model SeasonalityMotif in generation 24 of 25\n",
      "Model Number: 1804 with model BasicLinearModel in generation 24 of 25\n",
      "Model Number: 1805 with model BasicLinearModel in generation 24 of 25\n",
      "Model Number: 1806 with model SeasonalityMotif in generation 24 of 25\n",
      "Model Number: 1807 with model GLM in generation 24 of 25\n",
      "Model Number: 1808 with model SeasonalityMotif in generation 24 of 25\n",
      "Model Number: 1809 with model SeasonalityMotif in generation 24 of 25\n",
      "Model Number: 1810 with model Cassandra in generation 24 of 25\n",
      "Model Number: 1811 with model DatepartRegression in generation 24 of 25\n",
      "Model Number: 1812 with model GLM in generation 24 of 25\n",
      "Model Number: 1813 with model GLM in generation 24 of 25\n",
      "Model Number: 1814 with model SeasonalityMotif in generation 24 of 25\n",
      "Model Number: 1815 with model SeasonalityMotif in generation 24 of 25\n",
      "Model Number: 1816 with model DatepartRegression in generation 24 of 25\n",
      "Template Eval Error: ValueError(\"regression_type='User' but no future_regressor passed\") in model 1816 in generation 24: DatepartRegression\n",
      "Model Number: 1817 with model Cassandra in generation 24 of 25\n"
     ]
    },
    {
     "name": "stderr",
     "output_type": "stream",
     "text": [
      "C:\\ProgramData\\anaconda3\\envs\\nlp-env\\lib\\site-packages\\statsmodels\\genmod\\families\\family.py:1367: ValueWarning: Negative binomial dispersion parameter alpha not set. Using default value alpha=1.0.\n",
      "  warnings.warn(\"Negative binomial dispersion parameter alpha not \"\n",
      "C:\\ProgramData\\anaconda3\\envs\\nlp-env\\lib\\site-packages\\sklearn\\neighbors\\_classification.py:215: DataConversionWarning: A column-vector y was passed when a 1d array was expected. Please change the shape of y to (n_samples,), for example using ravel().\n",
      "  return self._fit(X, y)\n",
      "C:\\ProgramData\\anaconda3\\envs\\nlp-env\\lib\\site-packages\\numpy\\lib\\function_base.py:2853: RuntimeWarning: invalid value encountered in divide\n",
      "  c /= stddev[:, None]\n",
      "C:\\ProgramData\\anaconda3\\envs\\nlp-env\\lib\\site-packages\\numpy\\lib\\function_base.py:2854: RuntimeWarning: invalid value encountered in divide\n",
      "  c /= stddev[None, :]\n"
     ]
    },
    {
     "name": "stdout",
     "output_type": "stream",
     "text": [
      "Model Number: 1818 with model Cassandra in generation 24 of 25\n",
      "Model Number: 1819 with model ARDL in generation 24 of 25\n",
      "Model Number: 1820 with model BasicLinearModel in generation 24 of 25\n"
     ]
    },
    {
     "name": "stderr",
     "output_type": "stream",
     "text": [
      "C:\\ProgramData\\anaconda3\\envs\\nlp-env\\lib\\site-packages\\sklearn\\linear_model\\_ridge.py:216: LinAlgWarning: Ill-conditioned matrix (rcond=5.0416e-25): result may not be accurate.\n",
      "  return linalg.solve(A, Xy, assume_a=\"pos\", overwrite_a=True).T\n"
     ]
    },
    {
     "name": "stdout",
     "output_type": "stream",
     "text": [
      "Model Number: 1821 with model ARDL in generation 24 of 25\n",
      "Model Number: 1822 with model AverageValueNaive in generation 24 of 25\n",
      "Model Number: 1823 with model AverageValueNaive in generation 24 of 25\n",
      "Model Number: 1824 with model SeasonalityMotif in generation 24 of 25\n",
      "Model Number: 1825 with model LastValueNaive in generation 24 of 25\n",
      "Model Number: 1826 with model SeasonalityMotif in generation 24 of 25\n",
      "Model Number: 1827 with model FFT in generation 24 of 25\n",
      "Model Number: 1828 with model UnivariateMotif in generation 24 of 25\n",
      "Model Number: 1829 with model LastValueNaive in generation 24 of 25\n",
      "Model Number: 1830 with model LastValueNaive in generation 24 of 25\n",
      "Model Number: 1831 with model GLM in generation 24 of 25\n",
      "Template Eval Error: ValueError('The first guess on the deviance function returned a nan.  This could be a boundary  problem and should be reported.') in model 1831 in generation 24: GLM\n",
      "Model Number: 1832 with model ARDL in generation 24 of 25\n",
      "Model Number: 1833 with model LastValueNaive in generation 24 of 25\n",
      "Model Number: 1834 with model DatepartRegression in generation 24 of 25\n",
      "Model Number: 1835 with model SeasonalityMotif in generation 24 of 25\n"
     ]
    },
    {
     "name": "stderr",
     "output_type": "stream",
     "text": [
      "C:\\ProgramData\\anaconda3\\envs\\nlp-env\\lib\\site-packages\\sklearn\\linear_model\\_coordinate_descent.py:631: ConvergenceWarning: Objective did not converge. You might want to increase the number of iterations, check the scale of the features or consider increasing regularisation. Duality gap: 5.997e+02, tolerance: 1.338e+00\n",
      "  model = cd_fast.enet_coordinate_descent(\n",
      "C:\\ProgramData\\anaconda3\\envs\\nlp-env\\lib\\site-packages\\statsmodels\\genmod\\families\\family.py:1367: ValueWarning: Negative binomial dispersion parameter alpha not set. Using default value alpha=1.0.\n",
      "  warnings.warn(\"Negative binomial dispersion parameter alpha not \"\n",
      "C:\\ProgramData\\anaconda3\\envs\\nlp-env\\lib\\site-packages\\statsmodels\\genmod\\families\\family.py:1406: RuntimeWarning: invalid value encountered in log\n",
      "  resid_dev -= endog_alpha * np.log(endog_alpha / mu_alpha)\n",
      "C:\\ProgramData\\anaconda3\\envs\\nlp-env\\lib\\site-packages\\sklearn\\linear_model\\_coordinate_descent.py:631: ConvergenceWarning: Objective did not converge. You might want to increase the number of iterations, check the scale of the features or consider increasing regularisation. Duality gap: 9.276e+03, tolerance: 5.879e+00\n",
      "  model = cd_fast.enet_coordinate_descent(\n",
      "C:\\ProgramData\\anaconda3\\envs\\nlp-env\\lib\\site-packages\\sklearn\\linear_model\\_coordinate_descent.py:2418: ConvergenceWarning: Objective did not converge. You might want to increase the number of iterations. Duality gap: 3431.676574352521, tolerance: 1.7930625656515768\n",
      "  ) = cd_fast.enet_coordinate_descent_multi_task(\n"
     ]
    },
    {
     "name": "stdout",
     "output_type": "stream",
     "text": [
      "Model Number: 1836 with model BasicLinearModel in generation 24 of 25\n",
      "Model Number: 1837 with model FFT in generation 24 of 25\n",
      "New Generation: 25 of 25\n",
      "Model Number: 1838 with model Cassandra in generation 25 of 25\n",
      "Template Eval Error: Exception(\"Transformer BTCD failed on fit from params ffill_mean_biased {'0': {'regression_model': {'model': 'LinearRegression', 'model_params': {}}, 'max_lags': 2}, '1': {}, '2': {}, '3': {'window': 3}, '4': {'model_name': 'AR(2)', 'state_transition': [[1, 1], [0.1, 0]], 'process_noise': [[1, 0], [0, 0]], 'observation_model': [[1, 0]], 'observation_noise': 1.0, 'em_iter': 10, 'on_transform': False, 'on_inverse': True}, '5': {'rows': 1, 'lag': 1, 'method': 'multiplicative', 'strength': 1.0, 'first_value_only': False, 'threshold': 10, 'threshold_method': 'mean'}} with error ValueError('BTCD only works on multivarate series')\") in model 1838 in generation 25: Cassandra\n",
      "Model Number: 1839 with model SeasonalityMotif in generation 25 of 25\n"
     ]
    },
    {
     "name": "stderr",
     "output_type": "stream",
     "text": [
      "C:\\ProgramData\\anaconda3\\envs\\nlp-env\\lib\\site-packages\\sklearn\\linear_model\\_coordinate_descent.py:631: ConvergenceWarning: Objective did not converge. You might want to increase the number of iterations, check the scale of the features or consider increasing regularisation. Duality gap: 2.796e+03, tolerance: 2.748e+00\n",
      "  model = cd_fast.enet_coordinate_descent(\n"
     ]
    },
    {
     "name": "stdout",
     "output_type": "stream",
     "text": [
      "Model Number: 1840 with model MetricMotif in generation 25 of 25\n",
      "Model Number: 1841 with model SeasonalityMotif in generation 25 of 25\n",
      "Model Number: 1842 with model BasicLinearModel in generation 25 of 25\n",
      "Model Number: 1843 with model Cassandra in generation 25 of 25\n",
      "Model Number: 1844 with model GLM in generation 25 of 25\n"
     ]
    },
    {
     "name": "stderr",
     "output_type": "stream",
     "text": [
      "C:\\ProgramData\\anaconda3\\envs\\nlp-env\\lib\\site-packages\\numpy\\lib\\function_base.py:2853: RuntimeWarning: invalid value encountered in divide\n",
      "  c /= stddev[:, None]\n",
      "C:\\ProgramData\\anaconda3\\envs\\nlp-env\\lib\\site-packages\\numpy\\lib\\function_base.py:2854: RuntimeWarning: invalid value encountered in divide\n",
      "  c /= stddev[None, :]\n",
      "C:\\ProgramData\\anaconda3\\envs\\nlp-env\\lib\\site-packages\\sklearn\\linear_model\\_coordinate_descent.py:631: ConvergenceWarning: Objective did not converge. You might want to increase the number of iterations, check the scale of the features or consider increasing regularisation. Duality gap: 6.396e+01, tolerance: 1.900e-02\n",
      "  model = cd_fast.enet_coordinate_descent(\n",
      "C:\\ProgramData\\anaconda3\\envs\\nlp-env\\lib\\site-packages\\statsmodels\\genmod\\families\\links.py:198: RuntimeWarning: overflow encountered in exp\n",
      "  t = np.exp(-z)\n"
     ]
    },
    {
     "name": "stdout",
     "output_type": "stream",
     "text": [
      "Model Number: 1845 with model SeasonalityMotif in generation 25 of 25\n",
      "Model Number: 1846 with model Cassandra in generation 25 of 25\n",
      "Model Number: 1847 with model GLM in generation 25 of 25\n",
      "Template Eval Error: ValueError('NaN, inf or invalid value detected in weights, estimation infeasible.') in model 1847 in generation 25: GLM\n",
      "Model Number: 1848 with model LastValueNaive in generation 25 of 25\n"
     ]
    },
    {
     "name": "stderr",
     "output_type": "stream",
     "text": [
      "C:\\ProgramData\\anaconda3\\envs\\nlp-env\\lib\\site-packages\\sklearn\\linear_model\\_coordinate_descent.py:631: ConvergenceWarning: Objective did not converge. You might want to increase the number of iterations, check the scale of the features or consider increasing regularisation. Duality gap: 9.397e+03, tolerance: 5.839e+00\n",
      "  model = cd_fast.enet_coordinate_descent(\n",
      "C:\\ProgramData\\anaconda3\\envs\\nlp-env\\lib\\site-packages\\numpy\\lib\\function_base.py:2853: RuntimeWarning: invalid value encountered in divide\n",
      "  c /= stddev[:, None]\n",
      "C:\\ProgramData\\anaconda3\\envs\\nlp-env\\lib\\site-packages\\numpy\\lib\\function_base.py:2854: RuntimeWarning: invalid value encountered in divide\n",
      "  c /= stddev[None, :]\n",
      "C:\\ProgramData\\anaconda3\\envs\\nlp-env\\lib\\site-packages\\statsmodels\\genmod\\generalized_linear_model.py:308: DomainWarning: The InversePower link function does not respect the domain of the Gamma family.\n",
      "  warnings.warn((f\"The {type(family.link).__name__} link function \"\n",
      "C:\\ProgramData\\anaconda3\\envs\\nlp-env\\lib\\site-packages\\statsmodels\\genmod\\families\\family.py:143: RuntimeWarning: overflow encountered in square\n",
      "  return 1. / (self.link.deriv(mu)**2 * self.variance(mu))\n",
      "C:\\ProgramData\\anaconda3\\envs\\nlp-env\\lib\\site-packages\\statsmodels\\genmod\\families\\links.py:325: RuntimeWarning: divide by zero encountered in power\n",
      "  return np.power(z, 1. / self.power)\n",
      "C:\\ProgramData\\anaconda3\\envs\\nlp-env\\lib\\site-packages\\statsmodels\\genmod\\families\\family.py:775: RuntimeWarning: invalid value encountered in divide\n",
      "  resid_dev = -np.log(endog_mu) + (endog - mu) / mu\n",
      "C:\\ProgramData\\anaconda3\\envs\\nlp-env\\lib\\site-packages\\statsmodels\\genmod\\generalized_linear_model.py:898: RuntimeWarning: invalid value encountered in divide\n",
      "  return np.sum(resid / self.family.variance(mu)) / self.df_resid\n",
      "C:\\ProgramData\\anaconda3\\envs\\nlp-env\\lib\\site-packages\\statsmodels\\genmod\\families\\family.py:143: RuntimeWarning: invalid value encountered in multiply\n",
      "  return 1. / (self.link.deriv(mu)**2 * self.variance(mu))\n",
      "C:\\ProgramData\\anaconda3\\envs\\nlp-env\\lib\\site-packages\\statsmodels\\genmod\\generalized_linear_model.py:1328: RuntimeWarning: invalid value encountered in multiply\n",
      "  wlsendog = (lin_pred + self.family.link.deriv(mu) * (self.endog-mu)\n",
      "C:\\ProgramData\\anaconda3\\envs\\nlp-env\\lib\\site-packages\\sklearn\\linear_model\\_coordinate_descent.py:631: ConvergenceWarning: Objective did not converge. You might want to increase the number of iterations, check the scale of the features or consider increasing regularisation. Duality gap: 1.503e+02, tolerance: 1.316e+00\n",
      "  model = cd_fast.enet_coordinate_descent(\n"
     ]
    },
    {
     "name": "stdout",
     "output_type": "stream",
     "text": [
      "Model Number: 1849 with model LastValueNaive in generation 25 of 25\n",
      "Model Number: 1850 with model BasicLinearModel in generation 25 of 25\n",
      "Template Eval Error: ValueError('matmul: Input operand 1 has a mismatch in its core dimension 0, with gufunc signature (n?,k),(k,m?)->(n?,m?) (size 190 is different from 1092)') in model 1850 in generation 25: BasicLinearModel\n",
      "Model Number: 1851 with model SeasonalityMotif in generation 25 of 25\n",
      "Model Number: 1852 with model GLM in generation 25 of 25\n",
      "Model Number: 1853 with model GLM in generation 25 of 25\n",
      "Model Number: 1854 with model ARDL in generation 25 of 25\n",
      "Model Number: 1855 with model UnivariateMotif in generation 25 of 25\n",
      "Model Number: 1856 with model ARDL in generation 25 of 25\n",
      "Model Number: 1857 with model BasicLinearModel in generation 25 of 25\n",
      "Model Number: 1858 with model LastValueNaive in generation 25 of 25\n",
      "Model Number: 1859 with model AverageValueNaive in generation 25 of 25\n",
      "Model Number: 1860 with model BasicLinearModel in generation 25 of 25\n",
      "Model Number: 1861 with model GLM in generation 25 of 25\n",
      "Model Number: 1862 with model SeasonalityMotif in generation 25 of 25\n",
      "Template Eval Error: Exception(\"Transformer Cointegration failed on fit from params rolling_mean {'0': {'discretization': 'center', 'n_bins': 50}, '1': {'det_order': 0, 'k_ar_diff': 2}, '2': {}} with error ValueError('Coint only works on multivarate series')\") in model 1862 in generation 25: SeasonalityMotif\n",
      "Model Number: 1863 with model BasicLinearModel in generation 25 of 25\n",
      "Model Number: 1864 with model FFT in generation 25 of 25\n",
      "Model Number: 1865 with model LastValueNaive in generation 25 of 25\n",
      "Model Number: 1866 with model BasicLinearModel in generation 25 of 25\n",
      "Model Number: 1867 with model GLM in generation 25 of 25\n",
      "Model Number: 1868 with model LastValueNaive in generation 25 of 25\n",
      "Model Number: 1869 with model LastValueNaive in generation 25 of 25\n",
      "Model Number: 1870 with model SeasonalityMotif in generation 25 of 25\n",
      "Model Number: 1871 with model Cassandra in generation 25 of 25\n",
      "Model Number: 1872 with model SeasonalityMotif in generation 25 of 25\n",
      "Model Number: 1873 with model ARDL in generation 25 of 25\n",
      "Model Number: 1874 with model SeasonalityMotif in generation 25 of 25\n",
      "Template Eval Error: Exception('Transformer ChangepointDetrend failed on fit from params rolling_mean {\\'0\\': {\\'lag_1\\': 28, \\'method\\': 20}, \\'1\\': {\\'model\\': \\'Tweedie\\', \\'changepoint_spacing\\': None, \\'changepoint_distance_end\\': 180, \\'datepart_method\\': \\'common_fourier\\'}} with error ValueError(\"Some value(s) of y are out of the valid range of the loss \\'HalfTweedieLoss\\'.\")') in model 1874 in generation 25: SeasonalityMotif\n",
      "Model Number: 1875 with model AverageValueNaive in generation 25 of 25\n",
      "Model Number: 1876 with model ARDL in generation 25 of 25\n"
     ]
    },
    {
     "name": "stderr",
     "output_type": "stream",
     "text": [
      "C:\\ProgramData\\anaconda3\\envs\\nlp-env\\lib\\site-packages\\sklearn\\linear_model\\_coordinate_descent.py:631: ConvergenceWarning: Objective did not converge. You might want to increase the number of iterations, check the scale of the features or consider increasing regularisation. Duality gap: 9.397e+03, tolerance: 5.839e+00\n",
      "  model = cd_fast.enet_coordinate_descent(\n"
     ]
    },
    {
     "name": "stdout",
     "output_type": "stream",
     "text": [
      "Model Number: 1877 with model LastValueNaive in generation 25 of 25\n",
      "Model Number: 1878 with model Cassandra in generation 25 of 25\n",
      "Template Eval Error: Exception(\"Transformer Detrend failed on fit from params rolling_mean {'0': {'lag_1': 28, 'method': 20}, '1': {'model': 'Linear', 'phi': 1, 'window': 365, 'transform_dict': {'fillna': 'zero', 'transformations': {'0': 'RollingMeanTransformer', '1': 'Log'}, 'transformation_params': {'0': {'fixed': True, 'window': 7, 'macro_micro': True, 'center': False}, '1': {}}}}, '2': {}, '3': {'window_size': 364, 'alpha': 1.0, 'grouping_forward_limit': 5, 'max_level_shifts': 8, 'alignment': 'rolling_diff_3nn'}, '4': {'span': 28}} with error ValueError('Unable to coerce to DataFrame, shape must be (190, 1): given (190, 2)')\") in model 1878 in generation 25: Cassandra\n",
      "Model Number: 1879 with model SeasonalityMotif in generation 25 of 25\n",
      "Template Eval Error: Exception(\"Transformer Cointegration failed on fit from params cubic {'0': {'lag': 1, 'fill': 'zero'}, '1': {'lag_1': 28, 'method': 'LastValue'}, '2': {'det_order': 1, 'k_ar_diff': 2}} with error ValueError('Coint only works on multivarate series')\") in model 1879 in generation 25: SeasonalityMotif\n",
      "Ensembling Error: AttributeError(\"'AutoTS' object has no attribute 'ensemble_templates'\"): Traceback (most recent call last):\n",
      "  File \"C:\\ProgramData\\anaconda3\\envs\\nlp-env\\lib\\site-packages\\autots\\evaluator\\auto_ts.py\", line 1455, in fit\n",
      "    self.ensemble_templates,\n",
      "AttributeError: 'AutoTS' object has no attribute 'ensemble_templates'\n",
      "\n",
      "Validation Round: 1\n",
      "Model Number: 1 of 255 with model SeasonalityMotif for Validation 1\n",
      "📈 1 - SeasonalityMotif with avg smape 1.34: \n",
      "Model Number: 2 of 255 with model SeasonalityMotif for Validation 1\n",
      "2 - SeasonalityMotif with avg smape 1.59: \n",
      "Model Number: 3 of 255 with model SeasonalityMotif for Validation 1\n",
      "3 - SeasonalityMotif with avg smape 1.59: \n",
      "Model Number: 4 of 255 with model SeasonalityMotif for Validation 1\n",
      "4 - SeasonalityMotif with avg smape 1.59: \n",
      "Model Number: 5 of 255 with model SeasonalityMotif for Validation 1\n",
      "5 - SeasonalityMotif with avg smape 1.76: \n",
      "Model Number: 6 of 255 with model SeasonalityMotif for Validation 1\n",
      "6 - SeasonalityMotif with avg smape 1.77: \n",
      "Model Number: 7 of 255 with model SeasonalityMotif for Validation 1\n",
      "7 - SeasonalityMotif with avg smape 1.44: \n",
      "Model Number: 8 of 255 with model SeasonalityMotif for Validation 1\n",
      "📈 8 - SeasonalityMotif with avg smape 0.92: \n",
      "Model Number: 9 of 255 with model AverageValueNaive for Validation 1\n",
      "9 - AverageValueNaive with avg smape 1.25: \n",
      "Model Number: 10 of 255 with model AverageValueNaive for Validation 1\n",
      "10 - AverageValueNaive with avg smape 1.25: \n",
      "Model Number: 11 of 255 with model AverageValueNaive for Validation 1\n",
      "11 - AverageValueNaive with avg smape 1.25: \n",
      "Model Number: 12 of 255 with model SeasonalityMotif for Validation 1\n",
      "12 - SeasonalityMotif with avg smape 1.67: \n",
      "Model Number: 13 of 255 with model SeasonalityMotif for Validation 1\n",
      "13 - SeasonalityMotif with avg smape 1.67: \n",
      "Model Number: 14 of 255 with model SeasonalityMotif for Validation 1\n",
      "14 - SeasonalityMotif with avg smape 1.62: \n",
      "Model Number: 15 of 255 with model Cassandra for Validation 1\n",
      "15 - Cassandra with avg smape 1.05: \n",
      "Model Number: 16 of 255 with model Cassandra for Validation 1\n"
     ]
    },
    {
     "name": "stderr",
     "output_type": "stream",
     "text": [
      "C:\\ProgramData\\anaconda3\\envs\\nlp-env\\lib\\site-packages\\numpy\\lib\\function_base.py:2853: RuntimeWarning: invalid value encountered in divide\n",
      "  c /= stddev[:, None]\n",
      "C:\\ProgramData\\anaconda3\\envs\\nlp-env\\lib\\site-packages\\numpy\\lib\\function_base.py:2854: RuntimeWarning: invalid value encountered in divide\n",
      "  c /= stddev[None, :]\n",
      "C:\\ProgramData\\anaconda3\\envs\\nlp-env\\lib\\site-packages\\numpy\\lib\\function_base.py:2853: RuntimeWarning: invalid value encountered in divide\n",
      "  c /= stddev[:, None]\n",
      "C:\\ProgramData\\anaconda3\\envs\\nlp-env\\lib\\site-packages\\numpy\\lib\\function_base.py:2854: RuntimeWarning: invalid value encountered in divide\n",
      "  c /= stddev[None, :]\n"
     ]
    },
    {
     "name": "stdout",
     "output_type": "stream",
     "text": [
      "16 - Cassandra with avg smape 1.05: \n",
      "Model Number: 17 of 255 with model SeasonalityMotif for Validation 1\n",
      "17 - SeasonalityMotif with avg smape 1.76: \n",
      "Model Number: 18 of 255 with model Cassandra for Validation 1\n",
      "18 - Cassandra with avg smape 1.09: \n",
      "Model Number: 19 of 255 with model SeasonalityMotif for Validation 1\n",
      "19 - SeasonalityMotif with avg smape 1.62: \n",
      "Model Number: 20 of 255 with model SeasonalityMotif for Validation 1\n",
      "20 - SeasonalityMotif with avg smape 0.93: \n",
      "Model Number: 21 of 255 with model SeasonalityMotif for Validation 1\n",
      "21 - SeasonalityMotif with avg smape 1.62: \n",
      "Model Number: 22 of 255 with model Cassandra for Validation 1\n"
     ]
    },
    {
     "name": "stderr",
     "output_type": "stream",
     "text": [
      "C:\\ProgramData\\anaconda3\\envs\\nlp-env\\lib\\site-packages\\numpy\\lib\\function_base.py:2853: RuntimeWarning: invalid value encountered in divide\n",
      "  c /= stddev[:, None]\n",
      "C:\\ProgramData\\anaconda3\\envs\\nlp-env\\lib\\site-packages\\numpy\\lib\\function_base.py:2854: RuntimeWarning: invalid value encountered in divide\n",
      "  c /= stddev[None, :]\n"
     ]
    },
    {
     "name": "stdout",
     "output_type": "stream",
     "text": [
      "22 - Cassandra with avg smape 21.55: \n",
      "Model Number: 23 of 255 with model LastValueNaive for Validation 1\n",
      "23 - LastValueNaive with avg smape 1.86: \n",
      "Model Number: 24 of 255 with model LastValueNaive for Validation 1\n",
      "24 - LastValueNaive with avg smape 1.44: \n",
      "Model Number: 25 of 255 with model LastValueNaive for Validation 1\n",
      "25 - LastValueNaive with avg smape 1.44: \n",
      "Model Number: 26 of 255 with model LastValueNaive for Validation 1\n",
      "26 - LastValueNaive with avg smape 1.44: \n",
      "Model Number: 27 of 255 with model LastValueNaive for Validation 1\n",
      "27 - LastValueNaive with avg smape 1.44: \n",
      "Model Number: 28 of 255 with model BasicLinearModel for Validation 1\n",
      "28 - BasicLinearModel with avg smape 1.9: \n",
      "Model Number: 29 of 255 with model BasicLinearModel for Validation 1\n",
      "29 - BasicLinearModel with avg smape 2.17: \n",
      "Model Number: 30 of 255 with model LastValueNaive for Validation 1\n",
      "30 - LastValueNaive with avg smape 1.36: \n",
      "Model Number: 31 of 255 with model ARDL for Validation 1\n",
      "31 - ARDL with avg smape 5.5: \n",
      "Model Number: 32 of 255 with model ARDL for Validation 1\n",
      "32 - ARDL with avg smape 89.75: \n",
      "Model Number: 33 of 255 with model BasicLinearModel for Validation 1\n",
      "33 - BasicLinearModel with avg smape 3.51: \n",
      "Model Number: 34 of 255 with model GLM for Validation 1\n",
      "34 - GLM with avg smape 3.5: \n",
      "Model Number: 35 of 255 with model BasicLinearModel for Validation 1\n",
      "35 - BasicLinearModel with avg smape 3.8: \n",
      "Model Number: 36 of 255 with model GLM for Validation 1\n",
      "36 - GLM with avg smape 3.31: \n",
      "Model Number: 37 of 255 with model ARDL for Validation 1\n",
      "37 - ARDL with avg smape 89.74: \n",
      "Model Number: 38 of 255 with model BasicLinearModel for Validation 1\n"
     ]
    },
    {
     "name": "stderr",
     "output_type": "stream",
     "text": [
      "C:\\ProgramData\\anaconda3\\envs\\nlp-env\\lib\\site-packages\\statsmodels\\genmod\\families\\links.py:198: RuntimeWarning: overflow encountered in exp\n",
      "  t = np.exp(-z)\n",
      "C:\\ProgramData\\anaconda3\\envs\\nlp-env\\lib\\site-packages\\statsmodels\\genmod\\families\\links.py:198: RuntimeWarning: overflow encountered in exp\n",
      "  t = np.exp(-z)\n"
     ]
    },
    {
     "name": "stdout",
     "output_type": "stream",
     "text": [
      "38 - BasicLinearModel with avg smape 4.1: \n",
      "Model Number: 39 of 255 with model BasicLinearModel for Validation 1\n",
      "39 - BasicLinearModel with avg smape 4.1: \n",
      "Model Number: 40 of 255 with model GLM for Validation 1\n",
      "40 - GLM with avg smape 3.31: \n",
      "Model Number: 41 of 255 with model GLM for Validation 1\n",
      "41 - GLM with avg smape 3.31: \n",
      "Model Number: 42 of 255 with model GLM for Validation 1\n",
      "42 - GLM with avg smape 3.31: \n",
      "Model Number: 43 of 255 with model Cassandra for Validation 1\n"
     ]
    },
    {
     "name": "stderr",
     "output_type": "stream",
     "text": [
      "C:\\ProgramData\\anaconda3\\envs\\nlp-env\\lib\\site-packages\\statsmodels\\genmod\\families\\family.py:1650: RuntimeWarning: invalid value encountered in log\n",
      "  endog * np.log(endog / mu) + (mu - endog))\n"
     ]
    },
    {
     "name": "stdout",
     "output_type": "stream",
     "text": [
      "43 - Cassandra with avg smape 2.8: \n",
      "Model Number: 44 of 255 with model LastValueNaive for Validation 1\n"
     ]
    },
    {
     "name": "stderr",
     "output_type": "stream",
     "text": [
      "C:\\ProgramData\\anaconda3\\envs\\nlp-env\\lib\\site-packages\\numpy\\lib\\function_base.py:2853: RuntimeWarning: invalid value encountered in divide\n",
      "  c /= stddev[:, None]\n",
      "C:\\ProgramData\\anaconda3\\envs\\nlp-env\\lib\\site-packages\\numpy\\lib\\function_base.py:2854: RuntimeWarning: invalid value encountered in divide\n",
      "  c /= stddev[None, :]\n"
     ]
    },
    {
     "name": "stdout",
     "output_type": "stream",
     "text": [
      "44 - LastValueNaive with avg smape 1.36: \n",
      "Model Number: 45 of 255 with model DatepartRegression for Validation 1\n",
      "45 - DatepartRegression with avg smape 3.4: \n",
      "Model Number: 46 of 255 with model ARDL for Validation 1\n",
      "46 - ARDL with avg smape 89.62: \n",
      "Model Number: 47 of 255 with model DatepartRegression for Validation 1\n",
      "47 - DatepartRegression with avg smape 3.96: \n",
      "Model Number: 48 of 255 with model LastValueNaive for Validation 1\n",
      "48 - LastValueNaive with avg smape 1.36: \n",
      "Model Number: 49 of 255 with model GLM for Validation 1\n",
      "49 - GLM with avg smape 3.88: \n",
      "Model Number: 50 of 255 with model FFT for Validation 1\n",
      "50 - FFT with avg smape 2.19: \n",
      "Model Number: 51 of 255 with model Cassandra for Validation 1\n",
      "51 - Cassandra with avg smape 1.27: \n",
      "Model Number: 52 of 255 with model LastValueNaive for Validation 1\n",
      "52 - LastValueNaive with avg smape 3.57: \n",
      "Model Number: 53 of 255 with model MetricMotif for Validation 1\n",
      "53 - MetricMotif with avg smape 3.66: \n",
      "Model Number: 54 of 255 with model MetricMotif for Validation 1\n",
      "54 - MetricMotif with avg smape 3.66: \n",
      "Model Number: 55 of 255 with model MetricMotif for Validation 1\n",
      "55 - MetricMotif with avg smape 3.66: \n",
      "Model Number: 56 of 255 with model ARDL for Validation 1\n",
      "56 - ARDL with avg smape 89.4: \n",
      "Model Number: 57 of 255 with model ARDL for Validation 1\n",
      "57 - ARDL with avg smape 89.58: \n",
      "Model Number: 58 of 255 with model LastValueNaive for Validation 1\n",
      "58 - LastValueNaive with avg smape 1.5: \n",
      "Model Number: 59 of 255 with model ARDL for Validation 1\n",
      "59 - ARDL with avg smape 89.66: \n",
      "Model Number: 60 of 255 with model BasicLinearModel for Validation 1\n",
      "60 - BasicLinearModel with avg smape 3.89: \n",
      "Model Number: 61 of 255 with model Cassandra for Validation 1\n",
      "61 - Cassandra with avg smape 0.94: \n",
      "Model Number: 62 of 255 with model UnivariateMotif for Validation 1\n",
      "62 - UnivariateMotif with avg smape 2.44: \n",
      "Model Number: 63 of 255 with model LastValueNaive for Validation 1\n",
      "63 - LastValueNaive with avg smape 3.5: \n",
      "Model Number: 64 of 255 with model LastValueNaive for Validation 1\n",
      "64 - LastValueNaive with avg smape 1.44: \n",
      "Model Number: 65 of 255 with model MetricMotif for Validation 1\n",
      "65 - MetricMotif with avg smape 3.66: \n",
      "Model Number: 66 of 255 with model MetricMotif for Validation 1\n",
      "66 - MetricMotif with avg smape 3.66: \n",
      "Model Number: 67 of 255 with model Cassandra for Validation 1\n",
      "Template Eval Error: ValueError('negative dimensions are not allowed') in model 67 in generation 0: Cassandra\n",
      "Model Number: 68 of 255 with model BasicLinearModel for Validation 1\n"
     ]
    },
    {
     "name": "stderr",
     "output_type": "stream",
     "text": [
      "C:\\ProgramData\\anaconda3\\envs\\nlp-env\\lib\\site-packages\\numpy\\lib\\function_base.py:2853: RuntimeWarning: invalid value encountered in divide\n",
      "  c /= stddev[:, None]\n",
      "C:\\ProgramData\\anaconda3\\envs\\nlp-env\\lib\\site-packages\\numpy\\lib\\function_base.py:2854: RuntimeWarning: invalid value encountered in divide\n",
      "  c /= stddev[None, :]\n"
     ]
    },
    {
     "name": "stdout",
     "output_type": "stream",
     "text": [
      "68 - BasicLinearModel with avg smape 1.5: \n",
      "Model Number: 69 of 255 with model GLM for Validation 1\n",
      "69 - GLM with avg smape 3.48: \n",
      "Model Number: 70 of 255 with model BasicLinearModel for Validation 1\n",
      "70 - BasicLinearModel with avg smape 1.59: \n",
      "Model Number: 71 of 255 with model UnivariateMotif for Validation 1\n",
      "71 - UnivariateMotif with avg smape 2.87: \n",
      "Model Number: 72 of 255 with model UnivariateMotif for Validation 1\n",
      "72 - UnivariateMotif with avg smape 2.86: \n",
      "Model Number: 73 of 255 with model UnivariateMotif for Validation 1\n",
      "73 - UnivariateMotif with avg smape 2.86: \n",
      "Model Number: 74 of 255 with model GLM for Validation 1\n",
      "74 - GLM with avg smape 4.21: \n",
      "Model Number: 75 of 255 with model UnivariateMotif for Validation 1\n",
      "75 - UnivariateMotif with avg smape 2.39: \n",
      "Model Number: 76 of 255 with model UnivariateMotif for Validation 1\n",
      "76 - UnivariateMotif with avg smape 2.39: \n",
      "Model Number: 77 of 255 with model Cassandra for Validation 1\n",
      "Template Eval Error: ValueError('negative dimensions are not allowed') in model 77 in generation 0: Cassandra\n",
      "Model Number: 78 of 255 with model GLM for Validation 1\n",
      "78 - GLM with avg smape 3.72: \n",
      "Model Number: 79 of 255 with model Cassandra for Validation 1\n",
      "Template Eval Error: ValueError('negative dimensions are not allowed') in model 79 in generation 0: Cassandra\n",
      "Model Number: 80 of 255 with model Cassandra for Validation 1\n",
      "80 - Cassandra with avg smape 1.05: \n",
      "Model Number: 81 of 255 with model ARDL for Validation 1\n",
      "81 - ARDL with avg smape 89.79: \n",
      "Model Number: 82 of 255 with model UnivariateMotif for Validation 1\n",
      "82 - UnivariateMotif with avg smape 2.54: \n",
      "Model Number: 83 of 255 with model BasicLinearModel for Validation 1\n",
      "83 - BasicLinearModel with avg smape 3.06: \n",
      "Model Number: 84 of 255 with model SectionalMotif for Validation 1\n",
      "84 - SectionalMotif with avg smape 0.92: \n",
      "Model Number: 85 of 255 with model BasicLinearModel for Validation 1\n",
      "85 - BasicLinearModel with avg smape 1.47: \n",
      "Model Number: 86 of 255 with model UnivariateMotif for Validation 1\n",
      "86 - UnivariateMotif with avg smape 2.89: \n",
      "Model Number: 87 of 255 with model UnivariateMotif for Validation 1\n",
      "87 - UnivariateMotif with avg smape 2.89: \n",
      "Model Number: 88 of 255 with model SectionalMotif for Validation 1\n",
      "88 - SectionalMotif with avg smape 1.42: \n",
      "Model Number: 89 of 255 with model AverageValueNaive for Validation 1\n",
      "89 - AverageValueNaive with avg smape 1.24: \n",
      "Model Number: 90 of 255 with model FFT for Validation 1\n",
      "90 - FFT with avg smape 2.36: \n",
      "Model Number: 91 of 255 with model BasicLinearModel for Validation 1\n",
      "91 - BasicLinearModel with avg smape 1.99: \n",
      "Model Number: 92 of 255 with model LastValueNaive for Validation 1\n",
      "92 - LastValueNaive with avg smape 3.08: \n",
      "Model Number: 93 of 255 with model Cassandra for Validation 1\n",
      "93 - Cassandra with avg smape 3.56: \n",
      "Model Number: 94 of 255 with model UnivariateMotif for Validation 1\n",
      "94 - UnivariateMotif with avg smape 4.11: \n",
      "Model Number: 95 of 255 with model DatepartRegression for Validation 1\n"
     ]
    },
    {
     "name": "stderr",
     "output_type": "stream",
     "text": [
      "C:\\ProgramData\\anaconda3\\envs\\nlp-env\\lib\\site-packages\\numpy\\lib\\function_base.py:2853: RuntimeWarning: invalid value encountered in divide\n",
      "  c /= stddev[:, None]\n",
      "C:\\ProgramData\\anaconda3\\envs\\nlp-env\\lib\\site-packages\\numpy\\lib\\function_base.py:2854: RuntimeWarning: invalid value encountered in divide\n",
      "  c /= stddev[None, :]\n"
     ]
    },
    {
     "name": "stdout",
     "output_type": "stream",
     "text": [
      "Epoch 1/10\n",
      "12/12 [==============================] - 0s 1ms/step - loss: 2.4285\n",
      "Epoch 2/10\n",
      "12/12 [==============================] - 0s 1ms/step - loss: 1.8616\n",
      "Epoch 3/10\n",
      "12/12 [==============================] - 0s 1000us/step - loss: 1.6201\n",
      "Epoch 4/10\n",
      "12/12 [==============================] - 0s 1ms/step - loss: 1.4635\n",
      "Epoch 5/10\n",
      "12/12 [==============================] - 0s 1ms/step - loss: 1.3723\n",
      "Epoch 6/10\n",
      "12/12 [==============================] - 0s 1ms/step - loss: 1.2885\n",
      "Epoch 7/10\n",
      "12/12 [==============================] - 0s 1ms/step - loss: 1.2530\n",
      "Epoch 8/10\n",
      "12/12 [==============================] - 0s 1ms/step - loss: 1.2004\n",
      "Epoch 9/10\n",
      "12/12 [==============================] - 0s 1ms/step - loss: 1.1660\n",
      "Epoch 10/10\n",
      "12/12 [==============================] - 0s 1ms/step - loss: 1.1429\n",
      "1/1 [==============================] - 0s 20ms/step\n",
      "95 - DatepartRegression with avg smape 1.65: \n",
      "Model Number: 96 of 255 with model BasicLinearModel for Validation 1\n",
      "96 - BasicLinearModel with avg smape 2.78: \n",
      "Model Number: 97 of 255 with model LastValueNaive for Validation 1\n",
      "97 - LastValueNaive with avg smape 1.96: \n",
      "Model Number: 98 of 255 with model Cassandra for Validation 1\n",
      "98 - Cassandra with avg smape 4.39: \n",
      "Model Number: 99 of 255 with model UnivariateMotif for Validation 1\n",
      "99 - UnivariateMotif with avg smape 2.88: \n",
      "Model Number: 100 of 255 with model BasicLinearModel for Validation 1\n",
      "100 - BasicLinearModel with avg smape 1.99: \n",
      "Model Number: 101 of 255 with model DatepartRegression for Validation 1\n",
      "101 - DatepartRegression with avg smape 1.5: \n",
      "Model Number: 102 of 255 with model UnivariateMotif for Validation 1\n",
      "102 - UnivariateMotif with avg smape 1.22: \n",
      "Model Number: 103 of 255 with model GLM for Validation 1\n",
      "103 - GLM with avg smape 3.81: \n",
      "Model Number: 104 of 255 with model Cassandra for Validation 1\n"
     ]
    },
    {
     "name": "stderr",
     "output_type": "stream",
     "text": [
      "C:\\ProgramData\\anaconda3\\envs\\nlp-env\\lib\\site-packages\\sklearn\\linear_model\\_coordinate_descent.py:2418: ConvergenceWarning: Objective did not converge. You might want to increase the number of iterations. Duality gap: 99.36039733886719, tolerance: 0.4518125355243683\n",
      "  ) = cd_fast.enet_coordinate_descent_multi_task(\n",
      "C:\\ProgramData\\anaconda3\\envs\\nlp-env\\lib\\site-packages\\statsmodels\\genmod\\families\\links.py:198: RuntimeWarning: overflow encountered in exp\n",
      "  t = np.exp(-z)\n",
      "C:\\ProgramData\\anaconda3\\envs\\nlp-env\\lib\\site-packages\\sklearn\\neighbors\\_classification.py:215: DataConversionWarning: A column-vector y was passed when a 1d array was expected. Please change the shape of y to (n_samples,), for example using ravel().\n",
      "  return self._fit(X, y)\n"
     ]
    },
    {
     "name": "stdout",
     "output_type": "stream",
     "text": [
      "104 - Cassandra with avg smape 2.29: \n",
      "Model Number: 105 of 255 with model BasicLinearModel for Validation 1\n",
      "105 - BasicLinearModel with avg smape 1.88: \n",
      "Model Number: 106 of 255 with model FFT for Validation 1\n",
      "106 - FFT with avg smape 1.48: \n",
      "Model Number: 107 of 255 with model UnivariateMotif for Validation 1\n",
      "107 - UnivariateMotif with avg smape 2.86: \n",
      "Model Number: 108 of 255 with model SectionalMotif for Validation 1\n",
      "108 - SectionalMotif with avg smape 4.64: \n",
      "Model Number: 109 of 255 with model SectionalMotif for Validation 1\n",
      "109 - SectionalMotif with avg smape 1.05: \n",
      "Model Number: 110 of 255 with model MetricMotif for Validation 1\n",
      "Template Eval Error: IndexError('index 90 is out of bounds for axis 0 with size 90') in model 110 in generation 0: MetricMotif\n",
      "Model Number: 111 of 255 with model AverageValueNaive for Validation 1\n",
      "111 - AverageValueNaive with avg smape 1.23: \n",
      "Model Number: 112 of 255 with model UnivariateMotif for Validation 1\n",
      "112 - UnivariateMotif with avg smape 5.76: \n",
      "Model Number: 113 of 255 with model UnivariateMotif for Validation 1\n",
      "113 - UnivariateMotif with avg smape 4.82: \n",
      "Model Number: 114 of 255 with model ARDL for Validation 1\n",
      "114 - ARDL with avg smape 12.35: \n",
      "Model Number: 115 of 255 with model ARDL for Validation 1\n",
      "115 - ARDL with avg smape 89.47: \n",
      "Model Number: 116 of 255 with model LastValueNaive for Validation 1\n",
      "116 - LastValueNaive with avg smape 2.55: \n",
      "Model Number: 117 of 255 with model MetricMotif for Validation 1\n",
      "117 - MetricMotif with avg smape 4.33: \n",
      "Model Number: 118 of 255 with model Cassandra for Validation 1\n",
      "Template Eval Error: ValueError('negative dimensions are not allowed') in model 118 in generation 0: Cassandra\n",
      "Model Number: 119 of 255 with model AverageValueNaive for Validation 1\n",
      "119 - AverageValueNaive with avg smape 1.21: \n",
      "Model Number: 120 of 255 with model AverageValueNaive for Validation 1\n",
      "120 - AverageValueNaive with avg smape 3.48: \n",
      "Model Number: 121 of 255 with model DatepartRegression for Validation 1\n",
      "121 - DatepartRegression with avg smape 2.14: \n",
      "Model Number: 122 of 255 with model FFT for Validation 1\n"
     ]
    },
    {
     "name": "stderr",
     "output_type": "stream",
     "text": [
      "C:\\ProgramData\\anaconda3\\envs\\nlp-env\\lib\\site-packages\\numpy\\lib\\function_base.py:2853: RuntimeWarning: invalid value encountered in divide\n",
      "  c /= stddev[:, None]\n",
      "C:\\ProgramData\\anaconda3\\envs\\nlp-env\\lib\\site-packages\\numpy\\lib\\function_base.py:2854: RuntimeWarning: invalid value encountered in divide\n",
      "  c /= stddev[None, :]\n"
     ]
    },
    {
     "name": "stdout",
     "output_type": "stream",
     "text": [
      "122 - FFT with avg smape 4.39: \n",
      "Model Number: 123 of 255 with model SectionalMotif for Validation 1\n",
      "123 - SectionalMotif with avg smape 2.4: \n",
      "Model Number: 124 of 255 with model AverageValueNaive for Validation 1\n",
      "124 - AverageValueNaive with avg smape 1.24: \n",
      "Model Number: 125 of 255 with model SectionalMotif for Validation 1\n",
      "125 - SectionalMotif with avg smape 1.59: \n",
      "Model Number: 126 of 255 with model AverageValueNaive for Validation 1\n",
      "126 - AverageValueNaive with avg smape 4.28: \n",
      "Model Number: 127 of 255 with model GLM for Validation 1\n",
      "127 - GLM with avg smape 1.26: \n",
      "Model Number: 128 of 255 with model SectionalMotif for Validation 1\n",
      "128 - SectionalMotif with avg smape 2.14: \n",
      "Model Number: 129 of 255 with model SectionalMotif for Validation 1\n",
      "129 - SectionalMotif with avg smape 2.14: \n",
      "Model Number: 130 of 255 with model AverageValueNaive for Validation 1\n",
      "130 - AverageValueNaive with avg smape 1.24: \n",
      "Model Number: 131 of 255 with model AverageValueNaive for Validation 1\n",
      "131 - AverageValueNaive with avg smape 1.24: \n",
      "Model Number: 132 of 255 with model AverageValueNaive for Validation 1\n",
      "132 - AverageValueNaive with avg smape 1.24: \n"
     ]
    },
    {
     "name": "stderr",
     "output_type": "stream",
     "text": [
      "C:\\ProgramData\\anaconda3\\envs\\nlp-env\\lib\\site-packages\\sklearn\\neighbors\\_classification.py:215: DataConversionWarning: A column-vector y was passed when a 1d array was expected. Please change the shape of y to (n_samples,), for example using ravel().\n",
      "  return self._fit(X, y)\n"
     ]
    },
    {
     "name": "stdout",
     "output_type": "stream",
     "text": [
      "Model Number: 133 of 255 with model ARDL for Validation 1\n",
      "133 - ARDL with avg smape 89.63: \n",
      "Model Number: 134 of 255 with model GLM for Validation 1\n",
      "134 - GLM with avg smape 1.57: \n",
      "Model Number: 135 of 255 with model SectionalMotif for Validation 1\n",
      "135 - SectionalMotif with avg smape 1.23: \n",
      "Model Number: 136 of 255 with model DatepartRegression for Validation 1\n",
      "136 - DatepartRegression with avg smape 1.23: \n",
      "Model Number: 137 of 255 with model AverageValueNaive for Validation 1\n",
      "137 - AverageValueNaive with avg smape 4.12: \n",
      "Model Number: 138 of 255 with model SectionalMotif for Validation 1\n",
      "138 - SectionalMotif with avg smape 4.88: \n",
      "Model Number: 139 of 255 with model FFT for Validation 1\n",
      "139 - FFT with avg smape 3.3: \n",
      "Model Number: 140 of 255 with model SectionalMotif for Validation 1\n",
      "140 - SectionalMotif with avg smape 1.25: \n",
      "Model Number: 141 of 255 with model DatepartRegression for Validation 1\n",
      "141 - DatepartRegression with avg smape 3.88: \n",
      "Model Number: 142 of 255 with model SectionalMotif for Validation 1\n",
      "142 - SectionalMotif with avg smape 2.41: \n",
      "Model Number: 143 of 255 with model SectionalMotif for Validation 1\n",
      "143 - SectionalMotif with avg smape 0.98: \n",
      "Model Number: 144 of 255 with model AverageValueNaive for Validation 1\n",
      "144 - AverageValueNaive with avg smape 4.03: \n",
      "Model Number: 145 of 255 with model AverageValueNaive for Validation 1\n",
      "145 - AverageValueNaive with avg smape 4.02: \n",
      "Model Number: 146 of 255 with model SectionalMotif for Validation 1\n",
      "146 - SectionalMotif with avg smape 3.07: \n",
      "Model Number: 147 of 255 with model ARDL for Validation 1\n",
      "147 - ARDL with avg smape 89.62: \n",
      "Model Number: 148 of 255 with model SectionalMotif for Validation 1\n",
      "148 - SectionalMotif with avg smape 1.25: \n",
      "Model Number: 149 of 255 with model GLM for Validation 1\n"
     ]
    },
    {
     "name": "stderr",
     "output_type": "stream",
     "text": [
      "C:\\ProgramData\\anaconda3\\envs\\nlp-env\\lib\\site-packages\\sklearn\\neural_network\\_multilayer_perceptron.py:541: ConvergenceWarning: lbfgs failed to converge (status=1):\n",
      "STOP: TOTAL NO. of ITERATIONS REACHED LIMIT.\n",
      "\n",
      "Increase the number of iterations (max_iter) or scale the data as shown in:\n",
      "    https://scikit-learn.org/stable/modules/preprocessing.html\n",
      "  self.n_iter_ = _check_optimize_result(\"lbfgs\", opt_res, self.max_iter)\n",
      "C:\\ProgramData\\anaconda3\\envs\\nlp-env\\lib\\site-packages\\statsmodels\\genmod\\families\\links.py:198: RuntimeWarning: overflow encountered in exp\n",
      "  t = np.exp(-z)\n"
     ]
    },
    {
     "name": "stdout",
     "output_type": "stream",
     "text": [
      "149 - GLM with avg smape 2.05: \n",
      "Model Number: 150 of 255 with model MetricMotif for Validation 1\n",
      "150 - MetricMotif with avg smape 2.81: \n",
      "Model Number: 151 of 255 with model GLM for Validation 1\n",
      "151 - GLM with avg smape 4.64: \n",
      "Model Number: 152 of 255 with model ARDL for Validation 1\n",
      "152 - ARDL with avg smape 5.64: \n",
      "Model Number: 153 of 255 with model MetricMotif for Validation 1\n",
      "153 - MetricMotif with avg smape 3.2: \n",
      "Model Number: 154 of 255 with model GLM for Validation 1\n",
      "154 - GLM with avg smape 1.6: \n",
      "Model Number: 155 of 255 with model GLS for Validation 1\n",
      "155 - GLS with avg smape 1.5: \n",
      "Model Number: 156 of 255 with model MetricMotif for Validation 1\n",
      "156 - MetricMotif with avg smape 0.98: \n",
      "Model Number: 157 of 255 with model MetricMotif for Validation 1\n",
      "157 - MetricMotif with avg smape 0.98: \n",
      "Model Number: 158 of 255 with model MetricMotif for Validation 1\n",
      "158 - MetricMotif with avg smape 1.02: \n",
      "Model Number: 159 of 255 with model MetricMotif for Validation 1\n",
      "159 - MetricMotif with avg smape 1.02: \n",
      "Model Number: 160 of 255 with model MetricMotif for Validation 1\n",
      "160 - MetricMotif with avg smape 1.03: \n",
      "Model Number: 161 of 255 with model MetricMotif for Validation 1\n",
      "161 - MetricMotif with avg smape 1.03: \n",
      "Model Number: 162 of 255 with model FFT for Validation 1\n",
      "162 - FFT with avg smape 2.33: \n",
      "Model Number: 163 of 255 with model FFT for Validation 1\n",
      "163 - FFT with avg smape 2.33: \n",
      "Model Number: 164 of 255 with model FFT for Validation 1\n",
      "164 - FFT with avg smape 3.45: \n",
      "Model Number: 165 of 255 with model FFT for Validation 1\n",
      "165 - FFT with avg smape 2.33: \n",
      "Model Number: 166 of 255 with model FFT for Validation 1\n",
      "166 - FFT with avg smape 2.11: \n",
      "Model Number: 167 of 255 with model GLS for Validation 1\n",
      "167 - GLS with avg smape 1.14: \n",
      "Model Number: 168 of 255 with model FFT for Validation 1\n",
      "168 - FFT with avg smape 1.91: \n",
      "Model Number: 169 of 255 with model ARDL for Validation 1\n",
      "169 - ARDL with avg smape 5.8: \n",
      "Model Number: 170 of 255 with model DatepartRegression for Validation 1\n",
      "170 - DatepartRegression with avg smape 2.25: \n",
      "Model Number: 171 of 255 with model ARDL for Validation 1\n",
      "171 - ARDL with avg smape 3.28: \n",
      "Model Number: 172 of 255 with model FFT for Validation 1\n",
      "172 - FFT with avg smape 4.0: \n",
      "Model Number: 173 of 255 with model FFT for Validation 1\n",
      "173 - FFT with avg smape 1.17: \n",
      "Model Number: 174 of 255 with model FFT for Validation 1\n",
      "174 - FFT with avg smape 1.67: \n",
      "Model Number: 175 of 255 with model DatepartRegression for Validation 1\n",
      "175 - DatepartRegression with avg smape 2.18: \n",
      "Model Number: 176 of 255 with model FFT for Validation 1\n",
      "176 - FFT with avg smape 2.22: \n",
      "Model Number: 177 of 255 with model SeasonalNaive for Validation 1\n",
      "177 - SeasonalNaive with avg smape 1.93: \n",
      "Model Number: 178 of 255 with model DatepartRegression for Validation 1\n",
      "178 - DatepartRegression with avg smape 3.85: \n",
      "Model Number: 179 of 255 with model ConstantNaive for Validation 1\n",
      "179 - ConstantNaive with avg smape 2.07: \n",
      "Model Number: 180 of 255 with model DatepartRegression for Validation 1\n",
      "180 - DatepartRegression with avg smape 1.23: \n",
      "Model Number: 181 of 255 with model DatepartRegression for Validation 1\n",
      "181 - DatepartRegression with avg smape 8.57: \n",
      "Model Number: 182 of 255 with model DatepartRegression for Validation 1\n",
      "182 - DatepartRegression with avg smape 1.81: \n",
      "Model Number: 183 of 255 with model SeasonalNaive for Validation 1\n",
      "183 - SeasonalNaive with avg smape 1.5: \n",
      "Model Number: 184 of 255 with model SeasonalNaive for Validation 1\n",
      "184 - SeasonalNaive with avg smape 1.48: \n",
      "Model Number: 185 of 255 with model ETS for Validation 1\n",
      "185 - ETS with avg smape 2.39: \n",
      "Model Number: 186 of 255 with model DatepartRegression for Validation 1\n",
      "186 - DatepartRegression with avg smape 2.22: \n",
      "Model Number: 187 of 255 with model DatepartRegression for Validation 1\n",
      "187 - DatepartRegression with avg smape 3.37: \n",
      "Model Number: 188 of 255 with model SeasonalNaive for Validation 1\n",
      "188 - SeasonalNaive with avg smape 2.6: \n",
      "Model Number: 189 of 255 with model SeasonalNaive for Validation 1\n",
      "189 - SeasonalNaive with avg smape 3.08: \n",
      "Model Number: 190 of 255 with model ETS for Validation 1\n",
      "190 - ETS with avg smape 2.72: \n",
      "Model Number: 191 of 255 with model ETS for Validation 1\n",
      "191 - ETS with avg smape 2.73: \n",
      "Model Number: 192 of 255 with model ETS for Validation 1\n",
      "192 - ETS with avg smape 2.14: \n",
      "Model Number: 193 of 255 with model ETS for Validation 1\n",
      "193 - ETS with avg smape 1.76: \n",
      "Model Number: 194 of 255 with model SeasonalNaive for Validation 1\n",
      "194 - SeasonalNaive with avg smape 1.08: \n",
      "Model Number: 195 of 255 with model SeasonalNaive for Validation 1\n",
      "195 - SeasonalNaive with avg smape 2.29: \n",
      "Model Number: 196 of 255 with model SeasonalNaive for Validation 1\n",
      "196 - SeasonalNaive with avg smape 2.68: \n",
      "Model Number: 197 of 255 with model SeasonalNaive for Validation 1\n",
      "197 - SeasonalNaive with avg smape 2.3: \n",
      "Model Number: 198 of 255 with model ETS for Validation 1\n",
      "198 - ETS with avg smape 2.34: \n",
      "Model Number: 199 of 255 with model SeasonalNaive for Validation 1\n",
      "199 - SeasonalNaive with avg smape 1.08: \n",
      "Model Number: 200 of 255 with model GLS for Validation 1\n",
      "200 - GLS with avg smape 2.49: \n",
      "Model Number: 201 of 255 with model ETS for Validation 1\n",
      "201 - ETS with avg smape 2.52: \n",
      "Model Number: 202 of 255 with model ETS for Validation 1\n",
      "202 - ETS with avg smape 2.73: \n",
      "Model Number: 203 of 255 with model ETS for Validation 1\n",
      "203 - ETS with avg smape 2.73: \n",
      "Model Number: 204 of 255 with model ETS for Validation 1\n",
      "204 - ETS with avg smape 2.73: \n",
      "Model Number: 205 of 255 with model ETS for Validation 1\n",
      "205 - ETS with avg smape 3.67: \n",
      "Model Number: 206 of 255 with model ETS for Validation 1\n",
      "206 - ETS with avg smape 2.94: \n",
      "Model Number: 207 of 255 with model ETS for Validation 1\n",
      "207 - ETS with avg smape 2.59: \n",
      "Model Number: 208 of 255 with model ETS for Validation 1\n",
      "208 - ETS with avg smape 2.64: \n",
      "Model Number: 209 of 255 with model ETS for Validation 1\n",
      "209 - ETS with avg smape 2.64: \n",
      "Model Number: 210 of 255 with model ConstantNaive for Validation 1\n",
      "210 - ConstantNaive with avg smape 1.96: \n",
      "Model Number: 211 of 255 with model ConstantNaive for Validation 1\n",
      "211 - ConstantNaive with avg smape 2.98: \n",
      "Model Number: 212 of 255 with model SeasonalNaive for Validation 1\n",
      "212 - SeasonalNaive with avg smape 2.29: \n",
      "Model Number: 213 of 255 with model ConstantNaive for Validation 1\n",
      "213 - ConstantNaive with avg smape 2.42: \n",
      "Model Number: 214 of 255 with model ConstantNaive for Validation 1\n",
      "214 - ConstantNaive with avg smape 2.42: \n",
      "Model Number: 215 of 255 with model ConstantNaive for Validation 1\n",
      "215 - ConstantNaive with avg smape 2.42: \n",
      "Model Number: 216 of 255 with model ConstantNaive for Validation 1\n",
      "216 - ConstantNaive with avg smape 2.42: \n",
      "Model Number: 217 of 255 with model SeasonalNaive for Validation 1\n",
      "217 - SeasonalNaive with avg smape 2.55: \n",
      "Model Number: 218 of 255 with model ConstantNaive for Validation 1\n",
      "218 - ConstantNaive with avg smape 3.0: \n",
      "Model Number: 219 of 255 with model SeasonalNaive for Validation 1\n",
      "219 - SeasonalNaive with avg smape 2.6: \n",
      "Model Number: 220 of 255 with model GLS for Validation 1\n",
      "220 - GLS with avg smape 3.62: \n",
      "Model Number: 221 of 255 with model GLS for Validation 1\n",
      "221 - GLS with avg smape 3.62: \n",
      "Model Number: 222 of 255 with model SeasonalNaive for Validation 1\n",
      "222 - SeasonalNaive with avg smape 2.27: \n"
     ]
    },
    {
     "name": "stderr",
     "output_type": "stream",
     "text": [
      "C:\\ProgramData\\anaconda3\\envs\\nlp-env\\lib\\site-packages\\sklearn\\neighbors\\_classification.py:215: DataConversionWarning: A column-vector y was passed when a 1d array was expected. Please change the shape of y to (n_samples,), for example using ravel().\n",
      "  return self._fit(X, y)\n"
     ]
    },
    {
     "name": "stdout",
     "output_type": "stream",
     "text": [
      "Model Number: 223 of 255 with model SeasonalNaive for Validation 1\n",
      "223 - SeasonalNaive with avg smape 2.3: \n",
      "Model Number: 224 of 255 with model WindowRegression for Validation 1\n",
      "224 - WindowRegression with avg smape 5.9: \n",
      "Model Number: 225 of 255 with model ConstantNaive for Validation 1\n",
      "225 - ConstantNaive with avg smape 1.96: \n",
      "Model Number: 226 of 255 with model GLS for Validation 1\n",
      "226 - GLS with avg smape 3.55: \n",
      "Model Number: 227 of 255 with model GLS for Validation 1\n",
      "227 - GLS with avg smape 3.55: \n",
      "Model Number: 228 of 255 with model GLS for Validation 1\n",
      "228 - GLS with avg smape 3.62: \n",
      "Model Number: 229 of 255 with model GLS for Validation 1\n",
      "229 - GLS with avg smape 3.45: \n",
      "Model Number: 230 of 255 with model WindowRegression for Validation 1\n"
     ]
    },
    {
     "name": "stderr",
     "output_type": "stream",
     "text": [
      "C:\\ProgramData\\anaconda3\\envs\\nlp-env\\lib\\site-packages\\sklearn\\base.py:432: UserWarning: X has feature names, but StandardScaler was fitted without feature names\n",
      "  warnings.warn(\n",
      "C:\\ProgramData\\anaconda3\\envs\\nlp-env\\lib\\site-packages\\sklearn\\base.py:432: UserWarning: X has feature names, but StandardScaler was fitted without feature names\n",
      "  warnings.warn(\n",
      "C:\\ProgramData\\anaconda3\\envs\\nlp-env\\lib\\site-packages\\sklearn\\base.py:432: UserWarning: X has feature names, but StandardScaler was fitted without feature names\n",
      "  warnings.warn(\n",
      "C:\\ProgramData\\anaconda3\\envs\\nlp-env\\lib\\site-packages\\sklearn\\base.py:432: UserWarning: X has feature names, but StandardScaler was fitted without feature names\n",
      "  warnings.warn(\n",
      "C:\\ProgramData\\anaconda3\\envs\\nlp-env\\lib\\site-packages\\sklearn\\base.py:432: UserWarning: X has feature names, but StandardScaler was fitted without feature names\n",
      "  warnings.warn(\n",
      "C:\\ProgramData\\anaconda3\\envs\\nlp-env\\lib\\site-packages\\sklearn\\base.py:432: UserWarning: X has feature names, but StandardScaler was fitted without feature names\n",
      "  warnings.warn(\n",
      "C:\\ProgramData\\anaconda3\\envs\\nlp-env\\lib\\site-packages\\sklearn\\base.py:432: UserWarning: X has feature names, but StandardScaler was fitted without feature names\n",
      "  warnings.warn(\n",
      "C:\\ProgramData\\anaconda3\\envs\\nlp-env\\lib\\site-packages\\sklearn\\base.py:432: UserWarning: X has feature names, but StandardScaler was fitted without feature names\n",
      "  warnings.warn(\n",
      "C:\\ProgramData\\anaconda3\\envs\\nlp-env\\lib\\site-packages\\sklearn\\base.py:432: UserWarning: X has feature names, but StandardScaler was fitted without feature names\n",
      "  warnings.warn(\n",
      "C:\\ProgramData\\anaconda3\\envs\\nlp-env\\lib\\site-packages\\sklearn\\base.py:432: UserWarning: X has feature names, but StandardScaler was fitted without feature names\n",
      "  warnings.warn(\n"
     ]
    },
    {
     "name": "stdout",
     "output_type": "stream",
     "text": [
      "230 - WindowRegression with avg smape 2.37: \n",
      "Model Number: 231 of 255 with model GLS for Validation 1\n",
      "231 - GLS with avg smape 2.4: \n",
      "Model Number: 232 of 255 with model GLS for Validation 1\n",
      "232 - GLS with avg smape 4.34: \n",
      "Model Number: 233 of 255 with model ConstantNaive for Validation 1\n",
      "233 - ConstantNaive with avg smape 1.53: \n",
      "Model Number: 234 of 255 with model ConstantNaive for Validation 1\n"
     ]
    },
    {
     "name": "stderr",
     "output_type": "stream",
     "text": [
      "C:\\ProgramData\\anaconda3\\envs\\nlp-env\\lib\\site-packages\\sklearn\\neural_network\\_multilayer_perceptron.py:541: ConvergenceWarning: lbfgs failed to converge (status=1):\n",
      "STOP: TOTAL NO. of ITERATIONS REACHED LIMIT.\n",
      "\n",
      "Increase the number of iterations (max_iter) or scale the data as shown in:\n",
      "    https://scikit-learn.org/stable/modules/preprocessing.html\n",
      "  self.n_iter_ = _check_optimize_result(\"lbfgs\", opt_res, self.max_iter)\n"
     ]
    },
    {
     "name": "stdout",
     "output_type": "stream",
     "text": [
      "234 - ConstantNaive with avg smape 2.05: \n",
      "Model Number: 235 of 255 with model WindowRegression for Validation 1\n",
      "235 - WindowRegression with avg smape 1.02: \n",
      "Model Number: 236 of 255 with model ConstantNaive for Validation 1\n",
      "236 - ConstantNaive with avg smape 1.67: \n",
      "Model Number: 237 of 255 with model WindowRegression for Validation 1\n",
      "237 - WindowRegression with avg smape 7.61: \n",
      "Model Number: 238 of 255 with model RRVAR for Validation 1\n",
      "238 - RRVAR with avg smape 2.56: \n",
      "Model Number: 239 of 255 with model GLS for Validation 1\n",
      "239 - GLS with avg smape 1.7: \n",
      "Model Number: 240 of 255 with model GLS for Validation 1\n",
      "240 - GLS with avg smape 1.7: \n",
      "Model Number: 241 of 255 with model GLS for Validation 1\n",
      "241 - GLS with avg smape 4.62: \n",
      "Model Number: 242 of 255 with model WindowRegression for Validation 1\n",
      "242 - WindowRegression with avg smape 6.16: \n",
      "Model Number: 243 of 255 with model GLS for Validation 1\n"
     ]
    },
    {
     "name": "stderr",
     "output_type": "stream",
     "text": [
      "C:\\ProgramData\\anaconda3\\envs\\nlp-env\\lib\\site-packages\\sklearn\\neural_network\\_multilayer_perceptron.py:541: ConvergenceWarning: lbfgs failed to converge (status=1):\n",
      "STOP: TOTAL NO. of ITERATIONS REACHED LIMIT.\n",
      "\n",
      "Increase the number of iterations (max_iter) or scale the data as shown in:\n",
      "    https://scikit-learn.org/stable/modules/preprocessing.html\n",
      "  self.n_iter_ = _check_optimize_result(\"lbfgs\", opt_res, self.max_iter)\n",
      "C:\\ProgramData\\anaconda3\\envs\\nlp-env\\lib\\site-packages\\sklearn\\base.py:432: UserWarning: X has feature names, but StandardScaler was fitted without feature names\n",
      "  warnings.warn(\n",
      "C:\\ProgramData\\anaconda3\\envs\\nlp-env\\lib\\site-packages\\sklearn\\base.py:432: UserWarning: X has feature names, but StandardScaler was fitted without feature names\n",
      "  warnings.warn(\n",
      "C:\\ProgramData\\anaconda3\\envs\\nlp-env\\lib\\site-packages\\sklearn\\base.py:432: UserWarning: X has feature names, but StandardScaler was fitted without feature names\n",
      "  warnings.warn(\n",
      "C:\\ProgramData\\anaconda3\\envs\\nlp-env\\lib\\site-packages\\sklearn\\base.py:432: UserWarning: X has feature names, but StandardScaler was fitted without feature names\n",
      "  warnings.warn(\n",
      "C:\\ProgramData\\anaconda3\\envs\\nlp-env\\lib\\site-packages\\sklearn\\base.py:432: UserWarning: X has feature names, but StandardScaler was fitted without feature names\n",
      "  warnings.warn(\n",
      "C:\\ProgramData\\anaconda3\\envs\\nlp-env\\lib\\site-packages\\sklearn\\base.py:432: UserWarning: X has feature names, but StandardScaler was fitted without feature names\n",
      "  warnings.warn(\n",
      "C:\\ProgramData\\anaconda3\\envs\\nlp-env\\lib\\site-packages\\sklearn\\base.py:432: UserWarning: X has feature names, but StandardScaler was fitted without feature names\n",
      "  warnings.warn(\n",
      "C:\\ProgramData\\anaconda3\\envs\\nlp-env\\lib\\site-packages\\sklearn\\base.py:432: UserWarning: X has feature names, but StandardScaler was fitted without feature names\n",
      "  warnings.warn(\n",
      "C:\\ProgramData\\anaconda3\\envs\\nlp-env\\lib\\site-packages\\sklearn\\base.py:432: UserWarning: X has feature names, but StandardScaler was fitted without feature names\n",
      "  warnings.warn(\n",
      "C:\\ProgramData\\anaconda3\\envs\\nlp-env\\lib\\site-packages\\sklearn\\base.py:432: UserWarning: X has feature names, but StandardScaler was fitted without feature names\n",
      "  warnings.warn(\n",
      "C:\\ProgramData\\anaconda3\\envs\\nlp-env\\lib\\site-packages\\sklearn\\base.py:432: UserWarning: X has feature names, but StandardScaler was fitted without feature names\n",
      "  warnings.warn(\n",
      "C:\\ProgramData\\anaconda3\\envs\\nlp-env\\lib\\site-packages\\sklearn\\base.py:432: UserWarning: X has feature names, but StandardScaler was fitted without feature names\n",
      "  warnings.warn(\n",
      "C:\\ProgramData\\anaconda3\\envs\\nlp-env\\lib\\site-packages\\sklearn\\base.py:432: UserWarning: X has feature names, but StandardScaler was fitted without feature names\n",
      "  warnings.warn(\n",
      "C:\\ProgramData\\anaconda3\\envs\\nlp-env\\lib\\site-packages\\sklearn\\base.py:432: UserWarning: X has feature names, but StandardScaler was fitted without feature names\n",
      "  warnings.warn(\n",
      "C:\\ProgramData\\anaconda3\\envs\\nlp-env\\lib\\site-packages\\sklearn\\base.py:432: UserWarning: X has feature names, but StandardScaler was fitted without feature names\n",
      "  warnings.warn(\n",
      "C:\\ProgramData\\anaconda3\\envs\\nlp-env\\lib\\site-packages\\sklearn\\base.py:432: UserWarning: X has feature names, but StandardScaler was fitted without feature names\n",
      "  warnings.warn(\n",
      "C:\\ProgramData\\anaconda3\\envs\\nlp-env\\lib\\site-packages\\sklearn\\base.py:432: UserWarning: X has feature names, but StandardScaler was fitted without feature names\n",
      "  warnings.warn(\n",
      "C:\\ProgramData\\anaconda3\\envs\\nlp-env\\lib\\site-packages\\sklearn\\base.py:432: UserWarning: X has feature names, but StandardScaler was fitted without feature names\n",
      "  warnings.warn(\n",
      "C:\\ProgramData\\anaconda3\\envs\\nlp-env\\lib\\site-packages\\sklearn\\base.py:432: UserWarning: X has feature names, but StandardScaler was fitted without feature names\n",
      "  warnings.warn(\n",
      "C:\\ProgramData\\anaconda3\\envs\\nlp-env\\lib\\site-packages\\sklearn\\base.py:432: UserWarning: X has feature names, but StandardScaler was fitted without feature names\n",
      "  warnings.warn(\n"
     ]
    },
    {
     "name": "stdout",
     "output_type": "stream",
     "text": [
      "243 - GLS with avg smape 3.18: \n",
      "Model Number: 244 of 255 with model ConstantNaive for Validation 1\n",
      "📈 244 - ConstantNaive with avg smape 0.86: \n",
      "Model Number: 245 of 255 with model ConstantNaive for Validation 1\n",
      "245 - ConstantNaive with avg smape 1.8: \n",
      "Model Number: 246 of 255 with model WindowRegression for Validation 1\n",
      "246 - WindowRegression with avg smape 8.47: \n",
      "Model Number: 247 of 255 with model WindowRegression for Validation 1\n",
      "Template Eval Error: ValueError('`min_samples` may not be larger than number of samples: n_samples = 81.') in model 247 in generation 0: WindowRegression\n",
      "Model Number: 248 of 255 with model ConstantNaive for Validation 1\n"
     ]
    },
    {
     "name": "stderr",
     "output_type": "stream",
     "text": [
      "C:\\ProgramData\\anaconda3\\envs\\nlp-env\\lib\\site-packages\\sklearn\\neural_network\\_multilayer_perceptron.py:541: ConvergenceWarning: lbfgs failed to converge (status=1):\n",
      "STOP: TOTAL NO. of ITERATIONS REACHED LIMIT.\n",
      "\n",
      "Increase the number of iterations (max_iter) or scale the data as shown in:\n",
      "    https://scikit-learn.org/stable/modules/preprocessing.html\n",
      "  self.n_iter_ = _check_optimize_result(\"lbfgs\", opt_res, self.max_iter)\n"
     ]
    },
    {
     "name": "stdout",
     "output_type": "stream",
     "text": [
      "248 - ConstantNaive with avg smape 11.43: \n",
      "Model Number: 249 of 255 with model WindowRegression for Validation 1\n",
      "249 - WindowRegression with avg smape 9.41: \n",
      "Model Number: 250 of 255 with model WindowRegression for Validation 1\n",
      "250 - WindowRegression with avg smape 2.71: \n",
      "Model Number: 251 of 255 with model WindowRegression for Validation 1\n"
     ]
    },
    {
     "name": "stderr",
     "output_type": "stream",
     "text": [
      "C:\\ProgramData\\anaconda3\\envs\\nlp-env\\lib\\site-packages\\sklearn\\linear_model\\_ridge.py:216: LinAlgWarning: Ill-conditioned matrix (rcond=4.97196e-08): result may not be accurate.\n",
      "  return linalg.solve(A, Xy, assume_a=\"pos\", overwrite_a=True).T\n",
      "C:\\ProgramData\\anaconda3\\envs\\nlp-env\\lib\\site-packages\\sklearn\\base.py:432: UserWarning: X has feature names, but StandardScaler was fitted without feature names\n",
      "  warnings.warn(\n",
      "C:\\ProgramData\\anaconda3\\envs\\nlp-env\\lib\\site-packages\\sklearn\\base.py:432: UserWarning: X has feature names, but StandardScaler was fitted without feature names\n",
      "  warnings.warn(\n",
      "C:\\ProgramData\\anaconda3\\envs\\nlp-env\\lib\\site-packages\\sklearn\\base.py:432: UserWarning: X has feature names, but StandardScaler was fitted without feature names\n",
      "  warnings.warn(\n",
      "C:\\ProgramData\\anaconda3\\envs\\nlp-env\\lib\\site-packages\\sklearn\\base.py:432: UserWarning: X has feature names, but StandardScaler was fitted without feature names\n",
      "  warnings.warn(\n",
      "C:\\ProgramData\\anaconda3\\envs\\nlp-env\\lib\\site-packages\\sklearn\\base.py:432: UserWarning: X has feature names, but StandardScaler was fitted without feature names\n",
      "  warnings.warn(\n",
      "C:\\ProgramData\\anaconda3\\envs\\nlp-env\\lib\\site-packages\\sklearn\\base.py:432: UserWarning: X has feature names, but StandardScaler was fitted without feature names\n",
      "  warnings.warn(\n",
      "C:\\ProgramData\\anaconda3\\envs\\nlp-env\\lib\\site-packages\\sklearn\\base.py:432: UserWarning: X has feature names, but StandardScaler was fitted without feature names\n",
      "  warnings.warn(\n",
      "C:\\ProgramData\\anaconda3\\envs\\nlp-env\\lib\\site-packages\\sklearn\\base.py:432: UserWarning: X has feature names, but StandardScaler was fitted without feature names\n",
      "  warnings.warn(\n",
      "C:\\ProgramData\\anaconda3\\envs\\nlp-env\\lib\\site-packages\\sklearn\\base.py:432: UserWarning: X has feature names, but StandardScaler was fitted without feature names\n",
      "  warnings.warn(\n",
      "C:\\ProgramData\\anaconda3\\envs\\nlp-env\\lib\\site-packages\\sklearn\\base.py:432: UserWarning: X has feature names, but StandardScaler was fitted without feature names\n",
      "  warnings.warn(\n"
     ]
    },
    {
     "name": "stdout",
     "output_type": "stream",
     "text": [
      "251 - WindowRegression with avg smape 2.36: \n",
      "Model Number: 252 of 255 with model WindowRegression for Validation 1\n"
     ]
    },
    {
     "name": "stderr",
     "output_type": "stream",
     "text": [
      "C:\\ProgramData\\anaconda3\\envs\\nlp-env\\lib\\site-packages\\sklearn\\base.py:432: UserWarning: X has feature names, but StandardScaler was fitted without feature names\n",
      "  warnings.warn(\n",
      "C:\\ProgramData\\anaconda3\\envs\\nlp-env\\lib\\site-packages\\sklearn\\base.py:432: UserWarning: X has feature names, but StandardScaler was fitted without feature names\n",
      "  warnings.warn(\n",
      "C:\\ProgramData\\anaconda3\\envs\\nlp-env\\lib\\site-packages\\sklearn\\base.py:432: UserWarning: X has feature names, but StandardScaler was fitted without feature names\n",
      "  warnings.warn(\n",
      "C:\\ProgramData\\anaconda3\\envs\\nlp-env\\lib\\site-packages\\sklearn\\base.py:432: UserWarning: X has feature names, but StandardScaler was fitted without feature names\n",
      "  warnings.warn(\n",
      "C:\\ProgramData\\anaconda3\\envs\\nlp-env\\lib\\site-packages\\sklearn\\base.py:432: UserWarning: X has feature names, but StandardScaler was fitted without feature names\n",
      "  warnings.warn(\n",
      "C:\\ProgramData\\anaconda3\\envs\\nlp-env\\lib\\site-packages\\sklearn\\base.py:432: UserWarning: X has feature names, but StandardScaler was fitted without feature names\n",
      "  warnings.warn(\n",
      "C:\\ProgramData\\anaconda3\\envs\\nlp-env\\lib\\site-packages\\sklearn\\base.py:432: UserWarning: X has feature names, but StandardScaler was fitted without feature names\n",
      "  warnings.warn(\n",
      "C:\\ProgramData\\anaconda3\\envs\\nlp-env\\lib\\site-packages\\sklearn\\base.py:432: UserWarning: X has feature names, but StandardScaler was fitted without feature names\n",
      "  warnings.warn(\n",
      "C:\\ProgramData\\anaconda3\\envs\\nlp-env\\lib\\site-packages\\sklearn\\base.py:432: UserWarning: X has feature names, but StandardScaler was fitted without feature names\n",
      "  warnings.warn(\n",
      "C:\\ProgramData\\anaconda3\\envs\\nlp-env\\lib\\site-packages\\sklearn\\base.py:432: UserWarning: X has feature names, but StandardScaler was fitted without feature names\n",
      "  warnings.warn(\n"
     ]
    },
    {
     "name": "stdout",
     "output_type": "stream",
     "text": [
      "252 - WindowRegression with avg smape 6.72: \n",
      "Model Number: 253 of 255 with model WindowRegression for Validation 1\n",
      "253 - WindowRegression with avg smape 15.75: \n",
      "Model Number: 254 of 255 with model RRVAR for Validation 1\n",
      "254 - RRVAR with avg smape 18.15: \n",
      "Model Number: 255 of 255 with model RRVAR for Validation 1\n",
      "255 - RRVAR with avg smape 5.11: \n",
      "Validation Round: 2\n",
      "Model Number: 1 of 255 with model SeasonalityMotif for Validation 2\n",
      "📈 1 - SeasonalityMotif with avg smape 3.78: \n",
      "Model Number: 2 of 255 with model SeasonalityMotif for Validation 2\n"
     ]
    },
    {
     "name": "stderr",
     "output_type": "stream",
     "text": [
      "C:\\ProgramData\\anaconda3\\envs\\nlp-env\\lib\\site-packages\\sklearn\\base.py:432: UserWarning: X has feature names, but StandardScaler was fitted without feature names\n",
      "  warnings.warn(\n"
     ]
    },
    {
     "name": "stdout",
     "output_type": "stream",
     "text": [
      "📈 2 - SeasonalityMotif with avg smape 2.61: \n",
      "Model Number: 3 of 255 with model SeasonalityMotif for Validation 2\n",
      "3 - SeasonalityMotif with avg smape 2.61: \n",
      "Model Number: 4 of 255 with model SeasonalityMotif for Validation 2\n",
      "4 - SeasonalityMotif with avg smape 2.61: \n",
      "Model Number: 5 of 255 with model SeasonalityMotif for Validation 2\n",
      "📈 5 - SeasonalityMotif with avg smape 2.04: \n",
      "Model Number: 6 of 255 with model SeasonalityMotif for Validation 2\n",
      "6 - SeasonalityMotif with avg smape 2.04: \n",
      "Model Number: 7 of 255 with model SeasonalityMotif for Validation 2\n",
      "7 - SeasonalityMotif with avg smape 2.04: \n",
      "Model Number: 8 of 255 with model SeasonalityMotif for Validation 2\n",
      "8 - SeasonalityMotif with avg smape 3.67: \n",
      "Model Number: 9 of 255 with model AverageValueNaive for Validation 2\n",
      "📈 9 - AverageValueNaive with avg smape 1.46: \n",
      "Model Number: 10 of 255 with model AverageValueNaive for Validation 2\n",
      "10 - AverageValueNaive with avg smape 1.46: \n",
      "Model Number: 11 of 255 with model AverageValueNaive for Validation 2\n",
      "11 - AverageValueNaive with avg smape 1.46: \n",
      "Model Number: 12 of 255 with model SeasonalityMotif for Validation 2\n",
      "12 - SeasonalityMotif with avg smape 2.74: \n",
      "Model Number: 13 of 255 with model SeasonalityMotif for Validation 2\n",
      "13 - SeasonalityMotif with avg smape 2.74: \n",
      "Model Number: 14 of 255 with model SeasonalityMotif for Validation 2\n",
      "14 - SeasonalityMotif with avg smape 2.88: \n",
      "Model Number: 15 of 255 with model Cassandra for Validation 2\n",
      "15 - Cassandra with avg smape 2.39: \n",
      "Model Number: 16 of 255 with model Cassandra for Validation 2\n"
     ]
    },
    {
     "name": "stderr",
     "output_type": "stream",
     "text": [
      "C:\\ProgramData\\anaconda3\\envs\\nlp-env\\lib\\site-packages\\numpy\\lib\\function_base.py:2853: RuntimeWarning: invalid value encountered in divide\n",
      "  c /= stddev[:, None]\n",
      "C:\\ProgramData\\anaconda3\\envs\\nlp-env\\lib\\site-packages\\numpy\\lib\\function_base.py:2854: RuntimeWarning: invalid value encountered in divide\n",
      "  c /= stddev[None, :]\n",
      "C:\\ProgramData\\anaconda3\\envs\\nlp-env\\lib\\site-packages\\numpy\\lib\\function_base.py:2853: RuntimeWarning: invalid value encountered in divide\n",
      "  c /= stddev[:, None]\n",
      "C:\\ProgramData\\anaconda3\\envs\\nlp-env\\lib\\site-packages\\numpy\\lib\\function_base.py:2854: RuntimeWarning: invalid value encountered in divide\n",
      "  c /= stddev[None, :]\n"
     ]
    },
    {
     "name": "stdout",
     "output_type": "stream",
     "text": [
      "16 - Cassandra with avg smape 2.39: \n",
      "Model Number: 17 of 255 with model SeasonalityMotif for Validation 2\n",
      "17 - SeasonalityMotif with avg smape 3.83: \n",
      "Model Number: 18 of 255 with model Cassandra for Validation 2\n",
      "18 - Cassandra with avg smape 2.47: \n",
      "Model Number: 19 of 255 with model SeasonalityMotif for Validation 2\n",
      "19 - SeasonalityMotif with avg smape 2.95: \n",
      "Model Number: 20 of 255 with model SeasonalityMotif for Validation 2\n",
      "20 - SeasonalityMotif with avg smape 3.66: \n",
      "Model Number: 21 of 255 with model SeasonalityMotif for Validation 2\n",
      "21 - SeasonalityMotif with avg smape 3.0: \n",
      "Model Number: 22 of 255 with model Cassandra for Validation 2\n"
     ]
    },
    {
     "name": "stderr",
     "output_type": "stream",
     "text": [
      "C:\\ProgramData\\anaconda3\\envs\\nlp-env\\lib\\site-packages\\numpy\\lib\\function_base.py:2853: RuntimeWarning: invalid value encountered in divide\n",
      "  c /= stddev[:, None]\n",
      "C:\\ProgramData\\anaconda3\\envs\\nlp-env\\lib\\site-packages\\numpy\\lib\\function_base.py:2854: RuntimeWarning: invalid value encountered in divide\n",
      "  c /= stddev[None, :]\n"
     ]
    },
    {
     "name": "stdout",
     "output_type": "stream",
     "text": [
      "22 - Cassandra with avg smape 6.15: \n",
      "Model Number: 23 of 255 with model LastValueNaive for Validation 2\n",
      "23 - LastValueNaive with avg smape 1.93: \n",
      "Model Number: 24 of 255 with model LastValueNaive for Validation 2\n",
      "24 - LastValueNaive with avg smape 2.04: \n",
      "Model Number: 25 of 255 with model LastValueNaive for Validation 2\n",
      "25 - LastValueNaive with avg smape 2.04: \n",
      "Model Number: 26 of 255 with model LastValueNaive for Validation 2\n",
      "26 - LastValueNaive with avg smape 2.04: \n",
      "Model Number: 27 of 255 with model LastValueNaive for Validation 2\n",
      "27 - LastValueNaive with avg smape 2.04: \n",
      "Model Number: 28 of 255 with model BasicLinearModel for Validation 2\n",
      "28 - BasicLinearModel with avg smape 2.28: \n",
      "Model Number: 29 of 255 with model BasicLinearModel for Validation 2\n",
      "29 - BasicLinearModel with avg smape 5.87: \n",
      "Model Number: 30 of 255 with model LastValueNaive for Validation 2\n",
      "30 - LastValueNaive with avg smape 1.95: \n",
      "Model Number: 31 of 255 with model ARDL for Validation 2\n",
      "31 - ARDL with avg smape 1.97: \n",
      "Model Number: 32 of 255 with model ARDL for Validation 2\n",
      "32 - ARDL with avg smape 1.97: \n",
      "Model Number: 33 of 255 with model BasicLinearModel for Validation 2\n",
      "33 - BasicLinearModel with avg smape 5.73: \n",
      "Model Number: 34 of 255 with model GLM for Validation 2\n",
      "34 - GLM with avg smape 5.6: \n",
      "Model Number: 35 of 255 with model BasicLinearModel for Validation 2\n",
      "35 - BasicLinearModel with avg smape 5.82: \n",
      "Model Number: 36 of 255 with model GLM for Validation 2\n",
      "36 - GLM with avg smape 5.37: \n",
      "Model Number: 37 of 255 with model ARDL for Validation 2\n",
      "37 - ARDL with avg smape 1.78: \n",
      "Model Number: 38 of 255 with model BasicLinearModel for Validation 2\n"
     ]
    },
    {
     "name": "stderr",
     "output_type": "stream",
     "text": [
      "C:\\ProgramData\\anaconda3\\envs\\nlp-env\\lib\\site-packages\\statsmodels\\genmod\\families\\links.py:198: RuntimeWarning: overflow encountered in exp\n",
      "  t = np.exp(-z)\n",
      "C:\\ProgramData\\anaconda3\\envs\\nlp-env\\lib\\site-packages\\statsmodels\\genmod\\families\\links.py:198: RuntimeWarning: overflow encountered in exp\n",
      "  t = np.exp(-z)\n"
     ]
    },
    {
     "name": "stdout",
     "output_type": "stream",
     "text": [
      "38 - BasicLinearModel with avg smape 6.02: \n",
      "Model Number: 39 of 255 with model BasicLinearModel for Validation 2\n",
      "39 - BasicLinearModel with avg smape 6.02: \n",
      "Model Number: 40 of 255 with model GLM for Validation 2\n",
      "40 - GLM with avg smape 5.37: \n",
      "Model Number: 41 of 255 with model GLM for Validation 2\n",
      "41 - GLM with avg smape 5.37: \n",
      "Model Number: 42 of 255 with model GLM for Validation 2\n",
      "42 - GLM with avg smape 5.37: \n",
      "Model Number: 43 of 255 with model Cassandra for Validation 2\n"
     ]
    },
    {
     "name": "stderr",
     "output_type": "stream",
     "text": [
      "C:\\ProgramData\\anaconda3\\envs\\nlp-env\\lib\\site-packages\\statsmodels\\genmod\\families\\family.py:1650: RuntimeWarning: invalid value encountered in log\n",
      "  endog * np.log(endog / mu) + (mu - endog))\n"
     ]
    },
    {
     "name": "stdout",
     "output_type": "stream",
     "text": [
      "43 - Cassandra with avg smape 4.06: \n",
      "Model Number: 44 of 255 with model LastValueNaive for Validation 2\n"
     ]
    },
    {
     "name": "stderr",
     "output_type": "stream",
     "text": [
      "C:\\ProgramData\\anaconda3\\envs\\nlp-env\\lib\\site-packages\\numpy\\lib\\function_base.py:2853: RuntimeWarning: invalid value encountered in divide\n",
      "  c /= stddev[:, None]\n",
      "C:\\ProgramData\\anaconda3\\envs\\nlp-env\\lib\\site-packages\\numpy\\lib\\function_base.py:2854: RuntimeWarning: invalid value encountered in divide\n",
      "  c /= stddev[None, :]\n"
     ]
    },
    {
     "name": "stdout",
     "output_type": "stream",
     "text": [
      "44 - LastValueNaive with avg smape 2.0: \n",
      "Model Number: 45 of 255 with model DatepartRegression for Validation 2\n",
      "45 - DatepartRegression with avg smape 5.45: \n",
      "Model Number: 46 of 255 with model ARDL for Validation 2\n",
      "46 - ARDL with avg smape 1.54: \n",
      "Model Number: 47 of 255 with model DatepartRegression for Validation 2\n",
      "47 - DatepartRegression with avg smape 5.96: \n",
      "Model Number: 48 of 255 with model LastValueNaive for Validation 2\n",
      "48 - LastValueNaive with avg smape 2.0: \n",
      "Model Number: 49 of 255 with model GLM for Validation 2\n",
      "49 - GLM with avg smape 5.98: \n",
      "Model Number: 50 of 255 with model FFT for Validation 2\n",
      "50 - FFT with avg smape 2.27: \n",
      "Model Number: 51 of 255 with model Cassandra for Validation 2\n",
      "51 - Cassandra with avg smape 2.66: \n",
      "Model Number: 52 of 255 with model LastValueNaive for Validation 2\n",
      "52 - LastValueNaive with avg smape 6.03: \n",
      "Model Number: 53 of 255 with model MetricMotif for Validation 2\n",
      "53 - MetricMotif with avg smape 5.01: \n",
      "Model Number: 54 of 255 with model MetricMotif for Validation 2\n",
      "54 - MetricMotif with avg smape 5.01: \n",
      "Model Number: 55 of 255 with model MetricMotif for Validation 2\n",
      "55 - MetricMotif with avg smape 5.01: \n",
      "Model Number: 56 of 255 with model ARDL for Validation 2\n",
      "56 - ARDL with avg smape 1.61: \n",
      "Model Number: 57 of 255 with model ARDL for Validation 2\n",
      "57 - ARDL with avg smape 1.53: \n",
      "Model Number: 58 of 255 with model LastValueNaive for Validation 2\n",
      "58 - LastValueNaive with avg smape 7.87: \n",
      "Model Number: 59 of 255 with model ARDL for Validation 2\n",
      "59 - ARDL with avg smape 1.91: \n",
      "Model Number: 60 of 255 with model BasicLinearModel for Validation 2\n",
      "60 - BasicLinearModel with avg smape 5.98: \n",
      "Model Number: 61 of 255 with model Cassandra for Validation 2\n",
      "61 - Cassandra with avg smape 3.51: \n",
      "Model Number: 62 of 255 with model UnivariateMotif for Validation 2\n",
      "62 - UnivariateMotif with avg smape 8.94: \n",
      "Model Number: 63 of 255 with model LastValueNaive for Validation 2\n",
      "63 - LastValueNaive with avg smape 6.2: \n",
      "Model Number: 64 of 255 with model LastValueNaive for Validation 2\n",
      "64 - LastValueNaive with avg smape 2.04: \n",
      "Model Number: 65 of 255 with model MetricMotif for Validation 2\n",
      "65 - MetricMotif with avg smape 4.86: \n",
      "Model Number: 66 of 255 with model MetricMotif for Validation 2\n",
      "66 - MetricMotif with avg smape 5.01: \n",
      "Model Number: 67 of 255 with model Cassandra for Validation 2\n",
      "Template Eval Error: ValueError('negative dimensions are not allowed') in model 67 in generation 0: Cassandra\n",
      "Model Number: 68 of 255 with model BasicLinearModel for Validation 2\n"
     ]
    },
    {
     "name": "stderr",
     "output_type": "stream",
     "text": [
      "C:\\ProgramData\\anaconda3\\envs\\nlp-env\\lib\\site-packages\\numpy\\lib\\function_base.py:2853: RuntimeWarning: invalid value encountered in divide\n",
      "  c /= stddev[:, None]\n",
      "C:\\ProgramData\\anaconda3\\envs\\nlp-env\\lib\\site-packages\\numpy\\lib\\function_base.py:2854: RuntimeWarning: invalid value encountered in divide\n",
      "  c /= stddev[None, :]\n"
     ]
    },
    {
     "name": "stdout",
     "output_type": "stream",
     "text": [
      "68 - BasicLinearModel with avg smape 2.0: \n",
      "Model Number: 69 of 255 with model GLM for Validation 2\n",
      "69 - GLM with avg smape 5.9: \n",
      "Model Number: 70 of 255 with model BasicLinearModel for Validation 2\n",
      "📈 70 - BasicLinearModel with avg smape 1.12: \n",
      "Model Number: 71 of 255 with model UnivariateMotif for Validation 2\n",
      "71 - UnivariateMotif with avg smape 8.93: \n",
      "Model Number: 72 of 255 with model UnivariateMotif for Validation 2\n",
      "72 - UnivariateMotif with avg smape 9.11: \n",
      "Model Number: 73 of 255 with model UnivariateMotif for Validation 2\n",
      "73 - UnivariateMotif with avg smape 9.11: \n",
      "Model Number: 74 of 255 with model GLM for Validation 2\n",
      "74 - GLM with avg smape 6.17: \n",
      "Model Number: 75 of 255 with model UnivariateMotif for Validation 2\n",
      "75 - UnivariateMotif with avg smape 9.11: \n",
      "Model Number: 76 of 255 with model UnivariateMotif for Validation 2\n",
      "76 - UnivariateMotif with avg smape 9.11: \n",
      "Model Number: 77 of 255 with model Cassandra for Validation 2\n",
      "Template Eval Error: ValueError('negative dimensions are not allowed') in model 77 in generation 0: Cassandra\n",
      "Model Number: 78 of 255 with model GLM for Validation 2\n",
      "78 - GLM with avg smape 5.8: \n",
      "Model Number: 79 of 255 with model Cassandra for Validation 2\n",
      "Template Eval Error: ValueError('negative dimensions are not allowed') in model 79 in generation 0: Cassandra\n",
      "Model Number: 80 of 255 with model Cassandra for Validation 2\n",
      "80 - Cassandra with avg smape 4.45: \n",
      "Model Number: 81 of 255 with model ARDL for Validation 2\n",
      "81 - ARDL with avg smape 3.14: \n",
      "Model Number: 82 of 255 with model UnivariateMotif for Validation 2\n",
      "82 - UnivariateMotif with avg smape 9.01: \n",
      "Model Number: 83 of 255 with model BasicLinearModel for Validation 2\n",
      "83 - BasicLinearModel with avg smape 5.18: \n",
      "Model Number: 84 of 255 with model SectionalMotif for Validation 2\n",
      "84 - SectionalMotif with avg smape 8.46: \n",
      "Model Number: 85 of 255 with model BasicLinearModel for Validation 2\n",
      "85 - BasicLinearModel with avg smape 2.02: \n",
      "Model Number: 86 of 255 with model UnivariateMotif for Validation 2\n",
      "86 - UnivariateMotif with avg smape 9.17: \n",
      "Model Number: 87 of 255 with model UnivariateMotif for Validation 2\n",
      "87 - UnivariateMotif with avg smape 9.18: \n",
      "Model Number: 88 of 255 with model SectionalMotif for Validation 2\n",
      "88 - SectionalMotif with avg smape 8.38: \n",
      "Model Number: 89 of 255 with model AverageValueNaive for Validation 2\n",
      "89 - AverageValueNaive with avg smape 2.86: \n",
      "Model Number: 90 of 255 with model FFT for Validation 2\n",
      "90 - FFT with avg smape 2.05: \n",
      "Model Number: 91 of 255 with model BasicLinearModel for Validation 2\n",
      "91 - BasicLinearModel with avg smape 3.26: \n",
      "Model Number: 92 of 255 with model LastValueNaive for Validation 2\n",
      "92 - LastValueNaive with avg smape 7.2: \n",
      "Model Number: 93 of 255 with model Cassandra for Validation 2\n",
      "93 - Cassandra with avg smape 5.15: \n",
      "Model Number: 94 of 255 with model UnivariateMotif for Validation 2\n",
      "94 - UnivariateMotif with avg smape 9.09: \n",
      "Model Number: 95 of 255 with model DatepartRegression for Validation 2\n"
     ]
    },
    {
     "name": "stderr",
     "output_type": "stream",
     "text": [
      "C:\\ProgramData\\anaconda3\\envs\\nlp-env\\lib\\site-packages\\numpy\\lib\\function_base.py:2853: RuntimeWarning: invalid value encountered in divide\n",
      "  c /= stddev[:, None]\n",
      "C:\\ProgramData\\anaconda3\\envs\\nlp-env\\lib\\site-packages\\numpy\\lib\\function_base.py:2854: RuntimeWarning: invalid value encountered in divide\n",
      "  c /= stddev[None, :]\n"
     ]
    },
    {
     "name": "stdout",
     "output_type": "stream",
     "text": [
      "Epoch 1/10\n",
      "11/11 [==============================] - 0s 1ms/step - loss: 2.3464\n",
      "Epoch 2/10\n",
      "11/11 [==============================] - 0s 1ms/step - loss: 1.8644\n",
      "Epoch 3/10\n",
      "11/11 [==============================] - 0s 1ms/step - loss: 1.6237\n",
      "Epoch 4/10\n",
      "11/11 [==============================] - 0s 1ms/step - loss: 1.4605\n",
      "Epoch 5/10\n",
      "11/11 [==============================] - 0s 1ms/step - loss: 1.3415\n",
      "Epoch 6/10\n",
      "11/11 [==============================] - 0s 1ms/step - loss: 1.2932\n",
      "Epoch 7/10\n",
      "11/11 [==============================] - 0s 1ms/step - loss: 1.2247\n",
      "Epoch 8/10\n",
      "11/11 [==============================] - 0s 1ms/step - loss: 1.1865\n",
      "Epoch 9/10\n",
      "11/11 [==============================] - 0s 1ms/step - loss: 1.1479\n",
      "Epoch 10/10\n",
      "11/11 [==============================] - 0s 1ms/step - loss: 1.1234\n",
      "1/1 [==============================] - 0s 20ms/step\n",
      "95 - DatepartRegression with avg smape 2.04: \n",
      "Model Number: 96 of 255 with model BasicLinearModel for Validation 2\n",
      "96 - BasicLinearModel with avg smape 4.52: \n",
      "Model Number: 97 of 255 with model LastValueNaive for Validation 2\n",
      "97 - LastValueNaive with avg smape 8.64: \n",
      "Model Number: 98 of 255 with model Cassandra for Validation 2\n",
      "98 - Cassandra with avg smape 6.63: \n",
      "Model Number: 99 of 255 with model UnivariateMotif for Validation 2\n",
      "99 - UnivariateMotif with avg smape 9.18: \n",
      "Model Number: 100 of 255 with model BasicLinearModel for Validation 2\n",
      "100 - BasicLinearModel with avg smape 2.81: \n",
      "Model Number: 101 of 255 with model DatepartRegression for Validation 2\n",
      "101 - DatepartRegression with avg smape 1.79: \n",
      "Model Number: 102 of 255 with model UnivariateMotif for Validation 2\n",
      "102 - UnivariateMotif with avg smape 4.07: \n",
      "Model Number: 103 of 255 with model GLM for Validation 2\n",
      "103 - GLM with avg smape 7.17: \n",
      "Model Number: 104 of 255 with model Cassandra for Validation 2\n"
     ]
    },
    {
     "name": "stderr",
     "output_type": "stream",
     "text": [
      "C:\\ProgramData\\anaconda3\\envs\\nlp-env\\lib\\site-packages\\sklearn\\linear_model\\_coordinate_descent.py:2418: ConvergenceWarning: Objective did not converge. You might want to increase the number of iterations. Duality gap: 99.7510986328125, tolerance: 0.37861037254333496\n",
      "  ) = cd_fast.enet_coordinate_descent_multi_task(\n",
      "C:\\ProgramData\\anaconda3\\envs\\nlp-env\\lib\\site-packages\\statsmodels\\genmod\\families\\links.py:198: RuntimeWarning: overflow encountered in exp\n",
      "  t = np.exp(-z)\n",
      "C:\\ProgramData\\anaconda3\\envs\\nlp-env\\lib\\site-packages\\sklearn\\neighbors\\_classification.py:215: DataConversionWarning: A column-vector y was passed when a 1d array was expected. Please change the shape of y to (n_samples,), for example using ravel().\n",
      "  return self._fit(X, y)\n"
     ]
    },
    {
     "name": "stdout",
     "output_type": "stream",
     "text": [
      "104 - Cassandra with avg smape 5.73: \n",
      "Model Number: 105 of 255 with model BasicLinearModel for Validation 2\n",
      "105 - BasicLinearModel with avg smape 7.46: \n",
      "Model Number: 106 of 255 with model FFT for Validation 2\n",
      "106 - FFT with avg smape 3.01: \n",
      "Model Number: 107 of 255 with model UnivariateMotif for Validation 2\n",
      "107 - UnivariateMotif with avg smape 9.09: \n",
      "Model Number: 108 of 255 with model SectionalMotif for Validation 2\n",
      "108 - SectionalMotif with avg smape 3.32: \n",
      "Model Number: 109 of 255 with model SectionalMotif for Validation 2\n",
      "109 - SectionalMotif with avg smape 2.31: \n",
      "Model Number: 110 of 255 with model MetricMotif for Validation 2\n",
      "Template Eval Error: IndexError('index 153 is out of bounds for axis 0 with size 85') in model 110 in generation 0: MetricMotif\n",
      "Model Number: 111 of 255 with model AverageValueNaive for Validation 2\n",
      "111 - AverageValueNaive with avg smape 2.72: \n",
      "Model Number: 112 of 255 with model UnivariateMotif for Validation 2\n",
      "112 - UnivariateMotif with avg smape 9.24: \n",
      "Model Number: 113 of 255 with model UnivariateMotif for Validation 2\n",
      "113 - UnivariateMotif with avg smape 8.62: \n",
      "Model Number: 114 of 255 with model ARDL for Validation 2\n",
      "114 - ARDL with avg smape 2.14: \n",
      "Model Number: 115 of 255 with model ARDL for Validation 2\n",
      "115 - ARDL with avg smape 1.45: \n",
      "Model Number: 116 of 255 with model LastValueNaive for Validation 2\n",
      "116 - LastValueNaive with avg smape 6.47: \n",
      "Model Number: 117 of 255 with model MetricMotif for Validation 2\n",
      "Template Eval Error: IndexError('index 158 is out of bounds for axis 0 with size 100') in model 117 in generation 0: MetricMotif\n",
      "Model Number: 118 of 255 with model Cassandra for Validation 2\n",
      "Template Eval Error: ValueError('negative dimensions are not allowed') in model 118 in generation 0: Cassandra\n",
      "Model Number: 119 of 255 with model AverageValueNaive for Validation 2\n",
      "119 - AverageValueNaive with avg smape 2.78: \n",
      "Model Number: 120 of 255 with model AverageValueNaive for Validation 2\n",
      "120 - AverageValueNaive with avg smape 8.88: \n",
      "Model Number: 121 of 255 with model DatepartRegression for Validation 2\n",
      "121 - DatepartRegression with avg smape 1.42: \n",
      "Model Number: 122 of 255 with model FFT for Validation 2\n"
     ]
    },
    {
     "name": "stderr",
     "output_type": "stream",
     "text": [
      "C:\\ProgramData\\anaconda3\\envs\\nlp-env\\lib\\site-packages\\numpy\\lib\\function_base.py:2853: RuntimeWarning: invalid value encountered in divide\n",
      "  c /= stddev[:, None]\n",
      "C:\\ProgramData\\anaconda3\\envs\\nlp-env\\lib\\site-packages\\numpy\\lib\\function_base.py:2854: RuntimeWarning: invalid value encountered in divide\n",
      "  c /= stddev[None, :]\n"
     ]
    },
    {
     "name": "stdout",
     "output_type": "stream",
     "text": [
      "122 - FFT with avg smape 6.66: \n",
      "Model Number: 123 of 255 with model SectionalMotif for Validation 2\n",
      "123 - SectionalMotif with avg smape 7.82: \n",
      "Model Number: 124 of 255 with model AverageValueNaive for Validation 2\n",
      "124 - AverageValueNaive with avg smape 2.96: \n",
      "Model Number: 125 of 255 with model SectionalMotif for Validation 2\n",
      "125 - SectionalMotif with avg smape 9.27: \n",
      "Model Number: 126 of 255 with model AverageValueNaive for Validation 2\n",
      "126 - AverageValueNaive with avg smape 9.23: \n",
      "Model Number: 127 of 255 with model GLM for Validation 2\n",
      "127 - GLM with avg smape 2.89: \n",
      "Model Number: 128 of 255 with model SectionalMotif for Validation 2\n",
      "128 - SectionalMotif with avg smape 2.79: \n",
      "Model Number: 129 of 255 with model SectionalMotif for Validation 2\n",
      "129 - SectionalMotif with avg smape 2.79: \n",
      "Model Number: 130 of 255 with model AverageValueNaive for Validation 2\n",
      "130 - AverageValueNaive with avg smape 7.28: \n",
      "Model Number: 131 of 255 with model AverageValueNaive for Validation 2\n",
      "131 - AverageValueNaive with avg smape 7.28: \n",
      "Model Number: 132 of 255 with model AverageValueNaive for Validation 2\n"
     ]
    },
    {
     "name": "stderr",
     "output_type": "stream",
     "text": [
      "C:\\ProgramData\\anaconda3\\envs\\nlp-env\\lib\\site-packages\\sklearn\\neighbors\\_classification.py:215: DataConversionWarning: A column-vector y was passed when a 1d array was expected. Please change the shape of y to (n_samples,), for example using ravel().\n",
      "  return self._fit(X, y)\n"
     ]
    },
    {
     "name": "stdout",
     "output_type": "stream",
     "text": [
      "132 - AverageValueNaive with avg smape 7.28: \n",
      "Model Number: 133 of 255 with model ARDL for Validation 2\n",
      "133 - ARDL with avg smape 8.34: \n",
      "Model Number: 134 of 255 with model GLM for Validation 2\n",
      "134 - GLM with avg smape 3.4: \n",
      "Model Number: 135 of 255 with model SectionalMotif for Validation 2\n",
      "135 - SectionalMotif with avg smape 3.95: \n",
      "Model Number: 136 of 255 with model DatepartRegression for Validation 2\n",
      "136 - DatepartRegression with avg smape 2.72: \n",
      "Model Number: 137 of 255 with model AverageValueNaive for Validation 2\n",
      "137 - AverageValueNaive with avg smape 7.0: \n",
      "Model Number: 138 of 255 with model SectionalMotif for Validation 2\n",
      "138 - SectionalMotif with avg smape 9.31: \n",
      "Model Number: 139 of 255 with model FFT for Validation 2\n",
      "139 - FFT with avg smape 6.15: \n",
      "Model Number: 140 of 255 with model SectionalMotif for Validation 2\n",
      "140 - SectionalMotif with avg smape 4.44: \n",
      "Model Number: 141 of 255 with model DatepartRegression for Validation 2\n",
      "141 - DatepartRegression with avg smape 3.68: \n",
      "Model Number: 142 of 255 with model SectionalMotif for Validation 2\n",
      "142 - SectionalMotif with avg smape 16.11: \n",
      "Model Number: 143 of 255 with model SectionalMotif for Validation 2\n",
      "143 - SectionalMotif with avg smape 8.58: \n",
      "Model Number: 144 of 255 with model AverageValueNaive for Validation 2\n",
      "144 - AverageValueNaive with avg smape 7.06: \n",
      "Model Number: 145 of 255 with model AverageValueNaive for Validation 2\n",
      "145 - AverageValueNaive with avg smape 7.05: \n",
      "Model Number: 146 of 255 with model SectionalMotif for Validation 2\n",
      "146 - SectionalMotif with avg smape 7.16: \n",
      "Model Number: 147 of 255 with model ARDL for Validation 2\n",
      "147 - ARDL with avg smape 8.83: \n",
      "Model Number: 148 of 255 with model SectionalMotif for Validation 2\n",
      "148 - SectionalMotif with avg smape 8.37: \n",
      "Model Number: 149 of 255 with model GLM for Validation 2\n"
     ]
    },
    {
     "name": "stderr",
     "output_type": "stream",
     "text": [
      "C:\\ProgramData\\anaconda3\\envs\\nlp-env\\lib\\site-packages\\sklearn\\neural_network\\_multilayer_perceptron.py:541: ConvergenceWarning: lbfgs failed to converge (status=1):\n",
      "STOP: TOTAL NO. of ITERATIONS REACHED LIMIT.\n",
      "\n",
      "Increase the number of iterations (max_iter) or scale the data as shown in:\n",
      "    https://scikit-learn.org/stable/modules/preprocessing.html\n",
      "  self.n_iter_ = _check_optimize_result(\"lbfgs\", opt_res, self.max_iter)\n",
      "C:\\ProgramData\\anaconda3\\envs\\nlp-env\\lib\\site-packages\\statsmodels\\genmod\\families\\links.py:198: RuntimeWarning: overflow encountered in exp\n",
      "  t = np.exp(-z)\n"
     ]
    },
    {
     "name": "stdout",
     "output_type": "stream",
     "text": [
      "149 - GLM with avg smape 5.39: \n",
      "Model Number: 150 of 255 with model MetricMotif for Validation 2\n",
      "150 - MetricMotif with avg smape 10.84: \n",
      "Model Number: 151 of 255 with model GLM for Validation 2\n",
      "151 - GLM with avg smape 7.2: \n",
      "Model Number: 152 of 255 with model ARDL for Validation 2\n",
      "152 - ARDL with avg smape 1.35: \n",
      "Model Number: 153 of 255 with model MetricMotif for Validation 2\n",
      "153 - MetricMotif with avg smape 8.65: \n",
      "Model Number: 154 of 255 with model GLM for Validation 2\n",
      "Template Eval Error: ValueError('NaN, inf or invalid value detected in weights, estimation infeasible.') in model 154 in generation 0: GLM\n",
      "Model Number: 155 of 255 with model GLS for Validation 2\n",
      "155 - GLS with avg smape 3.93: \n",
      "Model Number: 156 of 255 with model MetricMotif for Validation 2\n",
      "156 - MetricMotif with avg smape 7.28: \n",
      "Model Number: 157 of 255 with model MetricMotif for Validation 2\n",
      "157 - MetricMotif with avg smape 7.28: \n",
      "Model Number: 158 of 255 with model MetricMotif for Validation 2\n",
      "158 - MetricMotif with avg smape 7.71: \n",
      "Model Number: 159 of 255 with model MetricMotif for Validation 2\n",
      "159 - MetricMotif with avg smape 7.71: \n",
      "Model Number: 160 of 255 with model MetricMotif for Validation 2\n",
      "160 - MetricMotif with avg smape 7.71: \n",
      "Model Number: 161 of 255 with model MetricMotif for Validation 2\n",
      "161 - MetricMotif with avg smape 7.71: \n",
      "Model Number: 162 of 255 with model FFT for Validation 2\n",
      "162 - FFT with avg smape 1.88: \n",
      "Model Number: 163 of 255 with model FFT for Validation 2\n",
      "163 - FFT with avg smape 1.88: \n",
      "Model Number: 164 of 255 with model FFT for Validation 2\n",
      "164 - FFT with avg smape 6.28: \n",
      "Model Number: 165 of 255 with model FFT for Validation 2\n",
      "165 - FFT with avg smape 1.88: \n",
      "Model Number: 166 of 255 with model FFT for Validation 2\n"
     ]
    },
    {
     "name": "stderr",
     "output_type": "stream",
     "text": [
      "C:\\ProgramData\\anaconda3\\envs\\nlp-env\\lib\\site-packages\\statsmodels\\genmod\\families\\family.py:445: RuntimeWarning: divide by zero encountered in divide\n",
      "  endog_mu = self._clean(endog / mu)\n",
      "C:\\ProgramData\\anaconda3\\envs\\nlp-env\\lib\\site-packages\\statsmodels\\genmod\\families\\family.py:143: RuntimeWarning: divide by zero encountered in divide\n",
      "  return 1. / (self.link.deriv(mu)**2 * self.variance(mu))\n"
     ]
    },
    {
     "name": "stdout",
     "output_type": "stream",
     "text": [
      "166 - FFT with avg smape 3.15: \n",
      "Model Number: 167 of 255 with model GLS for Validation 2\n",
      "167 - GLS with avg smape 6.11: \n",
      "Model Number: 168 of 255 with model FFT for Validation 2\n",
      "168 - FFT with avg smape 2.68: \n",
      "Model Number: 169 of 255 with model ARDL for Validation 2\n",
      "169 - ARDL with avg smape 1.62: \n",
      "Model Number: 170 of 255 with model DatepartRegression for Validation 2\n",
      "170 - DatepartRegression with avg smape 1.75: \n",
      "Model Number: 171 of 255 with model ARDL for Validation 2\n",
      "171 - ARDL with avg smape 5.24: \n",
      "Model Number: 172 of 255 with model FFT for Validation 2\n",
      "172 - FFT with avg smape 7.21: \n",
      "Model Number: 173 of 255 with model FFT for Validation 2\n",
      "173 - FFT with avg smape 2.9: \n",
      "Model Number: 174 of 255 with model FFT for Validation 2\n",
      "174 - FFT with avg smape 5.65: \n",
      "Model Number: 175 of 255 with model DatepartRegression for Validation 2\n",
      "175 - DatepartRegression with avg smape 1.72: \n",
      "Model Number: 176 of 255 with model FFT for Validation 2\n",
      "176 - FFT with avg smape 5.01: \n",
      "Model Number: 177 of 255 with model SeasonalNaive for Validation 2\n",
      "177 - SeasonalNaive with avg smape 9.45: \n",
      "Model Number: 178 of 255 with model DatepartRegression for Validation 2\n",
      "178 - DatepartRegression with avg smape 6.59: \n",
      "Model Number: 179 of 255 with model ConstantNaive for Validation 2\n",
      "179 - ConstantNaive with avg smape 2.41: \n",
      "Model Number: 180 of 255 with model DatepartRegression for Validation 2\n",
      "180 - DatepartRegression with avg smape 2.72: \n",
      "Model Number: 181 of 255 with model DatepartRegression for Validation 2\n",
      "181 - DatepartRegression with avg smape 7.4: \n",
      "Model Number: 182 of 255 with model DatepartRegression for Validation 2\n",
      "182 - DatepartRegression with avg smape 2.35: \n",
      "Model Number: 183 of 255 with model SeasonalNaive for Validation 2\n",
      "183 - SeasonalNaive with avg smape 2.16: \n",
      "Model Number: 184 of 255 with model SeasonalNaive for Validation 2\n",
      "184 - SeasonalNaive with avg smape 5.37: \n",
      "Model Number: 185 of 255 with model ETS for Validation 2\n",
      "📈 185 - ETS with avg smape 1.08: \n",
      "Model Number: 186 of 255 with model DatepartRegression for Validation 2\n",
      "186 - DatepartRegression with avg smape 4.31: \n",
      "Model Number: 187 of 255 with model DatepartRegression for Validation 2\n",
      "187 - DatepartRegression with avg smape 2.06: \n",
      "Model Number: 188 of 255 with model SeasonalNaive for Validation 2\n",
      "188 - SeasonalNaive with avg smape 6.17: \n",
      "Model Number: 189 of 255 with model SeasonalNaive for Validation 2\n",
      "189 - SeasonalNaive with avg smape 3.7: \n",
      "Model Number: 190 of 255 with model ETS for Validation 2\n",
      "190 - ETS with avg smape 3.81: \n",
      "Model Number: 191 of 255 with model ETS for Validation 2\n",
      "191 - ETS with avg smape 4.76: \n",
      "Model Number: 192 of 255 with model ETS for Validation 2\n",
      "192 - ETS with avg smape 5.13: \n",
      "Model Number: 193 of 255 with model ETS for Validation 2\n",
      "193 - ETS with avg smape 1.95: \n",
      "Model Number: 194 of 255 with model SeasonalNaive for Validation 2\n",
      "194 - SeasonalNaive with avg smape 3.32: \n",
      "Model Number: 195 of 255 with model SeasonalNaive for Validation 2\n",
      "195 - SeasonalNaive with avg smape 6.71: \n",
      "Model Number: 196 of 255 with model SeasonalNaive for Validation 2\n",
      "196 - SeasonalNaive with avg smape 7.34: \n",
      "Model Number: 197 of 255 with model SeasonalNaive for Validation 2\n",
      "197 - SeasonalNaive with avg smape 6.4: \n",
      "Model Number: 198 of 255 with model ETS for Validation 2\n",
      "198 - ETS with avg smape 1.09: \n",
      "Model Number: 199 of 255 with model SeasonalNaive for Validation 2\n",
      "199 - SeasonalNaive with avg smape 3.65: \n",
      "Model Number: 200 of 255 with model GLS for Validation 2\n",
      "200 - GLS with avg smape 6.32: \n",
      "Model Number: 201 of 255 with model ETS for Validation 2\n",
      "201 - ETS with avg smape 6.34: \n",
      "Model Number: 202 of 255 with model ETS for Validation 2\n",
      "202 - ETS with avg smape 4.76: \n",
      "Model Number: 203 of 255 with model ETS for Validation 2\n",
      "203 - ETS with avg smape 4.76: \n",
      "Model Number: 204 of 255 with model ETS for Validation 2\n",
      "204 - ETS with avg smape 4.76: \n",
      "Model Number: 205 of 255 with model ETS for Validation 2\n",
      "205 - ETS with avg smape 2.41: \n",
      "Model Number: 206 of 255 with model ETS for Validation 2\n",
      "206 - ETS with avg smape 1.22: \n",
      "Model Number: 207 of 255 with model ETS for Validation 2\n",
      "207 - ETS with avg smape 3.24: \n",
      "Model Number: 208 of 255 with model ETS for Validation 2\n",
      "208 - ETS with avg smape 3.17: \n",
      "Model Number: 209 of 255 with model ETS for Validation 2\n",
      "209 - ETS with avg smape 3.17: \n",
      "Model Number: 210 of 255 with model ConstantNaive for Validation 2\n",
      "210 - ConstantNaive with avg smape 9.42: \n",
      "Model Number: 211 of 255 with model ConstantNaive for Validation 2\n",
      "211 - ConstantNaive with avg smape 9.31: \n",
      "Model Number: 212 of 255 with model SeasonalNaive for Validation 2\n",
      "212 - SeasonalNaive with avg smape 6.09: \n",
      "Model Number: 213 of 255 with model ConstantNaive for Validation 2\n",
      "213 - ConstantNaive with avg smape 1.08: \n",
      "Model Number: 214 of 255 with model ConstantNaive for Validation 2\n",
      "214 - ConstantNaive with avg smape 1.08: \n",
      "Model Number: 215 of 255 with model ConstantNaive for Validation 2\n",
      "215 - ConstantNaive with avg smape 1.08: \n",
      "Model Number: 216 of 255 with model ConstantNaive for Validation 2\n",
      "216 - ConstantNaive with avg smape 1.08: \n",
      "Model Number: 217 of 255 with model SeasonalNaive for Validation 2\n",
      "217 - SeasonalNaive with avg smape 1.86: \n",
      "Model Number: 218 of 255 with model ConstantNaive for Validation 2\n",
      "218 - ConstantNaive with avg smape 2.21: \n",
      "Model Number: 219 of 255 with model SeasonalNaive for Validation 2\n",
      "219 - SeasonalNaive with avg smape 7.0: \n",
      "Model Number: 220 of 255 with model GLS for Validation 2\n",
      "220 - GLS with avg smape 4.29: \n",
      "Model Number: 221 of 255 with model GLS for Validation 2\n"
     ]
    },
    {
     "name": "stderr",
     "output_type": "stream",
     "text": [
      "C:\\ProgramData\\anaconda3\\envs\\nlp-env\\lib\\site-packages\\sklearn\\neighbors\\_classification.py:215: DataConversionWarning: A column-vector y was passed when a 1d array was expected. Please change the shape of y to (n_samples,), for example using ravel().\n",
      "  return self._fit(X, y)\n"
     ]
    },
    {
     "name": "stdout",
     "output_type": "stream",
     "text": [
      "221 - GLS with avg smape 4.29: \n",
      "Model Number: 222 of 255 with model SeasonalNaive for Validation 2\n",
      "222 - SeasonalNaive with avg smape 5.68: \n",
      "Model Number: 223 of 255 with model SeasonalNaive for Validation 2\n",
      "223 - SeasonalNaive with avg smape 6.3: \n",
      "Model Number: 224 of 255 with model WindowRegression for Validation 2\n",
      "224 - WindowRegression with avg smape 5.73: \n",
      "Model Number: 225 of 255 with model ConstantNaive for Validation 2\n",
      "225 - ConstantNaive with avg smape 9.42: \n",
      "Model Number: 226 of 255 with model GLS for Validation 2\n",
      "226 - GLS with avg smape 4.29: \n",
      "Model Number: 227 of 255 with model GLS for Validation 2\n",
      "227 - GLS with avg smape 4.29: \n",
      "Model Number: 228 of 255 with model GLS for Validation 2\n",
      "228 - GLS with avg smape 4.29: \n",
      "Model Number: 229 of 255 with model GLS for Validation 2\n",
      "229 - GLS with avg smape 5.42: \n",
      "Model Number: 230 of 255 with model WindowRegression for Validation 2\n"
     ]
    },
    {
     "name": "stderr",
     "output_type": "stream",
     "text": [
      "C:\\ProgramData\\anaconda3\\envs\\nlp-env\\lib\\site-packages\\sklearn\\base.py:432: UserWarning: X has feature names, but StandardScaler was fitted without feature names\n",
      "  warnings.warn(\n",
      "C:\\ProgramData\\anaconda3\\envs\\nlp-env\\lib\\site-packages\\sklearn\\base.py:432: UserWarning: X has feature names, but StandardScaler was fitted without feature names\n",
      "  warnings.warn(\n",
      "C:\\ProgramData\\anaconda3\\envs\\nlp-env\\lib\\site-packages\\sklearn\\base.py:432: UserWarning: X has feature names, but StandardScaler was fitted without feature names\n",
      "  warnings.warn(\n",
      "C:\\ProgramData\\anaconda3\\envs\\nlp-env\\lib\\site-packages\\sklearn\\base.py:432: UserWarning: X has feature names, but StandardScaler was fitted without feature names\n",
      "  warnings.warn(\n",
      "C:\\ProgramData\\anaconda3\\envs\\nlp-env\\lib\\site-packages\\sklearn\\base.py:432: UserWarning: X has feature names, but StandardScaler was fitted without feature names\n",
      "  warnings.warn(\n",
      "C:\\ProgramData\\anaconda3\\envs\\nlp-env\\lib\\site-packages\\sklearn\\base.py:432: UserWarning: X has feature names, but StandardScaler was fitted without feature names\n",
      "  warnings.warn(\n",
      "C:\\ProgramData\\anaconda3\\envs\\nlp-env\\lib\\site-packages\\sklearn\\base.py:432: UserWarning: X has feature names, but StandardScaler was fitted without feature names\n",
      "  warnings.warn(\n",
      "C:\\ProgramData\\anaconda3\\envs\\nlp-env\\lib\\site-packages\\sklearn\\base.py:432: UserWarning: X has feature names, but StandardScaler was fitted without feature names\n",
      "  warnings.warn(\n",
      "C:\\ProgramData\\anaconda3\\envs\\nlp-env\\lib\\site-packages\\sklearn\\base.py:432: UserWarning: X has feature names, but StandardScaler was fitted without feature names\n",
      "  warnings.warn(\n",
      "C:\\ProgramData\\anaconda3\\envs\\nlp-env\\lib\\site-packages\\sklearn\\base.py:432: UserWarning: X has feature names, but StandardScaler was fitted without feature names\n",
      "  warnings.warn(\n"
     ]
    },
    {
     "name": "stdout",
     "output_type": "stream",
     "text": [
      "230 - WindowRegression with avg smape 8.66: \n",
      "Model Number: 231 of 255 with model GLS for Validation 2\n",
      "231 - GLS with avg smape 1.08: \n",
      "Model Number: 232 of 255 with model GLS for Validation 2\n",
      "232 - GLS with avg smape 6.57: \n",
      "Model Number: 233 of 255 with model ConstantNaive for Validation 2\n",
      "233 - ConstantNaive with avg smape 1.41: \n",
      "Model Number: 234 of 255 with model ConstantNaive for Validation 2\n"
     ]
    },
    {
     "name": "stderr",
     "output_type": "stream",
     "text": [
      "C:\\ProgramData\\anaconda3\\envs\\nlp-env\\lib\\site-packages\\sklearn\\neural_network\\_multilayer_perceptron.py:541: ConvergenceWarning: lbfgs failed to converge (status=1):\n",
      "STOP: TOTAL NO. of ITERATIONS REACHED LIMIT.\n",
      "\n",
      "Increase the number of iterations (max_iter) or scale the data as shown in:\n",
      "    https://scikit-learn.org/stable/modules/preprocessing.html\n",
      "  self.n_iter_ = _check_optimize_result(\"lbfgs\", opt_res, self.max_iter)\n"
     ]
    },
    {
     "name": "stdout",
     "output_type": "stream",
     "text": [
      "234 - ConstantNaive with avg smape 1.12: \n",
      "Model Number: 235 of 255 with model WindowRegression for Validation 2\n",
      "235 - WindowRegression with avg smape 9.55: \n",
      "Model Number: 236 of 255 with model ConstantNaive for Validation 2\n",
      "236 - ConstantNaive with avg smape 1.28: \n",
      "Model Number: 237 of 255 with model WindowRegression for Validation 2\n",
      "237 - WindowRegression with avg smape 55.32: \n",
      "Model Number: 238 of 255 with model RRVAR for Validation 2\n",
      "238 - RRVAR with avg smape 1.09: \n",
      "Model Number: 239 of 255 with model GLS for Validation 2\n",
      "239 - GLS with avg smape 2.88: \n",
      "Model Number: 240 of 255 with model GLS for Validation 2\n",
      "240 - GLS with avg smape 2.88: \n",
      "Model Number: 241 of 255 with model GLS for Validation 2\n",
      "241 - GLS with avg smape 12.02: \n",
      "Model Number: 242 of 255 with model WindowRegression for Validation 2\n",
      "242 - WindowRegression with avg smape 3.92: \n",
      "Model Number: 243 of 255 with model GLS for Validation 2\n"
     ]
    },
    {
     "name": "stderr",
     "output_type": "stream",
     "text": [
      "C:\\ProgramData\\anaconda3\\envs\\nlp-env\\lib\\site-packages\\sklearn\\neural_network\\_multilayer_perceptron.py:541: ConvergenceWarning: lbfgs failed to converge (status=1):\n",
      "STOP: TOTAL NO. of ITERATIONS REACHED LIMIT.\n",
      "\n",
      "Increase the number of iterations (max_iter) or scale the data as shown in:\n",
      "    https://scikit-learn.org/stable/modules/preprocessing.html\n",
      "  self.n_iter_ = _check_optimize_result(\"lbfgs\", opt_res, self.max_iter)\n",
      "C:\\ProgramData\\anaconda3\\envs\\nlp-env\\lib\\site-packages\\sklearn\\base.py:432: UserWarning: X has feature names, but StandardScaler was fitted without feature names\n",
      "  warnings.warn(\n",
      "C:\\ProgramData\\anaconda3\\envs\\nlp-env\\lib\\site-packages\\sklearn\\base.py:432: UserWarning: X has feature names, but StandardScaler was fitted without feature names\n",
      "  warnings.warn(\n",
      "C:\\ProgramData\\anaconda3\\envs\\nlp-env\\lib\\site-packages\\sklearn\\base.py:432: UserWarning: X has feature names, but StandardScaler was fitted without feature names\n",
      "  warnings.warn(\n",
      "C:\\ProgramData\\anaconda3\\envs\\nlp-env\\lib\\site-packages\\sklearn\\base.py:432: UserWarning: X has feature names, but StandardScaler was fitted without feature names\n",
      "  warnings.warn(\n",
      "C:\\ProgramData\\anaconda3\\envs\\nlp-env\\lib\\site-packages\\sklearn\\base.py:432: UserWarning: X has feature names, but StandardScaler was fitted without feature names\n",
      "  warnings.warn(\n",
      "C:\\ProgramData\\anaconda3\\envs\\nlp-env\\lib\\site-packages\\sklearn\\base.py:432: UserWarning: X has feature names, but StandardScaler was fitted without feature names\n",
      "  warnings.warn(\n",
      "C:\\ProgramData\\anaconda3\\envs\\nlp-env\\lib\\site-packages\\sklearn\\base.py:432: UserWarning: X has feature names, but StandardScaler was fitted without feature names\n",
      "  warnings.warn(\n",
      "C:\\ProgramData\\anaconda3\\envs\\nlp-env\\lib\\site-packages\\sklearn\\base.py:432: UserWarning: X has feature names, but StandardScaler was fitted without feature names\n",
      "  warnings.warn(\n",
      "C:\\ProgramData\\anaconda3\\envs\\nlp-env\\lib\\site-packages\\sklearn\\base.py:432: UserWarning: X has feature names, but StandardScaler was fitted without feature names\n",
      "  warnings.warn(\n",
      "C:\\ProgramData\\anaconda3\\envs\\nlp-env\\lib\\site-packages\\sklearn\\base.py:432: UserWarning: X has feature names, but StandardScaler was fitted without feature names\n",
      "  warnings.warn(\n",
      "C:\\ProgramData\\anaconda3\\envs\\nlp-env\\lib\\site-packages\\sklearn\\base.py:432: UserWarning: X has feature names, but StandardScaler was fitted without feature names\n",
      "  warnings.warn(\n",
      "C:\\ProgramData\\anaconda3\\envs\\nlp-env\\lib\\site-packages\\sklearn\\base.py:432: UserWarning: X has feature names, but StandardScaler was fitted without feature names\n",
      "  warnings.warn(\n",
      "C:\\ProgramData\\anaconda3\\envs\\nlp-env\\lib\\site-packages\\sklearn\\base.py:432: UserWarning: X has feature names, but StandardScaler was fitted without feature names\n",
      "  warnings.warn(\n",
      "C:\\ProgramData\\anaconda3\\envs\\nlp-env\\lib\\site-packages\\sklearn\\base.py:432: UserWarning: X has feature names, but StandardScaler was fitted without feature names\n",
      "  warnings.warn(\n",
      "C:\\ProgramData\\anaconda3\\envs\\nlp-env\\lib\\site-packages\\sklearn\\base.py:432: UserWarning: X has feature names, but StandardScaler was fitted without feature names\n",
      "  warnings.warn(\n",
      "C:\\ProgramData\\anaconda3\\envs\\nlp-env\\lib\\site-packages\\sklearn\\base.py:432: UserWarning: X has feature names, but StandardScaler was fitted without feature names\n",
      "  warnings.warn(\n",
      "C:\\ProgramData\\anaconda3\\envs\\nlp-env\\lib\\site-packages\\sklearn\\base.py:432: UserWarning: X has feature names, but StandardScaler was fitted without feature names\n",
      "  warnings.warn(\n",
      "C:\\ProgramData\\anaconda3\\envs\\nlp-env\\lib\\site-packages\\sklearn\\base.py:432: UserWarning: X has feature names, but StandardScaler was fitted without feature names\n",
      "  warnings.warn(\n",
      "C:\\ProgramData\\anaconda3\\envs\\nlp-env\\lib\\site-packages\\sklearn\\base.py:432: UserWarning: X has feature names, but StandardScaler was fitted without feature names\n",
      "  warnings.warn(\n",
      "C:\\ProgramData\\anaconda3\\envs\\nlp-env\\lib\\site-packages\\sklearn\\base.py:432: UserWarning: X has feature names, but StandardScaler was fitted without feature names\n",
      "  warnings.warn(\n"
     ]
    },
    {
     "name": "stdout",
     "output_type": "stream",
     "text": [
      "243 - GLS with avg smape 8.2: \n",
      "Model Number: 244 of 255 with model ConstantNaive for Validation 2\n",
      "244 - ConstantNaive with avg smape 2.03: \n",
      "Model Number: 245 of 255 with model ConstantNaive for Validation 2\n",
      "245 - ConstantNaive with avg smape 1.64: \n",
      "Model Number: 246 of 255 with model WindowRegression for Validation 2\n",
      "246 - WindowRegression with avg smape 10.34: \n",
      "Model Number: 247 of 255 with model WindowRegression for Validation 2\n",
      "Template Eval Error: ValueError('`min_samples` may not be larger than number of samples: n_samples = 71.') in model 247 in generation 0: WindowRegression\n",
      "Model Number: 248 of 255 with model ConstantNaive for Validation 2\n"
     ]
    },
    {
     "name": "stderr",
     "output_type": "stream",
     "text": [
      "C:\\ProgramData\\anaconda3\\envs\\nlp-env\\lib\\site-packages\\sklearn\\neural_network\\_multilayer_perceptron.py:541: ConvergenceWarning: lbfgs failed to converge (status=1):\n",
      "STOP: TOTAL NO. of ITERATIONS REACHED LIMIT.\n",
      "\n",
      "Increase the number of iterations (max_iter) or scale the data as shown in:\n",
      "    https://scikit-learn.org/stable/modules/preprocessing.html\n",
      "  self.n_iter_ = _check_optimize_result(\"lbfgs\", opt_res, self.max_iter)\n"
     ]
    },
    {
     "name": "stdout",
     "output_type": "stream",
     "text": [
      "248 - ConstantNaive with avg smape 1.19: \n",
      "Model Number: 249 of 255 with model WindowRegression for Validation 2\n",
      "249 - WindowRegression with avg smape 9.83: \n",
      "Model Number: 250 of 255 with model WindowRegression for Validation 2\n",
      "250 - WindowRegression with avg smape 17.7: \n",
      "Model Number: 251 of 255 with model WindowRegression for Validation 2\n"
     ]
    },
    {
     "name": "stderr",
     "output_type": "stream",
     "text": [
      "C:\\ProgramData\\anaconda3\\envs\\nlp-env\\lib\\site-packages\\sklearn\\linear_model\\_ridge.py:216: LinAlgWarning: Ill-conditioned matrix (rcond=2.21736e-08): result may not be accurate.\n",
      "  return linalg.solve(A, Xy, assume_a=\"pos\", overwrite_a=True).T\n",
      "C:\\ProgramData\\anaconda3\\envs\\nlp-env\\lib\\site-packages\\sklearn\\base.py:432: UserWarning: X has feature names, but StandardScaler was fitted without feature names\n",
      "  warnings.warn(\n",
      "C:\\ProgramData\\anaconda3\\envs\\nlp-env\\lib\\site-packages\\sklearn\\base.py:432: UserWarning: X has feature names, but StandardScaler was fitted without feature names\n",
      "  warnings.warn(\n",
      "C:\\ProgramData\\anaconda3\\envs\\nlp-env\\lib\\site-packages\\sklearn\\base.py:432: UserWarning: X has feature names, but StandardScaler was fitted without feature names\n",
      "  warnings.warn(\n",
      "C:\\ProgramData\\anaconda3\\envs\\nlp-env\\lib\\site-packages\\sklearn\\base.py:432: UserWarning: X has feature names, but StandardScaler was fitted without feature names\n",
      "  warnings.warn(\n",
      "C:\\ProgramData\\anaconda3\\envs\\nlp-env\\lib\\site-packages\\sklearn\\base.py:432: UserWarning: X has feature names, but StandardScaler was fitted without feature names\n",
      "  warnings.warn(\n",
      "C:\\ProgramData\\anaconda3\\envs\\nlp-env\\lib\\site-packages\\sklearn\\base.py:432: UserWarning: X has feature names, but StandardScaler was fitted without feature names\n",
      "  warnings.warn(\n",
      "C:\\ProgramData\\anaconda3\\envs\\nlp-env\\lib\\site-packages\\sklearn\\base.py:432: UserWarning: X has feature names, but StandardScaler was fitted without feature names\n",
      "  warnings.warn(\n",
      "C:\\ProgramData\\anaconda3\\envs\\nlp-env\\lib\\site-packages\\sklearn\\base.py:432: UserWarning: X has feature names, but StandardScaler was fitted without feature names\n",
      "  warnings.warn(\n",
      "C:\\ProgramData\\anaconda3\\envs\\nlp-env\\lib\\site-packages\\sklearn\\base.py:432: UserWarning: X has feature names, but StandardScaler was fitted without feature names\n",
      "  warnings.warn(\n",
      "C:\\ProgramData\\anaconda3\\envs\\nlp-env\\lib\\site-packages\\sklearn\\base.py:432: UserWarning: X has feature names, but StandardScaler was fitted without feature names\n",
      "  warnings.warn(\n"
     ]
    },
    {
     "name": "stdout",
     "output_type": "stream",
     "text": [
      "251 - WindowRegression with avg smape 6.37: \n",
      "Model Number: 252 of 255 with model WindowRegression for Validation 2\n"
     ]
    },
    {
     "name": "stderr",
     "output_type": "stream",
     "text": [
      "C:\\ProgramData\\anaconda3\\envs\\nlp-env\\lib\\site-packages\\sklearn\\base.py:432: UserWarning: X has feature names, but StandardScaler was fitted without feature names\n",
      "  warnings.warn(\n",
      "C:\\ProgramData\\anaconda3\\envs\\nlp-env\\lib\\site-packages\\sklearn\\base.py:432: UserWarning: X has feature names, but StandardScaler was fitted without feature names\n",
      "  warnings.warn(\n",
      "C:\\ProgramData\\anaconda3\\envs\\nlp-env\\lib\\site-packages\\sklearn\\base.py:432: UserWarning: X has feature names, but StandardScaler was fitted without feature names\n",
      "  warnings.warn(\n",
      "C:\\ProgramData\\anaconda3\\envs\\nlp-env\\lib\\site-packages\\sklearn\\base.py:432: UserWarning: X has feature names, but StandardScaler was fitted without feature names\n",
      "  warnings.warn(\n",
      "C:\\ProgramData\\anaconda3\\envs\\nlp-env\\lib\\site-packages\\sklearn\\base.py:432: UserWarning: X has feature names, but StandardScaler was fitted without feature names\n",
      "  warnings.warn(\n",
      "C:\\ProgramData\\anaconda3\\envs\\nlp-env\\lib\\site-packages\\sklearn\\base.py:432: UserWarning: X has feature names, but StandardScaler was fitted without feature names\n",
      "  warnings.warn(\n",
      "C:\\ProgramData\\anaconda3\\envs\\nlp-env\\lib\\site-packages\\sklearn\\base.py:432: UserWarning: X has feature names, but StandardScaler was fitted without feature names\n",
      "  warnings.warn(\n",
      "C:\\ProgramData\\anaconda3\\envs\\nlp-env\\lib\\site-packages\\sklearn\\base.py:432: UserWarning: X has feature names, but StandardScaler was fitted without feature names\n",
      "  warnings.warn(\n",
      "C:\\ProgramData\\anaconda3\\envs\\nlp-env\\lib\\site-packages\\sklearn\\base.py:432: UserWarning: X has feature names, but StandardScaler was fitted without feature names\n",
      "  warnings.warn(\n",
      "C:\\ProgramData\\anaconda3\\envs\\nlp-env\\lib\\site-packages\\sklearn\\base.py:432: UserWarning: X has feature names, but StandardScaler was fitted without feature names\n",
      "  warnings.warn(\n"
     ]
    },
    {
     "name": "stdout",
     "output_type": "stream",
     "text": [
      "252 - WindowRegression with avg smape 7.93: \n",
      "Model Number: 253 of 255 with model WindowRegression for Validation 2\n",
      "253 - WindowRegression with avg smape 13.13: \n",
      "Model Number: 254 of 255 with model RRVAR for Validation 2\n",
      "254 - RRVAR with avg smape 16.56: \n",
      "Model Number: 255 of 255 with model RRVAR for Validation 2\n",
      "255 - RRVAR with avg smape 7.75: \n",
      "Validation Round: 3\n",
      "Model Number: 1 of 255 with model SeasonalityMotif for Validation 3\n"
     ]
    },
    {
     "name": "stderr",
     "output_type": "stream",
     "text": [
      "C:\\ProgramData\\anaconda3\\envs\\nlp-env\\lib\\site-packages\\sklearn\\base.py:432: UserWarning: X has feature names, but StandardScaler was fitted without feature names\n",
      "  warnings.warn(\n"
     ]
    },
    {
     "name": "stdout",
     "output_type": "stream",
     "text": [
      "📈 1 - SeasonalityMotif with avg smape 4.74: \n",
      "Model Number: 2 of 255 with model SeasonalityMotif for Validation 3\n",
      "📈 2 - SeasonalityMotif with avg smape 4.4: \n",
      "Model Number: 3 of 255 with model SeasonalityMotif for Validation 3\n",
      "3 - SeasonalityMotif with avg smape 4.4: \n",
      "Model Number: 4 of 255 with model SeasonalityMotif for Validation 3\n",
      "4 - SeasonalityMotif with avg smape 4.4: \n",
      "Model Number: 5 of 255 with model SeasonalityMotif for Validation 3\n",
      "📈 5 - SeasonalityMotif with avg smape 4.04: \n",
      "Model Number: 6 of 255 with model SeasonalityMotif for Validation 3\n",
      "6 - SeasonalityMotif with avg smape 4.65: \n",
      "Model Number: 7 of 255 with model SeasonalityMotif for Validation 3\n",
      "7 - SeasonalityMotif with avg smape 4.33: \n",
      "Model Number: 8 of 255 with model SeasonalityMotif for Validation 3\n",
      "8 - SeasonalityMotif with avg smape 5.12: \n",
      "Model Number: 9 of 255 with model AverageValueNaive for Validation 3\n",
      "9 - AverageValueNaive with avg smape 4.37: \n",
      "Model Number: 10 of 255 with model AverageValueNaive for Validation 3\n",
      "10 - AverageValueNaive with avg smape 4.37: \n",
      "Model Number: 11 of 255 with model AverageValueNaive for Validation 3\n",
      "11 - AverageValueNaive with avg smape 4.37: \n",
      "Model Number: 12 of 255 with model SeasonalityMotif for Validation 3\n",
      "12 - SeasonalityMotif with avg smape 4.34: \n",
      "Model Number: 13 of 255 with model SeasonalityMotif for Validation 3\n",
      "13 - SeasonalityMotif with avg smape 4.34: \n",
      "Model Number: 14 of 255 with model SeasonalityMotif for Validation 3\n",
      "14 - SeasonalityMotif with avg smape 4.35: \n",
      "Model Number: 15 of 255 with model Cassandra for Validation 3\n",
      "15 - Cassandra with avg smape 4.44: \n",
      "Model Number: 16 of 255 with model Cassandra for Validation 3\n"
     ]
    },
    {
     "name": "stderr",
     "output_type": "stream",
     "text": [
      "C:\\ProgramData\\anaconda3\\envs\\nlp-env\\lib\\site-packages\\numpy\\lib\\function_base.py:2853: RuntimeWarning: invalid value encountered in divide\n",
      "  c /= stddev[:, None]\n",
      "C:\\ProgramData\\anaconda3\\envs\\nlp-env\\lib\\site-packages\\numpy\\lib\\function_base.py:2854: RuntimeWarning: invalid value encountered in divide\n",
      "  c /= stddev[None, :]\n",
      "C:\\ProgramData\\anaconda3\\envs\\nlp-env\\lib\\site-packages\\numpy\\lib\\function_base.py:2853: RuntimeWarning: invalid value encountered in divide\n",
      "  c /= stddev[:, None]\n",
      "C:\\ProgramData\\anaconda3\\envs\\nlp-env\\lib\\site-packages\\numpy\\lib\\function_base.py:2854: RuntimeWarning: invalid value encountered in divide\n",
      "  c /= stddev[None, :]\n"
     ]
    },
    {
     "name": "stdout",
     "output_type": "stream",
     "text": [
      "16 - Cassandra with avg smape 4.44: \n",
      "Model Number: 17 of 255 with model SeasonalityMotif for Validation 3\n",
      "17 - SeasonalityMotif with avg smape 4.74: \n",
      "Model Number: 18 of 255 with model Cassandra for Validation 3\n",
      "18 - Cassandra with avg smape 4.54: \n",
      "Model Number: 19 of 255 with model SeasonalityMotif for Validation 3\n",
      "19 - SeasonalityMotif with avg smape 4.43: \n",
      "Model Number: 20 of 255 with model SeasonalityMotif for Validation 3\n",
      "20 - SeasonalityMotif with avg smape 5.08: \n",
      "Model Number: 21 of 255 with model SeasonalityMotif for Validation 3\n",
      "21 - SeasonalityMotif with avg smape 4.43: \n",
      "Model Number: 22 of 255 with model Cassandra for Validation 3\n"
     ]
    },
    {
     "name": "stderr",
     "output_type": "stream",
     "text": [
      "C:\\ProgramData\\anaconda3\\envs\\nlp-env\\lib\\site-packages\\numpy\\lib\\function_base.py:2853: RuntimeWarning: invalid value encountered in divide\n",
      "  c /= stddev[:, None]\n",
      "C:\\ProgramData\\anaconda3\\envs\\nlp-env\\lib\\site-packages\\numpy\\lib\\function_base.py:2854: RuntimeWarning: invalid value encountered in divide\n",
      "  c /= stddev[None, :]\n"
     ]
    },
    {
     "name": "stdout",
     "output_type": "stream",
     "text": [
      "22 - Cassandra with avg smape 15.27: \n",
      "Model Number: 23 of 255 with model LastValueNaive for Validation 3\n",
      "📈 23 - LastValueNaive with avg smape 3.88: \n",
      "Model Number: 24 of 255 with model LastValueNaive for Validation 3\n",
      "24 - LastValueNaive with avg smape 4.33: \n",
      "Model Number: 25 of 255 with model LastValueNaive for Validation 3\n",
      "25 - LastValueNaive with avg smape 4.33: \n",
      "Model Number: 26 of 255 with model LastValueNaive for Validation 3\n",
      "26 - LastValueNaive with avg smape 4.33: \n",
      "Model Number: 27 of 255 with model LastValueNaive for Validation 3\n",
      "27 - LastValueNaive with avg smape 4.33: \n",
      "Model Number: 28 of 255 with model BasicLinearModel for Validation 3\n",
      "📈 28 - BasicLinearModel with avg smape 3.45: \n",
      "Model Number: 29 of 255 with model BasicLinearModel for Validation 3\n",
      "29 - BasicLinearModel with avg smape 4.16: \n",
      "Model Number: 30 of 255 with model LastValueNaive for Validation 3\n",
      "30 - LastValueNaive with avg smape 4.23: \n",
      "Model Number: 31 of 255 with model ARDL for Validation 3\n",
      "31 - ARDL with avg smape 6.96: \n",
      "Model Number: 32 of 255 with model ARDL for Validation 3\n",
      "32 - ARDL with avg smape 121.9: \n",
      "Model Number: 33 of 255 with model BasicLinearModel for Validation 3\n",
      "📈 33 - BasicLinearModel with avg smape 2.38: \n",
      "Model Number: 34 of 255 with model GLM for Validation 3\n",
      "34 - GLM with avg smape 2.44: \n",
      "Model Number: 35 of 255 with model BasicLinearModel for Validation 3\n",
      "📈 35 - BasicLinearModel with avg smape 2.33: \n",
      "Model Number: 36 of 255 with model GLM for Validation 3\n",
      "36 - GLM with avg smape 2.47: \n",
      "Model Number: 37 of 255 with model ARDL for Validation 3\n",
      "37 - ARDL with avg smape 121.86: \n",
      "Model Number: 38 of 255 with model BasicLinearModel for Validation 3\n"
     ]
    },
    {
     "name": "stderr",
     "output_type": "stream",
     "text": [
      "C:\\ProgramData\\anaconda3\\envs\\nlp-env\\lib\\site-packages\\statsmodels\\genmod\\families\\links.py:198: RuntimeWarning: overflow encountered in exp\n",
      "  t = np.exp(-z)\n",
      "C:\\ProgramData\\anaconda3\\envs\\nlp-env\\lib\\site-packages\\statsmodels\\genmod\\families\\links.py:198: RuntimeWarning: overflow encountered in exp\n",
      "  t = np.exp(-z)\n"
     ]
    },
    {
     "name": "stdout",
     "output_type": "stream",
     "text": [
      "38 - BasicLinearModel with avg smape 2.34: \n",
      "Model Number: 39 of 255 with model BasicLinearModel for Validation 3\n",
      "39 - BasicLinearModel with avg smape 2.34: \n",
      "Model Number: 40 of 255 with model GLM for Validation 3\n",
      "40 - GLM with avg smape 2.47: \n",
      "Model Number: 41 of 255 with model GLM for Validation 3\n",
      "41 - GLM with avg smape 2.47: \n",
      "Model Number: 42 of 255 with model GLM for Validation 3\n",
      "42 - GLM with avg smape 2.47: \n",
      "Model Number: 43 of 255 with model Cassandra for Validation 3\n"
     ]
    },
    {
     "name": "stderr",
     "output_type": "stream",
     "text": [
      "C:\\ProgramData\\anaconda3\\envs\\nlp-env\\lib\\site-packages\\statsmodels\\genmod\\families\\family.py:1650: RuntimeWarning: invalid value encountered in log\n",
      "  endog * np.log(endog / mu) + (mu - endog))\n"
     ]
    },
    {
     "name": "stdout",
     "output_type": "stream",
     "text": [
      "43 - Cassandra with avg smape 3.81: \n",
      "Model Number: 44 of 255 with model LastValueNaive for Validation 3\n"
     ]
    },
    {
     "name": "stderr",
     "output_type": "stream",
     "text": [
      "C:\\ProgramData\\anaconda3\\envs\\nlp-env\\lib\\site-packages\\numpy\\lib\\function_base.py:2853: RuntimeWarning: invalid value encountered in divide\n",
      "  c /= stddev[:, None]\n",
      "C:\\ProgramData\\anaconda3\\envs\\nlp-env\\lib\\site-packages\\numpy\\lib\\function_base.py:2854: RuntimeWarning: invalid value encountered in divide\n",
      "  c /= stddev[None, :]\n"
     ]
    },
    {
     "name": "stdout",
     "output_type": "stream",
     "text": [
      "44 - LastValueNaive with avg smape 4.0: \n",
      "Model Number: 45 of 255 with model DatepartRegression for Validation 3\n",
      "45 - DatepartRegression with avg smape 2.39: \n",
      "Model Number: 46 of 255 with model ARDL for Validation 3\n",
      "46 - ARDL with avg smape 121.73: \n",
      "Model Number: 47 of 255 with model DatepartRegression for Validation 3\n",
      "47 - DatepartRegression with avg smape 2.36: \n",
      "Model Number: 48 of 255 with model LastValueNaive for Validation 3\n",
      "48 - LastValueNaive with avg smape 4.09: \n",
      "Model Number: 49 of 255 with model GLM for Validation 3\n",
      "49 - GLM with avg smape 2.37: \n",
      "Model Number: 50 of 255 with model FFT for Validation 3\n",
      "50 - FFT with avg smape 5.01: \n",
      "Model Number: 51 of 255 with model Cassandra for Validation 3\n",
      "51 - Cassandra with avg smape 4.05: \n",
      "Model Number: 52 of 255 with model LastValueNaive for Validation 3\n",
      "52 - LastValueNaive with avg smape 2.36: \n",
      "Model Number: 53 of 255 with model MetricMotif for Validation 3\n",
      "53 - MetricMotif with avg smape 2.64: \n",
      "Model Number: 54 of 255 with model MetricMotif for Validation 3\n",
      "54 - MetricMotif with avg smape 2.64: \n",
      "Model Number: 55 of 255 with model MetricMotif for Validation 3\n",
      "55 - MetricMotif with avg smape 2.64: \n",
      "Model Number: 56 of 255 with model ARDL for Validation 3\n",
      "56 - ARDL with avg smape 121.73: \n",
      "Model Number: 57 of 255 with model ARDL for Validation 3\n",
      "57 - ARDL with avg smape 121.89: \n",
      "Model Number: 58 of 255 with model LastValueNaive for Validation 3\n",
      "58 - LastValueNaive with avg smape 2.92: \n",
      "Model Number: 59 of 255 with model ARDL for Validation 3\n",
      "59 - ARDL with avg smape 121.93: \n",
      "Model Number: 60 of 255 with model BasicLinearModel for Validation 3\n",
      "60 - BasicLinearModel with avg smape 2.33: \n",
      "Model Number: 61 of 255 with model Cassandra for Validation 3\n",
      "61 - Cassandra with avg smape 4.67: \n",
      "Model Number: 62 of 255 with model UnivariateMotif for Validation 3\n",
      "62 - UnivariateMotif with avg smape 2.88: \n",
      "Model Number: 63 of 255 with model LastValueNaive for Validation 3\n",
      "📈 63 - LastValueNaive with avg smape 2.17: \n",
      "Model Number: 64 of 255 with model LastValueNaive for Validation 3\n",
      "64 - LastValueNaive with avg smape 4.33: \n",
      "Model Number: 65 of 255 with model MetricMotif for Validation 3\n",
      "65 - MetricMotif with avg smape 2.54: \n",
      "Model Number: 66 of 255 with model MetricMotif for Validation 3\n",
      "66 - MetricMotif with avg smape 2.54: \n",
      "Model Number: 67 of 255 with model Cassandra for Validation 3\n",
      "Template Eval Error: ValueError('negative dimensions are not allowed') in model 67 in generation 0: Cassandra\n",
      "Model Number: 68 of 255 with model BasicLinearModel for Validation 3\n"
     ]
    },
    {
     "name": "stderr",
     "output_type": "stream",
     "text": [
      "C:\\ProgramData\\anaconda3\\envs\\nlp-env\\lib\\site-packages\\numpy\\lib\\function_base.py:2853: RuntimeWarning: invalid value encountered in divide\n",
      "  c /= stddev[:, None]\n",
      "C:\\ProgramData\\anaconda3\\envs\\nlp-env\\lib\\site-packages\\numpy\\lib\\function_base.py:2854: RuntimeWarning: invalid value encountered in divide\n",
      "  c /= stddev[None, :]\n"
     ]
    },
    {
     "name": "stdout",
     "output_type": "stream",
     "text": [
      "68 - BasicLinearModel with avg smape 4.65: \n",
      "Model Number: 69 of 255 with model GLM for Validation 3\n",
      "69 - GLM with avg smape 2.32: \n",
      "Model Number: 70 of 255 with model BasicLinearModel for Validation 3\n",
      "70 - BasicLinearModel with avg smape 3.93: \n",
      "Model Number: 71 of 255 with model UnivariateMotif for Validation 3\n",
      "71 - UnivariateMotif with avg smape 2.86: \n",
      "Model Number: 72 of 255 with model UnivariateMotif for Validation 3\n",
      "72 - UnivariateMotif with avg smape 2.62: \n",
      "Model Number: 73 of 255 with model UnivariateMotif for Validation 3\n",
      "73 - UnivariateMotif with avg smape 4.31: \n",
      "Model Number: 74 of 255 with model GLM for Validation 3\n",
      "74 - GLM with avg smape 2.35: \n",
      "Model Number: 75 of 255 with model UnivariateMotif for Validation 3\n",
      "75 - UnivariateMotif with avg smape 2.62: \n",
      "Model Number: 76 of 255 with model UnivariateMotif for Validation 3\n",
      "76 - UnivariateMotif with avg smape 2.62: \n",
      "Model Number: 77 of 255 with model Cassandra for Validation 3\n",
      "Template Eval Error: ValueError('negative dimensions are not allowed') in model 77 in generation 0: Cassandra\n",
      "Model Number: 78 of 255 with model GLM for Validation 3\n",
      "78 - GLM with avg smape 2.61: \n",
      "Model Number: 79 of 255 with model Cassandra for Validation 3\n",
      "Template Eval Error: ValueError('negative dimensions are not allowed') in model 79 in generation 0: Cassandra\n",
      "Model Number: 80 of 255 with model Cassandra for Validation 3\n",
      "80 - Cassandra with avg smape 5.25: \n",
      "Model Number: 81 of 255 with model ARDL for Validation 3\n",
      "81 - ARDL with avg smape 122.53: \n",
      "Model Number: 82 of 255 with model UnivariateMotif for Validation 3\n",
      "82 - UnivariateMotif with avg smape 4.11: \n",
      "Model Number: 83 of 255 with model BasicLinearModel for Validation 3\n",
      "83 - BasicLinearModel with avg smape 2.61: \n",
      "Model Number: 84 of 255 with model SectionalMotif for Validation 3\n",
      "84 - SectionalMotif with avg smape 5.05: \n",
      "Model Number: 85 of 255 with model BasicLinearModel for Validation 3\n",
      "85 - BasicLinearModel with avg smape 4.83: \n",
      "Model Number: 86 of 255 with model UnivariateMotif for Validation 3\n",
      "86 - UnivariateMotif with avg smape 2.8: \n",
      "Model Number: 87 of 255 with model UnivariateMotif for Validation 3\n",
      "87 - UnivariateMotif with avg smape 2.78: \n",
      "Model Number: 88 of 255 with model SectionalMotif for Validation 3\n",
      "88 - SectionalMotif with avg smape 4.35: \n",
      "Model Number: 89 of 255 with model AverageValueNaive for Validation 3\n",
      "89 - AverageValueNaive with avg smape 4.49: \n",
      "Model Number: 90 of 255 with model FFT for Validation 3\n",
      "90 - FFT with avg smape 5.82: \n",
      "Model Number: 91 of 255 with model BasicLinearModel for Validation 3\n",
      "91 - BasicLinearModel with avg smape 4.05: \n",
      "Model Number: 92 of 255 with model LastValueNaive for Validation 3\n",
      "92 - LastValueNaive with avg smape 2.64: \n",
      "Model Number: 93 of 255 with model Cassandra for Validation 3\n",
      "93 - Cassandra with avg smape 3.88: \n",
      "Model Number: 94 of 255 with model UnivariateMotif for Validation 3\n",
      "94 - UnivariateMotif with avg smape 4.98: \n",
      "Model Number: 95 of 255 with model DatepartRegression for Validation 3\n"
     ]
    },
    {
     "name": "stderr",
     "output_type": "stream",
     "text": [
      "C:\\ProgramData\\anaconda3\\envs\\nlp-env\\lib\\site-packages\\numpy\\lib\\function_base.py:2853: RuntimeWarning: invalid value encountered in divide\n",
      "  c /= stddev[:, None]\n",
      "C:\\ProgramData\\anaconda3\\envs\\nlp-env\\lib\\site-packages\\numpy\\lib\\function_base.py:2854: RuntimeWarning: invalid value encountered in divide\n",
      "  c /= stddev[None, :]\n"
     ]
    },
    {
     "name": "stdout",
     "output_type": "stream",
     "text": [
      "Epoch 1/10\n",
      "10/10 [==============================] - 0s 1ms/step - loss: 2.3334\n",
      "Epoch 2/10\n",
      "10/10 [==============================] - 0s 1ms/step - loss: 1.8608\n",
      "Epoch 3/10\n",
      "10/10 [==============================] - 0s 889us/step - loss: 1.6305\n",
      "Epoch 4/10\n",
      "10/10 [==============================] - 0s 1000us/step - loss: 1.4698\n",
      "Epoch 5/10\n",
      "10/10 [==============================] - 0s 1ms/step - loss: 1.3751\n",
      "Epoch 6/10\n",
      "10/10 [==============================] - 0s 1000us/step - loss: 1.2956\n",
      "Epoch 7/10\n",
      "10/10 [==============================] - 0s 1ms/step - loss: 1.2464\n",
      "Epoch 8/10\n",
      "10/10 [==============================] - 0s 1000us/step - loss: 1.2133\n",
      "Epoch 9/10\n",
      "10/10 [==============================] - 0s 1000us/step - loss: 1.1631\n",
      "Epoch 10/10\n",
      "10/10 [==============================] - 0s 1ms/step - loss: 1.1336\n",
      "1/1 [==============================] - 0s 20ms/step\n",
      "95 - DatepartRegression with avg smape 5.42: \n",
      "Model Number: 96 of 255 with model BasicLinearModel for Validation 3\n",
      "96 - BasicLinearModel with avg smape 4.63: \n",
      "Model Number: 97 of 255 with model LastValueNaive for Validation 3\n",
      "97 - LastValueNaive with avg smape 3.03: \n",
      "Model Number: 98 of 255 with model Cassandra for Validation 3\n",
      "98 - Cassandra with avg smape 2.49: \n",
      "Model Number: 99 of 255 with model UnivariateMotif for Validation 3\n",
      "99 - UnivariateMotif with avg smape 2.78: \n",
      "Model Number: 100 of 255 with model BasicLinearModel for Validation 3\n",
      "100 - BasicLinearModel with avg smape 4.37: \n",
      "Model Number: 101 of 255 with model DatepartRegression for Validation 3\n",
      "101 - DatepartRegression with avg smape 5.4: \n",
      "Model Number: 102 of 255 with model UnivariateMotif for Validation 3\n",
      "102 - UnivariateMotif with avg smape 4.16: \n",
      "Model Number: 103 of 255 with model GLM for Validation 3\n",
      "103 - GLM with avg smape 2.39: \n",
      "Model Number: 104 of 255 with model Cassandra for Validation 3\n"
     ]
    },
    {
     "name": "stderr",
     "output_type": "stream",
     "text": [
      "C:\\ProgramData\\anaconda3\\envs\\nlp-env\\lib\\site-packages\\sklearn\\linear_model\\_coordinate_descent.py:2418: ConvergenceWarning: Objective did not converge. You might want to increase the number of iterations. Duality gap: 357.2144470214844, tolerance: 0.34747424721717834\n",
      "  ) = cd_fast.enet_coordinate_descent_multi_task(\n",
      "C:\\ProgramData\\anaconda3\\envs\\nlp-env\\lib\\site-packages\\statsmodels\\genmod\\families\\links.py:198: RuntimeWarning: overflow encountered in exp\n",
      "  t = np.exp(-z)\n",
      "C:\\ProgramData\\anaconda3\\envs\\nlp-env\\lib\\site-packages\\sklearn\\neighbors\\_classification.py:215: DataConversionWarning: A column-vector y was passed when a 1d array was expected. Please change the shape of y to (n_samples,), for example using ravel().\n",
      "  return self._fit(X, y)\n"
     ]
    },
    {
     "name": "stdout",
     "output_type": "stream",
     "text": [
      "104 - Cassandra with avg smape 4.17: \n",
      "Model Number: 105 of 255 with model BasicLinearModel for Validation 3\n",
      "105 - BasicLinearModel with avg smape 3.21: \n",
      "Model Number: 106 of 255 with model FFT for Validation 3\n",
      "106 - FFT with avg smape 5.01: \n",
      "Model Number: 107 of 255 with model UnivariateMotif for Validation 3\n",
      "107 - UnivariateMotif with avg smape 7.01: \n",
      "Model Number: 108 of 255 with model SectionalMotif for Validation 3\n",
      "108 - SectionalMotif with avg smape 10.08: \n",
      "Model Number: 109 of 255 with model SectionalMotif for Validation 3\n",
      "109 - SectionalMotif with avg smape 2.93: \n",
      "Model Number: 110 of 255 with model MetricMotif for Validation 3\n",
      "Template Eval Error: IndexError('index 83 is out of bounds for axis 0 with size 80') in model 110 in generation 0: MetricMotif\n",
      "Model Number: 111 of 255 with model AverageValueNaive for Validation 3\n",
      "111 - AverageValueNaive with avg smape 4.46: \n",
      "Model Number: 112 of 255 with model UnivariateMotif for Validation 3\n",
      "112 - UnivariateMotif with avg smape 3.34: \n",
      "Model Number: 113 of 255 with model UnivariateMotif for Validation 3\n",
      "113 - UnivariateMotif with avg smape 3.42: \n",
      "Model Number: 114 of 255 with model ARDL for Validation 3\n",
      "114 - ARDL with avg smape 12.67: \n",
      "Model Number: 115 of 255 with model ARDL for Validation 3\n",
      "115 - ARDL with avg smape 121.85: \n",
      "Model Number: 116 of 255 with model LastValueNaive for Validation 3\n",
      "116 - LastValueNaive with avg smape 2.47: \n",
      "Model Number: 117 of 255 with model MetricMotif for Validation 3\n",
      "Template Eval Error: IndexError('index 150 is out of bounds for axis 0 with size 100') in model 117 in generation 0: MetricMotif\n",
      "Model Number: 118 of 255 with model Cassandra for Validation 3\n",
      "Template Eval Error: ValueError('negative dimensions are not allowed') in model 118 in generation 0: Cassandra\n",
      "Model Number: 119 of 255 with model AverageValueNaive for Validation 3\n",
      "119 - AverageValueNaive with avg smape 4.61: \n",
      "Model Number: 120 of 255 with model AverageValueNaive for Validation 3\n",
      "120 - AverageValueNaive with avg smape 3.3: \n",
      "Model Number: 121 of 255 with model DatepartRegression for Validation 3\n",
      "121 - DatepartRegression with avg smape 6.29: \n",
      "Model Number: 122 of 255 with model FFT for Validation 3\n"
     ]
    },
    {
     "name": "stderr",
     "output_type": "stream",
     "text": [
      "C:\\ProgramData\\anaconda3\\envs\\nlp-env\\lib\\site-packages\\numpy\\lib\\function_base.py:2853: RuntimeWarning: invalid value encountered in divide\n",
      "  c /= stddev[:, None]\n",
      "C:\\ProgramData\\anaconda3\\envs\\nlp-env\\lib\\site-packages\\numpy\\lib\\function_base.py:2854: RuntimeWarning: invalid value encountered in divide\n",
      "  c /= stddev[None, :]\n"
     ]
    },
    {
     "name": "stdout",
     "output_type": "stream",
     "text": [
      "122 - FFT with avg smape 2.55: \n",
      "Model Number: 123 of 255 with model SectionalMotif for Validation 3\n",
      "123 - SectionalMotif with avg smape 6.07: \n",
      "Model Number: 124 of 255 with model AverageValueNaive for Validation 3\n",
      "124 - AverageValueNaive with avg smape 4.48: \n",
      "Model Number: 125 of 255 with model SectionalMotif for Validation 3\n",
      "125 - SectionalMotif with avg smape 3.87: \n",
      "Model Number: 126 of 255 with model AverageValueNaive for Validation 3\n",
      "126 - AverageValueNaive with avg smape 3.28: \n",
      "Model Number: 127 of 255 with model GLM for Validation 3\n",
      "127 - GLM with avg smape 4.49: \n",
      "Model Number: 128 of 255 with model SectionalMotif for Validation 3\n",
      "128 - SectionalMotif with avg smape 4.47: \n",
      "Model Number: 129 of 255 with model SectionalMotif for Validation 3\n",
      "129 - SectionalMotif with avg smape 4.47: \n",
      "Model Number: 130 of 255 with model AverageValueNaive for Validation 3\n",
      "130 - AverageValueNaive with avg smape 3.31: \n",
      "Model Number: 131 of 255 with model AverageValueNaive for Validation 3\n",
      "131 - AverageValueNaive with avg smape 3.31: \n",
      "Model Number: 132 of 255 with model AverageValueNaive for Validation 3\n",
      "132 - AverageValueNaive with avg smape 3.31: \n",
      "Model Number: 133 of 255 with model ARDL for Validation 3\n",
      "133 - ARDL with avg smape 106.75: \n",
      "Model Number: 134 of 255 with model GLM for Validation 3\n",
      "134 - GLM with avg smape 4.03: \n",
      "Model Number: 135 of 255 with model SectionalMotif for Validation 3\n"
     ]
    },
    {
     "name": "stderr",
     "output_type": "stream",
     "text": [
      "C:\\ProgramData\\anaconda3\\envs\\nlp-env\\lib\\site-packages\\sklearn\\neighbors\\_classification.py:215: DataConversionWarning: A column-vector y was passed when a 1d array was expected. Please change the shape of y to (n_samples,), for example using ravel().\n",
      "  return self._fit(X, y)\n"
     ]
    },
    {
     "name": "stdout",
     "output_type": "stream",
     "text": [
      "135 - SectionalMotif with avg smape 4.37: \n",
      "Model Number: 136 of 255 with model DatepartRegression for Validation 3\n",
      "136 - DatepartRegression with avg smape 4.46: \n",
      "Model Number: 137 of 255 with model AverageValueNaive for Validation 3\n",
      "137 - AverageValueNaive with avg smape 3.47: \n",
      "Model Number: 138 of 255 with model SectionalMotif for Validation 3\n",
      "138 - SectionalMotif with avg smape 3.58: \n",
      "Model Number: 139 of 255 with model FFT for Validation 3\n",
      "139 - FFT with avg smape 2.56: \n",
      "Model Number: 140 of 255 with model SectionalMotif for Validation 3\n",
      "140 - SectionalMotif with avg smape 4.09: \n",
      "Model Number: 141 of 255 with model DatepartRegression for Validation 3\n",
      "141 - DatepartRegression with avg smape 3.16: \n",
      "Model Number: 142 of 255 with model SectionalMotif for Validation 3\n",
      "142 - SectionalMotif with avg smape 4.93: \n",
      "Model Number: 143 of 255 with model SectionalMotif for Validation 3\n",
      "143 - SectionalMotif with avg smape 3.83: \n",
      "Model Number: 144 of 255 with model AverageValueNaive for Validation 3\n",
      "144 - AverageValueNaive with avg smape 3.32: \n",
      "Model Number: 145 of 255 with model AverageValueNaive for Validation 3\n",
      "145 - AverageValueNaive with avg smape 3.52: \n",
      "Model Number: 146 of 255 with model SectionalMotif for Validation 3\n",
      "146 - SectionalMotif with avg smape 3.11: \n",
      "Model Number: 147 of 255 with model ARDL for Validation 3\n",
      "147 - ARDL with avg smape 112.37: \n",
      "Model Number: 148 of 255 with model SectionalMotif for Validation 3\n",
      "148 - SectionalMotif with avg smape 5.15: \n",
      "Model Number: 149 of 255 with model GLM for Validation 3\n"
     ]
    },
    {
     "name": "stderr",
     "output_type": "stream",
     "text": [
      "C:\\ProgramData\\anaconda3\\envs\\nlp-env\\lib\\site-packages\\sklearn\\neural_network\\_multilayer_perceptron.py:541: ConvergenceWarning: lbfgs failed to converge (status=1):\n",
      "STOP: TOTAL NO. of ITERATIONS REACHED LIMIT.\n",
      "\n",
      "Increase the number of iterations (max_iter) or scale the data as shown in:\n",
      "    https://scikit-learn.org/stable/modules/preprocessing.html\n",
      "  self.n_iter_ = _check_optimize_result(\"lbfgs\", opt_res, self.max_iter)\n",
      "C:\\ProgramData\\anaconda3\\envs\\nlp-env\\lib\\site-packages\\statsmodels\\genmod\\families\\links.py:198: RuntimeWarning: overflow encountered in exp\n",
      "  t = np.exp(-z)\n"
     ]
    },
    {
     "name": "stdout",
     "output_type": "stream",
     "text": [
      "149 - GLM with avg smape 2.8: \n",
      "Model Number: 150 of 255 with model MetricMotif for Validation 3\n",
      "150 - MetricMotif with avg smape 3.38: \n",
      "Model Number: 151 of 255 with model GLM for Validation 3\n",
      "151 - GLM with avg smape 2.67: \n",
      "Model Number: 152 of 255 with model ARDL for Validation 3\n",
      "152 - ARDL with avg smape 7.09: \n",
      "Model Number: 153 of 255 with model MetricMotif for Validation 3\n",
      "153 - MetricMotif with avg smape 3.7: \n",
      "Model Number: 154 of 255 with model GLM for Validation 3\n",
      "154 - GLM with avg smape 3.89: \n",
      "Model Number: 155 of 255 with model GLS for Validation 3\n",
      "155 - GLS with avg smape 4.14: \n",
      "Model Number: 156 of 255 with model MetricMotif for Validation 3\n",
      "156 - MetricMotif with avg smape 3.99: \n",
      "Model Number: 157 of 255 with model MetricMotif for Validation 3\n",
      "157 - MetricMotif with avg smape 3.99: \n",
      "Model Number: 158 of 255 with model MetricMotif for Validation 3\n",
      "158 - MetricMotif with avg smape 4.27: \n",
      "Model Number: 159 of 255 with model MetricMotif for Validation 3\n",
      "159 - MetricMotif with avg smape 4.27: \n",
      "Model Number: 160 of 255 with model MetricMotif for Validation 3\n",
      "160 - MetricMotif with avg smape 4.26: \n",
      "Model Number: 161 of 255 with model MetricMotif for Validation 3\n",
      "161 - MetricMotif with avg smape 4.26: \n",
      "Model Number: 162 of 255 with model FFT for Validation 3\n",
      "162 - FFT with avg smape 6.21: \n",
      "Model Number: 163 of 255 with model FFT for Validation 3\n",
      "163 - FFT with avg smape 6.2: \n",
      "Model Number: 164 of 255 with model FFT for Validation 3\n",
      "164 - FFT with avg smape 2.56: \n",
      "Model Number: 165 of 255 with model FFT for Validation 3\n",
      "165 - FFT with avg smape 6.23: \n",
      "Model Number: 166 of 255 with model FFT for Validation 3\n",
      "166 - FFT with avg smape 5.24: \n",
      "Model Number: 167 of 255 with model GLS for Validation 3\n",
      "167 - GLS with avg smape 4.03: \n",
      "Model Number: 168 of 255 with model FFT for Validation 3\n",
      "168 - FFT with avg smape 6.25: \n",
      "Model Number: 169 of 255 with model ARDL for Validation 3\n",
      "169 - ARDL with avg smape 7.04: \n",
      "Model Number: 170 of 255 with model DatepartRegression for Validation 3\n",
      "170 - DatepartRegression with avg smape 6.57: \n",
      "Model Number: 171 of 255 with model ARDL for Validation 3\n",
      "171 - ARDL with avg smape 3.21: \n",
      "Model Number: 172 of 255 with model FFT for Validation 3\n",
      "172 - FFT with avg smape 2.92: \n",
      "Model Number: 173 of 255 with model FFT for Validation 3\n",
      "173 - FFT with avg smape 3.04: \n",
      "Model Number: 174 of 255 with model FFT for Validation 3\n",
      "174 - FFT with avg smape 3.13: \n",
      "Model Number: 175 of 255 with model DatepartRegression for Validation 3\n",
      "175 - DatepartRegression with avg smape 6.88: \n",
      "Model Number: 176 of 255 with model FFT for Validation 3\n",
      "176 - FFT with avg smape 3.0: \n",
      "Model Number: 177 of 255 with model SeasonalNaive for Validation 3\n",
      "177 - SeasonalNaive with avg smape 3.6: \n",
      "Model Number: 178 of 255 with model DatepartRegression for Validation 3\n",
      "178 - DatepartRegression with avg smape 2.66: \n",
      "Model Number: 179 of 255 with model ConstantNaive for Validation 3\n",
      "179 - ConstantNaive with avg smape 11.14: \n",
      "Model Number: 180 of 255 with model DatepartRegression for Validation 3\n",
      "180 - DatepartRegression with avg smape 4.46: \n",
      "Model Number: 181 of 255 with model DatepartRegression for Validation 3\n",
      "181 - DatepartRegression with avg smape 3.96: \n",
      "Model Number: 182 of 255 with model DatepartRegression for Validation 3\n",
      "182 - DatepartRegression with avg smape 4.76: \n",
      "Model Number: 183 of 255 with model SeasonalNaive for Validation 3\n",
      "183 - SeasonalNaive with avg smape 3.92: \n",
      "Model Number: 184 of 255 with model SeasonalNaive for Validation 3\n",
      "184 - SeasonalNaive with avg smape 3.23: \n",
      "Model Number: 185 of 255 with model ETS for Validation 3\n",
      "185 - ETS with avg smape 3.27: \n",
      "Model Number: 186 of 255 with model DatepartRegression for Validation 3\n",
      "186 - DatepartRegression with avg smape 3.49: \n",
      "Model Number: 187 of 255 with model DatepartRegression for Validation 3\n",
      "187 - DatepartRegression with avg smape 2.98: \n",
      "Model Number: 188 of 255 with model SeasonalNaive for Validation 3\n",
      "188 - SeasonalNaive with avg smape 2.86: \n",
      "Model Number: 189 of 255 with model SeasonalNaive for Validation 3\n",
      "189 - SeasonalNaive with avg smape 3.18: \n",
      "Model Number: 190 of 255 with model ETS for Validation 3\n",
      "190 - ETS with avg smape 3.22: \n",
      "Model Number: 191 of 255 with model ETS for Validation 3\n",
      "191 - ETS with avg smape 3.29: \n",
      "Model Number: 192 of 255 with model ETS for Validation 3\n",
      "192 - ETS with avg smape 3.67: \n",
      "Model Number: 193 of 255 with model ETS for Validation 3\n",
      "193 - ETS with avg smape 10.47: \n",
      "Model Number: 194 of 255 with model SeasonalNaive for Validation 3\n",
      "194 - SeasonalNaive with avg smape 3.89: \n",
      "Model Number: 195 of 255 with model SeasonalNaive for Validation 3\n",
      "195 - SeasonalNaive with avg smape 3.36: \n",
      "Model Number: 196 of 255 with model SeasonalNaive for Validation 3\n",
      "196 - SeasonalNaive with avg smape 3.35: \n",
      "Model Number: 197 of 255 with model SeasonalNaive for Validation 3\n",
      "197 - SeasonalNaive with avg smape 3.35: \n",
      "Model Number: 198 of 255 with model ETS for Validation 3\n",
      "198 - ETS with avg smape 3.34: \n",
      "Model Number: 199 of 255 with model SeasonalNaive for Validation 3\n",
      "199 - SeasonalNaive with avg smape 3.91: \n",
      "Model Number: 200 of 255 with model GLS for Validation 3\n",
      "200 - GLS with avg smape 3.11: \n",
      "Model Number: 201 of 255 with model ETS for Validation 3\n",
      "201 - ETS with avg smape 3.11: \n",
      "Model Number: 202 of 255 with model ETS for Validation 3\n",
      "202 - ETS with avg smape 3.28: \n",
      "Model Number: 203 of 255 with model ETS for Validation 3\n",
      "203 - ETS with avg smape 3.28: \n",
      "Model Number: 204 of 255 with model ETS for Validation 3\n",
      "204 - ETS with avg smape 3.28: \n",
      "Model Number: 205 of 255 with model ETS for Validation 3\n",
      "205 - ETS with avg smape 3.35: \n",
      "Model Number: 206 of 255 with model ETS for Validation 3\n",
      "206 - ETS with avg smape 3.18: \n",
      "Model Number: 207 of 255 with model ETS for Validation 3\n",
      "207 - ETS with avg smape 3.49: \n",
      "Model Number: 208 of 255 with model ETS for Validation 3\n",
      "208 - ETS with avg smape 3.23: \n",
      "Model Number: 209 of 255 with model ETS for Validation 3\n",
      "209 - ETS with avg smape 3.23: \n",
      "Model Number: 210 of 255 with model ConstantNaive for Validation 3\n",
      "210 - ConstantNaive with avg smape 3.6: \n",
      "Model Number: 211 of 255 with model ConstantNaive for Validation 3\n",
      "211 - ConstantNaive with avg smape 3.3: \n",
      "Model Number: 212 of 255 with model SeasonalNaive for Validation 3\n",
      "212 - SeasonalNaive with avg smape 3.35: \n",
      "Model Number: 213 of 255 with model ConstantNaive for Validation 3\n",
      "213 - ConstantNaive with avg smape 3.25: \n",
      "Model Number: 214 of 255 with model ConstantNaive for Validation 3\n",
      "214 - ConstantNaive with avg smape 3.25: \n",
      "Model Number: 215 of 255 with model ConstantNaive for Validation 3\n",
      "215 - ConstantNaive with avg smape 3.25: \n",
      "Model Number: 216 of 255 with model ConstantNaive for Validation 3\n",
      "216 - ConstantNaive with avg smape 3.25: \n",
      "Model Number: 217 of 255 with model SeasonalNaive for Validation 3\n",
      "217 - SeasonalNaive with avg smape 3.25: \n",
      "Model Number: 218 of 255 with model ConstantNaive for Validation 3\n",
      "218 - ConstantNaive with avg smape 3.24: \n",
      "Model Number: 219 of 255 with model SeasonalNaive for Validation 3\n",
      "219 - SeasonalNaive with avg smape 3.38: \n",
      "Model Number: 220 of 255 with model GLS for Validation 3\n",
      "220 - GLS with avg smape 3.27: \n",
      "Model Number: 221 of 255 with model GLS for Validation 3\n",
      "221 - GLS with avg smape 3.27: \n",
      "Model Number: 222 of 255 with model SeasonalNaive for Validation 3\n"
     ]
    },
    {
     "name": "stderr",
     "output_type": "stream",
     "text": [
      "C:\\ProgramData\\anaconda3\\envs\\nlp-env\\lib\\site-packages\\sklearn\\neighbors\\_classification.py:215: DataConversionWarning: A column-vector y was passed when a 1d array was expected. Please change the shape of y to (n_samples,), for example using ravel().\n",
      "  return self._fit(X, y)\n"
     ]
    },
    {
     "name": "stdout",
     "output_type": "stream",
     "text": [
      "222 - SeasonalNaive with avg smape 3.39: \n",
      "Model Number: 223 of 255 with model SeasonalNaive for Validation 3\n",
      "223 - SeasonalNaive with avg smape 3.36: \n",
      "Model Number: 224 of 255 with model WindowRegression for Validation 3\n",
      "224 - WindowRegression with avg smape 3.42: \n",
      "Model Number: 225 of 255 with model ConstantNaive for Validation 3\n",
      "225 - ConstantNaive with avg smape 3.6: \n",
      "Model Number: 226 of 255 with model GLS for Validation 3\n",
      "226 - GLS with avg smape 3.27: \n",
      "Model Number: 227 of 255 with model GLS for Validation 3\n",
      "227 - GLS with avg smape 3.27: \n",
      "Model Number: 228 of 255 with model GLS for Validation 3\n",
      "228 - GLS with avg smape 3.27: \n",
      "Model Number: 229 of 255 with model GLS for Validation 3\n",
      "229 - GLS with avg smape 3.84: \n",
      "Model Number: 230 of 255 with model WindowRegression for Validation 3\n"
     ]
    },
    {
     "name": "stderr",
     "output_type": "stream",
     "text": [
      "C:\\ProgramData\\anaconda3\\envs\\nlp-env\\lib\\site-packages\\sklearn\\base.py:432: UserWarning: X has feature names, but StandardScaler was fitted without feature names\n",
      "  warnings.warn(\n",
      "C:\\ProgramData\\anaconda3\\envs\\nlp-env\\lib\\site-packages\\sklearn\\base.py:432: UserWarning: X has feature names, but StandardScaler was fitted without feature names\n",
      "  warnings.warn(\n",
      "C:\\ProgramData\\anaconda3\\envs\\nlp-env\\lib\\site-packages\\sklearn\\base.py:432: UserWarning: X has feature names, but StandardScaler was fitted without feature names\n",
      "  warnings.warn(\n",
      "C:\\ProgramData\\anaconda3\\envs\\nlp-env\\lib\\site-packages\\sklearn\\base.py:432: UserWarning: X has feature names, but StandardScaler was fitted without feature names\n",
      "  warnings.warn(\n",
      "C:\\ProgramData\\anaconda3\\envs\\nlp-env\\lib\\site-packages\\sklearn\\base.py:432: UserWarning: X has feature names, but StandardScaler was fitted without feature names\n",
      "  warnings.warn(\n",
      "C:\\ProgramData\\anaconda3\\envs\\nlp-env\\lib\\site-packages\\sklearn\\base.py:432: UserWarning: X has feature names, but StandardScaler was fitted without feature names\n",
      "  warnings.warn(\n",
      "C:\\ProgramData\\anaconda3\\envs\\nlp-env\\lib\\site-packages\\sklearn\\base.py:432: UserWarning: X has feature names, but StandardScaler was fitted without feature names\n",
      "  warnings.warn(\n",
      "C:\\ProgramData\\anaconda3\\envs\\nlp-env\\lib\\site-packages\\sklearn\\base.py:432: UserWarning: X has feature names, but StandardScaler was fitted without feature names\n",
      "  warnings.warn(\n",
      "C:\\ProgramData\\anaconda3\\envs\\nlp-env\\lib\\site-packages\\sklearn\\base.py:432: UserWarning: X has feature names, but StandardScaler was fitted without feature names\n",
      "  warnings.warn(\n",
      "C:\\ProgramData\\anaconda3\\envs\\nlp-env\\lib\\site-packages\\sklearn\\base.py:432: UserWarning: X has feature names, but StandardScaler was fitted without feature names\n",
      "  warnings.warn(\n"
     ]
    },
    {
     "name": "stdout",
     "output_type": "stream",
     "text": [
      "230 - WindowRegression with avg smape 2.76: \n",
      "Model Number: 231 of 255 with model GLS for Validation 3\n",
      "231 - GLS with avg smape 3.26: \n",
      "Model Number: 232 of 255 with model GLS for Validation 3\n",
      "232 - GLS with avg smape 3.18: \n",
      "Model Number: 233 of 255 with model ConstantNaive for Validation 3\n",
      "233 - ConstantNaive with avg smape 3.53: \n",
      "Model Number: 234 of 255 with model ConstantNaive for Validation 3\n"
     ]
    },
    {
     "name": "stderr",
     "output_type": "stream",
     "text": [
      "C:\\ProgramData\\anaconda3\\envs\\nlp-env\\lib\\site-packages\\sklearn\\neural_network\\_multilayer_perceptron.py:541: ConvergenceWarning: lbfgs failed to converge (status=1):\n",
      "STOP: TOTAL NO. of ITERATIONS REACHED LIMIT.\n",
      "\n",
      "Increase the number of iterations (max_iter) or scale the data as shown in:\n",
      "    https://scikit-learn.org/stable/modules/preprocessing.html\n",
      "  self.n_iter_ = _check_optimize_result(\"lbfgs\", opt_res, self.max_iter)\n"
     ]
    },
    {
     "name": "stdout",
     "output_type": "stream",
     "text": [
      "234 - ConstantNaive with avg smape 3.23: \n",
      "Model Number: 235 of 255 with model WindowRegression for Validation 3\n",
      "235 - WindowRegression with avg smape 2.81: \n",
      "Model Number: 236 of 255 with model ConstantNaive for Validation 3\n",
      "236 - ConstantNaive with avg smape 4.47: \n",
      "Model Number: 237 of 255 with model WindowRegression for Validation 3\n",
      "237 - WindowRegression with avg smape 3.71: \n",
      "Model Number: 238 of 255 with model RRVAR for Validation 3\n",
      "238 - RRVAR with avg smape 3.26: \n",
      "Model Number: 239 of 255 with model GLS for Validation 3\n",
      "239 - GLS with avg smape 3.31: \n",
      "Model Number: 240 of 255 with model GLS for Validation 3\n",
      "240 - GLS with avg smape 3.31: \n",
      "Model Number: 241 of 255 with model GLS for Validation 3\n",
      "241 - GLS with avg smape 3.25: \n",
      "Model Number: 242 of 255 with model WindowRegression for Validation 3\n",
      "242 - WindowRegression with avg smape 4.38: \n",
      "Model Number: 243 of 255 with model GLS for Validation 3\n",
      "📈 243 - GLS with avg smape 1.98: \n",
      "Model Number: 244 of 255 with model ConstantNaive for Validation 3\n"
     ]
    },
    {
     "name": "stderr",
     "output_type": "stream",
     "text": [
      "C:\\ProgramData\\anaconda3\\envs\\nlp-env\\lib\\site-packages\\sklearn\\neural_network\\_multilayer_perceptron.py:541: ConvergenceWarning: lbfgs failed to converge (status=1):\n",
      "STOP: TOTAL NO. of ITERATIONS REACHED LIMIT.\n",
      "\n",
      "Increase the number of iterations (max_iter) or scale the data as shown in:\n",
      "    https://scikit-learn.org/stable/modules/preprocessing.html\n",
      "  self.n_iter_ = _check_optimize_result(\"lbfgs\", opt_res, self.max_iter)\n",
      "C:\\ProgramData\\anaconda3\\envs\\nlp-env\\lib\\site-packages\\sklearn\\base.py:432: UserWarning: X has feature names, but StandardScaler was fitted without feature names\n",
      "  warnings.warn(\n",
      "C:\\ProgramData\\anaconda3\\envs\\nlp-env\\lib\\site-packages\\sklearn\\base.py:432: UserWarning: X has feature names, but StandardScaler was fitted without feature names\n",
      "  warnings.warn(\n",
      "C:\\ProgramData\\anaconda3\\envs\\nlp-env\\lib\\site-packages\\sklearn\\base.py:432: UserWarning: X has feature names, but StandardScaler was fitted without feature names\n",
      "  warnings.warn(\n",
      "C:\\ProgramData\\anaconda3\\envs\\nlp-env\\lib\\site-packages\\sklearn\\base.py:432: UserWarning: X has feature names, but StandardScaler was fitted without feature names\n",
      "  warnings.warn(\n",
      "C:\\ProgramData\\anaconda3\\envs\\nlp-env\\lib\\site-packages\\sklearn\\base.py:432: UserWarning: X has feature names, but StandardScaler was fitted without feature names\n",
      "  warnings.warn(\n",
      "C:\\ProgramData\\anaconda3\\envs\\nlp-env\\lib\\site-packages\\sklearn\\base.py:432: UserWarning: X has feature names, but StandardScaler was fitted without feature names\n",
      "  warnings.warn(\n",
      "C:\\ProgramData\\anaconda3\\envs\\nlp-env\\lib\\site-packages\\sklearn\\base.py:432: UserWarning: X has feature names, but StandardScaler was fitted without feature names\n",
      "  warnings.warn(\n",
      "C:\\ProgramData\\anaconda3\\envs\\nlp-env\\lib\\site-packages\\sklearn\\base.py:432: UserWarning: X has feature names, but StandardScaler was fitted without feature names\n",
      "  warnings.warn(\n",
      "C:\\ProgramData\\anaconda3\\envs\\nlp-env\\lib\\site-packages\\sklearn\\base.py:432: UserWarning: X has feature names, but StandardScaler was fitted without feature names\n",
      "  warnings.warn(\n",
      "C:\\ProgramData\\anaconda3\\envs\\nlp-env\\lib\\site-packages\\sklearn\\base.py:432: UserWarning: X has feature names, but StandardScaler was fitted without feature names\n",
      "  warnings.warn(\n",
      "C:\\ProgramData\\anaconda3\\envs\\nlp-env\\lib\\site-packages\\sklearn\\base.py:432: UserWarning: X has feature names, but StandardScaler was fitted without feature names\n",
      "  warnings.warn(\n",
      "C:\\ProgramData\\anaconda3\\envs\\nlp-env\\lib\\site-packages\\sklearn\\base.py:432: UserWarning: X has feature names, but StandardScaler was fitted without feature names\n",
      "  warnings.warn(\n",
      "C:\\ProgramData\\anaconda3\\envs\\nlp-env\\lib\\site-packages\\sklearn\\base.py:432: UserWarning: X has feature names, but StandardScaler was fitted without feature names\n",
      "  warnings.warn(\n",
      "C:\\ProgramData\\anaconda3\\envs\\nlp-env\\lib\\site-packages\\sklearn\\base.py:432: UserWarning: X has feature names, but StandardScaler was fitted without feature names\n",
      "  warnings.warn(\n",
      "C:\\ProgramData\\anaconda3\\envs\\nlp-env\\lib\\site-packages\\sklearn\\base.py:432: UserWarning: X has feature names, but StandardScaler was fitted without feature names\n",
      "  warnings.warn(\n",
      "C:\\ProgramData\\anaconda3\\envs\\nlp-env\\lib\\site-packages\\sklearn\\base.py:432: UserWarning: X has feature names, but StandardScaler was fitted without feature names\n",
      "  warnings.warn(\n",
      "C:\\ProgramData\\anaconda3\\envs\\nlp-env\\lib\\site-packages\\sklearn\\base.py:432: UserWarning: X has feature names, but StandardScaler was fitted without feature names\n",
      "  warnings.warn(\n",
      "C:\\ProgramData\\anaconda3\\envs\\nlp-env\\lib\\site-packages\\sklearn\\base.py:432: UserWarning: X has feature names, but StandardScaler was fitted without feature names\n",
      "  warnings.warn(\n",
      "C:\\ProgramData\\anaconda3\\envs\\nlp-env\\lib\\site-packages\\sklearn\\base.py:432: UserWarning: X has feature names, but StandardScaler was fitted without feature names\n",
      "  warnings.warn(\n",
      "C:\\ProgramData\\anaconda3\\envs\\nlp-env\\lib\\site-packages\\sklearn\\base.py:432: UserWarning: X has feature names, but StandardScaler was fitted without feature names\n",
      "  warnings.warn(\n"
     ]
    },
    {
     "name": "stdout",
     "output_type": "stream",
     "text": [
      "244 - ConstantNaive with avg smape 3.94: \n",
      "Model Number: 245 of 255 with model ConstantNaive for Validation 3\n",
      "245 - ConstantNaive with avg smape 2.96: \n",
      "Model Number: 246 of 255 with model WindowRegression for Validation 3\n",
      "246 - WindowRegression with avg smape 3.94: \n",
      "Model Number: 247 of 255 with model WindowRegression for Validation 3\n",
      "Template Eval Error: ValueError('`min_samples` may not be larger than number of samples: n_samples = 61.') in model 247 in generation 0: WindowRegression\n",
      "Model Number: 248 of 255 with model ConstantNaive for Validation 3\n"
     ]
    },
    {
     "name": "stderr",
     "output_type": "stream",
     "text": [
      "C:\\ProgramData\\anaconda3\\envs\\nlp-env\\lib\\site-packages\\sklearn\\neural_network\\_multilayer_perceptron.py:541: ConvergenceWarning: lbfgs failed to converge (status=1):\n",
      "STOP: TOTAL NO. of ITERATIONS REACHED LIMIT.\n",
      "\n",
      "Increase the number of iterations (max_iter) or scale the data as shown in:\n",
      "    https://scikit-learn.org/stable/modules/preprocessing.html\n",
      "  self.n_iter_ = _check_optimize_result(\"lbfgs\", opt_res, self.max_iter)\n"
     ]
    },
    {
     "name": "stdout",
     "output_type": "stream",
     "text": [
      "248 - ConstantNaive with avg smape 2.79: \n",
      "Model Number: 249 of 255 with model WindowRegression for Validation 3\n",
      "249 - WindowRegression with avg smape 3.36: \n",
      "Model Number: 250 of 255 with model WindowRegression for Validation 3\n",
      "250 - WindowRegression with avg smape 2.92: \n",
      "Model Number: 251 of 255 with model WindowRegression for Validation 3\n"
     ]
    },
    {
     "name": "stderr",
     "output_type": "stream",
     "text": [
      "C:\\ProgramData\\anaconda3\\envs\\nlp-env\\lib\\site-packages\\sklearn\\linear_model\\_ridge.py:216: LinAlgWarning: Ill-conditioned matrix (rcond=5.19468e-08): result may not be accurate.\n",
      "  return linalg.solve(A, Xy, assume_a=\"pos\", overwrite_a=True).T\n",
      "C:\\ProgramData\\anaconda3\\envs\\nlp-env\\lib\\site-packages\\sklearn\\base.py:432: UserWarning: X has feature names, but StandardScaler was fitted without feature names\n",
      "  warnings.warn(\n",
      "C:\\ProgramData\\anaconda3\\envs\\nlp-env\\lib\\site-packages\\sklearn\\base.py:432: UserWarning: X has feature names, but StandardScaler was fitted without feature names\n",
      "  warnings.warn(\n",
      "C:\\ProgramData\\anaconda3\\envs\\nlp-env\\lib\\site-packages\\sklearn\\base.py:432: UserWarning: X has feature names, but StandardScaler was fitted without feature names\n",
      "  warnings.warn(\n",
      "C:\\ProgramData\\anaconda3\\envs\\nlp-env\\lib\\site-packages\\sklearn\\base.py:432: UserWarning: X has feature names, but StandardScaler was fitted without feature names\n",
      "  warnings.warn(\n",
      "C:\\ProgramData\\anaconda3\\envs\\nlp-env\\lib\\site-packages\\sklearn\\base.py:432: UserWarning: X has feature names, but StandardScaler was fitted without feature names\n",
      "  warnings.warn(\n",
      "C:\\ProgramData\\anaconda3\\envs\\nlp-env\\lib\\site-packages\\sklearn\\base.py:432: UserWarning: X has feature names, but StandardScaler was fitted without feature names\n",
      "  warnings.warn(\n",
      "C:\\ProgramData\\anaconda3\\envs\\nlp-env\\lib\\site-packages\\sklearn\\base.py:432: UserWarning: X has feature names, but StandardScaler was fitted without feature names\n",
      "  warnings.warn(\n",
      "C:\\ProgramData\\anaconda3\\envs\\nlp-env\\lib\\site-packages\\sklearn\\base.py:432: UserWarning: X has feature names, but StandardScaler was fitted without feature names\n",
      "  warnings.warn(\n",
      "C:\\ProgramData\\anaconda3\\envs\\nlp-env\\lib\\site-packages\\sklearn\\base.py:432: UserWarning: X has feature names, but StandardScaler was fitted without feature names\n",
      "  warnings.warn(\n",
      "C:\\ProgramData\\anaconda3\\envs\\nlp-env\\lib\\site-packages\\sklearn\\base.py:432: UserWarning: X has feature names, but StandardScaler was fitted without feature names\n",
      "  warnings.warn(\n",
      "C:\\ProgramData\\anaconda3\\envs\\nlp-env\\lib\\site-packages\\sklearn\\base.py:432: UserWarning: X has feature names, but StandardScaler was fitted without feature names\n",
      "  warnings.warn(\n",
      "C:\\ProgramData\\anaconda3\\envs\\nlp-env\\lib\\site-packages\\sklearn\\base.py:432: UserWarning: X has feature names, but StandardScaler was fitted without feature names\n",
      "  warnings.warn(\n",
      "C:\\ProgramData\\anaconda3\\envs\\nlp-env\\lib\\site-packages\\sklearn\\base.py:432: UserWarning: X has feature names, but StandardScaler was fitted without feature names\n",
      "  warnings.warn(\n",
      "C:\\ProgramData\\anaconda3\\envs\\nlp-env\\lib\\site-packages\\sklearn\\base.py:432: UserWarning: X has feature names, but StandardScaler was fitted without feature names\n",
      "  warnings.warn(\n",
      "C:\\ProgramData\\anaconda3\\envs\\nlp-env\\lib\\site-packages\\sklearn\\base.py:432: UserWarning: X has feature names, but StandardScaler was fitted without feature names\n",
      "  warnings.warn(\n",
      "C:\\ProgramData\\anaconda3\\envs\\nlp-env\\lib\\site-packages\\sklearn\\base.py:432: UserWarning: X has feature names, but StandardScaler was fitted without feature names\n",
      "  warnings.warn(\n",
      "C:\\ProgramData\\anaconda3\\envs\\nlp-env\\lib\\site-packages\\sklearn\\base.py:432: UserWarning: X has feature names, but StandardScaler was fitted without feature names\n",
      "  warnings.warn(\n",
      "C:\\ProgramData\\anaconda3\\envs\\nlp-env\\lib\\site-packages\\sklearn\\base.py:432: UserWarning: X has feature names, but StandardScaler was fitted without feature names\n",
      "  warnings.warn(\n",
      "C:\\ProgramData\\anaconda3\\envs\\nlp-env\\lib\\site-packages\\sklearn\\base.py:432: UserWarning: X has feature names, but StandardScaler was fitted without feature names\n",
      "  warnings.warn(\n"
     ]
    },
    {
     "name": "stdout",
     "output_type": "stream",
     "text": [
      "251 - WindowRegression with avg smape 5.09: \n",
      "Model Number: 252 of 255 with model WindowRegression for Validation 3\n"
     ]
    },
    {
     "name": "stderr",
     "output_type": "stream",
     "text": [
      "C:\\ProgramData\\anaconda3\\envs\\nlp-env\\lib\\site-packages\\sklearn\\base.py:432: UserWarning: X has feature names, but StandardScaler was fitted without feature names\n",
      "  warnings.warn(\n"
     ]
    },
    {
     "name": "stdout",
     "output_type": "stream",
     "text": [
      "252 - WindowRegression with avg smape 7.06: \n",
      "Model Number: 253 of 255 with model WindowRegression for Validation 3\n",
      "253 - WindowRegression with avg smape 3.74: \n",
      "Model Number: 254 of 255 with model RRVAR for Validation 3\n",
      "254 - RRVAR with avg smape 11.13: \n",
      "Model Number: 255 of 255 with model RRVAR for Validation 3\n"
     ]
    },
    {
     "name": "stderr",
     "output_type": "stream",
     "text": [
      "C:\\ProgramData\\anaconda3\\envs\\nlp-env\\lib\\site-packages\\sklearn\\base.py:432: UserWarning: X has feature names, but StandardScaler was fitted without feature names\n",
      "  warnings.warn(\n"
     ]
    },
    {
     "name": "stdout",
     "output_type": "stream",
     "text": [
      "255 - RRVAR with avg smape 2.41: \n",
      "Model Number: 2645 with model Ensemble in generation 27 of Ensembles\n"
     ]
    },
    {
     "name": "stderr",
     "output_type": "stream",
     "text": [
      "C:\\ProgramData\\anaconda3\\envs\\nlp-env\\lib\\site-packages\\sklearn\\linear_model\\_coordinate_descent.py:631: ConvergenceWarning: Objective did not converge. You might want to increase the number of iterations, check the scale of the features or consider increasing regularisation. Duality gap: 3.420e+02, tolerance: 4.653e+00\n",
      "  model = cd_fast.enet_coordinate_descent(\n"
     ]
    },
    {
     "name": "stdout",
     "output_type": "stream",
     "text": [
      "Template Eval Error: Exception(\"Transformer HistoricValues failed on fit from params fake_date {'0': {'rows': 1, 'lag': 1, 'method': 'additive', 'strength': 1.0, 'first_value_only': False, 'threshold': 10, 'threshold_method': 'mean'}, '1': {'window': 28}} with error KeyError('2')\") in model 2650 in generation 27: Ensemble\n",
      "Model Number: 2651 with model Ensemble in generation 27 of Ensembles\n"
     ]
    },
    {
     "name": "stderr",
     "output_type": "stream",
     "text": [
      "C:\\ProgramData\\anaconda3\\envs\\nlp-env\\lib\\site-packages\\sklearn\\linear_model\\_coordinate_descent.py:631: ConvergenceWarning: Objective did not converge. You might want to increase the number of iterations, check the scale of the features or consider increasing regularisation. Duality gap: 3.420e+02, tolerance: 4.653e+00\n",
      "  model = cd_fast.enet_coordinate_descent(\n"
     ]
    },
    {
     "name": "stdout",
     "output_type": "stream",
     "text": [
      "Template Eval Error: Exception(\"Transformer HistoricValues failed on fit from params fake_date {'0': {'rows': 1, 'lag': 1, 'method': 'additive', 'strength': 1.0, 'first_value_only': False, 'threshold': 10, 'threshold_method': 'mean'}, '1': {'window': 28}} with error KeyError('2')\") in model 2656 in generation 27: Ensemble\n",
      "Model Number: 2657 with model Ensemble in generation 27 of Ensembles\n",
      "Template Eval Error: Exception(\"Transformer HistoricValues failed on fit from params fake_date {'0': {'rows': 1, 'lag': 1, 'method': 'additive', 'strength': 1.0, 'first_value_only': False, 'threshold': 10, 'threshold_method': 'mean'}, '1': {'window': 28}} with error KeyError('2')\") in model 2662 in generation 27: Ensemble\n",
      "Model Number: 2663 with model Ensemble in generation 27 of Ensembles\n"
     ]
    },
    {
     "name": "stderr",
     "output_type": "stream",
     "text": [
      "C:\\ProgramData\\anaconda3\\envs\\nlp-env\\lib\\site-packages\\sklearn\\linear_model\\_coordinate_descent.py:631: ConvergenceWarning: Objective did not converge. You might want to increase the number of iterations, check the scale of the features or consider increasing regularisation. Duality gap: 1.503e+02, tolerance: 1.316e+00\n",
      "  model = cd_fast.enet_coordinate_descent(\n"
     ]
    },
    {
     "name": "stdout",
     "output_type": "stream",
     "text": [
      "Template Eval Error: Exception(\"Transformer HistoricValues failed on fit from params fake_date {'0': {'rows': 1, 'lag': 1, 'method': 'additive', 'strength': 1.0, 'first_value_only': False, 'threshold': 10, 'threshold_method': 'mean'}, '1': {'window': 28}} with error KeyError('2')\") in model 2668 in generation 27: Ensemble\n",
      "Model Number: 2669 with model Ensemble in generation 27 of Ensembles\n",
      "Template Eval Error: Exception(\"Transformer HistoricValues failed on fit from params fake_date {'0': {'rows': 1, 'lag': 1, 'method': 'additive', 'strength': 1.0, 'first_value_only': False, 'threshold': 10, 'threshold_method': 'mean'}, '1': {'window': 28}} with error KeyError('2')\") in model 2674 in generation 27: Ensemble\n",
      "Model Number: 2675 with model Ensemble in generation 27 of Ensembles\n"
     ]
    },
    {
     "name": "stderr",
     "output_type": "stream",
     "text": [
      "C:\\ProgramData\\anaconda3\\envs\\nlp-env\\lib\\site-packages\\sklearn\\linear_model\\_coordinate_descent.py:631: ConvergenceWarning: Objective did not converge. You might want to increase the number of iterations, check the scale of the features or consider increasing regularisation. Duality gap: 3.420e+02, tolerance: 4.653e+00\n",
      "  model = cd_fast.enet_coordinate_descent(\n"
     ]
    },
    {
     "name": "stdout",
     "output_type": "stream",
     "text": [
      "Template Eval Error: Exception(\"Transformer HistoricValues failed on fit from params fake_date {'0': {'rows': 1, 'lag': 1, 'method': 'additive', 'strength': 1.0, 'first_value_only': False, 'threshold': 10, 'threshold_method': 'mean'}, '1': {'window': 28}} with error KeyError('2')\") in model 2680 in generation 27: Ensemble\n",
      "Model Number: 2681 with model Ensemble in generation 27 of Ensembles\n"
     ]
    },
    {
     "name": "stderr",
     "output_type": "stream",
     "text": [
      "C:\\ProgramData\\anaconda3\\envs\\nlp-env\\lib\\site-packages\\sklearn\\linear_model\\_coordinate_descent.py:631: ConvergenceWarning: Objective did not converge. You might want to increase the number of iterations, check the scale of the features or consider increasing regularisation. Duality gap: 3.420e+02, tolerance: 4.653e+00\n",
      "  model = cd_fast.enet_coordinate_descent(\n",
      "C:\\ProgramData\\anaconda3\\envs\\nlp-env\\lib\\site-packages\\numpy\\lib\\function_base.py:2853: RuntimeWarning: invalid value encountered in divide\n",
      "  c /= stddev[:, None]\n",
      "C:\\ProgramData\\anaconda3\\envs\\nlp-env\\lib\\site-packages\\numpy\\lib\\function_base.py:2854: RuntimeWarning: invalid value encountered in divide\n",
      "  c /= stddev[None, :]\n"
     ]
    },
    {
     "name": "stdout",
     "output_type": "stream",
     "text": [
      "Template Eval Error: Exception(\"Transformer HistoricValues failed on fit from params fake_date {'0': {'rows': 1, 'lag': 1, 'method': 'additive', 'strength': 1.0, 'first_value_only': False, 'threshold': 10, 'threshold_method': 'mean'}, '1': {'window': 28}} with error KeyError('2')\") in model 2686 in generation 27: Ensemble\n",
      "Model Number: 2687 with model Ensemble in generation 27 of Ensembles\n"
     ]
    },
    {
     "name": "stderr",
     "output_type": "stream",
     "text": [
      "C:\\ProgramData\\anaconda3\\envs\\nlp-env\\lib\\site-packages\\sklearn\\linear_model\\_coordinate_descent.py:631: ConvergenceWarning: Objective did not converge. You might want to increase the number of iterations, check the scale of the features or consider increasing regularisation. Duality gap: 3.420e+02, tolerance: 4.653e+00\n",
      "  model = cd_fast.enet_coordinate_descent(\n"
     ]
    },
    {
     "name": "stdout",
     "output_type": "stream",
     "text": [
      "Template Eval Error: Exception(\"Transformer HistoricValues failed on fit from params fake_date {'0': {'rows': 1, 'lag': 1, 'method': 'additive', 'strength': 1.0, 'first_value_only': False, 'threshold': 10, 'threshold_method': 'mean'}, '1': {'window': 28}} with error KeyError('2')\") in model 2692 in generation 27: Ensemble\n",
      "Model Number: 2693 with model Ensemble in generation 27 of Ensembles\n"
     ]
    },
    {
     "name": "stderr",
     "output_type": "stream",
     "text": [
      "C:\\ProgramData\\anaconda3\\envs\\nlp-env\\lib\\site-packages\\sklearn\\linear_model\\_coordinate_descent.py:631: ConvergenceWarning: Objective did not converge. You might want to increase the number of iterations, check the scale of the features or consider increasing regularisation. Duality gap: 3.420e+02, tolerance: 4.653e+00\n",
      "  model = cd_fast.enet_coordinate_descent(\n"
     ]
    },
    {
     "name": "stdout",
     "output_type": "stream",
     "text": [
      "Template Eval Error: Exception(\"Transformer HistoricValues failed on fit from params fake_date {'0': {'rows': 1, 'lag': 1, 'method': 'additive', 'strength': 1.0, 'first_value_only': False, 'threshold': 10, 'threshold_method': 'mean'}, '1': {'window': 28}} with error KeyError('2')\") in model 2698 in generation 27: Ensemble\n",
      "Validation Round: 1\n",
      "Model Number: 1 of 9 with model Ensemble for Validation 1\n",
      "📈 1 - Ensemble with avg smape 1.41: \n",
      "📈 2 - Ensemble with avg smape 1.26: \n",
      "3 - Ensemble with avg smape 2.91: \n",
      "4 - Ensemble with avg smape 1.72: \n",
      "5 - Ensemble with avg smape 4.27: \n",
      "6 - Ensemble with avg smape 1.68: \n",
      "Template Eval Error: Exception(\"Transformer HistoricValues failed on fit from params fake_date {'0': {'rows': 1, 'lag': 1, 'method': 'additive', 'strength': 1.0, 'first_value_only': False, 'threshold': 10, 'threshold_method': 'mean'}, '1': {'window': 28}} with error KeyError('2')\") in model 6 in generation 0: Ensemble\n",
      "Model Number: 7 of 9 with model Ensemble for Validation 1\n",
      "7 - Ensemble with avg smape 1.5: \n",
      "8 - Ensemble with avg smape 1.35: \n",
      "9 - Ensemble with avg smape 3.07: \n",
      "10 - Ensemble with avg smape 1.68: \n",
      "11 - Ensemble with avg smape 4.27: \n",
      "12 - Ensemble with avg smape 1.68: \n",
      "Template Eval Error: Exception(\"Transformer HistoricValues failed on fit from params fake_date {'0': {'rows': 1, 'lag': 1, 'method': 'additive', 'strength': 1.0, 'first_value_only': False, 'threshold': 10, 'threshold_method': 'mean'}, '1': {'window': 28}} with error KeyError('2')\") in model 12 in generation 0: Ensemble\n",
      "Model Number: 13 of 9 with model Ensemble for Validation 1\n",
      "📈 13 - Ensemble with avg smape 1.17: \n",
      "📈 14 - Ensemble with avg smape 1.05: \n",
      "15 - Ensemble with avg smape 2.45: \n",
      "16 - Ensemble with avg smape 1.8: \n",
      "17 - Ensemble with avg smape 4.27: \n",
      "18 - Ensemble with avg smape 1.68: \n",
      "Template Eval Error: Exception(\"Transformer HistoricValues failed on fit from params fake_date {'0': {'rows': 1, 'lag': 1, 'method': 'additive', 'strength': 1.0, 'first_value_only': False, 'threshold': 10, 'threshold_method': 'mean'}, '1': {'window': 28}} with error KeyError('2')\") in model 18 in generation 0: Ensemble\n",
      "Model Number: 19 of 9 with model Ensemble for Validation 1\n",
      "19 - Ensemble with avg smape 1.39: \n",
      "20 - Ensemble with avg smape 1.27: \n",
      "21 - Ensemble with avg smape 2.73: \n",
      "22 - Ensemble with avg smape 1.71: \n",
      "23 - Ensemble with avg smape 4.27: \n",
      "24 - Ensemble with avg smape 1.68: \n",
      "Template Eval Error: Exception(\"Transformer HistoricValues failed on fit from params fake_date {'0': {'rows': 1, 'lag': 1, 'method': 'additive', 'strength': 1.0, 'first_value_only': False, 'threshold': 10, 'threshold_method': 'mean'}, '1': {'window': 28}} with error KeyError('2')\") in model 24 in generation 0: Ensemble\n",
      "Model Number: 25 of 9 with model Ensemble for Validation 1\n",
      "25 - Ensemble with avg smape 1.34: \n",
      "26 - Ensemble with avg smape 1.19: \n",
      "27 - Ensemble with avg smape 2.79: \n",
      "28 - Ensemble with avg smape 1.77: \n",
      "29 - Ensemble with avg smape 4.27: \n",
      "30 - Ensemble with avg smape 1.68: \n",
      "Template Eval Error: Exception(\"Transformer HistoricValues failed on fit from params fake_date {'0': {'rows': 1, 'lag': 1, 'method': 'additive', 'strength': 1.0, 'first_value_only': False, 'threshold': 10, 'threshold_method': 'mean'}, '1': {'window': 28}} with error KeyError('2')\") in model 30 in generation 0: Ensemble\n",
      "Model Number: 31 of 9 with model Ensemble for Validation 1\n",
      "31 - Ensemble with avg smape 1.41: \n",
      "32 - Ensemble with avg smape 1.26: \n",
      "33 - Ensemble with avg smape 2.91: \n",
      "34 - Ensemble with avg smape 1.72: \n",
      "35 - Ensemble with avg smape 4.27: \n",
      "36 - Ensemble with avg smape 1.68: \n",
      "Template Eval Error: Exception(\"Transformer HistoricValues failed on fit from params fake_date {'0': {'rows': 1, 'lag': 1, 'method': 'additive', 'strength': 1.0, 'first_value_only': False, 'threshold': 10, 'threshold_method': 'mean'}, '1': {'window': 28}} with error KeyError('2')\") in model 36 in generation 0: Ensemble\n",
      "Model Number: 37 of 9 with model Ensemble for Validation 1\n",
      "37 - Ensemble with avg smape 1.26: \n",
      "38 - Ensemble with avg smape 1.15: \n",
      "39 - Ensemble with avg smape 2.81: \n",
      "40 - Ensemble with avg smape 1.63: \n",
      "41 - Ensemble with avg smape 4.27: \n",
      "42 - Ensemble with avg smape 1.58: \n",
      "Template Eval Error: Exception(\"Transformer HistoricValues failed on fit from params fake_date {'0': {'rows': 1, 'lag': 1, 'method': 'additive', 'strength': 1.0, 'first_value_only': False, 'threshold': 10, 'threshold_method': 'mean'}, '1': {'window': 28}} with error KeyError('2')\") in model 42 in generation 0: Ensemble\n",
      "Model Number: 43 of 9 with model Ensemble for Validation 1\n"
     ]
    },
    {
     "name": "stderr",
     "output_type": "stream",
     "text": [
      "C:\\ProgramData\\anaconda3\\envs\\nlp-env\\lib\\site-packages\\numpy\\lib\\function_base.py:2853: RuntimeWarning: invalid value encountered in divide\n",
      "  c /= stddev[:, None]\n",
      "C:\\ProgramData\\anaconda3\\envs\\nlp-env\\lib\\site-packages\\numpy\\lib\\function_base.py:2854: RuntimeWarning: invalid value encountered in divide\n",
      "  c /= stddev[None, :]\n"
     ]
    },
    {
     "name": "stdout",
     "output_type": "stream",
     "text": [
      "43 - Ensemble with avg smape 1.43: \n",
      "44 - Ensemble with avg smape 1.28: \n",
      "45 - Ensemble with avg smape 2.95: \n",
      "46 - Ensemble with avg smape 1.71: \n",
      "47 - Ensemble with avg smape 4.27: \n",
      "48 - Ensemble with avg smape 1.68: \n",
      "Template Eval Error: Exception(\"Transformer HistoricValues failed on fit from params fake_date {'0': {'rows': 1, 'lag': 1, 'method': 'additive', 'strength': 1.0, 'first_value_only': False, 'threshold': 10, 'threshold_method': 'mean'}, '1': {'window': 28}} with error KeyError('2')\") in model 48 in generation 0: Ensemble\n",
      "Model Number: 49 of 9 with model Ensemble for Validation 1\n",
      "49 - Ensemble with avg smape 1.41: \n",
      "50 - Ensemble with avg smape 1.26: \n",
      "51 - Ensemble with avg smape 2.91: \n",
      "52 - Ensemble with avg smape 1.72: \n",
      "53 - Ensemble with avg smape 4.27: \n",
      "54 - Ensemble with avg smape 1.68: \n",
      "Template Eval Error: Exception(\"Transformer HistoricValues failed on fit from params fake_date {'0': {'rows': 1, 'lag': 1, 'method': 'additive', 'strength': 1.0, 'first_value_only': False, 'threshold': 10, 'threshold_method': 'mean'}, '1': {'window': 28}} with error KeyError('2')\") in model 54 in generation 0: Ensemble\n",
      "Validation Round: 2\n",
      "Model Number: 1 of 9 with model Ensemble for Validation 2\n",
      "📈 1 - Ensemble with avg smape 1.66: \n",
      "📈 2 - Ensemble with avg smape 1.62: \n",
      "3 - Ensemble with avg smape 2.21: \n",
      "📈 4 - Ensemble with avg smape 1.1: \n",
      "5 - Ensemble with avg smape 2.61: \n",
      "6 - Ensemble with avg smape 7.06: \n",
      "Template Eval Error: Exception(\"Transformer HistoricValues failed on fit from params fake_date {'0': {'rows': 1, 'lag': 1, 'method': 'additive', 'strength': 1.0, 'first_value_only': False, 'threshold': 10, 'threshold_method': 'mean'}, '1': {'window': 28}} with error KeyError('2')\") in model 6 in generation 0: Ensemble\n",
      "Model Number: 7 of 9 with model Ensemble for Validation 2\n",
      "7 - Ensemble with avg smape 1.9: \n",
      "8 - Ensemble with avg smape 1.83: \n",
      "9 - Ensemble with avg smape 2.07: \n",
      "10 - Ensemble with avg smape 1.61: \n",
      "11 - Ensemble with avg smape 2.61: \n",
      "12 - Ensemble with avg smape 7.06: \n",
      "Template Eval Error: Exception(\"Transformer HistoricValues failed on fit from params fake_date {'0': {'rows': 1, 'lag': 1, 'method': 'additive', 'strength': 1.0, 'first_value_only': False, 'threshold': 10, 'threshold_method': 'mean'}, '1': {'window': 28}} with error KeyError('2')\") in model 12 in generation 0: Ensemble\n",
      "Model Number: 13 of 9 with model Ensemble for Validation 2\n",
      "13 - Ensemble with avg smape 1.66: \n",
      "14 - Ensemble with avg smape 1.65: \n",
      "15 - Ensemble with avg smape 2.02: \n",
      "16 - Ensemble with avg smape 1.29: \n",
      "17 - Ensemble with avg smape 2.61: \n",
      "18 - Ensemble with avg smape 7.06: \n",
      "Template Eval Error: Exception(\"Transformer HistoricValues failed on fit from params fake_date {'0': {'rows': 1, 'lag': 1, 'method': 'additive', 'strength': 1.0, 'first_value_only': False, 'threshold': 10, 'threshold_method': 'mean'}, '1': {'window': 28}} with error KeyError('2')\") in model 18 in generation 0: Ensemble\n",
      "Model Number: 19 of 9 with model Ensemble for Validation 2\n",
      "19 - Ensemble with avg smape 1.59: \n",
      "20 - Ensemble with avg smape 1.57: \n",
      "21 - Ensemble with avg smape 2.03: \n",
      "22 - Ensemble with avg smape 1.11: \n",
      "23 - Ensemble with avg smape 2.61: \n",
      "24 - Ensemble with avg smape 7.06: \n",
      "Template Eval Error: Exception(\"Transformer HistoricValues failed on fit from params fake_date {'0': {'rows': 1, 'lag': 1, 'method': 'additive', 'strength': 1.0, 'first_value_only': False, 'threshold': 10, 'threshold_method': 'mean'}, '1': {'window': 28}} with error KeyError('2')\") in model 24 in generation 0: Ensemble\n",
      "Model Number: 25 of 9 with model Ensemble for Validation 2\n",
      "25 - Ensemble with avg smape 1.63: \n",
      "26 - Ensemble with avg smape 1.6: \n",
      "27 - Ensemble with avg smape 2.11: \n",
      "28 - Ensemble with avg smape 1.22: \n",
      "29 - Ensemble with avg smape 2.61: \n",
      "30 - Ensemble with avg smape 7.06: \n",
      "Template Eval Error: Exception(\"Transformer HistoricValues failed on fit from params fake_date {'0': {'rows': 1, 'lag': 1, 'method': 'additive', 'strength': 1.0, 'first_value_only': False, 'threshold': 10, 'threshold_method': 'mean'}, '1': {'window': 28}} with error KeyError('2')\") in model 30 in generation 0: Ensemble\n",
      "Model Number: 31 of 9 with model Ensemble for Validation 2\n",
      "31 - Ensemble with avg smape 1.66: \n",
      "32 - Ensemble with avg smape 1.62: \n",
      "33 - Ensemble with avg smape 2.21: \n",
      "34 - Ensemble with avg smape 1.1: \n",
      "35 - Ensemble with avg smape 2.61: \n",
      "36 - Ensemble with avg smape 7.06: \n",
      "Template Eval Error: Exception(\"Transformer HistoricValues failed on fit from params fake_date {'0': {'rows': 1, 'lag': 1, 'method': 'additive', 'strength': 1.0, 'first_value_only': False, 'threshold': 10, 'threshold_method': 'mean'}, '1': {'window': 28}} with error KeyError('2')\") in model 36 in generation 0: Ensemble\n",
      "Model Number: 37 of 9 with model Ensemble for Validation 2\n",
      "37 - Ensemble with avg smape 1.47: \n",
      "38 - Ensemble with avg smape 1.45: \n",
      "39 - Ensemble with avg smape 2.31: \n",
      "📈 40 - Ensemble with avg smape 1.03: \n",
      "41 - Ensemble with avg smape 2.61: \n",
      "42 - Ensemble with avg smape 7.06: \n",
      "Template Eval Error: Exception(\"Transformer HistoricValues failed on fit from params fake_date {'0': {'rows': 1, 'lag': 1, 'method': 'additive', 'strength': 1.0, 'first_value_only': False, 'threshold': 10, 'threshold_method': 'mean'}, '1': {'window': 28}} with error KeyError('2')\") in model 42 in generation 0: Ensemble\n",
      "Model Number: 43 of 9 with model Ensemble for Validation 2\n"
     ]
    },
    {
     "name": "stderr",
     "output_type": "stream",
     "text": [
      "C:\\ProgramData\\anaconda3\\envs\\nlp-env\\lib\\site-packages\\numpy\\lib\\function_base.py:2853: RuntimeWarning: invalid value encountered in divide\n",
      "  c /= stddev[:, None]\n",
      "C:\\ProgramData\\anaconda3\\envs\\nlp-env\\lib\\site-packages\\numpy\\lib\\function_base.py:2854: RuntimeWarning: invalid value encountered in divide\n",
      "  c /= stddev[None, :]\n"
     ]
    },
    {
     "name": "stdout",
     "output_type": "stream",
     "text": [
      "43 - Ensemble with avg smape 1.66: \n",
      "44 - Ensemble with avg smape 1.61: \n",
      "45 - Ensemble with avg smape 2.23: \n",
      "46 - Ensemble with avg smape 1.08: \n",
      "47 - Ensemble with avg smape 2.61: \n",
      "48 - Ensemble with avg smape 7.06: \n",
      "Template Eval Error: Exception(\"Transformer HistoricValues failed on fit from params fake_date {'0': {'rows': 1, 'lag': 1, 'method': 'additive', 'strength': 1.0, 'first_value_only': False, 'threshold': 10, 'threshold_method': 'mean'}, '1': {'window': 28}} with error KeyError('2')\") in model 48 in generation 0: Ensemble\n",
      "Model Number: 49 of 9 with model Ensemble for Validation 2\n",
      "49 - Ensemble with avg smape 1.66: \n",
      "50 - Ensemble with avg smape 1.62: \n",
      "51 - Ensemble with avg smape 2.21: \n",
      "52 - Ensemble with avg smape 1.1: \n",
      "53 - Ensemble with avg smape 2.61: \n",
      "54 - Ensemble with avg smape 7.06: \n",
      "Template Eval Error: Exception(\"Transformer HistoricValues failed on fit from params fake_date {'0': {'rows': 1, 'lag': 1, 'method': 'additive', 'strength': 1.0, 'first_value_only': False, 'threshold': 10, 'threshold_method': 'mean'}, '1': {'window': 28}} with error KeyError('2')\") in model 54 in generation 0: Ensemble\n",
      "Validation Round: 3\n",
      "Model Number: 1 of 9 with model Ensemble for Validation 3\n",
      "📈 1 - Ensemble with avg smape 3.58: \n",
      "📈 2 - Ensemble with avg smape 3.42: \n",
      "📈 3 - Ensemble with avg smape 2.45: \n",
      "4 - Ensemble with avg smape 3.77: \n",
      "5 - Ensemble with avg smape 2.96: \n",
      "6 - Ensemble with avg smape 3.14: \n",
      "Template Eval Error: Exception(\"Transformer HistoricValues failed on fit from params fake_date {'0': {'rows': 1, 'lag': 1, 'method': 'additive', 'strength': 1.0, 'first_value_only': False, 'threshold': 10, 'threshold_method': 'mean'}, '1': {'window': 28}} with error KeyError('2')\") in model 6 in generation 0: Ensemble\n",
      "Model Number: 7 of 9 with model Ensemble for Validation 3\n",
      "7 - Ensemble with avg smape 3.91: \n",
      "8 - Ensemble with avg smape 3.73: \n",
      "9 - Ensemble with avg smape 2.67: \n",
      "10 - Ensemble with avg smape 3.99: \n",
      "11 - Ensemble with avg smape 2.95: \n",
      "12 - Ensemble with avg smape 3.18: \n",
      "Template Eval Error: Exception(\"Transformer HistoricValues failed on fit from params fake_date {'0': {'rows': 1, 'lag': 1, 'method': 'additive', 'strength': 1.0, 'first_value_only': False, 'threshold': 10, 'threshold_method': 'mean'}, '1': {'window': 28}} with error KeyError('2')\") in model 12 in generation 0: Ensemble\n",
      "Model Number: 13 of 9 with model Ensemble for Validation 3\n",
      "13 - Ensemble with avg smape 3.89: \n",
      "14 - Ensemble with avg smape 3.69: \n",
      "15 - Ensemble with avg smape 2.48: \n",
      "16 - Ensemble with avg smape 4.06: \n",
      "17 - Ensemble with avg smape 2.95: \n",
      "18 - Ensemble with avg smape 3.25: \n",
      "Template Eval Error: Exception(\"Transformer HistoricValues failed on fit from params fake_date {'0': {'rows': 1, 'lag': 1, 'method': 'additive', 'strength': 1.0, 'first_value_only': False, 'threshold': 10, 'threshold_method': 'mean'}, '1': {'window': 28}} with error KeyError('2')\") in model 18 in generation 0: Ensemble\n",
      "Model Number: 19 of 9 with model Ensemble for Validation 3\n",
      "19 - Ensemble with avg smape 4.25: \n",
      "20 - Ensemble with avg smape 4.02: \n",
      "21 - Ensemble with avg smape 2.66: \n",
      "22 - Ensemble with avg smape 4.4: \n",
      "23 - Ensemble with avg smape 2.95: \n",
      "24 - Ensemble with avg smape 3.23: \n",
      "Template Eval Error: Exception(\"Transformer HistoricValues failed on fit from params fake_date {'0': {'rows': 1, 'lag': 1, 'method': 'additive', 'strength': 1.0, 'first_value_only': False, 'threshold': 10, 'threshold_method': 'mean'}, '1': {'window': 28}} with error KeyError('2')\") in model 24 in generation 0: Ensemble\n",
      "Model Number: 25 of 9 with model Ensemble for Validation 3\n",
      "25 - Ensemble with avg smape 3.99: \n",
      "26 - Ensemble with avg smape 3.78: \n",
      "27 - Ensemble with avg smape 2.5: \n",
      "28 - Ensemble with avg smape 4.13: \n",
      "29 - Ensemble with avg smape 2.95: \n",
      "30 - Ensemble with avg smape 3.25: \n",
      "Template Eval Error: Exception(\"Transformer HistoricValues failed on fit from params fake_date {'0': {'rows': 1, 'lag': 1, 'method': 'additive', 'strength': 1.0, 'first_value_only': False, 'threshold': 10, 'threshold_method': 'mean'}, '1': {'window': 28}} with error KeyError('2')\") in model 30 in generation 0: Ensemble\n",
      "Model Number: 31 of 9 with model Ensemble for Validation 3\n",
      "31 - Ensemble with avg smape 3.58: \n",
      "32 - Ensemble with avg smape 3.42: \n",
      "33 - Ensemble with avg smape 2.45: \n",
      "34 - Ensemble with avg smape 3.77: \n",
      "35 - Ensemble with avg smape 2.96: \n",
      "36 - Ensemble with avg smape 3.14: \n",
      "Template Eval Error: Exception(\"Transformer HistoricValues failed on fit from params fake_date {'0': {'rows': 1, 'lag': 1, 'method': 'additive', 'strength': 1.0, 'first_value_only': False, 'threshold': 10, 'threshold_method': 'mean'}, '1': {'window': 28}} with error KeyError('2')\") in model 36 in generation 0: Ensemble\n",
      "Model Number: 37 of 9 with model Ensemble for Validation 3\n",
      "37 - Ensemble with avg smape 4.08: \n",
      "38 - Ensemble with avg smape 3.87: \n",
      "39 - Ensemble with avg smape 2.69: \n",
      "40 - Ensemble with avg smape 4.12: \n",
      "41 - Ensemble with avg smape 2.95: \n",
      "42 - Ensemble with avg smape 3.25: \n",
      "Template Eval Error: Exception(\"Transformer HistoricValues failed on fit from params fake_date {'0': {'rows': 1, 'lag': 1, 'method': 'additive', 'strength': 1.0, 'first_value_only': False, 'threshold': 10, 'threshold_method': 'mean'}, '1': {'window': 28}} with error KeyError('2')\") in model 42 in generation 0: Ensemble\n",
      "Model Number: 43 of 9 with model Ensemble for Validation 3\n"
     ]
    },
    {
     "name": "stderr",
     "output_type": "stream",
     "text": [
      "C:\\ProgramData\\anaconda3\\envs\\nlp-env\\lib\\site-packages\\numpy\\lib\\function_base.py:2853: RuntimeWarning: invalid value encountered in divide\n",
      "  c /= stddev[:, None]\n",
      "C:\\ProgramData\\anaconda3\\envs\\nlp-env\\lib\\site-packages\\numpy\\lib\\function_base.py:2854: RuntimeWarning: invalid value encountered in divide\n",
      "  c /= stddev[None, :]\n"
     ]
    },
    {
     "name": "stdout",
     "output_type": "stream",
     "text": [
      "43 - Ensemble with avg smape 3.6: \n",
      "44 - Ensemble with avg smape 3.43: \n",
      "45 - Ensemble with avg smape 2.45: \n",
      "46 - Ensemble with avg smape 3.8: \n",
      "47 - Ensemble with avg smape 2.96: \n",
      "48 - Ensemble with avg smape 3.14: \n",
      "Template Eval Error: Exception(\"Transformer HistoricValues failed on fit from params fake_date {'0': {'rows': 1, 'lag': 1, 'method': 'additive', 'strength': 1.0, 'first_value_only': False, 'threshold': 10, 'threshold_method': 'mean'}, '1': {'window': 28}} with error KeyError('2')\") in model 48 in generation 0: Ensemble\n",
      "Model Number: 49 of 9 with model Ensemble for Validation 3\n",
      "49 - Ensemble with avg smape 3.58: \n",
      "50 - Ensemble with avg smape 3.42: \n",
      "51 - Ensemble with avg smape 2.45: \n",
      "52 - Ensemble with avg smape 3.77: \n",
      "53 - Ensemble with avg smape 2.96: \n",
      "54 - Ensemble with avg smape 3.14: \n",
      "Template Eval Error: Exception(\"Transformer HistoricValues failed on fit from params fake_date {'0': {'rows': 1, 'lag': 1, 'method': 'additive', 'strength': 1.0, 'first_value_only': False, 'threshold': 10, 'threshold_method': 'mean'}, '1': {'window': 28}} with error KeyError('2')\") in model 54 in generation 0: Ensemble\n"
     ]
    }
   ],
   "source": [
    "#AUTOTS KÜTÜPHANESİNİ İMPORT EDİYORUZ BİZİM İÇİN EN İYİ OLAN MODELİ EĞİTİP SEÇİYOR.\n",
    "from autots import AutoTS\n",
    "model = AutoTS(forecast_length=10, frequency='infer', \n",
    "               ensemble='simple', drop_data_older_than_periods=200)\n",
    "model = model.fit(data, date_col='Date', value_col='Close', id_col=None)"
   ]
  },
  {
   "cell_type": "code",
   "execution_count": 12,
   "id": "8a1753b6-89e0-4f0c-a7f5-982e0bd6f521",
   "metadata": {},
   "outputs": [
    {
     "name": "stdout",
     "output_type": "stream",
     "text": [
      "Stock Price Prediction of Apple\n",
      "                 Close\n",
      "2025-09-22  245.500000\n",
      "2025-09-23  242.979677\n",
      "2025-09-24  242.228603\n",
      "2025-09-25  241.393979\n",
      "2025-09-26  243.286904\n",
      "2025-09-29  244.090883\n",
      "2025-09-30  244.959545\n",
      "2025-10-01  244.245140\n",
      "2025-10-02  244.899971\n",
      "2025-10-03  245.154113\n"
     ]
    },
    {
     "name": "stderr",
     "output_type": "stream",
     "text": [
      "C:\\ProgramData\\anaconda3\\envs\\nlp-env\\lib\\site-packages\\sklearn\\linear_model\\_coordinate_descent.py:631: ConvergenceWarning: Objective did not converge. You might want to increase the number of iterations, check the scale of the features or consider increasing regularisation. Duality gap: 1.508e+03, tolerance: 4.592e+00\n",
      "  model = cd_fast.enet_coordinate_descent(\n"
     ]
    }
   ],
   "source": [
    "#EĞİTTİĞİMİZ MODEL İLE TAHMİN YAPIYORUZ.\n",
    "prediction = model.predict()\n",
    "forecast = prediction.forecast\n",
    "print(\"Stock Price Prediction of Apple\")\n",
    "print(forecast)"
   ]
  },
  {
   "cell_type": "markdown",
   "id": "84eb1840-0457-429d-9d8e-a13f6e5de047",
   "metadata": {},
   "source": [
    "BU PROJEDE AUTOTS KÜTÜPHANESİ İLE APPLE HİSSE FİYATLARINI TAHMİN EDEN BİR MODEL EĞİTTİK."
   ]
  },
  {
   "cell_type": "code",
   "execution_count": null,
   "id": "210011d1-0e3b-4926-9bd6-e54566167710",
   "metadata": {},
   "outputs": [],
   "source": []
  }
 ],
 "metadata": {
  "kernelspec": {
   "display_name": "Python 3 (ipykernel)",
   "language": "python",
   "name": "python3"
  },
  "language_info": {
   "codemirror_mode": {
    "name": "ipython",
    "version": 3
   },
   "file_extension": ".py",
   "mimetype": "text/x-python",
   "name": "python",
   "nbconvert_exporter": "python",
   "pygments_lexer": "ipython3",
   "version": "3.10.18"
  }
 },
 "nbformat": 4,
 "nbformat_minor": 5
}
