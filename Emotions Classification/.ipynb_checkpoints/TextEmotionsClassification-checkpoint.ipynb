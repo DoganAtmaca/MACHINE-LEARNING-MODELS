{
 "cells": [
  {
   "cell_type": "code",
   "execution_count": 41,
   "id": "7dcb16fb-9b1b-4ea7-b9c8-500e7cd4da0a",
   "metadata": {},
   "outputs": [],
   "source": [
    "import pandas as pd\n",
    "import keras\n",
    "import numpy as np"
   ]
  },
  {
   "cell_type": "code",
   "execution_count": 9,
   "id": "19067b7d-a1b6-44d2-90bf-c087ef0bcb76",
   "metadata": {},
   "outputs": [],
   "source": [
    "data = pd.read_csv('emotions.txt', sep=';', header=None)"
   ]
  },
  {
   "cell_type": "code",
   "execution_count": 10,
   "id": "a559e155-f5dc-469e-a9ba-ef7ab96ccdd2",
   "metadata": {},
   "outputs": [
    {
     "data": {
      "text/html": [
       "<div>\n",
       "<style scoped>\n",
       "    .dataframe tbody tr th:only-of-type {\n",
       "        vertical-align: middle;\n",
       "    }\n",
       "\n",
       "    .dataframe tbody tr th {\n",
       "        vertical-align: top;\n",
       "    }\n",
       "\n",
       "    .dataframe thead th {\n",
       "        text-align: right;\n",
       "    }\n",
       "</style>\n",
       "<table border=\"1\" class=\"dataframe\">\n",
       "  <thead>\n",
       "    <tr style=\"text-align: right;\">\n",
       "      <th></th>\n",
       "      <th>0</th>\n",
       "      <th>1</th>\n",
       "    </tr>\n",
       "  </thead>\n",
       "  <tbody>\n",
       "    <tr>\n",
       "      <th>0</th>\n",
       "      <td>i didnt feel humiliated</td>\n",
       "      <td>sadness</td>\n",
       "    </tr>\n",
       "    <tr>\n",
       "      <th>1</th>\n",
       "      <td>i can go from feeling so hopeless to so damned...</td>\n",
       "      <td>sadness</td>\n",
       "    </tr>\n",
       "    <tr>\n",
       "      <th>2</th>\n",
       "      <td>im grabbing a minute to post i feel greedy wrong</td>\n",
       "      <td>anger</td>\n",
       "    </tr>\n",
       "    <tr>\n",
       "      <th>3</th>\n",
       "      <td>i am ever feeling nostalgic about the fireplac...</td>\n",
       "      <td>love</td>\n",
       "    </tr>\n",
       "    <tr>\n",
       "      <th>4</th>\n",
       "      <td>i am feeling grouchy</td>\n",
       "      <td>anger</td>\n",
       "    </tr>\n",
       "  </tbody>\n",
       "</table>\n",
       "</div>"
      ],
      "text/plain": [
       "                                                   0        1\n",
       "0                            i didnt feel humiliated  sadness\n",
       "1  i can go from feeling so hopeless to so damned...  sadness\n",
       "2   im grabbing a minute to post i feel greedy wrong    anger\n",
       "3  i am ever feeling nostalgic about the fireplac...     love\n",
       "4                               i am feeling grouchy    anger"
      ]
     },
     "execution_count": 10,
     "metadata": {},
     "output_type": "execute_result"
    }
   ],
   "source": [
    "data.head()"
   ]
  },
  {
   "cell_type": "code",
   "execution_count": 11,
   "id": "2f1ba3d8-b05c-4cd9-ac6f-2bfd78c31cc3",
   "metadata": {},
   "outputs": [],
   "source": [
    "data.columns=['Text','Emotions']"
   ]
  },
  {
   "cell_type": "code",
   "execution_count": 12,
   "id": "d6174f67-305f-4603-80b7-b14667546a2a",
   "metadata": {},
   "outputs": [
    {
     "data": {
      "text/html": [
       "<div>\n",
       "<style scoped>\n",
       "    .dataframe tbody tr th:only-of-type {\n",
       "        vertical-align: middle;\n",
       "    }\n",
       "\n",
       "    .dataframe tbody tr th {\n",
       "        vertical-align: top;\n",
       "    }\n",
       "\n",
       "    .dataframe thead th {\n",
       "        text-align: right;\n",
       "    }\n",
       "</style>\n",
       "<table border=\"1\" class=\"dataframe\">\n",
       "  <thead>\n",
       "    <tr style=\"text-align: right;\">\n",
       "      <th></th>\n",
       "      <th>Text</th>\n",
       "      <th>Emotions</th>\n",
       "    </tr>\n",
       "  </thead>\n",
       "  <tbody>\n",
       "    <tr>\n",
       "      <th>0</th>\n",
       "      <td>i didnt feel humiliated</td>\n",
       "      <td>sadness</td>\n",
       "    </tr>\n",
       "    <tr>\n",
       "      <th>1</th>\n",
       "      <td>i can go from feeling so hopeless to so damned...</td>\n",
       "      <td>sadness</td>\n",
       "    </tr>\n",
       "    <tr>\n",
       "      <th>2</th>\n",
       "      <td>im grabbing a minute to post i feel greedy wrong</td>\n",
       "      <td>anger</td>\n",
       "    </tr>\n",
       "    <tr>\n",
       "      <th>3</th>\n",
       "      <td>i am ever feeling nostalgic about the fireplac...</td>\n",
       "      <td>love</td>\n",
       "    </tr>\n",
       "    <tr>\n",
       "      <th>4</th>\n",
       "      <td>i am feeling grouchy</td>\n",
       "      <td>anger</td>\n",
       "    </tr>\n",
       "  </tbody>\n",
       "</table>\n",
       "</div>"
      ],
      "text/plain": [
       "                                                Text Emotions\n",
       "0                            i didnt feel humiliated  sadness\n",
       "1  i can go from feeling so hopeless to so damned...  sadness\n",
       "2   im grabbing a minute to post i feel greedy wrong    anger\n",
       "3  i am ever feeling nostalgic about the fireplac...     love\n",
       "4                               i am feeling grouchy    anger"
      ]
     },
     "execution_count": 12,
     "metadata": {},
     "output_type": "execute_result"
    }
   ],
   "source": [
    "data.head()"
   ]
  },
  {
   "cell_type": "code",
   "execution_count": 13,
   "id": "80062b38-f981-4099-a707-7fc8d7fed762",
   "metadata": {},
   "outputs": [
    {
     "data": {
      "text/plain": [
       "Text        0\n",
       "Emotions    0\n",
       "dtype: int64"
      ]
     },
     "execution_count": 13,
     "metadata": {},
     "output_type": "execute_result"
    }
   ],
   "source": [
    "data.isnull().sum()"
   ]
  },
  {
   "cell_type": "code",
   "execution_count": 15,
   "id": "1774fa26-bf66-4371-bfb2-029607cfbb72",
   "metadata": {},
   "outputs": [
    {
     "data": {
      "text/plain": [
       "joy         5362\n",
       "sadness     4666\n",
       "anger       2159\n",
       "fear        1937\n",
       "love        1304\n",
       "surprise     572\n",
       "Name: Emotions, dtype: int64"
      ]
     },
     "execution_count": 15,
     "metadata": {},
     "output_type": "execute_result"
    }
   ],
   "source": [
    "#6 ADET SINIFIMIZ VAR.\n",
    "data['Emotions'].value_counts()"
   ]
  },
  {
   "cell_type": "code",
   "execution_count": 19,
   "id": "c26c861c-8dee-4156-9e54-f2e3e7b21fb9",
   "metadata": {},
   "outputs": [],
   "source": [
    "#DATAFRAME DE OLAN SATIRLARI LİSTE ŞEKLİNE GETİRDİK.\n",
    "texts = data['Text'].to_list()\n",
    "labels = data['Emotions'].to_list()"
   ]
  },
  {
   "cell_type": "code",
   "execution_count": 20,
   "id": "07ed9842-2a49-4940-814d-389d064f45d0",
   "metadata": {},
   "outputs": [],
   "source": [
    "from keras.preprocessing.text import Tokenizer\n",
    "from tensorflow.keras.preprocessing.sequence import pad_sequences"
   ]
  },
  {
   "cell_type": "code",
   "execution_count": 21,
   "id": "b00eb6c4-016a-4b3f-8b98-545a864de4a9",
   "metadata": {},
   "outputs": [],
   "source": [
    "#TEXTS LİSTESİNDEKİ ELEMANLARI(CÜMLELERİ) TOKENİZE ETTİK\n",
    "tokenizer = Tokenizer()\n",
    "tokenizer.fit_on_texts(texts)"
   ]
  },
  {
   "cell_type": "code",
   "execution_count": 24,
   "id": "cfd3ff43-feb0-4e4b-856f-f06fc2bcd6a0",
   "metadata": {},
   "outputs": [],
   "source": [
    "#AŞAĞIDAKİ KOD İLE TOKENİZE ETTİĞİMİZ TEXTS LİSTESİNDEKİ ELEMANLARI(CÜMLELERİ) SAYIYA ÇEVİRDİK VE PAD_SEQUENCES İLE TÜM KELİMELERİ AYNI UZUNLUĞA GETİRDİK.\n",
    "sequence = tokenizer.texts_to_sequences(texts)\n",
    "max_length = max([len(seq) for seq in sequence])\n",
    "sequences = pad_sequences(sequence, maxlen=max_length)"
   ]
  },
  {
   "cell_type": "code",
   "execution_count": 26,
   "id": "e4e1639e-03e2-434c-9843-029cf7ed0a9c",
   "metadata": {},
   "outputs": [],
   "source": [
    "from sklearn.preprocessing import LabelEncoder"
   ]
  },
  {
   "cell_type": "code",
   "execution_count": 28,
   "id": "8772f105-8dc2-4173-80a6-e8c023f3ab5a",
   "metadata": {},
   "outputs": [],
   "source": [
    "#EMOTIONS SÜTUNUNDA BULUNAN VERİLERİ ENCODE ETTİK\n",
    "encoder = LabelEncoder()\n",
    "label_encode = encoder.fit_transform(labels)"
   ]
  },
  {
   "cell_type": "code",
   "execution_count": 32,
   "id": "67d1cf14-40ca-48d8-bedf-b9f03b022a7b",
   "metadata": {},
   "outputs": [],
   "source": [
    "one_hot_labels = keras.utils.to_categorical(label_encode)"
   ]
  },
  {
   "cell_type": "code",
   "execution_count": 33,
   "id": "b24bf233-47a0-44e1-97c3-6f068ff967b8",
   "metadata": {},
   "outputs": [],
   "source": [
    "from sklearn.model_selection import train_test_split\n",
    "from keras.models import Sequential\n",
    "from keras.layers import Embedding, Flatten, Dense"
   ]
  },
  {
   "cell_type": "code",
   "execution_count": 34,
   "id": "e672556d-8709-48b0-9c5d-d95d62972cc3",
   "metadata": {},
   "outputs": [],
   "source": [
    "xtrain, xtest, ytrain, ytest = train_test_split(sequences,one_hot_labels,test_size=0.2,random_state=25)"
   ]
  },
  {
   "cell_type": "code",
   "execution_count": 36,
   "id": "875ae1c0-d978-465d-9c45-fcdc2e8ffa84",
   "metadata": {},
   "outputs": [],
   "source": [
    "#MODELİMİZİ TANIMLADIK.\n",
    "model = Sequential()\n",
    "model.add(Embedding(input_dim=len(tokenizer.word_index)+1, output_dim=128, input_length=max_length))\n",
    "model.add(Flatten()) # 2D VEKTÖRÜ TEK BOYUTLU HALE GETİRMEK İÇİN KULLANDIK.\n",
    "model.add(Dense(units=128, activation=\"relu\"))\n",
    "model.add(Dense(6, activation=\"softmax\")) # BURADA 6 TANE SINIFIMIZ OLDUĞU İÇİN 6 YAZDIK.\n",
    "\n",
    "model.compile(optimizer=\"adam\", loss=\"categorical_crossentropy\", metrics=[\"accuracy\"])"
   ]
  },
  {
   "cell_type": "code",
   "execution_count": 37,
   "id": "ebd2b323-8cd7-4b69-b831-d8a9bd76e3a0",
   "metadata": {},
   "outputs": [
    {
     "name": "stdout",
     "output_type": "stream",
     "text": [
      "Epoch 1/10\n",
      "400/400 [==============================] - 5s 11ms/step - loss: 1.3482 - accuracy: 0.4916 - val_loss: 0.8736 - val_accuracy: 0.7172\n",
      "Epoch 2/10\n",
      "400/400 [==============================] - 4s 11ms/step - loss: 0.3595 - accuracy: 0.8895 - val_loss: 0.5632 - val_accuracy: 0.8144\n",
      "Epoch 3/10\n",
      "400/400 [==============================] - 4s 11ms/step - loss: 0.0657 - accuracy: 0.9834 - val_loss: 0.5474 - val_accuracy: 0.8269\n",
      "Epoch 4/10\n",
      "400/400 [==============================] - 4s 11ms/step - loss: 0.0276 - accuracy: 0.9948 - val_loss: 0.5748 - val_accuracy: 0.8278\n",
      "Epoch 5/10\n",
      "400/400 [==============================] - 4s 11ms/step - loss: 0.0193 - accuracy: 0.9964 - val_loss: 0.6175 - val_accuracy: 0.8238\n",
      "Epoch 6/10\n",
      "400/400 [==============================] - 4s 11ms/step - loss: 0.0139 - accuracy: 0.9970 - val_loss: 0.6738 - val_accuracy: 0.8206\n",
      "Epoch 7/10\n",
      "400/400 [==============================] - 5s 12ms/step - loss: 0.0133 - accuracy: 0.9967 - val_loss: 0.6871 - val_accuracy: 0.8194\n",
      "Epoch 8/10\n",
      "400/400 [==============================] - 4s 11ms/step - loss: 0.0110 - accuracy: 0.9974 - val_loss: 0.7570 - val_accuracy: 0.8191\n",
      "Epoch 9/10\n",
      "400/400 [==============================] - 4s 11ms/step - loss: 0.0098 - accuracy: 0.9976 - val_loss: 0.8370 - val_accuracy: 0.8116\n",
      "Epoch 10/10\n",
      "400/400 [==============================] - 4s 11ms/step - loss: 0.0099 - accuracy: 0.9975 - val_loss: 0.7449 - val_accuracy: 0.8184\n"
     ]
    },
    {
     "data": {
      "text/plain": [
       "<keras.callbacks.History at 0x293d21d7bb0>"
      ]
     },
     "execution_count": 37,
     "metadata": {},
     "output_type": "execute_result"
    }
   ],
   "source": [
    "model.fit(xtrain, ytrain, epochs=10, batch_size=32, validation_data=(xtest, ytest))"
   ]
  },
  {
   "cell_type": "code",
   "execution_count": 43,
   "id": "9e6a423d-d49b-4cca-a78c-5fded246620a",
   "metadata": {},
   "outputs": [
    {
     "name": "stdout",
     "output_type": "stream",
     "text": [
      "1/1 [==============================] - 0s 13ms/step\n",
      "['joy']\n"
     ]
    }
   ],
   "source": [
    "#AŞAĞIDA İNPUT TEXT İLE MODELİMİZİ DENİYORUZ.\n",
    "input_text = 'It could have been better but at this stage this result is really good'\n",
    "\n",
    "input_sequence = tokenizer.texts_to_sequences([input_text])\n",
    "padded_input_sequence = pad_sequences(input_sequence, maxlen=max_length)\n",
    "prediction = model.predict(padded_input_sequence)\n",
    "predicted_label = encoder.inverse_transform([np.argmax(prediction[0])])\n",
    "print(predicted_label)"
   ]
  },
  {
   "cell_type": "markdown",
   "id": "136639dd-00d7-488e-8fee-f002103fe141",
   "metadata": {},
   "source": [
    "BU PROJEDE %99 LUK BİR BAŞARI ELDE ETTİK VE SON SATIRDA KODUMUZU KENDİ YAZDIĞIMIZ BİR TEXT İLE DENEYEREK SONUCUNU GÖRDÜK."
   ]
  },
  {
   "cell_type": "code",
   "execution_count": null,
   "id": "d34577ee-548e-4e05-bf4e-c941e59873de",
   "metadata": {},
   "outputs": [],
   "source": []
  }
 ],
 "metadata": {
  "kernelspec": {
   "display_name": "Python 3 (ipykernel)",
   "language": "python",
   "name": "python3"
  },
  "language_info": {
   "codemirror_mode": {
    "name": "ipython",
    "version": 3
   },
   "file_extension": ".py",
   "mimetype": "text/x-python",
   "name": "python",
   "nbconvert_exporter": "python",
   "pygments_lexer": "ipython3",
   "version": "3.10.18"
  }
 },
 "nbformat": 4,
 "nbformat_minor": 5
}
