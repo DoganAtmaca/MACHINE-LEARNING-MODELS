{
 "cells": [
  {
   "cell_type": "markdown",
   "id": "4d1123ec-8af0-4f0b-a412-dff2ee4016b3",
   "metadata": {},
   "source": [
    "BU PROJEDE ÇİÇEK TÜRLERİNE GÖRE BİR MODEL EĞİTECEĞİZ. 5 ÇİÇEK TÜRÜNDEN TOPLAM 5 BİNE YAKIN RESİM BULUNMAKTA."
   ]
  },
  {
   "cell_type": "code",
   "execution_count": 119,
   "id": "ef62157a-dc8a-495b-8142-24405ab221e2",
   "metadata": {},
   "outputs": [],
   "source": [
    "import cv2\n",
    "import os\n",
    "import numpy as np\n",
    "from sklearn.model_selection import train_test_split\n",
    "from tensorflow.keras.models import Sequential\n",
    "from tensorflow.keras.layers import Dense, Dropout, Flatten, Activation, Conv2D, MaxPooling2D\n",
    "from tensorflow.keras.preprocessing.image import ImageDataGenerator\n",
    "from sklearn.preprocessing import LabelEncoder\n",
    "from tensorflow.keras.callbacks import EarlyStopping"
   ]
  },
  {
   "cell_type": "code",
   "execution_count": 107,
   "id": "8c1ad055-9bea-4a89-bf42-2ba7cddfffc8",
   "metadata": {},
   "outputs": [],
   "source": [
    "data_path =\"C:/Users/PC/Desktop/Flowers Computer Vision/flowers\""
   ]
  },
  {
   "cell_type": "code",
   "execution_count": 108,
   "id": "9d799223-f03d-4483-aab0-e1fe31fc89fd",
   "metadata": {},
   "outputs": [],
   "source": [
    "label = []\n",
    "img_array = []"
   ]
  },
  {
   "cell_type": "code",
   "execution_count": 109,
   "id": "3df0dc31-bb00-4d9a-bfc5-099c75a0c47c",
   "metadata": {},
   "outputs": [],
   "source": [
    "#BURADA KLASÖR İSİMLERİNİ ÇİÇEK TÜRLERİ OLMASI NEDENİYLE LABEL İSİMLİ LİSTEYE EKLİYORUZ. HER BİR KLASÖR İÇERİSİNDEKİ RESİMLERİ İSE CV2 İLE \n",
    "#OKUYUP İMG_ARRAY İSİMLİ LİSTEYE EKLİYORUZ.\n",
    "for path in os.listdir(data_path):\n",
    "    for img_path in os.listdir(os.path.join(data_path,path)):\n",
    "        if img_path.endswith('jpg'):\n",
    "            label.append(path)\n",
    "            img = cv2.imread(os.path.join(data_path,path,img_path))\n",
    "            img_rgb = cv2.cvtColor(img, cv2.COLOR_BGR2RGB) # mavi yeşil kırmızı olan renkleri kırmızı yeşil maviye çeviriyoruz.\n",
    "            im = cv2.resize(img_rgb,(128,128))\n",
    "            img_array.append(im)\n",
    "        else:\n",
    "            continue"
   ]
  },
  {
   "cell_type": "code",
   "execution_count": 110,
   "id": "ce49cfe3-8113-45dc-b21c-4c81cb40310f",
   "metadata": {},
   "outputs": [],
   "source": [
    "#ÇİÇEK İSİMLERİNİ ENCODE EDİYORUZ.\n",
    "le = LabelEncoder()\n",
    "label_encode = le.fit_transform(label)"
   ]
  },
  {
   "cell_type": "code",
   "execution_count": 111,
   "id": "920a407f-ef91-4607-9a9f-749cd35f84d1",
   "metadata": {},
   "outputs": [],
   "source": [
    "#RESİMLERİ VE LABEL'I NUMPY ARRAY OLARAK GÜNCELLİYORUZ.\n",
    "x = np.array(img_array)\n",
    "y = np.array(label_encode)"
   ]
  },
  {
   "cell_type": "code",
   "execution_count": 112,
   "id": "64220d8c-119e-4bec-9554-b26298af3c4f",
   "metadata": {},
   "outputs": [
    {
     "name": "stdout",
     "output_type": "stream",
     "text": [
      "x = (4317, 128, 128, 3)  y = (4317,)\n"
     ]
    }
   ],
   "source": [
    "print(f'x = {x.shape}  y = {y.shape}')"
   ]
  },
  {
   "cell_type": "code",
   "execution_count": 113,
   "id": "4a767326-ea60-4d76-88e1-99907bc3438a",
   "metadata": {},
   "outputs": [],
   "source": [
    "#RESİMLERİ 0 İLE 1 ARASINA SIKIŞTIRIYORUZ.\n",
    "x = x/255.0"
   ]
  },
  {
   "cell_type": "code",
   "execution_count": 114,
   "id": "382c0520-e750-402c-9fbc-f46401595351",
   "metadata": {},
   "outputs": [],
   "source": [
    "x_train, x_test, y_train, y_test = train_test_split(x,y, test_size=0.10, random_state = 25)"
   ]
  },
  {
   "cell_type": "code",
   "execution_count": 115,
   "id": "60c2c484-a624-463b-9a9c-7de150abd0c4",
   "metadata": {},
   "outputs": [
    {
     "name": "stdout",
     "output_type": "stream",
     "text": [
      "Model: \"sequential_5\"\n",
      "_________________________________________________________________\n",
      " Layer (type)                Output Shape              Param #   \n",
      "=================================================================\n",
      " conv2d_15 (Conv2D)          (None, 126, 126, 32)      896       \n",
      "                                                                 \n",
      " max_pooling2d_10 (MaxPoolin  (None, 63, 63, 32)       0         \n",
      " g2D)                                                            \n",
      "                                                                 \n",
      " conv2d_16 (Conv2D)          (None, 61, 61, 64)        18496     \n",
      "                                                                 \n",
      " max_pooling2d_11 (MaxPoolin  (None, 30, 30, 64)       0         \n",
      " g2D)                                                            \n",
      "                                                                 \n",
      " conv2d_17 (Conv2D)          (None, 28, 28, 128)       73856     \n",
      "                                                                 \n",
      " flatten_5 (Flatten)         (None, 100352)            0         \n",
      "                                                                 \n",
      " dense_10 (Dense)            (None, 128)               12845184  \n",
      "                                                                 \n",
      " dense_11 (Dense)            (None, 5)                 645       \n",
      "                                                                 \n",
      "=================================================================\n",
      "Total params: 12,939,077\n",
      "Trainable params: 12,939,077\n",
      "Non-trainable params: 0\n",
      "_________________________________________________________________\n"
     ]
    }
   ],
   "source": [
    "#MODELİMİZİ OLUŞTURUYORUZ.\n",
    "model = Sequential()\n",
    "model.add(Conv2D(32,(3,3),activation='relu', input_shape=(128,128,3)))\n",
    "model.add(MaxPooling2D(pool_size=(2,2)))\n",
    "model.add(Conv2D(64,(3,3),activation='relu'))\n",
    "model.add(MaxPooling2D(pool_size=(2,2)))\n",
    "model.add(Conv2D(128,(3,3),activation='relu'))\n",
    "model.add(Flatten())\n",
    "model.add(Dense(128, activation='relu'))\n",
    "model.add(Dense(5, activation='softmax'))\n",
    "model.compile(optimizer='adam', loss='sparse_categorical_crossentropy',metrics=['accuracy'])\n",
    "model.summary()"
   ]
  },
  {
   "cell_type": "code",
   "execution_count": 116,
   "id": "b24de0c0-5489-4f98-b68c-3102bcf7ac8e",
   "metadata": {},
   "outputs": [],
   "source": [
    "#YUKARIDAKİ TABLOYA GÖRE VERİMİZ YAKLAŞIK 13 MİLYON PARAMETRE İLE EĞİTİLECEK.\n",
    "#AŞAĞIDA DA RESİMLERİ ÇEVİRİP YUKARI AŞAĞI KAYDIRIP FARKLI ÖZELLİKLERİNİ MODELE TANITIYORUZ.\n",
    "data_gen = ImageDataGenerator(\n",
    "    rotation_range=15,\n",
    "    width_shift_range=0.1,\n",
    "    height_shift_range=0.1,\n",
    "    )\n",
    "data_gen.fit(x_train)"
   ]
  },
  {
   "cell_type": "code",
   "execution_count": 117,
   "id": "d67489e4-4bf3-4f65-add7-877143298f81",
   "metadata": {},
   "outputs": [],
   "source": [
    "#EĞİTİMİN NERDE DURMASI GEREKTİĞİNİ KENDİSİ BELİRLESİN VE EN İYİ SONUÇLARI DÖNDÜRSÜN DİYE EARLYSTOP TANIMLIYORUZ.\n",
    "earlystop=EarlyStopping(\n",
    "    patience=5,\n",
    "    monitor = 'val_loss',\n",
    "    restore_best_weights=True\n",
    ")"
   ]
  },
  {
   "cell_type": "code",
   "execution_count": 118,
   "id": "807a3d76-e046-4089-bc32-2b9fbee852d4",
   "metadata": {},
   "outputs": [
    {
     "name": "stdout",
     "output_type": "stream",
     "text": [
      "Epoch 1/50\n",
      "61/61 [==============================] - 19s 303ms/step - loss: 1.4216 - accuracy: 0.4157 - val_loss: 1.1283 - val_accuracy: 0.5532\n",
      "Epoch 2/50\n",
      "61/61 [==============================] - 17s 277ms/step - loss: 1.1029 - accuracy: 0.5501 - val_loss: 0.9806 - val_accuracy: 0.6204\n",
      "Epoch 3/50\n",
      "61/61 [==============================] - 17s 275ms/step - loss: 0.9924 - accuracy: 0.6075 - val_loss: 1.1158 - val_accuracy: 0.5880\n",
      "Epoch 4/50\n",
      "61/61 [==============================] - 17s 279ms/step - loss: 0.9072 - accuracy: 0.6422 - val_loss: 0.9199 - val_accuracy: 0.6736\n",
      "Epoch 5/50\n",
      "61/61 [==============================] - 17s 278ms/step - loss: 0.8336 - accuracy: 0.6798 - val_loss: 0.8448 - val_accuracy: 0.6991\n",
      "Epoch 6/50\n",
      "61/61 [==============================] - 17s 276ms/step - loss: 0.7969 - accuracy: 0.6901 - val_loss: 1.0264 - val_accuracy: 0.6690\n",
      "Epoch 7/50\n",
      "61/61 [==============================] - 17s 275ms/step - loss: 0.7414 - accuracy: 0.7127 - val_loss: 0.8897 - val_accuracy: 0.6968\n",
      "Epoch 8/50\n",
      "61/61 [==============================] - 17s 277ms/step - loss: 0.6986 - accuracy: 0.7300 - val_loss: 0.7836 - val_accuracy: 0.7245\n",
      "Epoch 9/50\n",
      "61/61 [==============================] - 17s 279ms/step - loss: 0.6876 - accuracy: 0.7400 - val_loss: 0.7777 - val_accuracy: 0.7130\n",
      "Epoch 10/50\n",
      "61/61 [==============================] - 17s 278ms/step - loss: 0.6435 - accuracy: 0.7506 - val_loss: 0.7674 - val_accuracy: 0.7199\n",
      "Epoch 11/50\n",
      "61/61 [==============================] - 17s 275ms/step - loss: 0.6107 - accuracy: 0.7611 - val_loss: 0.7745 - val_accuracy: 0.7153\n",
      "Epoch 12/50\n",
      "61/61 [==============================] - 17s 277ms/step - loss: 0.5918 - accuracy: 0.7748 - val_loss: 0.8683 - val_accuracy: 0.7222\n",
      "Epoch 13/50\n",
      "61/61 [==============================] - 17s 279ms/step - loss: 0.5607 - accuracy: 0.7828 - val_loss: 0.8317 - val_accuracy: 0.7269\n",
      "Epoch 14/50\n",
      "61/61 [==============================] - 17s 279ms/step - loss: 0.5070 - accuracy: 0.8028 - val_loss: 0.7793 - val_accuracy: 0.7431\n",
      "Epoch 15/50\n",
      "61/61 [==============================] - 17s 279ms/step - loss: 0.4981 - accuracy: 0.8057 - val_loss: 0.7702 - val_accuracy: 0.7407\n"
     ]
    },
    {
     "data": {
      "text/plain": [
       "<keras.callbacks.History at 0x2700c5f3130>"
      ]
     },
     "execution_count": 118,
     "metadata": {},
     "output_type": "execute_result"
    }
   ],
   "source": [
    "model.fit(data_gen.flow(x_train,y_train,batch_size=64), validation_data=(x_test,y_test), callbacks=[earlystop], epochs=50)"
   ]
  },
  {
   "cell_type": "markdown",
   "id": "79ba73f8-1f5e-4736-8dc3-8d62c085b92a",
   "metadata": {},
   "source": [
    "BU PROJEDE ÇİÇEK TÜRLERİNE GÖRE MODELİMİZİ EĞİTTİK. SON DEĞERLERE GÖRE YAKLAŞIK %80 LİK BİR BAŞARI ORANIMIZ VAR."
   ]
  },
  {
   "cell_type": "code",
   "execution_count": null,
   "id": "88bafb1b-d3cd-42cd-a351-3c56d45752f1",
   "metadata": {},
   "outputs": [],
   "source": []
  },
  {
   "cell_type": "code",
   "execution_count": null,
   "id": "fbcb34b8-146c-4b7a-993e-c71c610fa25f",
   "metadata": {},
   "outputs": [],
   "source": []
  },
  {
   "cell_type": "code",
   "execution_count": null,
   "id": "f14ff5bc-369a-49a0-8c12-fb6dfbe84b7a",
   "metadata": {},
   "outputs": [],
   "source": []
  },
  {
   "cell_type": "code",
   "execution_count": null,
   "id": "bbdf0321-2716-4894-922a-f48dfb92bee8",
   "metadata": {},
   "outputs": [],
   "source": []
  },
  {
   "cell_type": "code",
   "execution_count": null,
   "id": "beae92cb-7aa8-44a4-bea5-d2724a784c79",
   "metadata": {},
   "outputs": [],
   "source": []
  }
 ],
 "metadata": {
  "kernelspec": {
   "display_name": "Python 3 (ipykernel)",
   "language": "python",
   "name": "python3"
  },
  "language_info": {
   "codemirror_mode": {
    "name": "ipython",
    "version": 3
   },
   "file_extension": ".py",
   "mimetype": "text/x-python",
   "name": "python",
   "nbconvert_exporter": "python",
   "pygments_lexer": "ipython3",
   "version": "3.10.18"
  }
 },
 "nbformat": 4,
 "nbformat_minor": 5
}
